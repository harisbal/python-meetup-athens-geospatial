{
 "cells": [
  {
   "cell_type": "code",
   "execution_count": null,
   "metadata": {},
   "outputs": [],
   "source": [
    "import os\n",
    "import logging\n",
    "import osmnx as ox\n",
    "import numpy as np\n",
    "import pandas as pd\n",
    "import geopandas as gpd\n",
    "import h3\n",
    "import shapely\n",
    "import requests\n",
    "import plotly.express as px\n",
    "from tqdm.notebook import tqdm\n",
    "from pyproj import Transformer\n",
    "from shapely.ops import linemerge\n",
    "from shapely import Polygon, Point\n",
    "from pyogrio.errors import DataSourceError\n",
    "\n",
    "ox.settings.cache_folder = './data'"
   ]
  },
  {
   "cell_type": "markdown",
   "id": "43e41d00",
   "metadata": {},
   "source": [
    "## functions"
   ]
  },
  {
   "cell_type": "code",
   "execution_count": null,
   "id": "81254b01",
   "metadata": {},
   "outputs": [],
   "source": [
    "def fetch_google_places(categories:list[str], lon:float, lat:float, radius:float, apikey:str):\n",
    "    \n",
    "    max_results = 20\n",
    "\n",
    "    headers = {\n",
    "        \"Content-Type\": \"application/json\",\n",
    "        \"X-Goog-Api-Key\": apikey,\n",
    "        \"X-Goog-FieldMask\": \"places.id,places.displayName,places.location,places.businessStatus,places.formattedAddress,places.primaryTypeDisplayName,places.primaryType\",\n",
    "    }\n",
    "    url = \"https://places.googleapis.com/v1/places:searchNearby\"\n",
    "\n",
    "    data = {\n",
    "            \"includedTypes\": categories,\n",
    "            \"maxResultCount\": max_results,\n",
    "            \"locationRestriction\": {\n",
    "                \"circle\": {\n",
    "                    \"center\": {\"latitude\": lat, \"longitude\": lon},\n",
    "                    \"radius\": radius,\n",
    "                }\n",
    "            },\n",
    "        }\n",
    "    \n",
    "    r = requests.post(url, headers=headers, json=data)\n",
    "    if r.status_code != 200:\n",
    "        logging.warning(f\"error at request: {r.request}\")\n",
    "        return\n",
    "\n",
    "    data = r.json().get('places', [])\n",
    "    if not data:\n",
    "        return data\n",
    "\n",
    "    if len(data) >= max_results:\n",
    "        logging.warning(f'query at lon:{lon}, lat:{lat} returned 20+ results')\n",
    "    \n",
    "    for r in data:\n",
    "        r['name'] = r['displayName']['text']\n",
    "        r['geometry'] = Point(r['location']['longitude'], r['location']['latitude'])\n",
    "\n",
    "    return data\n",
    "\n"
   ]
  },
  {
   "cell_type": "code",
   "execution_count": null,
   "id": "12e3d402",
   "metadata": {},
   "outputs": [],
   "source": [
    "def h3cell_to_shapely_polygon(cell:str):\n",
    "    coords = h3.cell_to_boundary(cell)\n",
    "    flipped = tuple(coord[::-1] for coord in coords)\n",
    "    return Polygon(flipped)"
   ]
  },
  {
   "cell_type": "markdown",
   "id": "6abff99b",
   "metadata": {},
   "source": [
    "## inputs"
   ]
  },
  {
   "cell_type": "code",
   "execution_count": null,
   "id": "b5b68b9b",
   "metadata": {},
   "outputs": [],
   "source": [
    "apikey = os.getenv(\"GOOGLE_API_KEY\")\n",
    "radius = 200\n",
    "step = 60\n",
    "buffer = 30\n",
    "categories = ['cafe', 'bakery']\n",
    "map_style = \"open-street-map\""
   ]
  },
  {
   "cell_type": "markdown",
   "id": "3984f0da",
   "metadata": {},
   "source": [
    "# Geospatial Analysis"
   ]
  },
  {
   "cell_type": "markdown",
   "id": "9cea7577",
   "metadata": {},
   "source": [
    "## download network (roads)"
   ]
  },
  {
   "cell_type": "code",
   "execution_count": null,
   "id": "670aab51",
   "metadata": {},
   "outputs": [],
   "source": [
    "bbox = [23.7576, 37.8524, 23.7729, 37.899]\n",
    "g = ox.graph_from_bbox(bbox) # we can modify filters\n",
    "nodes, links = ox.graph_to_gdfs(g)"
   ]
  },
  {
   "cell_type": "markdown",
   "id": "f766010a",
   "metadata": {},
   "source": [
    "## create the linestring geometry"
   ]
  },
  {
   "cell_type": "code",
   "execution_count": null,
   "id": "6d0208c6",
   "metadata": {},
   "outputs": [],
   "source": [
    "road = links[links['name'] == 'Δημητρίου Γούναρη']\n",
    "crs = road.estimate_utm_crs()\n",
    "geom_proj = road.to_crs(crs).union_all()\n",
    "geoms_proj = gpd.GeoDataFrame(geometry=[linemerge(geom_proj)]).explode()\n",
    "geoms_proj['length'] = geoms_proj.length\n",
    "geom_proj = geoms_proj.sort_values(['length'], ascending=False).iloc[0].geometry\n",
    "road_buffered = road.to_crs(crs).buffer(buffer).to_crs(epsg=4326).union_all()"
   ]
  },
  {
   "cell_type": "code",
   "execution_count": null,
   "id": "19944263",
   "metadata": {},
   "outputs": [],
   "source": [
    "fp = './data/cafes.gpkg'\n",
    "length = geom_proj.length\n",
    "\n",
    "try:\n",
    "    gdf = gpd.read_file(fp)\n",
    "except DataSourceError:\n",
    "    places = []\n",
    "    transformer = Transformer.from_crs(crs, \"EPSG:4326\", always_xy=True)\n",
    "    for distance in tqdm(np.arange(0, length, step)):\n",
    "        p = shapely.line_interpolate_point(geom_proj, distance) # type:ignore\n",
    "        p = transformer.transform(p.x, p.y)\n",
    "        p = shapely.Point(p[0], p[1])\n",
    "        r = fetch_google_places(categories, p.x, p.y, radius, apikey)\n",
    "        if r is not None:\n",
    "            places.extend(r)\n",
    "\n",
    "    gdf = gpd.GeoDataFrame(places, crs='epsg:4326').drop_duplicates(subset=['id'])\n",
    "    gdf['inbuffer'] = gdf.intersects(road_buffered) # keep cafes up to 30 meters from the road (inside the buffer)\n",
    "    gdf.to_file(fp)    "
   ]
  },
  {
   "cell_type": "code",
   "execution_count": null,
   "id": "3a66f060",
   "metadata": {},
   "outputs": [],
   "source": [
    "road"
   ]
  },
  {
   "cell_type": "code",
   "execution_count": null,
   "id": "ffd19a4b",
   "metadata": {},
   "outputs": [],
   "source": [
    "gdf['inbuffer'] = gdf.intersects(road_buffered) # keep cafes up to 30 meters from the road (inside the buffer)\n",
    "cafes = gdf[gdf['inbuffer']]\n",
    "cafes.head(2)"
   ]
  },
  {
   "cell_type": "markdown",
   "id": "8b9b2b74",
   "metadata": {},
   "source": [
    "## stats / visuals"
   ]
  },
  {
   "cell_type": "code",
   "execution_count": null,
   "id": "f76e2903",
   "metadata": {},
   "outputs": [],
   "source": [
    "fig = px.scatter_map(gdf, lat=gdf.geometry.y, lon=gdf.geometry.x, color='inbuffer', text='name', hover_name=\"name\", zoom=12, map_style=map_style)\n",
    "fig.show()"
   ]
  },
  {
   "cell_type": "code",
   "execution_count": null,
   "id": "4b95eb4f",
   "metadata": {},
   "outputs": [],
   "source": [
    "fig = px.density_map(cafes, lat=cafes.geometry.y, lon=cafes.geometry.x, radius=12, zoom=12, map_style=map_style, width=600)\n",
    "fig.show()"
   ]
  },
  {
   "cell_type": "code",
   "execution_count": null,
   "id": "f6d9c0de",
   "metadata": {},
   "outputs": [],
   "source": [
    "f'One cafe every: {length / cafes.shape[0]:.0f}m'"
   ]
  },
  {
   "cell_type": "markdown",
   "id": "158dfd37",
   "metadata": {},
   "source": [
    "### Distance between cafes (distance matrix)"
   ]
  },
  {
   "cell_type": "code",
   "execution_count": null,
   "id": "a2a9e159",
   "metadata": {},
   "outputs": [],
   "source": [
    "gdf = cafes.to_crs(crs) # project the coordinates\n",
    "\n",
    "dists = []\n",
    "for i, g in gdf.iterrows():\n",
    "    geom = g.geometry\n",
    "    d = gdf.distance(geom).tolist()\n",
    "    dists.append(d)\n",
    "\n",
    "dists = pd.DataFrame(dists, index=gdf.index, columns=gdf.index).round(2)\n",
    "dists"
   ]
  },
  {
   "cell_type": "code",
   "execution_count": null,
   "id": "41e07cf3",
   "metadata": {},
   "outputs": [],
   "source": [
    "nearests = gdf.sjoin_nearest(gdf, distance_col='sdist', exclusive=True)[['id_left', 'id_right', 'sdist']]\n",
    "nearests['sdist'].mean()"
   ]
  },
  {
   "cell_type": "code",
   "execution_count": null,
   "id": "d5bfb360",
   "metadata": {},
   "outputs": [],
   "source": [
    "cafes[cafes.id.isin(['ChIJgcEWYU6_oRQR-cd2bf6di68', 'ChIJ78DvEB2-oRQRJRLxgttGeas'])]"
   ]
  },
  {
   "cell_type": "markdown",
   "id": "5be67f8f",
   "metadata": {},
   "source": [
    "### spatial grouping (h3)"
   ]
  },
  {
   "cell_type": "code",
   "execution_count": null,
   "id": "33b8d20c",
   "metadata": {},
   "outputs": [],
   "source": [
    "box = shapely.box(*bbox)\n",
    "coords = [list(box.exterior.coords)]\n",
    "cells = h3.geo_to_cells(box, res=10)\n",
    "cells = [{'h3id': cell, 'geometry': h3cell_to_shapely_polygon(cell)} for cell in cells]\n",
    "cells = gpd.GeoDataFrame(cells, crs='epsg:4326')\n",
    "cells.head(2)\n",
    "px.choropleth_map(cells, geojson=cells.geometry, locations=cells.index,\n",
    "                  center={'lat': box.centroid.y, 'lon': box.centroid.x}, zoom=11.5,\n",
    "                  map_style=map_style)"
   ]
  },
  {
   "cell_type": "code",
   "execution_count": null,
   "id": "13082f58",
   "metadata": {},
   "outputs": [],
   "source": [
    "counts = gpd.sjoin(cells, cafes, predicate='contains').groupby(['h3id', 'geometry'], as_index=False)['index_right'].count()\n",
    "counts = counts.rename(columns={'index_right':'count'})\n",
    "counts = gpd.GeoDataFrame(counts) # groupby casts to pd.DataFrame\n",
    "px.choropleth_map(counts, geojson=counts.geometry, locations=counts.index,\n",
    "                  color='count', color_continuous_scale=px.colors.sequential.Reds,\n",
    "                  center={'lat': box.centroid.y, 'lon': box.centroid.x}, zoom=11.5,\n",
    "                  title='Concentration of cafes (H3 cells)', map_style=map_style)"
   ]
  },
  {
   "cell_type": "code",
   "execution_count": null,
   "id": "89ff055e",
   "metadata": {},
   "outputs": [],
   "source": []
  }
 ],
 "metadata": {
  "kernelspec": {
   "display_name": "python-meetup",
   "language": "python",
   "name": "python3"
  },
  "language_info": {
   "codemirror_mode": {
    "name": "ipython",
    "version": 3
   },
   "file_extension": ".py",
   "mimetype": "text/x-python",
   "name": "python",
   "nbconvert_exporter": "python",
   "pygments_lexer": "ipython3",
   "version": "3.11.11"
  }
 },
 "nbformat": 4,
 "nbformat_minor": 5
}
