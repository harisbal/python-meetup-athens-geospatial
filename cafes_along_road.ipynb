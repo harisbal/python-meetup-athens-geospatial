{
 "cells": [
  {
   "cell_type": "code",
   "execution_count": 2,
   "metadata": {},
   "outputs": [],
   "source": [
    "import os\n",
    "import logging\n",
    "import osmnx as ox\n",
    "import numpy as np\n",
    "import pandas as pd\n",
    "import geopandas as gpd\n",
    "import h3\n",
    "import shapely\n",
    "import requests\n",
    "import plotly.express as px\n",
    "from tqdm.notebook import tqdm\n",
    "from pyproj import Transformer\n",
    "from shapely.ops import linemerge\n",
    "from shapely import Polygon, Point\n",
    "from pyogrio.errors import DataSourceError\n",
    "\n",
    "ox.settings.cache_folder = './data'"
   ]
  },
  {
   "cell_type": "markdown",
   "id": "43e41d00",
   "metadata": {},
   "source": [
    "## functions"
   ]
  },
  {
   "cell_type": "code",
   "execution_count": 3,
   "id": "81254b01",
   "metadata": {},
   "outputs": [],
   "source": [
    "def fetch_google_places(categories:list[str], lon:float, lat:float, radius:float, apikey:str):\n",
    "    \n",
    "    max_results = 20\n",
    "\n",
    "    headers = {\n",
    "        \"Content-Type\": \"application/json\",\n",
    "        \"X-Goog-Api-Key\": apikey,\n",
    "        \"X-Goog-FieldMask\": \"places.id,places.displayName,places.location,places.businessStatus,places.formattedAddress,places.primaryTypeDisplayName,places.primaryType\",\n",
    "    }\n",
    "    url = \"https://places.googleapis.com/v1/places:searchNearby\"\n",
    "\n",
    "    data = {\n",
    "            \"includedTypes\": categories,\n",
    "            \"maxResultCount\": max_results,\n",
    "            \"locationRestriction\": {\n",
    "                \"circle\": {\n",
    "                    \"center\": {\"latitude\": lat, \"longitude\": lon},\n",
    "                    \"radius\": radius,\n",
    "                }\n",
    "            },\n",
    "        }\n",
    "    \n",
    "    r = requests.post(url, headers=headers, json=data)\n",
    "    if r.status_code != 200:\n",
    "        logging.warning(f\"error at request: {r.request}\")\n",
    "        return\n",
    "\n",
    "    data = r.json().get('places', [])\n",
    "    if not data:\n",
    "        return data\n",
    "\n",
    "    if len(data) >= max_results:\n",
    "        logging.warning(f'query at lon:{lon}, lat:{lat} returned 20+ results')\n",
    "    \n",
    "    for r in data:\n",
    "        r['name'] = r['displayName']['text']\n",
    "        r['geometry'] = Point(r['location']['longitude'], r['location']['latitude'])\n",
    "\n",
    "    return data\n",
    "\n"
   ]
  },
  {
   "cell_type": "code",
   "execution_count": 4,
   "id": "12e3d402",
   "metadata": {},
   "outputs": [],
   "source": [
    "def h3cell_to_shapely_polygon(cell:str):\n",
    "    coords = h3.cell_to_boundary(cell)\n",
    "    flipped = tuple(coord[::-1] for coord in coords)\n",
    "    return Polygon(flipped)"
   ]
  },
  {
   "cell_type": "markdown",
   "id": "6abff99b",
   "metadata": {},
   "source": [
    "## inputs"
   ]
  },
  {
   "cell_type": "code",
   "execution_count": 5,
   "id": "b5b68b9b",
   "metadata": {},
   "outputs": [],
   "source": [
    "apikey = os.getenv(\"GOOGLE_API_KEY\")\n",
    "radius = 200\n",
    "step = 60\n",
    "buffer = 30\n",
    "categories = ['cafe', 'bakery']\n",
    "map_style = \"open-street-map\""
   ]
  },
  {
   "cell_type": "markdown",
   "id": "3984f0da",
   "metadata": {},
   "source": [
    "# Geospatial Analysis"
   ]
  },
  {
   "cell_type": "markdown",
   "id": "9cea7577",
   "metadata": {},
   "source": [
    "## download network (roads)"
   ]
  },
  {
   "cell_type": "code",
   "execution_count": 6,
   "id": "670aab51",
   "metadata": {},
   "outputs": [],
   "source": [
    "bbox = [23.7576, 37.8524, 23.7729, 37.899]\n",
    "g = ox.graph_from_bbox(bbox) # we can modify filters\n",
    "nodes, links = ox.graph_to_gdfs(g)"
   ]
  },
  {
   "cell_type": "markdown",
   "id": "f766010a",
   "metadata": {},
   "source": [
    "## create the linestring geometry"
   ]
  },
  {
   "cell_type": "code",
   "execution_count": 12,
   "id": "6d0208c6",
   "metadata": {},
   "outputs": [],
   "source": [
    "road = links[links['name'] == 'Δημητρίου Γούναρη']\n",
    "crs = road.estimate_utm_crs()\n",
    "geom_proj = road.to_crs(crs).union_all()\n",
    "geoms_proj = gpd.GeoDataFrame(geometry=[linemerge(geom_proj)]).explode()\n",
    "geoms_proj['length'] = geoms_proj.length\n",
    "geom_proj = geoms_proj.sort_values(['length'], ascending=False).iloc[0].geometry\n",
    "road_buffered = road.to_crs(crs).buffer(buffer).to_crs(epsg=4326).union_all()"
   ]
  },
  {
   "cell_type": "code",
   "execution_count": 15,
   "id": "19944263",
   "metadata": {},
   "outputs": [],
   "source": [
    "fp = './data/cafes.gpkg'\n",
    "length = geom_proj.length\n",
    "\n",
    "try:\n",
    "    gdf = gpd.read_file(fp)\n",
    "except DataSourceError:\n",
    "    places = []\n",
    "    transformer = Transformer.from_crs(crs, \"EPSG:4326\", always_xy=True)\n",
    "    for distance in tqdm(np.arange(0, length, step)):\n",
    "        p = shapely.line_interpolate_point(geom_proj, distance) # type:ignore\n",
    "        p = transformer.transform(p.x, p.y)\n",
    "        p = shapely.Point(p[0], p[1])\n",
    "        r = fetch_google_places(categories, p.x, p.y, radius, apikey)\n",
    "        if r is not None:\n",
    "            places.extend(r)\n",
    "\n",
    "    gdf = gpd.GeoDataFrame(places, crs='epsg:4326').drop_duplicates(subset=['id'])\n",
    "    gdf['inbuffer'] = gdf.intersects(road_buffered) # keep cafes up to 30 meters from the road (inside the buffer)\n",
    "    gdf.to_file(fp)    "
   ]
  },
  {
   "cell_type": "code",
   "execution_count": 18,
   "id": "3a66f060",
   "metadata": {},
   "outputs": [
    {
     "data": {
      "text/html": [
       "<div>\n",
       "<style scoped>\n",
       "    .dataframe tbody tr th:only-of-type {\n",
       "        vertical-align: middle;\n",
       "    }\n",
       "\n",
       "    .dataframe tbody tr th {\n",
       "        vertical-align: top;\n",
       "    }\n",
       "\n",
       "    .dataframe thead th {\n",
       "        text-align: right;\n",
       "    }\n",
       "</style>\n",
       "<table border=\"1\" class=\"dataframe\">\n",
       "  <thead>\n",
       "    <tr style=\"text-align: right;\">\n",
       "      <th></th>\n",
       "      <th></th>\n",
       "      <th></th>\n",
       "      <th>osmid</th>\n",
       "      <th>highway</th>\n",
       "      <th>lanes</th>\n",
       "      <th>name</th>\n",
       "      <th>oneway</th>\n",
       "      <th>reversed</th>\n",
       "      <th>length</th>\n",
       "      <th>geometry</th>\n",
       "      <th>maxspeed</th>\n",
       "      <th>junction</th>\n",
       "      <th>access</th>\n",
       "      <th>service</th>\n",
       "      <th>width</th>\n",
       "      <th>tunnel</th>\n",
       "    </tr>\n",
       "    <tr>\n",
       "      <th>u</th>\n",
       "      <th>v</th>\n",
       "      <th>key</th>\n",
       "      <th></th>\n",
       "      <th></th>\n",
       "      <th></th>\n",
       "      <th></th>\n",
       "      <th></th>\n",
       "      <th></th>\n",
       "      <th></th>\n",
       "      <th></th>\n",
       "      <th></th>\n",
       "      <th></th>\n",
       "      <th></th>\n",
       "      <th></th>\n",
       "      <th></th>\n",
       "      <th></th>\n",
       "    </tr>\n",
       "  </thead>\n",
       "  <tbody>\n",
       "    <tr>\n",
       "      <th>269431727</th>\n",
       "      <th>5613525029</th>\n",
       "      <th>0</th>\n",
       "      <td>259190379</td>\n",
       "      <td>secondary</td>\n",
       "      <td>2</td>\n",
       "      <td>Δημητρίου Γούναρη</td>\n",
       "      <td>False</td>\n",
       "      <td>True</td>\n",
       "      <td>48.902729</td>\n",
       "      <td>LINESTRING (23.76116 37.89531, 23.7612 37.8949...</td>\n",
       "      <td>NaN</td>\n",
       "      <td>NaN</td>\n",
       "      <td>NaN</td>\n",
       "      <td>NaN</td>\n",
       "      <td>NaN</td>\n",
       "      <td>NaN</td>\n",
       "    </tr>\n",
       "    <tr>\n",
       "      <th rowspan=\"2\" valign=\"top\">269431804</th>\n",
       "      <th>1127993262</th>\n",
       "      <th>0</th>\n",
       "      <td>259190379</td>\n",
       "      <td>secondary</td>\n",
       "      <td>2</td>\n",
       "      <td>Δημητρίου Γούναρη</td>\n",
       "      <td>False</td>\n",
       "      <td>False</td>\n",
       "      <td>43.561884</td>\n",
       "      <td>LINESTRING (23.76103 37.89391, 23.76111 37.8943)</td>\n",
       "      <td>NaN</td>\n",
       "      <td>NaN</td>\n",
       "      <td>NaN</td>\n",
       "      <td>NaN</td>\n",
       "      <td>NaN</td>\n",
       "      <td>NaN</td>\n",
       "    </tr>\n",
       "    <tr>\n",
       "      <th>269438987</th>\n",
       "      <th>0</th>\n",
       "      <td>259190379</td>\n",
       "      <td>secondary</td>\n",
       "      <td>2</td>\n",
       "      <td>Δημητρίου Γούναρη</td>\n",
       "      <td>False</td>\n",
       "      <td>True</td>\n",
       "      <td>59.459336</td>\n",
       "      <td>LINESTRING (23.76103 37.89391, 23.76091 37.89339)</td>\n",
       "      <td>NaN</td>\n",
       "      <td>NaN</td>\n",
       "      <td>NaN</td>\n",
       "      <td>NaN</td>\n",
       "      <td>NaN</td>\n",
       "      <td>NaN</td>\n",
       "    </tr>\n",
       "    <tr>\n",
       "      <th rowspan=\"2\" valign=\"top\">269432478</th>\n",
       "      <th>4370530165</th>\n",
       "      <th>0</th>\n",
       "      <td>1223427873</td>\n",
       "      <td>secondary</td>\n",
       "      <td>2</td>\n",
       "      <td>Δημητρίου Γούναρη</td>\n",
       "      <td>False</td>\n",
       "      <td>True</td>\n",
       "      <td>6.358468</td>\n",
       "      <td>LINESTRING (23.76069 37.89249, 23.76069 37.89243)</td>\n",
       "      <td>NaN</td>\n",
       "      <td>NaN</td>\n",
       "      <td>NaN</td>\n",
       "      <td>NaN</td>\n",
       "      <td>NaN</td>\n",
       "      <td>NaN</td>\n",
       "    </tr>\n",
       "    <tr>\n",
       "      <th>269438938</th>\n",
       "      <th>0</th>\n",
       "      <td>331804280</td>\n",
       "      <td>secondary</td>\n",
       "      <td>2</td>\n",
       "      <td>Δημητρίου Γούναρη</td>\n",
       "      <td>False</td>\n",
       "      <td>False</td>\n",
       "      <td>23.332866</td>\n",
       "      <td>LINESTRING (23.76069 37.89249, 23.76069 37.892...</td>\n",
       "      <td>NaN</td>\n",
       "      <td>NaN</td>\n",
       "      <td>NaN</td>\n",
       "      <td>NaN</td>\n",
       "      <td>NaN</td>\n",
       "      <td>NaN</td>\n",
       "    </tr>\n",
       "    <tr>\n",
       "      <th>...</th>\n",
       "      <th>...</th>\n",
       "      <th>...</th>\n",
       "      <td>...</td>\n",
       "      <td>...</td>\n",
       "      <td>...</td>\n",
       "      <td>...</td>\n",
       "      <td>...</td>\n",
       "      <td>...</td>\n",
       "      <td>...</td>\n",
       "      <td>...</td>\n",
       "      <td>...</td>\n",
       "      <td>...</td>\n",
       "      <td>...</td>\n",
       "      <td>...</td>\n",
       "      <td>...</td>\n",
       "      <td>...</td>\n",
       "    </tr>\n",
       "    <tr>\n",
       "      <th>9875151832</th>\n",
       "      <th>269435571</th>\n",
       "      <th>0</th>\n",
       "      <td>459349888</td>\n",
       "      <td>secondary</td>\n",
       "      <td>2</td>\n",
       "      <td>Δημητρίου Γούναρη</td>\n",
       "      <td>False</td>\n",
       "      <td>False</td>\n",
       "      <td>21.293923</td>\n",
       "      <td>LINESTRING (23.76321 37.88197, 23.76317 37.882...</td>\n",
       "      <td>NaN</td>\n",
       "      <td>NaN</td>\n",
       "      <td>NaN</td>\n",
       "      <td>NaN</td>\n",
       "      <td>NaN</td>\n",
       "      <td>NaN</td>\n",
       "    </tr>\n",
       "    <tr>\n",
       "      <th rowspan=\"2\" valign=\"top\">9875151835</th>\n",
       "      <th>9875151832</th>\n",
       "      <th>0</th>\n",
       "      <td>459349888</td>\n",
       "      <td>secondary</td>\n",
       "      <td>2</td>\n",
       "      <td>Δημητρίου Γούναρη</td>\n",
       "      <td>False</td>\n",
       "      <td>False</td>\n",
       "      <td>39.318258</td>\n",
       "      <td>LINESTRING (23.76333 37.88163, 23.76321 37.88197)</td>\n",
       "      <td>NaN</td>\n",
       "      <td>NaN</td>\n",
       "      <td>NaN</td>\n",
       "      <td>NaN</td>\n",
       "      <td>NaN</td>\n",
       "      <td>NaN</td>\n",
       "    </tr>\n",
       "    <tr>\n",
       "      <th>269435572</th>\n",
       "      <th>0</th>\n",
       "      <td>459349888</td>\n",
       "      <td>secondary</td>\n",
       "      <td>2</td>\n",
       "      <td>Δημητρίου Γούναρη</td>\n",
       "      <td>False</td>\n",
       "      <td>True</td>\n",
       "      <td>32.808225</td>\n",
       "      <td>LINESTRING (23.76333 37.88163, 23.76343 37.88135)</td>\n",
       "      <td>NaN</td>\n",
       "      <td>NaN</td>\n",
       "      <td>NaN</td>\n",
       "      <td>NaN</td>\n",
       "      <td>NaN</td>\n",
       "      <td>NaN</td>\n",
       "    </tr>\n",
       "    <tr>\n",
       "      <th rowspan=\"2\" valign=\"top\">11138476961</th>\n",
       "      <th>269592684</th>\n",
       "      <th>0</th>\n",
       "      <td>169052716</td>\n",
       "      <td>secondary</td>\n",
       "      <td>2</td>\n",
       "      <td>Δημητρίου Γούναρη</td>\n",
       "      <td>False</td>\n",
       "      <td>False</td>\n",
       "      <td>6.397749</td>\n",
       "      <td>LINESTRING (23.76831 37.86503, 23.76829 37.86509)</td>\n",
       "      <td>NaN</td>\n",
       "      <td>NaN</td>\n",
       "      <td>NaN</td>\n",
       "      <td>NaN</td>\n",
       "      <td>NaN</td>\n",
       "      <td>NaN</td>\n",
       "    </tr>\n",
       "    <tr>\n",
       "      <th>269593878</th>\n",
       "      <th>0</th>\n",
       "      <td>169052716</td>\n",
       "      <td>secondary</td>\n",
       "      <td>2</td>\n",
       "      <td>Δημητρίου Γούναρη</td>\n",
       "      <td>False</td>\n",
       "      <td>True</td>\n",
       "      <td>79.061465</td>\n",
       "      <td>LINESTRING (23.76831 37.86503, 23.76837 37.864...</td>\n",
       "      <td>NaN</td>\n",
       "      <td>NaN</td>\n",
       "      <td>NaN</td>\n",
       "      <td>NaN</td>\n",
       "      <td>NaN</td>\n",
       "      <td>NaN</td>\n",
       "    </tr>\n",
       "  </tbody>\n",
       "</table>\n",
       "<p>199 rows × 14 columns</p>\n",
       "</div>"
      ],
      "text/plain": [
       "                                 osmid    highway lanes               name  \\\n",
       "u           v          key                                                   \n",
       "269431727   5613525029 0     259190379  secondary     2  Δημητρίου Γούναρη   \n",
       "269431804   1127993262 0     259190379  secondary     2  Δημητρίου Γούναρη   \n",
       "            269438987  0     259190379  secondary     2  Δημητρίου Γούναρη   \n",
       "269432478   4370530165 0    1223427873  secondary     2  Δημητρίου Γούναρη   \n",
       "            269438938  0     331804280  secondary     2  Δημητρίου Γούναρη   \n",
       "...                                ...        ...   ...                ...   \n",
       "9875151832  269435571  0     459349888  secondary     2  Δημητρίου Γούναρη   \n",
       "9875151835  9875151832 0     459349888  secondary     2  Δημητρίου Γούναρη   \n",
       "            269435572  0     459349888  secondary     2  Δημητρίου Γούναρη   \n",
       "11138476961 269592684  0     169052716  secondary     2  Δημητρίου Γούναρη   \n",
       "            269593878  0     169052716  secondary     2  Δημητρίου Γούναρη   \n",
       "\n",
       "                            oneway reversed     length  \\\n",
       "u           v          key                               \n",
       "269431727   5613525029 0     False     True  48.902729   \n",
       "269431804   1127993262 0     False    False  43.561884   \n",
       "            269438987  0     False     True  59.459336   \n",
       "269432478   4370530165 0     False     True   6.358468   \n",
       "            269438938  0     False    False  23.332866   \n",
       "...                            ...      ...        ...   \n",
       "9875151832  269435571  0     False    False  21.293923   \n",
       "9875151835  9875151832 0     False    False  39.318258   \n",
       "            269435572  0     False     True  32.808225   \n",
       "11138476961 269592684  0     False    False   6.397749   \n",
       "            269593878  0     False     True  79.061465   \n",
       "\n",
       "                                                                     geometry  \\\n",
       "u           v          key                                                      \n",
       "269431727   5613525029 0    LINESTRING (23.76116 37.89531, 23.7612 37.8949...   \n",
       "269431804   1127993262 0     LINESTRING (23.76103 37.89391, 23.76111 37.8943)   \n",
       "            269438987  0    LINESTRING (23.76103 37.89391, 23.76091 37.89339)   \n",
       "269432478   4370530165 0    LINESTRING (23.76069 37.89249, 23.76069 37.89243)   \n",
       "            269438938  0    LINESTRING (23.76069 37.89249, 23.76069 37.892...   \n",
       "...                                                                       ...   \n",
       "9875151832  269435571  0    LINESTRING (23.76321 37.88197, 23.76317 37.882...   \n",
       "9875151835  9875151832 0    LINESTRING (23.76333 37.88163, 23.76321 37.88197)   \n",
       "            269435572  0    LINESTRING (23.76333 37.88163, 23.76343 37.88135)   \n",
       "11138476961 269592684  0    LINESTRING (23.76831 37.86503, 23.76829 37.86509)   \n",
       "            269593878  0    LINESTRING (23.76831 37.86503, 23.76837 37.864...   \n",
       "\n",
       "                           maxspeed junction access service width tunnel  \n",
       "u           v          key                                                \n",
       "269431727   5613525029 0        NaN      NaN    NaN     NaN   NaN    NaN  \n",
       "269431804   1127993262 0        NaN      NaN    NaN     NaN   NaN    NaN  \n",
       "            269438987  0        NaN      NaN    NaN     NaN   NaN    NaN  \n",
       "269432478   4370530165 0        NaN      NaN    NaN     NaN   NaN    NaN  \n",
       "            269438938  0        NaN      NaN    NaN     NaN   NaN    NaN  \n",
       "...                             ...      ...    ...     ...   ...    ...  \n",
       "9875151832  269435571  0        NaN      NaN    NaN     NaN   NaN    NaN  \n",
       "9875151835  9875151832 0        NaN      NaN    NaN     NaN   NaN    NaN  \n",
       "            269435572  0        NaN      NaN    NaN     NaN   NaN    NaN  \n",
       "11138476961 269592684  0        NaN      NaN    NaN     NaN   NaN    NaN  \n",
       "            269593878  0        NaN      NaN    NaN     NaN   NaN    NaN  \n",
       "\n",
       "[199 rows x 14 columns]"
      ]
     },
     "execution_count": 18,
     "metadata": {},
     "output_type": "execute_result"
    }
   ],
   "source": [
    "road"
   ]
  },
  {
   "cell_type": "code",
   "execution_count": 16,
   "id": "ffd19a4b",
   "metadata": {},
   "outputs": [
    {
     "data": {
      "text/html": [
       "<div>\n",
       "<style scoped>\n",
       "    .dataframe tbody tr th:only-of-type {\n",
       "        vertical-align: middle;\n",
       "    }\n",
       "\n",
       "    .dataframe tbody tr th {\n",
       "        vertical-align: top;\n",
       "    }\n",
       "\n",
       "    .dataframe thead th {\n",
       "        text-align: right;\n",
       "    }\n",
       "</style>\n",
       "<table border=\"1\" class=\"dataframe\">\n",
       "  <thead>\n",
       "    <tr style=\"text-align: right;\">\n",
       "      <th></th>\n",
       "      <th>id</th>\n",
       "      <th>formattedAddress</th>\n",
       "      <th>location</th>\n",
       "      <th>businessStatus</th>\n",
       "      <th>displayName</th>\n",
       "      <th>primaryTypeDisplayName</th>\n",
       "      <th>primaryType</th>\n",
       "      <th>name</th>\n",
       "      <th>inbuffer</th>\n",
       "      <th>geometry</th>\n",
       "    </tr>\n",
       "  </thead>\n",
       "  <tbody>\n",
       "    <tr>\n",
       "      <th>1</th>\n",
       "      <td>ChIJgcEWYU6_oRQR-cd2bf6di68</td>\n",
       "      <td>Attikis 1, Glifada 165 62, Greece</td>\n",
       "      <td>{'latitude': 37.894874, 'longitude': 23.761325...</td>\n",
       "      <td>OPERATIONAL</td>\n",
       "      <td>{'text': 'coffee berry - Άνω Γλυφάδα', 'langua...</td>\n",
       "      <td>{'text': 'Coffee Shop', 'languageCode': 'en-US'}</td>\n",
       "      <td>coffee_shop</td>\n",
       "      <td>coffee berry - Άνω Γλυφάδα</td>\n",
       "      <td>True</td>\n",
       "      <td>POINT (23.76133 37.89487)</td>\n",
       "    </tr>\n",
       "    <tr>\n",
       "      <th>2</th>\n",
       "      <td>ChIJgSMfxKu_oRQRDDje9yAhZfM</td>\n",
       "      <td>Dim. Gounari 24, Elliniko 167 77, Greece</td>\n",
       "      <td>{'latitude': 37.893558399999996, 'longitude': ...</td>\n",
       "      <td>OPERATIONAL</td>\n",
       "      <td>{'text': 'ROSEWOOD COFFEE HOUSE', 'languageCod...</td>\n",
       "      <td>{'text': 'Coffee Shop', 'languageCode': 'en-US'}</td>\n",
       "      <td>coffee_shop</td>\n",
       "      <td>ROSEWOOD COFFEE HOUSE</td>\n",
       "      <td>True</td>\n",
       "      <td>POINT (23.76089 37.89356)</td>\n",
       "    </tr>\n",
       "  </tbody>\n",
       "</table>\n",
       "</div>"
      ],
      "text/plain": [
       "                            id                          formattedAddress  \\\n",
       "1  ChIJgcEWYU6_oRQR-cd2bf6di68         Attikis 1, Glifada 165 62, Greece   \n",
       "2  ChIJgSMfxKu_oRQRDDje9yAhZfM  Dim. Gounari 24, Elliniko 167 77, Greece   \n",
       "\n",
       "                                            location businessStatus  \\\n",
       "1  {'latitude': 37.894874, 'longitude': 23.761325...    OPERATIONAL   \n",
       "2  {'latitude': 37.893558399999996, 'longitude': ...    OPERATIONAL   \n",
       "\n",
       "                                         displayName  \\\n",
       "1  {'text': 'coffee berry - Άνω Γλυφάδα', 'langua...   \n",
       "2  {'text': 'ROSEWOOD COFFEE HOUSE', 'languageCod...   \n",
       "\n",
       "                             primaryTypeDisplayName  primaryType  \\\n",
       "1  {'text': 'Coffee Shop', 'languageCode': 'en-US'}  coffee_shop   \n",
       "2  {'text': 'Coffee Shop', 'languageCode': 'en-US'}  coffee_shop   \n",
       "\n",
       "                         name  inbuffer                   geometry  \n",
       "1  coffee berry - Άνω Γλυφάδα      True  POINT (23.76133 37.89487)  \n",
       "2       ROSEWOOD COFFEE HOUSE      True  POINT (23.76089 37.89356)  "
      ]
     },
     "execution_count": 16,
     "metadata": {},
     "output_type": "execute_result"
    }
   ],
   "source": [
    "gdf['inbuffer'] = gdf.intersects(road_buffered) # keep cafes up to 30 meters from the road (inside the buffer)\n",
    "cafes = gdf[gdf['inbuffer']]\n",
    "cafes.head(2)"
   ]
  },
  {
   "cell_type": "markdown",
   "id": "8b9b2b74",
   "metadata": {},
   "source": [
    "## stats / visuals"
   ]
  },
  {
   "cell_type": "code",
   "execution_count": 17,
   "id": "f76e2903",
   "metadata": {},
   "outputs": [
    {
     "data": {
      "application/vnd.plotly.v1+json": {
       "config": {
        "plotlyServerURL": "https://plot.ly"
       },
       "data": [
        {
         "hovertemplate": "<b>%{hovertext}</b><br><br>inbuffer=False<br>name=%{text}<br>lat=%{lat}<br>lon=%{lon}<extra></extra>",
         "hovertext": [
          "High Hope Specialty Coffee",
          "Nanou Donuts House Άνω Γλυφάδα - Τερψιθέα",
          "Langano Espresso Bar Γλυφάδα",
          "\"Η Αράχωβα\" Αρτοποιείο - Ζαχαροπλαστική",
          "Odos_platwnos Πολυχώρος - Φουαγιέ odos_platwnos - Rose pepper art and clothing",
          "franceska",
          "Bits and Bytes Internet Cafe",
          "LA MERISE",
          "Le Café",
          "DOTTS",
          "COFFEE TERRA",
          "Antheon Pies Snacks Coffee",
          "NANOU DONUTS ΓΛΥΦΑΔΑ",
          "ΑΡΤΟΠΟΙΪΑ- ΖΑΧΑΡΟΠΛΑΣΤΙΚΗ \"ΔΗΜΟΣ ΗΛΙΑΣ\"",
          "Nεις κόσμος σαρκοδινου 43",
          "F ziakas",
          "ΦΟΥΡΝΟΣ ΒΕΝΕΤΗ 1948 - ΑΙΞΩΝΗ",
          "GKLIATIS DIMITRIOS"
         ],
         "lat": {
          "bdata": "uIHxwozyQkDck9ESdfJCQIUY+QZw8kJAAD7TpkXyQkDkw0cfTvJCQBT6qqY18kJAMx4AzBDyQkCMlxNZEPJCQBk/6DRm8UJASzs1lxvxQkDjTulg/fBCQHa/CvDd70JABbC3g8fvQkB/ZhAf2O9CQDCFYoYh70JA/L4kOnDuQkCYIgp3eO1CQOfFia927UJA",
          "dtype": "f8"
         },
         "legendgroup": "False",
         "lon": {
          "bdata": "VnAutCnDN0AIZGXqZMM3QM0XIHZLwzdAaPf1jfnCN0D4xmu5jsI3QAWzU71GwjdAkOkad5TCN0CtBEE2f8I3QPmy/uCNwjdAktyroLPCN0CFpjaCnsM3QPl5nR4lxDdAbpFqjmLDN0AZ4e1BCMQ3QGjeuxepwzdALfu/NFbEN0D0zld/OsQ3QPdfQmBAxDdA",
          "dtype": "f8"
         },
         "marker": {
          "color": "#636efa"
         },
         "mode": "markers+text",
         "name": "False",
         "showlegend": true,
         "subplot": "map",
         "text": [
          "High Hope Specialty Coffee",
          "Nanou Donuts House Άνω Γλυφάδα - Τερψιθέα",
          "Langano Espresso Bar Γλυφάδα",
          "\"Η Αράχωβα\" Αρτοποιείο - Ζαχαροπλαστική",
          "Odos_platwnos Πολυχώρος - Φουαγιέ odos_platwnos - Rose pepper art and clothing",
          "franceska",
          "Bits and Bytes Internet Cafe",
          "LA MERISE",
          "Le Café",
          "DOTTS",
          "COFFEE TERRA",
          "Antheon Pies Snacks Coffee",
          "NANOU DONUTS ΓΛΥΦΑΔΑ",
          "ΑΡΤΟΠΟΙΪΑ- ΖΑΧΑΡΟΠΛΑΣΤΙΚΗ \"ΔΗΜΟΣ ΗΛΙΑΣ\"",
          "Nεις κόσμος σαρκοδινου 43",
          "F ziakas",
          "ΦΟΥΡΝΟΣ ΒΕΝΕΤΗ 1948 - ΑΙΞΩΝΗ",
          "GKLIATIS DIMITRIOS"
         ],
         "type": "scattermap"
        },
        {
         "hovertemplate": "<b>%{hovertext}</b><br><br>inbuffer=True<br>name=%{text}<br>lat=%{lat}<br>lon=%{lon}<extra></extra>",
         "hovertext": [
          "coffee berry - Άνω Γλυφάδα",
          "ROSEWOOD COFFEE HOUSE",
          "Krokkidas Angelos",
          "Jerry’s Your Tasty Stop!",
          "Gregory's",
          "Renieris Bakery",
          "Coffee King",
          "Coffee Academy",
          "Αρτοποιεια Κωτσης",
          "Κουλουραδες Ανω Γλυφάδα",
          "BLACK SUGAR",
          "Coffee Culture",
          "Viel coffee",
          "Max Perry - Handmade Chocolates",
          "MILKA",
          "Coffee Island",
          "Shell",
          "COZY CUP cafe",
          "BLYSSCAFE Glyfada",
          "ΛΟΚΑΛ (local) Γλυφάδα",
          "Crescenses Viennoiserie",
          "Cafe ΚΑΛΗΜΕΡΑ",
          "Mikel Coffee",
          "Peachy Glyfada",
          "Four Coffee",
          "ΦΟΥΡΝΟΣ ΒΕΝΕΤΗ FOOD HALL | Άνω Γλυφάδα",
          "Sovolos Pastry Shop",
          "Il Toto Άνω Γλυφάδα",
          "Coffee Berry - Άνω Γλυφάδα",
          "Gregory's",
          "Elite Stevia",
          "Imagine",
          "Sweet coffee",
          "Azel Coffee Bar",
          "Kotsis, Dimitrios, - Apostolos Apostolidis O.E.",
          "EPIC Coffee & More",
          "The Sparrow Nuts & Coffee",
          "Coffee Lab"
         ],
         "lat": {
          "bdata": "NgUyO4vyQkB1iCQfYPJCQJQ1RduM8kJAqYO8HkzyQkC4CVKEL/JCQDxYtVoW8kJA0CCqla7xQkDzLFJymPFCQNQIopNK8UJA7VbgdUfxQkCLdQU2QvFCQHqGFRNA8UJASnIKPEHxQkDe0bXlEvFCQGG5Shwe8UJAvGNnwA/xQkAd6tIa3vBCQGDNXDus8EJA9hDop5PwQkD1UmeklPBCQPgikAGP8EJASObs+IrwQkDK1TSUf/BCQI2CO6tg8EJAjYI7q2DwQkDbdSW4R/BCQFyLu+b670JAElz2NdzvQkACh6te2e9CQMd0MoLX70JA8N6sHLXvQkCvlGWIY+9CQEBQyZRq70JAG1YCcz7vQkDZ5zHKM+9CQIDxDBr67kJA7dLQUO3uQkCkwW1t4e5CQA==",
          "dtype": "f8"
         },
         "legendgroup": "True",
         "lon": {
          "bdata": "455TNebCN0DaPj/nycI3QJcP90fOwjdA60Gc4szCN0CR9pp5zcI3QGSnxBrTwjdAKO54k9/CN0CrRZ/q68I3QI/dT9ckwzdAdhFLbyTDN0BtXovMEsM3QD7GgfwRwzdARBMoYhHDN0Aw/myaLcM3QN4Lgn0qwzdA/QXMjTPDN0DqLdRQWcM3QOkCA61lwzdAWVZQB2jDN0AEhlG1gsM3QB2Ui4xpwzdAwxRAjGvDN0DxjGydbsM3QEPHDipxwzdAQ8cOKnHDN0DZOXJJesM3QA1YchWLwzdA62ksBrTDN0DUBze+m8M3QMqUxbO6wzdAVgM5zafDN0Brz9FP3cM3QEkkwJ/QwzdAh7VCohrEN0AenzXkRMQ3QNs9L8uNxDdAsX9DTZnEN0AoKbAApsQ3QA==",
          "dtype": "f8"
         },
         "marker": {
          "color": "#EF553B"
         },
         "mode": "markers+text",
         "name": "True",
         "showlegend": true,
         "subplot": "map",
         "text": [
          "coffee berry - Άνω Γλυφάδα",
          "ROSEWOOD COFFEE HOUSE",
          "Krokkidas Angelos",
          "Jerry’s Your Tasty Stop!",
          "Gregory's",
          "Renieris Bakery",
          "Coffee King",
          "Coffee Academy",
          "Αρτοποιεια Κωτσης",
          "Κουλουραδες Ανω Γλυφάδα",
          "BLACK SUGAR",
          "Coffee Culture",
          "Viel coffee",
          "Max Perry - Handmade Chocolates",
          "MILKA",
          "Coffee Island",
          "Shell",
          "COZY CUP cafe",
          "BLYSSCAFE Glyfada",
          "ΛΟΚΑΛ (local) Γλυφάδα",
          "Crescenses Viennoiserie",
          "Cafe ΚΑΛΗΜΕΡΑ",
          "Mikel Coffee",
          "Peachy Glyfada",
          "Four Coffee",
          "ΦΟΥΡΝΟΣ ΒΕΝΕΤΗ FOOD HALL | Άνω Γλυφάδα",
          "Sovolos Pastry Shop",
          "Il Toto Άνω Γλυφάδα",
          "Coffee Berry - Άνω Γλυφάδα",
          "Gregory's",
          "Elite Stevia",
          "Imagine",
          "Sweet coffee",
          "Azel Coffee Bar",
          "Kotsis, Dimitrios, - Apostolos Apostolidis O.E.",
          "EPIC Coffee & More",
          "The Sparrow Nuts & Coffee",
          "Coffee Lab"
         ],
         "type": "scattermap"
        }
       ],
       "layout": {
        "legend": {
         "title": {
          "text": "inbuffer"
         },
         "tracegroupgap": 0
        },
        "map": {
         "center": {
          "lat": 37.88049162857143,
          "lon": 23.76323899107143
         },
         "domain": {
          "x": [
           0,
           1
          ],
          "y": [
           0,
           1
          ]
         },
         "style": "open-street-map",
         "zoom": 12
        },
        "mapbox": {
         "center": {
          "lat": 37.88049162857143,
          "lon": 23.76323899107143
         },
         "style": "open-street-map",
         "zoom": 12
        },
        "margin": {
         "t": 60
        },
        "template": {
         "data": {
          "bar": [
           {
            "error_x": {
             "color": "#2a3f5f"
            },
            "error_y": {
             "color": "#2a3f5f"
            },
            "marker": {
             "line": {
              "color": "#E5ECF6",
              "width": 0.5
             },
             "pattern": {
              "fillmode": "overlay",
              "size": 10,
              "solidity": 0.2
             }
            },
            "type": "bar"
           }
          ],
          "barpolar": [
           {
            "marker": {
             "line": {
              "color": "#E5ECF6",
              "width": 0.5
             },
             "pattern": {
              "fillmode": "overlay",
              "size": 10,
              "solidity": 0.2
             }
            },
            "type": "barpolar"
           }
          ],
          "carpet": [
           {
            "aaxis": {
             "endlinecolor": "#2a3f5f",
             "gridcolor": "white",
             "linecolor": "white",
             "minorgridcolor": "white",
             "startlinecolor": "#2a3f5f"
            },
            "baxis": {
             "endlinecolor": "#2a3f5f",
             "gridcolor": "white",
             "linecolor": "white",
             "minorgridcolor": "white",
             "startlinecolor": "#2a3f5f"
            },
            "type": "carpet"
           }
          ],
          "choropleth": [
           {
            "colorbar": {
             "outlinewidth": 0,
             "ticks": ""
            },
            "type": "choropleth"
           }
          ],
          "contour": [
           {
            "colorbar": {
             "outlinewidth": 0,
             "ticks": ""
            },
            "colorscale": [
             [
              0,
              "#0d0887"
             ],
             [
              0.1111111111111111,
              "#46039f"
             ],
             [
              0.2222222222222222,
              "#7201a8"
             ],
             [
              0.3333333333333333,
              "#9c179e"
             ],
             [
              0.4444444444444444,
              "#bd3786"
             ],
             [
              0.5555555555555556,
              "#d8576b"
             ],
             [
              0.6666666666666666,
              "#ed7953"
             ],
             [
              0.7777777777777778,
              "#fb9f3a"
             ],
             [
              0.8888888888888888,
              "#fdca26"
             ],
             [
              1,
              "#f0f921"
             ]
            ],
            "type": "contour"
           }
          ],
          "contourcarpet": [
           {
            "colorbar": {
             "outlinewidth": 0,
             "ticks": ""
            },
            "type": "contourcarpet"
           }
          ],
          "heatmap": [
           {
            "colorbar": {
             "outlinewidth": 0,
             "ticks": ""
            },
            "colorscale": [
             [
              0,
              "#0d0887"
             ],
             [
              0.1111111111111111,
              "#46039f"
             ],
             [
              0.2222222222222222,
              "#7201a8"
             ],
             [
              0.3333333333333333,
              "#9c179e"
             ],
             [
              0.4444444444444444,
              "#bd3786"
             ],
             [
              0.5555555555555556,
              "#d8576b"
             ],
             [
              0.6666666666666666,
              "#ed7953"
             ],
             [
              0.7777777777777778,
              "#fb9f3a"
             ],
             [
              0.8888888888888888,
              "#fdca26"
             ],
             [
              1,
              "#f0f921"
             ]
            ],
            "type": "heatmap"
           }
          ],
          "histogram": [
           {
            "marker": {
             "pattern": {
              "fillmode": "overlay",
              "size": 10,
              "solidity": 0.2
             }
            },
            "type": "histogram"
           }
          ],
          "histogram2d": [
           {
            "colorbar": {
             "outlinewidth": 0,
             "ticks": ""
            },
            "colorscale": [
             [
              0,
              "#0d0887"
             ],
             [
              0.1111111111111111,
              "#46039f"
             ],
             [
              0.2222222222222222,
              "#7201a8"
             ],
             [
              0.3333333333333333,
              "#9c179e"
             ],
             [
              0.4444444444444444,
              "#bd3786"
             ],
             [
              0.5555555555555556,
              "#d8576b"
             ],
             [
              0.6666666666666666,
              "#ed7953"
             ],
             [
              0.7777777777777778,
              "#fb9f3a"
             ],
             [
              0.8888888888888888,
              "#fdca26"
             ],
             [
              1,
              "#f0f921"
             ]
            ],
            "type": "histogram2d"
           }
          ],
          "histogram2dcontour": [
           {
            "colorbar": {
             "outlinewidth": 0,
             "ticks": ""
            },
            "colorscale": [
             [
              0,
              "#0d0887"
             ],
             [
              0.1111111111111111,
              "#46039f"
             ],
             [
              0.2222222222222222,
              "#7201a8"
             ],
             [
              0.3333333333333333,
              "#9c179e"
             ],
             [
              0.4444444444444444,
              "#bd3786"
             ],
             [
              0.5555555555555556,
              "#d8576b"
             ],
             [
              0.6666666666666666,
              "#ed7953"
             ],
             [
              0.7777777777777778,
              "#fb9f3a"
             ],
             [
              0.8888888888888888,
              "#fdca26"
             ],
             [
              1,
              "#f0f921"
             ]
            ],
            "type": "histogram2dcontour"
           }
          ],
          "mesh3d": [
           {
            "colorbar": {
             "outlinewidth": 0,
             "ticks": ""
            },
            "type": "mesh3d"
           }
          ],
          "parcoords": [
           {
            "line": {
             "colorbar": {
              "outlinewidth": 0,
              "ticks": ""
             }
            },
            "type": "parcoords"
           }
          ],
          "pie": [
           {
            "automargin": true,
            "type": "pie"
           }
          ],
          "scatter": [
           {
            "fillpattern": {
             "fillmode": "overlay",
             "size": 10,
             "solidity": 0.2
            },
            "type": "scatter"
           }
          ],
          "scatter3d": [
           {
            "line": {
             "colorbar": {
              "outlinewidth": 0,
              "ticks": ""
             }
            },
            "marker": {
             "colorbar": {
              "outlinewidth": 0,
              "ticks": ""
             }
            },
            "type": "scatter3d"
           }
          ],
          "scattercarpet": [
           {
            "marker": {
             "colorbar": {
              "outlinewidth": 0,
              "ticks": ""
             }
            },
            "type": "scattercarpet"
           }
          ],
          "scattergeo": [
           {
            "marker": {
             "colorbar": {
              "outlinewidth": 0,
              "ticks": ""
             }
            },
            "type": "scattergeo"
           }
          ],
          "scattergl": [
           {
            "marker": {
             "colorbar": {
              "outlinewidth": 0,
              "ticks": ""
             }
            },
            "type": "scattergl"
           }
          ],
          "scattermap": [
           {
            "marker": {
             "colorbar": {
              "outlinewidth": 0,
              "ticks": ""
             }
            },
            "type": "scattermap"
           }
          ],
          "scattermapbox": [
           {
            "marker": {
             "colorbar": {
              "outlinewidth": 0,
              "ticks": ""
             }
            },
            "type": "scattermapbox"
           }
          ],
          "scatterpolar": [
           {
            "marker": {
             "colorbar": {
              "outlinewidth": 0,
              "ticks": ""
             }
            },
            "type": "scatterpolar"
           }
          ],
          "scatterpolargl": [
           {
            "marker": {
             "colorbar": {
              "outlinewidth": 0,
              "ticks": ""
             }
            },
            "type": "scatterpolargl"
           }
          ],
          "scatterternary": [
           {
            "marker": {
             "colorbar": {
              "outlinewidth": 0,
              "ticks": ""
             }
            },
            "type": "scatterternary"
           }
          ],
          "surface": [
           {
            "colorbar": {
             "outlinewidth": 0,
             "ticks": ""
            },
            "colorscale": [
             [
              0,
              "#0d0887"
             ],
             [
              0.1111111111111111,
              "#46039f"
             ],
             [
              0.2222222222222222,
              "#7201a8"
             ],
             [
              0.3333333333333333,
              "#9c179e"
             ],
             [
              0.4444444444444444,
              "#bd3786"
             ],
             [
              0.5555555555555556,
              "#d8576b"
             ],
             [
              0.6666666666666666,
              "#ed7953"
             ],
             [
              0.7777777777777778,
              "#fb9f3a"
             ],
             [
              0.8888888888888888,
              "#fdca26"
             ],
             [
              1,
              "#f0f921"
             ]
            ],
            "type": "surface"
           }
          ],
          "table": [
           {
            "cells": {
             "fill": {
              "color": "#EBF0F8"
             },
             "line": {
              "color": "white"
             }
            },
            "header": {
             "fill": {
              "color": "#C8D4E3"
             },
             "line": {
              "color": "white"
             }
            },
            "type": "table"
           }
          ]
         },
         "layout": {
          "annotationdefaults": {
           "arrowcolor": "#2a3f5f",
           "arrowhead": 0,
           "arrowwidth": 1
          },
          "autotypenumbers": "strict",
          "coloraxis": {
           "colorbar": {
            "outlinewidth": 0,
            "ticks": ""
           }
          },
          "colorscale": {
           "diverging": [
            [
             0,
             "#8e0152"
            ],
            [
             0.1,
             "#c51b7d"
            ],
            [
             0.2,
             "#de77ae"
            ],
            [
             0.3,
             "#f1b6da"
            ],
            [
             0.4,
             "#fde0ef"
            ],
            [
             0.5,
             "#f7f7f7"
            ],
            [
             0.6,
             "#e6f5d0"
            ],
            [
             0.7,
             "#b8e186"
            ],
            [
             0.8,
             "#7fbc41"
            ],
            [
             0.9,
             "#4d9221"
            ],
            [
             1,
             "#276419"
            ]
           ],
           "sequential": [
            [
             0,
             "#0d0887"
            ],
            [
             0.1111111111111111,
             "#46039f"
            ],
            [
             0.2222222222222222,
             "#7201a8"
            ],
            [
             0.3333333333333333,
             "#9c179e"
            ],
            [
             0.4444444444444444,
             "#bd3786"
            ],
            [
             0.5555555555555556,
             "#d8576b"
            ],
            [
             0.6666666666666666,
             "#ed7953"
            ],
            [
             0.7777777777777778,
             "#fb9f3a"
            ],
            [
             0.8888888888888888,
             "#fdca26"
            ],
            [
             1,
             "#f0f921"
            ]
           ],
           "sequentialminus": [
            [
             0,
             "#0d0887"
            ],
            [
             0.1111111111111111,
             "#46039f"
            ],
            [
             0.2222222222222222,
             "#7201a8"
            ],
            [
             0.3333333333333333,
             "#9c179e"
            ],
            [
             0.4444444444444444,
             "#bd3786"
            ],
            [
             0.5555555555555556,
             "#d8576b"
            ],
            [
             0.6666666666666666,
             "#ed7953"
            ],
            [
             0.7777777777777778,
             "#fb9f3a"
            ],
            [
             0.8888888888888888,
             "#fdca26"
            ],
            [
             1,
             "#f0f921"
            ]
           ]
          },
          "colorway": [
           "#636efa",
           "#EF553B",
           "#00cc96",
           "#ab63fa",
           "#FFA15A",
           "#19d3f3",
           "#FF6692",
           "#B6E880",
           "#FF97FF",
           "#FECB52"
          ],
          "font": {
           "color": "#2a3f5f"
          },
          "geo": {
           "bgcolor": "white",
           "lakecolor": "white",
           "landcolor": "#E5ECF6",
           "showlakes": true,
           "showland": true,
           "subunitcolor": "white"
          },
          "hoverlabel": {
           "align": "left"
          },
          "hovermode": "closest",
          "mapbox": {
           "style": "light"
          },
          "paper_bgcolor": "white",
          "plot_bgcolor": "#E5ECF6",
          "polar": {
           "angularaxis": {
            "gridcolor": "white",
            "linecolor": "white",
            "ticks": ""
           },
           "bgcolor": "#E5ECF6",
           "radialaxis": {
            "gridcolor": "white",
            "linecolor": "white",
            "ticks": ""
           }
          },
          "scene": {
           "xaxis": {
            "backgroundcolor": "#E5ECF6",
            "gridcolor": "white",
            "gridwidth": 2,
            "linecolor": "white",
            "showbackground": true,
            "ticks": "",
            "zerolinecolor": "white"
           },
           "yaxis": {
            "backgroundcolor": "#E5ECF6",
            "gridcolor": "white",
            "gridwidth": 2,
            "linecolor": "white",
            "showbackground": true,
            "ticks": "",
            "zerolinecolor": "white"
           },
           "zaxis": {
            "backgroundcolor": "#E5ECF6",
            "gridcolor": "white",
            "gridwidth": 2,
            "linecolor": "white",
            "showbackground": true,
            "ticks": "",
            "zerolinecolor": "white"
           }
          },
          "shapedefaults": {
           "line": {
            "color": "#2a3f5f"
           }
          },
          "ternary": {
           "aaxis": {
            "gridcolor": "white",
            "linecolor": "white",
            "ticks": ""
           },
           "baxis": {
            "gridcolor": "white",
            "linecolor": "white",
            "ticks": ""
           },
           "bgcolor": "#E5ECF6",
           "caxis": {
            "gridcolor": "white",
            "linecolor": "white",
            "ticks": ""
           }
          },
          "title": {
           "x": 0.05
          },
          "xaxis": {
           "automargin": true,
           "gridcolor": "white",
           "linecolor": "white",
           "ticks": "",
           "title": {
            "standoff": 15
           },
           "zerolinecolor": "white",
           "zerolinewidth": 2
          },
          "yaxis": {
           "automargin": true,
           "gridcolor": "white",
           "linecolor": "white",
           "ticks": "",
           "title": {
            "standoff": 15
           },
           "zerolinecolor": "white",
           "zerolinewidth": 2
          }
         }
        }
       }
      }
     },
     "metadata": {},
     "output_type": "display_data"
    }
   ],
   "source": [
    "fig = px.scatter_map(gdf, lat=gdf.geometry.y, lon=gdf.geometry.x, color='inbuffer', text='name', hover_name=\"name\", zoom=12, map_style=map_style)\n",
    "fig.show()"
   ]
  },
  {
   "cell_type": "code",
   "execution_count": 19,
   "id": "4b95eb4f",
   "metadata": {},
   "outputs": [
    {
     "data": {
      "application/vnd.plotly.v1+json": {
       "config": {
        "plotlyServerURL": "https://plot.ly"
       },
       "data": [
        {
         "coloraxis": "coloraxis",
         "hovertemplate": "lat=%{lat}<br>lon=%{lon}<extra></extra>",
         "lat": {
          "bdata": "NgUyO4vyQkB1iCQfYPJCQJQ1RduM8kJAqYO8HkzyQkC4CVKEL/JCQDxYtVoW8kJA0CCqla7xQkDzLFJymPFCQNQIopNK8UJA7VbgdUfxQkCLdQU2QvFCQHqGFRNA8UJASnIKPEHxQkDe0bXlEvFCQGG5Shwe8UJAvGNnwA/xQkAd6tIa3vBCQGDNXDus8EJA9hDop5PwQkD1UmeklPBCQPgikAGP8EJASObs+IrwQkDK1TSUf/BCQI2CO6tg8EJAjYI7q2DwQkDbdSW4R/BCQFyLu+b670JAElz2NdzvQkACh6te2e9CQMd0MoLX70JA8N6sHLXvQkCvlGWIY+9CQEBQyZRq70JAG1YCcz7vQkDZ5zHKM+9CQIDxDBr67kJA7dLQUO3uQkCkwW1t4e5CQA==",
          "dtype": "f8"
         },
         "lon": {
          "bdata": "455TNebCN0DaPj/nycI3QJcP90fOwjdA60Gc4szCN0CR9pp5zcI3QGSnxBrTwjdAKO54k9/CN0CrRZ/q68I3QI/dT9ckwzdAdhFLbyTDN0BtXovMEsM3QD7GgfwRwzdARBMoYhHDN0Aw/myaLcM3QN4Lgn0qwzdA/QXMjTPDN0DqLdRQWcM3QOkCA61lwzdAWVZQB2jDN0AEhlG1gsM3QB2Ui4xpwzdAwxRAjGvDN0DxjGydbsM3QEPHDipxwzdAQ8cOKnHDN0DZOXJJesM3QA1YchWLwzdA62ksBrTDN0DUBze+m8M3QMqUxbO6wzdAVgM5zafDN0Brz9FP3cM3QEkkwJ/QwzdAh7VCohrEN0AenzXkRMQ3QNs9L8uNxDdAsX9DTZnEN0AoKbAApsQ3QA==",
          "dtype": "f8"
         },
         "name": "",
         "radius": 12,
         "subplot": "map",
         "type": "densitymap"
        }
       ],
       "layout": {
        "coloraxis": {
         "colorscale": [
          [
           0,
           "#0d0887"
          ],
          [
           0.1111111111111111,
           "#46039f"
          ],
          [
           0.2222222222222222,
           "#7201a8"
          ],
          [
           0.3333333333333333,
           "#9c179e"
          ],
          [
           0.4444444444444444,
           "#bd3786"
          ],
          [
           0.5555555555555556,
           "#d8576b"
          ],
          [
           0.6666666666666666,
           "#ed7953"
          ],
          [
           0.7777777777777778,
           "#fb9f3a"
          ],
          [
           0.8888888888888888,
           "#fdca26"
          ],
          [
           1,
           "#f0f921"
          ]
         ]
        },
        "legend": {
         "tracegroupgap": 0
        },
        "map": {
         "center": {
          "lat": 37.880245086842095,
          "lon": 23.763378107894738
         },
         "domain": {
          "x": [
           0,
           1
          ],
          "y": [
           0,
           1
          ]
         },
         "style": "open-street-map",
         "zoom": 12
        },
        "mapbox": {
         "center": {
          "lat": 37.880245086842095,
          "lon": 23.763378107894738
         },
         "style": "open-street-map",
         "zoom": 12
        },
        "margin": {
         "t": 60
        },
        "template": {
         "data": {
          "bar": [
           {
            "error_x": {
             "color": "#2a3f5f"
            },
            "error_y": {
             "color": "#2a3f5f"
            },
            "marker": {
             "line": {
              "color": "#E5ECF6",
              "width": 0.5
             },
             "pattern": {
              "fillmode": "overlay",
              "size": 10,
              "solidity": 0.2
             }
            },
            "type": "bar"
           }
          ],
          "barpolar": [
           {
            "marker": {
             "line": {
              "color": "#E5ECF6",
              "width": 0.5
             },
             "pattern": {
              "fillmode": "overlay",
              "size": 10,
              "solidity": 0.2
             }
            },
            "type": "barpolar"
           }
          ],
          "carpet": [
           {
            "aaxis": {
             "endlinecolor": "#2a3f5f",
             "gridcolor": "white",
             "linecolor": "white",
             "minorgridcolor": "white",
             "startlinecolor": "#2a3f5f"
            },
            "baxis": {
             "endlinecolor": "#2a3f5f",
             "gridcolor": "white",
             "linecolor": "white",
             "minorgridcolor": "white",
             "startlinecolor": "#2a3f5f"
            },
            "type": "carpet"
           }
          ],
          "choropleth": [
           {
            "colorbar": {
             "outlinewidth": 0,
             "ticks": ""
            },
            "type": "choropleth"
           }
          ],
          "contour": [
           {
            "colorbar": {
             "outlinewidth": 0,
             "ticks": ""
            },
            "colorscale": [
             [
              0,
              "#0d0887"
             ],
             [
              0.1111111111111111,
              "#46039f"
             ],
             [
              0.2222222222222222,
              "#7201a8"
             ],
             [
              0.3333333333333333,
              "#9c179e"
             ],
             [
              0.4444444444444444,
              "#bd3786"
             ],
             [
              0.5555555555555556,
              "#d8576b"
             ],
             [
              0.6666666666666666,
              "#ed7953"
             ],
             [
              0.7777777777777778,
              "#fb9f3a"
             ],
             [
              0.8888888888888888,
              "#fdca26"
             ],
             [
              1,
              "#f0f921"
             ]
            ],
            "type": "contour"
           }
          ],
          "contourcarpet": [
           {
            "colorbar": {
             "outlinewidth": 0,
             "ticks": ""
            },
            "type": "contourcarpet"
           }
          ],
          "heatmap": [
           {
            "colorbar": {
             "outlinewidth": 0,
             "ticks": ""
            },
            "colorscale": [
             [
              0,
              "#0d0887"
             ],
             [
              0.1111111111111111,
              "#46039f"
             ],
             [
              0.2222222222222222,
              "#7201a8"
             ],
             [
              0.3333333333333333,
              "#9c179e"
             ],
             [
              0.4444444444444444,
              "#bd3786"
             ],
             [
              0.5555555555555556,
              "#d8576b"
             ],
             [
              0.6666666666666666,
              "#ed7953"
             ],
             [
              0.7777777777777778,
              "#fb9f3a"
             ],
             [
              0.8888888888888888,
              "#fdca26"
             ],
             [
              1,
              "#f0f921"
             ]
            ],
            "type": "heatmap"
           }
          ],
          "histogram": [
           {
            "marker": {
             "pattern": {
              "fillmode": "overlay",
              "size": 10,
              "solidity": 0.2
             }
            },
            "type": "histogram"
           }
          ],
          "histogram2d": [
           {
            "colorbar": {
             "outlinewidth": 0,
             "ticks": ""
            },
            "colorscale": [
             [
              0,
              "#0d0887"
             ],
             [
              0.1111111111111111,
              "#46039f"
             ],
             [
              0.2222222222222222,
              "#7201a8"
             ],
             [
              0.3333333333333333,
              "#9c179e"
             ],
             [
              0.4444444444444444,
              "#bd3786"
             ],
             [
              0.5555555555555556,
              "#d8576b"
             ],
             [
              0.6666666666666666,
              "#ed7953"
             ],
             [
              0.7777777777777778,
              "#fb9f3a"
             ],
             [
              0.8888888888888888,
              "#fdca26"
             ],
             [
              1,
              "#f0f921"
             ]
            ],
            "type": "histogram2d"
           }
          ],
          "histogram2dcontour": [
           {
            "colorbar": {
             "outlinewidth": 0,
             "ticks": ""
            },
            "colorscale": [
             [
              0,
              "#0d0887"
             ],
             [
              0.1111111111111111,
              "#46039f"
             ],
             [
              0.2222222222222222,
              "#7201a8"
             ],
             [
              0.3333333333333333,
              "#9c179e"
             ],
             [
              0.4444444444444444,
              "#bd3786"
             ],
             [
              0.5555555555555556,
              "#d8576b"
             ],
             [
              0.6666666666666666,
              "#ed7953"
             ],
             [
              0.7777777777777778,
              "#fb9f3a"
             ],
             [
              0.8888888888888888,
              "#fdca26"
             ],
             [
              1,
              "#f0f921"
             ]
            ],
            "type": "histogram2dcontour"
           }
          ],
          "mesh3d": [
           {
            "colorbar": {
             "outlinewidth": 0,
             "ticks": ""
            },
            "type": "mesh3d"
           }
          ],
          "parcoords": [
           {
            "line": {
             "colorbar": {
              "outlinewidth": 0,
              "ticks": ""
             }
            },
            "type": "parcoords"
           }
          ],
          "pie": [
           {
            "automargin": true,
            "type": "pie"
           }
          ],
          "scatter": [
           {
            "fillpattern": {
             "fillmode": "overlay",
             "size": 10,
             "solidity": 0.2
            },
            "type": "scatter"
           }
          ],
          "scatter3d": [
           {
            "line": {
             "colorbar": {
              "outlinewidth": 0,
              "ticks": ""
             }
            },
            "marker": {
             "colorbar": {
              "outlinewidth": 0,
              "ticks": ""
             }
            },
            "type": "scatter3d"
           }
          ],
          "scattercarpet": [
           {
            "marker": {
             "colorbar": {
              "outlinewidth": 0,
              "ticks": ""
             }
            },
            "type": "scattercarpet"
           }
          ],
          "scattergeo": [
           {
            "marker": {
             "colorbar": {
              "outlinewidth": 0,
              "ticks": ""
             }
            },
            "type": "scattergeo"
           }
          ],
          "scattergl": [
           {
            "marker": {
             "colorbar": {
              "outlinewidth": 0,
              "ticks": ""
             }
            },
            "type": "scattergl"
           }
          ],
          "scattermap": [
           {
            "marker": {
             "colorbar": {
              "outlinewidth": 0,
              "ticks": ""
             }
            },
            "type": "scattermap"
           }
          ],
          "scattermapbox": [
           {
            "marker": {
             "colorbar": {
              "outlinewidth": 0,
              "ticks": ""
             }
            },
            "type": "scattermapbox"
           }
          ],
          "scatterpolar": [
           {
            "marker": {
             "colorbar": {
              "outlinewidth": 0,
              "ticks": ""
             }
            },
            "type": "scatterpolar"
           }
          ],
          "scatterpolargl": [
           {
            "marker": {
             "colorbar": {
              "outlinewidth": 0,
              "ticks": ""
             }
            },
            "type": "scatterpolargl"
           }
          ],
          "scatterternary": [
           {
            "marker": {
             "colorbar": {
              "outlinewidth": 0,
              "ticks": ""
             }
            },
            "type": "scatterternary"
           }
          ],
          "surface": [
           {
            "colorbar": {
             "outlinewidth": 0,
             "ticks": ""
            },
            "colorscale": [
             [
              0,
              "#0d0887"
             ],
             [
              0.1111111111111111,
              "#46039f"
             ],
             [
              0.2222222222222222,
              "#7201a8"
             ],
             [
              0.3333333333333333,
              "#9c179e"
             ],
             [
              0.4444444444444444,
              "#bd3786"
             ],
             [
              0.5555555555555556,
              "#d8576b"
             ],
             [
              0.6666666666666666,
              "#ed7953"
             ],
             [
              0.7777777777777778,
              "#fb9f3a"
             ],
             [
              0.8888888888888888,
              "#fdca26"
             ],
             [
              1,
              "#f0f921"
             ]
            ],
            "type": "surface"
           }
          ],
          "table": [
           {
            "cells": {
             "fill": {
              "color": "#EBF0F8"
             },
             "line": {
              "color": "white"
             }
            },
            "header": {
             "fill": {
              "color": "#C8D4E3"
             },
             "line": {
              "color": "white"
             }
            },
            "type": "table"
           }
          ]
         },
         "layout": {
          "annotationdefaults": {
           "arrowcolor": "#2a3f5f",
           "arrowhead": 0,
           "arrowwidth": 1
          },
          "autotypenumbers": "strict",
          "coloraxis": {
           "colorbar": {
            "outlinewidth": 0,
            "ticks": ""
           }
          },
          "colorscale": {
           "diverging": [
            [
             0,
             "#8e0152"
            ],
            [
             0.1,
             "#c51b7d"
            ],
            [
             0.2,
             "#de77ae"
            ],
            [
             0.3,
             "#f1b6da"
            ],
            [
             0.4,
             "#fde0ef"
            ],
            [
             0.5,
             "#f7f7f7"
            ],
            [
             0.6,
             "#e6f5d0"
            ],
            [
             0.7,
             "#b8e186"
            ],
            [
             0.8,
             "#7fbc41"
            ],
            [
             0.9,
             "#4d9221"
            ],
            [
             1,
             "#276419"
            ]
           ],
           "sequential": [
            [
             0,
             "#0d0887"
            ],
            [
             0.1111111111111111,
             "#46039f"
            ],
            [
             0.2222222222222222,
             "#7201a8"
            ],
            [
             0.3333333333333333,
             "#9c179e"
            ],
            [
             0.4444444444444444,
             "#bd3786"
            ],
            [
             0.5555555555555556,
             "#d8576b"
            ],
            [
             0.6666666666666666,
             "#ed7953"
            ],
            [
             0.7777777777777778,
             "#fb9f3a"
            ],
            [
             0.8888888888888888,
             "#fdca26"
            ],
            [
             1,
             "#f0f921"
            ]
           ],
           "sequentialminus": [
            [
             0,
             "#0d0887"
            ],
            [
             0.1111111111111111,
             "#46039f"
            ],
            [
             0.2222222222222222,
             "#7201a8"
            ],
            [
             0.3333333333333333,
             "#9c179e"
            ],
            [
             0.4444444444444444,
             "#bd3786"
            ],
            [
             0.5555555555555556,
             "#d8576b"
            ],
            [
             0.6666666666666666,
             "#ed7953"
            ],
            [
             0.7777777777777778,
             "#fb9f3a"
            ],
            [
             0.8888888888888888,
             "#fdca26"
            ],
            [
             1,
             "#f0f921"
            ]
           ]
          },
          "colorway": [
           "#636efa",
           "#EF553B",
           "#00cc96",
           "#ab63fa",
           "#FFA15A",
           "#19d3f3",
           "#FF6692",
           "#B6E880",
           "#FF97FF",
           "#FECB52"
          ],
          "font": {
           "color": "#2a3f5f"
          },
          "geo": {
           "bgcolor": "white",
           "lakecolor": "white",
           "landcolor": "#E5ECF6",
           "showlakes": true,
           "showland": true,
           "subunitcolor": "white"
          },
          "hoverlabel": {
           "align": "left"
          },
          "hovermode": "closest",
          "mapbox": {
           "style": "light"
          },
          "paper_bgcolor": "white",
          "plot_bgcolor": "#E5ECF6",
          "polar": {
           "angularaxis": {
            "gridcolor": "white",
            "linecolor": "white",
            "ticks": ""
           },
           "bgcolor": "#E5ECF6",
           "radialaxis": {
            "gridcolor": "white",
            "linecolor": "white",
            "ticks": ""
           }
          },
          "scene": {
           "xaxis": {
            "backgroundcolor": "#E5ECF6",
            "gridcolor": "white",
            "gridwidth": 2,
            "linecolor": "white",
            "showbackground": true,
            "ticks": "",
            "zerolinecolor": "white"
           },
           "yaxis": {
            "backgroundcolor": "#E5ECF6",
            "gridcolor": "white",
            "gridwidth": 2,
            "linecolor": "white",
            "showbackground": true,
            "ticks": "",
            "zerolinecolor": "white"
           },
           "zaxis": {
            "backgroundcolor": "#E5ECF6",
            "gridcolor": "white",
            "gridwidth": 2,
            "linecolor": "white",
            "showbackground": true,
            "ticks": "",
            "zerolinecolor": "white"
           }
          },
          "shapedefaults": {
           "line": {
            "color": "#2a3f5f"
           }
          },
          "ternary": {
           "aaxis": {
            "gridcolor": "white",
            "linecolor": "white",
            "ticks": ""
           },
           "baxis": {
            "gridcolor": "white",
            "linecolor": "white",
            "ticks": ""
           },
           "bgcolor": "#E5ECF6",
           "caxis": {
            "gridcolor": "white",
            "linecolor": "white",
            "ticks": ""
           }
          },
          "title": {
           "x": 0.05
          },
          "xaxis": {
           "automargin": true,
           "gridcolor": "white",
           "linecolor": "white",
           "ticks": "",
           "title": {
            "standoff": 15
           },
           "zerolinecolor": "white",
           "zerolinewidth": 2
          },
          "yaxis": {
           "automargin": true,
           "gridcolor": "white",
           "linecolor": "white",
           "ticks": "",
           "title": {
            "standoff": 15
           },
           "zerolinecolor": "white",
           "zerolinewidth": 2
          }
         }
        },
        "width": 600
       }
      }
     },
     "metadata": {},
     "output_type": "display_data"
    }
   ],
   "source": [
    "fig = px.density_map(cafes, lat=cafes.geometry.y, lon=cafes.geometry.x, radius=12, zoom=12, map_style=map_style, width=600)\n",
    "fig.show()"
   ]
  },
  {
   "cell_type": "code",
   "execution_count": null,
   "id": "f6d9c0de",
   "metadata": {},
   "outputs": [
    {
     "data": {
      "text/plain": [
       "'One cafe every: 125m'"
      ]
     },
     "execution_count": 20,
     "metadata": {},
     "output_type": "execute_result"
    }
   ],
   "source": [
    "f'One cafe every: {length / cafes.shape[0]:.0f}m'"
   ]
  },
  {
   "cell_type": "markdown",
   "id": "158dfd37",
   "metadata": {},
   "source": [
    "### Distance between cafes (distance matrix)"
   ]
  },
  {
   "cell_type": "code",
   "execution_count": 22,
   "id": "a2a9e159",
   "metadata": {},
   "outputs": [
    {
     "data": {
      "text/html": [
       "<div>\n",
       "<style scoped>\n",
       "    .dataframe tbody tr th:only-of-type {\n",
       "        vertical-align: middle;\n",
       "    }\n",
       "\n",
       "    .dataframe tbody tr th {\n",
       "        vertical-align: top;\n",
       "    }\n",
       "\n",
       "    .dataframe thead th {\n",
       "        text-align: right;\n",
       "    }\n",
       "</style>\n",
       "<table border=\"1\" class=\"dataframe\">\n",
       "  <thead>\n",
       "    <tr style=\"text-align: right;\">\n",
       "      <th></th>\n",
       "      <th>1</th>\n",
       "      <th>2</th>\n",
       "      <th>3</th>\n",
       "      <th>8</th>\n",
       "      <th>9</th>\n",
       "      <th>11</th>\n",
       "      <th>14</th>\n",
       "      <th>15</th>\n",
       "      <th>16</th>\n",
       "      <th>18</th>\n",
       "      <th>...</th>\n",
       "      <th>39</th>\n",
       "      <th>40</th>\n",
       "      <th>44</th>\n",
       "      <th>45</th>\n",
       "      <th>46</th>\n",
       "      <th>47</th>\n",
       "      <th>48</th>\n",
       "      <th>50</th>\n",
       "      <th>51</th>\n",
       "      <th>52</th>\n",
       "    </tr>\n",
       "  </thead>\n",
       "  <tbody>\n",
       "    <tr>\n",
       "      <th>1</th>\n",
       "      <td>0.00</td>\n",
       "      <td>150.93</td>\n",
       "      <td>32.59</td>\n",
       "      <td>216.53</td>\n",
       "      <td>312.53</td>\n",
       "      <td>396.85</td>\n",
       "      <td>747.69</td>\n",
       "      <td>822.68</td>\n",
       "      <td>1089.75</td>\n",
       "      <td>1100.24</td>\n",
       "      <td>...</td>\n",
       "      <td>2350.19</td>\n",
       "      <td>2361.13</td>\n",
       "      <td>2474.07</td>\n",
       "      <td>2756.83</td>\n",
       "      <td>2731.11</td>\n",
       "      <td>2892.25</td>\n",
       "      <td>2936.57</td>\n",
       "      <td>3145.88</td>\n",
       "      <td>3191.30</td>\n",
       "      <td>3234.03</td>\n",
       "    </tr>\n",
       "    <tr>\n",
       "      <th>2</th>\n",
       "      <td>150.93</td>\n",
       "      <td>0.00</td>\n",
       "      <td>151.69</td>\n",
       "      <td>67.89</td>\n",
       "      <td>164.76</td>\n",
       "      <td>250.26</td>\n",
       "      <td>602.27</td>\n",
       "      <td>678.12</td>\n",
       "      <td>948.32</td>\n",
       "      <td>958.73</td>\n",
       "      <td>...</td>\n",
       "      <td>2209.48</td>\n",
       "      <td>2221.41</td>\n",
       "      <td>2333.40</td>\n",
       "      <td>2616.98</td>\n",
       "      <td>2590.97</td>\n",
       "      <td>2753.75</td>\n",
       "      <td>2799.14</td>\n",
       "      <td>3009.77</td>\n",
       "      <td>3055.33</td>\n",
       "      <td>3098.25</td>\n",
       "    </tr>\n",
       "    <tr>\n",
       "      <th>3</th>\n",
       "      <td>32.59</td>\n",
       "      <td>151.69</td>\n",
       "      <td>0.00</td>\n",
       "      <td>219.36</td>\n",
       "      <td>316.27</td>\n",
       "      <td>401.58</td>\n",
       "      <td>753.50</td>\n",
       "      <td>829.11</td>\n",
       "      <td>1098.18</td>\n",
       "      <td>1108.62</td>\n",
       "      <td>...</td>\n",
       "      <td>2359.21</td>\n",
       "      <td>2370.68</td>\n",
       "      <td>2483.12</td>\n",
       "      <td>2766.34</td>\n",
       "      <td>2740.46</td>\n",
       "      <td>2902.47</td>\n",
       "      <td>2947.32</td>\n",
       "      <td>3157.26</td>\n",
       "      <td>3202.74</td>\n",
       "      <td>3245.56</td>\n",
       "    </tr>\n",
       "    <tr>\n",
       "      <th>8</th>\n",
       "      <td>216.53</td>\n",
       "      <td>67.89</td>\n",
       "      <td>219.36</td>\n",
       "      <td>0.00</td>\n",
       "      <td>96.92</td>\n",
       "      <td>182.37</td>\n",
       "      <td>534.38</td>\n",
       "      <td>610.23</td>\n",
       "      <td>880.61</td>\n",
       "      <td>891.00</td>\n",
       "      <td>...</td>\n",
       "      <td>2141.76</td>\n",
       "      <td>2153.78</td>\n",
       "      <td>2265.68</td>\n",
       "      <td>2549.33</td>\n",
       "      <td>2523.29</td>\n",
       "      <td>2686.25</td>\n",
       "      <td>2731.79</td>\n",
       "      <td>2942.60</td>\n",
       "      <td>2988.17</td>\n",
       "      <td>3031.13</td>\n",
       "    </tr>\n",
       "    <tr>\n",
       "      <th>9</th>\n",
       "      <td>312.53</td>\n",
       "      <td>164.76</td>\n",
       "      <td>316.27</td>\n",
       "      <td>96.92</td>\n",
       "      <td>0.00</td>\n",
       "      <td>85.59</td>\n",
       "      <td>437.55</td>\n",
       "      <td>513.51</td>\n",
       "      <td>784.56</td>\n",
       "      <td>794.92</td>\n",
       "      <td>...</td>\n",
       "      <td>2045.59</td>\n",
       "      <td>2057.86</td>\n",
       "      <td>2169.51</td>\n",
       "      <td>2453.34</td>\n",
       "      <td>2427.22</td>\n",
       "      <td>2590.60</td>\n",
       "      <td>2636.45</td>\n",
       "      <td>2847.64</td>\n",
       "      <td>2893.25</td>\n",
       "      <td>2936.26</td>\n",
       "    </tr>\n",
       "    <tr>\n",
       "      <th>11</th>\n",
       "      <td>396.85</td>\n",
       "      <td>250.26</td>\n",
       "      <td>401.58</td>\n",
       "      <td>182.37</td>\n",
       "      <td>85.59</td>\n",
       "      <td>0.00</td>\n",
       "      <td>352.01</td>\n",
       "      <td>427.92</td>\n",
       "      <td>699.14</td>\n",
       "      <td>709.49</td>\n",
       "      <td>...</td>\n",
       "      <td>1960.10</td>\n",
       "      <td>1972.47</td>\n",
       "      <td>2084.01</td>\n",
       "      <td>2367.91</td>\n",
       "      <td>2341.76</td>\n",
       "      <td>2505.33</td>\n",
       "      <td>2551.33</td>\n",
       "      <td>2762.73</td>\n",
       "      <td>2808.37</td>\n",
       "      <td>2851.40</td>\n",
       "    </tr>\n",
       "    <tr>\n",
       "      <th>14</th>\n",
       "      <td>747.69</td>\n",
       "      <td>602.27</td>\n",
       "      <td>753.50</td>\n",
       "      <td>534.38</td>\n",
       "      <td>437.55</td>\n",
       "      <td>352.01</td>\n",
       "      <td>0.00</td>\n",
       "      <td>76.82</td>\n",
       "      <td>351.40</td>\n",
       "      <td>361.45</td>\n",
       "      <td>...</td>\n",
       "      <td>1609.83</td>\n",
       "      <td>1623.08</td>\n",
       "      <td>1733.71</td>\n",
       "      <td>2018.13</td>\n",
       "      <td>1991.75</td>\n",
       "      <td>2156.71</td>\n",
       "      <td>2203.80</td>\n",
       "      <td>2416.48</td>\n",
       "      <td>2462.24</td>\n",
       "      <td>2505.46</td>\n",
       "    </tr>\n",
       "    <tr>\n",
       "      <th>15</th>\n",
       "      <td>822.68</td>\n",
       "      <td>678.12</td>\n",
       "      <td>829.11</td>\n",
       "      <td>610.23</td>\n",
       "      <td>513.51</td>\n",
       "      <td>427.92</td>\n",
       "      <td>76.82</td>\n",
       "      <td>0.00</td>\n",
       "      <td>274.70</td>\n",
       "      <td>284.71</td>\n",
       "      <td>...</td>\n",
       "      <td>1533.16</td>\n",
       "      <td>1546.31</td>\n",
       "      <td>1657.04</td>\n",
       "      <td>1941.40</td>\n",
       "      <td>1915.05</td>\n",
       "      <td>2079.91</td>\n",
       "      <td>2126.98</td>\n",
       "      <td>2339.68</td>\n",
       "      <td>2385.45</td>\n",
       "      <td>2428.67</td>\n",
       "    </tr>\n",
       "    <tr>\n",
       "      <th>16</th>\n",
       "      <td>1089.75</td>\n",
       "      <td>948.32</td>\n",
       "      <td>1098.18</td>\n",
       "      <td>880.61</td>\n",
       "      <td>784.56</td>\n",
       "      <td>699.14</td>\n",
       "      <td>351.40</td>\n",
       "      <td>274.70</td>\n",
       "      <td>0.00</td>\n",
       "      <td>10.57</td>\n",
       "      <td>...</td>\n",
       "      <td>1261.16</td>\n",
       "      <td>1273.32</td>\n",
       "      <td>1385.08</td>\n",
       "      <td>1668.78</td>\n",
       "      <td>1642.69</td>\n",
       "      <td>1806.36</td>\n",
       "      <td>1852.89</td>\n",
       "      <td>2065.22</td>\n",
       "      <td>2110.97</td>\n",
       "      <td>2154.16</td>\n",
       "    </tr>\n",
       "    <tr>\n",
       "      <th>18</th>\n",
       "      <td>1100.24</td>\n",
       "      <td>958.73</td>\n",
       "      <td>1108.62</td>\n",
       "      <td>891.00</td>\n",
       "      <td>794.92</td>\n",
       "      <td>709.49</td>\n",
       "      <td>361.45</td>\n",
       "      <td>284.71</td>\n",
       "      <td>10.57</td>\n",
       "      <td>0.00</td>\n",
       "      <td>...</td>\n",
       "      <td>1250.76</td>\n",
       "      <td>1262.99</td>\n",
       "      <td>1374.68</td>\n",
       "      <td>1658.42</td>\n",
       "      <td>1632.31</td>\n",
       "      <td>1796.08</td>\n",
       "      <td>1842.68</td>\n",
       "      <td>2055.09</td>\n",
       "      <td>2100.84</td>\n",
       "      <td>2144.04</td>\n",
       "    </tr>\n",
       "    <tr>\n",
       "      <th>19</th>\n",
       "      <td>1116.45</td>\n",
       "      <td>973.71</td>\n",
       "      <td>1124.13</td>\n",
       "      <td>905.88</td>\n",
       "      <td>809.45</td>\n",
       "      <td>723.89</td>\n",
       "      <td>373.60</td>\n",
       "      <td>296.83</td>\n",
       "      <td>37.29</td>\n",
       "      <td>29.62</td>\n",
       "      <td>...</td>\n",
       "      <td>1236.42</td>\n",
       "      <td>1249.49</td>\n",
       "      <td>1360.32</td>\n",
       "      <td>1644.59</td>\n",
       "      <td>1618.27</td>\n",
       "      <td>1783.15</td>\n",
       "      <td>1830.47</td>\n",
       "      <td>2043.58</td>\n",
       "      <td>2089.39</td>\n",
       "      <td>2132.68</td>\n",
       "    </tr>\n",
       "    <tr>\n",
       "      <th>20</th>\n",
       "      <td>1123.63</td>\n",
       "      <td>980.80</td>\n",
       "      <td>1131.25</td>\n",
       "      <td>912.97</td>\n",
       "      <td>816.52</td>\n",
       "      <td>730.95</td>\n",
       "      <td>380.52</td>\n",
       "      <td>303.77</td>\n",
       "      <td>43.67</td>\n",
       "      <td>35.21</td>\n",
       "      <td>...</td>\n",
       "      <td>1229.43</td>\n",
       "      <td>1242.56</td>\n",
       "      <td>1353.32</td>\n",
       "      <td>1637.63</td>\n",
       "      <td>1611.29</td>\n",
       "      <td>1776.28</td>\n",
       "      <td>1823.66</td>\n",
       "      <td>2036.84</td>\n",
       "      <td>2082.66</td>\n",
       "      <td>2125.95</td>\n",
       "    </tr>\n",
       "    <tr>\n",
       "      <th>21</th>\n",
       "      <td>1119.66</td>\n",
       "      <td>976.81</td>\n",
       "      <td>1127.27</td>\n",
       "      <td>908.98</td>\n",
       "      <td>812.52</td>\n",
       "      <td>726.96</td>\n",
       "      <td>376.51</td>\n",
       "      <td>299.76</td>\n",
       "      <td>41.04</td>\n",
       "      <td>33.16</td>\n",
       "      <td>...</td>\n",
       "      <td>1233.43</td>\n",
       "      <td>1246.58</td>\n",
       "      <td>1357.33</td>\n",
       "      <td>1641.64</td>\n",
       "      <td>1615.30</td>\n",
       "      <td>1780.29</td>\n",
       "      <td>1827.67</td>\n",
       "      <td>2040.85</td>\n",
       "      <td>2086.67</td>\n",
       "      <td>2129.96</td>\n",
       "    </tr>\n",
       "    <tr>\n",
       "      <th>22</th>\n",
       "      <td>1278.76</td>\n",
       "      <td>1137.00</td>\n",
       "      <td>1287.05</td>\n",
       "      <td>1069.23</td>\n",
       "      <td>973.00</td>\n",
       "      <td>887.50</td>\n",
       "      <td>537.83</td>\n",
       "      <td>461.03</td>\n",
       "      <td>189.03</td>\n",
       "      <td>178.53</td>\n",
       "      <td>...</td>\n",
       "      <td>1072.60</td>\n",
       "      <td>1085.33</td>\n",
       "      <td>1196.51</td>\n",
       "      <td>1480.55</td>\n",
       "      <td>1454.32</td>\n",
       "      <td>1618.88</td>\n",
       "      <td>1666.16</td>\n",
       "      <td>1879.36</td>\n",
       "      <td>1925.18</td>\n",
       "      <td>1968.48</td>\n",
       "    </tr>\n",
       "    <tr>\n",
       "      <th>23</th>\n",
       "      <td>1240.56</td>\n",
       "      <td>1098.78</td>\n",
       "      <td>1248.83</td>\n",
       "      <td>1031.01</td>\n",
       "      <td>934.79</td>\n",
       "      <td>849.29</td>\n",
       "      <td>499.76</td>\n",
       "      <td>422.95</td>\n",
       "      <td>150.86</td>\n",
       "      <td>140.35</td>\n",
       "      <td>...</td>\n",
       "      <td>1110.81</td>\n",
       "      <td>1123.47</td>\n",
       "      <td>1234.72</td>\n",
       "      <td>1518.73</td>\n",
       "      <td>1492.51</td>\n",
       "      <td>1656.96</td>\n",
       "      <td>1704.13</td>\n",
       "      <td>1917.19</td>\n",
       "      <td>1963.00</td>\n",
       "      <td>2006.28</td>\n",
       "    </tr>\n",
       "    <tr>\n",
       "      <th>25</th>\n",
       "      <td>1290.01</td>\n",
       "      <td>1148.55</td>\n",
       "      <td>1298.47</td>\n",
       "      <td>1080.81</td>\n",
       "      <td>984.65</td>\n",
       "      <td>899.17</td>\n",
       "      <td>549.87</td>\n",
       "      <td>473.06</td>\n",
       "      <td>200.30</td>\n",
       "      <td>189.85</td>\n",
       "      <td>...</td>\n",
       "      <td>1060.96</td>\n",
       "      <td>1073.45</td>\n",
       "      <td>1184.88</td>\n",
       "      <td>1468.77</td>\n",
       "      <td>1442.59</td>\n",
       "      <td>1606.87</td>\n",
       "      <td>1653.99</td>\n",
       "      <td>1867.04</td>\n",
       "      <td>1912.85</td>\n",
       "      <td>1956.14</td>\n",
       "    </tr>\n",
       "    <tr>\n",
       "      <th>27</th>\n",
       "      <td>1462.24</td>\n",
       "      <td>1322.07</td>\n",
       "      <td>1471.44</td>\n",
       "      <td>1254.45</td>\n",
       "      <td>1158.60</td>\n",
       "      <td>1073.26</td>\n",
       "      <td>725.08</td>\n",
       "      <td>648.26</td>\n",
       "      <td>374.24</td>\n",
       "      <td>363.98</td>\n",
       "      <td>...</td>\n",
       "      <td>887.96</td>\n",
       "      <td>899.34</td>\n",
       "      <td>1011.83</td>\n",
       "      <td>1294.94</td>\n",
       "      <td>1269.02</td>\n",
       "      <td>1432.13</td>\n",
       "      <td>1478.76</td>\n",
       "      <td>1691.50</td>\n",
       "      <td>1737.30</td>\n",
       "      <td>1780.56</td>\n",
       "    </tr>\n",
       "    <tr>\n",
       "      <th>28</th>\n",
       "      <td>1632.03</td>\n",
       "      <td>1491.70</td>\n",
       "      <td>1641.18</td>\n",
       "      <td>1424.04</td>\n",
       "      <td>1328.09</td>\n",
       "      <td>1242.69</td>\n",
       "      <td>893.73</td>\n",
       "      <td>816.91</td>\n",
       "      <td>543.55</td>\n",
       "      <td>533.22</td>\n",
       "      <td>...</td>\n",
       "      <td>718.16</td>\n",
       "      <td>729.78</td>\n",
       "      <td>842.03</td>\n",
       "      <td>1125.29</td>\n",
       "      <td>1099.30</td>\n",
       "      <td>1263.01</td>\n",
       "      <td>1310.28</td>\n",
       "      <td>1523.81</td>\n",
       "      <td>1569.67</td>\n",
       "      <td>1613.03</td>\n",
       "    </tr>\n",
       "    <tr>\n",
       "      <th>29</th>\n",
       "      <td>1715.19</td>\n",
       "      <td>1574.62</td>\n",
       "      <td>1724.22</td>\n",
       "      <td>1506.93</td>\n",
       "      <td>1410.89</td>\n",
       "      <td>1325.45</td>\n",
       "      <td>976.02</td>\n",
       "      <td>899.24</td>\n",
       "      <td>626.34</td>\n",
       "      <td>615.97</td>\n",
       "      <td>...</td>\n",
       "      <td>635.02</td>\n",
       "      <td>647.11</td>\n",
       "      <td>758.91</td>\n",
       "      <td>1042.45</td>\n",
       "      <td>1016.36</td>\n",
       "      <td>1180.76</td>\n",
       "      <td>1228.60</td>\n",
       "      <td>1442.72</td>\n",
       "      <td>1488.62</td>\n",
       "      <td>1532.05</td>\n",
       "    </tr>\n",
       "    <tr>\n",
       "      <th>30</th>\n",
       "      <td>1715.88</td>\n",
       "      <td>1576.54</td>\n",
       "      <td>1725.56</td>\n",
       "      <td>1509.00</td>\n",
       "      <td>1413.31</td>\n",
       "      <td>1328.04</td>\n",
       "      <td>980.12</td>\n",
       "      <td>903.30</td>\n",
       "      <td>629.22</td>\n",
       "      <td>618.99</td>\n",
       "      <td>...</td>\n",
       "      <td>635.44</td>\n",
       "      <td>645.25</td>\n",
       "      <td>759.04</td>\n",
       "      <td>1040.96</td>\n",
       "      <td>1015.35</td>\n",
       "      <td>1177.29</td>\n",
       "      <td>1223.71</td>\n",
       "      <td>1436.57</td>\n",
       "      <td>1482.39</td>\n",
       "      <td>1525.68</td>\n",
       "    </tr>\n",
       "    <tr>\n",
       "      <th>31</th>\n",
       "      <td>1731.07</td>\n",
       "      <td>1590.50</td>\n",
       "      <td>1740.10</td>\n",
       "      <td>1522.82</td>\n",
       "      <td>1426.77</td>\n",
       "      <td>1341.34</td>\n",
       "      <td>991.88</td>\n",
       "      <td>915.10</td>\n",
       "      <td>642.22</td>\n",
       "      <td>631.86</td>\n",
       "      <td>...</td>\n",
       "      <td>619.13</td>\n",
       "      <td>631.24</td>\n",
       "      <td>743.03</td>\n",
       "      <td>1026.57</td>\n",
       "      <td>1000.47</td>\n",
       "      <td>1164.92</td>\n",
       "      <td>1212.82</td>\n",
       "      <td>1427.00</td>\n",
       "      <td>1472.91</td>\n",
       "      <td>1516.35</td>\n",
       "    </tr>\n",
       "    <tr>\n",
       "      <th>32</th>\n",
       "      <td>1744.94</td>\n",
       "      <td>1604.41</td>\n",
       "      <td>1753.99</td>\n",
       "      <td>1536.72</td>\n",
       "      <td>1440.69</td>\n",
       "      <td>1355.25</td>\n",
       "      <td>1005.81</td>\n",
       "      <td>929.03</td>\n",
       "      <td>656.13</td>\n",
       "      <td>645.77</td>\n",
       "      <td>...</td>\n",
       "      <td>605.26</td>\n",
       "      <td>617.31</td>\n",
       "      <td>729.14</td>\n",
       "      <td>1012.65</td>\n",
       "      <td>986.56</td>\n",
       "      <td>1150.99</td>\n",
       "      <td>1198.91</td>\n",
       "      <td>1413.13</td>\n",
       "      <td>1459.04</td>\n",
       "      <td>1502.48</td>\n",
       "    </tr>\n",
       "    <tr>\n",
       "      <th>33</th>\n",
       "      <td>1783.76</td>\n",
       "      <td>1643.21</td>\n",
       "      <td>1792.82</td>\n",
       "      <td>1575.53</td>\n",
       "      <td>1479.48</td>\n",
       "      <td>1394.04</td>\n",
       "      <td>1044.51</td>\n",
       "      <td>967.73</td>\n",
       "      <td>694.93</td>\n",
       "      <td>684.56</td>\n",
       "      <td>...</td>\n",
       "      <td>566.43</td>\n",
       "      <td>578.58</td>\n",
       "      <td>690.32</td>\n",
       "      <td>973.87</td>\n",
       "      <td>947.76</td>\n",
       "      <td>1112.36</td>\n",
       "      <td>1160.47</td>\n",
       "      <td>1374.90</td>\n",
       "      <td>1420.82</td>\n",
       "      <td>1464.29</td>\n",
       "    </tr>\n",
       "    <tr>\n",
       "      <th>34</th>\n",
       "      <td>1888.31</td>\n",
       "      <td>1747.49</td>\n",
       "      <td>1897.23</td>\n",
       "      <td>1679.77</td>\n",
       "      <td>1583.63</td>\n",
       "      <td>1498.16</td>\n",
       "      <td>1148.20</td>\n",
       "      <td>1071.47</td>\n",
       "      <td>799.17</td>\n",
       "      <td>788.77</td>\n",
       "      <td>...</td>\n",
       "      <td>462.00</td>\n",
       "      <td>475.13</td>\n",
       "      <td>585.91</td>\n",
       "      <td>869.93</td>\n",
       "      <td>843.64</td>\n",
       "      <td>1009.37</td>\n",
       "      <td>1058.40</td>\n",
       "      <td>1273.68</td>\n",
       "      <td>1319.64</td>\n",
       "      <td>1363.20</td>\n",
       "    </tr>\n",
       "    <tr>\n",
       "      <th>35</th>\n",
       "      <td>1888.31</td>\n",
       "      <td>1747.49</td>\n",
       "      <td>1897.23</td>\n",
       "      <td>1679.77</td>\n",
       "      <td>1583.63</td>\n",
       "      <td>1498.16</td>\n",
       "      <td>1148.20</td>\n",
       "      <td>1071.47</td>\n",
       "      <td>799.17</td>\n",
       "      <td>788.77</td>\n",
       "      <td>...</td>\n",
       "      <td>462.00</td>\n",
       "      <td>475.13</td>\n",
       "      <td>585.91</td>\n",
       "      <td>869.93</td>\n",
       "      <td>843.64</td>\n",
       "      <td>1009.37</td>\n",
       "      <td>1058.40</td>\n",
       "      <td>1273.68</td>\n",
       "      <td>1319.64</td>\n",
       "      <td>1363.20</td>\n",
       "    </tr>\n",
       "    <tr>\n",
       "      <th>36</th>\n",
       "      <td>1973.65</td>\n",
       "      <td>1832.90</td>\n",
       "      <td>1982.61</td>\n",
       "      <td>1765.19</td>\n",
       "      <td>1669.05</td>\n",
       "      <td>1583.58</td>\n",
       "      <td>1233.59</td>\n",
       "      <td>1156.87</td>\n",
       "      <td>884.58</td>\n",
       "      <td>874.18</td>\n",
       "      <td>...</td>\n",
       "      <td>376.60</td>\n",
       "      <td>389.93</td>\n",
       "      <td>500.51</td>\n",
       "      <td>784.54</td>\n",
       "      <td>758.22</td>\n",
       "      <td>924.27</td>\n",
       "      <td>973.74</td>\n",
       "      <td>1189.44</td>\n",
       "      <td>1235.42</td>\n",
       "      <td>1279.02</td>\n",
       "    </tr>\n",
       "    <tr>\n",
       "      <th>37</th>\n",
       "      <td>2234.89</td>\n",
       "      <td>2093.95</td>\n",
       "      <td>2243.77</td>\n",
       "      <td>2026.21</td>\n",
       "      <td>1930.00</td>\n",
       "      <td>1844.49</td>\n",
       "      <td>1494.12</td>\n",
       "      <td>1417.46</td>\n",
       "      <td>1145.65</td>\n",
       "      <td>1135.24</td>\n",
       "      <td>...</td>\n",
       "      <td>115.80</td>\n",
       "      <td>135.91</td>\n",
       "      <td>239.60</td>\n",
       "      <td>524.65</td>\n",
       "      <td>497.85</td>\n",
       "      <td>667.02</td>\n",
       "      <td>719.34</td>\n",
       "      <td>936.94</td>\n",
       "      <td>982.91</td>\n",
       "      <td>1026.64</td>\n",
       "    </tr>\n",
       "    <tr>\n",
       "      <th>38</th>\n",
       "      <td>2344.24</td>\n",
       "      <td>2204.35</td>\n",
       "      <td>2353.70</td>\n",
       "      <td>2136.71</td>\n",
       "      <td>2040.74</td>\n",
       "      <td>1955.33</td>\n",
       "      <td>1605.80</td>\n",
       "      <td>1529.04</td>\n",
       "      <td>1256.19</td>\n",
       "      <td>1245.84</td>\n",
       "      <td>...</td>\n",
       "      <td>34.00</td>\n",
       "      <td>18.28</td>\n",
       "      <td>133.49</td>\n",
       "      <td>412.65</td>\n",
       "      <td>386.93</td>\n",
       "      <td>552.03</td>\n",
       "      <td>602.93</td>\n",
       "      <td>820.07</td>\n",
       "      <td>866.06</td>\n",
       "      <td>909.77</td>\n",
       "    </tr>\n",
       "    <tr>\n",
       "      <th>39</th>\n",
       "      <td>2350.19</td>\n",
       "      <td>2209.48</td>\n",
       "      <td>2359.21</td>\n",
       "      <td>2141.76</td>\n",
       "      <td>2045.59</td>\n",
       "      <td>1960.10</td>\n",
       "      <td>1609.83</td>\n",
       "      <td>1533.16</td>\n",
       "      <td>1261.16</td>\n",
       "      <td>1250.76</td>\n",
       "      <td>...</td>\n",
       "      <td>0.00</td>\n",
       "      <td>42.05</td>\n",
       "      <td>123.92</td>\n",
       "      <td>408.87</td>\n",
       "      <td>382.05</td>\n",
       "      <td>551.90</td>\n",
       "      <td>605.29</td>\n",
       "      <td>823.40</td>\n",
       "      <td>869.32</td>\n",
       "      <td>913.06</td>\n",
       "    </tr>\n",
       "    <tr>\n",
       "      <th>40</th>\n",
       "      <td>2361.13</td>\n",
       "      <td>2221.41</td>\n",
       "      <td>2370.68</td>\n",
       "      <td>2153.78</td>\n",
       "      <td>2057.86</td>\n",
       "      <td>1972.47</td>\n",
       "      <td>1623.08</td>\n",
       "      <td>1546.31</td>\n",
       "      <td>1273.32</td>\n",
       "      <td>1262.99</td>\n",
       "      <td>...</td>\n",
       "      <td>42.05</td>\n",
       "      <td>0.00</td>\n",
       "      <td>119.28</td>\n",
       "      <td>395.71</td>\n",
       "      <td>370.26</td>\n",
       "      <td>534.39</td>\n",
       "      <td>584.96</td>\n",
       "      <td>801.99</td>\n",
       "      <td>847.98</td>\n",
       "      <td>891.69</td>\n",
       "    </tr>\n",
       "    <tr>\n",
       "      <th>44</th>\n",
       "      <td>2474.07</td>\n",
       "      <td>2333.40</td>\n",
       "      <td>2483.12</td>\n",
       "      <td>2265.68</td>\n",
       "      <td>2169.51</td>\n",
       "      <td>2084.01</td>\n",
       "      <td>1733.71</td>\n",
       "      <td>1657.04</td>\n",
       "      <td>1385.08</td>\n",
       "      <td>1374.68</td>\n",
       "      <td>...</td>\n",
       "      <td>123.92</td>\n",
       "      <td>119.28</td>\n",
       "      <td>0.00</td>\n",
       "      <td>285.61</td>\n",
       "      <td>258.42</td>\n",
       "      <td>430.64</td>\n",
       "      <td>486.34</td>\n",
       "      <td>704.94</td>\n",
       "      <td>750.67</td>\n",
       "      <td>794.37</td>\n",
       "    </tr>\n",
       "    <tr>\n",
       "      <th>45</th>\n",
       "      <td>2756.83</td>\n",
       "      <td>2616.98</td>\n",
       "      <td>2766.34</td>\n",
       "      <td>2549.33</td>\n",
       "      <td>2453.34</td>\n",
       "      <td>2367.91</td>\n",
       "      <td>2018.13</td>\n",
       "      <td>1941.40</td>\n",
       "      <td>1668.78</td>\n",
       "      <td>1658.42</td>\n",
       "      <td>...</td>\n",
       "      <td>408.87</td>\n",
       "      <td>395.71</td>\n",
       "      <td>285.61</td>\n",
       "      <td>0.00</td>\n",
       "      <td>29.34</td>\n",
       "      <td>150.24</td>\n",
       "      <td>213.36</td>\n",
       "      <td>428.72</td>\n",
       "      <td>473.50</td>\n",
       "      <td>516.72</td>\n",
       "    </tr>\n",
       "    <tr>\n",
       "      <th>46</th>\n",
       "      <td>2731.11</td>\n",
       "      <td>2590.97</td>\n",
       "      <td>2740.46</td>\n",
       "      <td>2523.29</td>\n",
       "      <td>2427.22</td>\n",
       "      <td>2341.76</td>\n",
       "      <td>1991.75</td>\n",
       "      <td>1915.05</td>\n",
       "      <td>1642.69</td>\n",
       "      <td>1632.31</td>\n",
       "      <td>...</td>\n",
       "      <td>382.05</td>\n",
       "      <td>370.26</td>\n",
       "      <td>258.42</td>\n",
       "      <td>29.34</td>\n",
       "      <td>0.00</td>\n",
       "      <td>179.56</td>\n",
       "      <td>242.59</td>\n",
       "      <td>458.04</td>\n",
       "      <td>502.79</td>\n",
       "      <td>545.99</td>\n",
       "    </tr>\n",
       "    <tr>\n",
       "      <th>47</th>\n",
       "      <td>2892.25</td>\n",
       "      <td>2753.75</td>\n",
       "      <td>2902.47</td>\n",
       "      <td>2686.25</td>\n",
       "      <td>2590.60</td>\n",
       "      <td>2505.33</td>\n",
       "      <td>2156.71</td>\n",
       "      <td>2079.91</td>\n",
       "      <td>1806.36</td>\n",
       "      <td>1796.08</td>\n",
       "      <td>...</td>\n",
       "      <td>551.90</td>\n",
       "      <td>534.39</td>\n",
       "      <td>430.64</td>\n",
       "      <td>150.24</td>\n",
       "      <td>179.56</td>\n",
       "      <td>0.00</td>\n",
       "      <td>67.27</td>\n",
       "      <td>278.49</td>\n",
       "      <td>323.29</td>\n",
       "      <td>366.58</td>\n",
       "    </tr>\n",
       "    <tr>\n",
       "      <th>48</th>\n",
       "      <td>2936.57</td>\n",
       "      <td>2799.14</td>\n",
       "      <td>2947.32</td>\n",
       "      <td>2731.79</td>\n",
       "      <td>2636.45</td>\n",
       "      <td>2551.33</td>\n",
       "      <td>2203.80</td>\n",
       "      <td>2126.98</td>\n",
       "      <td>1852.89</td>\n",
       "      <td>1842.68</td>\n",
       "      <td>...</td>\n",
       "      <td>605.29</td>\n",
       "      <td>584.96</td>\n",
       "      <td>486.34</td>\n",
       "      <td>213.36</td>\n",
       "      <td>242.59</td>\n",
       "      <td>67.27</td>\n",
       "      <td>0.00</td>\n",
       "      <td>218.62</td>\n",
       "      <td>264.34</td>\n",
       "      <td>308.05</td>\n",
       "    </tr>\n",
       "    <tr>\n",
       "      <th>50</th>\n",
       "      <td>3145.88</td>\n",
       "      <td>3009.77</td>\n",
       "      <td>3157.26</td>\n",
       "      <td>2942.60</td>\n",
       "      <td>2847.64</td>\n",
       "      <td>2762.73</td>\n",
       "      <td>2416.48</td>\n",
       "      <td>2339.68</td>\n",
       "      <td>2065.22</td>\n",
       "      <td>2055.09</td>\n",
       "      <td>...</td>\n",
       "      <td>823.40</td>\n",
       "      <td>801.99</td>\n",
       "      <td>704.94</td>\n",
       "      <td>428.72</td>\n",
       "      <td>458.04</td>\n",
       "      <td>278.49</td>\n",
       "      <td>218.62</td>\n",
       "      <td>0.00</td>\n",
       "      <td>46.00</td>\n",
       "      <td>89.71</td>\n",
       "    </tr>\n",
       "    <tr>\n",
       "      <th>51</th>\n",
       "      <td>3191.30</td>\n",
       "      <td>3055.33</td>\n",
       "      <td>3202.74</td>\n",
       "      <td>2988.17</td>\n",
       "      <td>2893.25</td>\n",
       "      <td>2808.37</td>\n",
       "      <td>2462.24</td>\n",
       "      <td>2385.45</td>\n",
       "      <td>2110.97</td>\n",
       "      <td>2100.84</td>\n",
       "      <td>...</td>\n",
       "      <td>869.32</td>\n",
       "      <td>847.98</td>\n",
       "      <td>750.67</td>\n",
       "      <td>473.50</td>\n",
       "      <td>502.79</td>\n",
       "      <td>323.29</td>\n",
       "      <td>264.34</td>\n",
       "      <td>46.00</td>\n",
       "      <td>0.00</td>\n",
       "      <td>43.74</td>\n",
       "    </tr>\n",
       "    <tr>\n",
       "      <th>52</th>\n",
       "      <td>3234.03</td>\n",
       "      <td>3098.25</td>\n",
       "      <td>3245.56</td>\n",
       "      <td>3031.13</td>\n",
       "      <td>2936.26</td>\n",
       "      <td>2851.40</td>\n",
       "      <td>2505.46</td>\n",
       "      <td>2428.67</td>\n",
       "      <td>2154.16</td>\n",
       "      <td>2144.04</td>\n",
       "      <td>...</td>\n",
       "      <td>913.06</td>\n",
       "      <td>891.69</td>\n",
       "      <td>794.37</td>\n",
       "      <td>516.72</td>\n",
       "      <td>545.99</td>\n",
       "      <td>366.58</td>\n",
       "      <td>308.05</td>\n",
       "      <td>89.71</td>\n",
       "      <td>43.74</td>\n",
       "      <td>0.00</td>\n",
       "    </tr>\n",
       "  </tbody>\n",
       "</table>\n",
       "<p>38 rows × 38 columns</p>\n",
       "</div>"
      ],
      "text/plain": [
       "         1        2        3        8        9        11       14       15  \\\n",
       "1      0.00   150.93    32.59   216.53   312.53   396.85   747.69   822.68   \n",
       "2    150.93     0.00   151.69    67.89   164.76   250.26   602.27   678.12   \n",
       "3     32.59   151.69     0.00   219.36   316.27   401.58   753.50   829.11   \n",
       "8    216.53    67.89   219.36     0.00    96.92   182.37   534.38   610.23   \n",
       "9    312.53   164.76   316.27    96.92     0.00    85.59   437.55   513.51   \n",
       "11   396.85   250.26   401.58   182.37    85.59     0.00   352.01   427.92   \n",
       "14   747.69   602.27   753.50   534.38   437.55   352.01     0.00    76.82   \n",
       "15   822.68   678.12   829.11   610.23   513.51   427.92    76.82     0.00   \n",
       "16  1089.75   948.32  1098.18   880.61   784.56   699.14   351.40   274.70   \n",
       "18  1100.24   958.73  1108.62   891.00   794.92   709.49   361.45   284.71   \n",
       "19  1116.45   973.71  1124.13   905.88   809.45   723.89   373.60   296.83   \n",
       "20  1123.63   980.80  1131.25   912.97   816.52   730.95   380.52   303.77   \n",
       "21  1119.66   976.81  1127.27   908.98   812.52   726.96   376.51   299.76   \n",
       "22  1278.76  1137.00  1287.05  1069.23   973.00   887.50   537.83   461.03   \n",
       "23  1240.56  1098.78  1248.83  1031.01   934.79   849.29   499.76   422.95   \n",
       "25  1290.01  1148.55  1298.47  1080.81   984.65   899.17   549.87   473.06   \n",
       "27  1462.24  1322.07  1471.44  1254.45  1158.60  1073.26   725.08   648.26   \n",
       "28  1632.03  1491.70  1641.18  1424.04  1328.09  1242.69   893.73   816.91   \n",
       "29  1715.19  1574.62  1724.22  1506.93  1410.89  1325.45   976.02   899.24   \n",
       "30  1715.88  1576.54  1725.56  1509.00  1413.31  1328.04   980.12   903.30   \n",
       "31  1731.07  1590.50  1740.10  1522.82  1426.77  1341.34   991.88   915.10   \n",
       "32  1744.94  1604.41  1753.99  1536.72  1440.69  1355.25  1005.81   929.03   \n",
       "33  1783.76  1643.21  1792.82  1575.53  1479.48  1394.04  1044.51   967.73   \n",
       "34  1888.31  1747.49  1897.23  1679.77  1583.63  1498.16  1148.20  1071.47   \n",
       "35  1888.31  1747.49  1897.23  1679.77  1583.63  1498.16  1148.20  1071.47   \n",
       "36  1973.65  1832.90  1982.61  1765.19  1669.05  1583.58  1233.59  1156.87   \n",
       "37  2234.89  2093.95  2243.77  2026.21  1930.00  1844.49  1494.12  1417.46   \n",
       "38  2344.24  2204.35  2353.70  2136.71  2040.74  1955.33  1605.80  1529.04   \n",
       "39  2350.19  2209.48  2359.21  2141.76  2045.59  1960.10  1609.83  1533.16   \n",
       "40  2361.13  2221.41  2370.68  2153.78  2057.86  1972.47  1623.08  1546.31   \n",
       "44  2474.07  2333.40  2483.12  2265.68  2169.51  2084.01  1733.71  1657.04   \n",
       "45  2756.83  2616.98  2766.34  2549.33  2453.34  2367.91  2018.13  1941.40   \n",
       "46  2731.11  2590.97  2740.46  2523.29  2427.22  2341.76  1991.75  1915.05   \n",
       "47  2892.25  2753.75  2902.47  2686.25  2590.60  2505.33  2156.71  2079.91   \n",
       "48  2936.57  2799.14  2947.32  2731.79  2636.45  2551.33  2203.80  2126.98   \n",
       "50  3145.88  3009.77  3157.26  2942.60  2847.64  2762.73  2416.48  2339.68   \n",
       "51  3191.30  3055.33  3202.74  2988.17  2893.25  2808.37  2462.24  2385.45   \n",
       "52  3234.03  3098.25  3245.56  3031.13  2936.26  2851.40  2505.46  2428.67   \n",
       "\n",
       "         16       18  ...       39       40       44       45       46  \\\n",
       "1   1089.75  1100.24  ...  2350.19  2361.13  2474.07  2756.83  2731.11   \n",
       "2    948.32   958.73  ...  2209.48  2221.41  2333.40  2616.98  2590.97   \n",
       "3   1098.18  1108.62  ...  2359.21  2370.68  2483.12  2766.34  2740.46   \n",
       "8    880.61   891.00  ...  2141.76  2153.78  2265.68  2549.33  2523.29   \n",
       "9    784.56   794.92  ...  2045.59  2057.86  2169.51  2453.34  2427.22   \n",
       "11   699.14   709.49  ...  1960.10  1972.47  2084.01  2367.91  2341.76   \n",
       "14   351.40   361.45  ...  1609.83  1623.08  1733.71  2018.13  1991.75   \n",
       "15   274.70   284.71  ...  1533.16  1546.31  1657.04  1941.40  1915.05   \n",
       "16     0.00    10.57  ...  1261.16  1273.32  1385.08  1668.78  1642.69   \n",
       "18    10.57     0.00  ...  1250.76  1262.99  1374.68  1658.42  1632.31   \n",
       "19    37.29    29.62  ...  1236.42  1249.49  1360.32  1644.59  1618.27   \n",
       "20    43.67    35.21  ...  1229.43  1242.56  1353.32  1637.63  1611.29   \n",
       "21    41.04    33.16  ...  1233.43  1246.58  1357.33  1641.64  1615.30   \n",
       "22   189.03   178.53  ...  1072.60  1085.33  1196.51  1480.55  1454.32   \n",
       "23   150.86   140.35  ...  1110.81  1123.47  1234.72  1518.73  1492.51   \n",
       "25   200.30   189.85  ...  1060.96  1073.45  1184.88  1468.77  1442.59   \n",
       "27   374.24   363.98  ...   887.96   899.34  1011.83  1294.94  1269.02   \n",
       "28   543.55   533.22  ...   718.16   729.78   842.03  1125.29  1099.30   \n",
       "29   626.34   615.97  ...   635.02   647.11   758.91  1042.45  1016.36   \n",
       "30   629.22   618.99  ...   635.44   645.25   759.04  1040.96  1015.35   \n",
       "31   642.22   631.86  ...   619.13   631.24   743.03  1026.57  1000.47   \n",
       "32   656.13   645.77  ...   605.26   617.31   729.14  1012.65   986.56   \n",
       "33   694.93   684.56  ...   566.43   578.58   690.32   973.87   947.76   \n",
       "34   799.17   788.77  ...   462.00   475.13   585.91   869.93   843.64   \n",
       "35   799.17   788.77  ...   462.00   475.13   585.91   869.93   843.64   \n",
       "36   884.58   874.18  ...   376.60   389.93   500.51   784.54   758.22   \n",
       "37  1145.65  1135.24  ...   115.80   135.91   239.60   524.65   497.85   \n",
       "38  1256.19  1245.84  ...    34.00    18.28   133.49   412.65   386.93   \n",
       "39  1261.16  1250.76  ...     0.00    42.05   123.92   408.87   382.05   \n",
       "40  1273.32  1262.99  ...    42.05     0.00   119.28   395.71   370.26   \n",
       "44  1385.08  1374.68  ...   123.92   119.28     0.00   285.61   258.42   \n",
       "45  1668.78  1658.42  ...   408.87   395.71   285.61     0.00    29.34   \n",
       "46  1642.69  1632.31  ...   382.05   370.26   258.42    29.34     0.00   \n",
       "47  1806.36  1796.08  ...   551.90   534.39   430.64   150.24   179.56   \n",
       "48  1852.89  1842.68  ...   605.29   584.96   486.34   213.36   242.59   \n",
       "50  2065.22  2055.09  ...   823.40   801.99   704.94   428.72   458.04   \n",
       "51  2110.97  2100.84  ...   869.32   847.98   750.67   473.50   502.79   \n",
       "52  2154.16  2144.04  ...   913.06   891.69   794.37   516.72   545.99   \n",
       "\n",
       "         47       48       50       51       52  \n",
       "1   2892.25  2936.57  3145.88  3191.30  3234.03  \n",
       "2   2753.75  2799.14  3009.77  3055.33  3098.25  \n",
       "3   2902.47  2947.32  3157.26  3202.74  3245.56  \n",
       "8   2686.25  2731.79  2942.60  2988.17  3031.13  \n",
       "9   2590.60  2636.45  2847.64  2893.25  2936.26  \n",
       "11  2505.33  2551.33  2762.73  2808.37  2851.40  \n",
       "14  2156.71  2203.80  2416.48  2462.24  2505.46  \n",
       "15  2079.91  2126.98  2339.68  2385.45  2428.67  \n",
       "16  1806.36  1852.89  2065.22  2110.97  2154.16  \n",
       "18  1796.08  1842.68  2055.09  2100.84  2144.04  \n",
       "19  1783.15  1830.47  2043.58  2089.39  2132.68  \n",
       "20  1776.28  1823.66  2036.84  2082.66  2125.95  \n",
       "21  1780.29  1827.67  2040.85  2086.67  2129.96  \n",
       "22  1618.88  1666.16  1879.36  1925.18  1968.48  \n",
       "23  1656.96  1704.13  1917.19  1963.00  2006.28  \n",
       "25  1606.87  1653.99  1867.04  1912.85  1956.14  \n",
       "27  1432.13  1478.76  1691.50  1737.30  1780.56  \n",
       "28  1263.01  1310.28  1523.81  1569.67  1613.03  \n",
       "29  1180.76  1228.60  1442.72  1488.62  1532.05  \n",
       "30  1177.29  1223.71  1436.57  1482.39  1525.68  \n",
       "31  1164.92  1212.82  1427.00  1472.91  1516.35  \n",
       "32  1150.99  1198.91  1413.13  1459.04  1502.48  \n",
       "33  1112.36  1160.47  1374.90  1420.82  1464.29  \n",
       "34  1009.37  1058.40  1273.68  1319.64  1363.20  \n",
       "35  1009.37  1058.40  1273.68  1319.64  1363.20  \n",
       "36   924.27   973.74  1189.44  1235.42  1279.02  \n",
       "37   667.02   719.34   936.94   982.91  1026.64  \n",
       "38   552.03   602.93   820.07   866.06   909.77  \n",
       "39   551.90   605.29   823.40   869.32   913.06  \n",
       "40   534.39   584.96   801.99   847.98   891.69  \n",
       "44   430.64   486.34   704.94   750.67   794.37  \n",
       "45   150.24   213.36   428.72   473.50   516.72  \n",
       "46   179.56   242.59   458.04   502.79   545.99  \n",
       "47     0.00    67.27   278.49   323.29   366.58  \n",
       "48    67.27     0.00   218.62   264.34   308.05  \n",
       "50   278.49   218.62     0.00    46.00    89.71  \n",
       "51   323.29   264.34    46.00     0.00    43.74  \n",
       "52   366.58   308.05    89.71    43.74     0.00  \n",
       "\n",
       "[38 rows x 38 columns]"
      ]
     },
     "execution_count": 22,
     "metadata": {},
     "output_type": "execute_result"
    }
   ],
   "source": [
    "gdf = cafes.to_crs(crs) # project the coordinates\n",
    "\n",
    "dists = []\n",
    "for i, g in gdf.iterrows():\n",
    "    geom = g.geometry\n",
    "    d = gdf.distance(geom).tolist()\n",
    "    dists.append(d)\n",
    "\n",
    "dists = pd.DataFrame(dists, index=gdf.index, columns=gdf.index).round(2)\n",
    "dists"
   ]
  },
  {
   "cell_type": "code",
   "execution_count": 23,
   "id": "41e07cf3",
   "metadata": {},
   "outputs": [
    {
     "data": {
      "text/plain": [
       "np.float64(50.49189035272861)"
      ]
     },
     "execution_count": 23,
     "metadata": {},
     "output_type": "execute_result"
    }
   ],
   "source": [
    "nearests = gdf.sjoin_nearest(gdf, distance_col='sdist', exclusive=True)[['id_left', 'id_right', 'sdist']]\n",
    "nearests\n",
    "nearests['sdist'].mean()"
   ]
  },
  {
   "cell_type": "code",
   "execution_count": 24,
   "id": "558da5b8",
   "metadata": {},
   "outputs": [
    {
     "data": {
      "text/html": [
       "<div>\n",
       "<style scoped>\n",
       "    .dataframe tbody tr th:only-of-type {\n",
       "        vertical-align: middle;\n",
       "    }\n",
       "\n",
       "    .dataframe tbody tr th {\n",
       "        vertical-align: top;\n",
       "    }\n",
       "\n",
       "    .dataframe thead th {\n",
       "        text-align: right;\n",
       "    }\n",
       "</style>\n",
       "<table border=\"1\" class=\"dataframe\">\n",
       "  <thead>\n",
       "    <tr style=\"text-align: right;\">\n",
       "      <th></th>\n",
       "      <th>id_left</th>\n",
       "      <th>id_right</th>\n",
       "      <th>sdist</th>\n",
       "    </tr>\n",
       "  </thead>\n",
       "  <tbody>\n",
       "    <tr>\n",
       "      <th>1</th>\n",
       "      <td>ChIJgcEWYU6_oRQR-cd2bf6di68</td>\n",
       "      <td>ChIJ78DvEB2-oRQRJRLxgttGeas</td>\n",
       "      <td>32.592452</td>\n",
       "    </tr>\n",
       "    <tr>\n",
       "      <th>2</th>\n",
       "      <td>ChIJgSMfxKu_oRQRDDje9yAhZfM</td>\n",
       "      <td>ChIJS8Wq1sS_oRQRV63ytQ_llsc</td>\n",
       "      <td>67.891246</td>\n",
       "    </tr>\n",
       "    <tr>\n",
       "      <th>3</th>\n",
       "      <td>ChIJ78DvEB2-oRQRJRLxgttGeas</td>\n",
       "      <td>ChIJgcEWYU6_oRQR-cd2bf6di68</td>\n",
       "      <td>32.592452</td>\n",
       "    </tr>\n",
       "    <tr>\n",
       "      <th>8</th>\n",
       "      <td>ChIJS8Wq1sS_oRQRV63ytQ_llsc</td>\n",
       "      <td>ChIJgSMfxKu_oRQRDDje9yAhZfM</td>\n",
       "      <td>67.891246</td>\n",
       "    </tr>\n",
       "    <tr>\n",
       "      <th>9</th>\n",
       "      <td>ChIJWd9MyR2-oRQRnUIGI3XRrl0</td>\n",
       "      <td>ChIJo9Fudx6-oRQRSYYEmtYc1R8</td>\n",
       "      <td>85.594782</td>\n",
       "    </tr>\n",
       "    <tr>\n",
       "      <th>11</th>\n",
       "      <td>ChIJo9Fudx6-oRQRSYYEmtYc1R8</td>\n",
       "      <td>ChIJWd9MyR2-oRQRnUIGI3XRrl0</td>\n",
       "      <td>85.594782</td>\n",
       "    </tr>\n",
       "    <tr>\n",
       "      <th>14</th>\n",
       "      <td>ChIJe3_1uh--oRQRlMU-4IznfWs</td>\n",
       "      <td>ChIJW9F_ix--oRQRpUygAqwjuy8</td>\n",
       "      <td>76.820468</td>\n",
       "    </tr>\n",
       "    <tr>\n",
       "      <th>15</th>\n",
       "      <td>ChIJW9F_ix--oRQRpUygAqwjuy8</td>\n",
       "      <td>ChIJe3_1uh--oRQRlMU-4IznfWs</td>\n",
       "      <td>76.820468</td>\n",
       "    </tr>\n",
       "    <tr>\n",
       "      <th>16</th>\n",
       "      <td>ChIJ31YIbCC-oRQR94INzAZyomg</td>\n",
       "      <td>ChIJ9aCCNMO_oRQRa27Yn0QAuq0</td>\n",
       "      <td>10.573095</td>\n",
       "    </tr>\n",
       "    <tr>\n",
       "      <th>18</th>\n",
       "      <td>ChIJ9aCCNMO_oRQRa27Yn0QAuq0</td>\n",
       "      <td>ChIJ31YIbCC-oRQR94INzAZyomg</td>\n",
       "      <td>10.573095</td>\n",
       "    </tr>\n",
       "    <tr>\n",
       "      <th>19</th>\n",
       "      <td>ChIJjeHJayC-oRQR1atHqzb0ZxY</td>\n",
       "      <td>ChIJFc0Es42_oRQRNH5o4nz8OmQ</td>\n",
       "      <td>3.815819</td>\n",
       "    </tr>\n",
       "    <tr>\n",
       "      <th>20</th>\n",
       "      <td>ChIJ8xPUbiC-oRQRhCv0LmNGquo</td>\n",
       "      <td>ChIJFc0Es42_oRQRNH5o4nz8OmQ</td>\n",
       "      <td>4.012994</td>\n",
       "    </tr>\n",
       "    <tr>\n",
       "      <th>21</th>\n",
       "      <td>ChIJFc0Es42_oRQRNH5o4nz8OmQ</td>\n",
       "      <td>ChIJjeHJayC-oRQR1atHqzb0ZxY</td>\n",
       "      <td>3.815819</td>\n",
       "    </tr>\n",
       "    <tr>\n",
       "      <th>22</th>\n",
       "      <td>ChIJhzdkjyC-oRQRo-VFWGpzGDk</td>\n",
       "      <td>ChIJyTCvYiC-oRQRaZhvxATHzHo</td>\n",
       "      <td>13.321398</td>\n",
       "    </tr>\n",
       "    <tr>\n",
       "      <th>23</th>\n",
       "      <td>ChIJP08eiCC-oRQRlyl5Fv5gz0Y</td>\n",
       "      <td>ChIJhzdkjyC-oRQRo-VFWGpzGDk</td>\n",
       "      <td>38.223900</td>\n",
       "    </tr>\n",
       "    <tr>\n",
       "      <th>25</th>\n",
       "      <td>ChIJyTCvYiC-oRQRaZhvxATHzHo</td>\n",
       "      <td>ChIJhzdkjyC-oRQRo-VFWGpzGDk</td>\n",
       "      <td>13.321398</td>\n",
       "    </tr>\n",
       "    <tr>\n",
       "      <th>27</th>\n",
       "      <td>ChIJA4CkpyC-oRQRLJzD37R9zJA</td>\n",
       "      <td>ChIJ3SERPwC_oRQRRIlNP8SrGJA</td>\n",
       "      <td>169.801633</td>\n",
       "    </tr>\n",
       "    <tr>\n",
       "      <th>28</th>\n",
       "      <td>ChIJ3SERPwC_oRQRRIlNP8SrGJA</td>\n",
       "      <td>ChIJh-lqAziVoRQRWfzIcCqn1ww</td>\n",
       "      <td>83.332829</td>\n",
       "    </tr>\n",
       "    <tr>\n",
       "      <th>29</th>\n",
       "      <td>ChIJh-lqAziVoRQRWfzIcCqn1ww</td>\n",
       "      <td>ChIJp1dRmS6VoRQRPoVkAVu6xVQ</td>\n",
       "      <td>15.886977</td>\n",
       "    </tr>\n",
       "    <tr>\n",
       "      <th>30</th>\n",
       "      <td>ChIJg9G_zS2VoRQRYxBUPi2HV0I</td>\n",
       "      <td>ChIJh-lqAziVoRQRWfzIcCqn1ww</td>\n",
       "      <td>35.982287</td>\n",
       "    </tr>\n",
       "    <tr>\n",
       "      <th>31</th>\n",
       "      <td>ChIJp1dRmS6VoRQRPoVkAVu6xVQ</td>\n",
       "      <td>ChIJCwVXZGmVoRQRwNDeO_ZHPO4</td>\n",
       "      <td>13.928930</td>\n",
       "    </tr>\n",
       "    <tr>\n",
       "      <th>32</th>\n",
       "      <td>ChIJCwVXZGmVoRQRwNDeO_ZHPO4</td>\n",
       "      <td>ChIJp1dRmS6VoRQRPoVkAVu6xVQ</td>\n",
       "      <td>13.928930</td>\n",
       "    </tr>\n",
       "    <tr>\n",
       "      <th>33</th>\n",
       "      <td>ChIJh3x51omVoRQRa-NyAP4KcGE</td>\n",
       "      <td>ChIJCwVXZGmVoRQRwNDeO_ZHPO4</td>\n",
       "      <td>38.824401</td>\n",
       "    </tr>\n",
       "    <tr>\n",
       "      <th>34</th>\n",
       "      <td>ChIJPaLlF36VoRQReZ6n35YiH8g</td>\n",
       "      <td>ChIJzTA6H4iVoRQRMx2fJI8fOL8</td>\n",
       "      <td>85.421658</td>\n",
       "    </tr>\n",
       "    <tr>\n",
       "      <th>35</th>\n",
       "      <td>ChIJh8-HehWVoRQRu0nSYT-aX4E</td>\n",
       "      <td>ChIJzTA6H4iVoRQRMx2fJI8fOL8</td>\n",
       "      <td>85.421658</td>\n",
       "    </tr>\n",
       "    <tr>\n",
       "      <th>36</th>\n",
       "      <td>ChIJzTA6H4iVoRQRMx2fJI8fOL8</td>\n",
       "      <td>ChIJh8-HehWVoRQRu0nSYT-aX4E</td>\n",
       "      <td>85.421658</td>\n",
       "    </tr>\n",
       "    <tr>\n",
       "      <th>36</th>\n",
       "      <td>ChIJzTA6H4iVoRQRMx2fJI8fOL8</td>\n",
       "      <td>ChIJPaLlF36VoRQReZ6n35YiH8g</td>\n",
       "      <td>85.421658</td>\n",
       "    </tr>\n",
       "    <tr>\n",
       "      <th>37</th>\n",
       "      <td>ChIJp4UP8oeVoRQR5Utox9tIhw0</td>\n",
       "      <td>ChIJcR2xc1iVoRQRhAIHkeYiPm8</td>\n",
       "      <td>115.799238</td>\n",
       "    </tr>\n",
       "    <tr>\n",
       "      <th>38</th>\n",
       "      <td>ChIJi-Xt4hKVoRQRHXqiXoBzIMc</td>\n",
       "      <td>ChIJc8BSmoeVoRQRgLkG9DHB4Ao</td>\n",
       "      <td>18.283560</td>\n",
       "    </tr>\n",
       "    <tr>\n",
       "      <th>39</th>\n",
       "      <td>ChIJcR2xc1iVoRQRhAIHkeYiPm8</td>\n",
       "      <td>ChIJi-Xt4hKVoRQRHXqiXoBzIMc</td>\n",
       "      <td>33.999510</td>\n",
       "    </tr>\n",
       "    <tr>\n",
       "      <th>40</th>\n",
       "      <td>ChIJc8BSmoeVoRQRgLkG9DHB4Ao</td>\n",
       "      <td>ChIJi-Xt4hKVoRQRHXqiXoBzIMc</td>\n",
       "      <td>18.283560</td>\n",
       "    </tr>\n",
       "    <tr>\n",
       "      <th>44</th>\n",
       "      <td>ChIJeffecYeVoRQRhQhxrdnXaJo</td>\n",
       "      <td>ChIJc8BSmoeVoRQRgLkG9DHB4Ao</td>\n",
       "      <td>119.280720</td>\n",
       "    </tr>\n",
       "    <tr>\n",
       "      <th>45</th>\n",
       "      <td>ChIJw3tazoCVoRQRnYXg0w4pv-g</td>\n",
       "      <td>ChIJ6ZUBy4CVoRQR2SqizJR8kac</td>\n",
       "      <td>29.338341</td>\n",
       "    </tr>\n",
       "    <tr>\n",
       "      <th>46</th>\n",
       "      <td>ChIJ6ZUBy4CVoRQR2SqizJR8kac</td>\n",
       "      <td>ChIJw3tazoCVoRQRnYXg0w4pv-g</td>\n",
       "      <td>29.338341</td>\n",
       "    </tr>\n",
       "    <tr>\n",
       "      <th>47</th>\n",
       "      <td>ChIJMSshM9qVoRQRElPxjpupBU4</td>\n",
       "      <td>ChIJP4dbHIGVoRQR_pGEx2al3hU</td>\n",
       "      <td>67.271914</td>\n",
       "    </tr>\n",
       "    <tr>\n",
       "      <th>48</th>\n",
       "      <td>ChIJP4dbHIGVoRQR_pGEx2al3hU</td>\n",
       "      <td>ChIJMSshM9qVoRQRElPxjpupBU4</td>\n",
       "      <td>67.271914</td>\n",
       "    </tr>\n",
       "    <tr>\n",
       "      <th>50</th>\n",
       "      <td>ChIJx0b-UI-VoRQRFRFGm4ZRUBc</td>\n",
       "      <td>ChIJ8WGMkYOVoRQRoQLrx5bmTyY</td>\n",
       "      <td>45.998692</td>\n",
       "    </tr>\n",
       "    <tr>\n",
       "      <th>51</th>\n",
       "      <td>ChIJ8WGMkYOVoRQRoQLrx5bmTyY</td>\n",
       "      <td>ChIJW6cOJ3aVoRQRla1qLX56Xiw</td>\n",
       "      <td>43.744949</td>\n",
       "    </tr>\n",
       "    <tr>\n",
       "      <th>52</th>\n",
       "      <td>ChIJW6cOJ3aVoRQRla1qLX56Xiw</td>\n",
       "      <td>ChIJ8WGMkYOVoRQRoQLrx5bmTyY</td>\n",
       "      <td>43.744949</td>\n",
       "    </tr>\n",
       "  </tbody>\n",
       "</table>\n",
       "</div>"
      ],
      "text/plain": [
       "                        id_left                     id_right       sdist\n",
       "1   ChIJgcEWYU6_oRQR-cd2bf6di68  ChIJ78DvEB2-oRQRJRLxgttGeas   32.592452\n",
       "2   ChIJgSMfxKu_oRQRDDje9yAhZfM  ChIJS8Wq1sS_oRQRV63ytQ_llsc   67.891246\n",
       "3   ChIJ78DvEB2-oRQRJRLxgttGeas  ChIJgcEWYU6_oRQR-cd2bf6di68   32.592452\n",
       "8   ChIJS8Wq1sS_oRQRV63ytQ_llsc  ChIJgSMfxKu_oRQRDDje9yAhZfM   67.891246\n",
       "9   ChIJWd9MyR2-oRQRnUIGI3XRrl0  ChIJo9Fudx6-oRQRSYYEmtYc1R8   85.594782\n",
       "11  ChIJo9Fudx6-oRQRSYYEmtYc1R8  ChIJWd9MyR2-oRQRnUIGI3XRrl0   85.594782\n",
       "14  ChIJe3_1uh--oRQRlMU-4IznfWs  ChIJW9F_ix--oRQRpUygAqwjuy8   76.820468\n",
       "15  ChIJW9F_ix--oRQRpUygAqwjuy8  ChIJe3_1uh--oRQRlMU-4IznfWs   76.820468\n",
       "16  ChIJ31YIbCC-oRQR94INzAZyomg  ChIJ9aCCNMO_oRQRa27Yn0QAuq0   10.573095\n",
       "18  ChIJ9aCCNMO_oRQRa27Yn0QAuq0  ChIJ31YIbCC-oRQR94INzAZyomg   10.573095\n",
       "19  ChIJjeHJayC-oRQR1atHqzb0ZxY  ChIJFc0Es42_oRQRNH5o4nz8OmQ    3.815819\n",
       "20  ChIJ8xPUbiC-oRQRhCv0LmNGquo  ChIJFc0Es42_oRQRNH5o4nz8OmQ    4.012994\n",
       "21  ChIJFc0Es42_oRQRNH5o4nz8OmQ  ChIJjeHJayC-oRQR1atHqzb0ZxY    3.815819\n",
       "22  ChIJhzdkjyC-oRQRo-VFWGpzGDk  ChIJyTCvYiC-oRQRaZhvxATHzHo   13.321398\n",
       "23  ChIJP08eiCC-oRQRlyl5Fv5gz0Y  ChIJhzdkjyC-oRQRo-VFWGpzGDk   38.223900\n",
       "25  ChIJyTCvYiC-oRQRaZhvxATHzHo  ChIJhzdkjyC-oRQRo-VFWGpzGDk   13.321398\n",
       "27  ChIJA4CkpyC-oRQRLJzD37R9zJA  ChIJ3SERPwC_oRQRRIlNP8SrGJA  169.801633\n",
       "28  ChIJ3SERPwC_oRQRRIlNP8SrGJA  ChIJh-lqAziVoRQRWfzIcCqn1ww   83.332829\n",
       "29  ChIJh-lqAziVoRQRWfzIcCqn1ww  ChIJp1dRmS6VoRQRPoVkAVu6xVQ   15.886977\n",
       "30  ChIJg9G_zS2VoRQRYxBUPi2HV0I  ChIJh-lqAziVoRQRWfzIcCqn1ww   35.982287\n",
       "31  ChIJp1dRmS6VoRQRPoVkAVu6xVQ  ChIJCwVXZGmVoRQRwNDeO_ZHPO4   13.928930\n",
       "32  ChIJCwVXZGmVoRQRwNDeO_ZHPO4  ChIJp1dRmS6VoRQRPoVkAVu6xVQ   13.928930\n",
       "33  ChIJh3x51omVoRQRa-NyAP4KcGE  ChIJCwVXZGmVoRQRwNDeO_ZHPO4   38.824401\n",
       "34  ChIJPaLlF36VoRQReZ6n35YiH8g  ChIJzTA6H4iVoRQRMx2fJI8fOL8   85.421658\n",
       "35  ChIJh8-HehWVoRQRu0nSYT-aX4E  ChIJzTA6H4iVoRQRMx2fJI8fOL8   85.421658\n",
       "36  ChIJzTA6H4iVoRQRMx2fJI8fOL8  ChIJh8-HehWVoRQRu0nSYT-aX4E   85.421658\n",
       "36  ChIJzTA6H4iVoRQRMx2fJI8fOL8  ChIJPaLlF36VoRQReZ6n35YiH8g   85.421658\n",
       "37  ChIJp4UP8oeVoRQR5Utox9tIhw0  ChIJcR2xc1iVoRQRhAIHkeYiPm8  115.799238\n",
       "38  ChIJi-Xt4hKVoRQRHXqiXoBzIMc  ChIJc8BSmoeVoRQRgLkG9DHB4Ao   18.283560\n",
       "39  ChIJcR2xc1iVoRQRhAIHkeYiPm8  ChIJi-Xt4hKVoRQRHXqiXoBzIMc   33.999510\n",
       "40  ChIJc8BSmoeVoRQRgLkG9DHB4Ao  ChIJi-Xt4hKVoRQRHXqiXoBzIMc   18.283560\n",
       "44  ChIJeffecYeVoRQRhQhxrdnXaJo  ChIJc8BSmoeVoRQRgLkG9DHB4Ao  119.280720\n",
       "45  ChIJw3tazoCVoRQRnYXg0w4pv-g  ChIJ6ZUBy4CVoRQR2SqizJR8kac   29.338341\n",
       "46  ChIJ6ZUBy4CVoRQR2SqizJR8kac  ChIJw3tazoCVoRQRnYXg0w4pv-g   29.338341\n",
       "47  ChIJMSshM9qVoRQRElPxjpupBU4  ChIJP4dbHIGVoRQR_pGEx2al3hU   67.271914\n",
       "48  ChIJP4dbHIGVoRQR_pGEx2al3hU  ChIJMSshM9qVoRQRElPxjpupBU4   67.271914\n",
       "50  ChIJx0b-UI-VoRQRFRFGm4ZRUBc  ChIJ8WGMkYOVoRQRoQLrx5bmTyY   45.998692\n",
       "51  ChIJ8WGMkYOVoRQRoQLrx5bmTyY  ChIJW6cOJ3aVoRQRla1qLX56Xiw   43.744949\n",
       "52  ChIJW6cOJ3aVoRQRla1qLX56Xiw  ChIJ8WGMkYOVoRQRoQLrx5bmTyY   43.744949"
      ]
     },
     "execution_count": 24,
     "metadata": {},
     "output_type": "execute_result"
    }
   ],
   "source": [
    "nearests"
   ]
  },
  {
   "cell_type": "code",
   "execution_count": null,
   "id": "d5bfb360",
   "metadata": {},
   "outputs": [],
   "source": [
    "cafes[cafes.id.isin(['ChIJgcEWYU6_oRQR-cd2bf6di68', 'ChIJ78DvEB2-oRQRJRLxgttGeas'])]"
   ]
  },
  {
   "cell_type": "code",
   "execution_count": null,
   "id": "ad662490",
   "metadata": {},
   "outputs": [],
   "source": [
    "nearests"
   ]
  },
  {
   "cell_type": "markdown",
   "id": "5be67f8f",
   "metadata": {},
   "source": [
    "### spatial grouping (h3)"
   ]
  },
  {
   "cell_type": "code",
   "execution_count": 27,
   "id": "33b8d20c",
   "metadata": {},
   "outputs": [
    {
     "data": {
      "application/vnd.plotly.v1+json": {
       "config": {
        "plotlyServerURL": "https://plot.ly"
       },
       "data": [
        {
         "colorscale": [
          [
           0,
           "#636efa"
          ],
          [
           1,
           "#636efa"
          ]
         ],
         "geojson": {
          "bbox": [
           23.756697549404624,
           37.85176846022798,
           23.773771928892977,
           37.899622977047784
          ],
          "features": [
           {
            "bbox": [
             23.765068268165493,
             37.88590002547464,
             23.766925641773813,
             37.88725725504436
            ],
            "geometry": {
             "coordinates": [
              [
               [
                23.76541362824501,
                37.88715176939442
               ],
               [
                23.765068268165493,
                37.886473153280654
               ],
               [
                23.765651591955333,
                37.88590002547464
               ],
               [
                23.7665802727003,
                37.88600551022348
               ],
               [
                23.766925641773813,
                37.886684123679395
               ],
               [
                23.76634232110856,
                37.88725725504436
               ],
               [
                23.76541362824501,
                37.88715176939442
               ]
              ]
             ],
             "type": "Polygon"
            },
            "id": "0",
            "properties": {},
            "type": "Feature"
           },
           {
            "bbox": [
             23.76722486081487,
             37.89701419567363,
             23.76908245669349,
             37.89837132080394
            ],
            "geometry": {
             "coordinates": [
              [
               [
                23.76757027683308,
                37.89826586077241
               ],
               [
                23.76722486081487,
                37.89758729687838
               ],
               [
                23.767808239801486,
                37.89701419567363
               ],
               [
                23.768737031680008,
                37.89711965480483
               ],
               [
                23.76908245669349,
                37.89779821604107
               ],
               [
                23.768499080833372,
                37.89837132080394
               ],
               [
                23.76757027683308,
                37.89826586077241
               ]
              ]
             ],
             "type": "Polygon"
            },
            "id": "1",
            "properties": {},
            "type": "Feature"
           },
           {
            "bbox": [
             23.768874974535805,
             37.865870798266265,
             23.770731960422413,
             37.867228169201105
            ],
            "geometry": {
             "coordinates": [
              [
               [
                23.769220288301458,
                37.867122697962756
               ],
               [
                23.768874974535805,
                37.86644401116557
               ],
               [
                23.7694581507817,
                37.865870798266265
               ],
               [
                23.770386637668082,
                37.865976268604314
               ],
               [
                23.770731960422413,
                37.866654952741925
               ],
               [
                23.770148787301874,
                37.867228169201105
               ],
               [
                23.769220288301458,
                37.867122697962756
               ]
              ]
             ],
             "type": "Polygon"
            },
            "id": "2",
            "properties": {},
            "type": "Feature"
           },
           {
            "bbox": [
             23.75885262933193,
             37.87368426949789,
             23.76070975235664,
             37.87504163701499
            ],
            "geometry": {
             "coordinates": [
              [
               [
                23.75919790072104,
                37.87493609296014
               ],
               [
                23.75885262933193,
                37.874257407873074
               ],
               [
                23.759435916518157,
                37.87368426949789
               ],
               [
                23.76036447197338,
                37.87378981264966
               ],
               [
                23.76070975235664,
                37.87446849507966
               ],
               [
                23.760126468290732,
                37.87504163701499
               ],
               [
                23.75919790072104,
                37.87493609296014
               ]
              ]
             ],
             "type": "Polygon"
            },
            "id": "3",
            "properties": {},
            "type": "Feature"
           },
           {
            "bbox": [
             23.76649597286991,
             37.87838935735858,
             23.768353201065537,
             37.879746639973106
            ],
            "geometry": {
             "coordinates": [
              [
               [
                23.766841315581125,
                37.87964115972902
               ],
               [
                23.76649597286991,
                37.878962517092525
               ],
               [
                23.76707924132283,
                37.87838935735858
               ],
               [
                23.768007849362306,
                37.878494836701854
               ],
               [
                23.768353201065537,
                37.87917347667985
               ],
               [
                23.76776993573747,
                37.879746639973106
               ],
               [
                23.766841315581125,
                37.87964115972902
               ]
              ]
             ],
             "type": "Polygon"
            },
            "id": "4",
            "properties": {},
            "type": "Feature"
           },
           {
            "bbox": [
             23.768652561063032,
             37.88950400028371,
             23.770510011490664,
             37.89086117852067
            ],
            "geometry": {
             "coordinates": [
              [
               [
                23.768997959705757,
                37.89075572389025
               ],
               [
                23.768652561063032,
                37.89007713344254
               ],
               [
                23.769235884700777,
                37.88950400028371
               ],
               [
                23.770164603854656,
                37.88960945401412
               ],
               [
                23.770510011490664,
                37.89028804180336
               ],
               [
                23.769926690979712,
                37.89086117852067
               ],
               [
                23.768997959705757,
                37.89075572389025
               ]
              ]
             ],
             "type": "Polygon"
            },
            "id": "5",
            "properties": {},
            "type": "Feature"
           },
           {
            "bbox": [
             23.76218431512878,
             37.85615771939678,
             23.764041099004068,
             37.857515210457656
            ],
            "geometry": {
             "coordinates": [
              [
               [
                23.762529546024247,
                37.857409679041524
               ],
               [
                23.76218431512878,
                37.85673093218181
               ],
               [
                23.76276747323661,
                37.85615771939678
               ],
               [
                23.76369585911911,
                37.85626324991052
               ],
               [
                23.764041099004068,
                37.85694199411166
               ],
               [
                23.76345794401724,
                37.857515210457656
               ],
               [
                23.762529546024247,
                37.857409679041524
               ]
              ]
             ],
             "type": "Polygon"
            },
            "id": "6",
            "properties": {},
            "type": "Feature"
           },
           {
            "bbox": [
             23.757019140492712,
             37.86836021536123,
             23.758876155768924,
             37.86971763765478
            ],
            "geometry": {
             "coordinates": [
              [
               [
                23.757364379432374,
                37.869612075045396
               ],
               [
                23.757019140492712,
                37.86893336257017
               ],
               [
                23.757602406253632,
                37.86836021536123
               ],
               [
                23.758530907835432,
                37.868465777066916
               ],
               [
                23.758876155768924,
                37.86914448688523
               ],
               [
                23.758292893126985,
                37.86971763765478
               ],
               [
                23.757364379432374,
                37.869612075045396
               ]
              ]
             ],
             "type": "Polygon"
            },
            "id": "7",
            "properties": {},
            "type": "Feature"
           },
           {
            "bbox": [
             23.75773321064516,
             37.86460457793127,
             23.75959015324704,
             37.865962026701446
            ],
            "geometry": {
             "coordinates": [
              [
               [
                23.758078440909564,
                37.86585646680302
               ],
               [
                23.75773321064516,
                37.86517774108933
               ],
               [
                23.75831644874473,
                37.86460457793127
               ],
               [
                23.759244913989786,
                37.86471013692614
               ],
               [
                23.75959015324704,
                37.86538885998261
               ],
               [
                23.75900691826659,
                37.865962026701446
               ],
               [
                23.758078440909564,
                37.86585646680302
               ]
              ]
             ],
             "type": "Polygon"
            },
            "id": "8",
            "properties": {},
            "type": "Feature"
           },
           {
            "bbox": [
             23.759734229960607,
             37.88401521348347,
             23.761591557676002,
             37.885372490840325
            ],
            "geometry": {
             "coordinates": [
              [
               [
                23.760079545376975,
                37.885266961735894
               ],
               [
                23.759734229960607,
                37.88458832172907
               ],
               [
                23.760317575464708,
                37.88401521348347
               ],
               [
                23.761246233263876,
                37.88412074168524
               ],
               [
                23.761591557676002,
                37.88479937903526
               ],
               [
                23.7610082152934,
                37.885372490840325
               ],
               [
                23.760079545376975,
                37.885266961735894
               ]
              ]
             ],
             "type": "Polygon"
            },
            "id": "9",
            "properties": {},
            "type": "Feature"
           },
           {
            "bbox": [
             23.765782148994795,
             37.88214473525203,
             23.767639449894215,
             37.88350199134908
            ],
            "geometry": {
             "coordinates": [
              [
               [
                23.766127500390073,
                37.8833965084023
               ],
               [
                23.765782148994795,
                37.882717879024696
               ],
               [
                23.766365445114985,
                37.88214473525203
               ],
               [
                23.76729408950593,
                37.882250217297866
               ],
               [
                23.767639449894215,
                37.88292884401728
               ],
               [
                23.767056156898732,
                37.88350199134908
               ],
               [
                23.766127500390073,
                37.8833965084023
               ]
              ]
             ],
             "type": "Polygon"
            },
            "id": "10",
            "properties": {},
            "type": "Feature"
           },
           {
            "bbox": [
             23.763864013220275,
             37.86977768249954,
             23.76572106768765,
             37.871135051732125
            ],
            "geometry": {
             "coordinates": [
              [
               [
                23.76420930580269,
                37.87102954408946
               ],
               [
                23.763864013220275,
                37.87035085814402
               ],
               [
                23.76444724493715,
                37.86977768249954
               ],
               [
                23.76537576611381,
                37.86988318924049
               ],
               [
                23.76572106768765,
                37.87056187252761
               ],
               [
                23.765137839093605,
                37.871135051732125
               ],
               [
                23.76420930580269,
                37.87102954408946
               ]
              ]
             ],
             "type": "Polygon"
            },
            "id": "11",
            "properties": {},
            "type": "Feature"
           },
           {
            "bbox": [
             23.75830589912625,
             37.89152555680089,
             23.760163372258962,
             37.89288278108803
            ],
            "geometry": {
             "coordinates": [
              [
               [
                23.758651231903297,
                37.89277724656645
               ],
               [
                23.75830589912625,
                37.89209863309484
               ],
               [
                23.758889299977195,
                37.89152555680089
               ],
               [
                23.75981803048416,
                37.89163109041949
               ],
               [
                23.760163372258962,
                37.89230970123498
               ],
               [
                23.759579974529228,
                37.89288278108803
               ],
               [
                23.758651231903297,
                37.89277724656645
               ]
              ]
             ],
             "type": "Polygon"
            },
            "id": "12",
            "properties": {},
            "type": "Feature"
           },
           {
            "bbox": [
             23.7712855036475,
             37.89811453931808,
             23.773143127863158,
             37.89947163078871
            ],
            "geometry": {
             "coordinates": [
              [
               [
                23.771630952443456,
                37.89936620358871
               ],
               [
                23.7712855036475,
                37.8986876565241
               ],
               [
                23.77186886402675,
                37.89811453931808
               ],
               [
                23.77279767007333,
                37.89821996561896
               ],
               [
                23.773143127863158,
                37.898898510024935
               ],
               [
                23.772559770612723,
                37.89947163078871
               ],
               [
                23.771630952443456,
                37.89936620358871
               ]
              ]
             ],
             "type": "Polygon"
            },
            "id": "13",
            "properties": {},
            "type": "Feature"
           },
           {
            "bbox": [
             23.757662440938795,
             37.87994328943841,
             23.75951968511527,
             37.88130061278063
            ],
            "geometry": {
             "coordinates": [
              [
               [
                23.758007726790876,
                37.881195064209564
               ],
               [
                23.757662440938795,
                37.88051640121021
               ],
               [
                23.758245774237004,
                37.87994328943841
               ],
               [
                23.75917439026739,
                37.88004883710613
               ],
               [
                23.75951968511527,
                37.880727497448966
               ],
               [
                23.758936354937152,
                37.88130061278063
               ],
               [
                23.758007726790876,
                37.881195064209564
               ]
              ]
             ],
             "type": "Polygon"
            },
            "id": "14",
            "properties": {},
            "type": "Feature"
           },
           {
            "bbox": [
             23.75939915284894,
             37.85584108354011,
             23.761255925897263,
             37.857198594050665
            ],
            "geometry": {
             "coordinates": [
              [
               [
                23.759744362871807,
                37.85709304047606
               ],
               [
                23.75939915284894,
                37.85641428389181
               ],
               [
                23.759982326414608,
                37.85584108354011
               ],
               [
                23.760910706883877,
                37.855946636211506
               ],
               [
                23.761255925897263,
                37.85662539013777
               ],
               [
                23.760672755451054,
                37.857198594050665
               ],
               [
                23.759744362871807,
                37.85709304047606
               ]
              ]
             ],
             "type": "Polygon"
            },
            "id": "15",
            "properties": {},
            "type": "Feature"
           },
           {
            "bbox": [
             23.76481574337129,
             37.86477013884591,
             23.766672700929217,
             37.86612754338729
            ],
            "geometry": {
             "coordinates": [
              [
               [
                23.765161024379868,
                37.8660220393511
               ],
               [
                23.76481574337129,
                37.865343335751064
               ],
               [
                23.76539893820805,
                37.86477013884591
               ],
               [
                23.766327410930554,
                37.86487564198059
               ],
               [
                23.766672700929217,
                37.86555434292189
               ],
               [
                23.76608950921549,
                37.86612754338729
               ],
               [
                23.765161024379868,
                37.8660220393511
               ]
              ]
             ],
             "type": "Polygon"
            },
            "id": "16",
            "properties": {},
            "type": "Feature"
           },
           {
            "bbox": [
             23.767209739797423,
             37.87463389182524,
             23.769066895294383,
             37.875991200947375
            ],
            "geometry": {
             "coordinates": [
              [
               [
                23.767555073824763,
                37.87588572340554
               ],
               [
                23.767209739797423,
                37.875207067515085
               ],
               [
                23.76779298058546,
                37.87463389182524
               ],
               [
                23.76872155227603,
                37.87473936846642
               ],
               [
                23.769066895294383,
                37.87541802169807
               ],
               [
                23.768483657631347,
                37.875991200947375
               ],
               [
                23.767555073824763,
                37.87588572340554
               ]
              ]
             ],
             "type": "Polygon"
            },
            "id": "17",
            "properties": {},
            "type": "Feature"
           },
           {
            "bbox": [
             23.7631643074612,
             37.89591370388661,
             23.765021874984924,
             37.89727086266856
            ],
            "geometry": {
             "coordinates": [
              [
               [
                23.763509690699557,
                37.89716536980801
               ],
               [
                23.7631643074612,
                37.896486789088556
               ],
               [
                23.76374770504836,
                37.89591370388661
               ],
               [
                23.76467648274989,
                37.896019195845675
               ],
               [
                23.765021874984924,
                37.89669777390814
               ],
               [
                23.76443848052194,
                37.89727086266856
               ],
               [
                23.763509690699557,
                37.89716536980801
               ]
              ]
             ],
             "type": "Polygon"
            },
            "id": "18",
            "properties": {},
            "type": "Feature"
           },
           {
            "bbox": [
             23.771269419859298,
             37.875734397543255,
             23.773126603679927,
             37.877091673039985
            ],
            "geometry": {
             "coordinates": [
              [
               [
                23.77161478664884,
                37.87698622830687
               ],
               [
                23.771269419859298,
                37.876307589228695
               ],
               [
                23.771852642048817,
                37.875734397543255
               ],
               [
                23.772781227900754,
                37.87583984137693
               ],
               [
                23.773126603679927,
                37.87651847779545
               ],
               [
                23.772543384617723,
                37.877091673039985
               ],
               [
                23.77161478664884,
                37.87698622830687
               ]
              ]
             ],
             "type": "Polygon"
            },
            "id": "19",
            "properties": {},
            "type": "Feature"
           },
           {
            "bbox": [
             23.771253343694823,
             37.85335126654429,
             23.773110087329204,
             37.854708725689726
            ],
            "geometry": {
             "coordinates": [
              [
               [
                23.771598628516905,
                37.85460326345212
               ],
               [
                23.771253343694823,
                37.85392453254908
               ],
               [
                23.771836427760075,
                37.85335126654429
               ],
               [
                23.772764793521766,
                37.853456727882104
               ],
               [
                23.773110087329204,
                37.854135456124475
               ],
               [
                23.772527006389776,
                37.854708725689726
               ],
               [
                23.771598628516905,
                37.85460326345212
               ]
              ]
             ],
             "type": "Polygon"
            },
            "id": "20",
            "properties": {},
            "type": "Feature"
           },
           {
            "bbox": [
             23.766243148815963,
             37.857258531609936,
             23.768099961026753,
             37.85861598908159
            ],
            "geometry": {
             "coordinates": [
              [
               [
                23.766588412464387,
                37.858510490453625
               ],
               [
                23.766243148815963,
                37.85783176038811
               ],
               [
                23.766826288340457,
                37.857258531609936
               ],
               [
                23.767754688390234,
                37.857364029336715
               ],
               [
                23.768099961026753,
                37.85804275674282
               ],
               [
                23.76751682462558,
                37.85861598908159
               ],
               [
                23.766588412464387,
                37.858510490453625
               ]
              ]
             ],
             "type": "Polygon"
            },
            "id": "21",
            "properties": {},
            "type": "Feature"
           },
           {
            "bbox": [
             23.760994569712068,
             37.86241742041038,
             23.762851474699378,
             37.86377486737316
            ],
            "geometry": {
             "coordinates": [
              [
               [
                23.76133981506911,
                37.86366933144433
               ],
               [
                23.760994569712068,
                37.862990606633936
               ],
               [
                23.76157777391339,
                37.86241742041038
               ],
               [
                23.762506220351185,
                37.862522955436575
               ],
               [
                23.762851474699378,
                37.863201677588926
               ],
               [
                23.76226827361882,
                37.86377486737316
               ],
               [
                23.76133981506911,
                37.86366933144433
               ]
              ]
             ],
             "type": "Polygon"
            },
            "id": "22",
            "properties": {},
            "type": "Feature"
           },
           {
            "bbox": [
             23.7615681744261,
             37.889338721277404,
             23.763425609920613,
             37.89069594378589
            ],
            "geometry": {
             "coordinates": [
              [
               [
                23.761913522303807,
                37.890590433251
               ],
               [
                23.7615681744261,
                37.88991182066831
               ],
               [
                23.76215154135897,
                37.889338721277404
               ],
               [
                23.763080253046866,
                37.88944423091023
               ],
               [
                23.763425609920613,
                37.890122840836
               ],
               [
                23.762842246110605,
                37.89069594378589
               ],
               [
                23.761913522303807,
                37.890590433251
               ]
              ]
             ],
             "type": "Polygon"
            },
            "id": "23",
            "properties": {},
            "type": "Feature"
           },
           {
            "bbox": [
             23.760518627257134,
             37.86492123275267,
             23.762375580693234,
             37.86627866206854
            ],
            "geometry": {
             "coordinates": [
              [
               [
                23.760863878398954,
                37.86617312433427
               ],
               [
                23.760518627257134,
                37.865494408347445
               ],
               [
                23.76110184989771,
                37.86492123275267
               ],
               [
                23.762030320559614,
                37.8650267695842
               ],
               [
                23.762375580693234,
                37.86570548291321
               ],
               [
                23.761792361173338,
                37.86627866206854
               ],
               [
                23.760863878398954,
                37.86617312433427
               ]
              ]
             ],
             "type": "Polygon"
            },
            "id": "24",
            "properties": {},
            "type": "Feature"
           },
           {
            "bbox": [
             23.76242224523339,
             37.85490575003332,
             23.76427900488798,
             37.85626324991052
            ],
            "geometry": {
             "coordinates": [
              [
               [
                23.76276747323661,
                37.85615771939678
               ],
               [
                23.76242224523339,
                37.85547896812884
               ],
               [
                23.76300539412333,
                37.85490575003332
               ],
               [
                23.763933767895622,
                37.855011279644714
               ],
               [
                23.76427900488798,
                37.85569002825397
               ],
               [
                23.76369585911911,
                37.85626324991052
               ],
               [
                23.76276747323661,
                37.85615771939678
               ]
              ]
             ],
             "type": "Polygon"
            },
            "id": "25",
            "properties": {},
            "type": "Feature"
           },
           {
            "bbox": [
             23.767854331282585,
             37.88621645754261,
             23.76971171570692,
             37.88757366763534
            ],
            "geometry": {
             "coordinates": [
              [
               [
                23.76819971224487,
                37.887468204164875
               ],
               [
                23.767854331282585,
                37.88678959778931
               ],
               [
                23.76843763959895,
                37.88621645754261
               ],
               [
                23.769366325751662,
                37.886321920112785
               ],
               [
                23.76971171570692,
                37.88700052382991
               ],
               [
                23.769128410516686,
                37.88757366763534
               ],
               [
                23.76819971224487,
                37.887468204164875
               ]
              ]
             ],
             "type": "Polygon"
            },
            "id": "26",
            "properties": {},
            "type": "Feature"
           },
           {
            "bbox": [
             23.768161340460367,
             37.869626468172264,
             23.770018399033717,
             37.87098381262252
            ],
            "geometry": {
             "coordinates": [
              [
               [
                23.768506662909477,
                37.870878338682985
               ],
               [
                23.768161340460367,
                37.87019966512824
               ],
               [
                23.768744544365585,
                37.869626468172264
               ],
               [
                23.76967306759492,
                37.86973194121135
               ],
               [
                23.770018399033717,
                37.870410612106845
               ],
               [
                23.769435198253685,
                37.87098381262252
               ],
               [
                23.768506662909477,
                37.870878338682985
               ]
              ]
             ],
             "type": "Polygon"
            },
            "id": "27",
            "properties": {},
            "type": "Feature"
           },
           {
            "bbox": [
             23.758376572964384,
             37.87618790668646,
             23.76023374444809,
             37.87754525653689
            ],
            "geometry": {
             "coordinates": [
              [
               [
                23.758721850138624,
                37.8774397106757
               ],
               [
                23.758376572964384,
                37.876761034422074
               ],
               [
                23.758959878594617,
                37.87618790668646
               ],
               [
                23.75988845827905,
                37.87629345164446
               ],
               [
                23.76023374444809,
                37.87697212524124
               ],
               [
                23.759650441938096,
                37.87754525653689
               ],
               [
                23.758721850138624,
                37.8774397106757
               ]
              ]
             ],
             "type": "Polygon"
            },
            "id": "28",
            "properties": {},
            "type": "Feature"
           },
           {
            "bbox": [
             23.767839062794188,
             37.86383471315105,
             23.76969600693713,
             37.86519210705603
            ],
            "geometry": {
             "coordinates": [
              [
               [
                23.76818436178226,
                37.86508662608572
               ],
               [
                23.767839062794188,
                37.86440792780352
               ],
               [
                23.768422232945458,
                37.86383471315105
               ],
               [
                23.769350698960356,
                37.863940193220735
               ],
               [
                23.76969600693713,
                37.86461888884349
               ],
               [
                23.769112839910495,
                37.86519210705603
               ],
               [
                23.76818436178226,
                37.86508662608572
               ]
              ]
             ],
             "type": "Polygon"
            },
            "id": "29",
            "properties": {},
            "type": "Feature"
           },
           {
            "bbox": [
             23.760448309913592,
             37.88025991026801,
             23.76230556492802,
             37.88161721414493
            ],
            "geometry": {
             "coordinates": [
              [
               [
                23.760793616649895,
                37.88151168774838
               ],
               [
                23.760448309913592,
                37.880833034481384
               ],
               [
                23.761031627747855,
                37.88025991026801
               ],
               [
                23.761960249196953,
                37.88036543576204
               ],
               [
                23.76230556492802,
                37.88104408637194
               ],
               [
                23.76172225021541,
                37.88161721414493
               ],
               [
                23.760793616649895,
                37.88151168774838
               ]
              ]
             ],
             "type": "Polygon"
            },
            "id": "30",
            "properties": {},
            "type": "Feature"
           },
           {
            "bbox": [
             23.763878340200566,
             37.8921586476042,
             23.765735835001756,
             37.89351583293977
            ],
            "geometry": {
             "coordinates": [
              [
               [
                23.76422371475421,
                37.893410342783575
               ],
               [
                23.763878340200566,
                37.89273174878715
               ],
               [
                23.76446171011175,
                37.8921586476042
               ],
               [
                23.765390451452436,
                37.89226413685904
               ],
               [
                23.765735835001756,
                37.89294272819816
               ],
               [
                23.765152468214897,
                37.89351583293977
               ],
               [
                23.76422371475421,
                37.893410342783575
               ]
              ]
             ],
             "type": "Polygon"
            },
            "id": "31",
            "properties": {},
            "type": "Feature"
           },
           {
            "bbox": [
             23.763150149172247,
             37.873533238073115,
             23.765007276327683,
             37.8748905808126
            ],
            "geometry": {
             "coordinates": [
              [
               [
                23.76349545043526,
                37.874785070464554
               ],
               [
                23.763150149172247,
                37.87410639776583
               ],
               [
                23.763733408551996,
                37.873533238073115
               ],
               [
                23.76466196607226,
                37.873638747519315
               ],
               [
                23.765007276327683,
                37.87431741756005
               ],
               [
                23.76442402007063,
                37.8748905808126
               ],
               [
                23.76349545043526,
                37.874785070464554
               ]
              ]
             ],
             "type": "Polygon"
            },
            "id": "32",
            "properties": {},
            "type": "Feature"
           },
           {
            "bbox": [
             23.767938739419638,
             37.8932591418569,
             23.769796262570196,
             37.89461629354546
            ],
            "geometry": {
             "coordinates": [
              [
               [
                23.768284146750013,
                37.89451083621472
               ],
               [
                23.767938739419638,
                37.89383225904139
               ],
               [
                23.768522090730624,
                37.8932591418569
               ],
               [
                23.76945084624554,
                37.89336459828749
               ],
               [
                23.769796262570196,
                37.8940431728027
               ],
               [
                23.76921291438585,
                37.89461629354546
               ],
               [
                23.768284146750013,
                37.89451083621472
               ]
              ]
             ],
             "type": "Polygon"
            },
            "id": "33",
            "properties": {},
            "type": "Feature"
           },
           {
            "bbox": [
             23.76170843594154,
             37.85866162896641,
             23.763565268259935,
             37.86001910239134
            ],
            "geometry": {
             "coordinates": [
              [
               [
                23.762053672621583,
                37.859913569170274
               ],
               [
                23.76170843594154,
                37.85923483112864
               ],
               [
                23.76229161248599,
                37.85866162896641
               ],
               [
                23.763220022589756,
                37.85876716128497
               ],
               [
                23.763565268259935,
                37.859445896668255
               ],
               [
                23.762982094836417,
                37.86001910239134
               ],
               [
                23.762053672621583,
                37.859913569170274
               ]
              ]
             ],
             "type": "Polygon"
            },
            "id": "34",
            "properties": {},
            "type": "Feature"
           },
           {
            "bbox": [
             23.77055580701781,
             37.87948986062547,
             23.77241306354262,
             37.88084710960996
            ],
            "geometry": {
             "coordinates": [
              [
               [
                23.770901182494345,
                37.88074166217818
               ],
               [
                23.77055580701781,
                37.880063036356276
               ],
               [
                23.771139056871853,
                37.87948986062547
               ],
               [
                23.77206767907547,
                37.87959530715764
               ],
               [
                23.77241306354262,
                37.880273930320215
               ],
               [
                23.771829816815746,
                37.88084710960996
               ],
               [
                23.770901182494345,
                37.88074166217818
               ]
              ]
             ],
             "type": "Polygon"
            },
            "id": "35",
            "properties": {},
            "type": "Feature"
           },
           {
            "bbox": [
             23.76013990977993,
             37.89684884685538,
             23.7619974907116,
             37.898206016263856
            ],
            "geometry": {
             "coordinates": [
              [
               [
                23.7604852750229,
                37.898100500315515
               ],
               [
                23.76013990977993,
                37.89742191428315
               ],
               [
                23.76072333206497,
                37.89684884685538
               ],
               [
                23.761652116470596,
                37.89695436190136
               ],
               [
                23.7619974907116,
                37.89763294527743
               ],
               [
                23.76141407154914,
                37.898206016263856
               ],
               [
                23.7604852750229,
                37.898100500315515
               ]
              ]
             ],
             "type": "Polygon"
            },
            "id": "36",
            "properties": {},
            "type": "Feature"
           },
           {
            "bbox": [
             23.763779929899496,
             37.86273400332681,
             23.765636845710254,
             37.864091430833575
            ],
            "geometry": {
             "coordinates": [
              [
               [
                23.764125196131175,
                37.86398591706785
               ],
               [
                23.763779929899496,
                37.863307201985165
               ],
               [
                23.764363118639206,
                37.86273400332681
               ],
               [
                23.76529157048847,
                37.86283951619069
               ],
               [
                23.765636845710254,
                37.863518228614765
               ],
               [
                23.76505366009287,
                37.864091430833575
               ],
               [
                23.764125196131175,
                37.86398591706785
               ]
              ]
             ],
             "type": "Polygon"
            },
            "id": "37",
            "properties": {},
            "type": "Feature"
           },
           {
            "bbox": [
             23.75932866038213,
             37.871180593370234,
             23.761185734950114,
             37.8725379785496
            ],
            "geometry": {
             "coordinates": [
              [
               [
                23.759673925986206,
                37.87243243630088
               ],
               [
                23.75932866038213,
                37.87175374238257
               ],
               [
                23.759911929125433,
                37.871180593370234
               ],
               [
                23.76084046035257,
                37.87128613471596
               ],
               [
                23.761185734950114,
                37.87196482597699
               ],
               [
                23.760602469327246,
                37.8725379785496
               ],
               [
                23.759673925986206,
                37.87243243630088
               ]
              ]
             ],
             "type": "Polygon"
            },
            "id": "38",
            "properties": {},
            "type": "Feature"
           },
           {
            "bbox": [
             23.760113033172747,
             37.85208515442364,
             23.761969733563785,
             37.853442691377886
            ],
            "geometry": {
             "coordinates": [
              [
               [
                23.76045823452096,
                37.85333714051275
               ],
               [
                23.760113033172747,
                37.852658370706486
               ],
               [
                23.760696179084988,
                37.85208515442364
               ],
               [
                23.761624523226043,
                37.85219070438572
               ],
               [
                23.761969733563785,
                37.85286947153368
               ],
               [
                23.761386590771135,
                37.853442691377886
               ],
               [
                23.76045823452096,
                37.85333714051275
               ]
              ]
             ],
             "type": "Polygon"
            },
            "id": "39",
            "properties": {},
            "type": "Feature"
           },
           {
            "bbox": [
             23.759341912242704,
             37.89356138747918,
             23.761199427154086,
             37.89491858875547
            ],
            "geometry": {
             "coordinates": [
              [
               [
                23.759687259805215,
                37.89481306397107
               ],
               [
                23.759341912242704,
                37.89413446200481
               ],
               [
                23.759925319197876,
                37.89356138747918
               ],
               [
                23.760854070593837,
                37.89366691136094
               ],
               [
                23.761199427154086,
                37.89434551067093
               ],
               [
                23.76061602332082,
                37.89491858875547
               ],
               [
                23.759687259805215,
                37.89481306397107
               ]
              ]
             ],
             "type": "Polygon"
            },
            "id": "40",
            "properties": {},
            "type": "Feature"
           },
           {
            "bbox": [
             23.76520738742019,
             37.85522231671026,
             23.767064157892033,
             37.85657979713544
            ],
            "geometry": {
             "coordinates": [
              [
               [
                23.765552636293943,
                37.856474288779914
               ],
               [
                23.76520738742019,
                37.855795547237705
               ],
               [
                23.765790520849514,
                37.85522231671026
               ],
               [
                23.76671890003017,
                37.85532782416424
               ],
               [
                23.767064157892033,
                37.85600656304718
               ],
               [
                23.76648102758532,
                37.85657979713544
               ],
               [
                23.765552636293943,
                37.856474288779914
               ]
              ]
             ],
             "type": "Polygon"
            },
            "id": "41",
            "properties": {},
            "type": "Feature"
           },
           {
            "bbox": [
             23.75902009303368,
             37.88777042900475,
             23.76087749345519,
             37.88912767983168
            ],
            "geometry": {
             "coordinates": [
              [
               [
                23.759365417130304,
                37.88902214801889
               ],
               [
                23.75902009303368,
                37.88834352127721
               ],
               [
                23.759603466210013,
                37.88777042900475
               ],
               [
                23.76053216036181,
                37.8878759599147
               ],
               [
                23.76087749345519,
                37.88855458399992
               ],
               [
                23.760294123400207,
                37.88912767983168
               ],
               [
                23.759365417130304,
                37.88902214801889
               ]
              ]
             ],
             "type": "Polygon"
            },
            "id": "42",
            "properties": {},
            "type": "Feature"
           },
           {
            "bbox": [
             23.764746124373975,
             37.88010882236136,
             23.76660338351192,
             37.88146610145425
            ],
            "geometry": {
             "coordinates": [
              [
               [
                23.765091460986827,
                37.88136060877119
               ],
               [
                23.764746124373975,
                37.880681967895725
               ],
               [
                23.765329414395485,
                37.88010882236136
               ],
               [
                23.766258037906038,
                37.88021431414314
               ],
               [
                23.76660338351192,
                37.880892952360554
               ],
               [
                23.766020096614415,
                37.88146610145425
               ],
               [
                23.765091460986827,
                37.88136060877119
               ]
              ]
             ],
             "type": "Polygon"
            },
            "id": "43",
            "properties": {},
            "type": "Feature"
           },
           {
            "bbox": [
             23.7640322174942,
             37.88386415236757,
             23.76588954933693,
             37.885221404939045
            ],
            "geometry": {
             "coordinates": [
              [
               [
                23.764377562790173,
                37.88511590955183
               ],
               [
                23.7640322174942,
                37.884437281937245
               ],
               [
                23.764615535184415,
                37.88386415236757
               ],
               [
                23.76554419504693,
                37.88396964685335
               ],
               [
                23.76588954933693,
                37.88464827181023
               ],
               [
                23.765306234770584,
                37.885221404939045
               ],
               [
                23.764377562790173,
                37.88511590955183
               ]
              ]
             ],
             "type": "Polygon"
            },
            "id": "44",
            "properties": {},
            "type": "Feature"
           },
           {
            "bbox": [
             23.761162332899268,
             37.87650451938932,
             23.76301951521782,
             37.87786184977645
            ],
            "geometry": {
             "coordinates": [
              [
               [
                23.76150763095568,
                37.87775632608733
               ],
               [
                23.761162332899268,
                37.87707765956506
               ],
               [
                23.761745623066048,
                37.87650451938932
               ],
               [
                23.76267420816764,
                37.876610042176075
               ],
               [
                23.76301951521782,
                37.87728870604091
               ],
               [
                23.762436228172827,
                37.87786184977645
               ],
               [
                23.76150763095568,
                37.87775632608733
               ]
              ]
             ],
             "type": "Polygon"
            },
            "id": "45",
            "properties": {},
            "type": "Feature"
           },
           {
            "bbox": [
             23.75709000601817,
             37.853020443606304,
             23.758946719794178,
             37.854377991192415
            ],
            "geometry": {
             "coordinates": [
              [
               [
                23.75743518938528,
                37.85427241726791
               ],
               [
                23.75709000601817,
                37.85359364214606
               ],
               [
                23.757673176602513,
                37.853020443606304
               ],
               [
                23.758601527436163,
                37.85312601662689
               ],
               [
                23.758946719794178,
                37.85380478909113
               ],
               [
                23.75836355232783,
                37.854377991192415
               ],
               [
                23.75743518938528,
                37.85427241726791
               ]
              ]
             ],
             "type": "Polygon"
            },
            "id": "46",
            "properties": {},
            "type": "Feature"
           },
           {
            "bbox": [
             23.76084046035257,
             37.870712976825615,
             23.7626975282229,
             37.87207035669008
            ],
            "geometry": {
             "coordinates": [
              [
               [
                23.761185734950114,
                37.87196482597699
               ],
               [
                23.76084046035257,
                37.87128613471596
               ],
               [
                23.76142371675432,
                37.870712976825615
               ],
               [
                23.76235224463257,
                37.870818506636134
               ],
               [
                23.7626975282229,
                37.871497195239556
               ],
               [
                23.762114274942387,
                37.87207035669008
               ],
               [
                23.761185734950114,
                37.87196482597699
               ]
              ]
             ],
             "type": "Polygon"
            },
            "id": "47",
            "properties": {},
            "type": "Feature"
           },
           {
            "bbox": [
             23.766173767275955,
             37.87259789941178,
             23.768030881019662,
             37.87395523151789
            ],
            "geometry": {
             "coordinates": [
              [
               [
                23.766519086523104,
                37.87384974424177
               ],
               [
                23.766173767275955,
                37.87317107685938
               ],
               [
                23.766757001967186,
                37.87259789941178
               ],
               [
                23.767685552781476,
                37.87270338578693
               ],
               [
                23.768030881019662,
                37.87338205051062
               ],
               [
                23.767447649452713,
                37.87395523151789
               ],
               [
                23.766519086523104,
                37.87384974424177
               ]
              ]
             ],
             "type": "Polygon"
            },
            "id": "48",
            "properties": {},
            "type": "Feature"
           },
           {
            "bbox": [
             23.770962937362192,
             37.892323782156744,
             23.772820447078857,
             37.893680923211384
            ],
            "geometry": {
             "coordinates": [
              [
               [
                23.771308362680443,
                37.8935754889648
               ],
               [
                23.770962937362192,
                37.89289691710808
               ],
               [
                23.771546263969867,
                37.892323782156744
               ],
               [
                23.77247501276772,
                37.89242921550405
               ],
               [
                23.772820447078857,
                37.89310778470194
               ],
               [
                23.772237123599442,
                37.893680923211384
               ],
               [
                23.771308362680443,
                37.8935754889648
               ]
              ]
             ],
             "type": "Polygon"
            },
            "id": "49",
            "properties": {},
            "type": "Feature"
           },
           {
            "bbox": [
             23.75981803048416,
             37.8910580052396,
             23.761675496918095,
             37.89241522421414
            ],
            "geometry": {
             "coordinates": [
              [
               [
                23.760163372258962,
                37.89230970123498
               ],
               [
                23.75981803048416,
                37.89163109041949
               ],
               [
                23.760401418988714,
                37.8910580052396
               ],
               [
                23.761330146146232,
                37.8911635273162
               ],
               [
                23.761675496918095,
                37.891842135475216
               ],
               [
                23.76109211153556,
                37.89241522421414
               ],
               [
                23.760163372258962,
                37.89230970123498
               ]
              ]
             ],
             "type": "Polygon"
            },
            "id": "50",
            "properties": {},
            "type": "Feature"
           },
           {
            "bbox": [
             23.758685215584222,
             37.859596925186764,
             23.76054206129496,
             37.86095440924374
            ],
            "geometry": {
             "coordinates": [
              [
               [
                23.759030434281918,
                37.86084885295923
               ],
               [
                23.758685215584222,
                37.86017010960193
               ],
               [
                23.759268416805696,
                37.859596925186764
               ],
               [
                23.760196833605754,
                37.859702480567925
               ],
               [
                23.76054206129496,
                37.86038122126756
               ],
               [
                23.759958863192804,
                37.86095440924374
               ],
               [
                23.759030434281918,
                37.86084885295923
               ]
              ]
             ],
             "type": "Polygon"
            },
            "id": "51",
            "properties": {},
            "type": "Feature"
           },
           {
            "bbox": [
             23.761078445049588,
             37.86946111794239,
             23.76293548869217,
             37.870818506636134
            ],
            "geometry": {
             "coordinates": [
              [
               [
                23.76142371675432,
                37.870712976825615
               ],
               [
                23.761078445049588,
                37.87003428114989
               ],
               [
                23.76166169223048,
                37.86946111794239
               ],
               [
                23.762590207995007,
                37.869566646850416
               ],
               [
                23.76293548869217,
                37.87024533986841
               ],
               [
                23.76235224463257,
                37.870818506636134
               ],
               [
                23.76142371675432,
                37.870712976825615
               ]
              ]
             ],
             "type": "Polygon"
            },
            "id": "52",
            "properties": {},
            "type": "Feature"
           },
           {
            "bbox": [
             23.764493687124833,
             37.858978203762405,
             23.766350530263573,
             37.86033565773332
            ],
            "geometry": {
             "coordinates": [
              [
               [
                23.764838944677457,
                37.860230146672926
               ],
               [
                23.764493687124833,
                37.85955141835801
               ],
               [
                23.765076848208157,
                37.858978203762405
               ],
               [
                23.766005263721834,
                37.859083713921116
               ],
               [
                23.766350530263573,
                37.859762439577096
               ],
               [
                23.76576737230271,
                37.86033565773332
               ],
               [
                23.764838944677457,
                37.860230146672926
               ]
              ]
             ],
             "type": "Polygon"
            },
            "id": "53",
            "properties": {},
            "type": "Feature"
           },
           {
            "bbox": [
             23.760042659491713,
             37.86742500618797,
             23.761899661378855,
             37.86878241785252
            ],
            "geometry": {
             "coordinates": [
              [
               [
                23.76038791641837,
                37.86867687831263
               ],
               [
                23.760042659491713,
                37.86799817115157
               ],
               [
                23.760625900572588,
                37.86742500618797
               ],
               [
                23.761554395459733,
                37.86753054482502
               ],
               [
                23.761899661378855,
                37.86820924932849
               ],
               [
                23.76131642341857,
                37.86878241785252
               ],
               [
                23.76038791641837,
                37.86867687831263
               ]
              ]
             ],
             "type": "Polygon"
            },
            "id": "54",
            "properties": {},
            "type": "Feature"
           },
           {
            "bbox": [
             23.77157579463618,
             37.859143371419584,
             23.773432652675005,
             37.86050078115286
            ],
            "geometry": {
             "coordinates": [
              [
               [
                23.77192110291682,
                37.860395325946456
               ],
               [
                23.77157579463618,
                37.85971661974959
               ],
               [
                23.77215891244488,
                37.859143371419584
               ],
               [
                23.77308733540803,
                37.859248825726375
               ],
               [
                23.773432652675005,
                37.85992752926276
               ],
               [
                23.772849537992702,
                37.86050078115286
               ],
               [
                23.77192110291682,
                37.860395325946456
               ]
              ]
             ],
             "type": "Polygon"
            },
            "id": "55",
            "properties": {},
            "type": "Feature"
           },
           {
            "bbox": [
             23.765529474558335,
             37.86101437897921,
             23.767386359440145,
             37.86237180999066
            ],
            "geometry": {
             "coordinates": [
              [
               [
                23.765874746886755,
                37.86226630865881
               ],
               [
                23.765529474558335,
                37.861587591823564
               ],
               [
                23.766112641737774,
                37.86101437897921
               ],
               [
                23.767041078122645,
                37.86111987940971
               ],
               [
                23.767386359440145,
                37.86179859358589
               ],
               [
                23.76680319538388,
                37.86237180999066
               ],
               [
                23.765874746886755,
                37.86226630865881
               ]
              ]
             ],
             "type": "Polygon"
            },
            "id": "56",
            "properties": {},
            "type": "Feature"
           },
           {
            "bbox": [
             23.762114274942387,
             37.871497195239556,
             23.763971360341063,
             37.87285456095826
            ],
            "geometry": {
             "coordinates": [
              [
               [
                23.76245956142589,
                37.87274904087836
               ],
               [
                23.762114274942387,
                37.87207035669008
               ],
               [
                23.7626975282229,
                37.871497195239556
               ],
               [
                23.76362606486512,
                37.871602714417286
               ],
               [
                23.763971360341063,
                37.87228139594772
               ],
               [
                23.763388110182536,
                37.87285456095826
               ],
               [
                23.76245956142589,
                37.87274904087836
               ]
              ]
             ],
             "type": "Polygon"
            },
            "id": "57",
            "properties": {},
            "type": "Feature"
           },
           {
            "bbox": [
             23.7620442119944,
             37.88683526808668,
             23.7639015990144,
             37.888192508286394
            ],
            "geometry": {
             "coordinates": [
              [
               [
                23.762389554083835,
                37.88808699955558
               ],
               [
                23.7620442119944,
                37.88740837812717
               ],
               [
                23.762627560478652,
                37.88683526808668
               ],
               [
                23.76355624792958,
                37.88694077591552
               ],
               [
                23.7639015990144,
                37.88761939468679
               ],
               [
                23.763318253653107,
                37.888192508286394
               ],
               [
                23.762389554083835,
                37.88808699955558
               ]
              ]
             ],
             "type": "Polygon"
            },
            "id": "58",
            "properties": {},
            "type": "Feature"
           },
           {
            "bbox": [
             23.760854070593837,
             37.8930938279489,
             23.762711578804364,
             37.89445102391232
            ],
            "geometry": {
             "coordinates": [
              [
               [
                23.761199427154086,
                37.89434551067093
               ],
               [
                23.760854070593837,
                37.89366691136094
               ],
               [
                23.761437465201602,
                37.8930938279489
               ],
               [
                23.762366213247084,
                37.89319934028807
               ],
               [
                23.762711578804364,
                37.893877936941465
               ],
               [
                23.76212818731932,
                37.89445102391232
               ],
               [
                23.761199427154086,
                37.89434551067093
               ]
              ]
             ],
             "type": "Polygon"
            },
            "id": "59",
            "properties": {},
            "type": "Feature"
           },
           {
            "bbox": [
             23.76061602332082,
             37.89434551067093,
             23.762473555771162,
             37.89570269778379
            ],
            "geometry": {
             "coordinates": [
              [
               [
                23.76096138277529,
                37.895597183640135
               ],
               [
                23.76061602332082,
                37.89491858875547
               ],
               [
                23.761199427154086,
                37.89434551067093
               ],
               [
                23.76212818731932,
                37.89445102391232
               ],
               [
                23.762473555771162,
                37.89512961614048
               ],
               [
                23.76189015506058,
                37.89570269778379
               ],
               [
                23.76096138277529,
                37.895597183640135
               ]
              ]
             ],
             "type": "Polygon"
            },
            "id": "60",
            "properties": {},
            "type": "Feature"
           },
           {
            "bbox": [
             23.76141407154914,
             37.89763294527743,
             23.763271670019847,
             37.89899010051937
            ],
            "geometry": {
             "coordinates": [
              [
               [
                23.761759448684753,
                37.89888459521307
               ],
               [
                23.76141407154914,
                37.898206016263856
               ],
               [
                23.7619974907116,
                37.89763294527743
               ],
               [
                23.762926283886546,
                37.89773844968174
               ],
               [
                23.763271670019847,
                37.89841702597443
               ],
               [
                23.762688253980713,
                37.89899010051937
               ],
               [
                23.761759448684753,
                37.89888459521307
               ]
              ]
             ],
             "type": "Polygon"
            },
            "id": "61",
            "properties": {},
            "type": "Feature"
           },
           {
            "bbox": [
             23.75734077100169,
             37.874151853184976,
             23.75919790072104,
             37.87550922601583
            ],
            "geometry": {
             "coordinates": [
              [
               [
                23.757686033396,
                37.87540367042422
               ],
               [
                23.75734077100169,
                37.87472498268044
               ],
               [
                23.757924070529324,
                37.874151853184976
               ],
               [
                23.75885262933193,
                37.874257407873074
               ],
               [
                23.75919790072104,
                37.87493609296014
               ],
               [
                23.758614604312946,
                37.87550922601583
               ],
               [
                23.757686033396,
                37.87540367042422
               ]
              ]
             ],
             "type": "Polygon"
            },
            "id": "62",
            "properties": {},
            "type": "Feature"
           },
           {
            "bbox": [
             23.764899905746503,
             37.871813730604316,
             23.766757001967186,
             37.87317107685938
            ],
            "geometry": {
             "coordinates": [
              [
               [
                23.76524521310805,
                37.87306557894884
               ],
               [
                23.764899905746503,
                37.872386904492096
               ],
               [
                23.76548314356129,
                37.871813730604316
               ],
               [
                23.76641168561426,
                37.87191922761349
               ],
               [
                23.766757001967186,
                37.87259789941178
               ],
               [
                23.766173767275955,
                37.87317107685938
               ],
               [
                23.76524521310805,
                37.87306557894884
               ]
              ]
             ],
             "type": "Polygon"
            },
            "id": "63",
            "properties": {},
            "type": "Feature"
           },
           {
            "bbox": [
             23.767125402670597,
             37.8675904227765,
             23.768982419496172,
             37.86894779020283
            ],
            "geometry": {
             "coordinates": [
              [
               [
                23.767470710341016,
                37.868842306530325
               ],
               [
                23.767125402670597,
                37.86816362148762
               ],
               [
                23.76770860048028,
                37.8675904227765
               ],
               [
                23.768637102836053,
                37.867695905548224
               ],
               [
                23.768982419496172,
                37.86837458793181
               ],
               [
                23.768399224810988,
                37.86894779020283
               ],
               [
                23.767470710341016,
                37.868842306530325
               ]
              ]
             ],
             "type": "Polygon"
            },
            "id": "64",
            "properties": {},
            "type": "Feature"
           },
           {
            "bbox": [
             23.762842246110605,
             37.890122840836,
             23.764699699139356,
             37.8914800491832
            ],
            "geometry": {
             "coordinates": [
              [
               [
                23.763187605878844,
                37.89137454928807
               ],
               [
                23.762842246110605,
                37.89069594378589
               ],
               [
                23.763425609920613,
                37.890122840836
               ],
               [
                23.764354330375422,
                37.89022833982944
               ],
               [
                23.764699699139356,
                37.89090694267445
               ],
               [
                23.764116338452972,
                37.8914800491832
               ],
               [
                23.763187605878844,
                37.89137454928807
               ]
              ]
             ],
             "type": "Polygon"
            },
            "id": "65",
            "properties": {},
            "type": "Feature"
           },
           {
            "bbox": [
             23.770946931021637,
             37.86994286512157,
             23.772804000397564,
             37.87130019010347
            ],
            "geometry": {
             "coordinates": [
              [
               [
                23.77129227434462,
                37.871194738332825
               ],
               [
                23.770946931021637,
                37.87051607451197
               ],
               [
                23.771530119455576,
                37.86994286512157
               ],
               [
                23.772458648085927,
                37.87004831599257
               ],
               [
                23.772804000397564,
                37.87072697715358
               ],
               [
                23.77222081509038,
                37.87130019010347
               ],
               [
                23.77129227434462,
                37.871194738332825
               ]
              ]
             ],
             "type": "Polygon"
            },
            "id": "66",
            "properties": {},
            "type": "Feature"
           },
           {
            "bbox": [
             23.760672755451054,
             37.85662539013777,
             23.762529546024247,
             37.857982886515465
            ],
            "geometry": {
             "coordinates": [
              [
               [
                23.76101797735636,
                37.8578773435686
               ],
               [
                23.760672755451054,
                37.857198594050665
               ],
               [
                23.761255925897263,
                37.85662539013777
               ],
               [
                23.76218431512878,
                37.85673093218181
               ],
               [
                23.762529546024247,
                37.857409679041524
               ],
               [
                23.76194637869824,
                37.857982886515465
               ],
               [
                23.76101797735636,
                37.8578773435686
               ]
              ]
             ],
             "type": "Polygon"
            },
            "id": "67",
            "properties": {},
            "type": "Feature"
           },
           {
            "bbox": [
             23.76855266599163,
             37.86007891600374,
             23.770409537457038,
             37.86143633637749
            ],
            "geometry": {
             "coordinates": [
              [
               [
                23.76889795629753,
                37.861330858108914
               ],
               [
                23.76855266599163,
                37.860652146592166
               ],
               [
                23.769135808486876,
                37.86007891600374
               ],
               [
                23.770064238163425,
                37.86018439337184
               ],
               [
                23.770409537457038,
                37.860863102228805
               ],
               [
                23.769826398086572,
                37.86143633637749
               ],
               [
                23.76889795629753,
                37.861330858108914
               ]
              ]
             ],
             "type": "Polygon"
            },
            "id": "68",
            "properties": {},
            "type": "Feature"
           },
           {
            "bbox": [
             23.76282816502994,
             37.867741599933716,
             23.76468517774467,
             37.869098992139605
            ],
            "geometry": {
             "coordinates": [
              [
               [
                23.763173442833963,
                37.868993474766086
               ],
               [
                23.76282816502994,
                37.86831477733405
               ],
               [
                23.76341139064852,
                37.867741599933716
               ],
               [
                23.7643398909492,
                37.867847116405216
               ],
               [
                23.76468517774467,
                37.86852581117906
               ],
               [
                23.764101955248215,
                37.869098992139605
               ],
               [
                23.763173442833963,
                37.868993474766086
               ]
              ]
             ],
             "type": "Polygon"
            },
            "id": "69",
            "properties": {},
            "type": "Feature"
           },
           {
            "bbox": [
             23.767532015785424,
             37.88042527553213,
             23.769389285739077,
             37.88178253515252
            ],
            "geometry": {
             "coordinates": [
              [
               [
                23.767877373278672,
                37.881677064644975
               ],
               [
                23.767532015785424,
                37.88099843350549
               ],
               [
                23.768115290335697,
                37.88042527553213
               ],
               [
                23.769043919253843,
                37.88053074513919
               ],
               [
                23.769389285739077,
                37.88120937362007
               ],
               [
                23.768806014314375,
                37.88178253515252
               ],
               [
                23.767877373278672,
                37.881677064644975
               ]
              ]
             ],
             "type": "Polygon"
            },
            "id": "70",
            "properties": {},
            "type": "Feature"
           },
           {
            "bbox": [
             23.758125570892663,
             37.85505675924975,
             23.759982326414608,
             37.85641428389181
            ],
            "geometry": {
             "coordinates": [
              [
               [
                23.758470769033075,
                37.85630871969
               ],
               [
                23.758125570892663,
                37.855629956040104
               ],
               [
                23.75870874757703,
                37.85505675924975
               ],
               [
                23.75963711928332,
                37.85516232254797
               ],
               [
                23.759982326414608,
                37.85584108354011
               ],
               [
                23.75939915284894,
                37.85641428389181
               ],
               [
                23.758470769033075,
                37.85630871969
               ]
              ]
             ],
             "type": "Polygon"
            },
            "id": "71",
            "properties": {},
            "type": "Feature"
           },
           {
            "bbox": [
             23.76219824184935,
             37.87854050922352,
             23.764055465930134,
             37.87989781662351
            ],
            "geometry": {
             "coordinates": [
              [
               [
                23.762543554686758,
                37.87979230266758
               ],
               [
                23.76219824184935,
                37.87911364763883
               ],
               [
                23.762781538116617,
                37.87854050922352
               ],
               [
                23.763710144098987,
                37.8786460222774
               ],
               [
                23.764055465930134,
                37.87932467464861
               ],
               [
                23.763472172785367,
                37.87989781662351
               ],
               [
                23.762543554686758,
                37.87979230266758
               ]
              ]
             ],
             "type": "Polygon"
            },
            "id": "72",
            "properties": {},
            "type": "Feature"
           },
           {
            "bbox": [
             23.760126468290732,
             37.87446849507966,
             23.76198360884771,
             37.87582584844972
            ],
            "geometry": {
             "coordinates": [
              [
               [
                23.760471751566868,
                37.875720315028666
               ],
               [
                23.760126468290732,
                37.87504163701499
               ],
               [
                23.76070975235664,
                37.87446849507966
               ],
               [
                23.76163831657778,
                37.87457402759802
               ],
               [
                23.76198360884771,
                37.87525270295439
               ],
               [
                23.76140032790289,
                37.87582584844972
               ],
               [
                23.760471751566868,
                37.875720315028666
               ]
              ]
             ],
             "type": "Polygon"
            },
            "id": "73",
            "properties": {},
            "type": "Feature"
           },
           {
            "bbox": [
             23.770148787301874,
             37.866654952741925,
             23.77200579070366,
             37.868012309530364
            ],
            "geometry": {
             "coordinates": [
              [
               [
                23.770494112951013,
                37.86790684892522
               ],
               [
                23.770148787301874,
                37.867228169201105
               ],
               [
                23.770731960422413,
                37.866654952741925
               ],
               [
                23.771660456066186,
                37.86676041244715
               ],
               [
                23.77200579070366,
                37.86743908951145
               ],
               [
                23.77142262070921,
                37.868012309530364
               ],
               [
                23.770494112951013,
                37.86790684892522
               ]
              ]
             ],
             "type": "Polygon"
            },
            "id": "74",
            "properties": {},
            "type": "Feature"
           },
           {
            "bbox": [
             23.758627687391083,
             37.89731638769331,
             23.7604852750229,
             37.89867356241401
            ],
            "geometry": {
             "coordinates": [
              [
               [
                23.758973043635315,
                37.89856803492136
               ],
               [
                23.758627687391083,
                37.89788944623306
               ],
               [
                23.759211122024173,
                37.89731638769331
               ],
               [
                23.76013990977993,
                37.89742191428315
               ],
               [
                23.7604852750229,
                37.898100500315515
               ],
               [
                23.759901843511567,
                37.89867356241401
               ],
               [
                23.758973043635315,
                37.89856803492136
               ]
              ]
             ],
             "type": "Polygon"
            },
            "id": "75",
            "properties": {},
            "type": "Feature"
           },
           {
            "bbox": [
             23.763472172785367,
             37.87932467464861,
             23.765329414395485,
             37.880681967895725
            ],
            "geometry": {
             "coordinates": [
              [
               [
                23.7638174975105,
                37.88057646457597
               ],
               [
                23.763472172785367,
                37.87989781662351
               ],
               [
                23.764055465930134,
                37.87932467464861
               ],
               [
                23.764984080676975,
                37.8794301770667
               ],
               [
                23.765329414395485,
                37.88010882236136
               ],
               [
                23.764746124373975,
                37.880681967895725
               ],
               [
                23.7638174975105,
                37.88057646457597
               ]
              ]
             ],
             "type": "Polygon"
            },
            "id": "76",
            "properties": {},
            "type": "Feature"
           },
           {
            "bbox": [
             23.76545997429903,
             37.87635340469911,
             23.767317160737296,
             37.877710710303546
            ],
            "geometry": {
             "coordinates": [
              [
               [
                23.76580530222894,
                37.87760522032417
               ],
               [
                23.76545997429903,
                37.87692656619278
               ],
               [
                23.76604323665422,
                37.87635340469911
               ],
               [
                23.76697182381535,
                37.87645889377735
               ],
               [
                23.767317160737296,
                37.87713754525037
               ],
               [
                23.766733901506264,
                37.877710710303546
               ],
               [
                23.76580530222894,
                37.87760522032417
               ]
              ]
             ],
             "type": "Polygon"
            },
            "id": "77",
            "properties": {},
            "type": "Feature"
           },
           {
            "bbox": [
             23.76761639470493,
             37.887468204164875,
             23.769473803367756,
             37.888825405412305
            ],
            "geometry": {
             "coordinates": [
              [
               [
                23.767961778562707,
                37.88871994104151
               ],
               [
                23.76761639470493,
                37.888041339088645
               ],
               [
                23.76819971224487,
                37.887468204164875
               ],
               [
                23.769128410516686,
                37.88757366763534
               ],
               [
                23.769473803367756,
                37.88825226692987
               ],
               [
                23.768890488953897,
                37.888825405412305
               ],
               [
                23.767961778562707,
                37.88871994104151
               ]
              ]
             ],
             "type": "Polygon"
            },
            "id": "78",
            "properties": {},
            "type": "Feature"
           },
           {
            "bbox": [
             23.760056080107734,
             37.889806299494204,
             23.761913522303807,
             37.8911635273162
            ],
            "geometry": {
             "coordinates": [
              [
               [
                23.760401418988714,
                37.8910580052396
               ],
               [
                23.760056080107734,
                37.89037939000032
               ],
               [
                23.760639459387367,
                37.889806299494204
               ],
               [
                23.7615681744261,
                37.88991182066831
               ],
               [
                23.761913522303807,
                37.890590433251
               ],
               [
                23.761330146146232,
                37.8911635273162
               ],
               [
                23.760401418988714,
                37.8910580052396
               ]
              ]
             ],
             "type": "Polygon"
            },
            "id": "79",
            "properties": {},
            "type": "Feature"
           },
           {
            "bbox": [
             23.763933767895622,
             37.8544380526782,
             23.765790520849514,
             37.855795547237705
            ],
            "geometry": {
             "coordinates": [
              [
               [
                23.76427900488798,
                37.85569002825397
               ],
               [
                23.763933767895622,
                37.855011279644714
               ],
               [
                23.764516904446804,
                37.8544380526782
               ],
               [
                23.765445274868682,
                37.85454357076003
               ],
               [
                23.765790520849514,
                37.85522231671026
               ],
               [
                23.76520738742019,
                37.855795547237705
               ],
               [
                23.76427900488798,
                37.85569002825397
               ]
              ]
             ],
             "type": "Polygon"
            },
            "id": "80",
            "properties": {},
            "type": "Feature"
           },
           {
            "bbox": [
             23.76345794401724,
             37.85694199411166,
             23.76531474541357,
             37.85829947103784
            ],
            "geometry": {
             "coordinates": [
              [
               [
                23.7638031867948,
                37.85819395025013
               ],
               [
                23.76345794401724,
                37.857515210457656
               ],
               [
                23.764041099004068,
                37.85694199411166
               ],
               [
                23.764969493646888,
                37.85704751399736
               ],
               [
                23.76531474541357,
                37.85772625113102
               ],
               [
                23.764731593548515,
                37.85829947103784
               ],
               [
                23.7638031867948,
                37.85819395025013
               ]
              ]
             ],
             "type": "Polygon"
            },
            "id": "81",
            "properties": {},
            "type": "Feature"
           },
           {
            "bbox": [
             23.75900691826659,
             37.86538885998261,
             23.760863878398954,
             37.86674629461376
            ],
            "geometry": {
             "coordinates": [
              [
               [
                23.759352160415904,
                37.86664074534574
               ],
               [
                23.75900691826659,
                37.865962026701446
               ],
               [
                23.75959015324704,
                37.86538885998261
               ],
               [
                23.760518627257134,
                37.865494408347445
               ],
               [
                23.760863878398954,
                37.86617312433427
               ],
               [
                23.760280646538362,
                37.86674629461376
               ],
               [
                23.759352160415904,
                37.86664074534574
               ]
              ]
             ],
             "type": "Polygon"
            },
            "id": "82",
            "properties": {},
            "type": "Feature"
           },
           {
            "bbox": [
             23.756697549404624,
             37.862568376075544,
             23.75855445025168,
             37.863925847805845
            ],
            "geometry": {
             "coordinates": [
              [
               [
                23.757042764892763,
                37.863820278181485
               ],
               [
                23.756697549404624,
                37.8631415409878
               ],
               [
                23.757280781402677,
                37.862568376075544
               ],
               [
                23.758209225770663,
                37.862673944796036
               ],
               [
                23.75855445025168,
                37.86335267933262
               ],
               [
                23.757971221372028,
                37.863925847805845
               ],
               [
                23.757042764892763,
                37.863820278181485
               ]
              ]
             ],
             "type": "Polygon"
            },
            "id": "83",
            "properties": {},
            "type": "Feature"
           },
           {
            "bbox": [
             23.760770190992798,
             37.8860511237693,
             23.762627560478652,
             37.88740837812717
            ],
            "geometry": {
             "coordinates": [
              [
               [
                23.761115521192398,
                37.887302858757906
               ],
               [
                23.760770190992798,
                37.88662423025054
               ],
               [
                23.76135354259926,
                37.8860511237693
               ],
               [
                23.76228222128331,
                37.88615664223622
               ],
               [
                23.762627560478652,
                37.88683526808668
               ],
               [
                23.7620442119944,
                37.88740837812717
               ],
               [
                23.761115521192398,
                37.887302858757906
               ]
              ]
             ],
             "type": "Polygon"
            },
            "id": "84",
            "properties": {},
            "type": "Feature"
           },
           {
            "bbox": [
             23.758698313276657,
             37.881979268704384,
             23.76055559922227,
             37.88333656905605
            ],
            "geometry": {
             "coordinates": [
              [
               [
                23.75904361391052,
                37.88323103021766
               ],
               [
                23.758698313276657,
                37.882552378713534
               ],
               [
                23.759281652678013,
                37.881979268704384
               ],
               [
                23.760210289592624,
                37.88208480663976
               ],
               [
                23.76055559922227,
                37.88276345548724
               ],
               [
                23.759972262941716,
                37.88333656905605
               ],
               [
                23.75904361391052,
                37.88323103021766
               ]
              ]
             ],
             "type": "Polygon"
            },
            "id": "85",
            "properties": {},
            "type": "Feature"
           },
           {
            "bbox": [
             23.767056156898732,
             37.88292884401728,
             23.768913475323757,
             37.88428608595651
            ],
            "geometry": {
             "coordinates": [
              [
               [
                23.767401520182077,
                37.884180613647885
               ],
               [
                23.767056156898732,
                37.88350199134908
               ],
               [
                23.767639449894215,
                37.88292884401728
               ],
               [
                23.768568103047755,
                37.88303431542534
               ],
               [
                23.768913475323757,
                37.88371293506574
               ],
               [
                23.768330185453753,
                37.88428608595651
               ],
               [
                23.767401520182077,
                37.884180613647885
               ]
              ]
             ],
             "type": "Polygon"
            },
            "id": "86",
            "properties": {},
            "type": "Feature"
           },
           {
            "bbox": [
             23.758054872089627,
             37.870396343059284,
             23.759911929125433,
             37.87175374238257
            ],
            "geometry": {
             "coordinates": [
              [
               [
                23.758400125807388,
                37.871648189501364
               ],
               [
                23.758054872089627,
                37.870969488511214
               ],
               [
                23.7586381439526,
                37.870396343059284
               ],
               [
                23.75956666641385,
                37.870501895037116
               ],
               [
                23.759911929125433,
                37.871180593370234
               ],
               [
                23.75932866038213,
                37.87175374238257
               ],
               [
                23.758400125807388,
                37.871648189501364
               ]
              ]
             ],
             "type": "Polygon"
            },
            "id": "87",
            "properties": {},
            "type": "Feature"
           },
           {
            "bbox": [
             23.76634232110856,
             37.886684123679395,
             23.76819971224487,
             37.888041339088645
            ],
            "geometry": {
             "coordinates": [
              [
               [
                23.766687693077195,
                37.88793586407801
               ],
               [
                23.76634232110856,
                37.88725725504436
               ],
               [
                23.766925641773813,
                37.886684123679395
               ],
               [
                23.767854331282585,
                37.88678959778931
               ],
               [
                23.76819971224487,
                37.887468204164875
               ],
               [
                23.76761639470493,
                37.888041339088645
               ],
               [
                23.766687693077195,
                37.88793586407801
               ]
              ]
             ],
             "type": "Polygon"
            },
            "id": "88",
            "properties": {},
            "type": "Feature"
           },
           {
            "bbox": [
             23.76420047196336,
             37.89794943630438,
             23.766058081264287,
             37.899306572064525
            ],
            "geometry": {
             "coordinates": [
              [
               [
                23.764545869988964,
                37.89920108894516
               ],
               [
                23.76420047196336,
                37.89852251973654
               ],
               [
                23.764783875652242,
                37.89794943630438
               ],
               [
                23.765712674242035,
                37.89805491852258
               ],
               [
                23.766058081264287,
                37.898733485074075
               ],
               [
                23.76547468070029,
                37.899306572064525
               ],
               [
                23.764545869988964,
                37.89920108894516
               ]
              ]
             ],
             "type": "Polygon"
            },
            "id": "89",
            "properties": {},
            "type": "Feature"
           },
           {
            "bbox": [
             23.77024918683558,
             37.896078873328044,
             23.7721067692817,
             37.89743598782571
            ],
            "geometry": {
             "coordinates": [
              [
               [
                23.770594620843646,
                37.89733055088095
               ],
               [
                23.77024918683558,
                37.89665199230288
               ],
               [
                23.770832541117578,
                37.896078873328044
               ],
               [
                23.771761326279726,
                37.89618430937337
               ],
               [
                23.7721067692817,
                37.89686286529294
               ],
               [
                23.771523418127803,
                37.89743598782571
               ],
               [
                23.770594620843646,
                37.89733055088095
               ]
              ]
             ],
             "type": "Polygon"
            },
            "id": "90",
            "properties": {},
            "type": "Feature"
           },
           {
            "bbox": [
             23.762506220351185,
             37.861949760338796,
             23.764363118639206,
             37.863307201985165
            ],
            "geometry": {
             "coordinates": [
              [
               [
                23.762851474699378,
                37.863201677588926
               ],
               [
                23.762506220351185,
                37.862522955436575
               ],
               [
                23.76308941221247,
                37.861949760338796
               ],
               [
                23.76401785530057,
                37.86205528383281
               ],
               [
                23.764363118639206,
                37.86273400332681
               ],
               [
                23.763779929899496,
                37.863307201985165
               ],
               [
                23.762851474699378,
                37.863201677588926
               ]
              ]
             ],
             "type": "Polygon"
            },
            "id": "91",
            "properties": {},
            "type": "Feature"
           },
           {
            "bbox": [
             23.76608950921549,
             37.86555434292189,
             23.76794648429394,
             37.86691173332009
            ],
            "geometry": {
             "coordinates": [
              [
               [
                23.766434802107927,
                37.86680623991586
               ],
               [
                23.76608950921549,
                37.86612754338729
               ],
               [
                23.766672700929217,
                37.86555434292189
               ],
               [
                23.767601182411788,
                37.86565983542501
               ],
               [
                23.76794648429394,
                37.86633852929458
               ],
               [
                23.767363295703994,
                37.86691173332009
               ],
               [
                23.766434802107927,
                37.86680623991586
               ]
              ]
             ],
             "type": "Polygon"
            },
            "id": "92",
            "properties": {},
            "type": "Feature"
           },
           {
            "bbox": [
             23.768483657631347,
             37.87541802169807,
             23.770340830649097,
             37.876775316667654
            ],
            "geometry": {
             "coordinates": [
              [
               [
                23.768829003544635,
                37.87666984976169
               ],
               [
                23.768483657631347,
                37.875991200947375
               ],
               [
                23.769066895294383,
                37.87541802169807
               ],
               [
                23.76999547574514,
                37.87552348770377
               ],
               [
                23.770340830649097,
                37.87620213385902
               ],
               [
                23.769757596111816,
                37.876775316667654
               ],
               [
                23.768829003544635,
                37.87666984976169
               ]
              ]
             ],
             "type": "Polygon"
            },
            "id": "93",
            "properties": {},
            "type": "Feature"
           },
           {
            "bbox": [
             23.76212818731932,
             37.893877936941465,
             23.7639857130665,
             37.89523511874098
            ],
            "geometry": {
             "coordinates": [
              [
               [
                23.762473555771162,
                37.89512961614048
               ],
               [
                23.76212818731932,
                37.89445102391232
               ],
               [
                23.762711578804364,
                37.893877936941465
               ],
               [
                23.76364033561797,
                37.89398343864012
               ],
               [
                23.7639857130665,
                37.894662028211435
               ],
               [
                23.763402324704927,
                37.89523511874098
               ],
               [
                23.762473555771162,
                37.89512961614048
               ]
              ]
             ],
             "type": "Polygon"
            },
            "id": "94",
            "properties": {},
            "type": "Feature"
           },
           {
            "bbox": [
             23.762744160756974,
             37.86069783336486,
             23.76460103482122,
             37.86205528383281
            ],
            "geometry": {
             "coordinates": [
              [
               [
                23.76308941221247,
                37.861949760338796
               ],
               [
                23.762744160756974,
                37.86127103377558
               ],
               [
                23.763327343399244,
                37.86069783336486
               ],
               [
                23.764255774375595,
                37.860803355956726
               ],
               [
                23.76460103482122,
                37.861482079861446
               ],
               [
                23.76401785530057,
                37.86205528383281
               ],
               [
                23.76308941221247,
                37.861949760338796
               ]
              ]
             ],
             "type": "Polygon"
            },
            "id": "95",
            "properties": {},
            "type": "Feature"
           },
           {
            "bbox": [
             23.76751682462558,
             37.85804275674282,
             23.769373654352087,
             37.85940020007657
            ],
            "geometry": {
             "coordinates": [
              [
               [
                23.767862100155735,
                37.859294712078274
               ],
               [
                23.76751682462558,
                37.85861598908159
               ],
               [
                23.768099961026753,
                37.85804275674282
               ],
               [
                23.769028369834192,
                37.858148243840304
               ],
               [
                23.769373654352087,
                37.85882696417735
               ],
               [
                23.768790521074983,
                37.85940020007657
               ],
               [
                23.767862100155735,
                37.859294712078274
               ]
              ]
             ],
             "type": "Polygon"
            },
            "id": "96",
            "properties": {},
            "type": "Feature"
           },
           {
            "bbox": [
             23.761792361173338,
             37.86570548291321,
             23.763649332136083,
             37.86706289808821
            ],
            "geometry": {
             "coordinates": [
              [
               [
                23.7621376241997,
                37.86695737098505
               ],
               [
                23.761792361173338,
                37.86627866206854
               ],
               [
                23.762375580693234,
                37.86570548291321
               ],
               [
                23.76330406011826,
                37.865811009114
               ],
               [
                23.763649332136083,
                37.86648971537245
               ],
               [
                23.763066115737608,
                37.86706289808821
               ],
               [
                23.7621376241997,
                37.86695737098505
               ]
              ]
             ],
             "type": "Polygon"
            },
            "id": "97",
            "properties": {},
            "type": "Feature"
           },
           {
            "bbox": [
             23.761386590771135,
             37.85286947153368,
             23.763243308684636,
             37.8542269943577
            ],
            "geometry": {
             "coordinates": [
              [
               [
                23.761731804000732,
                37.854121454119166
               ],
               [
                23.761386590771135,
                37.853442691377886
               ],
               [
                23.761969733563785,
                37.85286947153368
               ],
               [
                23.762898086465867,
                37.85297501086955
               ],
               [
                23.763243308684636,
                37.85365377095227
               ],
               [
                23.76266016901234,
                37.8542269943577
               ],
               [
                23.761731804000732,
                37.854121454119166
               ]
              ]
             ],
             "type": "Polygon"
            },
            "id": "98",
            "properties": {},
            "type": "Feature"
           },
           {
            "bbox": [
             23.768974976197423,
             37.895294863634895,
             23.770832541117578,
             37.89665199230288
            ],
            "geometry": {
             "coordinates": [
              [
               [
                23.769320398314605,
                37.89654654471474
               ],
               [
                23.768974976197423,
                37.89586797905163
               ],
               [
                23.76955833360676,
                37.895294863634895
               ],
               [
                23.770487110006137,
                37.895400310323204
               ],
               [
                23.770832541117578,
                37.896078873328044
               ],
               [
                23.77024918683558,
                37.89665199230288
               ],
               [
                23.769320398314605,
                37.89654654471474
               ]
              ]
             ],
             "type": "Polygon"
            },
            "id": "99",
            "properties": {},
            "type": "Feature"
           },
           {
            "bbox": [
             23.764186067741374,
             37.87556924643676,
             23.76604323665422,
             37.87692656619278
            ],
            "geometry": {
             "coordinates": [
              [
               [
                23.76453138378461,
                37.876821065577865
               ],
               [
                23.764186067741374,
                37.8761424043708
               ],
               [
                23.76476933321995,
                37.87556924643676
               ],
               [
                23.765697911618584,
                37.875674746150175
               ],
               [
                23.76604323665422,
                37.87635340469911
               ],
               [
                23.76545997429903,
                37.87692656619278
               ],
               [
                23.76453138378461,
                37.876821065577865
               ]
              ]
             ],
             "type": "Polygon"
            },
            "id": "100",
            "properties": {},
            "type": "Feature"
           },
           {
            "bbox": [
             23.759650441938096,
             37.87697212524124,
             23.76150763095568,
             37.87832946094287
            ],
            "geometry": {
             "coordinates": [
              [
               [
                23.75999573100007,
                37.878223925716235
               ],
               [
                23.759650441938096,
                37.87754525653689
               ],
               [
                23.76023374444809,
                37.87697212524124
               ],
               [
                23.761162332899268,
                37.87707765956506
               ],
               [
                23.76150763095568,
                37.87775632608733
               ],
               [
                23.760924331566667,
                37.87832946094287
               ],
               [
                23.75999573100007,
                37.878223925716235
               ]
              ]
             ],
             "type": "Polygon"
            },
            "id": "101",
            "properties": {},
            "type": "Feature"
           },
           {
            "bbox": [
             23.769128410516686,
             37.88700052382991,
             23.770985812465206,
             37.88835771976034
            ],
            "geometry": {
             "coordinates": [
              [
               [
                23.769473803367756,
                37.88825226692987
               ],
               [
                23.769128410516686,
                37.88757366763534
               ],
               [
                23.76971171570692,
                37.88700052382991
               ],
               [
                23.77064041062153,
                37.88710597576047
               ],
               [
                23.770985812465206,
                37.88778457239633
               ],
               [
                23.77040251040185,
                37.88835771976034
               ],
               [
                23.769473803367756,
                37.88825226692987
               ]
              ]
             ],
             "type": "Polygon"
            },
            "id": "102",
            "properties": {},
            "type": "Feature"
           },
           {
            "bbox": [
             23.76968877177675,
             37.89153976188578,
             23.771546263969867,
             37.89289691710808
            ],
            "geometry": {
             "coordinates": [
              [
               [
                23.770034185205162,
                37.89279147221927
               ],
               [
                23.76968877177675,
                37.89211289327884
               ],
               [
                23.77027210151191,
                37.89153976188578
               ],
               [
                23.771200841548186,
                37.891645205874916
               ],
               [
                23.771546263969867,
                37.892323782156744
               ],
               [
                23.770962937362192,
                37.89289691710808
               ],
               [
                23.770034185205162,
                37.89279147221927
               ]
              ]
             ],
             "type": "Polygon"
            },
            "id": "103",
            "properties": {},
            "type": "Feature"
           },
           {
            "bbox": [
             23.76680319538388,
             37.86179859358589,
             23.768660097783805,
             37.8631560104568
            ],
            "geometry": {
             "coordinates": [
              [
               [
                23.76714847959509,
                37.86305051975576
               ],
               [
                23.76680319538388,
                37.86237180999066
               ],
               [
                23.767386359440145,
                37.86179859358589
               ],
               [
                23.76831480458387,
                37.86190408338596
               ],
               [
                23.768660097783805,
                37.86258279049173
               ],
               [
                23.76807693685148,
                37.8631560104568
               ],
               [
                23.76714847959509,
                37.86305051975576
               ]
              ]
             ],
             "type": "Polygon"
            },
            "id": "104",
            "properties": {},
            "type": "Feature"
           },
           {
            "bbox": [
             23.765152468214897,
             37.89294272819816,
             23.76700998054809,
             37.89429989936887
            ],
            "geometry": {
             "coordinates": [
              [
               [
                23.76549785465943,
                37.89419441985388
               ],
               [
                23.765152468214897,
                37.89351583293977
               ],
               [
                23.765735835001756,
                37.89294272819816
               ],
               [
                23.766664585108245,
                37.893048206812175
               ],
               [
                23.76700998054809,
                37.893726791068744
               ],
               [
                23.76642661688632,
                37.89429989936887
               ],
               [
                23.76549785465943,
                37.89419441985388
               ]
              ]
             ],
             "type": "Polygon"
            },
            "id": "105",
            "properties": {},
            "type": "Feature"
           },
           {
            "bbox": [
             23.76442402007063,
             37.87431741756005,
             23.766281164752186,
             37.875674746150175
            ],
            "geometry": {
             "coordinates": [
              [
               [
                23.76476933321995,
                37.87556924643676
               ],
               [
                23.76442402007063,
                37.8748905808126
               ],
               [
                23.765007276327683,
                37.87431741756005
               ],
               [
                23.765935842610816,
                37.87442291637199
               ],
               [
                23.766281164752186,
                37.87510157933792
               ],
               [
                23.765697911618584,
                37.875674746150175
               ],
               [
                23.76476933321995,
                37.87556924643676
               ]
              ]
             ],
             "type": "Polygon"
            },
            "id": "106",
            "properties": {},
            "type": "Feature"
           },
           {
            "bbox": [
             23.75917439026739,
             37.87947571645253,
             23.761031627747855,
             37.880833034481384
            ],
            "geometry": {
             "coordinates": [
              [
               [
                23.75951968511527,
                37.880727497448966
               ],
               [
                23.75917439026739,
                37.88004883710613
               ],
               [
                23.759757711222544,
                37.87947571645253
               ],
               [
                23.76068632390486,
                37.87958125258204
               ],
               [
                23.761031627747855,
                37.88025991026801
               ],
               [
                23.760448309913592,
                37.880833034481384
               ],
               [
                23.75951968511527,
                37.880727497448966
               ]
              ]
             ],
             "type": "Polygon"
            },
            "id": "107",
            "properties": {},
            "type": "Feature"
           },
           {
            "bbox": [
             23.766565306319926,
             37.86305051975576,
             23.768422232945458,
             37.86440792780352
            ],
            "geometry": {
             "coordinates": [
              [
               [
                23.766910593424853,
                37.864302436201484
               ],
               [
                23.766565306319926,
                37.863623730848005
               ],
               [
                23.76714847959509,
                37.86305051975576
               ],
               [
                23.76807693685148,
                37.8631560104568
               ],
               [
                23.768422232945458,
                37.86383471315105
               ],
               [
                23.767839062794188,
                37.86440792780352
               ],
               [
                23.766910593424853,
                37.864302436201484
               ]
              ]
             ],
             "type": "Polygon"
            },
            "id": "108",
            "properties": {},
            "type": "Feature"
           },
           {
            "bbox": [
             23.76921291438585,
             37.8940431728027,
             23.771070455063086,
             37.895400310323204
            ],
            "geometry": {
             "coordinates": [
              [
               [
                23.76955833360676,
                37.895294863634895
               ],
               [
                23.76921291438585,
                37.89461629354546
               ],
               [
                23.769796262570196,
                37.8940431728027
               ],
               [
                23.77072502684826,
                37.89414861859122
               ],
               [
                23.771070455063086,
                37.894827186022276
               ],
               [
                23.770487110006137,
                37.895400310323204
               ],
               [
                23.76955833360676,
                37.895294863634895
               ]
              ]
             ],
             "type": "Polygon"
            },
            "id": "109",
            "properties": {},
            "type": "Feature"
           },
           {
            "bbox": [
             23.762982094836417,
             37.859445896668255,
             23.764838944677457,
             37.860803355956726
            ],
            "geometry": {
             "coordinates": [
              [
               [
                23.763327343399244,
                37.86069783336486
               ],
               [
                23.762982094836417,
                37.86001910239134
               ],
               [
                23.763565268259935,
                37.859445896668255
               ],
               [
                23.764493687124833,
                37.85955141835801
               ],
               [
                23.764838944677457,
                37.860230146672926
               ],
               [
                23.764255774375595,
                37.860803355956726
               ],
               [
                23.763327343399244,
                37.86069783336486
               ]
              ]
             ],
             "type": "Polygon"
            },
            "id": "110",
            "properties": {},
            "type": "Feature"
           },
           {
            "bbox": [
             23.759412419267623,
             37.878223925716235,
             23.761269632516363,
             37.87958125258204
            ],
            "geometry": {
             "coordinates": [
              [
               [
                23.759757711222544,
                37.87947571645253
               ],
               [
                23.759412419267623,
                37.878797051691166
               ],
               [
                23.75999573100007,
                37.878223925716235
               ],
               [
                23.760924331566667,
                37.87832946094287
               ],
               [
                23.761269632516363,
                37.87900812304728
               ],
               [
                23.76068632390486,
                37.87958125258204
               ],
               [
                23.759757711222544,
                37.87947571645253
               ]
              ]
             ],
             "type": "Polygon"
            },
            "id": "111",
            "properties": {},
            "type": "Feature"
           },
           {
            "bbox": [
             23.762758220871905,
             37.88308001520889,
             23.764615535184415,
             37.884437281937245
            ],
            "geometry": {
             "coordinates": [
              [
               [
                23.763103554279102,
                37.88433177591219
               ],
               [
                23.762758220871905,
                37.88365314121929
               ],
               [
                23.763341541685236,
                37.88308001520889
               ],
               [
                23.76427019278283,
                37.88318552033214
               ],
               [
                23.764615535184415,
                37.88386415236757
               ],
               [
                23.7640322174942,
                37.884437281937245
               ],
               [
                23.763103554279102,
                37.88433177591219
               ]
              ]
             ],
             "type": "Polygon"
            },
            "id": "112",
            "properties": {},
            "type": "Feature"
           },
           {
            "bbox": [
             23.768230396947168,
             37.85428683242368,
             23.77008715400537,
             37.85564430221039
            ],
            "geometry": {
             "coordinates": [
              [
               [
                23.76857566379645,
                37.85553881691438
               ],
               [
                23.768230396947168,
                37.854860080691054
               ],
               [
                23.768813505695633,
                37.85428683242368
               ],
               [
                23.76974187816935,
                37.85439231681903
               ],
               [
                23.77008715400537,
                37.85507105038239
               ],
               [
                23.769504048381133,
                37.85564430221039
               ],
               [
                23.76857566379645,
                37.85553881691438
               ]
              ]
             ],
             "type": "Polygon"
            },
            "id": "113",
            "properties": {},
            "type": "Feature"
           },
           {
            "bbox": [
             23.757971221372028,
             37.86335267933262,
             23.759828139750276,
             37.86471013692614
            ],
            "geometry": {
             "coordinates": [
              [
               [
                23.75831644874473,
                37.86460457793127
               ],
               [
                23.757971221372028,
                37.863925847805845
               ],
               [
                23.75855445025168,
                37.86335267933262
               ],
               [
                23.75948290338506,
                37.86345823742399
               ],
               [
                23.759828139750276,
                37.864136964892076
               ],
               [
                23.759244913989786,
                37.86471013692614
               ],
               [
                23.75831644874473,
                37.86460457793127
               ]
              ]
             ],
             "type": "Polygon"
            },
            "id": "114",
            "properties": {},
            "type": "Feature"
           },
           {
            "bbox": [
             23.771591948229986,
             37.881525728352784,
             23.773449246509312,
             37.882882954338406
            ],
            "geometry": {
             "coordinates": [
              [
               [
                23.771937338489224,
                37.88277751664559
               ],
               [
                23.771591948229986,
                37.882098902323065
               ],
               [
                23.772175204178936,
                37.881525728352784
               ],
               [
                23.77310384725947,
                37.88163116514633
               ],
               [
                23.773449246509312,
                37.88230977680939
               ],
               [
                23.77286599368824,
                37.882882954338406
               ],
               [
                23.771937338489224,
                37.88277751664559
               ]
              ]
             ],
             "type": "Polygon"
            },
            "id": "115",
            "properties": {},
            "type": "Feature"
           },
           {
            "bbox": [
             23.771914516140942,
             37.88731685744179,
             23.773771928892977,
             37.88867403389037
            ],
            "geometry": {
             "coordinates": [
              [
               [
                23.77225992987304,
                37.88856860324064
               ],
               [
                23.771914516140942,
                37.88789001368675
               ],
               [
                23.772497805853213,
                37.88731685744179
               ],
               [
                23.773426506169304,
                37.887422287192415
               ],
               [
                23.773771928892977,
                37.88810087408706
               ],
               [
                23.773188642309144,
                37.88867403389037
               ],
               [
                23.77225992987304,
                37.88856860324064
               ]
              ]
             ],
             "type": "Polygon"
            },
            "id": "116",
            "properties": {},
            "type": "Feature"
           },
           {
            "bbox": [
             23.764409566473496,
             37.851934072377055,
             23.766266270987234,
             37.85329158456548
            ],
            "geometry": {
             "coordinates": [
              [
               [
                23.76475479768076,
                37.85318606738552
               ],
               [
                23.764409566473496,
                37.852507309961695
               ],
               [
                23.764992684590094,
                37.851934072377055
               ],
               [
                23.76592103079219,
                37.85203958865522
               ],
               [
                23.766266270987234,
                37.85271834341978
               ],
               [
                23.765683155992594,
                37.85329158456548
               ],
               [
                23.76475479768076,
                37.85318606738552
               ]
              ]
             ],
             "type": "Polygon"
            },
            "id": "117",
            "properties": {},
            "type": "Feature"
           },
           {
            "bbox": [
             23.760294123400207,
             37.88855458399992,
             23.76215154135897,
             37.88991182066831
            ],
            "geometry": {
             "coordinates": [
              [
               [
                23.760639459387367,
                37.889806299494204
               ],
               [
                23.760294123400207,
                37.88912767983168
               ],
               [
                23.76087749345519,
                37.88855458399992
               ],
               [
                23.761806196375407,
                37.88866010427157
               ],
               [
                23.76215154135897,
                37.889338721277404
               ],
               [
                23.7615681744261,
                37.88991182066831
               ],
               [
                23.760639459387367,
                37.889806299494204
               ]
              ]
             ],
             "type": "Polygon"
            },
            "id": "118",
            "properties": {},
            "type": "Feature"
           },
           {
            "bbox": [
             23.764171670346997,
             37.85318606738552,
             23.766028399080536,
             37.85454357076003
            ],
            "geometry": {
             "coordinates": [
              [
               [
                23.764516904446804,
                37.8544380526782
               ],
               [
                23.764171670346997,
                37.85375929966139
               ],
               [
                23.76475479768076,
                37.85318606738552
               ],
               [
                23.765683155992594,
                37.85329158456548
               ],
               [
                23.766028399080536,
                37.85397033492315
               ],
               [
                23.765445274868682,
                37.85454357076003
               ],
               [
                23.764516904446804,
                37.8544380526782
               ]
              ]
             ],
             "type": "Polygon"
            },
            "id": "119",
            "properties": {},
            "type": "Feature"
           },
           {
            "bbox": [
             23.769842137239138,
             37.883245236064674,
             23.771699466473244,
             37.884602458527056
            ],
            "geometry": {
             "coordinates": [
              [
               [
                23.77018752140285,
                37.88449700839617
               ],
               [
                23.769842137239138,
                37.88381839583548
               ],
               [
                23.77042541476009,
                37.883245236064674
               ],
               [
                23.771354073317926,
                37.88335068529582
               ],
               [
                23.771699466473244,
                37.884029295197486
               ],
               [
                23.771116192079322,
                37.884602458527056
               ],
               [
                23.77018752140285,
                37.88449700839617
               ]
              ]
             ],
             "type": "Polygon"
            },
            "id": "120",
            "properties": {},
            "type": "Feature"
           },
           {
            "bbox": [
             23.762436228172827,
             37.87728870604091,
             23.764293428021425,
             37.8786460222774
            ],
            "geometry": {
             "coordinates": [
              [
               [
                23.762781538116617,
                37.87854050922352
               ],
               [
                23.762436228172827,
                37.87786184977645
               ],
               [
                23.76301951521782,
                37.87728870604091
               ],
               [
                23.763948109084236,
                37.877394218192784
               ],
               [
                23.764293428021425,
                37.87807287498219
               ],
               [
                23.763710144098987,
                37.8786460222774
               ],
               [
                23.762781538116617,
                37.87854050922352
               ]
              ]
             ],
             "type": "Polygon"
            },
            "id": "121",
            "properties": {},
            "type": "Feature"
           },
           {
            "bbox": [
             23.762996211172073,
             37.881828244763106,
             23.764853501249885,
             37.88318552033214
            ],
            "geometry": {
             "coordinates": [
              [
               [
                23.763341541685236,
                37.88308001520889
               ],
               [
                23.762996211172073,
                37.8824013760956
               ],
               [
                23.76357952276228,
                37.881828244763106
               ],
               [
                23.764508161742675,
                37.88193374898458
               ],
               [
                23.764853501249885,
                37.8826123854403
               ],
               [
                23.76427019278283,
                37.88318552033214
               ],
               [
                23.763341541685236,
                37.88308001520889
               ]
              ]
             ],
             "type": "Polygon"
            },
            "id": "122",
            "properties": {},
            "type": "Feature"
           },
           {
            "bbox": [
             23.757984150311238,
             37.88573452401316,
             23.75984150895882,
             37.88709179784081
            ],
            "geometry": {
             "coordinates": [
              [
               [
                23.75832945962423,
                37.886986256293085
               ],
               [
                23.757984150311238,
                37.88630761805112
               ],
               [
                23.758567517383874,
                37.88573452401316
               ],
               [
                23.759496190649063,
                37.88584006465771
               ],
               [
                23.75984150895882,
                37.886518700243364
               ],
               [
                23.759258145006836,
                37.88709179784081
               ],
               [
                23.75832945962423,
                37.886986256293085
               ]
              ]
             ],
             "type": "Polygon"
            },
            "id": "123",
            "properties": {},
            "type": "Feature"
           },
           {
            "bbox": [
             23.75836355232783,
             37.85380478909113,
             23.760220283630908,
             37.85516232254797
            ],
            "geometry": {
             "coordinates": [
              [
               [
                23.75870874757703,
                37.85505675924975
               ],
               [
                23.75836355232783,
                37.854377991192415
               ],
               [
                23.758946719794178,
                37.85380478909113
               ],
               [
                23.75987507939117,
                37.85391035148581
               ],
               [
                23.760220283630908,
                37.8545891168853
               ],
               [
                23.75963711928332,
                37.85516232254797
               ],
               [
                23.75870874757703,
                37.85505675924975
               ]
              ]
             ],
             "type": "Polygon"
            },
            "id": "124",
            "properties": {},
            "type": "Feature"
           },
           {
            "bbox": [
             23.76172225021541,
             37.88104408637194,
             23.76357952276228,
             37.8824013760956
            ],
            "geometry": {
             "coordinates": [
              [
               [
                23.762067568840138,
                37.882295860335425
               ],
               [
                23.76172225021541,
                37.88161721414493
               ],
               [
                23.76230556492802,
                37.88104408637194
               ],
               [
                23.76323419514314,
                37.881149601229964
               ],
               [
                23.76357952276228,
                37.881828244763106
               ],
               [
                23.762996211172073,
                37.8824013760956
               ],
               [
                23.762067568840138,
                37.882295860335425
               ]
              ]
             ],
             "type": "Polygon"
            },
            "id": "125",
            "properties": {},
            "type": "Feature"
           },
           {
            "bbox": [
             23.765137839093605,
             37.87056187252761,
             23.766994911084712,
             37.87191922761349
            ],
            "geometry": {
             "coordinates": [
              [
               [
                23.76548314356129,
                37.871813730604316
               ],
               [
                23.765137839093605,
                37.871135051732125
               ],
               [
                23.76572106768765,
                37.87056187252761
               ],
               [
                23.76664959762597,
                37.870667368635466
               ],
               [
                23.766994911084712,
                37.87134604484911
               ],
               [
                23.76641168561426,
                37.87191922761349
               ],
               [
                23.76548314356129,
                37.871813730604316
               ]
              ]
             ],
             "type": "Polygon"
            },
            "id": "126",
            "properties": {},
            "type": "Feature"
           },
           {
            "bbox": [
             23.761554395459733,
             37.86695737098505,
             23.76341139064852,
             37.86831477733405
            ],
            "geometry": {
             "coordinates": [
              [
               [
                23.761899661378855,
                37.86820924932849
               ],
               [
                23.761554395459733,
                37.86753054482502
               ],
               [
                23.7621376241997,
                37.86695737098505
               ],
               [
                23.763066115737608,
                37.86706289808821
               ],
               [
                23.76341139064852,
                37.867741599933716
               ],
               [
                23.76282816502994,
                37.86831477733405
               ],
               [
                23.761899661378855,
                37.86820924932849
               ]
              ]
             ],
             "type": "Polygon"
            },
            "id": "127",
            "properties": {},
            "type": "Feature"
           },
           {
            "bbox": [
             23.769926690979712,
             37.89028804180336,
             23.77178415893161,
             37.891645205874916
            ],
            "geometry": {
             "coordinates": [
              [
               [
                23.77027210151191,
                37.89153976188578
               ],
               [
                23.769926690979712,
                37.89086117852067
               ],
               [
                23.770510011490664,
                37.89028804180336
               ],
               [
                23.771438739406477,
                37.89039348489287
               ],
               [
                23.77178415893161,
                37.89107206559927
               ],
               [
                23.771200841548186,
                37.891645205874916
               ],
               [
                23.77027210151191,
                37.89153976188578
               ]
              ]
             ],
             "type": "Polygon"
            },
            "id": "128",
            "properties": {},
            "type": "Feature"
           },
           {
            "bbox": [
             23.76109211153556,
             37.891842135475216,
             23.762949595506853,
             37.89319934028807
            ],
            "geometry": {
             "coordinates": [
              [
               [
                23.761437465201602,
                37.8930938279489
               ],
               [
                23.76109211153556,
                37.89241522421414
               ],
               [
                23.761675496918095,
                37.891842135475216
               ],
               [
                23.7626042328441,
                37.89194764691222
               ],
               [
                23.762949595506853,
                37.89262624799028
               ],
               [
                23.762366213247084,
                37.89319934028807
               ],
               [
                23.761437465201602,
                37.8930938279489
               ]
              ]
             ],
             "type": "Polygon"
            },
            "id": "129",
            "properties": {},
            "type": "Feature"
           },
           {
            "bbox": [
             23.76576737230271,
             37.859762439577096,
             23.76762423296028,
             37.86111987940971
            ],
            "geometry": {
             "coordinates": [
              [
               [
                23.766112641737774,
                37.86101437897921
               ],
               [
                23.76576737230271,
                37.86033565773332
               ],
               [
                23.766350530263573,
                37.859762439577096
               ],
               [
                23.767278954536458,
                37.85986793910631
               ],
               [
                23.76762423296028,
                37.860546657693014
               ],
               [
                23.767041078122645,
                37.86111987940971
               ],
               [
                23.766112641737774,
                37.86101437897921
               ]
              ]
             ],
             "type": "Polygon"
            },
            "id": "130",
            "properties": {},
            "type": "Feature"
           },
           {
            "bbox": [
             23.771676630937314,
             37.88856860324064,
             23.773534067929653,
             37.889925770842396
            ],
            "geometry": {
             "coordinates": [
              [
               [
                23.772022047565915,
                37.88982033929353
               ],
               [
                23.771676630937314,
                37.88914175416309
               ],
               [
                23.77225992987304,
                37.88856860324064
               ],
               [
                23.773188642309144,
                37.88867403389037
               ],
               [
                23.773534067929653,
                37.889352616361656
               ],
               [
                23.77295077212233,
                37.889925770842396
               ],
               [
                23.772022047565915,
                37.88982033929353
               ]
              ]
             ],
             "type": "Polygon"
            },
            "id": "131",
            "properties": {},
            "type": "Feature"
           },
           {
            "bbox": [
             23.75972088645265,
             37.86163314553341,
             23.76157777391339,
             37.862990606633936
            ],
            "geometry": {
             "coordinates": [
              [
               [
                23.760066119925842,
                37.8628850600753
               ],
               [
                23.75972088645265,
                37.862206328196145
               ],
               [
                23.76030409377399,
                37.86163314553341
               ],
               [
                23.7612325314487,
                37.86173869118903
               ],
               [
                23.76157777391339,
                37.86241742041038
               ],
               [
                23.760994569712068,
                37.862990606633936
               ],
               [
                23.760066119925842,
                37.8628850600753
               ]
              ]
             ],
             "type": "Polygon"
            },
            "id": "132",
            "properties": {},
            "type": "Feature"
           },
           {
            "bbox": [
             23.76505366009287,
             37.863518228614765,
             23.766910593424853,
             37.86487564198059
            ],
            "geometry": {
             "coordinates": [
              [
               [
                23.76539893820805,
                37.86477013884591
               ],
               [
                23.76505366009287,
                37.864091430833575
               ],
               [
                23.765636845710254,
                37.863518228614765
               ],
               [
                23.766565306319926,
                37.863623730848005
               ],
               [
                23.766910593424853,
                37.864302436201484
               ],
               [
                23.766327410930554,
                37.86487564198059
               ],
               [
                23.76539893820805,
                37.86477013884591
               ]
              ]
             ],
             "type": "Polygon"
            },
            "id": "133",
            "properties": {},
            "type": "Feature"
           },
           {
            "bbox": [
             23.76131642341857,
             37.86820924932849,
             23.763173442833963,
             37.869566646850416
            ],
            "geometry": {
             "coordinates": [
              [
               [
                23.76166169223048,
                37.86946111794239
               ],
               [
                23.76131642341857,
                37.86878241785252
               ],
               [
                23.761899661378855,
                37.86820924932849
               ],
               [
                23.76282816502994,
                37.86831477733405
               ],
               [
                23.763173442833963,
                37.868993474766086
               ],
               [
                23.762590207995007,
                37.869566646850416
               ],
               [
                23.76166169223048,
                37.86946111794239
               ]
              ]
             ],
             "type": "Polygon"
            },
            "id": "134",
            "properties": {},
            "type": "Feature"
           },
           {
            "bbox": [
             23.769979701634384,
             37.85256705926739,
             23.771836427760075,
             37.85392453254908
            ],
            "geometry": {
             "coordinates": [
              [
               [
                23.770324974576493,
                37.85381905968263
               ],
               [
                23.769979701634384,
                37.85314032171159
               ],
               [
                23.770562788824698,
                37.85256705926739
               ],
               [
                23.77149114583225,
                37.852672531233665
               ],
               [
                23.771836427760075,
                37.85335126654429
               ],
               [
                23.771253343694823,
                37.85392453254908
               ],
               [
                23.770324974576493,
                37.85381905968263
               ]
              ]
             ],
             "type": "Polygon"
            },
            "id": "135",
            "properties": {},
            "type": "Feature"
           },
           {
            "bbox": [
             23.7610082152934,
             37.88479937903526,
             23.762865560543666,
             37.88615664223622
            ],
            "geometry": {
             "coordinates": [
              [
               [
                23.76135354259926,
                37.8860511237693
               ],
               [
                23.7610082152934,
                37.885372490840325
               ],
               [
                23.761591557676002,
                37.88479937903526
               ],
               [
                23.7625202242424,
                37.88490489659988
               ],
               [
                23.762865560543666,
                37.88558352687183
               ],
               [
                23.76228222128331,
                37.88615664223622
               ],
               [
                23.76135354259926,
                37.8860511237693
               ]
              ]
             ],
             "type": "Polygon"
            },
            "id": "136",
            "properties": {},
            "type": "Feature"
           },
           {
            "bbox": [
             23.767194625947283,
             37.852250599056006,
             23.76905134127134,
             37.853608091792566
            ],
            "geometry": {
             "coordinates": [
              [
               [
                23.76753987802267,
                37.85350259676907
               ],
               [
                23.767194625947283,
                37.85282384907088
               ],
               [
                23.767777728602212,
                37.852250599056006
               ],
               [
                23.768706080209203,
                37.8523560931785
               ],
               [
                23.76905134127134,
                37.85303483821686
               ],
               [
                23.768468241739924,
                37.853608091792566
               ],
               [
                23.76753987802267,
                37.85350259676907
               ]
              ]
             ],
             "type": "Polygon"
            },
            "id": "137",
            "properties": {},
            "type": "Feature"
           },
           {
            "bbox": [
             23.771829816815746,
             37.880273930320215,
             23.773687090858417,
             37.88163116514633
            ],
            "geometry": {
             "coordinates": [
              [
               [
                23.772175204178936,
                37.881525728352784
               ],
               [
                23.771829816815746,
                37.88084710960996
               ],
               [
                23.77241306354262,
                37.880273930320215
               ],
               [
                23.773341694504957,
                37.88037936621454
               ],
               [
                23.773687090858417,
                37.8810579822978
               ],
               [
                23.77310384725947,
                37.88163116514633
               ],
               [
                23.772175204178936,
                37.881525728352784
               ]
              ]
             ],
             "type": "Polygon"
            },
            "id": "138",
            "properties": {},
            "type": "Feature"
           },
           {
            "bbox": [
             23.76189015506058,
             37.89512961614048,
             23.76374770504836,
             37.896486789088556
            ],
            "geometry": {
             "coordinates": [
              [
               [
                23.76223552640699,
                37.89638128558618
               ],
               [
                23.76189015506058,
                37.89570269778379
               ],
               [
                23.762473555771162,
                37.89512961614048
               ],
               [
                23.763402324704927,
                37.89523511874098
               ],
               [
                23.76374770504836,
                37.89591370388661
               ],
               [
                23.7631643074612,
                37.896486789088556
               ],
               [
                23.76223552640699,
                37.89638128558618
               ]
              ]
             ],
             "type": "Polygon"
            },
            "id": "139",
            "properties": {},
            "type": "Feature"
           },
           {
            "bbox": [
             23.766020096614415,
             37.880892952360554,
             23.767877373278672,
             37.882250217297866
            ],
            "geometry": {
             "coordinates": [
              [
               [
                23.766365445114985,
                37.88214473525203
               ],
               [
                23.766020096614415,
                37.88146610145425
               ],
               [
                23.76660338351192,
                37.880892952360554
               ],
               [
                23.767532015785424,
                37.88099843350549
               ],
               [
                23.767877373278672,
                37.881677064644975
               ],
               [
                23.76729408950593,
                37.882250217297866
               ],
               [
                23.766365445114985,
                37.88214473525203
               ]
              ]
             ],
             "type": "Polygon"
            },
            "id": "140",
            "properties": {},
            "type": "Feature"
           },
           {
            "bbox": [
             23.768399224810988,
             37.86837458793181,
             23.770256259154856,
             37.86973194121135
            ],
            "geometry": {
             "coordinates": [
              [
               [
                23.768744544365585,
                37.869626468172264
               ],
               [
                23.768399224810988,
                37.86894779020283
               ],
               [
                23.768982419496172,
                37.86837458793181
               ],
               [
                23.7699109306109,
                37.868480060070496
               ],
               [
                23.770256259154856,
                37.86915873538058
               ],
               [
                23.76967306759492,
                37.86973194121135
               ],
               [
                23.768744544365585,
                37.869626468172264
               ]
              ]
             ],
             "type": "Polygon"
            },
            "id": "141",
            "properties": {},
            "type": "Feature"
           },
           {
            "bbox": [
             23.761806196375407,
             37.88808699955558,
             23.763663607632385,
             37.88944423091023
            ],
            "geometry": {
             "coordinates": [
              [
               [
                23.76215154135897,
                37.889338721277404
               ],
               [
                23.761806196375407,
                37.88866010427157
               ],
               [
                23.762389554083835,
                37.88808699955558
               ],
               [
                23.763318253653107,
                37.888192508286394
               ],
               [
                23.763663607632385,
                37.88887112263518
               ],
               [
                23.763080253046866,
                37.88944423091023
               ],
               [
                23.76215154135897,
                37.889338721277404
               ]
              ]
             ],
             "type": "Polygon"
            },
            "id": "142",
            "properties": {},
            "type": "Feature"
           },
           {
            "bbox": [
             23.766902547000818,
             37.89122338555329,
             23.768760028382463,
             37.89258056025824
            ],
            "geometry": {
             "coordinates": [
              [
               [
                23.767247939545122,
                37.89247509318612
               ],
               [
                23.766902547000818,
                37.891796504504654
               ],
               [
                23.767485892213067,
                37.89122338555329
               ],
               [
                23.768414626843864,
                37.8913288517249
               ],
               [
                23.768760028382463,
                37.89200743774836
               ],
               [
                23.768176686296144,
                37.89258056025824
               ],
               [
                23.767247939545122,
                37.89247509318612
               ]
              ]
             ],
             "type": "Polygon"
            },
            "id": "143",
            "properties": {},
            "type": "Feature"
           },
           {
            "bbox": [
             23.76585160117451,
             37.86680623991586,
             23.76770860048028,
             37.86816362148762
            ],
            "geometry": {
             "coordinates": [
              [
               [
                23.76619689696072,
                37.86805812718223
               ],
               [
                23.76585160117451,
                37.86737943506693
               ],
               [
                23.766434802107927,
                37.86680623991586
               ],
               [
                23.767363295703994,
                37.86691173332009
               ],
               [
                23.76770860048028,
                37.8675904227765
               ],
               [
                23.767125402670597,
                37.86816362148762
               ],
               [
                23.76619689696072,
                37.86805812718223
               ]
              ]
             ],
             "type": "Polygon"
            },
            "id": "144",
            "properties": {},
            "type": "Feature"
           },
           {
            "bbox": [
             23.769826398086572,
             37.860863102228805,
             23.77168328706547,
             37.86222050846105
            ],
            "geometry": {
             "coordinates": [
              [
               [
                23.770171700274553,
                37.8621150408236
               ],
               [
                23.769826398086572,
                37.86143633637749
               ],
               [
                23.770409537457038,
                37.860863102228805
               ],
               [
                23.771337975890134,
                37.86096856896616
               ],
               [
                23.77168328706547,
                37.86164727075225
               ],
               [
                23.771100150820544,
                37.86222050846105
               ],
               [
                23.770171700274553,
                37.8621150408236
               ]
              ]
             ],
             "type": "Polygon"
            },
            "id": "145",
            "properties": {},
            "type": "Feature"
           },
           {
            "bbox": [
             23.764101955248215,
             37.86852581117906,
             23.76595898548738,
             37.86988318924049
            ],
            "geometry": {
             "coordinates": [
              [
               [
                23.76444724493715,
                37.86977768249954
               ],
               [
                23.764101955248215,
                37.869098992139605
               ],
               [
                23.76468517774467,
                37.86852581117906
               ],
               [
                23.76561368680736,
                37.868631317018384
               ],
               [
                23.76595898548738,
                37.86931000471987
               ],
               [
                23.76537576611381,
                37.86988318924049
               ],
               [
                23.76444724493715,
                37.86977768249954
               ]
              ]
             ],
             "type": "Polygon"
            },
            "id": "146",
            "properties": {},
            "type": "Feature"
           },
           {
            "bbox": [
             23.75693556880587,
             37.861316464244354,
             23.758792445430664,
             37.862673944796036
            ],
            "geometry": {
             "coordinates": [
              [
               [
                23.757280781402677,
                37.862568376075544
               ],
               [
                23.75693556880587,
                37.86188963447112
               ],
               [
                23.757518791584324,
                37.861316464244354
               ],
               [
                23.75844722384132,
                37.86142203206101
               ],
               [
                23.758792445430664,
                37.86210077100822
               ],
               [
                23.758209225770663,
                37.862673944796036
               ],
               [
                23.757280781402677,
                37.862568376075544
               ]
              ]
             ],
             "type": "Polygon"
            },
            "id": "147",
            "properties": {},
            "type": "Feature"
           },
           {
            "bbox": [
             23.763388110182536,
             37.87228139594772,
             23.76524521310805,
             37.873638747519315
            ],
            "geometry": {
             "coordinates": [
              [
               [
                23.763733408551996,
                37.873533238073115
               ],
               [
                23.763388110182536,
                37.87285456095826
               ],
               [
                23.763971360341063,
                37.87228139594772
               ],
               [
                23.764899905746503,
                37.872386904492096
               ],
               [
                23.76524521310805,
                37.87306557894884
               ],
               [
                23.76466196607226,
                37.873638747519315
               ],
               [
                23.763733408551996,
                37.873533238073115
               ]
              ]
             ],
             "type": "Polygon"
            },
            "id": "148",
            "properties": {},
            "type": "Feature"
           },
           {
            "bbox": [
             23.7575916482317,
             37.89528059684098,
             23.75944919408073,
             37.89663779457846
            ],
            "geometry": {
             "coordinates": [
              [
               [
                23.75793698968935,
                37.896532257347644
               ],
               [
                23.7575916482317,
                37.89585365715102
               ],
               [
                23.758175076759628,
                37.89528059684098
               ],
               [
                23.75910384362432,
                37.895386133168664
               ],
               [
                23.75944919408073,
                37.89606473070949
               ],
               [
                23.75886576867387,
                37.89663779457846
               ],
               [
                23.75793698968935,
                37.896532257347644
               ]
              ]
             ],
             "type": "Polygon"
            },
            "id": "149",
            "properties": {},
            "type": "Feature"
           },
           {
            "bbox": [
             23.768806014314375,
             37.88120937362007,
             23.770663301790513,
             37.882566619083036
            ],
            "geometry": {
             "coordinates": [
              [
               [
                23.769151383694975,
                37.88246115921342
               ],
               [
                23.768806014314375,
                37.88178253515252
               ],
               [
                23.769389285739077,
                37.88120937362007
               ],
               [
                23.770317923418265,
                37.88131483258959
               ],
               [
                23.770663301790513,
                37.88199345399163
               ],
               [
                23.77008003349213,
                37.882566619083036
               ],
               [
                23.769151383694975,
                37.88246115921342
               ]
              ]
             ],
             "type": "Polygon"
            },
            "id": "150",
            "properties": {},
            "type": "Feature"
           },
           {
            "bbox": [
             23.770878304513943,
             37.88528106400735,
             23.772735675506674,
             37.886638263464945
            ],
            "geometry": {
             "coordinates": [
              [
               [
                23.77122370346148,
                37.886532823074006
               ],
               [
                23.770878304513943,
                37.885854222015666
               ],
               [
                23.771461588130748,
                37.88528106400735
               ],
               [
                23.77239026756754,
                37.885386503498864
               ],
               [
                23.772735675506674,
                37.88606510189808
               ],
               [
                23.77215239501761,
                37.886638263464945
               ],
               [
                23.77122370346148,
                37.886532823074006
               ]
              ]
             ],
             "type": "Polygon"
            },
            "id": "151",
            "properties": {},
            "type": "Feature"
           },
           {
            "bbox": [
             23.769112839910495,
             37.86461888884349,
             23.770969801569322,
             37.865976268604314
            ],
            "geometry": {
             "coordinates": [
              [
               [
                23.7694581507817,
                37.865870798266265
               ],
               [
                23.769112839910495,
                37.86519210705603
               ],
               [
                23.76969600693713,
                37.86461888884349
               ],
               [
                23.770624481709767,
                37.86472435828128
               ],
               [
                23.770969801569322,
                37.86540304683183
               ],
               [
                23.770386637668082,
                37.865976268604314
               ],
               [
                23.7694581507817,
                37.865870798266265
               ]
              ]
             ],
             "type": "Polygon"
            },
            "id": "152",
            "properties": {},
            "type": "Feature"
           },
           {
            "bbox": [
             23.766733901506264,
             37.87713754525037,
             23.76859110546844,
             37.878494836701854
            ],
            "geometry": {
             "coordinates": [
              [
               [
                23.76707924132283,
                37.87838935735858
               ],
               [
                23.766733901506264,
                37.877710710303546
               ],
               [
                23.767317160737296,
                37.87713754525037
               ],
               [
                23.768245756660182,
                37.877243023692905
               ],
               [
                23.76859110546844,
                37.87792166808933
               ],
               [
                23.768007849362306,
                37.878494836701854
               ],
               [
                23.76707924132283,
                37.87838935735858
               ]
              ]
             ],
             "type": "Polygon"
            },
            "id": "153",
            "properties": {},
            "type": "Feature"
           },
           {
            "bbox": [
             23.768890488953897,
             37.88825226692987,
             23.770747915141683,
             37.88960945401412
            ],
            "geometry": {
             "coordinates": [
              [
               [
                23.769235884700777,
                37.88950400028371
               ],
               [
                23.768890488953897,
                37.888825405412305
               ],
               [
                23.769473803367756,
                37.88825226692987
               ],
               [
                23.77040251040185,
                37.88835771976034
               ],
               [
                23.770747915141683,
                37.889036311973165
               ],
               [
                23.770164603854656,
                37.88960945401412
               ],
               [
                23.769235884700777,
                37.88950400028371
               ]
              ]
             ],
             "type": "Polygon"
            },
            "id": "154",
            "properties": {},
            "type": "Feature"
           },
           {
            "bbox": [
             23.77072502684826,
             37.8935754889648,
             23.772582560807507,
             37.89493262116821
            ],
            "geometry": {
             "coordinates": [
              [
               [
                23.771070455063086,
                37.894827186022276
               ],
               [
                23.77072502684826,
                37.89414861859122
               ],
               [
                23.771308362680443,
                37.8935754889648
               ],
               [
                23.772237123599442,
                37.893680923211384
               ],
               [
                23.772582560807507,
                37.89435948798372
               ],
               [
                23.771999228103525,
                37.89493262116821
               ],
               [
                23.771070455063086,
                37.894827186022276
               ]
              ]
             ],
             "type": "Polygon"
            },
            "id": "155",
            "properties": {},
            "type": "Feature"
           },
           {
            "bbox": [
             23.757031844385665,
             37.89074139464787,
             23.758889299977195,
             37.89209863309484
            ],
            "geometry": {
             "coordinates": [
              [
               [
                23.75737716527111,
                37.89199308793398
               ],
               [
                23.757031844385665,
                37.89131446738256
               ],
               [
                23.75761524835706,
                37.89074139464787
               ],
               [
                23.758543970093637,
                37.890846938905376
               ],
               [
                23.758889299977195,
                37.89152555680089
               ],
               [
                23.75830589912625,
                37.89209863309484
               ],
               [
                23.75737716527111,
                37.89199308793398
               ]
              ]
             ],
             "type": "Polygon"
            },
            "id": "156",
            "properties": {},
            "type": "Feature"
           },
           {
            "bbox": [
             23.76681821796361,
             37.884180613647885,
             23.76867556062516,
             37.88553784674488
            ],
            "geometry": {
             "coordinates": [
              [
               [
                23.76716358414203,
                37.885432373535636
               ],
               [
                23.76681821796361,
                37.884753755658004
               ],
               [
                23.767401520182077,
                37.884180613647885
               ],
               [
                23.768330185453753,
                37.88428608595651
               ],
               [
                23.76867556062516,
                37.884964701175846
               ],
               [
                23.768092261532104,
                37.88553784674488
               ],
               [
                23.76716358414203,
                37.885432373535636
               ]
              ]
             ],
             "type": "Polygon"
            },
            "id": "157",
            "properties": {},
            "type": "Feature"
           },
           {
            "bbox": [
             23.770539899345824,
             37.85710722811875,
             23.772396715649904,
             37.85846466081252
            ],
            "geometry": {
             "coordinates": [
              [
               [
                23.770885192850763,
                37.85835919587523
               ],
               [
                23.770539899345824,
                37.85768047819818
               ],
               [
                23.771123011062496,
                37.85710722811875
               ],
               [
                23.7720514131586,
                37.8572126921561
               ],
               [
                23.772396715649904,
                37.857891407172815
               ],
               [
                23.771813607058917,
                37.85846466081252
               ],
               [
                23.770885192850763,
                37.85835919587523
               ]
              ]
             ],
             "type": "Polygon"
            },
            "id": "158",
            "properties": {},
            "type": "Feature"
           },
           {
            "bbox": [
             23.761148651990496,
             37.854121454119166,
             23.76300539412333,
             37.85547896812884
            ],
            "geometry": {
             "coordinates": [
              [
               [
                23.761493868111984,
                37.85537342698759
               ],
               [
                23.761148651990496,
                37.85469466865354
               ],
               [
                23.761731804000732,
                37.854121454119166
               ],
               [
                23.76266016901234,
                37.8542269943577
               ],
               [
                23.76300539412333,
                37.85490575003332
               ],
               [
                23.76242224523339,
                37.85547896812884
               ],
               [
                23.761493868111984,
                37.85537342698759
               ]
              ]
             ],
             "type": "Polygon"
            },
            "id": "159",
            "properties": {},
            "type": "Feature"
           },
           {
            "bbox": [
             23.75764958904086,
             37.85756067041073,
             23.759506393002244,
             37.85891817741993
            ],
            "geometry": {
             "coordinates": [
              [
               [
                23.757994792963782,
                37.85881261141081
               ],
               [
                23.75764958904086,
                37.858133856577446
               ],
               [
                23.758232784162075,
                37.85756067041073
               ],
               [
                23.759161180087787,
                37.85766623551618
               ],
               [
                23.759506393002244,
                37.85834498769199
               ],
               [
                23.758923200999636,
                37.85891817741993
               ],
               [
                23.757994792963782,
                37.85881261141081
               ]
              ]
             ],
             "type": "Polygon"
            },
            "id": "160",
            "properties": {},
            "type": "Feature"
           },
           {
            "bbox": [
             23.759972262941716,
             37.88276345548724,
             23.761829566422886,
             37.88412074168524
            ],
            "geometry": {
             "coordinates": [
              [
               [
                23.760317575464708,
                37.88401521348347
               ],
               [
                23.759972262941716,
                37.88333656905605
               ],
               [
                23.76055559922227,
                37.88276345548724
               ],
               [
                23.761484244904466,
                37.88286898278639
               ],
               [
                23.761829566422886,
                37.88354762455693
               ],
               [
                23.761246233263876,
                37.88412074168524
               ],
               [
                23.760317575464708,
                37.88401521348347
               ]
              ]
             ],
             "type": "Polygon"
            },
            "id": "161",
            "properties": {},
            "type": "Feature"
           },
           {
            "bbox": [
             23.765306234770584,
             37.88464827181023,
             23.76716358414203,
             37.88600551022348
            ],
            "geometry": {
             "coordinates": [
              [
               [
                23.765651591955333,
                37.88590002547464
               ],
               [
                23.765306234770584,
                37.885221404939045
               ],
               [
                23.76588954933693,
                37.88464827181023
               ],
               [
                23.76681821796361,
                37.884753755658004
               ],
               [
                23.76716358414203,
                37.885432373535636
               ],
               [
                23.7665802727003,
                37.88600551022348
               ],
               [
                23.765651591955333,
                37.88590002547464
               ]
              ]
             ],
             "type": "Polygon"
            },
            "id": "162",
            "properties": {},
            "type": "Feature"
           },
           {
            "bbox": [
             23.771523418127803,
             37.89686286529294,
             23.77338101809837,
             37.89821996561896
            ],
            "geometry": {
             "coordinates": [
              [
               [
                23.77186886402675,
                37.89811453931808
               ],
               [
                23.771523418127803,
                37.89743598782571
               ],
               [
                23.7721067692817,
                37.89686286529294
               ],
               [
                23.773035563205877,
                37.896968290694744
               ],
               [
                23.77338101809837,
                37.89764683952837
               ],
               [
                23.77279767007333,
                37.89821996561896
               ],
               [
                23.77186886402675,
                37.89811453931808
               ]
              ]
             ],
             "type": "Polygon"
            },
            "id": "163",
            "properties": {},
            "type": "Feature"
           },
           {
            "bbox": [
             23.77149114583225,
             37.852099259921616,
             23.773347865244524,
             37.853456727882104
            ],
            "geometry": {
             "coordinates": [
              [
               [
                23.771836427760075,
                37.85335126654429
               ],
               [
                23.77149114583225,
                37.852672531233665
               ],
               [
                23.77207422068088,
                37.852099259921616
               ],
               [
                23.773002574331663,
                37.852204720359694
               ],
               [
                23.773347865244524,
                37.85288345300953
               ],
               [
                23.772764793521766,
                37.853456727882104
               ],
               [
                23.771836427760075,
                37.85335126654429
               ]
              ]
             ],
             "type": "Polygon"
            },
            "id": "164",
            "properties": {},
            "type": "Feature"
           },
           {
            "bbox": [
             23.76140032790289,
             37.87525270295439,
             23.763257485990618,
             37.876610042176075
            ],
            "geometry": {
             "coordinates": [
              [
               [
                23.761745623066048,
                37.87650451938932
               ],
               [
                23.76140032790289,
                37.87582584844972
               ],
               [
                23.76198360884771,
                37.87525270295439
               ],
               [
                23.762912181834032,
                37.875358224838806
               ],
               [
                23.763257485990618,
                37.87603689312086
               ],
               [
                23.76267420816764,
                37.876610042176075
               ],
               [
                23.761745623066048,
                37.87650451938932
               ]
              ]
             ],
             "type": "Polygon"
            },
            "id": "165",
            "properties": {},
            "type": "Feature"
           },
           {
            "bbox": [
             23.767447649452713,
             37.87338205051062,
             23.76930478071792,
             37.87473936846642
            ],
            "geometry": {
             "coordinates": [
              [
               [
                23.76779298058546,
                37.87463389182524
               ],
               [
                23.767447649452713,
                37.87395523151789
               ],
               [
                23.768030881019662,
                37.87338205051062
               ],
               [
                23.76895944059449,
                37.87348752625121
               ],
               [
                23.76930478071792,
                37.874166183899625
               ],
               [
                23.76872155227603,
                37.87473936846642
               ],
               [
                23.76779298058546,
                37.87463389182524
               ]
              ]
             ],
             "type": "Polygon"
            },
            "id": "166",
            "properties": {},
            "type": "Feature"
           },
           {
            "bbox": [
             23.758768916215217,
             37.86664074534574,
             23.760625900572588,
             37.86799817115157
            ],
            "geometry": {
             "coordinates": [
              [
               [
                23.759114161256612,
                37.86789262098034
               ],
               [
                23.758768916215217,
                37.86721390674875
               ],
               [
                23.759352160415904,
                37.86664074534574
               ],
               [
                23.760280646538362,
                37.86674629461376
               ],
               [
                23.760625900572588,
                37.86742500618797
               ],
               [
                23.760042659491713,
                37.86799817115157
               ],
               [
                23.759114161256612,
                37.86789262098034
               ]
              ]
             ],
             "type": "Polygon"
            },
            "id": "167",
            "properties": {},
            "type": "Feature"
           },
           {
            "bbox": [
             23.771184779027777,
             37.86869098218073,
             23.773041824173188,
             37.87004831599257
            ],
            "geometry": {
             "coordinates": [
              [
               [
                23.771530119455576,
                37.86994286512157
               ],
               [
                23.771184779027777,
                37.86926419688569
               ],
               [
                23.771767958241835,
                37.86869098218073
               ],
               [
                23.772696474757073,
                37.86879643215215
               ],
               [
                23.773041824173188,
                37.86947509772808
               ],
               [
                23.772458648085927,
                37.87004831599257
               ],
               [
                23.771530119455576,
                37.86994286512157
               ]
              ]
             ],
             "type": "Polygon"
            },
            "id": "168",
            "properties": {},
            "type": "Feature"
           },
           {
            "bbox": [
             23.763402324704927,
             37.894662028211435,
             23.765259867987233,
             37.896019195845675
            ],
            "geometry": {
             "coordinates": [
              [
               [
                23.76374770504836,
                37.89591370388661
               ],
               [
                23.763402324704927,
                37.89523511874098
               ],
               [
                23.7639857130665,
                37.894662028211435
               ],
               [
                23.764914478647462,
                37.894767519269024
               ],
               [
                23.765259867987233,
                37.89544610175759
               ],
               [
                23.76467648274989,
                37.896019195845675
               ],
               [
                23.76374770504836,
                37.89591370388661
               ]
              ]
             ],
             "type": "Polygon"
            },
            "id": "169",
            "properties": {},
            "type": "Feature"
           },
           {
            "bbox": [
             23.764731593548515,
             37.85772625113102,
             23.766588412464387,
             37.859083713921116
            ],
            "geometry": {
             "coordinates": [
              [
               [
                23.765076848208157,
                37.858978203762405
               ],
               [
                23.764731593548515,
                37.85829947103784
               ],
               [
                23.76531474541357,
                37.85772625113102
               ],
               [
                23.766243148815963,
                37.85783176038811
               ],
               [
                23.766588412464387,
                37.858510490453625
               ],
               [
                23.766005263721834,
                37.859083713921116
               ],
               [
                23.765076848208157,
                37.858978203762405
               ]
              ]
             ],
             "type": "Polygon"
            },
            "id": "170",
            "properties": {},
            "type": "Feature"
           },
           {
            "bbox": [
             23.769266212269496,
             37.85632303136553,
             23.771123011062496,
             37.85768047819818
            ],
            "geometry": {
             "coordinates": [
              [
               [
                23.769611493893404,
                37.85757500263089
               ],
               [
                23.769266212269496,
                37.85689627788453
               ],
               [
                23.76984932711109,
                37.85632303136553
               ],
               [
                23.770777720451864,
                37.85642850603247
               ],
               [
                23.771123011062496,
                37.85710722811875
               ],
               [
                23.770539899345824,
                37.85768047819818
               ],
               [
                23.769611493893404,
                37.85757500263089
               ]
              ]
             ],
             "type": "Polygon"
            },
            "id": "171",
            "properties": {},
            "type": "Feature"
           },
           {
            "bbox": [
             23.763220022589756,
             37.85819395025013,
             23.765076848208157,
             37.85955141835801
            ],
            "geometry": {
             "coordinates": [
              [
               [
                23.763565268259935,
                37.859445896668255
               ],
               [
                23.763220022589756,
                37.85876716128497
               ],
               [
                23.7638031867948,
                37.85819395025013
               ],
               [
                23.764731593548515,
                37.85829947103784
               ],
               [
                23.765076848208157,
                37.858978203762405
               ],
               [
                23.764493687124833,
                37.85955141835801
               ],
               [
                23.763565268259935,
                37.859445896668255
               ]
              ]
             ],
             "type": "Polygon"
            },
            "id": "172",
            "properties": {},
            "type": "Feature"
           },
           {
            "bbox": [
             23.76648102758532,
             37.85600656304718,
             23.768337815573577,
             37.857364029336715
            ],
            "geometry": {
             "coordinates": [
              [
               [
                23.766826288340457,
                37.857258531609936
               ],
               [
                23.76648102758532,
                37.85657979713544
               ],
               [
                23.767064157892033,
                37.85600656304718
               ],
               [
                23.767992545830683,
                37.85611205987282
               ],
               [
                23.768337815573577,
                37.8567907916878
               ],
               [
                23.767754688390234,
                37.857364029336715
               ],
               [
                23.766826288340457,
                37.857258531609936
               ]
              ]
             ],
             "type": "Polygon"
            },
            "id": "173",
            "properties": {},
            "type": "Feature"
           },
           {
            "bbox": [
             23.76266016901234,
             37.85365377095227,
             23.764516904446804,
             37.855011279644714
            ],
            "geometry": {
             "coordinates": [
              [
               [
                23.76300539412333,
                37.85490575003332
               ],
               [
                23.76266016901234,
                37.8542269943577
               ],
               [
                23.763243308684636,
                37.85365377095227
               ],
               [
                23.764171670346997,
                37.85375929966139
               ],
               [
                23.764516904446804,
                37.8544380526782
               ],
               [
                23.763933767895622,
                37.855011279644714
               ],
               [
                23.76300539412333,
                37.85490575003332
               ]
              ]
             ],
             "type": "Polygon"
            },
            "id": "174",
            "properties": {},
            "type": "Feature"
           },
           {
            "bbox": [
             23.768330185453753,
             37.88371293506574,
             23.77018752140285,
             37.88507016284578
            ],
            "geometry": {
             "coordinates": [
              [
               [
                23.76867556062516,
                37.884964701175846
               ],
               [
                23.768330185453753,
                37.88428608595651
               ],
               [
                23.768913475323757,
                37.88371293506574
               ],
               [
                23.769842137239138,
                37.88381839583548
               ],
               [
                23.77018752140285,
                37.88449700839617
               ],
               [
                23.769604234659063,
                37.88507016284578
               ],
               [
                23.76867556062516,
                37.884964701175846
               ]
              ]
             ],
             "type": "Polygon"
            },
            "id": "175",
            "properties": {},
            "type": "Feature"
           },
           {
            "bbox": [
             23.768092261532104,
             37.884964701175846,
             23.769949621718546,
             37.886321920112785
            ],
            "geometry": {
             "coordinates": [
              [
               [
                23.76843763959895,
                37.88621645754261
               ],
               [
                23.768092261532104,
                37.88553784674488
               ],
               [
                23.76867556062516,
                37.884964701175846
               ],
               [
                23.769604234659063,
                37.88507016284578
               ],
               [
                23.769949621718546,
                37.88574877098497
               ],
               [
                23.769366325751662,
                37.886321920112785
               ],
               [
                23.76843763959895,
                37.88621645754261
               ]
              ]
             ],
             "type": "Polygon"
            },
            "id": "176",
            "properties": {},
            "type": "Feature"
           },
           {
            "bbox": [
             23.76807693685148,
             37.86258279049173,
             23.769933856767995,
             37.863940193220735
            ],
            "geometry": {
             "coordinates": [
              [
               [
                23.768422232945458,
                37.86383471315105
               ],
               [
                23.76807693685148,
                37.8631560104568
               ],
               [
                23.768660097783805,
                37.86258279049173
               ],
               [
                23.76958855168563,
                37.862688269660836
               ],
               [
                23.769933856767995,
                37.86336696969554
               ],
               [
                23.769350698960356,
                37.863940193220735
               ],
               [
                23.768422232945458,
                37.86383471315105
               ]
              ]
             ],
             "type": "Polygon"
            },
            "id": "177",
            "properties": {},
            "type": "Feature"
           },
           {
            "bbox": [
             23.764116338452972,
             37.89090694267445,
             23.765973809014444,
             37.89226413685904
            ],
            "geometry": {
             "coordinates": [
              [
               [
                23.76446171011175,
                37.8921586476042
               ],
               [
                23.764116338452972,
                37.8914800491832
               ],
               [
                23.764699699139356,
                37.89090694267445
               ],
               [
                23.765628428360326,
                37.89101243102799
               ],
               [
                23.765973809014444,
                37.89169102679156
               ],
               [
                23.765390451452436,
                37.89226413685904
               ],
               [
                23.76446171011175,
                37.8921586476042
               ]
              ]
             ],
             "type": "Polygon"
            },
            "id": "178",
            "properties": {},
            "type": "Feature"
           },
           {
            "bbox": [
             23.76522203065191,
             37.87760522032417,
             23.76707924132283,
             37.878962517092525
            ],
            "geometry": {
             "coordinates": [
              [
               [
                23.765567361476116,
                37.87885702621197
               ],
               [
                23.76522203065191,
                37.87817837649868
               ],
               [
                23.76580530222894,
                37.87760522032417
               ],
               [
                23.766733901506264,
                37.877710710303546
               ],
               [
                23.76707924132283,
                37.87838935735858
               ],
               [
                23.76649597286991,
                37.878962517092525
               ],
               [
                23.765567361476116,
                37.87885702621197
               ]
              ]
             ],
             "type": "Polygon"
            },
            "id": "179",
            "properties": {},
            "type": "Feature"
           },
           {
            "bbox": [
             23.767363295703994,
             37.86633852929458,
             23.769220288301458,
             37.867695905548224
            ],
            "geometry": {
             "coordinates": [
              [
               [
                23.76770860048028,
                37.8675904227765
               ],
               [
                23.767363295703994,
                37.86691173332009
               ],
               [
                23.76794648429394,
                37.86633852929458
               ],
               [
                23.768874974535805,
                37.86644401116557
               ],
               [
                23.769220288301458,
                37.867122697962756
               ],
               [
                23.768637102836053,
                37.867695905548224
               ],
               [
                23.76770860048028,
                37.8675904227765
               ]
              ]
             ],
             "type": "Polygon"
            },
            "id": "180",
            "properties": {},
            "type": "Feature"
           },
           {
            "bbox": [
             23.769519710152323,
             37.87745395840512,
             23.771376924923278,
             37.878811230384265
            ],
            "geometry": {
             "coordinates": [
              [
               [
                23.76986507084687,
                37.87870577321476
               ],
               [
                23.769519710152323,
                37.87802713589561
               ],
               [
                23.77010295391106,
                37.87745395840512
               ],
               [
                23.771031555238075,
                37.87755941467469
               ],
               [
                23.771376924923278,
                37.87823804933465
               ],
               [
                23.770793684291004,
                37.878811230384265
               ],
               [
                23.76986507084687,
                37.87870577321476
               ]
              ]
             ],
             "type": "Polygon"
            },
            "id": "181",
            "properties": {},
            "type": "Feature"
           },
           {
            "bbox": [
             23.769504048381133,
             37.85507105038239,
             23.771360822951127,
             37.85642850603247
            ],
            "geometry": {
             "coordinates": [
              [
               [
                23.76984932711109,
                37.85632303136553
               ],
               [
                23.769504048381133,
                37.85564430221039
               ],
               [
                23.77008715400537,
                37.85507105038239
               ],
               [
                23.771015535234778,
                37.855176524149066
               ],
               [
                23.771360822951127,
                37.855855250644
               ],
               [
                23.770777720451864,
                37.85642850603247
               ],
               [
                23.76984932711109,
                37.85632303136553
               ]
              ]
             ],
             "type": "Polygon"
            },
            "id": "182",
            "properties": {},
            "type": "Feature"
           },
           {
            "bbox": [
             23.770233349052546,
             37.87369845556197,
             23.772090491123425,
             37.87505575404742
            ],
            "geometry": {
             "coordinates": [
              [
               [
                23.770578701061222,
                37.874950299577584
               ],
               [
                23.770233349052546,
                37.87427164900511
               ],
               [
                23.7708165651477,
                37.87369845556197
               ],
               [
                23.771745130125108,
                37.87380390913202
               ],
               [
                23.772090491123425,
                37.87448255704498
               ],
               [
                23.771507278154886,
                37.87505575404742
               ],
               [
                23.770578701061222,
                37.874950299577584
               ]
              ]
             ],
             "type": "Polygon"
            },
            "id": "183",
            "properties": {},
            "type": "Feature"
           },
           {
            "bbox": [
             23.759244913989786,
             37.864136964892076,
             23.76110184989771,
             37.865494408347445
            ],
            "geometry": {
             "coordinates": [
              [
               [
                23.75959015324704,
                37.86538885998261
               ],
               [
                23.759244913989786,
                37.86471013692614
               ],
               [
                23.759828139750276,
                37.864136964892076
               ],
               [
                23.760756601648296,
                37.86424251235379
               ],
               [
                23.76110184989771,
                37.86492123275267
               ],
               [
                23.760518627257134,
                37.865494408347445
               ],
               [
                23.75959015324704,
                37.86538885998261
               ]
              ]
             ],
             "type": "Polygon"
            },
            "id": "184",
            "properties": {},
            "type": "Feature"
           },
           {
            "bbox": [
             23.763066115737608,
             37.86648971537245,
             23.764923104225492,
             37.867847116405216
            ],
            "geometry": {
             "coordinates": [
              [
               [
                23.76341139064852,
                37.867741599933716
               ],
               [
                23.763066115737608,
                37.86706289808821
               ],
               [
                23.763649332136083,
                37.86648971537245
               ],
               [
                23.764577820323485,
                37.86659523094198
               ],
               [
                23.764923104225492,
                37.86727393012921
               ],
               [
                23.7643398909492,
                37.867847116405216
               ],
               [
                23.76341139064852,
                37.867741599933716
               ]
              ]
             ],
             "type": "Polygon"
            },
            "id": "185",
            "properties": {},
            "type": "Feature"
           },
           {
            "bbox": [
             23.765445274868682,
             37.85397033492315,
             23.767302021119352,
             37.85532782416424
            ],
            "geometry": {
             "coordinates": [
              [
               [
                23.765790520849514,
                37.85522231671026
               ],
               [
                23.765445274868682,
                37.85454357076003
               ],
               [
                23.766028399080536,
                37.85397033492315
               ],
               [
                23.76695676615075,
                37.85407584147567
               ],
               [
                23.767302021119352,
                37.854754584766525
               ],
               [
                23.76671890003017,
                37.85532782416424
               ],
               [
                23.765790520849514,
                37.85522231671026
               ]
              ]
             ],
             "type": "Polygon"
            },
            "id": "186",
            "properties": {},
            "type": "Feature"
           },
           {
            "bbox": [
             23.75988845827905,
             37.875720315028666,
             23.761745623066048,
             37.87707765956506
            ],
            "geometry": {
             "coordinates": [
              [
               [
                23.76023374444809,
                37.87697212524124
               ],
               [
                23.75988845827905,
                37.87629345164446
               ],
               [
                23.760471751566868,
                37.875720315028666
               ],
               [
                23.76140032790289,
                37.87582584844972
               ],
               [
                23.761745623066048,
                37.87650451938932
               ],
               [
                23.761162332899268,
                37.87707765956506
               ],
               [
                23.76023374444809,
                37.87697212524124
               ]
              ]
             ],
             "type": "Polygon"
            },
            "id": "187",
            "properties": {},
            "type": "Feature"
           },
           {
            "bbox": [
             23.771116192079322,
             37.884029295197486,
             23.77297353883369,
             37.885386503498864
            ],
            "geometry": {
             "coordinates": [
              [
               [
                23.771461588130748,
                37.88528106400735
               ],
               [
                23.771116192079322,
                37.884602458527056
               ],
               [
                23.771699466473244,
                37.884029295197486
               ],
               [
                23.77262813379101,
                37.88413473378964
               ],
               [
                23.77297353883369,
                37.884813336610684
               ],
               [
                23.77239026756754,
                37.885386503498864
               ],
               [
                23.771461588130748,
                37.88528106400735
               ]
              ]
             ],
             "type": "Polygon"
            },
            "id": "188",
            "properties": {},
            "type": "Feature"
           },
           {
            "bbox": [
             23.76427019278283,
             37.8826123854403,
             23.766127500390073,
             37.88396964685335
            ],
            "geometry": {
             "coordinates": [
              [
               [
                23.764615535184415,
                37.88386415236757
               ],
               [
                23.76427019278283,
                37.88318552033214
               ],
               [
                23.764853501249885,
                37.8826123854403
               ],
               [
                23.765782148994795,
                37.882717879024696
               ],
               [
                23.766127500390073,
                37.8833965084023
               ],
               [
                23.76554419504693,
                37.88396964685335
               ],
               [
                23.764615535184415,
                37.88386415236757
               ]
              ]
             ],
             "type": "Polygon"
            },
            "id": "189",
            "properties": {},
            "type": "Feature"
           },
           {
            "bbox": [
             23.76068632390486,
             37.87900812304728,
             23.762543554686758,
             37.88036543576204
            ],
            "geometry": {
             "coordinates": [
              [
               [
                23.761031627747855,
                37.88025991026801
               ],
               [
                23.76068632390486,
                37.87958125258204
               ],
               [
                23.761269632516363,
                37.87900812304728
               ],
               [
                23.76219824184935,
                37.87911364763883
               ],
               [
                23.762543554686758,
                37.87979230266758
               ],
               [
                23.761960249196953,
                37.88036543576204
               ],
               [
                23.761031627747855,
                37.88025991026801
               ]
              ]
             ],
             "type": "Polygon"
            },
            "id": "190",
            "properties": {},
            "type": "Feature"
           },
           {
            "bbox": [
             23.77001125733635,
             37.89733055088095,
             23.77186886402675,
             37.8986876565241
            ],
            "geometry": {
             "coordinates": [
              [
               [
                23.77035669424106,
                37.89858221867984
               ],
               [
                23.77001125733635,
                37.897903664529075
               ],
               [
                23.770594620843646,
                37.89733055088095
               ],
               [
                23.771523418127803,
                37.89743598782571
               ],
               [
                23.77186886402675,
                37.89811453931808
               ],
               [
                23.7712855036475,
                37.8986876565241
               ],
               [
                23.77035669424106,
                37.89858221867984
               ]
              ]
             ],
             "type": "Polygon"
            },
            "id": "191",
            "properties": {},
            "type": "Feature"
           },
           {
            "bbox": [
             23.765950661453452,
             37.89623015757873,
             23.767808239801486,
             37.89758729687838
            ],
            "geometry": {
             "coordinates": [
              [
               [
                23.766296065580082,
                37.89748182620381
               ],
               [
                23.765950661453452,
                37.896803255225215
               ],
               [
                23.76653404356582,
                37.89623015757873
               ],
               [
                23.767462826679242,
                37.8963356273526
               ],
               [
                23.767808239801486,
                37.89701419567363
               ],
               [
                23.76722486081487,
                37.89758729687838
               ],
               [
                23.766296065580082,
                37.89748182620381
               ]
              ]
             ],
             "type": "Polygon"
            },
            "id": "192",
            "properties": {},
            "type": "Feature"
           },
           {
            "bbox": [
             23.76379423587653,
             37.88511590955183,
             23.765651591955333,
             37.886473153280654
            ],
            "geometry": {
             "coordinates": [
              [
               [
                23.76413958406692,
                37.88636765699195
               ],
               [
                23.76379423587653,
                37.885689033798755
               ],
               [
                23.764377562790173,
                37.88511590955183
               ],
               [
                23.765306234770584,
                37.885221404939045
               ],
               [
                23.765651591955333,
                37.88590002547464
               ],
               [
                23.765068268165493,
                37.886473153280654
               ],
               [
                23.76413958406692,
                37.88636765699195
               ]
              ]
             ],
             "type": "Polygon"
            },
            "id": "193",
            "properties": {},
            "type": "Feature"
           },
           {
            "bbox": [
             23.76641168561426,
             37.87134604484911,
             23.768268775127574,
             37.87270338578693
            ],
            "geometry": {
             "coordinates": [
              [
               [
                23.766757001967186,
                37.87259789941178
               ],
               [
                23.76641168561426,
                37.87191922761349
               ],
               [
                23.766994911084712,
                37.87134604484911
               ],
               [
                23.767923449783947,
                37.871451530323334
               ],
               [
                23.768268775127574,
                37.87213019946281
               ],
               [
                23.767685552781476,
                37.87270338578693
               ],
               [
                23.766757001967186,
                37.87259789941178
               ]
              ]
             ],
             "type": "Polygon"
            },
            "id": "194",
            "properties": {},
            "type": "Feature"
           },
           {
            "bbox": [
             23.771200841548186,
             37.89107206559927,
             23.773058327022838,
             37.89242921550405
            ],
            "geometry": {
             "coordinates": [
              [
               [
                23.771546263969867,
                37.892323782156744
               ],
               [
                23.771200841548186,
                37.891645205874916
               ],
               [
                23.77178415893161,
                37.89107206559927
               ],
               [
                23.772712895608592,
                37.89117749804734
               ],
               [
                23.773058327022838,
                37.89185607167023
               ],
               [
                23.77247501276772,
                37.89242921550405
               ],
               [
                23.771546263969867,
                37.892323782156744
               ]
              ]
             ],
             "type": "Polygon"
            },
            "id": "195",
            "properties": {},
            "type": "Feature"
           },
           {
            "bbox": [
             23.765697911618584,
             37.87510157933792,
             23.767555073824763,
             37.87645889377735
            ],
            "geometry": {
             "coordinates": [
              [
               [
                23.76604323665422,
                37.87635340469911
               ],
               [
                23.765697911618584,
                37.875674746150175
               ],
               [
                23.766281164752186,
                37.87510157933792
               ],
               [
                23.767209739797423,
                37.875207067515085
               ],
               [
                23.767555073824763,
                37.87588572340554
               ],
               [
                23.76697182381535,
                37.87645889377735
               ],
               [
                23.76604323665422,
                37.87635340469911
               ]
              ]
             ],
             "type": "Polygon"
            },
            "id": "196",
            "properties": {},
            "type": "Feature"
           },
           {
            "bbox": [
             23.766188642334807,
             37.8949784792,
             23.76804619644038,
             37.8963356273526
            ],
            "geometry": {
             "coordinates": [
              [
               [
                23.76653404356582,
                37.89623015757873
               ],
               [
                23.766188642334807,
                37.8955515821736
               ],
               [
                23.76677201522174,
                37.8949784792
               ],
               [
                23.76770078621408,
                37.89508394807323
               ],
               [
                23.76804619644038,
                37.895762520820675
               ],
               [
                23.767462826679242,
                37.8963356273526
               ],
               [
                23.76653404356582,
                37.89623015757873
               ]
              ]
             ],
             "type": "Polygon"
            },
            "id": "197",
            "properties": {},
            "type": "Feature"
           },
           {
            "bbox": [
             23.759958863192804,
             37.86038122126756,
             23.76181572643081,
             37.86173869118903
            ],
            "geometry": {
             "coordinates": [
              [
               [
                23.76030409377399,
                37.86163314553341
               ],
               [
                23.759958863192804,
                37.86095440924374
               ],
               [
                23.76054206129496,
                37.86038122126756
               ],
               [
                23.761470486858453,
                37.86048676602021
               ],
               [
                23.76181572643081,
                37.86116549965198
               ],
               [
                23.7612325314487,
                37.86173869118903
               ],
               [
                23.76030409377399,
                37.86163314553341
               ]
              ]
             ],
             "type": "Polygon"
            },
            "id": "198",
            "properties": {},
            "type": "Feature"
           },
           {
            "bbox": [
             23.758460265285677,
             37.88323103021766,
             23.760317575464708,
             37.88458832172907
            ],
            "geometry": {
             "coordinates": [
              [
               [
                23.758805568812566,
                37.88448278198764
               ],
               [
                23.758460265285677,
                37.88380413490367
               ],
               [
                23.75904361391052,
                37.88323103021766
               ],
               [
                23.759972262941716,
                37.88333656905605
               ],
               [
                23.760317575464708,
                37.88401521348347
               ],
               [
                23.759734229960607,
                37.88458832172907
               ],
               [
                23.758805568812566,
                37.88448278198764
               ]
              ]
             ],
             "type": "Polygon"
            },
            "id": "199",
            "properties": {},
            "type": "Feature"
           },
           {
            "bbox": [
             23.76401785530057,
             37.861482079861446,
             23.765874746886755,
             37.86283951619069
            ],
            "geometry": {
             "coordinates": [
              [
               [
                23.764363118639206,
                37.86273400332681
               ],
               [
                23.76401785530057,
                37.86205528383281
               ],
               [
                23.76460103482122,
                37.861482079861446
               ],
               [
                23.765529474558335,
                37.861587591823564
               ],
               [
                23.765874746886755,
                37.86226630865881
               ],
               [
                23.76529157048847,
                37.86283951619069
               ],
               [
                23.764363118639206,
                37.86273400332681
               ]
              ]
             ],
             "type": "Polygon"
            },
            "id": "200",
            "properties": {},
            "type": "Feature"
           },
           {
            "bbox": [
             23.757578811027226,
             37.87290002621031,
             23.759435916518157,
             37.874257407873074
            ],
            "geometry": {
             "coordinates": [
              [
               [
                23.757924070529324,
                37.874151853184976
               ],
               [
                23.757578811027226,
                37.873473161025196
               ],
               [
                23.758162101333046,
                37.87290002621031
               ],
               [
                23.759090648021576,
                37.87300557999494
               ],
               [
                23.759435916518157,
                37.87368426949789
               ],
               [
                23.75885262933193,
                37.874257407873074
               ],
               [
                23.757924070529324,
                37.874151853184976
               ]
              ]
             ],
             "type": "Polygon"
            },
            "id": "201",
            "properties": {},
            "type": "Feature"
           },
           {
            "bbox": [
             23.76228222128331,
             37.88558352687183,
             23.76413958406692,
             37.88694077591552
            ],
            "geometry": {
             "coordinates": [
              [
               [
                23.762627560478652,
                37.88683526808668
               ],
               [
                23.76228222128331,
                37.88615664223622
               ],
               [
                23.762865560543666,
                37.88558352687183
               ],
               [
                23.76379423587653,
                37.885689033798755
               ],
               [
                23.76413958406692,
                37.88636765699195
               ],
               [
                23.76355624792958,
                37.88694077591552
               ],
               [
                23.762627560478652,
                37.88683526808668
               ]
              ]
             ],
             "type": "Polygon"
            },
            "id": "202",
            "properties": {},
            "type": "Feature"
           },
           {
            "bbox": [
             23.75726993036476,
             37.889489691611594,
             23.759127361719443,
             37.890846938905376
            ],
            "geometry": {
             "coordinates": [
              [
               [
                23.75761524835706,
                37.89074139464787
               ],
               [
                23.75726993036476,
                37.890062769673
               ],
               [
                23.757853325111068,
                37.889489691611594
               ],
               [
                23.758782034729368,
                37.88959523496578
               ],
               [
                23.759127361719443,
                37.890273857284654
               ],
               [
                23.758543970093637,
                37.890846938905376
               ],
               [
                23.75761524835706,
                37.89074139464787
               ]
              ]
             ],
             "type": "Polygon"
            },
            "id": "203",
            "properties": {},
            "type": "Feature"
           },
           {
            "bbox": [
             23.764984080676975,
             37.87885702621197,
             23.766841315581125,
             37.88021431414314
            ],
            "geometry": {
             "coordinates": [
              [
               [
                23.765329414395485,
                37.88010882236136
               ],
               [
                23.764984080676975,
                37.8794301770667
               ],
               [
                23.765567361476116,
                37.87885702621197
               ],
               [
                23.76649597286991,
                37.878962517092525
               ],
               [
                23.766841315581125,
                37.87964115972902
               ],
               [
                23.766258037906038,
                37.88021431414314
               ],
               [
                23.765329414395485,
                37.88010882236136
               ]
              ]
             ],
             "type": "Polygon"
            },
            "id": "204",
            "properties": {},
            "type": "Feature"
           },
           {
            "bbox": [
             23.763710144098987,
             37.87807287498219,
             23.765567361476116,
             37.8794301770667
            ],
            "geometry": {
             "coordinates": [
              [
               [
                23.764055465930134,
                37.87932467464861
               ],
               [
                23.763710144098987,
                37.8786460222774
               ],
               [
                23.764293428021425,
                37.87807287498219
               ],
               [
                23.76522203065191,
                37.87817837649868
               ],
               [
                23.765567361476116,
                37.87885702621197
               ],
               [
                23.764984080676975,
                37.8794301770667
               ],
               [
                23.764055465930134,
                37.87932467464861
               ]
              ]
             ],
             "type": "Polygon"
            },
            "id": "205",
            "properties": {},
            "type": "Feature"
           },
           {
            "bbox": [
             23.770862319427177,
             37.86289920583585,
             23.77271925014493,
             37.86425658910164
            ],
            "geometry": {
             "coordinates": [
              [
               [
                23.77120763639197,
                37.864151131196095
               ],
               [
                23.770862319427177,
                37.86347243823314
               ],
               [
                23.77144546489061,
                37.86289920583585
               ],
               [
                23.772373924192795,
                37.86300466284163
               ],
               [
                23.77271925014493,
                37.863683353144445
               ],
               [
                23.77213610780773,
                37.86425658910164
               ],
               [
                23.77120763639197,
                37.864151131196095
               ]
              ]
             ],
             "type": "Polygon"
            },
            "id": "206",
            "properties": {},
            "type": "Feature"
           },
           {
            "bbox": [
             23.762590207995007,
             37.868993474766086,
             23.76444724493715,
             37.87035085814402
            ],
            "geometry": {
             "coordinates": [
              [
               [
                23.76293548869217,
                37.87024533986841
               ],
               [
                23.762590207995007,
                37.869566646850416
               ],
               [
                23.763173442833963,
                37.868993474766086
               ],
               [
                23.764101955248215,
                37.869098992139605
               ],
               [
                23.76444724493715,
                37.86977768249954
               ],
               [
                23.763864013220275,
                37.87035085814402
               ],
               [
                23.76293548869217,
                37.87024533986841
               ]
              ]
             ],
             "type": "Polygon"
            },
            "id": "207",
            "properties": {},
            "type": "Feature"
           },
           {
            "bbox": [
             23.763080253046866,
             37.88887112263518,
             23.764937681837264,
             37.89022833982944
            ],
            "geometry": {
             "coordinates": [
              [
               [
                23.763425609920613,
                37.890122840836
               ],
               [
                23.763080253046866,
                37.88944423091023
               ],
               [
                23.763663607632385,
                37.88887112263518
               ],
               [
                23.76459231596816,
                37.888976620727
               ],
               [
                23.764937681837264,
                37.889655227995476
               ],
               [
                23.764354330375422,
                37.89022833982944
               ],
               [
                23.763425609920613,
                37.890122840836
               ]
              ]
             ],
             "type": "Polygon"
            },
            "id": "208",
            "properties": {},
            "type": "Feature"
           },
           {
            "bbox": [
             23.762366213247084,
             37.89262624799028,
             23.76422371475421,
             37.89398343864012
            ],
            "geometry": {
             "coordinates": [
              [
               [
                23.762711578804364,
                37.893877936941465
               ],
               [
                23.762366213247084,
                37.89319934028807
               ],
               [
                23.762949595506853,
                37.89262624799028
               ],
               [
                23.763878340200566,
                37.89273174878715
               ],
               [
                23.76422371475421,
                37.893410342783575
               ],
               [
                23.76364033561797,
                37.89398343864012
               ],
               [
                23.762711578804364,
                37.893877936941465
               ]
              ]
             ],
             "type": "Polygon"
            },
            "id": "209",
            "properties": {},
            "type": "Feature"
           },
           {
            "bbox": [
             23.767041078122645,
             37.860546657693014,
             23.76889795629753,
             37.86190408338596
            ],
            "geometry": {
             "coordinates": [
              [
               [
                23.767386359440145,
                37.86179859358589
               ],
               [
                23.767041078122645,
                37.86111987940971
               ],
               [
                23.76762423296028,
                37.860546657693014
               ],
               [
                23.76855266599163,
                37.860652146592166
               ],
               [
                23.76889795629753,
                37.861330858108914
               ],
               [
                23.76831480458387,
                37.86190408338596
               ],
               [
                23.767386359440145,
                37.86179859358589
               ]
              ]
             ],
             "type": "Polygon"
            },
            "id": "210",
            "properties": {},
            "type": "Feature"
           },
           {
            "bbox": [
             23.76043479769175,
             37.8578773435686,
             23.76229161248599,
             37.85923483112864
            ],
            "geometry": {
             "coordinates": [
              [
               [
                23.760780022488998,
                37.85912928727892
               ],
               [
                23.76043479769175,
                37.85845054216986
               ],
               [
                23.76101797735636,
                37.8578773435686
               ],
               [
                23.76194637869824,
                37.857982886515465
               ],
               [
                23.76229161248599,
                37.85866162896641
               ],
               [
                23.76170843594154,
                37.85923483112864
               ],
               [
                23.760780022488998,
                37.85912928727892
               ]
              ]
             ],
             "type": "Polygon"
            },
            "id": "211",
            "properties": {},
            "type": "Feature"
           },
           {
            "bbox": [
             23.768790521074983,
             37.85882696417735,
             23.770647368315693,
             37.86018439337184
            ],
            "geometry": {
             "coordinates": [
              [
               [
                23.769135808486876,
                37.86007891600374
               ],
               [
                23.768790521074983,
                37.85940020007657
               ],
               [
                23.769373654352087,
                37.85882696417735
               ],
               [
                23.77030207191643,
                37.858932440645006
               ],
               [
                23.770647368315693,
                37.8596111539123
               ],
               [
                23.770064238163425,
                37.86018439337184
               ],
               [
                23.769135808486876,
                37.86007891600374
               ]
              ]
             ],
             "type": "Polygon"
            },
            "id": "212",
            "properties": {},
            "type": "Feature"
           },
           {
            "bbox": [
             23.758292893126985,
             37.86914448688523,
             23.760149925936076,
             37.870501895037116
            ],
            "geometry": {
             "coordinates": [
              [
               [
                23.7586381439526,
                37.870396343059284
               ],
               [
                23.758292893126985,
                37.86971763765478
               ],
               [
                23.758876155768924,
                37.86914448688523
               ],
               [
                23.759804666116963,
                37.86925003795973
               ],
               [
                23.760149925936076,
                37.869928740707095
               ],
               [
                23.75956666641385,
                37.870501895037116
               ],
               [
                23.7586381439526,
                37.870396343059284
               ]
              ]
             ],
             "type": "Polygon"
            },
            "id": "213",
            "properties": {},
            "type": "Feature"
           },
           {
            "bbox": [
             23.76235224463257,
             37.87024533986841,
             23.76420930580269,
             37.871602714417286
            ],
            "geometry": {
             "coordinates": [
              [
               [
                23.7626975282229,
                37.871497195239556
               ],
               [
                23.76235224463257,
                37.870818506636134
               ],
               [
                23.76293548869217,
                37.87024533986841
               ],
               [
                23.763864013220275,
                37.87035085814402
               ],
               [
                23.76420930580269,
                37.87102954408946
               ],
               [
                23.76362606486512,
                37.871602714417286
               ],
               [
                23.7626975282229,
                37.871497195239556
               ]
              ]
             ],
             "type": "Polygon"
            },
            "id": "214",
            "properties": {},
            "type": "Feature"
           },
           {
            "bbox": [
             23.757327996126254,
             37.85176846022798,
             23.75918468568476,
             37.85312601662689
            ],
            "geometry": {
             "coordinates": [
              [
               [
                23.757673176602513,
                37.853020443606304
               ],
               [
                23.757327996126254,
                37.852341664078
               ],
               [
                23.757911157492885,
                37.85176846022798
               ],
               [
                23.75883949621793,
                37.8518740323447
               ],
               [
                23.75918468568476,
                37.85255280921529
               ],
               [
                23.758601527436163,
                37.85312601662689
               ],
               [
                23.757673176602513,
                37.853020443606304
               ]
              ]
             ],
             "type": "Polygon"
            },
            "id": "215",
            "properties": {},
            "type": "Feature"
           },
           {
            "bbox": [
             23.75886576867387,
             37.89606473070949,
             23.76072333206497,
             37.89742191428315
            ],
            "geometry": {
             "coordinates": [
              [
               [
                23.759211122024173,
                37.89731638769331
               ],
               [
                23.75886576867387,
                37.89663779457846
               ],
               [
                23.75944919408073,
                37.89606473070949
               ],
               [
                23.760377969716274,
                37.89617025639659
               ],
               [
                23.76072333206497,
                37.89684884685538
               ],
               [
                23.76013990977993,
                37.89742191428315
               ],
               [
                23.759211122024173,
                37.89731638769331
               ]
              ]
             ],
             "type": "Polygon"
            },
            "id": "216",
            "properties": {},
            "type": "Feature"
           },
           {
            "bbox": [
             23.76776993573747,
             37.87917347667985,
             23.769627181456293,
             37.88053074513919
            ],
            "geometry": {
             "coordinates": [
              [
               [
                23.768115290335697,
                37.88042527553213
               ],
               [
                23.76776993573747,
                37.879746639973106
               ],
               [
                23.768353201065537,
                37.87917347667985
               ],
               [
                23.76928181786641,
                37.87927894538652
               ],
               [
                23.769627181456293,
                37.8799575782868
               ],
               [
                23.769043919253843,
                37.88053074513919
               ],
               [
                23.768115290335697,
                37.88042527553213
               ]
              ]
             ],
             "type": "Polygon"
            },
            "id": "217",
            "properties": {},
            "type": "Feature"
           },
           {
            "bbox": [
             23.761652116470596,
             37.89638128558618,
             23.763509690699557,
             37.89773844968174
            ],
            "geometry": {
             "coordinates": [
              [
               [
                23.7619974907116,
                37.89763294527743
               ],
               [
                23.761652116470596,
                37.89695436190136
               ],
               [
                23.76223552640699,
                37.89638128558618
               ],
               [
                23.7631643074612,
                37.896486789088556
               ],
               [
                23.763509690699557,
                37.89716536980801
               ],
               [
                23.762926283886546,
                37.89773844968174
               ],
               [
                23.7619974907116,
                37.89763294527743
               ]
              ]
             ],
             "type": "Polygon"
            },
            "id": "218",
            "properties": {},
            "type": "Feature"
           },
           {
            "bbox": [
             23.767378451798926,
             37.88871994104151,
             23.769235884700777,
             37.89007713344254
            ],
            "geometry": {
             "coordinates": [
              [
               [
                23.767723838552183,
                37.88997166817136
               ],
               [
                23.767378451798926,
                37.88929307064175
               ],
               [
                23.767961778562707,
                37.88871994104151
               ],
               [
                23.768890488953897,
                37.888825405412305
               ],
               [
                23.769235884700777,
                37.88950400028371
               ],
               [
                23.768652561063032,
                37.89007713344254
               ],
               [
                23.767723838552183,
                37.88997166817136
               ]
              ]
             ],
             "type": "Polygon"
            },
            "id": "219",
            "properties": {},
            "type": "Feature"
           },
           {
            "bbox": [
             23.770386637668082,
             37.86540304683183,
             23.772243616841283,
             37.86676041244715
            ],
            "geometry": {
             "coordinates": [
              [
               [
                23.770731960422413,
                37.866654952741925
               ],
               [
                23.770386637668082,
                37.865976268604314
               ],
               [
                23.770969801569322,
                37.86540304683183
               ],
               [
                23.771898285098946,
                37.865508505637195
               ],
               [
                23.772243616841283,
                37.86618718711488
               ],
               [
                23.771660456066186,
                37.86676041244715
               ],
               [
                23.770731960422413,
                37.866654952741925
               ]
              ]
             ],
             "type": "Polygon"
            },
            "id": "220",
            "properties": {},
            "type": "Feature"
           },
           {
            "bbox": [
             23.76967306759492,
             37.86915873538058,
             23.771530119455576,
             37.87051607451197
            ],
            "geometry": {
             "coordinates": [
              [
               [
                23.770018399033717,
                37.870410612106845
               ],
               [
                23.76967306759492,
                37.86973194121135
               ],
               [
                23.770256259154856,
                37.86915873538058
               ],
               [
                23.771184779027777,
                37.86926419688569
               ],
               [
                23.771530119455576,
                37.86994286512157
               ],
               [
                23.770946931021637,
                37.87051607451197
               ],
               [
                23.770018399033717,
                37.870410612106845
               ]
              ]
             ],
             "type": "Polygon"
            },
            "id": "221",
            "properties": {},
            "type": "Feature"
           },
           {
            "bbox": [
             23.769197322586958,
             37.871662479102866,
             23.771054422908744,
             37.87301980057283
            ],
            "geometry": {
             "coordinates": [
              [
               [
                23.769542659815492,
                37.87291433636751
               ],
               [
                23.769197322586958,
                37.87223567430285
               ],
               [
                23.76978053258734,
                37.871662479102866
               ],
               [
                23.77070907669055,
                37.87176794240806
               ],
               [
                23.771054422908744,
                37.87244660181333
               ],
               [
                23.770471216034267,
                37.87301980057283
               ],
               [
                23.769542659815492,
                37.87291433636751
               ]
              ]
             ],
             "type": "Polygon"
            },
            "id": "222",
            "properties": {},
            "type": "Feature"
           },
           {
            "bbox": [
             23.766887503311334,
             37.868842306530325,
             23.768744544365585,
             37.87019966512824
            ],
            "geometry": {
             "coordinates": [
              [
               [
                23.767232813875903,
                37.870094180554915
               ],
               [
                23.766887503311334,
                37.86941549992646
               ],
               [
                23.767470710341016,
                37.868842306530325
               ],
               [
                23.768399224810988,
                37.86894779020283
               ],
               [
                23.768744544365585,
                37.869626468172264
               ],
               [
                23.768161340460367,
                37.87019966512824
               ],
               [
                23.767232813875903,
                37.870094180554915
               ]
              ]
             ],
             "type": "Polygon"
            },
            "id": "223",
            "properties": {},
            "type": "Feature"
           },
           {
            "bbox": [
             23.771813607058917,
             37.857891407172815,
             23.773670440872582,
             37.859248825726375
            ],
            "geometry": {
             "coordinates": [
              [
               [
                23.77215891244488,
                37.859143371419584
               ],
               [
                23.771813607058917,
                37.85846466081252
               ],
               [
                23.772396715649904,
                37.857891407172815
               ],
               [
                23.773325126500612,
                37.85799686058004
               ],
               [
                23.773670440872582,
                37.858675568526515
               ],
               [
                23.77308733540803,
                37.859248825726375
               ],
               [
                23.77215891244488,
                37.859143371419584
               ]
              ]
             ],
             "type": "Polygon"
            },
            "id": "224",
            "properties": {},
            "type": "Feature"
           },
           {
            "bbox": [
             23.758923200999636,
             37.85834498769199,
             23.760780022488998,
             37.859702480567925
            ],
            "geometry": {
             "coordinates": [
              [
               [
                23.759268416805696,
                37.859596925186764
               ],
               [
                23.758923200999636,
                37.85891817741993
               ],
               [
                23.759506393002244,
                37.85834498769199
               ],
               [
                23.76043479769175,
                37.85845054216986
               ],
               [
                23.760780022488998,
                37.85912928727892
               ],
               [
                23.760196833605754,
                37.859702480567925
               ],
               [
                23.759268416805696,
                37.859596925186764
               ]
              ]
             ],
             "type": "Polygon"
            },
            "id": "225",
            "properties": {},
            "type": "Feature"
           },
           {
            "bbox": [
             23.76537576611381,
             37.86931000471987,
             23.767232813875903,
             37.870667368635466
            ],
            "geometry": {
             "coordinates": [
              [
               [
                23.76572106768765,
                37.87056187252761
               ],
               [
                23.76537576611381,
                37.86988318924049
               ],
               [
                23.76595898548738,
                37.86931000471987
               ],
               [
                23.766887503311334,
                37.86941549992646
               ],
               [
                23.767232813875903,
                37.870094180554915
               ],
               [
                23.76664959762597,
                37.870667368635466
               ],
               [
                23.76572106768765,
                37.87056187252761
               ]
              ]
             ],
             "type": "Polygon"
            },
            "id": "226",
            "properties": {},
            "type": "Feature"
           },
           {
            "bbox": [
             23.771898285098946,
             37.86493527499216,
             23.77375525755621,
             37.86629263528728
            ],
            "geometry": {
             "coordinates": [
              [
               [
                23.772243616841283,
                37.86618718711488
               ],
               [
                23.771898285098946,
                37.865508505637195
               ],
               [
                23.772481436654967,
                37.86493527499216
               ],
               [
                23.773409916826555,
                37.86504072226513
               ],
               [
                23.77375525755621,
                37.86571940108254
               ],
               [
                23.773172109127145,
                37.86629263528728
               ],
               [
                23.772243616841283,
                37.86618718711488
               ]
              ]
             ],
             "type": "Polygon"
            },
            "id": "227",
            "properties": {},
            "type": "Feature"
           },
           {
            "bbox": [
             23.757102724646288,
             37.87540367042422,
             23.758959878594617,
             37.876761034422074
            ],
            "geometry": {
             "coordinates": [
              [
               [
                23.75744798993281,
                37.87665547792688
               ],
               [
                23.757102724646288,
                37.87597679459966
               ],
               [
                23.757686033396,
                37.87540367042422
               ],
               [
                23.758614604312946,
                37.87550922601583
               ],
               [
                23.758959878594617,
                37.87618790668646
               ],
               [
                23.758376572964384,
                37.876761034422074
               ],
               [
                23.75744798993281,
                37.87665547792688
               ]
              ]
             ],
             "type": "Polygon"
            },
            "id": "228",
            "properties": {},
            "type": "Feature"
           },
           {
            "bbox": [
             23.7665802727003,
             37.885432373535636,
             23.76843763959895,
             37.88678959778931
            ],
            "geometry": {
             "coordinates": [
              [
               [
                23.766925641773813,
                37.886684123679395
               ],
               [
                23.7665802727003,
                37.88600551022348
               ],
               [
                23.76716358414203,
                37.885432373535636
               ],
               [
                23.768092261532104,
                37.88553784674488
               ],
               [
                23.76843763959895,
                37.88621645754261
               ],
               [
                23.767854331282585,
                37.88678959778931
               ],
               [
                23.766925641773813,
                37.886684123679395
               ]
              ]
             ],
             "type": "Polygon"
            },
            "id": "229",
            "properties": {},
            "type": "Feature"
           },
           {
            "bbox": [
             23.76443848052194,
             37.89669777390814,
             23.766296065580082,
             37.89805491852258
            ],
            "geometry": {
             "coordinates": [
              [
               [
                23.764783875652242,
                37.89794943630438
               ],
               [
                23.76443848052194,
                37.89727086266856
               ],
               [
                23.765021874984924,
                37.89669777390814
               ],
               [
                23.765950661453452,
                37.896803255225215
               ],
               [
                23.766296065580082,
                37.89748182620381
               ],
               [
                23.765712674242035,
                37.89805491852258
               ],
               [
                23.764783875652242,
                37.89794943630438
               ]
              ]
             ],
             "type": "Polygon"
            },
            "id": "230",
            "properties": {},
            "type": "Feature"
           },
           {
            "bbox": [
             23.76928181786641,
             37.87870577321476,
             23.771139056871853,
             37.880063036356276
            ],
            "geometry": {
             "coordinates": [
              [
               [
                23.769627181456293,
                37.8799575782868
               ],
               [
                23.76928181786641,
                37.87927894538652
               ],
               [
                23.76986507084687,
                37.87870577321476
               ],
               [
                23.770793684291004,
                37.878811230384265
               ],
               [
                23.771139056871853,
                37.87948986062547
               ],
               [
                23.77055580701781,
                37.880063036356276
               ],
               [
                23.769627181456293,
                37.8799575782868
               ]
              ]
             ],
             "type": "Polygon"
            },
            "id": "231",
            "properties": {},
            "type": "Feature"
           },
           {
            "bbox": [
             23.76036447197338,
             37.87321666539539,
             23.762221588300907,
             37.87457402759802
            ],
            "geometry": {
             "coordinates": [
              [
               [
                23.76070975235664,
                37.87446849507966
               ],
               [
                23.76036447197338,
                37.87378981264966
               ],
               [
                23.760947746817635,
                37.87321666539539
               ],
               [
                23.761876298924197,
                37.87332219701109
               ],
               [
                23.762221588300907,
                37.8740008767837
               ],
               [
                23.76163831657778,
                37.87457402759802
               ],
               [
                23.76070975235664,
                37.87446849507966
               ]
              ]
             ],
             "type": "Polygon"
            },
            "id": "232",
            "properties": {},
            "type": "Feature"
           },
           {
            "bbox": [
             23.76872155227603,
             37.874166183899625,
             23.770578701061222,
             37.87552348770377
            ],
            "geometry": {
             "coordinates": [
              [
               [
                23.769066895294383,
                37.87541802169807
               ],
               [
                23.76872155227603,
                37.87473936846642
               ],
               [
                23.76930478071792,
                37.874166183899625
               ],
               [
                23.770233349052546,
                37.87427164900511
               ],
               [
                23.770578701061222,
                37.874950299577584
               ],
               [
                23.76999547574514,
                37.87552348770377
               ],
               [
                23.769066895294383,
                37.87541802169807
               ]
              ]
             ],
             "type": "Polygon"
            },
            "id": "233",
            "properties": {},
            "type": "Feature"
           },
           {
            "bbox": [
             23.765866398938815,
             37.889187594730345,
             23.767723838552183,
             37.89054479244747
            ],
            "geometry": {
             "coordinates": [
              [
               [
                23.766211776697748,
                37.89043931563525
               ],
               [
                23.765866398938815,
                37.88976071544776
               ],
               [
                23.766449738051918,
                37.889187594730345
               ],
               [
                23.767378451798926,
                37.88929307064175
               ],
               [
                23.767723838552183,
                37.88997166817136
               ],
               [
                23.767140502564303,
                37.89054479244747
               ],
               [
                23.766211776697748,
                37.89043931563525
               ]
              ]
             ],
             "type": "Polygon"
            },
            "id": "234",
            "properties": {},
            "type": "Feature"
           },
           {
            "bbox": [
             23.760377969716274,
             37.895597183640135,
             23.76223552640699,
             37.89695436190136
            ],
            "geometry": {
             "coordinates": [
              [
               [
                23.76072333206497,
                37.89684884685538
               ],
               [
                23.760377969716274,
                37.89617025639659
               ],
               [
                23.76096138277529,
                37.895597183640135
               ],
               [
                23.76189015506058,
                37.89570269778379
               ],
               [
                23.76223552640699,
                37.89638128558618
               ],
               [
                23.761652116470596,
                37.89695436190136
               ],
               [
                23.76072333206497,
                37.89684884685538
               ]
              ]
             ],
             "type": "Polygon"
            },
            "id": "235",
            "properties": {},
            "type": "Feature"
           },
           {
            "bbox": [
             23.768007849362306,
             37.87792166808933,
             23.76986507084687,
             37.87927894538652
            ],
            "geometry": {
             "coordinates": [
              [
               [
                23.768353201065537,
                37.87917347667985
               ],
               [
                23.768007849362306,
                37.878494836701854
               ],
               [
                23.76859110546844,
                37.87792166808933
               ],
               [
                23.769519710152323,
                37.87802713589561
               ],
               [
                23.76986507084687,
                37.87870577321476
               ],
               [
                23.76928181786641,
                37.87927894538652
               ],
               [
                23.768353201065537,
                37.87917347667985
               ]
              ]
             ],
             "type": "Polygon"
            },
            "id": "236",
            "properties": {},
            "type": "Feature"
           },
           {
            "bbox": [
             23.76369585911911,
             37.85569002825397,
             23.765552636293943,
             37.85704751399736
            ],
            "geometry": {
             "coordinates": [
              [
               [
                23.764041099004068,
                37.85694199411166
               ],
               [
                23.76369585911911,
                37.85626324991052
               ],
               [
                23.76427900488798,
                37.85569002825397
               ],
               [
                23.76520738742019,
                37.855795547237705
               ],
               [
                23.765552636293943,
                37.856474288779914
               ],
               [
                23.764969493646888,
                37.85704751399736
               ],
               [
                23.764041099004068,
                37.85694199411166
               ]
              ]
             ],
             "type": "Polygon"
            },
            "id": "237",
            "properties": {},
            "type": "Feature"
           },
           {
            "bbox": [
             23.767754688390234,
             37.8567907916878,
             23.769611493893404,
             37.858148243840304
            ],
            "geometry": {
             "coordinates": [
              [
               [
                23.768099961026753,
                37.85804275674282
               ],
               [
                23.767754688390234,
                37.857364029336715
               ],
               [
                23.768337815573577,
                37.8567907916878
               ],
               [
                23.769266212269496,
                37.85689627788453
               ],
               [
                23.769611493893404,
                37.85757500263089
               ],
               [
                23.769028369834192,
                37.858148243840304
               ],
               [
                23.768099961026753,
                37.85804275674282
               ]
              ]
             ],
             "type": "Polygon"
            },
            "id": "238",
            "properties": {},
            "type": "Feature"
           },
           {
            "bbox": [
             23.757257170205744,
             37.86710834594672,
             23.759114161256612,
             37.868465777066916
            ],
            "geometry": {
             "coordinates": [
              [
               [
                23.757602406253632,
                37.86836021536123
               ],
               [
                23.757257170205744,
                37.867681498472635
               ],
               [
                23.75784042674595,
                37.86710834594672
               ],
               [
                23.758768916215217,
                37.86721390674875
               ],
               [
                23.759114161256612,
                37.86789262098034
               ],
               [
                23.758530907835432,
                37.868465777066916
               ],
               [
                23.757602406253632,
                37.86836021536123
               ]
              ]
             ],
             "type": "Polygon"
            },
            "id": "239",
            "properties": {},
            "type": "Feature"
           },
           {
            "bbox": [
             23.75694825193821,
             37.88369858452576,
             23.758805568812566,
             37.88505588134991
            ],
            "geometry": {
             "coordinates": [
              [
               [
                23.75729354646831,
                37.88495033006852
               ],
               [
                23.75694825193821,
                37.88427168032837
               ],
               [
                23.757531612906767,
                37.88369858452576
               ],
               [
                23.758460265285677,
                37.88380413490367
               ],
               [
                23.758805568812566,
                37.88448278198764
               ],
               [
                23.75822221096394,
                37.88505588134991
               ],
               [
                23.75729354646831,
                37.88495033006852
               ]
              ]
             ],
             "type": "Polygon"
            },
            "id": "240",
            "properties": {},
            "type": "Feature"
           },
           {
            "bbox": [
             23.76729408950593,
             37.881677064644975,
             23.769151383694975,
             37.88303431542534
            ],
            "geometry": {
             "coordinates": [
              [
               [
                23.767639449894215,
                37.88292884401728
               ],
               [
                23.76729408950593,
                37.882250217297866
               ],
               [
                23.767877373278672,
                37.881677064644975
               ],
               [
                23.768806014314375,
                37.88178253515252
               ],
               [
                23.769151383694975,
                37.88246115921342
               ],
               [
                23.768568103047755,
                37.88303431542534
               ],
               [
                23.767639449894215,
                37.88292884401728
               ]
              ]
             ],
             "type": "Polygon"
            },
            "id": "241",
            "properties": {},
            "type": "Feature"
           },
           {
            "bbox": [
             23.769366325751662,
             37.88574877098497,
             23.77122370346148,
             37.88710597576047
            ],
            "geometry": {
             "coordinates": [
              [
               [
                23.76971171570692,
                37.88700052382991
               ],
               [
                23.769366325751662,
                37.886321920112785
               ],
               [
                23.769949621718546,
                37.88574877098497
               ],
               [
                23.770878304513943,
                37.885854222015666
               ],
               [
                23.77122370346148,
                37.886532823074006
               ],
               [
                23.77064041062153,
                37.88710597576047
               ],
               [
                23.76971171570692,
                37.88700052382991
               ]
              ]
             ],
             "type": "Polygon"
            },
            "id": "242",
            "properties": {},
            "type": "Feature"
           },
           {
            "bbox": [
             23.761876298924197,
             37.87274904087836,
             23.763733408551996,
             37.87410639776583
            ],
            "geometry": {
             "coordinates": [
              [
               [
                23.762221588300907,
                37.8740008767837
               ],
               [
                23.761876298924197,
                37.87332219701109
               ],
               [
                23.76245956142589,
                37.87274904087836
               ],
               [
                23.763388110182536,
                37.87285456095826
               ],
               [
                23.763733408551996,
                37.873533238073115
               ],
               [
                23.763150149172247,
                37.87410639776583
               ],
               [
                23.762221588300907,
                37.8740008767837
               ]
              ]
             ],
             "type": "Polygon"
            },
            "id": "243",
            "properties": {},
            "type": "Feature"
           },
           {
            "bbox": [
             23.768499080833372,
             37.89779821604107,
             23.77035669424106,
             37.899155327000685
            ],
            "geometry": {
             "coordinates": [
              [
               [
                23.76884450874316,
                37.89904987761275
               ],
               [
                23.768499080833372,
                37.89837132080394
               ],
               [
                23.76908245669349,
                37.89779821604107
               ],
               [
                23.77001125733635,
                37.897903664529075
               ],
               [
                23.77035669424106,
                37.89858221867984
               ],
               [
                23.769773321508193,
                37.899155327000685
               ],
               [
                23.76884450874316,
                37.89904987761275
               ]
              ]
             ],
             "type": "Polygon"
            },
            "id": "244",
            "properties": {},
            "type": "Feature"
           },
           {
            "bbox": [
             23.765390451452436,
             37.89169102679156,
             23.767247939545122,
             37.893048206812175
            ],
            "geometry": {
             "coordinates": [
              [
               [
                23.765735835001756,
                37.89294272819816
               ],
               [
                23.765390451452436,
                37.89226413685904
               ],
               [
                23.765973809014444,
                37.89169102679156
               ],
               [
                23.766902547000818,
                37.891796504504654
               ],
               [
                23.767247939545122,
                37.89247509318612
               ],
               [
                23.766664585108245,
                37.893048206812175
               ],
               [
                23.765735835001756,
                37.89294272819816
               ]
              ]
             ],
             "type": "Polygon"
            },
            "id": "245",
            "properties": {},
            "type": "Feature"
           },
           {
            "bbox": [
             23.766327410930554,
             37.864302436201484,
             23.76818436178226,
             37.86565983542501
            ],
            "geometry": {
             "coordinates": [
              [
               [
                23.766672700929217,
                37.86555434292189
               ],
               [
                23.766327410930554,
                37.86487564198059
               ],
               [
                23.766910593424853,
                37.864302436201484
               ],
               [
                23.767839062794188,
                37.86440792780352
               ],
               [
                23.76818436178226,
                37.86508662608572
               ],
               [
                23.767601182411788,
                37.86565983542501
               ],
               [
                23.766672700929217,
                37.86555434292189
               ]
              ]
             ],
             "type": "Polygon"
            },
            "id": "246",
            "properties": {},
            "type": "Feature"
           },
           {
            "bbox": [
             23.757411588623746,
             37.85881261141081,
             23.759268416805696,
             37.86017010960193
            ],
            "geometry": {
             "coordinates": [
              [
               [
                23.757756795437942,
                37.86006454268906
               ],
               [
                23.757411588623746,
                37.859385792264796
               ],
               [
                23.757994792963782,
                37.85881261141081
               ],
               [
                23.758923200999636,
                37.85891817741993
               ],
               [
                23.759268416805696,
                37.859596925186764
               ],
               [
                23.758685215584222,
                37.86017010960193
               ],
               [
                23.757756795437942,
                37.86006454268906
               ]
              ]
             ],
             "type": "Polygon"
            },
            "id": "247",
            "properties": {},
            "type": "Feature"
           },
           {
            "bbox": [
             23.76467648274989,
             37.89544610175759,
             23.76653404356582,
             37.896803255225215
            ],
            "geometry": {
             "coordinates": [
              [
               [
                23.765021874984924,
                37.89669777390814
               ],
               [
                23.76467648274989,
                37.896019195845675
               ],
               [
                23.765259867987233,
                37.89544610175759
               ],
               [
                23.766188642334807,
                37.8955515821736
               ],
               [
                23.76653404356582,
                37.89623015757873
               ],
               [
                23.765950661453452,
                37.896803255225215
               ],
               [
                23.765021874984924,
                37.89669777390814
               ]
              ]
             ],
             "type": "Polygon"
            },
            "id": "248",
            "properties": {},
            "type": "Feature"
           },
           {
            "bbox": [
             23.770793684291004,
             37.87823804933465,
             23.772650916580517,
             37.87959530715764
            ],
            "geometry": {
             "coordinates": [
              [
               [
                23.771139056871853,
                37.87948986062547
               ],
               [
                23.770793684291004,
                37.878811230384265
               ],
               [
                23.771376924923278,
                37.87823804933465
               ],
               [
                23.77230553500938,
                37.878343494967275
               ],
               [
                23.772650916580517,
                37.879022122549046
               ],
               [
                23.77206767907547,
                37.87959530715764
               ],
               [
                23.771139056871853,
                37.87948986062547
               ]
              ]
             ],
             "type": "Polygon"
            },
            "id": "249",
            "properties": {},
            "type": "Feature"
           },
           {
            "bbox": [
             23.768468241739924,
             37.85303483821686,
             23.770324974576493,
             37.85439231681903
            ],
            "geometry": {
             "coordinates": [
              [
               [
                23.768813505695633,
                37.85428683242368
               ],
               [
                23.768468241739924,
                37.853608091792566
               ],
               [
                23.76905134127134,
                37.85303483821686
               ],
               [
                23.769979701634384,
                37.85314032171159
               ],
               [
                23.770324974576493,
                37.85381905968263
               ],
               [
                23.76974187816935,
                37.85439231681903
               ],
               [
                23.768813505695633,
                37.85428683242368
               ]
              ]
             ],
             "type": "Polygon"
            },
            "id": "250",
            "properties": {},
            "type": "Feature"
           },
           {
            "bbox": [
             23.77030207191643,
             37.85835919587523,
             23.77215891244488,
             37.85971661974959
            ],
            "geometry": {
             "coordinates": [
              [
               [
                23.770647368315693,
                37.8596111539123
               ],
               [
                23.77030207191643,
                37.858932440645006
               ],
               [
                23.770885192850763,
                37.85835919587523
               ],
               [
                23.771813607058917,
                37.85846466081252
               ],
               [
                23.77215891244488,
                37.859143371419584
               ],
               [
                23.77157579463618,
                37.85971661974959
               ],
               [
                23.770647368315693,
                37.8596111539123
               ]
              ]
             ],
             "type": "Polygon"
            },
            "id": "251",
            "properties": {},
            "type": "Feature"
           },
           {
            "bbox": [
             23.764255774375595,
             37.860230146672926,
             23.766112641737774,
             37.861587591823564
            ],
            "geometry": {
             "coordinates": [
              [
               [
                23.76460103482122,
                37.861482079861446
               ],
               [
                23.764255774375595,
                37.860803355956726
               ],
               [
                23.764838944677457,
                37.860230146672926
               ],
               [
                23.76576737230271,
                37.86033565773332
               ],
               [
                23.766112641737774,
                37.86101437897921
               ],
               [
                23.765529474558335,
                37.861587591823564
               ],
               [
                23.76460103482122,
                37.861482079861446
               ]
              ]
             ],
             "type": "Polygon"
            },
            "id": "252",
            "properties": {},
            "type": "Feature"
           },
           {
            "bbox": [
             23.758209225770663,
             37.86210077100822,
             23.760066119925842,
             37.86345823742399
            ],
            "geometry": {
             "coordinates": [
              [
               [
                23.75855445025168,
                37.86335267933262
               ],
               [
                23.758209225770663,
                37.862673944796036
               ],
               [
                23.758792445430664,
                37.86210077100822
               ],
               [
                23.75972088645265,
                37.862206328196145
               ],
               [
                23.760066119925842,
                37.8628850600753
               ],
               [
                23.75948290338506,
                37.86345823742399
               ],
               [
                23.75855445025168,
                37.86335267933262
               ]
              ]
             ],
             "type": "Polygon"
            },
            "id": "253",
            "properties": {},
            "type": "Feature"
           },
           {
            "bbox": [
             23.762030320559614,
             37.864453585114134,
             23.763887267296877,
             37.865811009114
            ],
            "geometry": {
             "coordinates": [
              [
               [
                23.762375580693234,
                37.86570548291321
               ],
               [
                23.762030320559614,
                37.8650267695842
               ],
               [
                23.762613530859703,
                37.864453585114134
               ],
               [
                23.76354199817214,
                37.86455911041261
               ],
               [
                23.763887267296877,
                37.86523782108346
               ],
               [
                23.76330406011826,
                37.865811009114
               ],
               [
                23.762375580693234,
                37.86570548291321
               ]
              ]
             ],
             "type": "Polygon"
            },
            "id": "254",
            "properties": {},
            "type": "Feature"
           },
           {
            "bbox": [
             23.759579974529228,
             37.89230970123498,
             23.761437465201602,
             37.89366691136094
            ],
            "geometry": {
             "coordinates": [
              [
               [
                23.759925319197876,
                37.89356138747918
               ],
               [
                23.759579974529228,
                37.89288278108803
               ],
               [
                23.760163372258962,
                37.89230970123498
               ],
               [
                23.76109211153556,
                37.89241522421414
               ],
               [
                23.761437465201602,
                37.8930938279489
               ],
               [
                23.760854070593837,
                37.89366691136094
               ],
               [
                23.759925319197876,
                37.89356138747918
               ]
              ]
             ],
             "type": "Polygon"
            },
            "id": "255",
            "properties": {},
            "type": "Feature"
           },
           {
            "bbox": [
             23.75963711928332,
             37.8545891168853,
             23.761493868111984,
             37.855946636211506
            ],
            "geometry": {
             "coordinates": [
              [
               [
                23.759982326414608,
                37.85584108354011
               ],
               [
                23.75963711928332,
                37.85516232254797
               ],
               [
                23.760220283630908,
                37.8545891168853
               ],
               [
                23.761148651990496,
                37.85469466865354
               ],
               [
                23.761493868111984,
                37.85537342698759
               ],
               [
                23.760910706883877,
                37.855946636211506
               ],
               [
                23.759982326414608,
                37.85584108354011
               ]
              ]
             ],
             "type": "Polygon"
            },
            "id": "256",
            "properties": {},
            "type": "Feature"
           },
           {
            "bbox": [
             23.77008003349213,
             37.88199345399163,
             23.771937338489224,
             37.88335068529582
            ],
            "geometry": {
             "coordinates": [
              [
               [
                23.77042541476009,
                37.883245236064674
               ],
               [
                23.77008003349213,
                37.882566619083036
               ],
               [
                23.770663301790513,
                37.88199345399163
               ],
               [
                23.771591948229986,
                37.882098902323065
               ],
               [
                23.771937338489224,
                37.88277751664559
               ],
               [
                23.771354073317926,
                37.88335068529582
               ],
               [
                23.77042541476009,
                37.883245236064674
               ]
              ]
             ],
             "type": "Polygon"
            },
            "id": "257",
            "properties": {},
            "type": "Feature"
           },
           {
            "bbox": [
             23.757900491277557,
             37.878691504926735,
             23.759757711222544,
             37.88004883710613
            ],
            "geometry": {
             "coordinates": [
              [
               [
                23.758245774237004,
                37.87994328943841
               ],
               [
                23.757900491277557,
                37.879264622020415
               ],
               [
                23.758483815352843,
                37.878691504926735
               ],
               [
                23.759412419267623,
                37.878797051691166
               ],
               [
                23.759757711222544,
                37.87947571645253
               ],
               [
                23.75917439026739,
                37.88004883710613
               ],
               [
                23.758245774237004,
                37.87994328943841
               ]
              ]
             ],
             "type": "Polygon"
            },
            "id": "258",
            "properties": {},
            "type": "Feature"
           },
           {
            "bbox": [
             23.77070907669055,
             37.871194738332825,
             23.77256617029755,
             37.87255205448366
            ],
            "geometry": {
             "coordinates": [
              [
               [
                23.771054422908744,
                37.87244660181333
               ],
               [
                23.77070907669055,
                37.87176794240806
               ],
               [
                23.77129227434462,
                37.871194738332825
               ],
               [
                23.77222081509038,
                37.87130019010347
               ],
               [
                23.77256617029755,
                37.871978846849004
               ],
               [
                23.77198297577019,
                37.87255205448366
               ],
               [
                23.771054422908744,
                37.87244660181333
               ]
              ]
             ],
             "type": "Polygon"
            },
            "id": "259",
            "properties": {},
            "type": "Feature"
           },
           {
            "bbox": [
             23.76459231596816,
             37.888403503568426,
             23.766449738051918,
             37.88976071544776
            ],
            "geometry": {
             "coordinates": [
              [
               [
                23.764937681837264,
                37.889655227995476
               ],
               [
                23.76459231596816,
                37.888976620727
               ],
               [
                23.76517565820574,
                37.888403503568426
               ],
               [
                23.76610436318814,
                37.888508990119504
               ],
               [
                23.766449738051918,
                37.889187594730345
               ],
               [
                23.765866398938815,
                37.88976071544776
               ],
               [
                23.764937681837264,
                37.889655227995476
               ]
              ]
             ],
             "type": "Polygon"
            },
            "id": "260",
            "properties": {},
            "type": "Feature"
           },
           {
            "bbox": [
             23.761960249196953,
             37.87979230266758,
             23.7638174975105,
             37.881149601229964
            ],
            "geometry": {
             "coordinates": [
              [
               [
                23.76230556492802,
                37.88104408637194
               ],
               [
                23.761960249196953,
                37.88036543576204
               ],
               [
                23.762543554686758,
                37.87979230266758
               ],
               [
                23.763472172785367,
                37.87989781662351
               ],
               [
                23.7638174975105,
                37.88057646457597
               ],
               [
                23.76323419514314,
                37.881149601229964
               ],
               [
                23.76230556492802,
                37.88104408637194
               ]
              ]
             ],
             "type": "Polygon"
            },
            "id": "261",
            "properties": {},
            "type": "Feature"
           },
           {
            "bbox": [
             23.769350698960356,
             37.86336696969554,
             23.77120763639197,
             37.86472435828128
            ],
            "geometry": {
             "coordinates": [
              [
               [
                23.76969600693713,
                37.86461888884349
               ],
               [
                23.769350698960356,
                37.863940193220735
               ],
               [
                23.769933856767995,
                37.86336696969554
               ],
               [
                23.770862319427177,
                37.86347243823314
               ],
               [
                23.77120763639197,
                37.864151131196095
               ],
               [
                23.770624481709767,
                37.86472435828128
               ],
               [
                23.76969600693713,
                37.86461888884349
               ]
              ]
             ],
             "type": "Polygon"
            },
            "id": "262",
            "properties": {},
            "type": "Feature"
           },
           {
            "bbox": [
             23.771507278154886,
             37.87448255704498,
             23.773364437741932,
             37.87583984137693
            ],
            "geometry": {
             "coordinates": [
              [
               [
                23.771852642048817,
                37.875734397543255
               ],
               [
                23.771507278154886,
                37.87505575404742
               ],
               [
                23.772090491123425,
                37.87448255704498
               ],
               [
                23.773019064858723,
                37.874587999979255
               ],
               [
                23.773364437741932,
                37.875266640815326
               ],
               [
                23.772781227900754,
                37.87583984137693
               ],
               [
                23.771852642048817,
                37.875734397543255
               ]
              ]
             ],
             "type": "Polygon"
            },
            "id": "263",
            "properties": {},
            "type": "Feature"
           },
           {
            "bbox": [
             23.76466196607226,
             37.87306557894884,
             23.766519086523104,
             37.87442291637199
            ],
            "geometry": {
             "coordinates": [
              [
               [
                23.765007276327683,
                37.87431741756005
               ],
               [
                23.76466196607226,
                37.873638747519315
               ],
               [
                23.76524521310805,
                37.87306557894884
               ],
               [
                23.766173767275955,
                37.87317107685938
               ],
               [
                23.766519086523104,
                37.87384974424177
               ],
               [
                23.765935842610816,
                37.87442291637199
               ],
               [
                23.765007276327683,
                37.87431741756005
               ]
              ]
             ],
             "type": "Polygon"
            },
            "id": "264",
            "properties": {},
            "type": "Feature"
           },
           {
            "bbox": [
             23.767462826679242,
             37.895762520820675,
             23.769320398314605,
             37.89711965480483
            ],
            "geometry": {
             "coordinates": [
              [
               [
                23.767808239801486,
                37.89701419567363
               ],
               [
                23.767462826679242,
                37.8963356273526
               ],
               [
                23.76804619644038,
                37.895762520820675
               ],
               [
                23.768974976197423,
                37.89586797905163
               ],
               [
                23.769320398314605,
                37.89654654471474
               ],
               [
                23.768737031680008,
                37.89711965480483
               ],
               [
                23.767808239801486,
                37.89701419567363
               ]
              ]
             ],
             "type": "Polygon"
            },
            "id": "265",
            "properties": {},
            "type": "Feature"
           },
           {
            "bbox": [
             23.7612325314487,
             37.86116549965198,
             23.76308941221247,
             37.862522955436575
            ],
            "geometry": {
             "coordinates": [
              [
               [
                23.76157777391339,
                37.86241742041038
               ],
               [
                23.7612325314487,
                37.86173869118903
               ],
               [
                23.76181572643081,
                37.86116549965198
               ],
               [
                23.762744160756974,
                37.86127103377558
               ],
               [
                23.76308941221247,
                37.861949760338796
               ],
               [
                23.762506220351185,
                37.862522955436575
               ],
               [
                23.76157777391339,
                37.86241742041038
               ]
              ]
             ],
             "type": "Polygon"
            },
            "id": "266",
            "properties": {},
            "type": "Feature"
           },
           {
            "bbox": [
             23.760924331566667,
             37.87775632608733,
             23.762781538116617,
             37.87911364763883
            ],
            "geometry": {
             "coordinates": [
              [
               [
                23.761269632516363,
                37.87900812304728
               ],
               [
                23.760924331566667,
                37.87832946094287
               ],
               [
                23.76150763095568,
                37.87775632608733
               ],
               [
                23.762436228172827,
                37.87786184977645
               ],
               [
                23.762781538116617,
                37.87854050922352
               ],
               [
                23.76219824184935,
                37.87911364763883
               ],
               [
                23.761269632516363,
                37.87900812304728
               ]
              ]
             ],
             "type": "Polygon"
            },
            "id": "267",
            "properties": {},
            "type": "Feature"
           },
           {
            "bbox": [
             23.76529157048847,
             37.86226630865881,
             23.76714847959509,
             37.863623730848005
            ],
            "geometry": {
             "coordinates": [
              [
               [
                23.765636845710254,
                37.863518228614765
               ],
               [
                23.76529157048847,
                37.86283951619069
               ],
               [
                23.765874746886755,
                37.86226630865881
               ],
               [
                23.76680319538388,
                37.86237180999066
               ],
               [
                23.76714847959509,
                37.86305051975576
               ],
               [
                23.766565306319926,
                37.863623730848005
               ],
               [
                23.765636845710254,
                37.863518228614765
               ]
              ]
             ],
             "type": "Polygon"
            },
            "id": "268",
            "properties": {},
            "type": "Feature"
           },
           {
            "bbox": [
             23.770164603854656,
             37.889036311973165,
             23.772022047565915,
             37.89039348489287
            ],
            "geometry": {
             "coordinates": [
              [
               [
                23.770510011490664,
                37.89028804180336
               ],
               [
                23.770164603854656,
                37.88960945401412
               ],
               [
                23.770747915141683,
                37.889036311973165
               ],
               [
                23.771676630937314,
                37.88914175416309
               ],
               [
                23.772022047565915,
                37.88982033929353
               ],
               [
                23.771438739406477,
                37.89039348489287
               ],
               [
                23.770510011490664,
                37.89028804180336
               ]
              ]
             ],
             "type": "Polygon"
            },
            "id": "269",
            "properties": {},
            "type": "Feature"
           },
           {
            "bbox": [
             23.76671890003017,
             37.854754584766525,
             23.76857566379645,
             37.85611205987282
            ],
            "geometry": {
             "coordinates": [
              [
               [
                23.767064157892033,
                37.85600656304718
               ],
               [
                23.76671890003017,
                37.85532782416424
               ],
               [
                23.767302021119352,
                37.854754584766525
               ],
               [
                23.768230396947168,
                37.854860080691054
               ],
               [
                23.76857566379645,
                37.85553881691438
               ],
               [
                23.767992545830683,
                37.85611205987282
               ],
               [
                23.767064157892033,
                37.85600656304718
               ]
              ]
             ],
             "type": "Polygon"
            },
            "id": "270",
            "properties": {},
            "type": "Feature"
           },
           {
            "bbox": [
             23.75735355193524,
             37.896532257347644,
             23.759211122024173,
             37.89788944623306
            ],
            "geometry": {
             "coordinates": [
              [
               [
                23.757698896286467,
                37.89778390809905
               ],
               [
                23.75735355193524,
                37.89710531232851
               ],
               [
                23.75793698968935,
                37.896532257347644
               ],
               [
                23.75886576867387,
                37.89663779457846
               ],
               [
                23.759211122024173,
                37.89731638769331
               ],
               [
                23.758627687391083,
                37.89788944623306
               ],
               [
                23.757698896286467,
                37.89778390809905
               ]
              ]
             ],
             "type": "Polygon"
            },
            "id": "271",
            "properties": {},
            "type": "Feature"
           },
           {
            "bbox": [
             23.764508161742675,
             37.88136060877119,
             23.766365445114985,
             37.882717879024696
            ],
            "geometry": {
             "coordinates": [
              [
               [
                23.764853501249885,
                37.8826123854403
               ],
               [
                23.764508161742675,
                37.88193374898458
               ],
               [
                23.765091460986827,
                37.88136060877119
               ],
               [
                23.766020096614415,
                37.88146610145425
               ],
               [
                23.766365445114985,
                37.88214473525203
               ],
               [
                23.765782148994795,
                37.882717879024696
               ],
               [
                23.764853501249885,
                37.8826123854403
               ]
              ]
             ],
             "type": "Polygon"
            },
            "id": "272",
            "properties": {},
            "type": "Feature"
           },
           {
            "bbox": [
             23.758543970093637,
             37.890273857284654,
             23.760401418988714,
             37.89163109041949
            ],
            "geometry": {
             "coordinates": [
              [
               [
                23.758889299977195,
                37.89152555680089
               ],
               [
                23.758543970093637,
                37.890846938905376
               ],
               [
                23.759127361719443,
                37.890273857284654
               ],
               [
                23.760056080107734,
                37.89037939000032
               ],
               [
                23.760401418988714,
                37.8910580052396
               ],
               [
                23.75981803048416,
                37.89163109041949
               ],
               [
                23.758889299977195,
                37.89152555680089
               ]
              ]
             ],
             "type": "Polygon"
            },
            "id": "273",
            "properties": {},
            "type": "Feature"
           },
           {
            "bbox": [
             23.766258037906038,
             37.87964115972902,
             23.768115290335697,
             37.88099843350549
            ],
            "geometry": {
             "coordinates": [
              [
               [
                23.76660338351192,
                37.880892952360554
               ],
               [
                23.766258037906038,
                37.88021431414314
               ],
               [
                23.766841315581125,
                37.87964115972902
               ],
               [
                23.76776993573747,
                37.879746639973106
               ],
               [
                23.768115290335697,
                37.88042527553213
               ],
               [
                23.767532015785424,
                37.88099843350549
               ],
               [
                23.76660338351192,
                37.880892952360554
               ]
              ]
             ],
             "type": "Polygon"
            },
            "id": "274",
            "properties": {},
            "type": "Feature"
           },
           {
            "bbox": [
             23.757115449305893,
             37.89778390809905,
             23.758973043635315,
             37.89914108813129
            ],
            "geometry": {
             "coordinates": [
              [
               [
                23.757460796550717,
                37.89903554909406
               ],
               [
                23.757115449305893,
                37.89835695775015
               ],
               [
                23.757698896286467,
                37.89778390809905
               ],
               [
                23.758627687391083,
                37.89788944623306
               ],
               [
                23.758973043635315,
                37.89856803492136
               ],
               [
                23.758389599775715,
                37.89914108813129
               ],
               [
                23.757460796550717,
                37.89903554909406
               ]
              ]
             ],
             "type": "Polygon"
            },
            "id": "275",
            "properties": {},
            "type": "Feature"
           },
           {
            "bbox": [
             23.76267420816764,
             37.87603689312086,
             23.76453138378461,
             37.877394218192784
            ],
            "geometry": {
             "coordinates": [
              [
               [
                23.76301951521782,
                37.87728870604091
               ],
               [
                23.76267420816764,
                37.876610042176075
               ],
               [
                23.763257485990618,
                37.87603689312086
               ],
               [
                23.764186067741374,
                37.8761424043708
               ],
               [
                23.76453138378461,
                37.876821065577865
               ],
               [
                23.763948109084236,
                37.877394218192784
               ],
               [
                23.76301951521782,
                37.87728870604091
               ]
              ]
             ],
             "type": "Polygon"
            },
            "id": "276",
            "properties": {},
            "type": "Feature"
           },
           {
            "bbox": [
             23.761246233263876,
             37.88354762455693,
             23.763103554279102,
             37.88490489659988
            ],
            "geometry": {
             "coordinates": [
              [
               [
                23.761591557676002,
                37.88479937903526
               ],
               [
                23.761246233263876,
                37.88412074168524
               ],
               [
                23.761829566422886,
                37.88354762455693
               ],
               [
                23.762758220871905,
                37.88365314121929
               ],
               [
                23.763103554279102,
                37.88433177591219
               ],
               [
                23.7625202242424,
                37.88490489659988
               ],
               [
                23.761591557676002,
                37.88479937903526
               ]
              ]
             ],
             "type": "Polygon"
            },
            "id": "277",
            "properties": {},
            "type": "Feature"
           },
           {
            "bbox": [
             23.767685552781476,
             37.87213019946281,
             23.769542659815492,
             37.87348752625121
            ],
            "geometry": {
             "coordinates": [
              [
               [
                23.768030881019662,
                37.87338205051062
               ],
               [
                23.767685552781476,
                37.87270338578693
               ],
               [
                23.768268775127574,
                37.87213019946281
               ],
               [
                23.769197322586958,
                37.87223567430285
               ],
               [
                23.769542659815492,
                37.87291433636751
               ],
               [
                23.76895944059449,
                37.87348752625121
               ],
               [
                23.768030881019662,
                37.87338205051062
               ]
              ]
             ],
             "type": "Polygon"
            },
            "id": "278",
            "properties": {},
            "type": "Feature"
           },
           {
            "bbox": [
             23.759496190649063,
             37.885266961735894,
             23.76135354259926,
             37.88662423025054
            ],
            "geometry": {
             "coordinates": [
              [
               [
                23.75984150895882,
                37.886518700243364
               ],
               [
                23.759496190649063,
                37.88584006465771
               ],
               [
                23.760079545376975,
                37.885266961735894
               ],
               [
                23.7610082152934,
                37.885372490840325
               ],
               [
                23.76135354259926,
                37.8860511237693
               ],
               [
                23.760770190992798,
                37.88662423025054
               ],
               [
                23.75984150895882,
                37.886518700243364
               ]
              ]
             ],
             "type": "Polygon"
            },
            "id": "279",
            "properties": {},
            "type": "Feature"
           },
           {
            "bbox": [
             23.768176686296144,
             37.89200743774836,
             23.770034185205162,
             37.89336459828749
            ],
            "geometry": {
             "coordinates": [
              [
               [
                23.768522090730624,
                37.8932591418569
               ],
               [
                23.768176686296144,
                37.89258056025824
               ],
               [
                23.768760028382463,
                37.89200743774836
               ],
               [
                23.76968877177675,
                37.89211289327884
               ],
               [
                23.770034185205162,
                37.89279147221927
               ],
               [
                23.76945084624554,
                37.89336459828749
               ],
               [
                23.768522090730624,
                37.8932591418569
               ]
              ]
             ],
             "type": "Polygon"
            },
            "id": "280",
            "properties": {},
            "type": "Feature"
           },
           {
            "bbox": [
             23.761330146146232,
             37.890590433251,
             23.763187605878844,
             37.89194764691222
            ],
            "geometry": {
             "coordinates": [
              [
               [
                23.761675496918095,
                37.891842135475216
               ],
               [
                23.761330146146232,
                37.8911635273162
               ],
               [
                23.761913522303807,
                37.890590433251
               ],
               [
                23.762842246110605,
                37.89069594378589
               ],
               [
                23.763187605878844,
                37.89137454928807
               ],
               [
                23.7626042328441,
                37.89194764691222
               ],
               [
                23.761675496918095,
                37.891842135475216
               ]
              ]
             ],
             "type": "Polygon"
            },
            "id": "281",
            "properties": {},
            "type": "Feature"
           },
           {
            "bbox": [
             23.766005263721834,
             37.858510490453625,
             23.767862100155735,
             37.85986793910631
            ],
            "geometry": {
             "coordinates": [
              [
               [
                23.766350530263573,
                37.859762439577096
               ],
               [
                23.766005263721834,
                37.859083713921116
               ],
               [
                23.766588412464387,
                37.858510490453625
               ],
               [
                23.76751682462558,
                37.85861598908159
               ],
               [
                23.767862100155735,
                37.859294712078274
               ],
               [
                23.767278954536458,
                37.85986793910631
               ],
               [
                23.766350530263573,
                37.859762439577096
               ]
              ]
             ],
             "type": "Polygon"
            },
            "id": "282",
            "properties": {},
            "type": "Feature"
           },
           {
            "bbox": [
             23.759090648021576,
             37.87243243630088,
             23.760947746817635,
             37.87378981264966
            ],
            "geometry": {
             "coordinates": [
              [
               [
                23.759435916518157,
                37.87368426949789
               ],
               [
                23.759090648021576,
                37.87300557999494
               ],
               [
                23.759673925986206,
                37.87243243630088
               ],
               [
                23.760602469327246,
                37.8725379785496
               ],
               [
                23.760947746817635,
                37.87321666539539
               ],
               [
                23.76036447197338,
                37.87378981264966
               ],
               [
                23.759435916518157,
                37.87368426949789
               ]
              ]
             ],
             "type": "Polygon"
            },
            "id": "283",
            "properties": {},
            "type": "Feature"
           },
           {
            "bbox": [
             23.770064238163425,
             37.8596111539123,
             23.77192110291682,
             37.86096856896616
            ],
            "geometry": {
             "coordinates": [
              [
               [
                23.770409537457038,
                37.860863102228805
               ],
               [
                23.770064238163425,
                37.86018439337184
               ],
               [
                23.770647368315693,
                37.8596111539123
               ],
               [
                23.77157579463618,
                37.85971661974959
               ],
               [
                23.77192110291682,
                37.860395325946456
               ],
               [
                23.771337975890134,
                37.86096856896616
               ],
               [
                23.770409537457038,
                37.860863102228805
               ]
              ]
             ],
             "type": "Polygon"
            },
            "id": "284",
            "properties": {},
            "type": "Feature"
           },
           {
            "bbox": [
             23.75956666641385,
             37.869928740707095,
             23.76142371675432,
             37.87128613471596
            ],
            "geometry": {
             "coordinates": [
              [
               [
                23.759911929125433,
                37.871180593370234
               ],
               [
                23.75956666641385,
                37.870501895037116
               ],
               [
                23.760149925936076,
                37.869928740707095
               ],
               [
                23.761078445049588,
                37.87003428114989
               ],
               [
                23.76142371675432,
                37.870712976825615
               ],
               [
                23.76084046035257,
                37.87128613471596
               ],
               [
                23.759911929125433,
                37.871180593370234
               ]
              ]
             ],
             "type": "Polygon"
            },
            "id": "285",
            "properties": {},
            "type": "Feature"
           },
           {
            "bbox": [
             23.757173581878835,
             37.86006454268906,
             23.759030434281918,
             37.86142203206101
            ],
            "geometry": {
             "coordinates": [
              [
               [
                23.757518791584324,
                37.861316464244354
               ],
               [
                23.757173581878835,
                37.86063771822973
               ],
               [
                23.757756795437942,
                37.86006454268906
               ],
               [
                23.758685215584222,
                37.86017010960193
               ],
               [
                23.759030434281918,
                37.86084885295923
               ],
               [
                23.75844722384132,
                37.86142203206101
               ],
               [
                23.757518791584324,
                37.861316464244354
               ]
              ]
             ],
             "type": "Polygon"
            },
            "id": "286",
            "properties": {},
            "type": "Feature"
           },
           {
            "bbox": [
             23.759804666116963,
             37.86867687831263,
             23.76166169223048,
             37.87003428114989
            ],
            "geometry": {
             "coordinates": [
              [
               [
                23.760149925936076,
                37.869928740707095
               ],
               [
                23.759804666116963,
                37.86925003795973
               ],
               [
                23.76038791641837,
                37.86867687831263
               ],
               [
                23.76131642341857,
                37.86878241785252
               ],
               [
                23.76166169223048,
                37.86946111794239
               ],
               [
                23.761078445049588,
                37.87003428114989
               ],
               [
                23.760149925936076,
                37.869928740707095
               ]
              ]
             ],
             "type": "Polygon"
            },
            "id": "287",
            "properties": {},
            "type": "Feature"
           },
           {
            "bbox": [
             23.76354199817214,
             37.86398591706785,
             23.76539893820805,
             37.865343335751064
            ],
            "geometry": {
             "coordinates": [
              [
               [
                23.763887267296877,
                37.86523782108346
               ],
               [
                23.76354199817214,
                37.86455911041261
               ],
               [
                23.764125196131175,
                37.86398591706785
               ],
               [
                23.76505366009287,
                37.864091430833575
               ],
               [
                23.76539893820805,
                37.86477013884591
               ],
               [
                23.76481574337129,
                37.865343335751064
               ],
               [
                23.763887267296877,
                37.86523782108346
               ]
              ]
             ],
             "type": "Polygon"
            },
            "id": "288",
            "properties": {},
            "type": "Feature"
           },
           {
            "bbox": [
             23.76362606486512,
             37.87102954408946,
             23.76548314356129,
             37.872386904492096
            ],
            "geometry": {
             "coordinates": [
              [
               [
                23.763971360341063,
                37.87228139594772
               ],
               [
                23.76362606486512,
                37.871602714417286
               ],
               [
                23.76420930580269,
                37.87102954408946
               ],
               [
                23.765137839093605,
                37.871135051732125
               ],
               [
                23.76548314356129,
                37.871813730604316
               ],
               [
                23.764899905746503,
                37.872386904492096
               ],
               [
                23.763971360341063,
                37.87228139594772
               ]
              ]
             ],
             "type": "Polygon"
            },
            "id": "289",
            "properties": {},
            "type": "Feature"
           },
           {
            "bbox": [
             23.759258145006836,
             37.886518700243364,
             23.761115521192398,
             37.8878759599147
            ],
            "geometry": {
             "coordinates": [
              [
               [
                23.759603466210013,
                37.88777042900475
               ],
               [
                23.759258145006836,
                37.88709179784081
               ],
               [
                23.75984150895882,
                37.886518700243364
               ],
               [
                23.760770190992798,
                37.88662423025054
               ],
               [
                23.761115521192398,
                37.887302858757906
               ],
               [
                23.76053216036181,
                37.8878759599147
               ],
               [
                23.759603466210013,
                37.88777042900475
               ]
              ]
             ],
             "type": "Polygon"
            },
            "id": "290",
            "properties": {},
            "type": "Feature"
           },
           {
            "bbox": [
             23.758601527436163,
             37.85255280921529,
             23.76045823452096,
             37.85391035148581
            ],
            "geometry": {
             "coordinates": [
              [
               [
                23.758946719794178,
                37.85380478909113
               ],
               [
                23.758601527436163,
                37.85312601662689
               ],
               [
                23.75918468568476,
                37.85255280921529
               ],
               [
                23.760113033172747,
                37.852658370706486
               ],
               [
                23.76045823452096,
                37.85333714051275
               ],
               [
                23.75987507939117,
                37.85391035148581
               ],
               [
                23.758946719794178,
                37.85380478909113
               ]
              ]
             ],
             "type": "Polygon"
            },
            "id": "291",
            "properties": {},
            "type": "Feature"
           },
           {
            "bbox": [
             23.757829738195525,
             37.894028926580205,
             23.759687259805215,
             37.895386133168664
            ],
            "geometry": {
             "coordinates": [
              [
               [
                23.758175076759628,
                37.89528059684098
               ],
               [
                23.757829738195525,
                37.894601992218796
               ],
               [
                23.758413157497525,
                37.894028926580205
               ],
               [
                23.759341912242704,
                37.89413446200481
               ],
               [
                23.759687259805215,
                37.89481306397107
               ],
               [
                23.75910384362432,
                37.895386133168664
               ],
               [
                23.758175076759628,
                37.89528059684098
               ]
              ]
             ],
             "type": "Polygon"
            },
            "id": "292",
            "properties": {},
            "type": "Feature"
           },
           {
            "bbox": [
             23.769043919253843,
             37.8799575782868,
             23.770901182494345,
             37.88131483258959
            ],
            "geometry": {
             "coordinates": [
              [
               [
                23.769389285739077,
                37.88120937362007
               ],
               [
                23.769043919253843,
                37.88053074513919
               ],
               [
                23.769627181456293,
                37.8799575782868
               ],
               [
                23.77055580701781,
                37.880063036356276
               ],
               [
                23.770901182494345,
                37.88074166217818
               ],
               [
                23.770317923418265,
                37.88131483258959
               ],
               [
                23.769389285739077,
                37.88120937362007
               ]
              ]
             ],
             "type": "Polygon"
            },
            "id": "293",
            "properties": {},
            "type": "Feature"
           },
           {
            "bbox": [
             23.762926283886546,
             37.89716536980801,
             23.764783875652242,
             37.89852251973654
            ],
            "geometry": {
             "coordinates": [
              [
               [
                23.763271670019847,
                37.89841702597443
               ],
               [
                23.762926283886546,
                37.89773844968174
               ],
               [
                23.763509690699557,
                37.89716536980801
               ],
               [
                23.76443848052194,
                37.89727086266856
               ],
               [
                23.764783875652242,
                37.89794943630438
               ],
               [
                23.76420047196336,
                37.89852251973654
               ],
               [
                23.763271670019847,
                37.89841702597443
               ]
              ]
             ],
             "type": "Polygon"
            },
            "id": "294",
            "properties": {},
            "type": "Feature"
           },
           {
            "bbox": [
             23.762912181834032,
             37.874785070464554,
             23.76476933321995,
             37.8761424043708
            ],
            "geometry": {
             "coordinates": [
              [
               [
                23.763257485990618,
                37.87603689312086
               ],
               [
                23.762912181834032,
                37.875358224838806
               ],
               [
                23.76349545043526,
                37.874785070464554
               ],
               [
                23.76442402007063,
                37.8748905808126
               ],
               [
                23.76476933321995,
                37.87556924643676
               ],
               [
                23.764186067741374,
                37.8761424043708
               ],
               [
                23.763257485990618,
                37.87603689312086
               ]
              ]
             ],
             "type": "Polygon"
            },
            "id": "295",
            "properties": {},
            "type": "Feature"
           },
           {
            "bbox": [
             23.768637102836053,
             37.867122697962756,
             23.770494112951013,
             37.868480060070496
            ],
            "geometry": {
             "coordinates": [
              [
               [
                23.768982419496172,
                37.86837458793181
               ],
               [
                23.768637102836053,
                37.867695905548224
               ],
               [
                23.769220288301458,
                37.867122697962756
               ],
               [
                23.770148787301874,
                37.867228169201105
               ],
               [
                23.770494112951013,
                37.86790684892522
               ],
               [
                23.7699109306109,
                37.868480060070496
               ],
               [
                23.768982419496172,
                37.86837458793181
               ]
              ]
             ],
             "type": "Polygon"
            },
            "id": "296",
            "properties": {},
            "type": "Feature"
           },
           {
            "bbox": [
             23.764354330375422,
             37.889655227995476,
             23.766211776697748,
             37.89101243102799
            ],
            "geometry": {
             "coordinates": [
              [
               [
                23.764699699139356,
                37.89090694267445
               ],
               [
                23.764354330375422,
                37.89022833982944
               ],
               [
                23.764937681837264,
                37.889655227995476
               ],
               [
                23.765866398938815,
                37.88976071544776
               ],
               [
                23.766211776697748,
                37.89043931563525
               ],
               [
                23.765628428360326,
                37.89101243102799
               ],
               [
                23.764699699139356,
                37.89090694267445
               ]
              ]
             ],
             "type": "Polygon"
            },
            "id": "297",
            "properties": {},
            "type": "Feature"
           },
           {
            "bbox": [
             23.770471216034267,
             37.87244660181333,
             23.77232833387293,
             37.87380390913202
            ],
            "geometry": {
             "coordinates": [
              [
               [
                23.7708165651477,
                37.87369845556197
               ],
               [
                23.770471216034267,
                37.87301980057283
               ],
               [
                23.771054422908744,
                37.87244660181333
               ],
               [
                23.77198297577019,
                37.87255205448366
               ],
               [
                23.77232833387293,
                37.87323070681318
               ],
               [
                23.771745130125108,
                37.87380390913202
               ],
               [
                23.7708165651477,
                37.87369845556197
               ]
              ]
             ],
             "type": "Polygon"
            },
            "id": "298",
            "properties": {},
            "type": "Feature"
           },
           {
            "bbox": [
             23.768414626843864,
             37.89075572389025,
             23.77027210151191,
             37.89211289327884
            ],
            "geometry": {
             "coordinates": [
              [
               [
                23.768760028382463,
                37.89200743774836
               ],
               [
                23.768414626843864,
                37.8913288517249
               ],
               [
                23.768997959705757,
                37.89075572389025
               ],
               [
                23.769926690979712,
                37.89086117852067
               ],
               [
                23.77027210151191,
                37.89153976188578
               ],
               [
                23.76968877177675,
                37.89211289327884
               ],
               [
                23.768760028382463,
                37.89200743774836
               ]
              ]
             ],
             "type": "Polygon"
            },
            "id": "299",
            "properties": {},
            "type": "Feature"
           },
           {
            "bbox": [
             23.767923449783947,
             37.870878338682985,
             23.76978053258734,
             37.87223567430285
            ],
            "geometry": {
             "coordinates": [
              [
               [
                23.768268775127574,
                37.87213019946281
               ],
               [
                23.767923449783947,
                37.871451530323334
               ],
               [
                23.768506662909477,
                37.870878338682985
               ],
               [
                23.769435198253685,
                37.87098381262252
               ],
               [
                23.76978053258734,
                37.871662479102866
               ],
               [
                23.769197322586958,
                37.87223567430285
               ],
               [
                23.768268775127574,
                37.87213019946281
               ]
              ]
             ],
             "type": "Polygon"
            },
            "id": "300",
            "properties": {},
            "type": "Feature"
           },
           {
            "bbox": [
             23.770777720451864,
             37.855855250644,
             23.772634512532136,
             37.8572126921561
            ],
            "geometry": {
             "coordinates": [
              [
               [
                23.771123011062496,
                37.85710722811875
               ],
               [
                23.770777720451864,
                37.85642850603247
               ],
               [
                23.771360822951127,
                37.855855250644
               ],
               [
                23.77228921293548,
                37.85596071378145
               ],
               [
                23.772634512532136,
                37.85663943320727
               ],
               [
                23.7720514131586,
                37.8572126921561
               ],
               [
                23.771123011062496,
                37.85710722811875
               ]
              ]
             ],
             "type": "Polygon"
            },
            "id": "301",
            "properties": {},
            "type": "Feature"
           },
           {
            "bbox": [
             23.75788758313041,
             37.85630871969,
             23.759744362871807,
             37.85766623551618
            ],
            "geometry": {
             "coordinates": [
              [
               [
                23.758232784162075,
                37.85756067041073
               ],
               [
                23.75788758313041,
                37.85688191116884
               ],
               [
                23.758470769033075,
                37.85630871969
               ],
               [
                23.75939915284894,
                37.85641428389181
               ],
               [
                23.759744362871807,
                37.85709304047606
               ],
               [
                23.759161180087787,
                37.85766623551618
               ],
               [
                23.758232784162075,
                37.85756067041073
               ]
              ]
             ],
             "type": "Polygon"
            },
            "id": "302",
            "properties": {},
            "type": "Feature"
           },
           {
            "bbox": [
             23.760210289592624,
             37.88151168774838,
             23.762067568840138,
             37.88286898278639
            ],
            "geometry": {
             "coordinates": [
              [
               [
                23.76055559922227,
                37.88276345548724
               ],
               [
                23.760210289592624,
                37.88208480663976
               ],
               [
                23.760793616649895,
                37.88151168774838
               ],
               [
                23.76172225021541,
                37.88161721414493
               ],
               [
                23.762067568840138,
                37.882295860335425
               ],
               [
                23.761484244904466,
                37.88286898278639
               ],
               [
                23.76055559922227,
                37.88276345548724
               ]
              ]
             ],
             "type": "Polygon"
            },
            "id": "303",
            "properties": {},
            "type": "Feature"
           },
           {
            "bbox": [
             23.7643398909492,
             37.86727393012921,
             23.76619689696072,
             37.868631317018384
            ],
            "geometry": {
             "coordinates": [
              [
               [
                23.76468517774467,
                37.86852581117906
               ],
               [
                23.7643398909492,
                37.867847116405216
               ],
               [
                23.764923104225492,
                37.86727393012921
               ],
               [
                23.76585160117451,
                37.86737943506693
               ],
               [
                23.76619689696072,
                37.86805812718223
               ],
               [
                23.76561368680736,
                37.868631317018384
               ],
               [
                23.76468517774467,
                37.86852581117906
               ]
              ]
             ],
             "type": "Polygon"
            },
            "id": "304",
            "properties": {},
            "type": "Feature"
           },
           {
            "bbox": [
             23.765712674242035,
             37.89748182620381,
             23.76757027683308,
             37.89883895664938
            ],
            "geometry": {
             "coordinates": [
              [
               [
                23.766058081264287,
                37.898733485074075
               ],
               [
                23.765712674242035,
                37.89805491852258
               ],
               [
                23.766296065580082,
                37.89748182620381
               ],
               [
                23.76722486081487,
                37.89758729687838
               ],
               [
                23.76757027683308,
                37.89826586077241
               ],
               [
                23.766986888620725,
                37.89883895664938
               ],
               [
                23.766058081264287,
                37.898733485074075
               ]
              ]
             ],
             "type": "Polygon"
            },
            "id": "305",
            "properties": {},
            "type": "Feature"
           },
           {
            "bbox": [
             23.76163831657778,
             37.8740008767837,
             23.76349545043526,
             37.875358224838806
            ],
            "geometry": {
             "coordinates": [
              [
               [
                23.76198360884771,
                37.87525270295439
               ],
               [
                23.76163831657778,
                37.87457402759802
               ],
               [
                23.762221588300907,
                37.8740008767837
               ],
               [
                23.763150149172247,
                37.87410639776583
               ],
               [
                23.76349545043526,
                37.874785070464554
               ],
               [
                23.762912181834032,
                37.875358224838806
               ],
               [
                23.76198360884771,
                37.87525270295439
               ]
              ]
             ],
             "type": "Polygon"
            },
            "id": "306",
            "properties": {},
            "type": "Feature"
           },
           {
            "bbox": [
             23.75685200958297,
             37.85427241726791,
             23.75870874757703,
             37.855629956040104
            ],
            "geometry": {
             "coordinates": [
              [
               [
                23.75719719584094,
                37.85552438121163
               ],
               [
                23.75685200958297,
                37.8548456104968
               ],
               [
                23.75743518938528,
                37.85427241726791
               ],
               [
                23.75836355232783,
                37.854377991192415
               ],
               [
                23.75870874757703,
                37.85505675924975
               ],
               [
                23.758125570892663,
                37.855629956040104
               ],
               [
                23.75719719584094,
                37.85552438121163
               ]
              ]
             ],
             "type": "Polygon"
            },
            "id": "307",
            "properties": {},
            "type": "Feature"
           },
           {
            "bbox": [
             23.761484244904466,
             37.882295860335425,
             23.763341541685236,
             37.88365314121929
            ],
            "geometry": {
             "coordinates": [
              [
               [
                23.761829566422886,
                37.88354762455693
               ],
               [
                23.761484244904466,
                37.88286898278639
               ],
               [
                23.762067568840138,
                37.882295860335425
               ],
               [
                23.762996211172073,
                37.8824013760956
               ],
               [
                23.763341541685236,
                37.88308001520889
               ],
               [
                23.762758220871905,
                37.88365314121929
               ],
               [
                23.761829566422886,
                37.88354762455693
               ]
              ]
             ],
             "type": "Polygon"
            },
            "id": "308",
            "properties": {},
            "type": "Feature"
           },
           {
            "bbox": [
             23.771660456066186,
             37.86618718711488,
             23.773517452752266,
             37.867544538583346
            ],
            "geometry": {
             "coordinates": [
              [
               [
                23.77200579070366,
                37.86743908951145
               ],
               [
                23.771660456066186,
                37.86676041244715
               ],
               [
                23.772243616841283,
                37.86618718711488
               ],
               [
                23.773172109127145,
                37.86629263528728
               ],
               [
                23.773517452752266,
                37.866971309691415
               ],
               [
                23.772934295104065,
                37.867544538583346
               ],
               [
                23.77200579070366,
                37.86743908951145
               ]
              ]
             ],
             "type": "Polygon"
            },
            "id": "309",
            "properties": {},
            "type": "Feature"
           },
           {
            "bbox": [
             23.77142262070921,
             37.86743908951145,
             23.773279641624672,
             37.86879643215215
            ],
            "geometry": {
             "coordinates": [
              [
               [
                23.771767958241835,
                37.86869098218073
               ],
               [
                23.77142262070921,
                37.868012309530364
               ],
               [
                23.77200579070366,
                37.86743908951145
               ],
               [
                23.772934295104065,
                37.867544538583346
               ],
               [
                23.773279641624672,
                37.868223208573646
               ],
               [
                23.772696474757073,
                37.86879643215215
               ],
               [
                23.771767958241835,
                37.86869098218073
               ]
              ]
             ],
             "type": "Polygon"
            },
            "id": "310",
            "properties": {},
            "type": "Feature"
           },
           {
            "bbox": [
             23.767140502564303,
             37.88997166817136,
             23.768997959705757,
             37.8913288517249
            ],
            "geometry": {
             "coordinates": [
              [
               [
                23.767485892213067,
                37.89122338555329
               ],
               [
                23.767140502564303,
                37.89054479244747
               ],
               [
                23.767723838552183,
                37.88997166817136
               ],
               [
                23.768652561063032,
                37.89007713344254
               ],
               [
                23.768997959705757,
                37.89075572389025
               ],
               [
                23.768414626843864,
                37.8913288517249
               ],
               [
                23.767485892213067,
                37.89122338555329
               ]
              ]
             ],
             "type": "Polygon"
            },
            "id": "311",
            "properties": {},
            "type": "Feature"
           },
           {
            "bbox": [
             23.76697182381535,
             37.87588572340554,
             23.768829003544635,
             37.877243023692905
            ],
            "geometry": {
             "coordinates": [
              [
               [
                23.767317160737296,
                37.87713754525037
               ],
               [
                23.76697182381535,
                37.87645889377735
               ],
               [
                23.767555073824763,
                37.87588572340554
               ],
               [
                23.768483657631347,
                37.875991200947375
               ],
               [
                23.768829003544635,
                37.87666984976169
               ],
               [
                23.768245756660182,
                37.877243023692905
               ],
               [
                23.767317160737296,
                37.87713754525037
               ]
              ]
             ],
             "type": "Polygon"
            },
            "id": "312",
            "properties": {},
            "type": "Feature"
           },
           {
            "bbox": [
             23.764969493646888,
             37.856474288779914,
             23.766826288340457,
             37.85783176038811
            ],
            "geometry": {
             "coordinates": [
              [
               [
                23.76531474541357,
                37.85772625113102
               ],
               [
                23.764969493646888,
                37.85704751399736
               ],
               [
                23.765552636293943,
                37.856474288779914
               ],
               [
                23.76648102758532,
                37.85657979713544
               ],
               [
                23.766826288340457,
                37.857258531609936
               ],
               [
                23.766243148815963,
                37.85783176038811
               ],
               [
                23.76531474541357,
                37.85772625113102
               ]
              ]
             ],
             "type": "Polygon"
            },
            "id": "313",
            "properties": {},
            "type": "Feature"
           },
           {
            "bbox": [
             23.75822221096394,
             37.88448278198764,
             23.760079545376975,
             37.88584006465771
            ],
            "geometry": {
             "coordinates": [
              [
               [
                23.758567517383874,
                37.88573452401316
               ],
               [
                23.75822221096394,
                37.88505588134991
               ],
               [
                23.758805568812566,
                37.88448278198764
               ],
               [
                23.759734229960607,
                37.88458832172907
               ],
               [
                23.760079545376975,
                37.885266961735894
               ],
               [
                23.759496190649063,
                37.88584006465771
               ],
               [
                23.758567517383874,
                37.88573452401316
               ]
              ]
             ],
             "type": "Polygon"
            },
            "id": "314",
            "properties": {},
            "type": "Feature"
           },
           {
            "bbox": [
             23.758782034729368,
             37.88902214801889,
             23.760639459387367,
             37.89037939000032
            ],
            "geometry": {
             "coordinates": [
              [
               [
                23.759127361719443,
                37.890273857284654
               ],
               [
                23.758782034729368,
                37.88959523496578
               ],
               [
                23.759365417130304,
                37.88902214801889
               ],
               [
                23.760294123400207,
                37.88912767983168
               ],
               [
                23.760639459387367,
                37.889806299494204
               ],
               [
                23.760056080107734,
                37.89037939000032
               ],
               [
                23.759127361719443,
                37.890273857284654
               ]
              ]
             ],
             "type": "Polygon"
            },
            "id": "315",
            "properties": {},
            "type": "Feature"
           },
           {
            "bbox": [
             23.76695676615075,
             37.85350259676907,
             23.768813505695633,
             37.854860080691054
            ],
            "geometry": {
             "coordinates": [
              [
               [
                23.767302021119352,
                37.854754584766525
               ],
               [
                23.76695676615075,
                37.85407584147567
               ],
               [
                23.76753987802267,
                37.85350259676907
               ],
               [
                23.768468241739924,
                37.853608091792566
               ],
               [
                23.768813505695633,
                37.85428683242368
               ],
               [
                23.768230396947168,
                37.854860080691054
               ],
               [
                23.767302021119352,
                37.854754584766525
               ]
              ]
             ],
             "type": "Polygon"
            },
            "id": "316",
            "properties": {},
            "type": "Feature"
           },
           {
            "bbox": [
             23.768568103047755,
             37.88246115921342,
             23.77042541476009,
             37.88381839583548
            ],
            "geometry": {
             "coordinates": [
              [
               [
                23.768913475323757,
                37.88371293506574
               ],
               [
                23.768568103047755,
                37.88303431542534
               ],
               [
                23.769151383694975,
                37.88246115921342
               ],
               [
                23.77008003349213,
                37.882566619083036
               ],
               [
                23.77042541476009,
                37.883245236064674
               ],
               [
                23.769842137239138,
                37.88381839583548
               ],
               [
                23.768913475323757,
                37.88371293506574
               ]
              ]
             ],
             "type": "Polygon"
            },
            "id": "317",
            "properties": {},
            "type": "Feature"
           },
           {
            "bbox": [
             23.756793752074373,
             37.89199308793398,
             23.758651231903297,
             37.893350317533034
            ],
            "geometry": {
             "coordinates": [
              [
               [
                23.757139075852987,
                37.893244771468744
               ],
               [
                23.756793752074373,
                37.892566155341356
               ],
               [
                23.75737716527111,
                37.89199308793398
               ],
               [
                23.75830589912625,
                37.89209863309484
               ],
               [
                23.758651231903297,
                37.89277724656645
               ],
               [
                23.75806782182696,
                37.893350317533034
               ],
               [
                23.757139075852987,
                37.893244771468744
               ]
              ]
             ],
             "type": "Polygon"
            },
            "id": "318",
            "properties": {},
            "type": "Feature"
           },
           {
            "bbox": [
             23.756710176275764,
             37.88495033006852,
             23.758567517383874,
             37.88630761805112
            ],
            "geometry": {
             "coordinates": [
              [
               [
                23.757055473698568,
                37.88620206586618
               ],
               [
                23.756710176275764,
                37.88552342054686
               ],
               [
                23.75729354646831,
                37.88495033006852
               ],
               [
                23.75822221096394,
                37.88505588134991
               ],
               [
                23.758567517383874,
                37.88573452401316
               ],
               [
                23.757984150311238,
                37.88630761805112
               ],
               [
                23.757055473698568,
                37.88620206586618
               ]
              ]
             ],
             "type": "Polygon"
            },
            "id": "319",
            "properties": {},
            "type": "Feature"
           },
           {
            "bbox": [
             23.762898086465867,
             37.85240178215482,
             23.76475479768076,
             37.85375929966139
            ],
            "geometry": {
             "coordinates": [
              [
               [
                23.763243308684636,
                37.85365377095227
               ],
               [
                23.762898086465867,
                37.85297501086955
               ],
               [
                23.763481216920777,
                37.85240178215482
               ],
               [
                23.764409566473496,
                37.852507309961695
               ],
               [
                23.76475479768076,
                37.85318606738552
               ],
               [
                23.764171670346997,
                37.85375929966139
               ],
               [
                23.763243308684636,
                37.85365377095227
               ]
              ]
             ],
             "type": "Polygon"
            },
            "id": "320",
            "properties": {},
            "type": "Feature"
           },
           {
            "bbox": [
             23.76355624792958,
             37.88636765699195,
             23.76541362824501,
             37.88772489187701
            ],
            "geometry": {
             "coordinates": [
              [
               [
                23.7639015990144,
                37.88761939468679
               ],
               [
                23.76355624792958,
                37.88694077591552
               ],
               [
                23.76413958406692,
                37.88636765699195
               ],
               [
                23.765068268165493,
                37.886473153280654
               ],
               [
                23.76541362824501,
                37.88715176939442
               ],
               [
                23.764830295231445,
                37.88772489187701
               ],
               [
                23.7639015990144,
                37.88761939468679
               ]
              ]
             ],
             "type": "Polygon"
            },
            "id": "321",
            "properties": {},
            "type": "Feature"
           },
           {
            "bbox": [
             23.767601182411788,
             37.86508662608572,
             23.7694581507817,
             37.86644401116557
            ],
            "geometry": {
             "coordinates": [
              [
               [
                23.76794648429394,
                37.86633852929458
               ],
               [
                23.767601182411788,
                37.86565983542501
               ],
               [
                23.76818436178226,
                37.86508662608572
               ],
               [
                23.769112839910495,
                37.86519210705603
               ],
               [
                23.7694581507817,
                37.865870798266265
               ],
               [
                23.768874974535805,
                37.86644401116557
               ],
               [
                23.76794648429394,
                37.86633852929458
               ]
              ]
             ],
             "type": "Polygon"
            },
            "id": "322",
            "properties": {},
            "type": "Feature"
           },
           {
            "bbox": [
             23.760280646538362,
             37.86617312433427,
             23.7621376241997,
             37.86753054482502
            ],
            "geometry": {
             "coordinates": [
              [
               [
                23.760625900572588,
                37.86742500618797
               ],
               [
                23.760280646538362,
                37.86674629461376
               ],
               [
                23.760863878398954,
                37.86617312433427
               ],
               [
                23.761792361173338,
                37.86627866206854
               ],
               [
                23.7621376241997,
                37.86695737098505
               ],
               [
                23.761554395459733,
                37.86753054482502
               ],
               [
                23.760625900572588,
                37.86742500618797
               ]
              ]
             ],
             "type": "Polygon"
            },
            "id": "323",
            "properties": {},
            "type": "Feature"
           },
           {
            "bbox": [
             23.76999547574514,
             37.874950299577584,
             23.771852642048817,
             37.876307589228695
            ],
            "geometry": {
             "coordinates": [
              [
               [
                23.770340830649097,
                37.87620213385902
               ],
               [
                23.76999547574514,
                37.87552348770377
               ],
               [
                23.770578701061222,
                37.874950299577584
               ],
               [
                23.771507278154886,
                37.87505575404742
               ],
               [
                23.771852642048817,
                37.875734397543255
               ],
               [
                23.771269419859298,
                37.876307589228695
               ],
               [
                23.770340830649097,
                37.87620213385902
               ]
              ]
             ],
             "type": "Polygon"
            },
            "id": "324",
            "properties": {},
            "type": "Feature"
           },
           {
            "bbox": [
             23.76364033561797,
             37.893410342783575,
             23.76549785465943,
             37.894767519269024
            ],
            "geometry": {
             "coordinates": [
              [
               [
                23.7639857130665,
                37.894662028211435
               ],
               [
                23.76364033561797,
                37.89398343864012
               ],
               [
                23.76422371475421,
                37.893410342783575
               ],
               [
                23.765152468214897,
                37.89351583293977
               ],
               [
                23.76549785465943,
                37.89419441985388
               ],
               [
                23.764914478647462,
                37.894767519269024
               ],
               [
                23.7639857130665,
                37.894662028211435
               ]
              ]
             ],
             "type": "Polygon"
            },
            "id": "325",
            "properties": {},
            "type": "Feature"
           },
           {
            "bbox": [
             23.769757596111816,
             37.87620213385902,
             23.77161478664884,
             37.87755941467469
            ],
            "geometry": {
             "coordinates": [
              [
               [
                23.77010295391106,
                37.87745395840512
               ],
               [
                23.769757596111816,
                37.876775316667654
               ],
               [
                23.770340830649097,
                37.87620213385902
               ],
               [
                23.771269419859298,
                37.876307589228695
               ],
               [
                23.77161478664884,
                37.87698622830687
               ],
               [
                23.771031555238075,
                37.87755941467469
               ],
               [
                23.77010295391106,
                37.87745395840512
               ]
              ]
             ],
             "type": "Polygon"
            },
            "id": "326",
            "properties": {},
            "type": "Feature"
           },
           {
            "bbox": [
             23.77040251040185,
             37.88778457239633,
             23.77225992987304,
             37.88914175416309
            ],
            "geometry": {
             "coordinates": [
              [
               [
                23.770747915141683,
                37.889036311973165
               ],
               [
                23.77040251040185,
                37.88835771976034
               ],
               [
                23.770985812465206,
                37.88778457239633
               ],
               [
                23.771914516140942,
                37.88789001368675
               ],
               [
                23.77225992987304,
                37.88856860324064
               ],
               [
                23.771676630937314,
                37.88914175416309
               ],
               [
                23.770747915141683,
                37.889036311973165
               ]
              ]
             ],
             "type": "Polygon"
            },
            "id": "327",
            "properties": {},
            "type": "Feature"
           },
           {
            "bbox": [
             23.760756601648296,
             37.86366933144433,
             23.762613530859703,
             37.8650267695842
            ],
            "geometry": {
             "coordinates": [
              [
               [
                23.76110184989771,
                37.86492123275267
               ],
               [
                23.760756601648296,
                37.86424251235379
               ],
               [
                23.76133981506911,
                37.86366933144433
               ],
               [
                23.76226827361882,
                37.86377486737316
               ],
               [
                23.762613530859703,
                37.864453585114134
               ],
               [
                23.762030320559614,
                37.8650267695842
               ],
               [
                23.76110184989771,
                37.86492123275267
               ]
              ]
             ],
             "type": "Polygon"
            },
            "id": "328",
            "properties": {},
            "type": "Feature"
           },
           {
            "bbox": [
             23.76974187816935,
             37.85381905968263,
             23.771598628516905,
             37.855176524149066
            ],
            "geometry": {
             "coordinates": [
              [
               [
                23.77008715400537,
                37.85507105038239
               ],
               [
                23.76974187816935,
                37.85439231681903
               ],
               [
                23.770324974576493,
                37.85381905968263
               ],
               [
                23.771253343694823,
                37.85392453254908
               ],
               [
                23.771598628516905,
                37.85460326345212
               ],
               [
                23.771015535234778,
                37.855176524149066
               ],
               [
                23.77008715400537,
                37.85507105038239
               ]
              ]
             ],
             "type": "Polygon"
            },
            "id": "329",
            "properties": {},
            "type": "Feature"
           },
           {
            "bbox": [
             23.75948290338506,
             37.8628850600753,
             23.76133981506911,
             37.86424251235379
            ],
            "geometry": {
             "coordinates": [
              [
               [
                23.759828139750276,
                37.864136964892076
               ],
               [
                23.75948290338506,
                37.86345823742399
               ],
               [
                23.760066119925842,
                37.8628850600753
               ],
               [
                23.760994569712068,
                37.862990606633936
               ],
               [
                23.76133981506911,
                37.86366933144433
               ],
               [
                23.760756601648296,
                37.86424251235379
               ],
               [
                23.759828139750276,
                37.864136964892076
               ]
              ]
             ],
             "type": "Polygon"
            },
            "id": "330",
            "properties": {},
            "type": "Feature"
           },
           {
            "bbox": [
             23.771015535234778,
             37.85460326345212,
             23.77287230309183,
             37.85596071378145
            ],
            "geometry": {
             "coordinates": [
              [
               [
                23.771360822951127,
                37.855855250644
               ],
               [
                23.771015535234778,
                37.855176524149066
               ],
               [
                23.771598628516905,
                37.85460326345212
               ],
               [
                23.772527006389776,
                37.854708725689726
               ],
               [
                23.77287230309183,
                37.85538744952411
               ],
               [
                23.77228921293548,
                37.85596071378145
               ],
               [
                23.771360822951127,
                37.855855250644
               ]
              ]
             ],
             "type": "Polygon"
            },
            "id": "331",
            "properties": {},
            "type": "Feature"
           },
           {
            "bbox": [
             23.761470486858453,
             37.859913569170274,
             23.763327343399244,
             37.86127103377558
            ],
            "geometry": {
             "coordinates": [
              [
               [
                23.76181572643081,
                37.86116549965198
               ],
               [
                23.761470486858453,
                37.86048676602021
               ],
               [
                23.762053672621583,
                37.859913569170274
               ],
               [
                23.762982094836417,
                37.86001910239134
               ],
               [
                23.763327343399244,
                37.86069783336486
               ],
               [
                23.762744160756974,
                37.86127103377558
               ],
               [
                23.76181572643081,
                37.86116549965198
               ]
              ]
             ],
             "type": "Polygon"
            },
            "id": "332",
            "properties": {},
            "type": "Feature"
           },
           {
            "bbox": [
             23.769028369834192,
             37.85757500263089,
             23.770885192850763,
             37.858932440645006
            ],
            "geometry": {
             "coordinates": [
              [
               [
                23.769373654352087,
                37.85882696417735
               ],
               [
                23.769028369834192,
                37.858148243840304
               ],
               [
                23.769611493893404,
                37.85757500263089
               ],
               [
                23.770539899345824,
                37.85768047819818
               ],
               [
                23.770885192850763,
                37.85835919587523
               ],
               [
                23.77030207191643,
                37.858932440645006
               ],
               [
                23.769373654352087,
                37.85882696417735
               ]
              ]
             ],
             "type": "Polygon"
            },
            "id": "333",
            "properties": {},
            "type": "Feature"
           },
           {
            "bbox": [
             23.76330406011826,
             37.86523782108346,
             23.765161024379868,
             37.86659523094198
            ],
            "geometry": {
             "coordinates": [
              [
               [
                23.763649332136083,
                37.86648971537245
               ],
               [
                23.76330406011826,
                37.865811009114
               ],
               [
                23.763887267296877,
                37.86523782108346
               ],
               [
                23.76481574337129,
                37.865343335751064
               ],
               [
                23.765161024379868,
                37.8660220393511
               ],
               [
                23.764577820323485,
                37.86659523094198
               ],
               [
                23.763649332136083,
                37.86648971537245
               ]
              ]
             ],
             "type": "Polygon"
            },
            "id": "334",
            "properties": {},
            "type": "Feature"
           },
           {
            "bbox": [
             23.76770078621408,
             37.89451083621472,
             23.76955833360676,
             37.89586797905163
            ],
            "geometry": {
             "coordinates": [
              [
               [
                23.76804619644038,
                37.895762520820675
               ],
               [
                23.76770078621408,
                37.89508394807323
               ],
               [
                23.768284146750013,
                37.89451083621472
               ],
               [
                23.76921291438585,
                37.89461629354546
               ],
               [
                23.76955833360676,
                37.895294863634895
               ],
               [
                23.768974976197423,
                37.89586797905163
               ],
               [
                23.76804619644038,
                37.895762520820675
               ]
              ]
             ],
             "type": "Polygon"
            },
            "id": "335",
            "properties": {},
            "type": "Feature"
           },
           {
            "bbox": [
             23.760910706883877,
             37.85537342698759,
             23.76276747323661,
             37.85673093218181
            ],
            "geometry": {
             "coordinates": [
              [
               [
                23.761255925897263,
                37.85662539013777
               ],
               [
                23.760910706883877,
                37.855946636211506
               ],
               [
                23.761493868111984,
                37.85537342698759
               ],
               [
                23.76242224523339,
                37.85547896812884
               ],
               [
                23.76276747323661,
                37.85615771939678
               ],
               [
                23.76218431512878,
                37.85673093218181
               ],
               [
                23.761255925897263,
                37.85662539013777
               ]
              ]
             ],
             "type": "Polygon"
            },
            "id": "336",
            "properties": {},
            "type": "Feature"
           },
           {
            "bbox": [
             23.770487110006137,
             37.894827186022276,
             23.77234466820853,
             37.89618430937337
            ],
            "geometry": {
             "coordinates": [
              [
               [
                23.770832541117578,
                37.896078873328044
               ],
               [
                23.770487110006137,
                37.895400310323204
               ],
               [
                23.771070455063086,
                37.894827186022276
               ],
               [
                23.771999228103525,
                37.89493262116821
               ],
               [
                23.77234466820853,
                37.89561118151443
               ],
               [
                23.771761326279726,
                37.89618430937337
               ],
               [
                23.770832541117578,
                37.896078873328044
               ]
              ]
             ],
             "type": "Polygon"
            },
            "id": "337",
            "properties": {},
            "type": "Feature"
           },
           {
            "bbox": [
             23.771354073317926,
             37.88277751664559,
             23.77321139583449,
             37.88413473378964
            ],
            "geometry": {
             "coordinates": [
              [
               [
                23.771699466473244,
                37.884029295197486
               ],
               [
                23.771354073317926,
                37.88335068529582
               ],
               [
                23.771937338489224,
                37.88277751664559
               ],
               [
                23.77286599368824,
                37.882882954338406
               ],
               [
                23.77321139583449,
                37.88356156158074
               ],
               [
                23.77262813379101,
                37.88413473378964
               ],
               [
                23.771699466473244,
                37.884029295197486
               ]
              ]
             ],
             "type": "Polygon"
            },
            "id": "338",
            "properties": {},
            "type": "Feature"
           },
           {
            "bbox": [
             23.771745130125108,
             37.87323070681318,
             23.773602265479123,
             37.874587999979255
            ],
            "geometry": {
             "coordinates": [
              [
               [
                23.772090491123425,
                37.87448255704498
               ],
               [
                23.771745130125108,
                37.87380390913202
               ],
               [
                23.77232833387293,
                37.87323070681318
               ],
               [
                23.773256895491848,
                37.87333614884809
               ],
               [
                23.773602265479123,
                37.874014794101186
               ],
               [
                23.773019064858723,
                37.874587999979255
               ],
               [
                23.772090491123425,
                37.87448255704498
               ]
              ]
             ],
             "type": "Polygon"
            },
            "id": "339",
            "properties": {},
            "type": "Feature"
           },
           {
            "bbox": [
             23.765628428360326,
             37.89043931563525,
             23.767485892213067,
             37.891796504504654
            ],
            "geometry": {
             "coordinates": [
              [
               [
                23.765973809014444,
                37.89169102679156
               ],
               [
                23.765628428360326,
                37.89101243102799
               ],
               [
                23.766211776697748,
                37.89043931563525
               ],
               [
                23.767140502564303,
                37.89054479244747
               ],
               [
                23.767485892213067,
                37.89122338555329
               ],
               [
                23.766902547000818,
                37.891796504504654
               ],
               [
                23.765973809014444,
                37.89169102679156
               ]
              ]
             ],
             "type": "Polygon"
            },
            "id": "340",
            "properties": {},
            "type": "Feature"
           },
           {
            "bbox": [
             23.764577820323485,
             37.8660220393511,
             23.766434802107927,
             37.86737943506693
            ],
            "geometry": {
             "coordinates": [
              [
               [
                23.764923104225492,
                37.86727393012921
               ],
               [
                23.764577820323485,
                37.86659523094198
               ],
               [
                23.765161024379868,
                37.8660220393511
               ],
               [
                23.76608950921549,
                37.86612754338729
               ],
               [
                23.766434802107927,
                37.86680623991586
               ],
               [
                23.76585160117451,
                37.86737943506693
               ],
               [
                23.764923104225492,
                37.86727393012921
               ]
              ]
             ],
             "type": "Polygon"
            },
            "id": "341",
            "properties": {},
            "type": "Feature"
           },
           {
            "bbox": [
             23.756864671960745,
             37.87665547792688,
             23.758721850138624,
             37.87801283309065
            ],
            "geometry": {
             "coordinates": [
              [
               [
                23.757209940139504,
                37.877907275691825
               ],
               [
                23.756864671960745,
                37.87722859678171
               ],
               [
                23.75744798993281,
                37.87665547792688
               ],
               [
                23.758376572964384,
                37.876761034422074
               ],
               [
                23.758721850138624,
                37.8774397106757
               ],
               [
                23.758138535286,
                37.87801283309065
               ],
               [
                23.757209940139504,
                37.877907275691825
               ]
              ]
             ],
             "type": "Polygon"
            },
            "id": "342",
            "properties": {},
            "type": "Feature"
           },
           {
            "bbox": [
             23.757424384269484,
             37.881195064209564,
             23.759281652678013,
             37.882552378713534
            ],
            "geometry": {
             "coordinates": [
              [
               [
                23.757769673014216,
                37.88244682923908
               ],
               [
                23.757424384269484,
                37.8817681706589
               ],
               [
                23.758007726790876,
                37.881195064209564
               ],
               [
                23.758936354937152,
                37.88130061278063
               ],
               [
                23.759281652678013,
                37.881979268704384
               ],
               [
                23.758698313276657,
                37.882552378713534
               ],
               [
                23.757769673014216,
                37.88244682923908
               ]
              ]
             ],
             "type": "Polygon"
            },
            "id": "343",
            "properties": {},
            "type": "Feature"
           },
           {
            "bbox": [
             23.76958855168563,
             37.8621150408236,
             23.77144546489061,
             37.86347243823314
            ],
            "geometry": {
             "coordinates": [
              [
               [
                23.769933856767995,
                37.86336696969554
               ],
               [
                23.76958855168563,
                37.862688269660836
               ],
               [
                23.770171700274553,
                37.8621150408236
               ],
               [
                23.771100150820544,
                37.86222050846105
               ],
               [
                23.77144546489061,
                37.86289920583585
               ],
               [
                23.770862319427177,
                37.86347243823314
               ],
               [
                23.769933856767995,
                37.86336696969554
               ]
              ]
             ],
             "type": "Polygon"
            },
            "id": "344",
            "properties": {},
            "type": "Feature"
           },
           {
            "bbox": [
             23.77064041062153,
             37.886532823074006,
             23.772497805853213,
             37.88789001368675
            ],
            "geometry": {
             "coordinates": [
              [
               [
                23.770985812465206,
                37.88778457239633
               ],
               [
                23.77064041062153,
                37.88710597576047
               ],
               [
                23.77122370346148,
                37.886532823074006
               ],
               [
                23.77215239501761,
                37.886638263464945
               ],
               [
                23.772497805853213,
                37.88731685744179
               ],
               [
                23.771914516140942,
                37.88789001368675
               ],
               [
                23.770985812465206,
                37.88778457239633
               ]
              ]
             ],
             "type": "Polygon"
            },
            "id": "345",
            "properties": {},
            "type": "Feature"
           },
           {
            "bbox": [
             23.76831480458387,
             37.861330858108914,
             23.770171700274553,
             37.862688269660836
            ],
            "geometry": {
             "coordinates": [
              [
               [
                23.768660097783805,
                37.86258279049173
               ],
               [
                23.76831480458387,
                37.86190408338596
               ],
               [
                23.76889795629753,
                37.861330858108914
               ],
               [
                23.769826398086572,
                37.86143633637749
               ],
               [
                23.770171700274553,
                37.8621150408236
               ],
               [
                23.76958855168563,
                37.862688269660836
               ],
               [
                23.768660097783805,
                37.86258279049173
               ]
              ]
             ],
             "type": "Polygon"
            },
            "id": "346",
            "properties": {},
            "type": "Feature"
           },
           {
            "bbox": [
             23.769604234659063,
             37.88449700839617,
             23.771461588130748,
             37.885854222015666
            ],
            "geometry": {
             "coordinates": [
              [
               [
                23.769949621718546,
                37.88574877098497
               ],
               [
                23.769604234659063,
                37.88507016284578
               ],
               [
                23.77018752140285,
                37.88449700839617
               ],
               [
                23.771116192079322,
                37.884602458527056
               ],
               [
                23.771461588130748,
                37.88528106400735
               ],
               [
                23.770878304513943,
                37.885854222015666
               ],
               [
                23.769949621718546,
                37.88574877098497
               ]
              ]
             ],
             "type": "Polygon"
            },
            "id": "347",
            "properties": {},
            "type": "Feature"
           },
           {
            "bbox": [
             23.758138535286,
             37.8774397106757,
             23.75999573100007,
             37.878797051691166
            ],
            "geometry": {
             "coordinates": [
              [
               [
                23.758483815352843,
                37.878691504926735
               ],
               [
                23.758138535286,
                37.87801283309065
               ],
               [
                23.758721850138624,
                37.8774397106757
               ],
               [
                23.759650441938096,
                37.87754525653689
               ],
               [
                23.75999573100007,
                37.878223925716235
               ],
               [
                23.759412419267623,
                37.878797051691166
               ],
               [
                23.758483815352843,
                37.878691504926735
               ]
              ]
             ],
             "type": "Polygon"
            },
            "id": "348",
            "properties": {},
            "type": "Feature"
           },
           {
            "bbox": [
             23.766664585108245,
             37.89247509318612,
             23.768522090730624,
             37.89383225904139
            ],
            "geometry": {
             "coordinates": [
              [
               [
                23.76700998054809,
                37.893726791068744
               ],
               [
                23.766664585108245,
                37.893048206812175
               ],
               [
                23.767247939545122,
                37.89247509318612
               ],
               [
                23.768176686296144,
                37.89258056025824
               ],
               [
                23.768522090730624,
                37.8932591418569
               ],
               [
                23.767938739419638,
                37.89383225904139
               ],
               [
                23.76700998054809,
                37.893726791068744
               ]
              ]
             ],
             "type": "Polygon"
            },
            "id": "349",
            "properties": {},
            "type": "Feature"
           },
           {
            "bbox": [
             23.76642661688632,
             37.893726791068744,
             23.768284146750013,
             37.89508394807323
            ],
            "geometry": {
             "coordinates": [
              [
               [
                23.76677201522174,
                37.8949784792
               ],
               [
                23.76642661688632,
                37.89429989936887
               ],
               [
                23.76700998054809,
                37.893726791068744
               ],
               [
                23.767938739419638,
                37.89383225904139
               ],
               [
                23.768284146750013,
                37.89451083621472
               ],
               [
                23.76770078621408,
                37.89508394807323
               ],
               [
                23.76677201522174,
                37.8949784792
               ]
              ]
             ],
             "type": "Polygon"
            },
            "id": "350",
            "properties": {},
            "type": "Feature"
           },
           {
            "bbox": [
             23.771761326279726,
             37.89561118151443,
             23.773618902005772,
             37.896968290694744
            ],
            "geometry": {
             "coordinates": [
              [
               [
                23.7721067692817,
                37.89686286529294
               ],
               [
                23.771761326279726,
                37.89618430937337
               ],
               [
                23.77234466820853,
                37.89561118151443
               ],
               [
                23.7732734500106,
                37.89571660601723
               ],
               [
                23.773618902005772,
                37.89639515927796
               ],
               [
                23.773035563205877,
                37.896968290694744
               ],
               [
                23.7721067692817,
                37.89686286529294
               ]
              ]
             ],
             "type": "Polygon"
            },
            "id": "351",
            "properties": {},
            "type": "Feature"
           },
           {
            "bbox": [
             23.75806782182696,
             37.89277724656645,
             23.759925319197876,
             37.89413446200481
            ],
            "geometry": {
             "coordinates": [
              [
               [
                23.758413157497525,
                37.894028926580205
               ],
               [
                23.75806782182696,
                37.893350317533034
               ],
               [
                23.758651231903297,
                37.89277724656645
               ],
               [
                23.759579974529228,
                37.89288278108803
               ],
               [
                23.759925319197876,
                37.89356138747918
               ],
               [
                23.759341912242704,
                37.89413446200481
               ],
               [
                23.758413157497525,
                37.894028926580205
               ]
              ]
             ],
             "type": "Polygon"
            },
            "id": "352",
            "properties": {},
            "type": "Feature"
           },
           {
            "bbox": [
             23.76554419504693,
             37.8833965084023,
             23.767401520182077,
             37.884753755658004
            ],
            "geometry": {
             "coordinates": [
              [
               [
                23.76588954933693,
                37.88464827181023
               ],
               [
                23.76554419504693,
                37.88396964685335
               ],
               [
                23.766127500390073,
                37.8833965084023
               ],
               [
                23.767056156898732,
                37.88350199134908
               ],
               [
                23.767401520182077,
                37.884180613647885
               ],
               [
                23.76681821796361,
                37.884753755658004
               ],
               [
                23.76588954933693,
                37.88464827181023
               ]
              ]
             ],
             "type": "Polygon"
            },
            "id": "353",
            "properties": {},
            "type": "Feature"
           },
           {
            "bbox": [
             23.765935842610816,
             37.87384974424177,
             23.76779298058546,
             37.875207067515085
            ],
            "geometry": {
             "coordinates": [
              [
               [
                23.766281164752186,
                37.87510157933792
               ],
               [
                23.765935842610816,
                37.87442291637199
               ],
               [
                23.766519086523104,
                37.87384974424177
               ],
               [
                23.767447649452713,
                37.87395523151789
               ],
               [
                23.76779298058546,
                37.87463389182524
               ],
               [
                23.767209739797423,
                37.875207067515085
               ],
               [
                23.766281164752186,
                37.87510157933792
               ]
              ]
             ],
             "type": "Polygon"
            },
            "id": "354",
            "properties": {},
            "type": "Feature"
           },
           {
            "bbox": [
             23.75987507939117,
             37.85333714051275,
             23.761731804000732,
             37.85469466865354
            ],
            "geometry": {
             "coordinates": [
              [
               [
                23.760220283630908,
                37.8545891168853
               ],
               [
                23.75987507939117,
                37.85391035148581
               ],
               [
                23.76045823452096,
                37.85333714051275
               ],
               [
                23.761386590771135,
                37.853442691377886
               ],
               [
                23.761731804000732,
                37.854121454119166
               ],
               [
                23.761148651990496,
                37.85469466865354
               ],
               [
                23.760220283630908,
                37.8545891168853
               ]
              ]
             ],
             "type": "Polygon"
            },
            "id": "355",
            "properties": {},
            "type": "Feature"
           },
           {
            "bbox": [
             23.760196833605754,
             37.85912928727892,
             23.762053672621583,
             37.86048676602021
            ],
            "geometry": {
             "coordinates": [
              [
               [
                23.76054206129496,
                37.86038122126756
               ],
               [
                23.760196833605754,
                37.859702480567925
               ],
               [
                23.760780022488998,
                37.85912928727892
               ],
               [
                23.76170843594154,
                37.85923483112864
               ],
               [
                23.762053672621583,
                37.859913569170274
               ],
               [
                23.761470486858453,
                37.86048676602021
               ],
               [
                23.76054206129496,
                37.86038122126756
               ]
              ]
             ],
             "type": "Polygon"
            },
            "id": "356",
            "properties": {},
            "type": "Feature"
           },
           {
            "bbox": [
             23.771438739406477,
             37.88982033929353,
             23.77329620063969,
             37.89117749804734
            ],
            "geometry": {
             "coordinates": [
              [
               [
                23.77178415893161,
                37.89107206559927
               ],
               [
                23.771438739406477,
                37.89039348489287
               ],
               [
                23.772022047565915,
                37.88982033929353
               ],
               [
                23.77295077212233,
                37.889925770842396
               ],
               [
                23.77329620063969,
                37.89060434888977
               ],
               [
                23.772712895608592,
                37.89117749804734
               ],
               [
                23.77178415893161,
                37.89107206559927
               ]
              ]
             ],
             "type": "Polygon"
            },
            "id": "357",
            "properties": {},
            "type": "Feature"
           },
           {
            "bbox": [
             23.757816844723123,
             37.871648189501364,
             23.759673925986206,
             37.87300557999494
            ],
            "geometry": {
             "coordinates": [
              [
               [
                23.758162101333046,
                37.87290002621031
               ],
               [
                23.757816844723123,
                37.872221329635074
               ],
               [
                23.758400125807388,
                37.871648189501364
               ],
               [
                23.75932866038213,
                37.87175374238257
               ],
               [
                23.759673925986206,
                37.87243243630088
               ],
               [
                23.759090648021576,
                37.87300557999494
               ],
               [
                23.758162101333046,
                37.87290002621031
               ]
              ]
             ],
             "type": "Polygon"
            },
            "id": "358",
            "properties": {},
            "type": "Feature"
           },
           {
            "bbox": [
             23.757746083327294,
             37.886986256293085,
             23.759603466210013,
             37.88834352127721
            ],
            "geometry": {
             "coordinates": [
              [
               [
                23.758091395533377,
                37.88823797882628
               ],
               [
                23.757746083327294,
                37.88755934500613
               ],
               [
                23.75832945962423,
                37.886986256293085
               ],
               [
                23.759258145006836,
                37.88709179784081
               ],
               [
                23.759603466210013,
                37.88777042900475
               ],
               [
                23.75902009303368,
                37.88834352127721
               ],
               [
                23.758091395533377,
                37.88823797882628
               ]
              ]
             ],
             "type": "Polygon"
            },
            "id": "359",
            "properties": {},
            "type": "Feature"
           },
           {
            "bbox": [
             23.765683155992594,
             37.85271834341978,
             23.76753987802267,
             37.85407584147567
            ],
            "geometry": {
             "coordinates": [
              [
               [
                23.766028399080536,
                37.85397033492315
               ],
               [
                23.765683155992594,
                37.85329158456548
               ],
               [
                23.766266270987234,
                37.85271834341978
               ],
               [
                23.767194625947283,
                37.85282384907088
               ],
               [
                23.76753987802267,
                37.85350259676907
               ],
               [
                23.76695676615075,
                37.85407584147567
               ],
               [
                23.766028399080536,
                37.85397033492315
               ]
              ]
             ],
             "type": "Polygon"
            },
            "id": "360",
            "properties": {},
            "type": "Feature"
           },
           {
            "bbox": [
             23.757508010011886,
             37.88823797882628,
             23.759365417130304,
             37.88959523496578
            ],
            "geometry": {
             "coordinates": [
              [
               [
                23.757853325111068,
                37.889489691611594
               ],
               [
                23.757508010011886,
                37.888811062213804
               ],
               [
                23.758091395533377,
                37.88823797882628
               ],
               [
                23.75902009303368,
                37.88834352127721
               ],
               [
                23.759365417130304,
                37.88902214801889
               ],
               [
                23.758782034729368,
                37.88959523496578
               ],
               [
                23.757853325111068,
                37.889489691611594
               ]
              ]
             ],
             "type": "Polygon"
            },
            "id": "361",
            "properties": {},
            "type": "Feature"
           },
           {
            "bbox": [
             23.763948109084236,
             37.876821065577865,
             23.76580530222894,
             37.87817837649868
            ],
            "geometry": {
             "coordinates": [
              [
               [
                23.764293428021425,
                37.87807287498219
               ],
               [
                23.763948109084236,
                37.877394218192784
               ],
               [
                23.76453138378461,
                37.876821065577865
               ],
               [
                23.76545997429903,
                37.87692656619278
               ],
               [
                23.76580530222894,
                37.87760522032417
               ],
               [
                23.76522203065191,
                37.87817837649868
               ],
               [
                23.764293428021425,
                37.87807287498219
               ]
              ]
             ],
             "type": "Polygon"
            },
            "id": "362",
            "properties": {},
            "type": "Feature"
           },
           {
            "bbox": [
             23.7625202242424,
             37.88433177591219,
             23.764377562790173,
             37.885689033798755
            ],
            "geometry": {
             "coordinates": [
              [
               [
                23.762865560543666,
                37.88558352687183
               ],
               [
                23.7625202242424,
                37.88490489659988
               ],
               [
                23.763103554279102,
                37.88433177591219
               ],
               [
                23.7640322174942,
                37.884437281937245
               ],
               [
                23.764377562790173,
                37.88511590955183
               ],
               [
                23.76379423587653,
                37.885689033798755
               ],
               [
                23.762865560543666,
                37.88558352687183
               ]
              ]
             ],
             "type": "Polygon"
            },
            "id": "363",
            "properties": {},
            "type": "Feature"
           },
           {
            "bbox": [
             23.758936354937152,
             37.880727497448966,
             23.760793616649895,
             37.88208480663976
            ],
            "geometry": {
             "coordinates": [
              [
               [
                23.759281652678013,
                37.881979268704384
               ],
               [
                23.758936354937152,
                37.88130061278063
               ],
               [
                23.75951968511527,
                37.880727497448966
               ],
               [
                23.760448309913592,
                37.880833034481384
               ],
               [
                23.760793616649895,
                37.88151168774838
               ],
               [
                23.760210289592624,
                37.88208480663976
               ],
               [
                23.759281652678013,
                37.881979268704384
               ]
              ]
             ],
             "type": "Polygon"
            },
            "id": "364",
            "properties": {},
            "type": "Feature"
           },
           {
            "bbox": [
             23.771100150820544,
             37.86164727075225,
             23.77295705731143,
             37.86300466284163
            ],
            "geometry": {
             "coordinates": [
              [
               [
                23.77144546489061,
                37.86289920583585
               ],
               [
                23.771100150820544,
                37.86222050846105
               ],
               [
                23.77168328706547,
                37.86164727075225
               ],
               [
                23.772611734254358,
                37.86175272685833
               ],
               [
                23.77295705731143,
                37.86243142157287
               ],
               [
                23.772373924192795,
                37.86300466284163
               ],
               [
                23.77144546489061,
                37.86289920583585
               ]
              ]
             ],
             "type": "Polygon"
            },
            "id": "365",
            "properties": {},
            "type": "Feature"
           },
           {
            "bbox": [
             23.76664959762597,
             37.870094180554915,
             23.768506662909477,
             37.871451530323334
            ],
            "geometry": {
             "coordinates": [
              [
               [
                23.766994911084712,
                37.87134604484911
               ],
               [
                23.76664959762597,
                37.870667368635466
               ],
               [
                23.767232813875903,
                37.870094180554915
               ],
               [
                23.768161340460367,
                37.87019966512824
               ],
               [
                23.768506662909477,
                37.870878338682985
               ],
               [
                23.767923449783947,
                37.871451530323334
               ],
               [
                23.766994911084712,
                37.87134604484911
               ]
              ]
             ],
             "type": "Polygon"
            },
            "id": "366",
            "properties": {},
            "type": "Feature"
           },
           {
            "bbox": [
             23.767992545830683,
             37.85553881691438,
             23.76984932711109,
             37.85689627788453
            ],
            "geometry": {
             "coordinates": [
              [
               [
                23.768337815573577,
                37.8567907916878
               ],
               [
                23.767992545830683,
                37.85611205987282
               ],
               [
                23.76857566379645,
                37.85553881691438
               ],
               [
                23.769504048381133,
                37.85564430221039
               ],
               [
                23.76984932711109,
                37.85632303136553
               ],
               [
                23.769266212269496,
                37.85689627788453
               ],
               [
                23.768337815573577,
                37.8567907916878
               ]
              ]
             ],
             "type": "Polygon"
            },
            "id": "367",
            "properties": {},
            "type": "Feature"
           },
           {
            "bbox": [
             23.76194637869824,
             37.857409679041524,
             23.7638031867948,
             37.85876716128497
            ],
            "geometry": {
             "coordinates": [
              [
               [
                23.76229161248599,
                37.85866162896641
               ],
               [
                23.76194637869824,
                37.857982886515465
               ],
               [
                23.762529546024247,
                37.857409679041524
               ],
               [
                23.76345794401724,
                37.857515210457656
               ],
               [
                23.7638031867948,
                37.85819395025013
               ],
               [
                23.763220022589756,
                37.85876716128497
               ],
               [
                23.76229161248599,
                37.85866162896641
               ]
              ]
             ],
             "type": "Polygon"
            },
            "id": "368",
            "properties": {},
            "type": "Feature"
           },
           {
            "bbox": [
             23.76945084624554,
             37.89279147221927,
             23.771308362680443,
             37.89414861859122
            ],
            "geometry": {
             "coordinates": [
              [
               [
                23.769796262570196,
                37.8940431728027
               ],
               [
                23.76945084624554,
                37.89336459828749
               ],
               [
                23.770034185205162,
                37.89279147221927
               ],
               [
                23.770962937362192,
                37.89289691710808
               ],
               [
                23.771308362680443,
                37.8935754889648
               ],
               [
                23.77072502684826,
                37.89414861859122
               ],
               [
                23.769796262570196,
                37.8940431728027
               ]
              ]
             ],
             "type": "Polygon"
            },
            "id": "369",
            "properties": {},
            "type": "Feature"
           },
           {
            "bbox": [
             23.7626042328441,
             37.89137454928807,
             23.76446171011175,
             37.89273174878715
            ],
            "geometry": {
             "coordinates": [
              [
               [
                23.762949595506853,
                37.89262624799028
               ],
               [
                23.7626042328441,
                37.89194764691222
               ],
               [
                23.763187605878844,
                37.89137454928807
               ],
               [
                23.764116338452972,
                37.8914800491832
               ],
               [
                23.76446171011175,
                37.8921586476042
               ],
               [
                23.763878340200566,
                37.89273174878715
               ],
               [
                23.762949595506853,
                37.89262624799028
               ]
              ]
             ],
             "type": "Polygon"
            },
            "id": "370",
            "properties": {},
            "type": "Feature"
           },
           {
            "bbox": [
             23.767278954536458,
             37.859294712078274,
             23.769135808486876,
             37.860652146592166
            ],
            "geometry": {
             "coordinates": [
              [
               [
                23.76762423296028,
                37.860546657693014
               ],
               [
                23.767278954536458,
                37.85986793910631
               ],
               [
                23.767862100155735,
                37.859294712078274
               ],
               [
                23.768790521074983,
                37.85940020007657
               ],
               [
                23.769135808486876,
                37.86007891600374
               ],
               [
                23.76855266599163,
                37.860652146592166
               ],
               [
                23.76762423296028,
                37.860546657693014
               ]
              ]
             ],
             "type": "Polygon"
            },
            "id": "371",
            "properties": {},
            "type": "Feature"
           },
           {
            "bbox": [
             23.76226827361882,
             37.863201677588926,
             23.764125196131175,
             37.86455911041261
            ],
            "geometry": {
             "coordinates": [
              [
               [
                23.762613530859703,
                37.864453585114134
               ],
               [
                23.76226827361882,
                37.86377486737316
               ],
               [
                23.762851474699378,
                37.863201677588926
               ],
               [
                23.763779929899496,
                37.863307201985165
               ],
               [
                23.764125196131175,
                37.86398591706785
               ],
               [
                23.76354199817214,
                37.86455911041261
               ],
               [
                23.762613530859703,
                37.864453585114134
               ]
              ]
             ],
             "type": "Polygon"
            },
            "id": "372",
            "properties": {},
            "type": "Feature"
           },
           {
            "bbox": [
             23.758530907835432,
             37.86789262098034,
             23.76038791641837,
             37.86925003795973
            ],
            "geometry": {
             "coordinates": [
              [
               [
                23.758876155768924,
                37.86914448688523
               ],
               [
                23.758530907835432,
                37.868465777066916
               ],
               [
                23.759114161256612,
                37.86789262098034
               ],
               [
                23.760042659491713,
                37.86799817115157
               ],
               [
                23.76038791641837,
                37.86867687831263
               ],
               [
                23.759804666116963,
                37.86925003795973
               ],
               [
                23.758876155768924,
                37.86914448688523
               ]
              ]
             ],
             "type": "Polygon"
            },
            "id": "373",
            "properties": {},
            "type": "Feature"
           },
           {
            "bbox": [
             23.76053216036181,
             37.887302858757906,
             23.762389554083835,
             37.88866010427157
            ],
            "geometry": {
             "coordinates": [
              [
               [
                23.76087749345519,
                37.88855458399992
               ],
               [
                23.76053216036181,
                37.8878759599147
               ],
               [
                23.761115521192398,
                37.887302858757906
               ],
               [
                23.7620442119944,
                37.88740837812717
               ],
               [
                23.762389554083835,
                37.88808699955558
               ],
               [
                23.761806196375407,
                37.88866010427157
               ],
               [
                23.76087749345519,
                37.88855458399992
               ]
              ]
             ],
             "type": "Polygon"
            },
            "id": "374",
            "properties": {},
            "type": "Feature"
           },
           {
            "bbox": [
             23.771031555238075,
             37.87698622830687,
             23.77288876329287,
             37.878343494967275
            ],
            "geometry": {
             "coordinates": [
              [
               [
                23.771376924923278,
                37.87823804933465
               ],
               [
                23.771031555238075,
                37.87755941467469
               ],
               [
                23.77161478664884,
                37.87698622830687
               ],
               [
                23.772543384617723,
                37.877091673039985
               ],
               [
                23.77288876329287,
                37.877770305040414
               ],
               [
                23.77230553500938,
                37.878343494967275
               ],
               [
                23.771376924923278,
                37.87823804933465
               ]
              ]
             ],
             "type": "Polygon"
            },
            "id": "375",
            "properties": {},
            "type": "Feature"
           },
           {
            "bbox": [
             23.764914478647462,
             37.89419441985388,
             23.76677201522174,
             37.8955515821736
            ],
            "geometry": {
             "coordinates": [
              [
               [
                23.765259867987233,
                37.89544610175759
               ],
               [
                23.764914478647462,
                37.894767519269024
               ],
               [
                23.76549785465943,
                37.89419441985388
               ],
               [
                23.76642661688632,
                37.89429989936887
               ],
               [
                23.76677201522174,
                37.8949784792
               ],
               [
                23.766188642334807,
                37.8955515821736
               ],
               [
                23.765259867987233,
                37.89544610175759
               ]
              ]
             ],
             "type": "Polygon"
            },
            "id": "376",
            "properties": {},
            "type": "Feature"
           },
           {
            "bbox": [
             23.768706080209203,
             37.85178283429506,
             23.770562788824698,
             37.85314032171159
            ],
            "geometry": {
             "coordinates": [
              [
               [
                23.76905134127134,
                37.85303483821686
               ],
               [
                23.768706080209203,
                37.8523560931785
               ],
               [
                23.769289170523834,
                37.85178283429506
               ],
               [
                23.770217518776487,
                37.85188831688923
               ],
               [
                23.770562788824698,
                37.85256705926739
               ],
               [
                23.769979701634384,
                37.85314032171159
               ],
               [
                23.76905134127134,
                37.85303483821686
               ]
              ]
             ],
             "type": "Polygon"
            },
            "id": "377",
            "properties": {},
            "type": "Feature"
           },
           {
            "bbox": [
             23.75910384362432,
             37.89481306397107,
             23.76096138277529,
             37.89617025639659
            ],
            "geometry": {
             "coordinates": [
              [
               [
                23.75944919408073,
                37.89606473070949
               ],
               [
                23.75910384362432,
                37.895386133168664
               ],
               [
                23.759687259805215,
                37.89481306397107
               ],
               [
                23.76061602332082,
                37.89491858875547
               ],
               [
                23.76096138277529,
                37.895597183640135
               ],
               [
                23.760377969716274,
                37.89617025639659
               ],
               [
                23.75944919408073,
                37.89606473070949
               ]
              ]
             ],
             "type": "Polygon"
            },
            "id": "378",
            "properties": {},
            "type": "Feature"
           },
           {
            "bbox": [
             23.76895944059449,
             37.87291433636751,
             23.7708165651477,
             37.87427164900511
            ],
            "geometry": {
             "coordinates": [
              [
               [
                23.76930478071792,
                37.874166183899625
               ],
               [
                23.76895944059449,
                37.87348752625121
               ],
               [
                23.769542659815492,
                37.87291433636751
               ],
               [
                23.770471216034267,
                37.87301980057283
               ],
               [
                23.7708165651477,
                37.87369845556197
               ],
               [
                23.770233349052546,
                37.87427164900511
               ],
               [
                23.76930478071792,
                37.874166183899625
               ]
              ]
             ],
             "type": "Polygon"
            },
            "id": "379",
            "properties": {},
            "type": "Feature"
           },
           {
            "bbox": [
             23.76323419514314,
             37.88057646457597,
             23.765091460986827,
             37.88193374898458
            ],
            "geometry": {
             "coordinates": [
              [
               [
                23.76357952276228,
                37.881828244763106
               ],
               [
                23.76323419514314,
                37.881149601229964
               ],
               [
                23.7638174975105,
                37.88057646457597
               ],
               [
                23.764746124373975,
                37.880681967895725
               ],
               [
                23.765091460986827,
                37.88136060877119
               ],
               [
                23.764508161742675,
                37.88193374898458
               ],
               [
                23.76357952276228,
                37.881828244763106
               ]
              ]
             ],
             "type": "Polygon"
            },
            "id": "380",
            "properties": {},
            "type": "Feature"
           },
           {
            "bbox": [
             23.7699109306109,
             37.86790684892522,
             23.771767958241835,
             37.86926419688569
            ],
            "geometry": {
             "coordinates": [
              [
               [
                23.770256259154856,
                37.86915873538058
               ],
               [
                23.7699109306109,
                37.868480060070496
               ],
               [
                23.770494112951013,
                37.86790684892522
               ],
               [
                23.77142262070921,
                37.868012309530364
               ],
               [
                23.771767958241835,
                37.86869098218073
               ],
               [
                23.771184779027777,
                37.86926419688569
               ],
               [
                23.770256259154856,
                37.86915873538058
               ]
              ]
             ],
             "type": "Polygon"
            },
            "id": "381",
            "properties": {},
            "type": "Feature"
           },
           {
            "bbox": [
             23.763318253653107,
             37.88761939468679,
             23.76517565820574,
             37.888976620727
            ],
            "geometry": {
             "coordinates": [
              [
               [
                23.763663607632385,
                37.88887112263518
               ],
               [
                23.763318253653107,
                37.888192508286394
               ],
               [
                23.7639015990144,
                37.88761939468679
               ],
               [
                23.764830295231445,
                37.88772489187701
               ],
               [
                23.76517565820574,
                37.888403503568426
               ],
               [
                23.76459231596816,
                37.888976620727
               ],
               [
                23.763663607632385,
                37.88887112263518
               ]
              ]
             ],
             "type": "Polygon"
            },
            "id": "382",
            "properties": {},
            "type": "Feature"
           },
           {
            "bbox": [
             23.758614604312946,
             37.87493609296014,
             23.760471751566868,
             37.87629345164446
            ],
            "geometry": {
             "coordinates": [
              [
               [
                23.758959878594617,
                37.87618790668646
               ],
               [
                23.758614604312946,
                37.87550922601583
               ],
               [
                23.75919790072104,
                37.87493609296014
               ],
               [
                23.760126468290732,
                37.87504163701499
               ],
               [
                23.760471751566868,
                37.875720315028666
               ],
               [
                23.75988845827905,
                37.87629345164446
               ],
               [
                23.758959878594617,
                37.87618790668646
               ]
              ]
             ],
             "type": "Polygon"
            },
            "id": "383",
            "properties": {},
            "type": "Feature"
           },
           {
            "bbox": [
             23.769435198253685,
             37.870410612106845,
             23.77129227434462,
             37.87176794240806
            ],
            "geometry": {
             "coordinates": [
              [
               [
                23.76978053258734,
                37.871662479102866
               ],
               [
                23.769435198253685,
                37.87098381262252
               ],
               [
                23.770018399033717,
                37.870410612106845
               ],
               [
                23.770946931021637,
                37.87051607451197
               ],
               [
                23.77129227434462,
                37.871194738332825
               ],
               [
                23.77070907669055,
                37.87176794240806
               ],
               [
                23.76978053258734,
                37.871662479102866
               ]
              ]
             ],
             "type": "Polygon"
            },
            "id": "384",
            "properties": {},
            "type": "Feature"
           },
           {
            "bbox": [
             23.759161180087787,
             37.85709304047606,
             23.76101797735636,
             37.85845054216986
            ],
            "geometry": {
             "coordinates": [
              [
               [
                23.759506393002244,
                37.85834498769199
               ],
               [
                23.759161180087787,
                37.85766623551618
               ],
               [
                23.759744362871807,
                37.85709304047606
               ],
               [
                23.760672755451054,
                37.857198594050665
               ],
               [
                23.76101797735636,
                37.8578773435686
               ],
               [
                23.76043479769175,
                37.85845054216986
               ],
               [
                23.759506393002244,
                37.85834498769199
               ]
              ]
             ],
             "type": "Polygon"
            },
            "id": "385",
            "properties": {},
            "type": "Feature"
           },
           {
            "bbox": [
             23.771337975890134,
             37.860395325946456,
             23.773194858154707,
             37.86175272685833
            ],
            "geometry": {
             "coordinates": [
              [
               [
                23.77168328706547,
                37.86164727075225
               ],
               [
                23.771337975890134,
                37.86096856896616
               ],
               [
                23.77192110291682,
                37.860395325946456
               ],
               [
                23.772849537992702,
                37.86050078115286
               ],
               [
                23.773194858154707,
                37.861179480278594
               ],
               [
                23.772611734254358,
                37.86175272685833
               ],
               [
                23.77168328706547,
                37.86164727075225
               ]
              ]
             ],
             "type": "Polygon"
            },
            "id": "386",
            "properties": {},
            "type": "Feature"
           },
           {
            "bbox": [
             23.766986888620725,
             37.89826586077241,
             23.76884450874316,
             37.899622977047784
            ],
            "geometry": {
             "coordinates": [
              [
               [
                23.76733230753492,
                37.899517516115914
               ],
               [
                23.766986888620725,
                37.89883895664938
               ],
               [
                23.76757027683308,
                37.89826586077241
               ],
               [
                23.768499080833372,
                37.89837132080394
               ],
               [
                23.76884450874316,
                37.89904987761275
               ],
               [
                23.768261123657265,
                37.899622977047784
               ],
               [
                23.76733230753492,
                37.899517516115914
               ]
              ]
             ],
             "type": "Polygon"
            },
            "id": "387",
            "properties": {},
            "type": "Feature"
           },
           {
            "bbox": [
             23.768737031680008,
             37.89654654471474,
             23.770594620843646,
             37.897903664529075
            ],
            "geometry": {
             "coordinates": [
              [
               [
                23.76908245669349,
                37.89779821604107
               ],
               [
                23.768737031680008,
                37.89711965480483
               ],
               [
                23.769320398314605,
                37.89654654471474
               ],
               [
                23.77024918683558,
                37.89665199230288
               ],
               [
                23.770594620843646,
                37.89733055088095
               ],
               [
                23.77001125733635,
                37.897903664529075
               ],
               [
                23.76908245669349,
                37.89779821604107
               ]
              ]
             ],
             "type": "Polygon"
            },
            "id": "388",
            "properties": {},
            "type": "Feature"
           },
           {
            "bbox": [
             23.764830295231445,
             37.88715176939442,
             23.766687693077195,
             37.888508990119504
            ],
            "geometry": {
             "coordinates": [
              [
               [
                23.76517565820574,
                37.888403503568426
               ],
               [
                23.764830295231445,
                37.88772489187701
               ],
               [
                23.76541362824501,
                37.88715176939442
               ],
               [
                23.76634232110856,
                37.88725725504436
               ],
               [
                23.766687693077195,
                37.88793586407801
               ],
               [
                23.76610436318814,
                37.888508990119504
               ],
               [
                23.76517565820574,
                37.888403503568426
               ]
              ]
             ],
             "type": "Polygon"
            },
            "id": "389",
            "properties": {},
            "type": "Feature"
           },
           {
            "bbox": [
             23.76561368680736,
             37.86805812718223,
             23.767470710341016,
             37.86941549992646
            ],
            "geometry": {
             "coordinates": [
              [
               [
                23.76595898548738,
                37.86931000471987
               ],
               [
                23.76561368680736,
                37.868631317018384
               ],
               [
                23.76619689696072,
                37.86805812718223
               ],
               [
                23.767125402670597,
                37.86816362148762
               ],
               [
                23.767470710341016,
                37.868842306530325
               ],
               [
                23.766887503311334,
                37.86941549992646
               ],
               [
                23.76595898548738,
                37.86931000471987
               ]
              ]
             ],
             "type": "Polygon"
            },
            "id": "390",
            "properties": {},
            "type": "Feature"
           },
           {
            "bbox": [
             23.75844722384132,
             37.86084885295923,
             23.76030409377399,
             37.862206328196145
            ],
            "geometry": {
             "coordinates": [
              [
               [
                23.758792445430664,
                37.86210077100822
               ],
               [
                23.75844722384132,
                37.86142203206101
               ],
               [
                23.759030434281918,
                37.86084885295923
               ],
               [
                23.759958863192804,
                37.86095440924374
               ],
               [
                23.76030409377399,
                37.86163314553341
               ],
               [
                23.75972088645265,
                37.862206328196145
               ],
               [
                23.758792445430664,
                37.86210077100822
               ]
              ]
             ],
             "type": "Polygon"
            },
            "id": "391",
            "properties": {},
            "type": "Feature"
           },
           {
            "bbox": [
             23.760602469327246,
             37.87196482597699,
             23.76245956142589,
             37.87332219701109
            ],
            "geometry": {
             "coordinates": [
              [
               [
                23.760947746817635,
                37.87321666539539
               ],
               [
                23.760602469327246,
                37.8725379785496
               ],
               [
                23.761185734950114,
                37.87196482597699
               ],
               [
                23.762114274942387,
                37.87207035669008
               ],
               [
                23.76245956142589,
                37.87274904087836
               ],
               [
                23.761876298924197,
                37.87332219701109
               ],
               [
                23.760947746817635,
                37.87321666539539
               ]
              ]
             ],
             "type": "Polygon"
            },
            "id": "392",
            "properties": {},
            "type": "Feature"
           },
           {
            "bbox": [
             23.759901843511567,
             37.898100500315515,
             23.761759448684753,
             37.89945766087016
            ],
            "geometry": {
             "coordinates": [
              [
               [
                23.760247211648814,
                37.8993521440194
               ],
               [
                23.759901843511567,
                37.89867356241401
               ],
               [
                23.7604852750229,
                37.898100500315515
               ],
               [
                23.76141407154914,
                37.898206016263856
               ],
               [
                23.761759448684753,
                37.89888459521307
               ],
               [
                23.761176020295945,
                37.89945766087016
               ],
               [
                23.760247211648814,
                37.8993521440194
               ]
              ]
             ],
             "type": "Polygon"
            },
            "id": "393",
            "properties": {},
            "type": "Feature"
           },
           {
            "bbox": [
             23.770317923418265,
             37.88074166217818,
             23.772175204178936,
             37.882098902323065
            ],
            "geometry": {
             "coordinates": [
              [
               [
                23.770663301790513,
                37.88199345399163
               ],
               [
                23.770317923418265,
                37.88131483258959
               ],
               [
                23.770901182494345,
                37.88074166217818
               ],
               [
                23.771829816815746,
                37.88084710960996
               ],
               [
                23.772175204178936,
                37.881525728352784
               ],
               [
                23.771591948229986,
                37.882098902323065
               ],
               [
                23.770663301790513,
                37.88199345399163
               ]
              ]
             ],
             "type": "Polygon"
            },
            "id": "394",
            "properties": {},
            "type": "Feature"
           },
           {
            "bbox": [
             23.75718632126937,
             37.88244682923908,
             23.75904361391052,
             37.88380413490367
            ],
            "geometry": {
             "coordinates": [
              [
               [
                23.757531612906767,
                37.88369858452576
               ],
               [
                23.75718632126937,
                37.88301993036533
               ],
               [
                23.757769673014216,
                37.88244682923908
               ],
               [
                23.758698313276657,
                37.882552378713534
               ],
               [
                23.75904361391052,
                37.88323103021766
               ],
               [
                23.758460265285677,
                37.88380413490367
               ],
               [
                23.757531612906767,
                37.88369858452576
               ]
              ]
             ],
             "type": "Polygon"
            },
            "id": "395",
            "properties": {},
            "type": "Feature"
           },
           {
            "bbox": [
             23.770624481709767,
             37.864151131196095,
             23.772481436654967,
             37.865508505637195
            ],
            "geometry": {
             "coordinates": [
              [
               [
                23.770969801569322,
                37.86540304683183
               ],
               [
                23.770624481709767,
                37.86472435828128
               ],
               [
                23.77120763639197,
                37.864151131196095
               ],
               [
                23.77213610780773,
                37.86425658910164
               ],
               [
                23.772481436654967,
                37.86493527499216
               ],
               [
                23.771898285098946,
                37.865508505637195
               ],
               [
                23.770969801569322,
                37.86540304683183
               ]
              ]
             ],
             "type": "Polygon"
            },
            "id": "396",
            "properties": {},
            "type": "Feature"
           },
           {
            "bbox": [
             23.76610436318814,
             37.88793586407801,
             23.767961778562707,
             37.88929307064175
            ],
            "geometry": {
             "coordinates": [
              [
               [
                23.766449738051918,
                37.889187594730345
               ],
               [
                23.76610436318814,
                37.888508990119504
               ],
               [
                23.766687693077195,
                37.88793586407801
               ],
               [
                23.76761639470493,
                37.888041339088645
               ],
               [
                23.767961778562707,
                37.88871994104151
               ],
               [
                23.767378451798926,
                37.88929307064175
               ],
               [
                23.766449738051918,
                37.889187594730345
               ]
              ]
             ],
             "type": "Polygon"
            },
            "id": "397",
            "properties": {},
            "type": "Feature"
           },
           {
            "bbox": [
             23.768245756660182,
             37.87666984976169,
             23.77010295391106,
             37.87802713589561
            ],
            "geometry": {
             "coordinates": [
              [
               [
                23.76859110546844,
                37.87792166808933
               ],
               [
                23.768245756660182,
                37.877243023692905
               ],
               [
                23.768829003544635,
                37.87666984976169
               ],
               [
                23.769757596111816,
                37.876775316667654
               ],
               [
                23.77010295391106,
                37.87745395840512
               ],
               [
                23.769519710152323,
                37.87802713589561
               ],
               [
                23.76859110546844,
                37.87792166808933
               ]
              ]
             ],
             "type": "Polygon"
            },
            "id": "398",
            "properties": {},
            "type": "Feature"
           },
           {
            "bbox": [
             23.756781104450482,
             37.869612075045396,
             23.7586381439526,
             37.870969488511214
            ],
            "geometry": {
             "coordinates": [
              [
               [
                23.757126346281918,
                37.87086392499807
               ],
               [
                23.756781104450482,
                37.87018521693677
               ],
               [
                23.757364379432374,
                37.869612075045396
               ],
               [
                23.758292893126985,
                37.86971763765478
               ],
               [
                23.7586381439526,
                37.870396343059284
               ],
               [
                23.758054872089627,
                37.870969488511214
               ],
               [
                23.757126346281918,
                37.87086392499807
               ]
              ]
             ],
             "type": "Polygon"
            },
            "id": "399",
            "properties": {},
            "type": "Feature"
           },
           {
            "bbox": [
             23.757495193589808,
             37.86585646680302,
             23.759352160415904,
             37.86721390674875
            ],
            "geometry": {
             "coordinates": [
              [
               [
                23.75784042674595,
                37.86710834594672
               ],
               [
                23.757495193589808,
                37.866429624645306
               ],
               [
                23.758078440909564,
                37.86585646680302
               ],
               [
                23.75900691826659,
                37.865962026701446
               ],
               [
                23.759352160415904,
                37.86664074534574
               ],
               [
                23.758768916215217,
                37.86721390674875
               ],
               [
                23.75784042674595,
                37.86710834594672
               ]
              ]
             ],
             "type": "Polygon"
            },
            "id": "400",
            "properties": {},
            "type": "Feature"
           }
          ],
          "type": "FeatureCollection"
         },
         "hovertemplate": "index=%{location}<extra></extra>",
         "locations": {
          "bdata": "AAABAAIAAwAEAAUABgAHAAgACQAKAAsADAANAA4ADwAQABEAEgATABQAFQAWABcAGAAZABoAGwAcAB0AHgAfACAAIQAiACMAJAAlACYAJwAoACkAKgArACwALQAuAC8AMAAxADIAMwA0ADUANgA3ADgAOQA6ADsAPAA9AD4APwBAAEEAQgBDAEQARQBGAEcASABJAEoASwBMAE0ATgBPAFAAUQBSAFMAVABVAFYAVwBYAFkAWgBbAFwAXQBeAF8AYABhAGIAYwBkAGUAZgBnAGgAaQBqAGsAbABtAG4AbwBwAHEAcgBzAHQAdQB2AHcAeAB5AHoAewB8AH0AfgB/AIAAgQCCAIMAhACFAIYAhwCIAIkAigCLAIwAjQCOAI8AkACRAJIAkwCUAJUAlgCXAJgAmQCaAJsAnACdAJ4AnwCgAKEAogCjAKQApQCmAKcAqACpAKoAqwCsAK0ArgCvALAAsQCyALMAtAC1ALYAtwC4ALkAugC7ALwAvQC+AL8AwADBAMIAwwDEAMUAxgDHAMgAyQDKAMsAzADNAM4AzwDQANEA0gDTANQA1QDWANcA2ADZANoA2wDcAN0A3gDfAOAA4QDiAOMA5ADlAOYA5wDoAOkA6gDrAOwA7QDuAO8A8ADxAPIA8wD0APUA9gD3APgA+QD6APsA/AD9AP4A/wAAAQEBAgEDAQQBBQEGAQcBCAEJAQoBCwEMAQ0BDgEPARABEQESARMBFAEVARYBFwEYARkBGgEbARwBHQEeAR8BIAEhASIBIwEkASUBJgEnASgBKQEqASsBLAEtAS4BLwEwATEBMgEzATQBNQE2ATcBOAE5AToBOwE8AT0BPgE/AUABQQFCAUMBRAFFAUYBRwFIAUkBSgFLAUwBTQFOAU8BUAFRAVIBUwFUAVUBVgFXAVgBWQFaAVsBXAFdAV4BXwFgAWEBYgFjAWQBZQFmAWcBaAFpAWoBawFsAW0BbgFvAXABcQFyAXMBdAF1AXYBdwF4AXkBegF7AXwBfQF+AX8BgAGBAYIBgwGEAYUBhgGHAYgBiQGKAYsBjAGNAY4BjwGQAQ==",
          "dtype": "i2"
         },
         "name": "",
         "showlegend": true,
         "showscale": false,
         "subplot": "map",
         "type": "choroplethmap",
         "z": [
          1,
          1,
          1,
          1,
          1,
          1,
          1,
          1,
          1,
          1,
          1,
          1,
          1,
          1,
          1,
          1,
          1,
          1,
          1,
          1,
          1,
          1,
          1,
          1,
          1,
          1,
          1,
          1,
          1,
          1,
          1,
          1,
          1,
          1,
          1,
          1,
          1,
          1,
          1,
          1,
          1,
          1,
          1,
          1,
          1,
          1,
          1,
          1,
          1,
          1,
          1,
          1,
          1,
          1,
          1,
          1,
          1,
          1,
          1,
          1,
          1,
          1,
          1,
          1,
          1,
          1,
          1,
          1,
          1,
          1,
          1,
          1,
          1,
          1,
          1,
          1,
          1,
          1,
          1,
          1,
          1,
          1,
          1,
          1,
          1,
          1,
          1,
          1,
          1,
          1,
          1,
          1,
          1,
          1,
          1,
          1,
          1,
          1,
          1,
          1,
          1,
          1,
          1,
          1,
          1,
          1,
          1,
          1,
          1,
          1,
          1,
          1,
          1,
          1,
          1,
          1,
          1,
          1,
          1,
          1,
          1,
          1,
          1,
          1,
          1,
          1,
          1,
          1,
          1,
          1,
          1,
          1,
          1,
          1,
          1,
          1,
          1,
          1,
          1,
          1,
          1,
          1,
          1,
          1,
          1,
          1,
          1,
          1,
          1,
          1,
          1,
          1,
          1,
          1,
          1,
          1,
          1,
          1,
          1,
          1,
          1,
          1,
          1,
          1,
          1,
          1,
          1,
          1,
          1,
          1,
          1,
          1,
          1,
          1,
          1,
          1,
          1,
          1,
          1,
          1,
          1,
          1,
          1,
          1,
          1,
          1,
          1,
          1,
          1,
          1,
          1,
          1,
          1,
          1,
          1,
          1,
          1,
          1,
          1,
          1,
          1,
          1,
          1,
          1,
          1,
          1,
          1,
          1,
          1,
          1,
          1,
          1,
          1,
          1,
          1,
          1,
          1,
          1,
          1,
          1,
          1,
          1,
          1,
          1,
          1,
          1,
          1,
          1,
          1,
          1,
          1,
          1,
          1,
          1,
          1,
          1,
          1,
          1,
          1,
          1,
          1,
          1,
          1,
          1,
          1,
          1,
          1,
          1,
          1,
          1,
          1,
          1,
          1,
          1,
          1,
          1,
          1,
          1,
          1,
          1,
          1,
          1,
          1,
          1,
          1,
          1,
          1,
          1,
          1,
          1,
          1,
          1,
          1,
          1,
          1,
          1,
          1,
          1,
          1,
          1,
          1,
          1,
          1,
          1,
          1,
          1,
          1,
          1,
          1,
          1,
          1,
          1,
          1,
          1,
          1,
          1,
          1,
          1,
          1,
          1,
          1,
          1,
          1,
          1,
          1,
          1,
          1,
          1,
          1,
          1,
          1,
          1,
          1,
          1,
          1,
          1,
          1,
          1,
          1,
          1,
          1,
          1,
          1,
          1,
          1,
          1,
          1,
          1,
          1,
          1,
          1,
          1,
          1,
          1,
          1,
          1,
          1,
          1,
          1,
          1,
          1,
          1,
          1,
          1,
          1,
          1,
          1,
          1,
          1,
          1,
          1,
          1,
          1,
          1,
          1,
          1,
          1,
          1,
          1,
          1,
          1,
          1,
          1,
          1,
          1,
          1,
          1,
          1,
          1,
          1,
          1,
          1,
          1,
          1,
          1,
          1,
          1,
          1,
          1,
          1,
          1,
          1,
          1,
          1,
          1,
          1,
          1,
          1,
          1,
          1,
          1,
          1,
          1,
          1,
          1,
          1,
          1,
          1,
          1,
          1,
          1
         ]
        }
       ],
       "layout": {
        "legend": {
         "tracegroupgap": 0
        },
        "map": {
         "center": {
          "lat": 37.8757,
          "lon": 23.765249999999998
         },
         "domain": {
          "x": [
           0,
           1
          ],
          "y": [
           0,
           1
          ]
         },
         "style": "open-street-map",
         "zoom": 11.5
        },
        "mapbox": {
         "center": {
          "lat": 37.8757,
          "lon": 23.765249999999998
         },
         "style": "open-street-map",
         "zoom": 11.5
        },
        "margin": {
         "t": 60
        },
        "template": {
         "data": {
          "bar": [
           {
            "error_x": {
             "color": "#2a3f5f"
            },
            "error_y": {
             "color": "#2a3f5f"
            },
            "marker": {
             "line": {
              "color": "#E5ECF6",
              "width": 0.5
             },
             "pattern": {
              "fillmode": "overlay",
              "size": 10,
              "solidity": 0.2
             }
            },
            "type": "bar"
           }
          ],
          "barpolar": [
           {
            "marker": {
             "line": {
              "color": "#E5ECF6",
              "width": 0.5
             },
             "pattern": {
              "fillmode": "overlay",
              "size": 10,
              "solidity": 0.2
             }
            },
            "type": "barpolar"
           }
          ],
          "carpet": [
           {
            "aaxis": {
             "endlinecolor": "#2a3f5f",
             "gridcolor": "white",
             "linecolor": "white",
             "minorgridcolor": "white",
             "startlinecolor": "#2a3f5f"
            },
            "baxis": {
             "endlinecolor": "#2a3f5f",
             "gridcolor": "white",
             "linecolor": "white",
             "minorgridcolor": "white",
             "startlinecolor": "#2a3f5f"
            },
            "type": "carpet"
           }
          ],
          "choropleth": [
           {
            "colorbar": {
             "outlinewidth": 0,
             "ticks": ""
            },
            "type": "choropleth"
           }
          ],
          "contour": [
           {
            "colorbar": {
             "outlinewidth": 0,
             "ticks": ""
            },
            "colorscale": [
             [
              0,
              "#0d0887"
             ],
             [
              0.1111111111111111,
              "#46039f"
             ],
             [
              0.2222222222222222,
              "#7201a8"
             ],
             [
              0.3333333333333333,
              "#9c179e"
             ],
             [
              0.4444444444444444,
              "#bd3786"
             ],
             [
              0.5555555555555556,
              "#d8576b"
             ],
             [
              0.6666666666666666,
              "#ed7953"
             ],
             [
              0.7777777777777778,
              "#fb9f3a"
             ],
             [
              0.8888888888888888,
              "#fdca26"
             ],
             [
              1,
              "#f0f921"
             ]
            ],
            "type": "contour"
           }
          ],
          "contourcarpet": [
           {
            "colorbar": {
             "outlinewidth": 0,
             "ticks": ""
            },
            "type": "contourcarpet"
           }
          ],
          "heatmap": [
           {
            "colorbar": {
             "outlinewidth": 0,
             "ticks": ""
            },
            "colorscale": [
             [
              0,
              "#0d0887"
             ],
             [
              0.1111111111111111,
              "#46039f"
             ],
             [
              0.2222222222222222,
              "#7201a8"
             ],
             [
              0.3333333333333333,
              "#9c179e"
             ],
             [
              0.4444444444444444,
              "#bd3786"
             ],
             [
              0.5555555555555556,
              "#d8576b"
             ],
             [
              0.6666666666666666,
              "#ed7953"
             ],
             [
              0.7777777777777778,
              "#fb9f3a"
             ],
             [
              0.8888888888888888,
              "#fdca26"
             ],
             [
              1,
              "#f0f921"
             ]
            ],
            "type": "heatmap"
           }
          ],
          "histogram": [
           {
            "marker": {
             "pattern": {
              "fillmode": "overlay",
              "size": 10,
              "solidity": 0.2
             }
            },
            "type": "histogram"
           }
          ],
          "histogram2d": [
           {
            "colorbar": {
             "outlinewidth": 0,
             "ticks": ""
            },
            "colorscale": [
             [
              0,
              "#0d0887"
             ],
             [
              0.1111111111111111,
              "#46039f"
             ],
             [
              0.2222222222222222,
              "#7201a8"
             ],
             [
              0.3333333333333333,
              "#9c179e"
             ],
             [
              0.4444444444444444,
              "#bd3786"
             ],
             [
              0.5555555555555556,
              "#d8576b"
             ],
             [
              0.6666666666666666,
              "#ed7953"
             ],
             [
              0.7777777777777778,
              "#fb9f3a"
             ],
             [
              0.8888888888888888,
              "#fdca26"
             ],
             [
              1,
              "#f0f921"
             ]
            ],
            "type": "histogram2d"
           }
          ],
          "histogram2dcontour": [
           {
            "colorbar": {
             "outlinewidth": 0,
             "ticks": ""
            },
            "colorscale": [
             [
              0,
              "#0d0887"
             ],
             [
              0.1111111111111111,
              "#46039f"
             ],
             [
              0.2222222222222222,
              "#7201a8"
             ],
             [
              0.3333333333333333,
              "#9c179e"
             ],
             [
              0.4444444444444444,
              "#bd3786"
             ],
             [
              0.5555555555555556,
              "#d8576b"
             ],
             [
              0.6666666666666666,
              "#ed7953"
             ],
             [
              0.7777777777777778,
              "#fb9f3a"
             ],
             [
              0.8888888888888888,
              "#fdca26"
             ],
             [
              1,
              "#f0f921"
             ]
            ],
            "type": "histogram2dcontour"
           }
          ],
          "mesh3d": [
           {
            "colorbar": {
             "outlinewidth": 0,
             "ticks": ""
            },
            "type": "mesh3d"
           }
          ],
          "parcoords": [
           {
            "line": {
             "colorbar": {
              "outlinewidth": 0,
              "ticks": ""
             }
            },
            "type": "parcoords"
           }
          ],
          "pie": [
           {
            "automargin": true,
            "type": "pie"
           }
          ],
          "scatter": [
           {
            "fillpattern": {
             "fillmode": "overlay",
             "size": 10,
             "solidity": 0.2
            },
            "type": "scatter"
           }
          ],
          "scatter3d": [
           {
            "line": {
             "colorbar": {
              "outlinewidth": 0,
              "ticks": ""
             }
            },
            "marker": {
             "colorbar": {
              "outlinewidth": 0,
              "ticks": ""
             }
            },
            "type": "scatter3d"
           }
          ],
          "scattercarpet": [
           {
            "marker": {
             "colorbar": {
              "outlinewidth": 0,
              "ticks": ""
             }
            },
            "type": "scattercarpet"
           }
          ],
          "scattergeo": [
           {
            "marker": {
             "colorbar": {
              "outlinewidth": 0,
              "ticks": ""
             }
            },
            "type": "scattergeo"
           }
          ],
          "scattergl": [
           {
            "marker": {
             "colorbar": {
              "outlinewidth": 0,
              "ticks": ""
             }
            },
            "type": "scattergl"
           }
          ],
          "scattermap": [
           {
            "marker": {
             "colorbar": {
              "outlinewidth": 0,
              "ticks": ""
             }
            },
            "type": "scattermap"
           }
          ],
          "scattermapbox": [
           {
            "marker": {
             "colorbar": {
              "outlinewidth": 0,
              "ticks": ""
             }
            },
            "type": "scattermapbox"
           }
          ],
          "scatterpolar": [
           {
            "marker": {
             "colorbar": {
              "outlinewidth": 0,
              "ticks": ""
             }
            },
            "type": "scatterpolar"
           }
          ],
          "scatterpolargl": [
           {
            "marker": {
             "colorbar": {
              "outlinewidth": 0,
              "ticks": ""
             }
            },
            "type": "scatterpolargl"
           }
          ],
          "scatterternary": [
           {
            "marker": {
             "colorbar": {
              "outlinewidth": 0,
              "ticks": ""
             }
            },
            "type": "scatterternary"
           }
          ],
          "surface": [
           {
            "colorbar": {
             "outlinewidth": 0,
             "ticks": ""
            },
            "colorscale": [
             [
              0,
              "#0d0887"
             ],
             [
              0.1111111111111111,
              "#46039f"
             ],
             [
              0.2222222222222222,
              "#7201a8"
             ],
             [
              0.3333333333333333,
              "#9c179e"
             ],
             [
              0.4444444444444444,
              "#bd3786"
             ],
             [
              0.5555555555555556,
              "#d8576b"
             ],
             [
              0.6666666666666666,
              "#ed7953"
             ],
             [
              0.7777777777777778,
              "#fb9f3a"
             ],
             [
              0.8888888888888888,
              "#fdca26"
             ],
             [
              1,
              "#f0f921"
             ]
            ],
            "type": "surface"
           }
          ],
          "table": [
           {
            "cells": {
             "fill": {
              "color": "#EBF0F8"
             },
             "line": {
              "color": "white"
             }
            },
            "header": {
             "fill": {
              "color": "#C8D4E3"
             },
             "line": {
              "color": "white"
             }
            },
            "type": "table"
           }
          ]
         },
         "layout": {
          "annotationdefaults": {
           "arrowcolor": "#2a3f5f",
           "arrowhead": 0,
           "arrowwidth": 1
          },
          "autotypenumbers": "strict",
          "coloraxis": {
           "colorbar": {
            "outlinewidth": 0,
            "ticks": ""
           }
          },
          "colorscale": {
           "diverging": [
            [
             0,
             "#8e0152"
            ],
            [
             0.1,
             "#c51b7d"
            ],
            [
             0.2,
             "#de77ae"
            ],
            [
             0.3,
             "#f1b6da"
            ],
            [
             0.4,
             "#fde0ef"
            ],
            [
             0.5,
             "#f7f7f7"
            ],
            [
             0.6,
             "#e6f5d0"
            ],
            [
             0.7,
             "#b8e186"
            ],
            [
             0.8,
             "#7fbc41"
            ],
            [
             0.9,
             "#4d9221"
            ],
            [
             1,
             "#276419"
            ]
           ],
           "sequential": [
            [
             0,
             "#0d0887"
            ],
            [
             0.1111111111111111,
             "#46039f"
            ],
            [
             0.2222222222222222,
             "#7201a8"
            ],
            [
             0.3333333333333333,
             "#9c179e"
            ],
            [
             0.4444444444444444,
             "#bd3786"
            ],
            [
             0.5555555555555556,
             "#d8576b"
            ],
            [
             0.6666666666666666,
             "#ed7953"
            ],
            [
             0.7777777777777778,
             "#fb9f3a"
            ],
            [
             0.8888888888888888,
             "#fdca26"
            ],
            [
             1,
             "#f0f921"
            ]
           ],
           "sequentialminus": [
            [
             0,
             "#0d0887"
            ],
            [
             0.1111111111111111,
             "#46039f"
            ],
            [
             0.2222222222222222,
             "#7201a8"
            ],
            [
             0.3333333333333333,
             "#9c179e"
            ],
            [
             0.4444444444444444,
             "#bd3786"
            ],
            [
             0.5555555555555556,
             "#d8576b"
            ],
            [
             0.6666666666666666,
             "#ed7953"
            ],
            [
             0.7777777777777778,
             "#fb9f3a"
            ],
            [
             0.8888888888888888,
             "#fdca26"
            ],
            [
             1,
             "#f0f921"
            ]
           ]
          },
          "colorway": [
           "#636efa",
           "#EF553B",
           "#00cc96",
           "#ab63fa",
           "#FFA15A",
           "#19d3f3",
           "#FF6692",
           "#B6E880",
           "#FF97FF",
           "#FECB52"
          ],
          "font": {
           "color": "#2a3f5f"
          },
          "geo": {
           "bgcolor": "white",
           "lakecolor": "white",
           "landcolor": "#E5ECF6",
           "showlakes": true,
           "showland": true,
           "subunitcolor": "white"
          },
          "hoverlabel": {
           "align": "left"
          },
          "hovermode": "closest",
          "mapbox": {
           "style": "light"
          },
          "paper_bgcolor": "white",
          "plot_bgcolor": "#E5ECF6",
          "polar": {
           "angularaxis": {
            "gridcolor": "white",
            "linecolor": "white",
            "ticks": ""
           },
           "bgcolor": "#E5ECF6",
           "radialaxis": {
            "gridcolor": "white",
            "linecolor": "white",
            "ticks": ""
           }
          },
          "scene": {
           "xaxis": {
            "backgroundcolor": "#E5ECF6",
            "gridcolor": "white",
            "gridwidth": 2,
            "linecolor": "white",
            "showbackground": true,
            "ticks": "",
            "zerolinecolor": "white"
           },
           "yaxis": {
            "backgroundcolor": "#E5ECF6",
            "gridcolor": "white",
            "gridwidth": 2,
            "linecolor": "white",
            "showbackground": true,
            "ticks": "",
            "zerolinecolor": "white"
           },
           "zaxis": {
            "backgroundcolor": "#E5ECF6",
            "gridcolor": "white",
            "gridwidth": 2,
            "linecolor": "white",
            "showbackground": true,
            "ticks": "",
            "zerolinecolor": "white"
           }
          },
          "shapedefaults": {
           "line": {
            "color": "#2a3f5f"
           }
          },
          "ternary": {
           "aaxis": {
            "gridcolor": "white",
            "linecolor": "white",
            "ticks": ""
           },
           "baxis": {
            "gridcolor": "white",
            "linecolor": "white",
            "ticks": ""
           },
           "bgcolor": "#E5ECF6",
           "caxis": {
            "gridcolor": "white",
            "linecolor": "white",
            "ticks": ""
           }
          },
          "title": {
           "x": 0.05
          },
          "xaxis": {
           "automargin": true,
           "gridcolor": "white",
           "linecolor": "white",
           "ticks": "",
           "title": {
            "standoff": 15
           },
           "zerolinecolor": "white",
           "zerolinewidth": 2
          },
          "yaxis": {
           "automargin": true,
           "gridcolor": "white",
           "linecolor": "white",
           "ticks": "",
           "title": {
            "standoff": 15
           },
           "zerolinecolor": "white",
           "zerolinewidth": 2
          }
         }
        }
       }
      }
     },
     "metadata": {},
     "output_type": "display_data"
    }
   ],
   "source": [
    "box = shapely.box(*bbox)\n",
    "coords = [list(box.exterior.coords)]\n",
    "cells = h3.geo_to_cells(box, res=10)\n",
    "cells = [{'h3id': cell, 'geometry': h3cell_to_shapely_polygon(cell)} for cell in cells]\n",
    "cells = gpd.GeoDataFrame(cells, crs='epsg:4326')\n",
    "cells.head(2)\n",
    "px.choropleth_map(cells, geojson=cells.geometry, locations=cells.index,\n",
    "                  center={'lat': box.centroid.y, 'lon': box.centroid.x}, zoom=11.5,\n",
    "                  map_style=map_style)"
   ]
  },
  {
   "cell_type": "code",
   "execution_count": 26,
   "id": "13082f58",
   "metadata": {},
   "outputs": [
    {
     "data": {
      "application/vnd.plotly.v1+json": {
       "config": {
        "plotlyServerURL": "https://plot.ly"
       },
       "data": [
        {
         "coloraxis": "coloraxis",
         "geojson": {
          "bbox": [
           23.757829738195525,
           37.864302436201484,
           23.769220288301458,
           37.89742191428315
          ],
          "features": [
           {
            "bbox": [
             23.76481574337129,
             37.864302436201484,
             23.769220288301458,
             37.86816362148762
            ],
            "geometry": {
             "coordinates": [
              [
               [
                23.764923104225492,
                37.86727393012921
               ],
               [
                23.76481574337129,
                37.865343335751064
               ],
               [
                23.766910593424853,
                37.864302436201484
               ],
               [
                23.769112839910495,
                37.86519210705603
               ],
               [
                23.769220288301458,
                37.867122697962756
               ],
               [
                23.767125402670597,
                37.86816362148762
               ],
               [
                23.764923104225492,
                37.86727393012921
               ]
              ]
             ],
             "type": "Polygon"
            },
            "id": "0",
            "properties": {},
            "type": "Feature"
           },
           {
            "bbox": [
             23.75981803048416,
             37.890590433251,
             23.76422371475421,
             37.89445102391232
            ],
            "geometry": {
             "coordinates": [
              [
               [
                23.759925319197876,
                37.89356138747918
               ],
               [
                23.75981803048416,
                37.89163109041949
               ],
               [
                23.761913522303807,
                37.890590433251
               ],
               [
                23.764116338452972,
                37.8914800491832
               ],
               [
                23.76422371475421,
                37.893410342783575
               ],
               [
                23.76212818731932,
                37.89445102391232
               ],
               [
                23.759925319197876,
                37.89356138747918
               ]
              ]
             ],
             "type": "Polygon"
            },
            "id": "1",
            "properties": {},
            "type": "Feature"
           },
           {
            "bbox": [
             23.761162332899268,
             37.87603689312086,
             23.765567361476116,
             37.87989781662351
            ],
            "geometry": {
             "coordinates": [
              [
               [
                23.761269632516363,
                37.87900812304728
               ],
               [
                23.761162332899268,
                37.87707765956506
               ],
               [
                23.763257485990618,
                37.87603689312086
               ],
               [
                23.76545997429903,
                37.87692656619278
               ],
               [
                23.765567361476116,
                37.87885702621197
               ],
               [
                23.763472172785367,
                37.87989781662351
               ],
               [
                23.761269632516363,
                37.87900812304728
               ]
              ]
             ],
             "type": "Polygon"
            },
            "id": "2",
            "properties": {},
            "type": "Feature"
           },
           {
            "bbox": [
             23.75917439026739,
             37.87900812304728,
             23.76357952276228,
             37.88286898278639
            ],
            "geometry": {
             "coordinates": [
              [
               [
                23.759281652678013,
                37.881979268704384
               ],
               [
                23.75917439026739,
                37.88004883710613
               ],
               [
                23.761269632516363,
                37.87900812304728
               ],
               [
                23.763472172785367,
                37.87989781662351
               ],
               [
                23.76357952276228,
                37.881828244763106
               ],
               [
                23.761484244904466,
                37.88286898278639
               ],
               [
                23.759281652678013,
                37.881979268704384
               ]
              ]
             ],
             "type": "Polygon"
            },
            "id": "3",
            "properties": {},
            "type": "Feature"
           },
           {
            "bbox": [
             23.763150149172247,
             37.87306557894884,
             23.767555073824763,
             37.87692656619278
            ],
            "geometry": {
             "coordinates": [
              [
               [
                23.763257485990618,
                37.87603689312086
               ],
               [
                23.763150149172247,
                37.87410639776583
               ],
               [
                23.76524521310805,
                37.87306557894884
               ],
               [
                23.767447649452713,
                37.87395523151789
               ],
               [
                23.767555073824763,
                37.87588572340554
               ],
               [
                23.76545997429903,
                37.87692656619278
               ],
               [
                23.763257485990618,
                37.87603689312086
               ]
              ]
             ],
             "type": "Polygon"
            },
            "id": "4",
            "properties": {},
            "type": "Feature"
           },
           {
            "bbox": [
             23.76282816502994,
             37.86727393012921,
             23.767232813875903,
             37.871135051732125
            ],
            "geometry": {
             "coordinates": [
              [
               [
                23.76293548869217,
                37.87024533986841
               ],
               [
                23.76282816502994,
                37.86831477733405
               ],
               [
                23.764923104225492,
                37.86727393012921
               ],
               [
                23.767125402670597,
                37.86816362148762
               ],
               [
                23.767232813875903,
                37.870094180554915
               ],
               [
                23.765137839093605,
                37.871135051732125
               ],
               [
                23.76293548869217,
                37.87024533986841
               ]
              ]
             ],
             "type": "Polygon"
            },
            "id": "5",
            "properties": {},
            "type": "Feature"
           },
           {
            "bbox": [
             23.76084046035257,
             37.87024533986841,
             23.76524521310805,
             37.87410639776583
            ],
            "geometry": {
             "coordinates": [
              [
               [
                23.760947746817635,
                37.87321666539539
               ],
               [
                23.76084046035257,
                37.87128613471596
               ],
               [
                23.76293548869217,
                37.87024533986841
               ],
               [
                23.765137839093605,
                37.871135051732125
               ],
               [
                23.76524521310805,
                37.87306557894884
               ],
               [
                23.763150149172247,
                37.87410639776583
               ],
               [
                23.760947746817635,
                37.87321666539539
               ]
              ]
             ],
             "type": "Polygon"
            },
            "id": "6",
            "properties": {},
            "type": "Feature"
           },
           {
            "bbox": [
             23.759496190649063,
             37.88479937903526,
             23.7639015990144,
             37.88866010427157
            ],
            "geometry": {
             "coordinates": [
              [
               [
                23.759603466210013,
                37.88777042900475
               ],
               [
                23.759496190649063,
                37.88584006465771
               ],
               [
                23.761591557676002,
                37.88479937903526
               ],
               [
                23.76379423587653,
                37.885689033798755
               ],
               [
                23.7639015990144,
                37.88761939468679
               ],
               [
                23.761806196375407,
                37.88866010427157
               ],
               [
                23.759603466210013,
                37.88777042900475
               ]
              ]
             ],
             "type": "Polygon"
            },
            "id": "7",
            "properties": {},
            "type": "Feature"
           },
           {
            "bbox": [
             23.761484244904466,
             37.881828244763106,
             23.76588954933693,
             37.885689033798755
            ],
            "geometry": {
             "coordinates": [
              [
               [
                23.761591557676002,
                37.88479937903526
               ],
               [
                23.761484244904466,
                37.88286898278639
               ],
               [
                23.76357952276228,
                37.881828244763106
               ],
               [
                23.765782148994795,
                37.882717879024696
               ],
               [
                23.76588954933693,
                37.88464827181023
               ],
               [
                23.76379423587653,
                37.885689033798755
               ],
               [
                23.761591557676002,
                37.88479937903526
               ]
              ]
             ],
             "type": "Polygon"
            },
            "id": "8",
            "properties": {},
            "type": "Feature"
           },
           {
            "bbox": [
             23.757829738195525,
             37.89356138747918,
             23.76223552640699,
             37.89742191428315
            ],
            "geometry": {
             "coordinates": [
              [
               [
                23.75793698968935,
                37.896532257347644
               ],
               [
                23.757829738195525,
                37.894601992218796
               ],
               [
                23.759925319197876,
                37.89356138747918
               ],
               [
                23.76212818731932,
                37.89445102391232
               ],
               [
                23.76223552640699,
                37.89638128558618
               ],
               [
                23.76013990977993,
                37.89742191428315
               ],
               [
                23.75793698968935,
                37.896532257347644
               ]
              ]
             ],
             "type": "Polygon"
            },
            "id": "9",
            "properties": {},
            "type": "Feature"
           }
          ],
          "type": "FeatureCollection"
         },
         "hovertemplate": "index=%{location}<br>count=%{z}<extra></extra>",
         "locations": {
          "bdata": "AAECAwQFBgcICQ==",
          "dtype": "i1"
         },
         "name": "",
         "subplot": "map",
         "type": "choroplethmap",
         "z": {
          "bdata": "AwQIAgQEAQMHAg==",
          "dtype": "i1"
         }
        }
       ],
       "layout": {
        "coloraxis": {
         "colorbar": {
          "title": {
           "text": "count"
          }
         },
         "colorscale": [
          [
           0,
           "rgb(255,245,240)"
          ],
          [
           0.125,
           "rgb(254,224,210)"
          ],
          [
           0.25,
           "rgb(252,187,161)"
          ],
          [
           0.375,
           "rgb(252,146,114)"
          ],
          [
           0.5,
           "rgb(251,106,74)"
          ],
          [
           0.625,
           "rgb(239,59,44)"
          ],
          [
           0.75,
           "rgb(203,24,29)"
          ],
          [
           0.875,
           "rgb(165,15,21)"
          ],
          [
           1,
           "rgb(103,0,13)"
          ]
         ]
        },
        "legend": {
         "tracegroupgap": 0
        },
        "map": {
         "center": {
          "lat": 37.8757,
          "lon": 23.765249999999998
         },
         "domain": {
          "x": [
           0,
           1
          ],
          "y": [
           0,
           1
          ]
         },
         "style": "open-street-map",
         "zoom": 11.5
        },
        "mapbox": {
         "center": {
          "lat": 37.8757,
          "lon": 23.765249999999998
         },
         "style": "open-street-map",
         "zoom": 11.5
        },
        "template": {
         "data": {
          "bar": [
           {
            "error_x": {
             "color": "#2a3f5f"
            },
            "error_y": {
             "color": "#2a3f5f"
            },
            "marker": {
             "line": {
              "color": "#E5ECF6",
              "width": 0.5
             },
             "pattern": {
              "fillmode": "overlay",
              "size": 10,
              "solidity": 0.2
             }
            },
            "type": "bar"
           }
          ],
          "barpolar": [
           {
            "marker": {
             "line": {
              "color": "#E5ECF6",
              "width": 0.5
             },
             "pattern": {
              "fillmode": "overlay",
              "size": 10,
              "solidity": 0.2
             }
            },
            "type": "barpolar"
           }
          ],
          "carpet": [
           {
            "aaxis": {
             "endlinecolor": "#2a3f5f",
             "gridcolor": "white",
             "linecolor": "white",
             "minorgridcolor": "white",
             "startlinecolor": "#2a3f5f"
            },
            "baxis": {
             "endlinecolor": "#2a3f5f",
             "gridcolor": "white",
             "linecolor": "white",
             "minorgridcolor": "white",
             "startlinecolor": "#2a3f5f"
            },
            "type": "carpet"
           }
          ],
          "choropleth": [
           {
            "colorbar": {
             "outlinewidth": 0,
             "ticks": ""
            },
            "type": "choropleth"
           }
          ],
          "contour": [
           {
            "colorbar": {
             "outlinewidth": 0,
             "ticks": ""
            },
            "colorscale": [
             [
              0,
              "#0d0887"
             ],
             [
              0.1111111111111111,
              "#46039f"
             ],
             [
              0.2222222222222222,
              "#7201a8"
             ],
             [
              0.3333333333333333,
              "#9c179e"
             ],
             [
              0.4444444444444444,
              "#bd3786"
             ],
             [
              0.5555555555555556,
              "#d8576b"
             ],
             [
              0.6666666666666666,
              "#ed7953"
             ],
             [
              0.7777777777777778,
              "#fb9f3a"
             ],
             [
              0.8888888888888888,
              "#fdca26"
             ],
             [
              1,
              "#f0f921"
             ]
            ],
            "type": "contour"
           }
          ],
          "contourcarpet": [
           {
            "colorbar": {
             "outlinewidth": 0,
             "ticks": ""
            },
            "type": "contourcarpet"
           }
          ],
          "heatmap": [
           {
            "colorbar": {
             "outlinewidth": 0,
             "ticks": ""
            },
            "colorscale": [
             [
              0,
              "#0d0887"
             ],
             [
              0.1111111111111111,
              "#46039f"
             ],
             [
              0.2222222222222222,
              "#7201a8"
             ],
             [
              0.3333333333333333,
              "#9c179e"
             ],
             [
              0.4444444444444444,
              "#bd3786"
             ],
             [
              0.5555555555555556,
              "#d8576b"
             ],
             [
              0.6666666666666666,
              "#ed7953"
             ],
             [
              0.7777777777777778,
              "#fb9f3a"
             ],
             [
              0.8888888888888888,
              "#fdca26"
             ],
             [
              1,
              "#f0f921"
             ]
            ],
            "type": "heatmap"
           }
          ],
          "histogram": [
           {
            "marker": {
             "pattern": {
              "fillmode": "overlay",
              "size": 10,
              "solidity": 0.2
             }
            },
            "type": "histogram"
           }
          ],
          "histogram2d": [
           {
            "colorbar": {
             "outlinewidth": 0,
             "ticks": ""
            },
            "colorscale": [
             [
              0,
              "#0d0887"
             ],
             [
              0.1111111111111111,
              "#46039f"
             ],
             [
              0.2222222222222222,
              "#7201a8"
             ],
             [
              0.3333333333333333,
              "#9c179e"
             ],
             [
              0.4444444444444444,
              "#bd3786"
             ],
             [
              0.5555555555555556,
              "#d8576b"
             ],
             [
              0.6666666666666666,
              "#ed7953"
             ],
             [
              0.7777777777777778,
              "#fb9f3a"
             ],
             [
              0.8888888888888888,
              "#fdca26"
             ],
             [
              1,
              "#f0f921"
             ]
            ],
            "type": "histogram2d"
           }
          ],
          "histogram2dcontour": [
           {
            "colorbar": {
             "outlinewidth": 0,
             "ticks": ""
            },
            "colorscale": [
             [
              0,
              "#0d0887"
             ],
             [
              0.1111111111111111,
              "#46039f"
             ],
             [
              0.2222222222222222,
              "#7201a8"
             ],
             [
              0.3333333333333333,
              "#9c179e"
             ],
             [
              0.4444444444444444,
              "#bd3786"
             ],
             [
              0.5555555555555556,
              "#d8576b"
             ],
             [
              0.6666666666666666,
              "#ed7953"
             ],
             [
              0.7777777777777778,
              "#fb9f3a"
             ],
             [
              0.8888888888888888,
              "#fdca26"
             ],
             [
              1,
              "#f0f921"
             ]
            ],
            "type": "histogram2dcontour"
           }
          ],
          "mesh3d": [
           {
            "colorbar": {
             "outlinewidth": 0,
             "ticks": ""
            },
            "type": "mesh3d"
           }
          ],
          "parcoords": [
           {
            "line": {
             "colorbar": {
              "outlinewidth": 0,
              "ticks": ""
             }
            },
            "type": "parcoords"
           }
          ],
          "pie": [
           {
            "automargin": true,
            "type": "pie"
           }
          ],
          "scatter": [
           {
            "fillpattern": {
             "fillmode": "overlay",
             "size": 10,
             "solidity": 0.2
            },
            "type": "scatter"
           }
          ],
          "scatter3d": [
           {
            "line": {
             "colorbar": {
              "outlinewidth": 0,
              "ticks": ""
             }
            },
            "marker": {
             "colorbar": {
              "outlinewidth": 0,
              "ticks": ""
             }
            },
            "type": "scatter3d"
           }
          ],
          "scattercarpet": [
           {
            "marker": {
             "colorbar": {
              "outlinewidth": 0,
              "ticks": ""
             }
            },
            "type": "scattercarpet"
           }
          ],
          "scattergeo": [
           {
            "marker": {
             "colorbar": {
              "outlinewidth": 0,
              "ticks": ""
             }
            },
            "type": "scattergeo"
           }
          ],
          "scattergl": [
           {
            "marker": {
             "colorbar": {
              "outlinewidth": 0,
              "ticks": ""
             }
            },
            "type": "scattergl"
           }
          ],
          "scattermap": [
           {
            "marker": {
             "colorbar": {
              "outlinewidth": 0,
              "ticks": ""
             }
            },
            "type": "scattermap"
           }
          ],
          "scattermapbox": [
           {
            "marker": {
             "colorbar": {
              "outlinewidth": 0,
              "ticks": ""
             }
            },
            "type": "scattermapbox"
           }
          ],
          "scatterpolar": [
           {
            "marker": {
             "colorbar": {
              "outlinewidth": 0,
              "ticks": ""
             }
            },
            "type": "scatterpolar"
           }
          ],
          "scatterpolargl": [
           {
            "marker": {
             "colorbar": {
              "outlinewidth": 0,
              "ticks": ""
             }
            },
            "type": "scatterpolargl"
           }
          ],
          "scatterternary": [
           {
            "marker": {
             "colorbar": {
              "outlinewidth": 0,
              "ticks": ""
             }
            },
            "type": "scatterternary"
           }
          ],
          "surface": [
           {
            "colorbar": {
             "outlinewidth": 0,
             "ticks": ""
            },
            "colorscale": [
             [
              0,
              "#0d0887"
             ],
             [
              0.1111111111111111,
              "#46039f"
             ],
             [
              0.2222222222222222,
              "#7201a8"
             ],
             [
              0.3333333333333333,
              "#9c179e"
             ],
             [
              0.4444444444444444,
              "#bd3786"
             ],
             [
              0.5555555555555556,
              "#d8576b"
             ],
             [
              0.6666666666666666,
              "#ed7953"
             ],
             [
              0.7777777777777778,
              "#fb9f3a"
             ],
             [
              0.8888888888888888,
              "#fdca26"
             ],
             [
              1,
              "#f0f921"
             ]
            ],
            "type": "surface"
           }
          ],
          "table": [
           {
            "cells": {
             "fill": {
              "color": "#EBF0F8"
             },
             "line": {
              "color": "white"
             }
            },
            "header": {
             "fill": {
              "color": "#C8D4E3"
             },
             "line": {
              "color": "white"
             }
            },
            "type": "table"
           }
          ]
         },
         "layout": {
          "annotationdefaults": {
           "arrowcolor": "#2a3f5f",
           "arrowhead": 0,
           "arrowwidth": 1
          },
          "autotypenumbers": "strict",
          "coloraxis": {
           "colorbar": {
            "outlinewidth": 0,
            "ticks": ""
           }
          },
          "colorscale": {
           "diverging": [
            [
             0,
             "#8e0152"
            ],
            [
             0.1,
             "#c51b7d"
            ],
            [
             0.2,
             "#de77ae"
            ],
            [
             0.3,
             "#f1b6da"
            ],
            [
             0.4,
             "#fde0ef"
            ],
            [
             0.5,
             "#f7f7f7"
            ],
            [
             0.6,
             "#e6f5d0"
            ],
            [
             0.7,
             "#b8e186"
            ],
            [
             0.8,
             "#7fbc41"
            ],
            [
             0.9,
             "#4d9221"
            ],
            [
             1,
             "#276419"
            ]
           ],
           "sequential": [
            [
             0,
             "#0d0887"
            ],
            [
             0.1111111111111111,
             "#46039f"
            ],
            [
             0.2222222222222222,
             "#7201a8"
            ],
            [
             0.3333333333333333,
             "#9c179e"
            ],
            [
             0.4444444444444444,
             "#bd3786"
            ],
            [
             0.5555555555555556,
             "#d8576b"
            ],
            [
             0.6666666666666666,
             "#ed7953"
            ],
            [
             0.7777777777777778,
             "#fb9f3a"
            ],
            [
             0.8888888888888888,
             "#fdca26"
            ],
            [
             1,
             "#f0f921"
            ]
           ],
           "sequentialminus": [
            [
             0,
             "#0d0887"
            ],
            [
             0.1111111111111111,
             "#46039f"
            ],
            [
             0.2222222222222222,
             "#7201a8"
            ],
            [
             0.3333333333333333,
             "#9c179e"
            ],
            [
             0.4444444444444444,
             "#bd3786"
            ],
            [
             0.5555555555555556,
             "#d8576b"
            ],
            [
             0.6666666666666666,
             "#ed7953"
            ],
            [
             0.7777777777777778,
             "#fb9f3a"
            ],
            [
             0.8888888888888888,
             "#fdca26"
            ],
            [
             1,
             "#f0f921"
            ]
           ]
          },
          "colorway": [
           "#636efa",
           "#EF553B",
           "#00cc96",
           "#ab63fa",
           "#FFA15A",
           "#19d3f3",
           "#FF6692",
           "#B6E880",
           "#FF97FF",
           "#FECB52"
          ],
          "font": {
           "color": "#2a3f5f"
          },
          "geo": {
           "bgcolor": "white",
           "lakecolor": "white",
           "landcolor": "#E5ECF6",
           "showlakes": true,
           "showland": true,
           "subunitcolor": "white"
          },
          "hoverlabel": {
           "align": "left"
          },
          "hovermode": "closest",
          "mapbox": {
           "style": "light"
          },
          "paper_bgcolor": "white",
          "plot_bgcolor": "#E5ECF6",
          "polar": {
           "angularaxis": {
            "gridcolor": "white",
            "linecolor": "white",
            "ticks": ""
           },
           "bgcolor": "#E5ECF6",
           "radialaxis": {
            "gridcolor": "white",
            "linecolor": "white",
            "ticks": ""
           }
          },
          "scene": {
           "xaxis": {
            "backgroundcolor": "#E5ECF6",
            "gridcolor": "white",
            "gridwidth": 2,
            "linecolor": "white",
            "showbackground": true,
            "ticks": "",
            "zerolinecolor": "white"
           },
           "yaxis": {
            "backgroundcolor": "#E5ECF6",
            "gridcolor": "white",
            "gridwidth": 2,
            "linecolor": "white",
            "showbackground": true,
            "ticks": "",
            "zerolinecolor": "white"
           },
           "zaxis": {
            "backgroundcolor": "#E5ECF6",
            "gridcolor": "white",
            "gridwidth": 2,
            "linecolor": "white",
            "showbackground": true,
            "ticks": "",
            "zerolinecolor": "white"
           }
          },
          "shapedefaults": {
           "line": {
            "color": "#2a3f5f"
           }
          },
          "ternary": {
           "aaxis": {
            "gridcolor": "white",
            "linecolor": "white",
            "ticks": ""
           },
           "baxis": {
            "gridcolor": "white",
            "linecolor": "white",
            "ticks": ""
           },
           "bgcolor": "#E5ECF6",
           "caxis": {
            "gridcolor": "white",
            "linecolor": "white",
            "ticks": ""
           }
          },
          "title": {
           "x": 0.05
          },
          "xaxis": {
           "automargin": true,
           "gridcolor": "white",
           "linecolor": "white",
           "ticks": "",
           "title": {
            "standoff": 15
           },
           "zerolinecolor": "white",
           "zerolinewidth": 2
          },
          "yaxis": {
           "automargin": true,
           "gridcolor": "white",
           "linecolor": "white",
           "ticks": "",
           "title": {
            "standoff": 15
           },
           "zerolinecolor": "white",
           "zerolinewidth": 2
          }
         }
        },
        "title": {
         "text": "Concentration of cafes (H3 cells)"
        }
       }
      }
     },
     "metadata": {},
     "output_type": "display_data"
    }
   ],
   "source": [
    "counts = gpd.sjoin(cells, cafes, predicate='contains').groupby(['h3id', 'geometry'], as_index=False)['index_right'].count()\n",
    "counts = counts.rename(columns={'index_right':'count'})\n",
    "counts = gpd.GeoDataFrame(counts) # groupby casts to pd.DataFrame\n",
    "px.choropleth_map(counts, geojson=counts.geometry, locations=counts.index,\n",
    "                  color='count', color_continuous_scale=px.colors.sequential.Reds,\n",
    "                  center={'lat': box.centroid.y, 'lon': box.centroid.x}, zoom=11.5,\n",
    "                  title='Concentration of cafes (H3 cells)', map_style=map_style)"
   ]
  },
  {
   "cell_type": "code",
   "execution_count": null,
   "id": "89ff055e",
   "metadata": {},
   "outputs": [],
   "source": []
  }
 ],
 "metadata": {
  "kernelspec": {
   "display_name": "python-meetup",
   "language": "python",
   "name": "python3"
  },
  "language_info": {
   "codemirror_mode": {
    "name": "ipython",
    "version": 3
   },
   "file_extension": ".py",
   "mimetype": "text/x-python",
   "name": "python",
   "nbconvert_exporter": "python",
   "pygments_lexer": "ipython3",
   "version": "3.11.11"
  }
 },
 "nbformat": 4,
 "nbformat_minor": 5
}
