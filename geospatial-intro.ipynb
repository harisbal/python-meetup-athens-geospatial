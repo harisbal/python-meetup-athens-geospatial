{
 "cells": [
  {
   "cell_type": "code",
   "execution_count": 10,
   "metadata": {},
   "outputs": [],
   "source": [
    "import os\n",
    "import logging\n",
    "import pickle\n",
    "import osmnx as ox\n",
    "import numpy as np\n",
    "import geopandas as gpd\n",
    "import h3\n",
    "import shapely\n",
    "import requests\n",
    "from tqdm.notebook import tqdm\n",
    "from pyproj import Transformer\n",
    "from shapely.ops import linemerge\n",
    "from shapely import Polygon\n",
    "from pyogrio.errors import DataSourceError\n",
    "import plotly.express as px\n",
    "\n",
    "ox.settings.cache_folder = './data'"
   ]
  },
  {
   "cell_type": "markdown",
   "id": "43e41d00",
   "metadata": {},
   "source": [
    "## functions"
   ]
  },
  {
   "cell_type": "code",
   "execution_count": 11,
   "id": "81254b01",
   "metadata": {},
   "outputs": [],
   "source": [
    "def fetch_google_places(categories:list[str], lon:float, lat:float, radius:float, apikey:str):\n",
    "    \n",
    "    headers = {\n",
    "        \"Content-Type\": \"application/json\",\n",
    "        \"X-Goog-Api-Key\": apikey,\n",
    "        \"X-Goog-FieldMask\": \"places.id,places.displayName,places.location,places.businessStatus,places.formattedAddress,places.primaryTypeDisplayName,places.primaryType\",\n",
    "    }\n",
    "    url = \"https://places.googleapis.com/v1/places:searchNearby\"\n",
    "\n",
    "    data = {\n",
    "            \"includedTypes\": categories,\n",
    "            \"maxResultCount\": 20,\n",
    "            \"locationRestriction\": {\n",
    "                \"circle\": {\n",
    "                    \"center\": {\"latitude\": lat, \"longitude\": lon},\n",
    "                    \"radius\": radius,\n",
    "                }\n",
    "            },\n",
    "        }\n",
    "    \n",
    "    r = requests.post(url, headers=headers, json=data)\n",
    "    if r.status_code != 200:\n",
    "        logging.warning(f\"error at request: {r.request}\")\n",
    "        return\n",
    "\n",
    "    data = r.json().get('places', [])\n",
    "    if not data:\n",
    "        return data\n",
    "\n",
    "    if len(data) >= 20:\n",
    "        logging.warning(f'query at lon:{lon}, lat:{lat} returned 20+ results')\n",
    "    \n",
    "    for r in data:\n",
    "        r['name'] = r['displayName']['text']\n",
    "        r['geometry'] = shapely.Point(r['location']['longitude'], r['location']['latitude'])\n",
    "\n",
    "    return data\n",
    "\n"
   ]
  },
  {
   "cell_type": "code",
   "execution_count": 12,
   "id": "12e3d402",
   "metadata": {},
   "outputs": [],
   "source": [
    "def h3cell_to_shapely(cell):\n",
    "    coords = h3.cell_to_boundary(cell)\n",
    "    flipped = tuple(coord[::-1] for coord in coords)\n",
    "    return Polygon(flipped)"
   ]
  },
  {
   "cell_type": "markdown",
   "id": "6abff99b",
   "metadata": {},
   "source": [
    "## inputs"
   ]
  },
  {
   "cell_type": "code",
   "execution_count": 13,
   "id": "b5b68b9b",
   "metadata": {},
   "outputs": [],
   "source": [
    "apikey = os.getenv(\"GOOGLE_API_KEY\")\n",
    "radius = 200\n",
    "step = 100\n",
    "buffer = 30\n",
    "categories = ['cafe', 'bakery']\n",
    "map_style = \"open-street-map\""
   ]
  },
  {
   "cell_type": "markdown",
   "id": "3984f0da",
   "metadata": {},
   "source": [
    "# Geospatial Analysis"
   ]
  },
  {
   "cell_type": "markdown",
   "id": "9cea7577",
   "metadata": {},
   "source": [
    "## download network (roads)"
   ]
  },
  {
   "cell_type": "code",
   "execution_count": 14,
   "id": "670aab51",
   "metadata": {},
   "outputs": [],
   "source": [
    "bbox = [23.7576, 37.8524, 23.7729, 37.899]\n",
    "g = ox.graph_from_bbox(bbox) # we can modify filters\n",
    "nodes, links = ox.graph_to_gdfs(g)"
   ]
  },
  {
   "cell_type": "markdown",
   "id": "f766010a",
   "metadata": {},
   "source": [
    "## create the linestring geometry"
   ]
  },
  {
   "cell_type": "code",
   "execution_count": 15,
   "id": "6d0208c6",
   "metadata": {},
   "outputs": [],
   "source": [
    "road = links[links['name'] == 'Δημητρίου Γούναρη']\n",
    "crs = road.estimate_utm_crs()\n",
    "geom_proj = road.to_crs(crs).union_all()\n",
    "geoms_proj = gpd.GeoDataFrame(geometry=[linemerge(geom_proj)]).explode()\n",
    "geoms_proj['length'] = geoms_proj.length\n",
    "geom_proj = geoms_proj.sort_values(['length'], ascending=False).iloc[0].geometry\n",
    "road_buffered = road.to_crs(crs).buffer(buffer).to_crs(epsg=4326).union_all()"
   ]
  },
  {
   "cell_type": "code",
   "execution_count": null,
   "id": "19944263",
   "metadata": {},
   "outputs": [
    {
     "data": {
      "application/vnd.jupyter.widget-view+json": {
       "model_id": "f0a3d92810a641aca51e3986939c51d7",
       "version_major": 2,
       "version_minor": 0
      },
      "text/plain": [
       "  0%|          | 0/48 [00:00<?, ?it/s]"
      ]
     },
     "metadata": {},
     "output_type": "display_data"
    },
    {
     "ename": "ValueError",
     "evalue": "Assigning CRS to a GeoDataFrame without a geometry column is not supported. Supply geometry using the 'geometry=' keyword argument, or by providing a DataFrame with column name 'geometry'",
     "output_type": "error",
     "traceback": [
      "\u001b[31m---------------------------------------------------------------------------\u001b[39m",
      "\u001b[31mDataSourceError\u001b[39m                           Traceback (most recent call last)",
      "\u001b[36mCell\u001b[39m\u001b[36m \u001b[39m\u001b[32mIn[16]\u001b[39m\u001b[32m, line 5\u001b[39m\n\u001b[32m      4\u001b[39m \u001b[38;5;28;01mtry\u001b[39;00m:\n\u001b[32m----> \u001b[39m\u001b[32m5\u001b[39m     gdf = \u001b[43mgpd\u001b[49m\u001b[43m.\u001b[49m\u001b[43mread_file\u001b[49m\u001b[43m(\u001b[49m\u001b[43mfp\u001b[49m\u001b[43m)\u001b[49m\n\u001b[32m      6\u001b[39m \u001b[38;5;28;01mexcept\u001b[39;00m DataSourceError:\n",
      "\u001b[36mFile \u001b[39m\u001b[32m~/Desktop/python-meetup/.venv/lib/python3.11/site-packages/geopandas/io/file.py:317\u001b[39m, in \u001b[36m_read_file\u001b[39m\u001b[34m(filename, bbox, mask, columns, rows, engine, **kwargs)\u001b[39m\n\u001b[32m    316\u001b[39m \u001b[38;5;28;01mif\u001b[39;00m engine == \u001b[33m\"\u001b[39m\u001b[33mpyogrio\u001b[39m\u001b[33m\"\u001b[39m:\n\u001b[32m--> \u001b[39m\u001b[32m317\u001b[39m     \u001b[38;5;28;01mreturn\u001b[39;00m \u001b[43m_read_file_pyogrio\u001b[49m\u001b[43m(\u001b[49m\n\u001b[32m    318\u001b[39m \u001b[43m        \u001b[49m\u001b[43mfilename\u001b[49m\u001b[43m,\u001b[49m\u001b[43m \u001b[49m\u001b[43mbbox\u001b[49m\u001b[43m=\u001b[49m\u001b[43mbbox\u001b[49m\u001b[43m,\u001b[49m\u001b[43m \u001b[49m\u001b[43mmask\u001b[49m\u001b[43m=\u001b[49m\u001b[43mmask\u001b[49m\u001b[43m,\u001b[49m\u001b[43m \u001b[49m\u001b[43mcolumns\u001b[49m\u001b[43m=\u001b[49m\u001b[43mcolumns\u001b[49m\u001b[43m,\u001b[49m\u001b[43m \u001b[49m\u001b[43mrows\u001b[49m\u001b[43m=\u001b[49m\u001b[43mrows\u001b[49m\u001b[43m,\u001b[49m\u001b[43m \u001b[49m\u001b[43m*\u001b[49m\u001b[43m*\u001b[49m\u001b[43mkwargs\u001b[49m\n\u001b[32m    319\u001b[39m \u001b[43m    \u001b[49m\u001b[43m)\u001b[49m\n\u001b[32m    321\u001b[39m \u001b[38;5;28;01melif\u001b[39;00m engine == \u001b[33m\"\u001b[39m\u001b[33mfiona\u001b[39m\u001b[33m\"\u001b[39m:\n",
      "\u001b[36mFile \u001b[39m\u001b[32m~/Desktop/python-meetup/.venv/lib/python3.11/site-packages/geopandas/io/file.py:577\u001b[39m, in \u001b[36m_read_file_pyogrio\u001b[39m\u001b[34m(path_or_bytes, bbox, mask, rows, **kwargs)\u001b[39m\n\u001b[32m    575\u001b[39m     kwargs[\u001b[33m\"\u001b[39m\u001b[33mcolumns\u001b[39m\u001b[33m\"\u001b[39m] = kwargs.pop(\u001b[33m\"\u001b[39m\u001b[33minclude_fields\u001b[39m\u001b[33m\"\u001b[39m)\n\u001b[32m--> \u001b[39m\u001b[32m577\u001b[39m \u001b[38;5;28;01mreturn\u001b[39;00m \u001b[43mpyogrio\u001b[49m\u001b[43m.\u001b[49m\u001b[43mread_dataframe\u001b[49m\u001b[43m(\u001b[49m\u001b[43mpath_or_bytes\u001b[49m\u001b[43m,\u001b[49m\u001b[43m \u001b[49m\u001b[43mbbox\u001b[49m\u001b[43m=\u001b[49m\u001b[43mbbox\u001b[49m\u001b[43m,\u001b[49m\u001b[43m \u001b[49m\u001b[43m*\u001b[49m\u001b[43m*\u001b[49m\u001b[43mkwargs\u001b[49m\u001b[43m)\u001b[49m\n",
      "\u001b[36mFile \u001b[39m\u001b[32m~/Desktop/python-meetup/.venv/lib/python3.11/site-packages/pyogrio/geopandas.py:275\u001b[39m, in \u001b[36mread_dataframe\u001b[39m\u001b[34m(path_or_buffer, layer, encoding, columns, read_geometry, force_2d, skip_features, max_features, where, bbox, mask, fids, sql, sql_dialect, fid_as_index, use_arrow, on_invalid, arrow_to_pandas_kwargs, **kwargs)\u001b[39m\n\u001b[32m    274\u001b[39m     kwargs[\u001b[33m\"\u001b[39m\u001b[33mdatetime_as_string\u001b[39m\u001b[33m\"\u001b[39m] = \u001b[38;5;28;01mTrue\u001b[39;00m\n\u001b[32m--> \u001b[39m\u001b[32m275\u001b[39m result = \u001b[43mread_func\u001b[49m\u001b[43m(\u001b[49m\n\u001b[32m    276\u001b[39m \u001b[43m    \u001b[49m\u001b[43mpath_or_buffer\u001b[49m\u001b[43m,\u001b[49m\n\u001b[32m    277\u001b[39m \u001b[43m    \u001b[49m\u001b[43mlayer\u001b[49m\u001b[43m=\u001b[49m\u001b[43mlayer\u001b[49m\u001b[43m,\u001b[49m\n\u001b[32m    278\u001b[39m \u001b[43m    \u001b[49m\u001b[43mencoding\u001b[49m\u001b[43m=\u001b[49m\u001b[43mencoding\u001b[49m\u001b[43m,\u001b[49m\n\u001b[32m    279\u001b[39m \u001b[43m    \u001b[49m\u001b[43mcolumns\u001b[49m\u001b[43m=\u001b[49m\u001b[43mcolumns\u001b[49m\u001b[43m,\u001b[49m\n\u001b[32m    280\u001b[39m \u001b[43m    \u001b[49m\u001b[43mread_geometry\u001b[49m\u001b[43m=\u001b[49m\u001b[43mread_geometry\u001b[49m\u001b[43m,\u001b[49m\n\u001b[32m    281\u001b[39m \u001b[43m    \u001b[49m\u001b[43mforce_2d\u001b[49m\u001b[43m=\u001b[49m\u001b[43mgdal_force_2d\u001b[49m\u001b[43m,\u001b[49m\n\u001b[32m    282\u001b[39m \u001b[43m    \u001b[49m\u001b[43mskip_features\u001b[49m\u001b[43m=\u001b[49m\u001b[43mskip_features\u001b[49m\u001b[43m,\u001b[49m\n\u001b[32m    283\u001b[39m \u001b[43m    \u001b[49m\u001b[43mmax_features\u001b[49m\u001b[43m=\u001b[49m\u001b[43mmax_features\u001b[49m\u001b[43m,\u001b[49m\n\u001b[32m    284\u001b[39m \u001b[43m    \u001b[49m\u001b[43mwhere\u001b[49m\u001b[43m=\u001b[49m\u001b[43mwhere\u001b[49m\u001b[43m,\u001b[49m\n\u001b[32m    285\u001b[39m \u001b[43m    \u001b[49m\u001b[43mbbox\u001b[49m\u001b[43m=\u001b[49m\u001b[43mbbox\u001b[49m\u001b[43m,\u001b[49m\n\u001b[32m    286\u001b[39m \u001b[43m    \u001b[49m\u001b[43mmask\u001b[49m\u001b[43m=\u001b[49m\u001b[43mmask\u001b[49m\u001b[43m,\u001b[49m\n\u001b[32m    287\u001b[39m \u001b[43m    \u001b[49m\u001b[43mfids\u001b[49m\u001b[43m=\u001b[49m\u001b[43mfids\u001b[49m\u001b[43m,\u001b[49m\n\u001b[32m    288\u001b[39m \u001b[43m    \u001b[49m\u001b[43msql\u001b[49m\u001b[43m=\u001b[49m\u001b[43msql\u001b[49m\u001b[43m,\u001b[49m\n\u001b[32m    289\u001b[39m \u001b[43m    \u001b[49m\u001b[43msql_dialect\u001b[49m\u001b[43m=\u001b[49m\u001b[43msql_dialect\u001b[49m\u001b[43m,\u001b[49m\n\u001b[32m    290\u001b[39m \u001b[43m    \u001b[49m\u001b[43mreturn_fids\u001b[49m\u001b[43m=\u001b[49m\u001b[43mfid_as_index\u001b[49m\u001b[43m,\u001b[49m\n\u001b[32m    291\u001b[39m \u001b[43m    \u001b[49m\u001b[43m*\u001b[49m\u001b[43m*\u001b[49m\u001b[43mkwargs\u001b[49m\u001b[43m,\u001b[49m\n\u001b[32m    292\u001b[39m \u001b[43m\u001b[49m\u001b[43m)\u001b[49m\n\u001b[32m    294\u001b[39m \u001b[38;5;28;01mif\u001b[39;00m use_arrow:\n",
      "\u001b[36mFile \u001b[39m\u001b[32m~/Desktop/python-meetup/.venv/lib/python3.11/site-packages/pyogrio/raw.py:198\u001b[39m, in \u001b[36mread\u001b[39m\u001b[34m(path_or_buffer, layer, encoding, columns, read_geometry, force_2d, skip_features, max_features, where, bbox, mask, fids, sql, sql_dialect, return_fids, datetime_as_string, **kwargs)\u001b[39m\n\u001b[32m    196\u001b[39m dataset_kwargs = _preprocess_options_key_value(kwargs) \u001b[38;5;28;01mif\u001b[39;00m kwargs \u001b[38;5;28;01melse\u001b[39;00m {}\n\u001b[32m--> \u001b[39m\u001b[32m198\u001b[39m \u001b[38;5;28;01mreturn\u001b[39;00m \u001b[43mogr_read\u001b[49m\u001b[43m(\u001b[49m\n\u001b[32m    199\u001b[39m \u001b[43m    \u001b[49m\u001b[43mget_vsi_path_or_buffer\u001b[49m\u001b[43m(\u001b[49m\u001b[43mpath_or_buffer\u001b[49m\u001b[43m)\u001b[49m\u001b[43m,\u001b[49m\n\u001b[32m    200\u001b[39m \u001b[43m    \u001b[49m\u001b[43mlayer\u001b[49m\u001b[43m=\u001b[49m\u001b[43mlayer\u001b[49m\u001b[43m,\u001b[49m\n\u001b[32m    201\u001b[39m \u001b[43m    \u001b[49m\u001b[43mencoding\u001b[49m\u001b[43m=\u001b[49m\u001b[43mencoding\u001b[49m\u001b[43m,\u001b[49m\n\u001b[32m    202\u001b[39m \u001b[43m    \u001b[49m\u001b[43mcolumns\u001b[49m\u001b[43m=\u001b[49m\u001b[43mcolumns\u001b[49m\u001b[43m,\u001b[49m\n\u001b[32m    203\u001b[39m \u001b[43m    \u001b[49m\u001b[43mread_geometry\u001b[49m\u001b[43m=\u001b[49m\u001b[43mread_geometry\u001b[49m\u001b[43m,\u001b[49m\n\u001b[32m    204\u001b[39m \u001b[43m    \u001b[49m\u001b[43mforce_2d\u001b[49m\u001b[43m=\u001b[49m\u001b[43mforce_2d\u001b[49m\u001b[43m,\u001b[49m\n\u001b[32m    205\u001b[39m \u001b[43m    \u001b[49m\u001b[43mskip_features\u001b[49m\u001b[43m=\u001b[49m\u001b[43mskip_features\u001b[49m\u001b[43m,\u001b[49m\n\u001b[32m    206\u001b[39m \u001b[43m    \u001b[49m\u001b[43mmax_features\u001b[49m\u001b[43m=\u001b[49m\u001b[43mmax_features\u001b[49m\u001b[43m \u001b[49m\u001b[38;5;129;43;01mor\u001b[39;49;00m\u001b[43m \u001b[49m\u001b[32;43m0\u001b[39;49m\u001b[43m,\u001b[49m\n\u001b[32m    207\u001b[39m \u001b[43m    \u001b[49m\u001b[43mwhere\u001b[49m\u001b[43m=\u001b[49m\u001b[43mwhere\u001b[49m\u001b[43m,\u001b[49m\n\u001b[32m    208\u001b[39m \u001b[43m    \u001b[49m\u001b[43mbbox\u001b[49m\u001b[43m=\u001b[49m\u001b[43mbbox\u001b[49m\u001b[43m,\u001b[49m\n\u001b[32m    209\u001b[39m \u001b[43m    \u001b[49m\u001b[43mmask\u001b[49m\u001b[43m=\u001b[49m\u001b[43m_mask_to_wkb\u001b[49m\u001b[43m(\u001b[49m\u001b[43mmask\u001b[49m\u001b[43m)\u001b[49m\u001b[43m,\u001b[49m\n\u001b[32m    210\u001b[39m \u001b[43m    \u001b[49m\u001b[43mfids\u001b[49m\u001b[43m=\u001b[49m\u001b[43mfids\u001b[49m\u001b[43m,\u001b[49m\n\u001b[32m    211\u001b[39m \u001b[43m    \u001b[49m\u001b[43msql\u001b[49m\u001b[43m=\u001b[49m\u001b[43msql\u001b[49m\u001b[43m,\u001b[49m\n\u001b[32m    212\u001b[39m \u001b[43m    \u001b[49m\u001b[43msql_dialect\u001b[49m\u001b[43m=\u001b[49m\u001b[43msql_dialect\u001b[49m\u001b[43m,\u001b[49m\n\u001b[32m    213\u001b[39m \u001b[43m    \u001b[49m\u001b[43mreturn_fids\u001b[49m\u001b[43m=\u001b[49m\u001b[43mreturn_fids\u001b[49m\u001b[43m,\u001b[49m\n\u001b[32m    214\u001b[39m \u001b[43m    \u001b[49m\u001b[43mdataset_kwargs\u001b[49m\u001b[43m=\u001b[49m\u001b[43mdataset_kwargs\u001b[49m\u001b[43m,\u001b[49m\n\u001b[32m    215\u001b[39m \u001b[43m    \u001b[49m\u001b[43mdatetime_as_string\u001b[49m\u001b[43m=\u001b[49m\u001b[43mdatetime_as_string\u001b[49m\u001b[43m,\u001b[49m\n\u001b[32m    216\u001b[39m \u001b[43m\u001b[49m\u001b[43m)\u001b[49m\n",
      "\u001b[36mFile \u001b[39m\u001b[32mpyogrio/_io.pyx:1293\u001b[39m, in \u001b[36mpyogrio._io.ogr_read\u001b[39m\u001b[34m()\u001b[39m\n",
      "\u001b[36mFile \u001b[39m\u001b[32mpyogrio/_io.pyx:232\u001b[39m, in \u001b[36mpyogrio._io.ogr_open\u001b[39m\u001b[34m()\u001b[39m\n",
      "\u001b[31mDataSourceError\u001b[39m: ./data/cafes2.gpkg: No such file or directory",
      "\nDuring handling of the above exception, another exception occurred:\n",
      "\u001b[31mValueError\u001b[39m                                Traceback (most recent call last)",
      "\u001b[36mCell\u001b[39m\u001b[36m \u001b[39m\u001b[32mIn[16]\u001b[39m\u001b[32m, line 21\u001b[39m\n\u001b[32m     18\u001b[39m \u001b[38;5;28;01mwith\u001b[39;00m \u001b[38;5;28mopen\u001b[39m(\u001b[33m'\u001b[39m\u001b[33m./data/places.pkl\u001b[39m\u001b[33m'\u001b[39m, \u001b[33m'\u001b[39m\u001b[33mwb\u001b[39m\u001b[33m'\u001b[39m) \u001b[38;5;28;01mas\u001b[39;00m f:\n\u001b[32m     19\u001b[39m     pickle.dump(places, f)\n\u001b[32m---> \u001b[39m\u001b[32m21\u001b[39m gdf = \u001b[43mgpd\u001b[49m\u001b[43m.\u001b[49m\u001b[43mGeoDataFrame\u001b[49m\u001b[43m(\u001b[49m\u001b[43mplaces\u001b[49m\u001b[43m,\u001b[49m\u001b[43m \u001b[49m\u001b[43mcrs\u001b[49m\u001b[43m=\u001b[49m\u001b[33;43m'\u001b[39;49m\u001b[33;43mepsg:4326\u001b[39;49m\u001b[33;43m'\u001b[39;49m\u001b[43m)\u001b[49m.drop_duplicates(subset=[\u001b[33m'\u001b[39m\u001b[33mid\u001b[39m\u001b[33m'\u001b[39m])\n\u001b[32m     22\u001b[39m gdf.to_file(fp)    \n",
      "\u001b[36mFile \u001b[39m\u001b[32m~/Desktop/python-meetup/.venv/lib/python3.11/site-packages/geopandas/geodataframe.py:243\u001b[39m, in \u001b[36mGeoDataFrame.__init__\u001b[39m\u001b[34m(self, data, geometry, crs, *args, **kwargs)\u001b[39m\n\u001b[32m    240\u001b[39m     \u001b[38;5;28mself\u001b[39m.set_geometry(geometry, inplace=\u001b[38;5;28;01mTrue\u001b[39;00m, crs=crs)\n\u001b[32m    242\u001b[39m \u001b[38;5;28;01mif\u001b[39;00m geometry \u001b[38;5;129;01mis\u001b[39;00m \u001b[38;5;28;01mNone\u001b[39;00m \u001b[38;5;129;01mand\u001b[39;00m crs:\n\u001b[32m--> \u001b[39m\u001b[32m243\u001b[39m     \u001b[38;5;28;01mraise\u001b[39;00m \u001b[38;5;167;01mValueError\u001b[39;00m(\n\u001b[32m    244\u001b[39m         \u001b[33m\"\u001b[39m\u001b[33mAssigning CRS to a GeoDataFrame without a geometry column is not \u001b[39m\u001b[33m\"\u001b[39m\n\u001b[32m    245\u001b[39m         \u001b[33m\"\u001b[39m\u001b[33msupported. Supply geometry using the \u001b[39m\u001b[33m'\u001b[39m\u001b[33mgeometry=\u001b[39m\u001b[33m'\u001b[39m\u001b[33m keyword argument, \u001b[39m\u001b[33m\"\u001b[39m\n\u001b[32m    246\u001b[39m         \u001b[33m\"\u001b[39m\u001b[33mor by providing a DataFrame with column name \u001b[39m\u001b[33m'\u001b[39m\u001b[33mgeometry\u001b[39m\u001b[33m'\u001b[39m\u001b[33m\"\u001b[39m,\n\u001b[32m    247\u001b[39m     )\n",
      "\u001b[31mValueError\u001b[39m: Assigning CRS to a GeoDataFrame without a geometry column is not supported. Supply geometry using the 'geometry=' keyword argument, or by providing a DataFrame with column name 'geometry'"
     ]
    }
   ],
   "source": [
    "fp = './data/cafes2.gpkg'\n",
    "length = geom_proj.length\n",
    "\n",
    "try:\n",
    "    gdf = gpd.read_file(fp)\n",
    "except DataSourceError:\n",
    "    places = []\n",
    "    transformer = Transformer.from_crs(crs, \"EPSG:4326\", always_xy=True)\n",
    "    for distance in tqdm(np.arange(0, length, step)):\n",
    "        p = shapely.line_interpolate_point(geom_proj, distance) # type:ignore\n",
    "        p = transformer.transform(p.x, p.y)\n",
    "        p = shapely.Point(p[0], p[1])\n",
    "        r = fetch_google_places(categories, p.x, p.y, radius, apikey)\n",
    "        if r is not None:\n",
    "            places.extend(r)\n",
    "\n",
    "    with open('./data/places.pkl', 'wb') as f:\n",
    "        pickle.dump(places, f)\n",
    "    \n",
    "    gdf = gpd.GeoDataFrame(places, crs='epsg:4326').drop_duplicates(subset=['id'])\n",
    "    gdf.to_file(fp)    "
   ]
  },
  {
   "cell_type": "code",
   "execution_count": null,
   "id": "ffd19a4b",
   "metadata": {},
   "outputs": [],
   "source": [
    "gdf['inbuffer'] = gdf.intersects(road_buffered) # keep cafes up to 30 meters from the road (inside the buffer)\n",
    "cafes = gdf[gdf['inbuffer']]\n",
    "cafes.head(2)"
   ]
  },
  {
   "cell_type": "markdown",
   "id": "8b9b2b74",
   "metadata": {},
   "source": [
    "## stats / visuals"
   ]
  },
  {
   "cell_type": "code",
   "execution_count": null,
   "id": "f76e2903",
   "metadata": {},
   "outputs": [],
   "source": [
    "fig = px.scatter_map(gdf, lat=gdf.geometry.y, lon=gdf.geometry.x, color='inbuffer', text='name', hover_name=\"name\", zoom=12, map_style=map_style)\n",
    "fig.show()"
   ]
  },
  {
   "cell_type": "code",
   "execution_count": null,
   "id": "4b95eb4f",
   "metadata": {},
   "outputs": [],
   "source": [
    "fig = px.density_map(cafes, lat=cafes.geometry.y, lon=cafes.geometry.x, radius=12, zoom=12, map_style=map_style)\n",
    "fig.show()"
   ]
  },
  {
   "cell_type": "code",
   "execution_count": null,
   "id": "f6d9c0de",
   "metadata": {},
   "outputs": [],
   "source": [
    "f'One cafe every: {length / cafes.shape[0]:.0f}m'"
   ]
  },
  {
   "cell_type": "markdown",
   "id": "5be67f8f",
   "metadata": {},
   "source": [
    "### spatial grouping (h3)"
   ]
  },
  {
   "cell_type": "code",
   "execution_count": null,
   "id": "33b8d20c",
   "metadata": {},
   "outputs": [],
   "source": [
    "box = shapely.box(*bbox)\n",
    "coords = [list(box.exterior.coords)]\n",
    "cells = h3.geo_to_cells(box, res=9)\n",
    "cells = [{'h3id': cell, 'geometry': h3cell_to_shapely(cell)} for cell in cells]\n",
    "cells = gpd.GeoDataFrame(cells, crs='epsg:4326')\n",
    "cells.head(2)\n",
    "px.choropleth_map(cells, geojson=cells.geometry, locations=cells.index,\n",
    "                  center={'lat': box.centroid.y, 'lon': box.centroid.x}, zoom=11.5,\n",
    "                  map_style=map_style)"
   ]
  },
  {
   "cell_type": "code",
   "execution_count": null,
   "id": "13082f58",
   "metadata": {},
   "outputs": [],
   "source": [
    "counts = gpd.sjoin(cells, cafes, predicate='contains').groupby(['h3id', 'geometry'], as_index=False)['index_right'].count()\n",
    "counts = counts.rename(columns={'index_right':'count'})\n",
    "counts = gpd.GeoDataFrame(counts) # groupby casts to pd.DataFrame\n",
    "px.choropleth_map(counts, geojson=counts.geometry, locations=counts.index,\n",
    "                  color='count', color_continuous_scale=px.colors.sequential.Reds,\n",
    "                  center={'lat': box.centroid.y, 'lon': box.centroid.x}, zoom=11.5,\n",
    "                  title='Concentration of cafes (H3 cells)', map_style=map_style)"
   ]
  },
  {
   "cell_type": "code",
   "execution_count": null,
   "id": "8d7f5873",
   "metadata": {},
   "outputs": [],
   "source": []
  }
 ],
 "metadata": {
  "kernelspec": {
   "display_name": "python-meetup",
   "language": "python",
   "name": "python3"
  },
  "language_info": {
   "codemirror_mode": {
    "name": "ipython",
    "version": 3
   },
   "file_extension": ".py",
   "mimetype": "text/x-python",
   "name": "python",
   "nbconvert_exporter": "python",
   "pygments_lexer": "ipython3",
   "version": "3.11.11"
  }
 },
 "nbformat": 4,
 "nbformat_minor": 5
}
