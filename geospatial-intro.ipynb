{
 "cells": [
  {
   "cell_type": "code",
   "execution_count": 22,
   "metadata": {},
   "outputs": [],
   "source": [
    "import os\n",
    "import logging\n",
    "import pickle\n",
    "import osmnx as ox\n",
    "import numpy as np\n",
    "import pandas as pd\n",
    "import geopandas as gpd\n",
    "import h3\n",
    "import shapely\n",
    "import requests\n",
    "from tqdm.notebook import tqdm\n",
    "from pyproj import Transformer\n",
    "from shapely.ops import linemerge\n",
    "from shapely import Polygon\n",
    "from pyogrio.errors import DataSourceError\n",
    "import plotly.express as px\n",
    "\n",
    "ox.settings.cache_folder = './data'"
   ]
  },
  {
   "cell_type": "markdown",
   "id": "43e41d00",
   "metadata": {},
   "source": [
    "## functions"
   ]
  },
  {
   "cell_type": "code",
   "execution_count": 4,
   "id": "81254b01",
   "metadata": {},
   "outputs": [],
   "source": [
    "def fetch_google_places(categories:list[str], lon:float, lat:float, radius:float, apikey:str):\n",
    "    \n",
    "    headers = {\n",
    "        \"Content-Type\": \"application/json\",\n",
    "        \"X-Goog-Api-Key\": apikey,\n",
    "        \"X-Goog-FieldMask\": \"places.id,places.displayName,places.location,places.businessStatus,places.formattedAddress,places.primaryTypeDisplayName,places.primaryType\",\n",
    "    }\n",
    "    url = \"https://places.googleapis.com/v1/places:searchNearby\"\n",
    "\n",
    "    data = {\n",
    "            \"includedTypes\": categories,\n",
    "            \"maxResultCount\": 20,\n",
    "            \"locationRestriction\": {\n",
    "                \"circle\": {\n",
    "                    \"center\": {\"latitude\": lat, \"longitude\": lon},\n",
    "                    \"radius\": radius,\n",
    "                }\n",
    "            },\n",
    "        }\n",
    "    \n",
    "    r = requests.post(url, headers=headers, json=data)\n",
    "    if r.status_code != 200:\n",
    "        logging.warning(f\"error at request: {r.request}\")\n",
    "        return\n",
    "\n",
    "    data = r.json().get('places', [])\n",
    "    if not data:\n",
    "        return data\n",
    "\n",
    "    if len(data) >= 20:\n",
    "        logging.warning(f'query at lon:{lon}, lat:{lat} returned 20+ results')\n",
    "    \n",
    "    for r in data:\n",
    "        r['name'] = r['displayName']['text']\n",
    "        r['geometry'] = shapely.Point(r['location']['longitude'], r['location']['latitude'])\n",
    "\n",
    "    return data\n",
    "\n"
   ]
  },
  {
   "cell_type": "code",
   "execution_count": 5,
   "id": "12e3d402",
   "metadata": {},
   "outputs": [],
   "source": [
    "def h3cell_to_shapely(cell):\n",
    "    coords = h3.cell_to_boundary(cell)\n",
    "    flipped = tuple(coord[::-1] for coord in coords)\n",
    "    return Polygon(flipped)"
   ]
  },
  {
   "cell_type": "markdown",
   "id": "6abff99b",
   "metadata": {},
   "source": [
    "## inputs"
   ]
  },
  {
   "cell_type": "code",
   "execution_count": 6,
   "id": "b5b68b9b",
   "metadata": {},
   "outputs": [],
   "source": [
    "apikey = os.getenv(\"GOOGLE_API_KEY\")\n",
    "radius = 200\n",
    "step = 100\n",
    "buffer = 30\n",
    "categories = ['cafe', 'bakery']\n",
    "map_style = \"open-street-map\""
   ]
  },
  {
   "cell_type": "markdown",
   "id": "3984f0da",
   "metadata": {},
   "source": [
    "# Geospatial Analysis"
   ]
  },
  {
   "cell_type": "markdown",
   "id": "9cea7577",
   "metadata": {},
   "source": [
    "## download network (roads)"
   ]
  },
  {
   "cell_type": "code",
   "execution_count": 7,
   "id": "670aab51",
   "metadata": {},
   "outputs": [],
   "source": [
    "bbox = [23.7576, 37.8524, 23.7729, 37.899]\n",
    "g = ox.graph_from_bbox(bbox) # we can modify filters\n",
    "nodes, links = ox.graph_to_gdfs(g)"
   ]
  },
  {
   "cell_type": "markdown",
   "id": "f766010a",
   "metadata": {},
   "source": [
    "## create the linestring geometry"
   ]
  },
  {
   "cell_type": "code",
   "execution_count": 8,
   "id": "6d0208c6",
   "metadata": {},
   "outputs": [],
   "source": [
    "road = links[links['name'] == 'Δημητρίου Γούναρη']\n",
    "crs = road.estimate_utm_crs()\n",
    "geom_proj = road.to_crs(crs).union_all()\n",
    "geoms_proj = gpd.GeoDataFrame(geometry=[linemerge(geom_proj)]).explode()\n",
    "geoms_proj['length'] = geoms_proj.length\n",
    "geom_proj = geoms_proj.sort_values(['length'], ascending=False).iloc[0].geometry\n",
    "road_buffered = road.to_crs(crs).buffer(buffer).to_crs(epsg=4326).union_all()"
   ]
  },
  {
   "cell_type": "code",
   "execution_count": 9,
   "id": "19944263",
   "metadata": {},
   "outputs": [],
   "source": [
    "fp = './data/cafes.gpkg'\n",
    "length = geom_proj.length\n",
    "\n",
    "try:\n",
    "    gdf = gpd.read_file(fp)\n",
    "except DataSourceError:\n",
    "    places = []\n",
    "    transformer = Transformer.from_crs(crs, \"EPSG:4326\", always_xy=True)\n",
    "    for distance in tqdm(np.arange(0, length, step)):\n",
    "        p = shapely.line_interpolate_point(geom_proj, distance) # type:ignore\n",
    "        p = transformer.transform(p.x, p.y)\n",
    "        p = shapely.Point(p[0], p[1])\n",
    "        r = fetch_google_places(categories, p.x, p.y, radius, apikey)\n",
    "        if r is not None:\n",
    "            places.extend(r)\n",
    "\n",
    "    with open('./data/places.pkl', 'wb') as f:\n",
    "        pickle.dump(places, f)\n",
    "    \n",
    "    gdf = gpd.GeoDataFrame(places, crs='epsg:4326').drop_duplicates(subset=['id'])\n",
    "    gdf['inbuffer'] = gdf.intersects(road_buffered) # keep cafes up to 30 meters from the road (inside the buffer)\n",
    "    gdf.to_file(fp)    "
   ]
  },
  {
   "cell_type": "code",
   "execution_count": 12,
   "id": "ffd19a4b",
   "metadata": {},
   "outputs": [
    {
     "data": {
      "text/html": [
       "<div>\n",
       "<style scoped>\n",
       "    .dataframe tbody tr th:only-of-type {\n",
       "        vertical-align: middle;\n",
       "    }\n",
       "\n",
       "    .dataframe tbody tr th {\n",
       "        vertical-align: top;\n",
       "    }\n",
       "\n",
       "    .dataframe thead th {\n",
       "        text-align: right;\n",
       "    }\n",
       "</style>\n",
       "<table border=\"1\" class=\"dataframe\">\n",
       "  <thead>\n",
       "    <tr style=\"text-align: right;\">\n",
       "      <th></th>\n",
       "      <th>id</th>\n",
       "      <th>formattedAddress</th>\n",
       "      <th>location</th>\n",
       "      <th>businessStatus</th>\n",
       "      <th>displayName</th>\n",
       "      <th>primaryTypeDisplayName</th>\n",
       "      <th>primaryType</th>\n",
       "      <th>name</th>\n",
       "      <th>geometry</th>\n",
       "      <th>inbuffer</th>\n",
       "    </tr>\n",
       "  </thead>\n",
       "  <tbody>\n",
       "    <tr>\n",
       "      <th>1</th>\n",
       "      <td>ChIJgcEWYU6_oRQR-cd2bf6di68</td>\n",
       "      <td>Attikis 1, Glifada 165 62, Greece</td>\n",
       "      <td>{'latitude': 37.894874, 'longitude': 23.761325...</td>\n",
       "      <td>OPERATIONAL</td>\n",
       "      <td>{'text': 'coffee berry - Άνω Γλυφάδα', 'langua...</td>\n",
       "      <td>{'text': 'Coffee Shop', 'languageCode': 'en-US'}</td>\n",
       "      <td>coffee_shop</td>\n",
       "      <td>coffee berry - Άνω Γλυφάδα</td>\n",
       "      <td>POINT (23.76133 37.89487)</td>\n",
       "      <td>True</td>\n",
       "    </tr>\n",
       "    <tr>\n",
       "      <th>2</th>\n",
       "      <td>ChIJgSMfxKu_oRQRDDje9yAhZfM</td>\n",
       "      <td>Dim. Gounari 24, Elliniko 167 77, Greece</td>\n",
       "      <td>{'latitude': 37.893558399999996, 'longitude': ...</td>\n",
       "      <td>OPERATIONAL</td>\n",
       "      <td>{'text': 'ROSEWOOD COFFEE HOUSE', 'languageCod...</td>\n",
       "      <td>{'text': 'Coffee Shop', 'languageCode': 'en-US'}</td>\n",
       "      <td>coffee_shop</td>\n",
       "      <td>ROSEWOOD COFFEE HOUSE</td>\n",
       "      <td>POINT (23.76089 37.89356)</td>\n",
       "      <td>True</td>\n",
       "    </tr>\n",
       "  </tbody>\n",
       "</table>\n",
       "</div>"
      ],
      "text/plain": [
       "                            id                          formattedAddress  \\\n",
       "1  ChIJgcEWYU6_oRQR-cd2bf6di68         Attikis 1, Glifada 165 62, Greece   \n",
       "2  ChIJgSMfxKu_oRQRDDje9yAhZfM  Dim. Gounari 24, Elliniko 167 77, Greece   \n",
       "\n",
       "                                            location businessStatus  \\\n",
       "1  {'latitude': 37.894874, 'longitude': 23.761325...    OPERATIONAL   \n",
       "2  {'latitude': 37.893558399999996, 'longitude': ...    OPERATIONAL   \n",
       "\n",
       "                                         displayName  \\\n",
       "1  {'text': 'coffee berry - Άνω Γλυφάδα', 'langua...   \n",
       "2  {'text': 'ROSEWOOD COFFEE HOUSE', 'languageCod...   \n",
       "\n",
       "                             primaryTypeDisplayName  primaryType  \\\n",
       "1  {'text': 'Coffee Shop', 'languageCode': 'en-US'}  coffee_shop   \n",
       "2  {'text': 'Coffee Shop', 'languageCode': 'en-US'}  coffee_shop   \n",
       "\n",
       "                         name                   geometry  inbuffer  \n",
       "1  coffee berry - Άνω Γλυφάδα  POINT (23.76133 37.89487)      True  \n",
       "2       ROSEWOOD COFFEE HOUSE  POINT (23.76089 37.89356)      True  "
      ]
     },
     "execution_count": 12,
     "metadata": {},
     "output_type": "execute_result"
    }
   ],
   "source": [
    "gdf['inbuffer'] = gdf.intersects(road_buffered) # keep cafes up to 30 meters from the road (inside the buffer)\n",
    "cafes = gdf[gdf['inbuffer']]\n",
    "cafes.head(2)"
   ]
  },
  {
   "cell_type": "markdown",
   "id": "8b9b2b74",
   "metadata": {},
   "source": [
    "## stats / visuals"
   ]
  },
  {
   "cell_type": "code",
   "execution_count": 13,
   "id": "f76e2903",
   "metadata": {},
   "outputs": [
    {
     "data": {
      "application/vnd.plotly.v1+json": {
       "config": {
        "plotlyServerURL": "https://plot.ly"
       },
       "data": [
        {
         "hovertemplate": "<b>%{hovertext}</b><br><br>inbuffer=False<br>name=%{text}<br>lat=%{lat}<br>lon=%{lon}<extra></extra>",
         "hovertext": [
          "High Hope Specialty Coffee",
          "Nanou Donuts House Άνω Γλυφάδα - Τερψιθέα",
          "Langano Espresso Bar Γλυφάδα",
          "\"Η Αράχωβα\" Αρτοποιείο - Ζαχαροπλαστική",
          "Odos_platwnos Πολυχώρος - Φουαγιέ odos_platwnos - Rose pepper art and clothing",
          "Bits and Bytes Internet Cafe",
          "franceska",
          "LA MERISE",
          "Le Café",
          "DOTTS",
          "COFFEE TERRA",
          "NANOU DONUTS ΓΛΥΦΑΔΑ",
          "ΑΡΤΟΠΟΙΪΑ- ΖΑΧΑΡΟΠΛΑΣΤΙΚΗ \"ΔΗΜΟΣ ΗΛΙΑΣ\"",
          "Antheon Pies Snacks Coffee",
          "Nεις κόσμος σαρκοδινου 43",
          "F ziakas",
          "ΦΟΥΡΝΟΣ ΒΕΝΕΤΗ 1948 - ΑΙΞΩΝΗ",
          "GKLIATIS DIMITRIOS"
         ],
         "lat": {
          "bdata": "uIHxwozyQkDck9ESdfJCQIUY+QZw8kJAAD7TpkXyQkDkw0cfTvJCQDMeAMwQ8kJAFPqqpjXyQkCMlxNZEPJCQBk/6DRm8UJASzs1lxvxQkDjTulg/fBCQAWwt4PH70JAf2YQH9jvQkB2vwrw3e9CQDCFYoYh70JA/L4kOnDuQkCYIgp3eO1CQOfFia927UJA",
          "dtype": "f8"
         },
         "legendgroup": "False",
         "lon": {
          "bdata": "VnAutCnDN0AIZGXqZMM3QM0XIHZLwzdAaPf1jfnCN0D4xmu5jsI3QJDpGneUwjdABbNTvUbCN0CtBEE2f8I3QPmy/uCNwjdAktyroLPCN0CFpjaCnsM3QG6Rao5iwzdAGeHtQQjEN0D5eZ0eJcQ3QGjeuxepwzdALfu/NFbEN0D0zld/OsQ3QPdfQmBAxDdA",
          "dtype": "f8"
         },
         "marker": {
          "color": "#636efa"
         },
         "mode": "markers+text",
         "name": "False",
         "showlegend": true,
         "subplot": "map",
         "text": [
          "High Hope Specialty Coffee",
          "Nanou Donuts House Άνω Γλυφάδα - Τερψιθέα",
          "Langano Espresso Bar Γλυφάδα",
          "\"Η Αράχωβα\" Αρτοποιείο - Ζαχαροπλαστική",
          "Odos_platwnos Πολυχώρος - Φουαγιέ odos_platwnos - Rose pepper art and clothing",
          "Bits and Bytes Internet Cafe",
          "franceska",
          "LA MERISE",
          "Le Café",
          "DOTTS",
          "COFFEE TERRA",
          "NANOU DONUTS ΓΛΥΦΑΔΑ",
          "ΑΡΤΟΠΟΙΪΑ- ΖΑΧΑΡΟΠΛΑΣΤΙΚΗ \"ΔΗΜΟΣ ΗΛΙΑΣ\"",
          "Antheon Pies Snacks Coffee",
          "Nεις κόσμος σαρκοδινου 43",
          "F ziakas",
          "ΦΟΥΡΝΟΣ ΒΕΝΕΤΗ 1948 - ΑΙΞΩΝΗ",
          "GKLIATIS DIMITRIOS"
         ],
         "type": "scattermap"
        },
        {
         "hovertemplate": "<b>%{hovertext}</b><br><br>inbuffer=True<br>name=%{text}<br>lat=%{lat}<br>lon=%{lon}<extra></extra>",
         "hovertext": [
          "coffee berry - Άνω Γλυφάδα",
          "ROSEWOOD COFFEE HOUSE",
          "Krokkidas Angelos",
          "Jerry’s Your Tasty Stop!",
          "Gregory's",
          "Renieris Bakery",
          "Coffee Academy",
          "Coffee King",
          "Κουλουραδες Ανω Γλυφάδα",
          "Αρτοποιεια Κωτσης",
          "BLACK SUGAR",
          "Coffee Culture",
          "Viel coffee",
          "Max Perry - Handmade Chocolates",
          "MILKA",
          "Coffee Island",
          "Shell",
          "COZY CUP cafe",
          "BLYSSCAFE Glyfada",
          "ΛΟΚΑΛ (local) Γλυφάδα",
          "Mikel Coffee",
          "Crescenses Viennoiserie",
          "Cafe ΚΑΛΗΜΕΡΑ",
          "Peachy Glyfada",
          "Four Coffee",
          "ΦΟΥΡΝΟΣ ΒΕΝΕΤΗ FOOD HALL | Άνω Γλυφάδα",
          "Sovolos Pastry Shop",
          "Il Toto Άνω Γλυφάδα",
          "Coffee Berry - Άνω Γλυφάδα",
          "Gregory's",
          "Elite Stevia",
          "Sweet coffee",
          "Imagine",
          "Azel Coffee Bar",
          "Kotsis, Dimitrios, - Apostolos Apostolidis O.E.",
          "The Sparrow Nuts & Coffee",
          "EPIC Coffee & More",
          "Coffee Lab"
         ],
         "lat": {
          "bdata": "NgUyO4vyQkB1iCQfYPJCQJQ1RduM8kJAqYO8HkzyQkC4CVKEL/JCQDxYtVoW8kJA8yxScpjxQkDQIKqVrvFCQO1W4HVH8UJA1Aiik0rxQkCLdQU2QvFCQHqGFRNA8UJASnIKPEHxQkDe0bXlEvFCQGG5Shwe8UJAvGNnwA/xQkAd6tIa3vBCQGDNXDus8EJA9hDop5PwQkD1UmeklPBCQMrVNJR/8EJA+CKQAY/wQkBI5uz4ivBCQI2CO6tg8EJAjYI7q2DwQkDbdSW4R/BCQFyLu+b670JAElz2NdzvQkACh6te2e9CQMd0MoLX70JA8N6sHLXvQkBAUMmUau9CQK+UZYhj70JAG1YCcz7vQkDZ5zHKM+9CQO3S0FDt7kJAgPEMGvruQkCkwW1t4e5CQA==",
          "dtype": "f8"
         },
         "legendgroup": "True",
         "lon": {
          "bdata": "455TNebCN0DaPj/nycI3QJcP90fOwjdA60Gc4szCN0CR9pp5zcI3QGSnxBrTwjdAq0Wf6uvCN0Ao7niT38I3QHYRS28kwzdAj91P1yTDN0BtXovMEsM3QD7GgfwRwzdARBMoYhHDN0Aw/myaLcM3QN4Lgn0qwzdA/QXMjTPDN0DqLdRQWcM3QOkCA61lwzdAWVZQB2jDN0AEhlG1gsM3QPGMbJ1uwzdAHZSLjGnDN0DDFECMa8M3QEPHDipxwzdAQ8cOKnHDN0DZOXJJesM3QA1YchWLwzdA62ksBrTDN0DUBze+m8M3QMqUxbO6wzdAVgM5zafDN0BJJMCf0MM3QGvP0U/dwzdAh7VCohrEN0AenzXkRMQ3QLF/Q02ZxDdA2z0vy43EN0AoKbAApsQ3QA==",
          "dtype": "f8"
         },
         "marker": {
          "color": "#EF553B"
         },
         "mode": "markers+text",
         "name": "True",
         "showlegend": true,
         "subplot": "map",
         "text": [
          "coffee berry - Άνω Γλυφάδα",
          "ROSEWOOD COFFEE HOUSE",
          "Krokkidas Angelos",
          "Jerry’s Your Tasty Stop!",
          "Gregory's",
          "Renieris Bakery",
          "Coffee Academy",
          "Coffee King",
          "Κουλουραδες Ανω Γλυφάδα",
          "Αρτοποιεια Κωτσης",
          "BLACK SUGAR",
          "Coffee Culture",
          "Viel coffee",
          "Max Perry - Handmade Chocolates",
          "MILKA",
          "Coffee Island",
          "Shell",
          "COZY CUP cafe",
          "BLYSSCAFE Glyfada",
          "ΛΟΚΑΛ (local) Γλυφάδα",
          "Mikel Coffee",
          "Crescenses Viennoiserie",
          "Cafe ΚΑΛΗΜΕΡΑ",
          "Peachy Glyfada",
          "Four Coffee",
          "ΦΟΥΡΝΟΣ ΒΕΝΕΤΗ FOOD HALL | Άνω Γλυφάδα",
          "Sovolos Pastry Shop",
          "Il Toto Άνω Γλυφάδα",
          "Coffee Berry - Άνω Γλυφάδα",
          "Gregory's",
          "Elite Stevia",
          "Sweet coffee",
          "Imagine",
          "Azel Coffee Bar",
          "Kotsis, Dimitrios, - Apostolos Apostolidis O.E.",
          "The Sparrow Nuts & Coffee",
          "EPIC Coffee & More",
          "Coffee Lab"
         ],
         "type": "scattermap"
        }
       ],
       "layout": {
        "legend": {
         "title": {
          "text": "inbuffer"
         },
         "tracegroupgap": 0
        },
        "map": {
         "center": {
          "lat": 37.88049162857143,
          "lon": 23.76323899107143
         },
         "domain": {
          "x": [
           0,
           1
          ],
          "y": [
           0,
           1
          ]
         },
         "style": "open-street-map",
         "zoom": 12
        },
        "mapbox": {
         "center": {
          "lat": 37.88049162857143,
          "lon": 23.76323899107143
         },
         "style": "open-street-map",
         "zoom": 12
        },
        "margin": {
         "t": 60
        },
        "template": {
         "data": {
          "bar": [
           {
            "error_x": {
             "color": "#2a3f5f"
            },
            "error_y": {
             "color": "#2a3f5f"
            },
            "marker": {
             "line": {
              "color": "#E5ECF6",
              "width": 0.5
             },
             "pattern": {
              "fillmode": "overlay",
              "size": 10,
              "solidity": 0.2
             }
            },
            "type": "bar"
           }
          ],
          "barpolar": [
           {
            "marker": {
             "line": {
              "color": "#E5ECF6",
              "width": 0.5
             },
             "pattern": {
              "fillmode": "overlay",
              "size": 10,
              "solidity": 0.2
             }
            },
            "type": "barpolar"
           }
          ],
          "carpet": [
           {
            "aaxis": {
             "endlinecolor": "#2a3f5f",
             "gridcolor": "white",
             "linecolor": "white",
             "minorgridcolor": "white",
             "startlinecolor": "#2a3f5f"
            },
            "baxis": {
             "endlinecolor": "#2a3f5f",
             "gridcolor": "white",
             "linecolor": "white",
             "minorgridcolor": "white",
             "startlinecolor": "#2a3f5f"
            },
            "type": "carpet"
           }
          ],
          "choropleth": [
           {
            "colorbar": {
             "outlinewidth": 0,
             "ticks": ""
            },
            "type": "choropleth"
           }
          ],
          "contour": [
           {
            "colorbar": {
             "outlinewidth": 0,
             "ticks": ""
            },
            "colorscale": [
             [
              0,
              "#0d0887"
             ],
             [
              0.1111111111111111,
              "#46039f"
             ],
             [
              0.2222222222222222,
              "#7201a8"
             ],
             [
              0.3333333333333333,
              "#9c179e"
             ],
             [
              0.4444444444444444,
              "#bd3786"
             ],
             [
              0.5555555555555556,
              "#d8576b"
             ],
             [
              0.6666666666666666,
              "#ed7953"
             ],
             [
              0.7777777777777778,
              "#fb9f3a"
             ],
             [
              0.8888888888888888,
              "#fdca26"
             ],
             [
              1,
              "#f0f921"
             ]
            ],
            "type": "contour"
           }
          ],
          "contourcarpet": [
           {
            "colorbar": {
             "outlinewidth": 0,
             "ticks": ""
            },
            "type": "contourcarpet"
           }
          ],
          "heatmap": [
           {
            "colorbar": {
             "outlinewidth": 0,
             "ticks": ""
            },
            "colorscale": [
             [
              0,
              "#0d0887"
             ],
             [
              0.1111111111111111,
              "#46039f"
             ],
             [
              0.2222222222222222,
              "#7201a8"
             ],
             [
              0.3333333333333333,
              "#9c179e"
             ],
             [
              0.4444444444444444,
              "#bd3786"
             ],
             [
              0.5555555555555556,
              "#d8576b"
             ],
             [
              0.6666666666666666,
              "#ed7953"
             ],
             [
              0.7777777777777778,
              "#fb9f3a"
             ],
             [
              0.8888888888888888,
              "#fdca26"
             ],
             [
              1,
              "#f0f921"
             ]
            ],
            "type": "heatmap"
           }
          ],
          "histogram": [
           {
            "marker": {
             "pattern": {
              "fillmode": "overlay",
              "size": 10,
              "solidity": 0.2
             }
            },
            "type": "histogram"
           }
          ],
          "histogram2d": [
           {
            "colorbar": {
             "outlinewidth": 0,
             "ticks": ""
            },
            "colorscale": [
             [
              0,
              "#0d0887"
             ],
             [
              0.1111111111111111,
              "#46039f"
             ],
             [
              0.2222222222222222,
              "#7201a8"
             ],
             [
              0.3333333333333333,
              "#9c179e"
             ],
             [
              0.4444444444444444,
              "#bd3786"
             ],
             [
              0.5555555555555556,
              "#d8576b"
             ],
             [
              0.6666666666666666,
              "#ed7953"
             ],
             [
              0.7777777777777778,
              "#fb9f3a"
             ],
             [
              0.8888888888888888,
              "#fdca26"
             ],
             [
              1,
              "#f0f921"
             ]
            ],
            "type": "histogram2d"
           }
          ],
          "histogram2dcontour": [
           {
            "colorbar": {
             "outlinewidth": 0,
             "ticks": ""
            },
            "colorscale": [
             [
              0,
              "#0d0887"
             ],
             [
              0.1111111111111111,
              "#46039f"
             ],
             [
              0.2222222222222222,
              "#7201a8"
             ],
             [
              0.3333333333333333,
              "#9c179e"
             ],
             [
              0.4444444444444444,
              "#bd3786"
             ],
             [
              0.5555555555555556,
              "#d8576b"
             ],
             [
              0.6666666666666666,
              "#ed7953"
             ],
             [
              0.7777777777777778,
              "#fb9f3a"
             ],
             [
              0.8888888888888888,
              "#fdca26"
             ],
             [
              1,
              "#f0f921"
             ]
            ],
            "type": "histogram2dcontour"
           }
          ],
          "mesh3d": [
           {
            "colorbar": {
             "outlinewidth": 0,
             "ticks": ""
            },
            "type": "mesh3d"
           }
          ],
          "parcoords": [
           {
            "line": {
             "colorbar": {
              "outlinewidth": 0,
              "ticks": ""
             }
            },
            "type": "parcoords"
           }
          ],
          "pie": [
           {
            "automargin": true,
            "type": "pie"
           }
          ],
          "scatter": [
           {
            "fillpattern": {
             "fillmode": "overlay",
             "size": 10,
             "solidity": 0.2
            },
            "type": "scatter"
           }
          ],
          "scatter3d": [
           {
            "line": {
             "colorbar": {
              "outlinewidth": 0,
              "ticks": ""
             }
            },
            "marker": {
             "colorbar": {
              "outlinewidth": 0,
              "ticks": ""
             }
            },
            "type": "scatter3d"
           }
          ],
          "scattercarpet": [
           {
            "marker": {
             "colorbar": {
              "outlinewidth": 0,
              "ticks": ""
             }
            },
            "type": "scattercarpet"
           }
          ],
          "scattergeo": [
           {
            "marker": {
             "colorbar": {
              "outlinewidth": 0,
              "ticks": ""
             }
            },
            "type": "scattergeo"
           }
          ],
          "scattergl": [
           {
            "marker": {
             "colorbar": {
              "outlinewidth": 0,
              "ticks": ""
             }
            },
            "type": "scattergl"
           }
          ],
          "scattermap": [
           {
            "marker": {
             "colorbar": {
              "outlinewidth": 0,
              "ticks": ""
             }
            },
            "type": "scattermap"
           }
          ],
          "scattermapbox": [
           {
            "marker": {
             "colorbar": {
              "outlinewidth": 0,
              "ticks": ""
             }
            },
            "type": "scattermapbox"
           }
          ],
          "scatterpolar": [
           {
            "marker": {
             "colorbar": {
              "outlinewidth": 0,
              "ticks": ""
             }
            },
            "type": "scatterpolar"
           }
          ],
          "scatterpolargl": [
           {
            "marker": {
             "colorbar": {
              "outlinewidth": 0,
              "ticks": ""
             }
            },
            "type": "scatterpolargl"
           }
          ],
          "scatterternary": [
           {
            "marker": {
             "colorbar": {
              "outlinewidth": 0,
              "ticks": ""
             }
            },
            "type": "scatterternary"
           }
          ],
          "surface": [
           {
            "colorbar": {
             "outlinewidth": 0,
             "ticks": ""
            },
            "colorscale": [
             [
              0,
              "#0d0887"
             ],
             [
              0.1111111111111111,
              "#46039f"
             ],
             [
              0.2222222222222222,
              "#7201a8"
             ],
             [
              0.3333333333333333,
              "#9c179e"
             ],
             [
              0.4444444444444444,
              "#bd3786"
             ],
             [
              0.5555555555555556,
              "#d8576b"
             ],
             [
              0.6666666666666666,
              "#ed7953"
             ],
             [
              0.7777777777777778,
              "#fb9f3a"
             ],
             [
              0.8888888888888888,
              "#fdca26"
             ],
             [
              1,
              "#f0f921"
             ]
            ],
            "type": "surface"
           }
          ],
          "table": [
           {
            "cells": {
             "fill": {
              "color": "#EBF0F8"
             },
             "line": {
              "color": "white"
             }
            },
            "header": {
             "fill": {
              "color": "#C8D4E3"
             },
             "line": {
              "color": "white"
             }
            },
            "type": "table"
           }
          ]
         },
         "layout": {
          "annotationdefaults": {
           "arrowcolor": "#2a3f5f",
           "arrowhead": 0,
           "arrowwidth": 1
          },
          "autotypenumbers": "strict",
          "coloraxis": {
           "colorbar": {
            "outlinewidth": 0,
            "ticks": ""
           }
          },
          "colorscale": {
           "diverging": [
            [
             0,
             "#8e0152"
            ],
            [
             0.1,
             "#c51b7d"
            ],
            [
             0.2,
             "#de77ae"
            ],
            [
             0.3,
             "#f1b6da"
            ],
            [
             0.4,
             "#fde0ef"
            ],
            [
             0.5,
             "#f7f7f7"
            ],
            [
             0.6,
             "#e6f5d0"
            ],
            [
             0.7,
             "#b8e186"
            ],
            [
             0.8,
             "#7fbc41"
            ],
            [
             0.9,
             "#4d9221"
            ],
            [
             1,
             "#276419"
            ]
           ],
           "sequential": [
            [
             0,
             "#0d0887"
            ],
            [
             0.1111111111111111,
             "#46039f"
            ],
            [
             0.2222222222222222,
             "#7201a8"
            ],
            [
             0.3333333333333333,
             "#9c179e"
            ],
            [
             0.4444444444444444,
             "#bd3786"
            ],
            [
             0.5555555555555556,
             "#d8576b"
            ],
            [
             0.6666666666666666,
             "#ed7953"
            ],
            [
             0.7777777777777778,
             "#fb9f3a"
            ],
            [
             0.8888888888888888,
             "#fdca26"
            ],
            [
             1,
             "#f0f921"
            ]
           ],
           "sequentialminus": [
            [
             0,
             "#0d0887"
            ],
            [
             0.1111111111111111,
             "#46039f"
            ],
            [
             0.2222222222222222,
             "#7201a8"
            ],
            [
             0.3333333333333333,
             "#9c179e"
            ],
            [
             0.4444444444444444,
             "#bd3786"
            ],
            [
             0.5555555555555556,
             "#d8576b"
            ],
            [
             0.6666666666666666,
             "#ed7953"
            ],
            [
             0.7777777777777778,
             "#fb9f3a"
            ],
            [
             0.8888888888888888,
             "#fdca26"
            ],
            [
             1,
             "#f0f921"
            ]
           ]
          },
          "colorway": [
           "#636efa",
           "#EF553B",
           "#00cc96",
           "#ab63fa",
           "#FFA15A",
           "#19d3f3",
           "#FF6692",
           "#B6E880",
           "#FF97FF",
           "#FECB52"
          ],
          "font": {
           "color": "#2a3f5f"
          },
          "geo": {
           "bgcolor": "white",
           "lakecolor": "white",
           "landcolor": "#E5ECF6",
           "showlakes": true,
           "showland": true,
           "subunitcolor": "white"
          },
          "hoverlabel": {
           "align": "left"
          },
          "hovermode": "closest",
          "mapbox": {
           "style": "light"
          },
          "paper_bgcolor": "white",
          "plot_bgcolor": "#E5ECF6",
          "polar": {
           "angularaxis": {
            "gridcolor": "white",
            "linecolor": "white",
            "ticks": ""
           },
           "bgcolor": "#E5ECF6",
           "radialaxis": {
            "gridcolor": "white",
            "linecolor": "white",
            "ticks": ""
           }
          },
          "scene": {
           "xaxis": {
            "backgroundcolor": "#E5ECF6",
            "gridcolor": "white",
            "gridwidth": 2,
            "linecolor": "white",
            "showbackground": true,
            "ticks": "",
            "zerolinecolor": "white"
           },
           "yaxis": {
            "backgroundcolor": "#E5ECF6",
            "gridcolor": "white",
            "gridwidth": 2,
            "linecolor": "white",
            "showbackground": true,
            "ticks": "",
            "zerolinecolor": "white"
           },
           "zaxis": {
            "backgroundcolor": "#E5ECF6",
            "gridcolor": "white",
            "gridwidth": 2,
            "linecolor": "white",
            "showbackground": true,
            "ticks": "",
            "zerolinecolor": "white"
           }
          },
          "shapedefaults": {
           "line": {
            "color": "#2a3f5f"
           }
          },
          "ternary": {
           "aaxis": {
            "gridcolor": "white",
            "linecolor": "white",
            "ticks": ""
           },
           "baxis": {
            "gridcolor": "white",
            "linecolor": "white",
            "ticks": ""
           },
           "bgcolor": "#E5ECF6",
           "caxis": {
            "gridcolor": "white",
            "linecolor": "white",
            "ticks": ""
           }
          },
          "title": {
           "x": 0.05
          },
          "xaxis": {
           "automargin": true,
           "gridcolor": "white",
           "linecolor": "white",
           "ticks": "",
           "title": {
            "standoff": 15
           },
           "zerolinecolor": "white",
           "zerolinewidth": 2
          },
          "yaxis": {
           "automargin": true,
           "gridcolor": "white",
           "linecolor": "white",
           "ticks": "",
           "title": {
            "standoff": 15
           },
           "zerolinecolor": "white",
           "zerolinewidth": 2
          }
         }
        }
       }
      }
     },
     "metadata": {},
     "output_type": "display_data"
    }
   ],
   "source": [
    "fig = px.scatter_map(gdf, lat=gdf.geometry.y, lon=gdf.geometry.x, color='inbuffer', text='name', hover_name=\"name\", zoom=12, map_style=map_style)\n",
    "fig.show()"
   ]
  },
  {
   "cell_type": "code",
   "execution_count": 14,
   "id": "4b95eb4f",
   "metadata": {},
   "outputs": [
    {
     "data": {
      "application/vnd.plotly.v1+json": {
       "config": {
        "plotlyServerURL": "https://plot.ly"
       },
       "data": [
        {
         "coloraxis": "coloraxis",
         "hovertemplate": "lat=%{lat}<br>lon=%{lon}<extra></extra>",
         "lat": {
          "bdata": "NgUyO4vyQkB1iCQfYPJCQJQ1RduM8kJAqYO8HkzyQkC4CVKEL/JCQDxYtVoW8kJA8yxScpjxQkDQIKqVrvFCQO1W4HVH8UJA1Aiik0rxQkCLdQU2QvFCQHqGFRNA8UJASnIKPEHxQkDe0bXlEvFCQGG5Shwe8UJAvGNnwA/xQkAd6tIa3vBCQGDNXDus8EJA9hDop5PwQkD1UmeklPBCQMrVNJR/8EJA+CKQAY/wQkBI5uz4ivBCQI2CO6tg8EJAjYI7q2DwQkDbdSW4R/BCQFyLu+b670JAElz2NdzvQkACh6te2e9CQMd0MoLX70JA8N6sHLXvQkBAUMmUau9CQK+UZYhj70JAG1YCcz7vQkDZ5zHKM+9CQO3S0FDt7kJAgPEMGvruQkCkwW1t4e5CQA==",
          "dtype": "f8"
         },
         "lon": {
          "bdata": "455TNebCN0DaPj/nycI3QJcP90fOwjdA60Gc4szCN0CR9pp5zcI3QGSnxBrTwjdAq0Wf6uvCN0Ao7niT38I3QHYRS28kwzdAj91P1yTDN0BtXovMEsM3QD7GgfwRwzdARBMoYhHDN0Aw/myaLcM3QN4Lgn0qwzdA/QXMjTPDN0DqLdRQWcM3QOkCA61lwzdAWVZQB2jDN0AEhlG1gsM3QPGMbJ1uwzdAHZSLjGnDN0DDFECMa8M3QEPHDipxwzdAQ8cOKnHDN0DZOXJJesM3QA1YchWLwzdA62ksBrTDN0DUBze+m8M3QMqUxbO6wzdAVgM5zafDN0BJJMCf0MM3QGvP0U/dwzdAh7VCohrEN0AenzXkRMQ3QLF/Q02ZxDdA2z0vy43EN0AoKbAApsQ3QA==",
          "dtype": "f8"
         },
         "name": "",
         "radius": 12,
         "subplot": "map",
         "type": "densitymap"
        }
       ],
       "layout": {
        "coloraxis": {
         "colorscale": [
          [
           0,
           "#0d0887"
          ],
          [
           0.1111111111111111,
           "#46039f"
          ],
          [
           0.2222222222222222,
           "#7201a8"
          ],
          [
           0.3333333333333333,
           "#9c179e"
          ],
          [
           0.4444444444444444,
           "#bd3786"
          ],
          [
           0.5555555555555556,
           "#d8576b"
          ],
          [
           0.6666666666666666,
           "#ed7953"
          ],
          [
           0.7777777777777778,
           "#fb9f3a"
          ],
          [
           0.8888888888888888,
           "#fdca26"
          ],
          [
           1,
           "#f0f921"
          ]
         ]
        },
        "legend": {
         "tracegroupgap": 0
        },
        "map": {
         "center": {
          "lat": 37.880245086842095,
          "lon": 23.763378107894734
         },
         "domain": {
          "x": [
           0,
           1
          ],
          "y": [
           0,
           1
          ]
         },
         "style": "open-street-map",
         "zoom": 12
        },
        "mapbox": {
         "center": {
          "lat": 37.880245086842095,
          "lon": 23.763378107894734
         },
         "style": "open-street-map",
         "zoom": 12
        },
        "margin": {
         "t": 60
        },
        "template": {
         "data": {
          "bar": [
           {
            "error_x": {
             "color": "#2a3f5f"
            },
            "error_y": {
             "color": "#2a3f5f"
            },
            "marker": {
             "line": {
              "color": "#E5ECF6",
              "width": 0.5
             },
             "pattern": {
              "fillmode": "overlay",
              "size": 10,
              "solidity": 0.2
             }
            },
            "type": "bar"
           }
          ],
          "barpolar": [
           {
            "marker": {
             "line": {
              "color": "#E5ECF6",
              "width": 0.5
             },
             "pattern": {
              "fillmode": "overlay",
              "size": 10,
              "solidity": 0.2
             }
            },
            "type": "barpolar"
           }
          ],
          "carpet": [
           {
            "aaxis": {
             "endlinecolor": "#2a3f5f",
             "gridcolor": "white",
             "linecolor": "white",
             "minorgridcolor": "white",
             "startlinecolor": "#2a3f5f"
            },
            "baxis": {
             "endlinecolor": "#2a3f5f",
             "gridcolor": "white",
             "linecolor": "white",
             "minorgridcolor": "white",
             "startlinecolor": "#2a3f5f"
            },
            "type": "carpet"
           }
          ],
          "choropleth": [
           {
            "colorbar": {
             "outlinewidth": 0,
             "ticks": ""
            },
            "type": "choropleth"
           }
          ],
          "contour": [
           {
            "colorbar": {
             "outlinewidth": 0,
             "ticks": ""
            },
            "colorscale": [
             [
              0,
              "#0d0887"
             ],
             [
              0.1111111111111111,
              "#46039f"
             ],
             [
              0.2222222222222222,
              "#7201a8"
             ],
             [
              0.3333333333333333,
              "#9c179e"
             ],
             [
              0.4444444444444444,
              "#bd3786"
             ],
             [
              0.5555555555555556,
              "#d8576b"
             ],
             [
              0.6666666666666666,
              "#ed7953"
             ],
             [
              0.7777777777777778,
              "#fb9f3a"
             ],
             [
              0.8888888888888888,
              "#fdca26"
             ],
             [
              1,
              "#f0f921"
             ]
            ],
            "type": "contour"
           }
          ],
          "contourcarpet": [
           {
            "colorbar": {
             "outlinewidth": 0,
             "ticks": ""
            },
            "type": "contourcarpet"
           }
          ],
          "heatmap": [
           {
            "colorbar": {
             "outlinewidth": 0,
             "ticks": ""
            },
            "colorscale": [
             [
              0,
              "#0d0887"
             ],
             [
              0.1111111111111111,
              "#46039f"
             ],
             [
              0.2222222222222222,
              "#7201a8"
             ],
             [
              0.3333333333333333,
              "#9c179e"
             ],
             [
              0.4444444444444444,
              "#bd3786"
             ],
             [
              0.5555555555555556,
              "#d8576b"
             ],
             [
              0.6666666666666666,
              "#ed7953"
             ],
             [
              0.7777777777777778,
              "#fb9f3a"
             ],
             [
              0.8888888888888888,
              "#fdca26"
             ],
             [
              1,
              "#f0f921"
             ]
            ],
            "type": "heatmap"
           }
          ],
          "histogram": [
           {
            "marker": {
             "pattern": {
              "fillmode": "overlay",
              "size": 10,
              "solidity": 0.2
             }
            },
            "type": "histogram"
           }
          ],
          "histogram2d": [
           {
            "colorbar": {
             "outlinewidth": 0,
             "ticks": ""
            },
            "colorscale": [
             [
              0,
              "#0d0887"
             ],
             [
              0.1111111111111111,
              "#46039f"
             ],
             [
              0.2222222222222222,
              "#7201a8"
             ],
             [
              0.3333333333333333,
              "#9c179e"
             ],
             [
              0.4444444444444444,
              "#bd3786"
             ],
             [
              0.5555555555555556,
              "#d8576b"
             ],
             [
              0.6666666666666666,
              "#ed7953"
             ],
             [
              0.7777777777777778,
              "#fb9f3a"
             ],
             [
              0.8888888888888888,
              "#fdca26"
             ],
             [
              1,
              "#f0f921"
             ]
            ],
            "type": "histogram2d"
           }
          ],
          "histogram2dcontour": [
           {
            "colorbar": {
             "outlinewidth": 0,
             "ticks": ""
            },
            "colorscale": [
             [
              0,
              "#0d0887"
             ],
             [
              0.1111111111111111,
              "#46039f"
             ],
             [
              0.2222222222222222,
              "#7201a8"
             ],
             [
              0.3333333333333333,
              "#9c179e"
             ],
             [
              0.4444444444444444,
              "#bd3786"
             ],
             [
              0.5555555555555556,
              "#d8576b"
             ],
             [
              0.6666666666666666,
              "#ed7953"
             ],
             [
              0.7777777777777778,
              "#fb9f3a"
             ],
             [
              0.8888888888888888,
              "#fdca26"
             ],
             [
              1,
              "#f0f921"
             ]
            ],
            "type": "histogram2dcontour"
           }
          ],
          "mesh3d": [
           {
            "colorbar": {
             "outlinewidth": 0,
             "ticks": ""
            },
            "type": "mesh3d"
           }
          ],
          "parcoords": [
           {
            "line": {
             "colorbar": {
              "outlinewidth": 0,
              "ticks": ""
             }
            },
            "type": "parcoords"
           }
          ],
          "pie": [
           {
            "automargin": true,
            "type": "pie"
           }
          ],
          "scatter": [
           {
            "fillpattern": {
             "fillmode": "overlay",
             "size": 10,
             "solidity": 0.2
            },
            "type": "scatter"
           }
          ],
          "scatter3d": [
           {
            "line": {
             "colorbar": {
              "outlinewidth": 0,
              "ticks": ""
             }
            },
            "marker": {
             "colorbar": {
              "outlinewidth": 0,
              "ticks": ""
             }
            },
            "type": "scatter3d"
           }
          ],
          "scattercarpet": [
           {
            "marker": {
             "colorbar": {
              "outlinewidth": 0,
              "ticks": ""
             }
            },
            "type": "scattercarpet"
           }
          ],
          "scattergeo": [
           {
            "marker": {
             "colorbar": {
              "outlinewidth": 0,
              "ticks": ""
             }
            },
            "type": "scattergeo"
           }
          ],
          "scattergl": [
           {
            "marker": {
             "colorbar": {
              "outlinewidth": 0,
              "ticks": ""
             }
            },
            "type": "scattergl"
           }
          ],
          "scattermap": [
           {
            "marker": {
             "colorbar": {
              "outlinewidth": 0,
              "ticks": ""
             }
            },
            "type": "scattermap"
           }
          ],
          "scattermapbox": [
           {
            "marker": {
             "colorbar": {
              "outlinewidth": 0,
              "ticks": ""
             }
            },
            "type": "scattermapbox"
           }
          ],
          "scatterpolar": [
           {
            "marker": {
             "colorbar": {
              "outlinewidth": 0,
              "ticks": ""
             }
            },
            "type": "scatterpolar"
           }
          ],
          "scatterpolargl": [
           {
            "marker": {
             "colorbar": {
              "outlinewidth": 0,
              "ticks": ""
             }
            },
            "type": "scatterpolargl"
           }
          ],
          "scatterternary": [
           {
            "marker": {
             "colorbar": {
              "outlinewidth": 0,
              "ticks": ""
             }
            },
            "type": "scatterternary"
           }
          ],
          "surface": [
           {
            "colorbar": {
             "outlinewidth": 0,
             "ticks": ""
            },
            "colorscale": [
             [
              0,
              "#0d0887"
             ],
             [
              0.1111111111111111,
              "#46039f"
             ],
             [
              0.2222222222222222,
              "#7201a8"
             ],
             [
              0.3333333333333333,
              "#9c179e"
             ],
             [
              0.4444444444444444,
              "#bd3786"
             ],
             [
              0.5555555555555556,
              "#d8576b"
             ],
             [
              0.6666666666666666,
              "#ed7953"
             ],
             [
              0.7777777777777778,
              "#fb9f3a"
             ],
             [
              0.8888888888888888,
              "#fdca26"
             ],
             [
              1,
              "#f0f921"
             ]
            ],
            "type": "surface"
           }
          ],
          "table": [
           {
            "cells": {
             "fill": {
              "color": "#EBF0F8"
             },
             "line": {
              "color": "white"
             }
            },
            "header": {
             "fill": {
              "color": "#C8D4E3"
             },
             "line": {
              "color": "white"
             }
            },
            "type": "table"
           }
          ]
         },
         "layout": {
          "annotationdefaults": {
           "arrowcolor": "#2a3f5f",
           "arrowhead": 0,
           "arrowwidth": 1
          },
          "autotypenumbers": "strict",
          "coloraxis": {
           "colorbar": {
            "outlinewidth": 0,
            "ticks": ""
           }
          },
          "colorscale": {
           "diverging": [
            [
             0,
             "#8e0152"
            ],
            [
             0.1,
             "#c51b7d"
            ],
            [
             0.2,
             "#de77ae"
            ],
            [
             0.3,
             "#f1b6da"
            ],
            [
             0.4,
             "#fde0ef"
            ],
            [
             0.5,
             "#f7f7f7"
            ],
            [
             0.6,
             "#e6f5d0"
            ],
            [
             0.7,
             "#b8e186"
            ],
            [
             0.8,
             "#7fbc41"
            ],
            [
             0.9,
             "#4d9221"
            ],
            [
             1,
             "#276419"
            ]
           ],
           "sequential": [
            [
             0,
             "#0d0887"
            ],
            [
             0.1111111111111111,
             "#46039f"
            ],
            [
             0.2222222222222222,
             "#7201a8"
            ],
            [
             0.3333333333333333,
             "#9c179e"
            ],
            [
             0.4444444444444444,
             "#bd3786"
            ],
            [
             0.5555555555555556,
             "#d8576b"
            ],
            [
             0.6666666666666666,
             "#ed7953"
            ],
            [
             0.7777777777777778,
             "#fb9f3a"
            ],
            [
             0.8888888888888888,
             "#fdca26"
            ],
            [
             1,
             "#f0f921"
            ]
           ],
           "sequentialminus": [
            [
             0,
             "#0d0887"
            ],
            [
             0.1111111111111111,
             "#46039f"
            ],
            [
             0.2222222222222222,
             "#7201a8"
            ],
            [
             0.3333333333333333,
             "#9c179e"
            ],
            [
             0.4444444444444444,
             "#bd3786"
            ],
            [
             0.5555555555555556,
             "#d8576b"
            ],
            [
             0.6666666666666666,
             "#ed7953"
            ],
            [
             0.7777777777777778,
             "#fb9f3a"
            ],
            [
             0.8888888888888888,
             "#fdca26"
            ],
            [
             1,
             "#f0f921"
            ]
           ]
          },
          "colorway": [
           "#636efa",
           "#EF553B",
           "#00cc96",
           "#ab63fa",
           "#FFA15A",
           "#19d3f3",
           "#FF6692",
           "#B6E880",
           "#FF97FF",
           "#FECB52"
          ],
          "font": {
           "color": "#2a3f5f"
          },
          "geo": {
           "bgcolor": "white",
           "lakecolor": "white",
           "landcolor": "#E5ECF6",
           "showlakes": true,
           "showland": true,
           "subunitcolor": "white"
          },
          "hoverlabel": {
           "align": "left"
          },
          "hovermode": "closest",
          "mapbox": {
           "style": "light"
          },
          "paper_bgcolor": "white",
          "plot_bgcolor": "#E5ECF6",
          "polar": {
           "angularaxis": {
            "gridcolor": "white",
            "linecolor": "white",
            "ticks": ""
           },
           "bgcolor": "#E5ECF6",
           "radialaxis": {
            "gridcolor": "white",
            "linecolor": "white",
            "ticks": ""
           }
          },
          "scene": {
           "xaxis": {
            "backgroundcolor": "#E5ECF6",
            "gridcolor": "white",
            "gridwidth": 2,
            "linecolor": "white",
            "showbackground": true,
            "ticks": "",
            "zerolinecolor": "white"
           },
           "yaxis": {
            "backgroundcolor": "#E5ECF6",
            "gridcolor": "white",
            "gridwidth": 2,
            "linecolor": "white",
            "showbackground": true,
            "ticks": "",
            "zerolinecolor": "white"
           },
           "zaxis": {
            "backgroundcolor": "#E5ECF6",
            "gridcolor": "white",
            "gridwidth": 2,
            "linecolor": "white",
            "showbackground": true,
            "ticks": "",
            "zerolinecolor": "white"
           }
          },
          "shapedefaults": {
           "line": {
            "color": "#2a3f5f"
           }
          },
          "ternary": {
           "aaxis": {
            "gridcolor": "white",
            "linecolor": "white",
            "ticks": ""
           },
           "baxis": {
            "gridcolor": "white",
            "linecolor": "white",
            "ticks": ""
           },
           "bgcolor": "#E5ECF6",
           "caxis": {
            "gridcolor": "white",
            "linecolor": "white",
            "ticks": ""
           }
          },
          "title": {
           "x": 0.05
          },
          "xaxis": {
           "automargin": true,
           "gridcolor": "white",
           "linecolor": "white",
           "ticks": "",
           "title": {
            "standoff": 15
           },
           "zerolinecolor": "white",
           "zerolinewidth": 2
          },
          "yaxis": {
           "automargin": true,
           "gridcolor": "white",
           "linecolor": "white",
           "ticks": "",
           "title": {
            "standoff": 15
           },
           "zerolinecolor": "white",
           "zerolinewidth": 2
          }
         }
        },
        "width": 600
       }
      }
     },
     "metadata": {},
     "output_type": "display_data"
    }
   ],
   "source": [
    "fig = px.density_map(cafes, lat=cafes.geometry.y, lon=cafes.geometry.x, radius=12, zoom=12, map_style=map_style, width=600)\n",
    "fig.show()"
   ]
  },
  {
   "cell_type": "code",
   "execution_count": 15,
   "id": "f6d9c0de",
   "metadata": {},
   "outputs": [
    {
     "data": {
      "text/plain": [
       "'One cafe every: 125m'"
      ]
     },
     "execution_count": 15,
     "metadata": {},
     "output_type": "execute_result"
    }
   ],
   "source": [
    "f'One cafe every: {length / cafes.shape[0]:.0f}m'"
   ]
  },
  {
   "cell_type": "code",
   "execution_count": 16,
   "id": "158dfd37",
   "metadata": {},
   "outputs": [],
   "source": [
    "# Distance between cafes (distance matrix)"
   ]
  },
  {
   "cell_type": "code",
   "execution_count": 32,
   "id": "a2a9e159",
   "metadata": {},
   "outputs": [
    {
     "data": {
      "text/html": [
       "<div>\n",
       "<style scoped>\n",
       "    .dataframe tbody tr th:only-of-type {\n",
       "        vertical-align: middle;\n",
       "    }\n",
       "\n",
       "    .dataframe tbody tr th {\n",
       "        vertical-align: top;\n",
       "    }\n",
       "\n",
       "    .dataframe thead th {\n",
       "        text-align: right;\n",
       "    }\n",
       "</style>\n",
       "<table border=\"1\" class=\"dataframe\">\n",
       "  <thead>\n",
       "    <tr style=\"text-align: right;\">\n",
       "      <th></th>\n",
       "      <th>1</th>\n",
       "      <th>2</th>\n",
       "      <th>3</th>\n",
       "      <th>8</th>\n",
       "      <th>9</th>\n",
       "      <th>10</th>\n",
       "      <th>14</th>\n",
       "      <th>15</th>\n",
       "      <th>16</th>\n",
       "      <th>17</th>\n",
       "      <th>...</th>\n",
       "      <th>39</th>\n",
       "      <th>40</th>\n",
       "      <th>44</th>\n",
       "      <th>45</th>\n",
       "      <th>46</th>\n",
       "      <th>47</th>\n",
       "      <th>48</th>\n",
       "      <th>50</th>\n",
       "      <th>51</th>\n",
       "      <th>52</th>\n",
       "    </tr>\n",
       "  </thead>\n",
       "  <tbody>\n",
       "    <tr>\n",
       "      <th>1</th>\n",
       "      <td>0.00</td>\n",
       "      <td>150.93</td>\n",
       "      <td>32.59</td>\n",
       "      <td>216.53</td>\n",
       "      <td>312.53</td>\n",
       "      <td>396.85</td>\n",
       "      <td>822.68</td>\n",
       "      <td>747.69</td>\n",
       "      <td>1100.24</td>\n",
       "      <td>1089.75</td>\n",
       "      <td>...</td>\n",
       "      <td>2350.19</td>\n",
       "      <td>2361.13</td>\n",
       "      <td>2474.07</td>\n",
       "      <td>2731.11</td>\n",
       "      <td>2756.83</td>\n",
       "      <td>2892.25</td>\n",
       "      <td>2936.57</td>\n",
       "      <td>3191.30</td>\n",
       "      <td>3145.88</td>\n",
       "      <td>3234.03</td>\n",
       "    </tr>\n",
       "    <tr>\n",
       "      <th>2</th>\n",
       "      <td>150.93</td>\n",
       "      <td>0.00</td>\n",
       "      <td>151.69</td>\n",
       "      <td>67.89</td>\n",
       "      <td>164.76</td>\n",
       "      <td>250.26</td>\n",
       "      <td>678.12</td>\n",
       "      <td>602.27</td>\n",
       "      <td>958.73</td>\n",
       "      <td>948.32</td>\n",
       "      <td>...</td>\n",
       "      <td>2209.48</td>\n",
       "      <td>2221.41</td>\n",
       "      <td>2333.40</td>\n",
       "      <td>2590.97</td>\n",
       "      <td>2616.98</td>\n",
       "      <td>2753.75</td>\n",
       "      <td>2799.14</td>\n",
       "      <td>3055.33</td>\n",
       "      <td>3009.77</td>\n",
       "      <td>3098.25</td>\n",
       "    </tr>\n",
       "    <tr>\n",
       "      <th>3</th>\n",
       "      <td>32.59</td>\n",
       "      <td>151.69</td>\n",
       "      <td>0.00</td>\n",
       "      <td>219.36</td>\n",
       "      <td>316.27</td>\n",
       "      <td>401.58</td>\n",
       "      <td>829.11</td>\n",
       "      <td>753.50</td>\n",
       "      <td>1108.62</td>\n",
       "      <td>1098.18</td>\n",
       "      <td>...</td>\n",
       "      <td>2359.21</td>\n",
       "      <td>2370.68</td>\n",
       "      <td>2483.12</td>\n",
       "      <td>2740.46</td>\n",
       "      <td>2766.34</td>\n",
       "      <td>2902.47</td>\n",
       "      <td>2947.32</td>\n",
       "      <td>3202.74</td>\n",
       "      <td>3157.26</td>\n",
       "      <td>3245.56</td>\n",
       "    </tr>\n",
       "    <tr>\n",
       "      <th>8</th>\n",
       "      <td>216.53</td>\n",
       "      <td>67.89</td>\n",
       "      <td>219.36</td>\n",
       "      <td>0.00</td>\n",
       "      <td>96.92</td>\n",
       "      <td>182.37</td>\n",
       "      <td>610.23</td>\n",
       "      <td>534.38</td>\n",
       "      <td>891.00</td>\n",
       "      <td>880.61</td>\n",
       "      <td>...</td>\n",
       "      <td>2141.76</td>\n",
       "      <td>2153.78</td>\n",
       "      <td>2265.68</td>\n",
       "      <td>2523.29</td>\n",
       "      <td>2549.33</td>\n",
       "      <td>2686.25</td>\n",
       "      <td>2731.79</td>\n",
       "      <td>2988.17</td>\n",
       "      <td>2942.60</td>\n",
       "      <td>3031.13</td>\n",
       "    </tr>\n",
       "    <tr>\n",
       "      <th>9</th>\n",
       "      <td>312.53</td>\n",
       "      <td>164.76</td>\n",
       "      <td>316.27</td>\n",
       "      <td>96.92</td>\n",
       "      <td>0.00</td>\n",
       "      <td>85.59</td>\n",
       "      <td>513.51</td>\n",
       "      <td>437.55</td>\n",
       "      <td>794.92</td>\n",
       "      <td>784.56</td>\n",
       "      <td>...</td>\n",
       "      <td>2045.59</td>\n",
       "      <td>2057.86</td>\n",
       "      <td>2169.51</td>\n",
       "      <td>2427.22</td>\n",
       "      <td>2453.34</td>\n",
       "      <td>2590.60</td>\n",
       "      <td>2636.45</td>\n",
       "      <td>2893.25</td>\n",
       "      <td>2847.64</td>\n",
       "      <td>2936.26</td>\n",
       "    </tr>\n",
       "    <tr>\n",
       "      <th>10</th>\n",
       "      <td>396.85</td>\n",
       "      <td>250.26</td>\n",
       "      <td>401.58</td>\n",
       "      <td>182.37</td>\n",
       "      <td>85.59</td>\n",
       "      <td>0.00</td>\n",
       "      <td>427.92</td>\n",
       "      <td>352.01</td>\n",
       "      <td>709.49</td>\n",
       "      <td>699.14</td>\n",
       "      <td>...</td>\n",
       "      <td>1960.10</td>\n",
       "      <td>1972.47</td>\n",
       "      <td>2084.01</td>\n",
       "      <td>2341.76</td>\n",
       "      <td>2367.91</td>\n",
       "      <td>2505.33</td>\n",
       "      <td>2551.33</td>\n",
       "      <td>2808.37</td>\n",
       "      <td>2762.73</td>\n",
       "      <td>2851.40</td>\n",
       "    </tr>\n",
       "    <tr>\n",
       "      <th>14</th>\n",
       "      <td>822.68</td>\n",
       "      <td>678.12</td>\n",
       "      <td>829.11</td>\n",
       "      <td>610.23</td>\n",
       "      <td>513.51</td>\n",
       "      <td>427.92</td>\n",
       "      <td>0.00</td>\n",
       "      <td>76.82</td>\n",
       "      <td>284.71</td>\n",
       "      <td>274.70</td>\n",
       "      <td>...</td>\n",
       "      <td>1533.16</td>\n",
       "      <td>1546.31</td>\n",
       "      <td>1657.04</td>\n",
       "      <td>1915.05</td>\n",
       "      <td>1941.40</td>\n",
       "      <td>2079.91</td>\n",
       "      <td>2126.98</td>\n",
       "      <td>2385.45</td>\n",
       "      <td>2339.68</td>\n",
       "      <td>2428.67</td>\n",
       "    </tr>\n",
       "    <tr>\n",
       "      <th>15</th>\n",
       "      <td>747.69</td>\n",
       "      <td>602.27</td>\n",
       "      <td>753.50</td>\n",
       "      <td>534.38</td>\n",
       "      <td>437.55</td>\n",
       "      <td>352.01</td>\n",
       "      <td>76.82</td>\n",
       "      <td>0.00</td>\n",
       "      <td>361.45</td>\n",
       "      <td>351.40</td>\n",
       "      <td>...</td>\n",
       "      <td>1609.83</td>\n",
       "      <td>1623.08</td>\n",
       "      <td>1733.71</td>\n",
       "      <td>1991.75</td>\n",
       "      <td>2018.13</td>\n",
       "      <td>2156.71</td>\n",
       "      <td>2203.80</td>\n",
       "      <td>2462.24</td>\n",
       "      <td>2416.48</td>\n",
       "      <td>2505.46</td>\n",
       "    </tr>\n",
       "    <tr>\n",
       "      <th>16</th>\n",
       "      <td>1100.24</td>\n",
       "      <td>958.73</td>\n",
       "      <td>1108.62</td>\n",
       "      <td>891.00</td>\n",
       "      <td>794.92</td>\n",
       "      <td>709.49</td>\n",
       "      <td>284.71</td>\n",
       "      <td>361.45</td>\n",
       "      <td>0.00</td>\n",
       "      <td>10.57</td>\n",
       "      <td>...</td>\n",
       "      <td>1250.76</td>\n",
       "      <td>1262.99</td>\n",
       "      <td>1374.68</td>\n",
       "      <td>1632.31</td>\n",
       "      <td>1658.42</td>\n",
       "      <td>1796.08</td>\n",
       "      <td>1842.68</td>\n",
       "      <td>2100.84</td>\n",
       "      <td>2055.09</td>\n",
       "      <td>2144.04</td>\n",
       "    </tr>\n",
       "    <tr>\n",
       "      <th>17</th>\n",
       "      <td>1089.75</td>\n",
       "      <td>948.32</td>\n",
       "      <td>1098.18</td>\n",
       "      <td>880.61</td>\n",
       "      <td>784.56</td>\n",
       "      <td>699.14</td>\n",
       "      <td>274.70</td>\n",
       "      <td>351.40</td>\n",
       "      <td>10.57</td>\n",
       "      <td>0.00</td>\n",
       "      <td>...</td>\n",
       "      <td>1261.16</td>\n",
       "      <td>1273.32</td>\n",
       "      <td>1385.08</td>\n",
       "      <td>1642.69</td>\n",
       "      <td>1668.78</td>\n",
       "      <td>1806.36</td>\n",
       "      <td>1852.89</td>\n",
       "      <td>2110.97</td>\n",
       "      <td>2065.22</td>\n",
       "      <td>2154.16</td>\n",
       "    </tr>\n",
       "    <tr>\n",
       "      <th>19</th>\n",
       "      <td>1116.45</td>\n",
       "      <td>973.71</td>\n",
       "      <td>1124.13</td>\n",
       "      <td>905.88</td>\n",
       "      <td>809.45</td>\n",
       "      <td>723.89</td>\n",
       "      <td>296.83</td>\n",
       "      <td>373.60</td>\n",
       "      <td>29.62</td>\n",
       "      <td>37.29</td>\n",
       "      <td>...</td>\n",
       "      <td>1236.42</td>\n",
       "      <td>1249.49</td>\n",
       "      <td>1360.32</td>\n",
       "      <td>1618.27</td>\n",
       "      <td>1644.59</td>\n",
       "      <td>1783.15</td>\n",
       "      <td>1830.47</td>\n",
       "      <td>2089.39</td>\n",
       "      <td>2043.58</td>\n",
       "      <td>2132.68</td>\n",
       "    </tr>\n",
       "    <tr>\n",
       "      <th>20</th>\n",
       "      <td>1123.63</td>\n",
       "      <td>980.80</td>\n",
       "      <td>1131.25</td>\n",
       "      <td>912.97</td>\n",
       "      <td>816.52</td>\n",
       "      <td>730.95</td>\n",
       "      <td>303.77</td>\n",
       "      <td>380.52</td>\n",
       "      <td>35.21</td>\n",
       "      <td>43.67</td>\n",
       "      <td>...</td>\n",
       "      <td>1229.43</td>\n",
       "      <td>1242.56</td>\n",
       "      <td>1353.32</td>\n",
       "      <td>1611.29</td>\n",
       "      <td>1637.63</td>\n",
       "      <td>1776.28</td>\n",
       "      <td>1823.66</td>\n",
       "      <td>2082.66</td>\n",
       "      <td>2036.84</td>\n",
       "      <td>2125.95</td>\n",
       "    </tr>\n",
       "    <tr>\n",
       "      <th>21</th>\n",
       "      <td>1119.66</td>\n",
       "      <td>976.81</td>\n",
       "      <td>1127.27</td>\n",
       "      <td>908.98</td>\n",
       "      <td>812.52</td>\n",
       "      <td>726.96</td>\n",
       "      <td>299.76</td>\n",
       "      <td>376.51</td>\n",
       "      <td>33.16</td>\n",
       "      <td>41.04</td>\n",
       "      <td>...</td>\n",
       "      <td>1233.43</td>\n",
       "      <td>1246.58</td>\n",
       "      <td>1357.33</td>\n",
       "      <td>1615.30</td>\n",
       "      <td>1641.64</td>\n",
       "      <td>1780.29</td>\n",
       "      <td>1827.67</td>\n",
       "      <td>2086.67</td>\n",
       "      <td>2040.85</td>\n",
       "      <td>2129.96</td>\n",
       "    </tr>\n",
       "    <tr>\n",
       "      <th>22</th>\n",
       "      <td>1278.76</td>\n",
       "      <td>1137.00</td>\n",
       "      <td>1287.05</td>\n",
       "      <td>1069.23</td>\n",
       "      <td>973.00</td>\n",
       "      <td>887.50</td>\n",
       "      <td>461.03</td>\n",
       "      <td>537.83</td>\n",
       "      <td>178.53</td>\n",
       "      <td>189.03</td>\n",
       "      <td>...</td>\n",
       "      <td>1072.60</td>\n",
       "      <td>1085.33</td>\n",
       "      <td>1196.51</td>\n",
       "      <td>1454.32</td>\n",
       "      <td>1480.55</td>\n",
       "      <td>1618.88</td>\n",
       "      <td>1666.16</td>\n",
       "      <td>1925.18</td>\n",
       "      <td>1879.36</td>\n",
       "      <td>1968.48</td>\n",
       "    </tr>\n",
       "    <tr>\n",
       "      <th>24</th>\n",
       "      <td>1240.56</td>\n",
       "      <td>1098.78</td>\n",
       "      <td>1248.83</td>\n",
       "      <td>1031.01</td>\n",
       "      <td>934.79</td>\n",
       "      <td>849.29</td>\n",
       "      <td>422.95</td>\n",
       "      <td>499.76</td>\n",
       "      <td>140.35</td>\n",
       "      <td>150.86</td>\n",
       "      <td>...</td>\n",
       "      <td>1110.81</td>\n",
       "      <td>1123.47</td>\n",
       "      <td>1234.72</td>\n",
       "      <td>1492.51</td>\n",
       "      <td>1518.73</td>\n",
       "      <td>1656.96</td>\n",
       "      <td>1704.13</td>\n",
       "      <td>1963.00</td>\n",
       "      <td>1917.19</td>\n",
       "      <td>2006.28</td>\n",
       "    </tr>\n",
       "    <tr>\n",
       "      <th>25</th>\n",
       "      <td>1290.01</td>\n",
       "      <td>1148.55</td>\n",
       "      <td>1298.47</td>\n",
       "      <td>1080.81</td>\n",
       "      <td>984.65</td>\n",
       "      <td>899.17</td>\n",
       "      <td>473.06</td>\n",
       "      <td>549.87</td>\n",
       "      <td>189.85</td>\n",
       "      <td>200.30</td>\n",
       "      <td>...</td>\n",
       "      <td>1060.96</td>\n",
       "      <td>1073.45</td>\n",
       "      <td>1184.88</td>\n",
       "      <td>1442.59</td>\n",
       "      <td>1468.77</td>\n",
       "      <td>1606.87</td>\n",
       "      <td>1653.99</td>\n",
       "      <td>1912.85</td>\n",
       "      <td>1867.04</td>\n",
       "      <td>1956.14</td>\n",
       "    </tr>\n",
       "    <tr>\n",
       "      <th>27</th>\n",
       "      <td>1462.24</td>\n",
       "      <td>1322.07</td>\n",
       "      <td>1471.44</td>\n",
       "      <td>1254.45</td>\n",
       "      <td>1158.60</td>\n",
       "      <td>1073.26</td>\n",
       "      <td>648.26</td>\n",
       "      <td>725.08</td>\n",
       "      <td>363.98</td>\n",
       "      <td>374.24</td>\n",
       "      <td>...</td>\n",
       "      <td>887.96</td>\n",
       "      <td>899.34</td>\n",
       "      <td>1011.83</td>\n",
       "      <td>1269.02</td>\n",
       "      <td>1294.94</td>\n",
       "      <td>1432.13</td>\n",
       "      <td>1478.76</td>\n",
       "      <td>1737.30</td>\n",
       "      <td>1691.50</td>\n",
       "      <td>1780.56</td>\n",
       "    </tr>\n",
       "    <tr>\n",
       "      <th>28</th>\n",
       "      <td>1632.03</td>\n",
       "      <td>1491.70</td>\n",
       "      <td>1641.18</td>\n",
       "      <td>1424.04</td>\n",
       "      <td>1328.09</td>\n",
       "      <td>1242.69</td>\n",
       "      <td>816.91</td>\n",
       "      <td>893.73</td>\n",
       "      <td>533.22</td>\n",
       "      <td>543.55</td>\n",
       "      <td>...</td>\n",
       "      <td>718.16</td>\n",
       "      <td>729.78</td>\n",
       "      <td>842.03</td>\n",
       "      <td>1099.30</td>\n",
       "      <td>1125.29</td>\n",
       "      <td>1263.01</td>\n",
       "      <td>1310.28</td>\n",
       "      <td>1569.67</td>\n",
       "      <td>1523.81</td>\n",
       "      <td>1613.03</td>\n",
       "    </tr>\n",
       "    <tr>\n",
       "      <th>29</th>\n",
       "      <td>1715.19</td>\n",
       "      <td>1574.62</td>\n",
       "      <td>1724.22</td>\n",
       "      <td>1506.93</td>\n",
       "      <td>1410.89</td>\n",
       "      <td>1325.45</td>\n",
       "      <td>899.24</td>\n",
       "      <td>976.02</td>\n",
       "      <td>615.97</td>\n",
       "      <td>626.34</td>\n",
       "      <td>...</td>\n",
       "      <td>635.02</td>\n",
       "      <td>647.11</td>\n",
       "      <td>758.91</td>\n",
       "      <td>1016.36</td>\n",
       "      <td>1042.45</td>\n",
       "      <td>1180.76</td>\n",
       "      <td>1228.60</td>\n",
       "      <td>1488.62</td>\n",
       "      <td>1442.72</td>\n",
       "      <td>1532.05</td>\n",
       "    </tr>\n",
       "    <tr>\n",
       "      <th>30</th>\n",
       "      <td>1715.88</td>\n",
       "      <td>1576.54</td>\n",
       "      <td>1725.56</td>\n",
       "      <td>1509.00</td>\n",
       "      <td>1413.31</td>\n",
       "      <td>1328.04</td>\n",
       "      <td>903.30</td>\n",
       "      <td>980.12</td>\n",
       "      <td>618.99</td>\n",
       "      <td>629.22</td>\n",
       "      <td>...</td>\n",
       "      <td>635.44</td>\n",
       "      <td>645.25</td>\n",
       "      <td>759.04</td>\n",
       "      <td>1015.35</td>\n",
       "      <td>1040.96</td>\n",
       "      <td>1177.29</td>\n",
       "      <td>1223.71</td>\n",
       "      <td>1482.39</td>\n",
       "      <td>1436.57</td>\n",
       "      <td>1525.68</td>\n",
       "    </tr>\n",
       "    <tr>\n",
       "      <th>31</th>\n",
       "      <td>1783.76</td>\n",
       "      <td>1643.21</td>\n",
       "      <td>1792.82</td>\n",
       "      <td>1575.53</td>\n",
       "      <td>1479.48</td>\n",
       "      <td>1394.04</td>\n",
       "      <td>967.73</td>\n",
       "      <td>1044.51</td>\n",
       "      <td>684.56</td>\n",
       "      <td>694.93</td>\n",
       "      <td>...</td>\n",
       "      <td>566.43</td>\n",
       "      <td>578.58</td>\n",
       "      <td>690.32</td>\n",
       "      <td>947.76</td>\n",
       "      <td>973.87</td>\n",
       "      <td>1112.36</td>\n",
       "      <td>1160.47</td>\n",
       "      <td>1420.82</td>\n",
       "      <td>1374.90</td>\n",
       "      <td>1464.29</td>\n",
       "    </tr>\n",
       "    <tr>\n",
       "      <th>32</th>\n",
       "      <td>1731.07</td>\n",
       "      <td>1590.50</td>\n",
       "      <td>1740.10</td>\n",
       "      <td>1522.82</td>\n",
       "      <td>1426.77</td>\n",
       "      <td>1341.34</td>\n",
       "      <td>915.10</td>\n",
       "      <td>991.88</td>\n",
       "      <td>631.86</td>\n",
       "      <td>642.22</td>\n",
       "      <td>...</td>\n",
       "      <td>619.13</td>\n",
       "      <td>631.24</td>\n",
       "      <td>743.03</td>\n",
       "      <td>1000.47</td>\n",
       "      <td>1026.57</td>\n",
       "      <td>1164.92</td>\n",
       "      <td>1212.82</td>\n",
       "      <td>1472.91</td>\n",
       "      <td>1427.00</td>\n",
       "      <td>1516.35</td>\n",
       "    </tr>\n",
       "    <tr>\n",
       "      <th>33</th>\n",
       "      <td>1744.94</td>\n",
       "      <td>1604.41</td>\n",
       "      <td>1753.99</td>\n",
       "      <td>1536.72</td>\n",
       "      <td>1440.69</td>\n",
       "      <td>1355.25</td>\n",
       "      <td>929.03</td>\n",
       "      <td>1005.81</td>\n",
       "      <td>645.77</td>\n",
       "      <td>656.13</td>\n",
       "      <td>...</td>\n",
       "      <td>605.26</td>\n",
       "      <td>617.31</td>\n",
       "      <td>729.14</td>\n",
       "      <td>986.56</td>\n",
       "      <td>1012.65</td>\n",
       "      <td>1150.99</td>\n",
       "      <td>1198.91</td>\n",
       "      <td>1459.04</td>\n",
       "      <td>1413.13</td>\n",
       "      <td>1502.48</td>\n",
       "    </tr>\n",
       "    <tr>\n",
       "      <th>34</th>\n",
       "      <td>1888.31</td>\n",
       "      <td>1747.49</td>\n",
       "      <td>1897.23</td>\n",
       "      <td>1679.77</td>\n",
       "      <td>1583.63</td>\n",
       "      <td>1498.16</td>\n",
       "      <td>1071.47</td>\n",
       "      <td>1148.20</td>\n",
       "      <td>788.77</td>\n",
       "      <td>799.17</td>\n",
       "      <td>...</td>\n",
       "      <td>462.00</td>\n",
       "      <td>475.13</td>\n",
       "      <td>585.91</td>\n",
       "      <td>843.64</td>\n",
       "      <td>869.93</td>\n",
       "      <td>1009.37</td>\n",
       "      <td>1058.40</td>\n",
       "      <td>1319.64</td>\n",
       "      <td>1273.68</td>\n",
       "      <td>1363.20</td>\n",
       "    </tr>\n",
       "    <tr>\n",
       "      <th>35</th>\n",
       "      <td>1888.31</td>\n",
       "      <td>1747.49</td>\n",
       "      <td>1897.23</td>\n",
       "      <td>1679.77</td>\n",
       "      <td>1583.63</td>\n",
       "      <td>1498.16</td>\n",
       "      <td>1071.47</td>\n",
       "      <td>1148.20</td>\n",
       "      <td>788.77</td>\n",
       "      <td>799.17</td>\n",
       "      <td>...</td>\n",
       "      <td>462.00</td>\n",
       "      <td>475.13</td>\n",
       "      <td>585.91</td>\n",
       "      <td>843.64</td>\n",
       "      <td>869.93</td>\n",
       "      <td>1009.37</td>\n",
       "      <td>1058.40</td>\n",
       "      <td>1319.64</td>\n",
       "      <td>1273.68</td>\n",
       "      <td>1363.20</td>\n",
       "    </tr>\n",
       "    <tr>\n",
       "      <th>36</th>\n",
       "      <td>1973.65</td>\n",
       "      <td>1832.90</td>\n",
       "      <td>1982.61</td>\n",
       "      <td>1765.19</td>\n",
       "      <td>1669.05</td>\n",
       "      <td>1583.58</td>\n",
       "      <td>1156.87</td>\n",
       "      <td>1233.59</td>\n",
       "      <td>874.18</td>\n",
       "      <td>884.58</td>\n",
       "      <td>...</td>\n",
       "      <td>376.60</td>\n",
       "      <td>389.93</td>\n",
       "      <td>500.51</td>\n",
       "      <td>758.22</td>\n",
       "      <td>784.54</td>\n",
       "      <td>924.27</td>\n",
       "      <td>973.74</td>\n",
       "      <td>1235.42</td>\n",
       "      <td>1189.44</td>\n",
       "      <td>1279.02</td>\n",
       "    </tr>\n",
       "    <tr>\n",
       "      <th>37</th>\n",
       "      <td>2234.89</td>\n",
       "      <td>2093.95</td>\n",
       "      <td>2243.77</td>\n",
       "      <td>2026.21</td>\n",
       "      <td>1930.00</td>\n",
       "      <td>1844.49</td>\n",
       "      <td>1417.46</td>\n",
       "      <td>1494.12</td>\n",
       "      <td>1135.24</td>\n",
       "      <td>1145.65</td>\n",
       "      <td>...</td>\n",
       "      <td>115.80</td>\n",
       "      <td>135.91</td>\n",
       "      <td>239.60</td>\n",
       "      <td>497.85</td>\n",
       "      <td>524.65</td>\n",
       "      <td>667.02</td>\n",
       "      <td>719.34</td>\n",
       "      <td>982.91</td>\n",
       "      <td>936.94</td>\n",
       "      <td>1026.64</td>\n",
       "    </tr>\n",
       "    <tr>\n",
       "      <th>38</th>\n",
       "      <td>2344.24</td>\n",
       "      <td>2204.35</td>\n",
       "      <td>2353.70</td>\n",
       "      <td>2136.71</td>\n",
       "      <td>2040.74</td>\n",
       "      <td>1955.33</td>\n",
       "      <td>1529.04</td>\n",
       "      <td>1605.80</td>\n",
       "      <td>1245.84</td>\n",
       "      <td>1256.19</td>\n",
       "      <td>...</td>\n",
       "      <td>34.00</td>\n",
       "      <td>18.28</td>\n",
       "      <td>133.49</td>\n",
       "      <td>386.93</td>\n",
       "      <td>412.65</td>\n",
       "      <td>552.03</td>\n",
       "      <td>602.93</td>\n",
       "      <td>866.06</td>\n",
       "      <td>820.07</td>\n",
       "      <td>909.77</td>\n",
       "    </tr>\n",
       "    <tr>\n",
       "      <th>39</th>\n",
       "      <td>2350.19</td>\n",
       "      <td>2209.48</td>\n",
       "      <td>2359.21</td>\n",
       "      <td>2141.76</td>\n",
       "      <td>2045.59</td>\n",
       "      <td>1960.10</td>\n",
       "      <td>1533.16</td>\n",
       "      <td>1609.83</td>\n",
       "      <td>1250.76</td>\n",
       "      <td>1261.16</td>\n",
       "      <td>...</td>\n",
       "      <td>0.00</td>\n",
       "      <td>42.05</td>\n",
       "      <td>123.92</td>\n",
       "      <td>382.05</td>\n",
       "      <td>408.87</td>\n",
       "      <td>551.90</td>\n",
       "      <td>605.29</td>\n",
       "      <td>869.32</td>\n",
       "      <td>823.40</td>\n",
       "      <td>913.06</td>\n",
       "    </tr>\n",
       "    <tr>\n",
       "      <th>40</th>\n",
       "      <td>2361.13</td>\n",
       "      <td>2221.41</td>\n",
       "      <td>2370.68</td>\n",
       "      <td>2153.78</td>\n",
       "      <td>2057.86</td>\n",
       "      <td>1972.47</td>\n",
       "      <td>1546.31</td>\n",
       "      <td>1623.08</td>\n",
       "      <td>1262.99</td>\n",
       "      <td>1273.32</td>\n",
       "      <td>...</td>\n",
       "      <td>42.05</td>\n",
       "      <td>0.00</td>\n",
       "      <td>119.28</td>\n",
       "      <td>370.26</td>\n",
       "      <td>395.71</td>\n",
       "      <td>534.39</td>\n",
       "      <td>584.96</td>\n",
       "      <td>847.98</td>\n",
       "      <td>801.99</td>\n",
       "      <td>891.69</td>\n",
       "    </tr>\n",
       "    <tr>\n",
       "      <th>44</th>\n",
       "      <td>2474.07</td>\n",
       "      <td>2333.40</td>\n",
       "      <td>2483.12</td>\n",
       "      <td>2265.68</td>\n",
       "      <td>2169.51</td>\n",
       "      <td>2084.01</td>\n",
       "      <td>1657.04</td>\n",
       "      <td>1733.71</td>\n",
       "      <td>1374.68</td>\n",
       "      <td>1385.08</td>\n",
       "      <td>...</td>\n",
       "      <td>123.92</td>\n",
       "      <td>119.28</td>\n",
       "      <td>0.00</td>\n",
       "      <td>258.42</td>\n",
       "      <td>285.61</td>\n",
       "      <td>430.64</td>\n",
       "      <td>486.34</td>\n",
       "      <td>750.67</td>\n",
       "      <td>704.94</td>\n",
       "      <td>794.37</td>\n",
       "    </tr>\n",
       "    <tr>\n",
       "      <th>45</th>\n",
       "      <td>2731.11</td>\n",
       "      <td>2590.97</td>\n",
       "      <td>2740.46</td>\n",
       "      <td>2523.29</td>\n",
       "      <td>2427.22</td>\n",
       "      <td>2341.76</td>\n",
       "      <td>1915.05</td>\n",
       "      <td>1991.75</td>\n",
       "      <td>1632.31</td>\n",
       "      <td>1642.69</td>\n",
       "      <td>...</td>\n",
       "      <td>382.05</td>\n",
       "      <td>370.26</td>\n",
       "      <td>258.42</td>\n",
       "      <td>0.00</td>\n",
       "      <td>29.34</td>\n",
       "      <td>179.56</td>\n",
       "      <td>242.59</td>\n",
       "      <td>502.79</td>\n",
       "      <td>458.04</td>\n",
       "      <td>545.99</td>\n",
       "    </tr>\n",
       "    <tr>\n",
       "      <th>46</th>\n",
       "      <td>2756.83</td>\n",
       "      <td>2616.98</td>\n",
       "      <td>2766.34</td>\n",
       "      <td>2549.33</td>\n",
       "      <td>2453.34</td>\n",
       "      <td>2367.91</td>\n",
       "      <td>1941.40</td>\n",
       "      <td>2018.13</td>\n",
       "      <td>1658.42</td>\n",
       "      <td>1668.78</td>\n",
       "      <td>...</td>\n",
       "      <td>408.87</td>\n",
       "      <td>395.71</td>\n",
       "      <td>285.61</td>\n",
       "      <td>29.34</td>\n",
       "      <td>0.00</td>\n",
       "      <td>150.24</td>\n",
       "      <td>213.36</td>\n",
       "      <td>473.50</td>\n",
       "      <td>428.72</td>\n",
       "      <td>516.72</td>\n",
       "    </tr>\n",
       "    <tr>\n",
       "      <th>47</th>\n",
       "      <td>2892.25</td>\n",
       "      <td>2753.75</td>\n",
       "      <td>2902.47</td>\n",
       "      <td>2686.25</td>\n",
       "      <td>2590.60</td>\n",
       "      <td>2505.33</td>\n",
       "      <td>2079.91</td>\n",
       "      <td>2156.71</td>\n",
       "      <td>1796.08</td>\n",
       "      <td>1806.36</td>\n",
       "      <td>...</td>\n",
       "      <td>551.90</td>\n",
       "      <td>534.39</td>\n",
       "      <td>430.64</td>\n",
       "      <td>179.56</td>\n",
       "      <td>150.24</td>\n",
       "      <td>0.00</td>\n",
       "      <td>67.27</td>\n",
       "      <td>323.29</td>\n",
       "      <td>278.49</td>\n",
       "      <td>366.58</td>\n",
       "    </tr>\n",
       "    <tr>\n",
       "      <th>48</th>\n",
       "      <td>2936.57</td>\n",
       "      <td>2799.14</td>\n",
       "      <td>2947.32</td>\n",
       "      <td>2731.79</td>\n",
       "      <td>2636.45</td>\n",
       "      <td>2551.33</td>\n",
       "      <td>2126.98</td>\n",
       "      <td>2203.80</td>\n",
       "      <td>1842.68</td>\n",
       "      <td>1852.89</td>\n",
       "      <td>...</td>\n",
       "      <td>605.29</td>\n",
       "      <td>584.96</td>\n",
       "      <td>486.34</td>\n",
       "      <td>242.59</td>\n",
       "      <td>213.36</td>\n",
       "      <td>67.27</td>\n",
       "      <td>0.00</td>\n",
       "      <td>264.34</td>\n",
       "      <td>218.62</td>\n",
       "      <td>308.05</td>\n",
       "    </tr>\n",
       "    <tr>\n",
       "      <th>50</th>\n",
       "      <td>3191.30</td>\n",
       "      <td>3055.33</td>\n",
       "      <td>3202.74</td>\n",
       "      <td>2988.17</td>\n",
       "      <td>2893.25</td>\n",
       "      <td>2808.37</td>\n",
       "      <td>2385.45</td>\n",
       "      <td>2462.24</td>\n",
       "      <td>2100.84</td>\n",
       "      <td>2110.97</td>\n",
       "      <td>...</td>\n",
       "      <td>869.32</td>\n",
       "      <td>847.98</td>\n",
       "      <td>750.67</td>\n",
       "      <td>502.79</td>\n",
       "      <td>473.50</td>\n",
       "      <td>323.29</td>\n",
       "      <td>264.34</td>\n",
       "      <td>0.00</td>\n",
       "      <td>46.00</td>\n",
       "      <td>43.74</td>\n",
       "    </tr>\n",
       "    <tr>\n",
       "      <th>51</th>\n",
       "      <td>3145.88</td>\n",
       "      <td>3009.77</td>\n",
       "      <td>3157.26</td>\n",
       "      <td>2942.60</td>\n",
       "      <td>2847.64</td>\n",
       "      <td>2762.73</td>\n",
       "      <td>2339.68</td>\n",
       "      <td>2416.48</td>\n",
       "      <td>2055.09</td>\n",
       "      <td>2065.22</td>\n",
       "      <td>...</td>\n",
       "      <td>823.40</td>\n",
       "      <td>801.99</td>\n",
       "      <td>704.94</td>\n",
       "      <td>458.04</td>\n",
       "      <td>428.72</td>\n",
       "      <td>278.49</td>\n",
       "      <td>218.62</td>\n",
       "      <td>46.00</td>\n",
       "      <td>0.00</td>\n",
       "      <td>89.71</td>\n",
       "    </tr>\n",
       "    <tr>\n",
       "      <th>52</th>\n",
       "      <td>3234.03</td>\n",
       "      <td>3098.25</td>\n",
       "      <td>3245.56</td>\n",
       "      <td>3031.13</td>\n",
       "      <td>2936.26</td>\n",
       "      <td>2851.40</td>\n",
       "      <td>2428.67</td>\n",
       "      <td>2505.46</td>\n",
       "      <td>2144.04</td>\n",
       "      <td>2154.16</td>\n",
       "      <td>...</td>\n",
       "      <td>913.06</td>\n",
       "      <td>891.69</td>\n",
       "      <td>794.37</td>\n",
       "      <td>545.99</td>\n",
       "      <td>516.72</td>\n",
       "      <td>366.58</td>\n",
       "      <td>308.05</td>\n",
       "      <td>43.74</td>\n",
       "      <td>89.71</td>\n",
       "      <td>0.00</td>\n",
       "    </tr>\n",
       "  </tbody>\n",
       "</table>\n",
       "<p>38 rows × 38 columns</p>\n",
       "</div>"
      ],
      "text/plain": [
       "         1        2        3        8        9        10       14       15  \\\n",
       "1      0.00   150.93    32.59   216.53   312.53   396.85   822.68   747.69   \n",
       "2    150.93     0.00   151.69    67.89   164.76   250.26   678.12   602.27   \n",
       "3     32.59   151.69     0.00   219.36   316.27   401.58   829.11   753.50   \n",
       "8    216.53    67.89   219.36     0.00    96.92   182.37   610.23   534.38   \n",
       "9    312.53   164.76   316.27    96.92     0.00    85.59   513.51   437.55   \n",
       "10   396.85   250.26   401.58   182.37    85.59     0.00   427.92   352.01   \n",
       "14   822.68   678.12   829.11   610.23   513.51   427.92     0.00    76.82   \n",
       "15   747.69   602.27   753.50   534.38   437.55   352.01    76.82     0.00   \n",
       "16  1100.24   958.73  1108.62   891.00   794.92   709.49   284.71   361.45   \n",
       "17  1089.75   948.32  1098.18   880.61   784.56   699.14   274.70   351.40   \n",
       "19  1116.45   973.71  1124.13   905.88   809.45   723.89   296.83   373.60   \n",
       "20  1123.63   980.80  1131.25   912.97   816.52   730.95   303.77   380.52   \n",
       "21  1119.66   976.81  1127.27   908.98   812.52   726.96   299.76   376.51   \n",
       "22  1278.76  1137.00  1287.05  1069.23   973.00   887.50   461.03   537.83   \n",
       "24  1240.56  1098.78  1248.83  1031.01   934.79   849.29   422.95   499.76   \n",
       "25  1290.01  1148.55  1298.47  1080.81   984.65   899.17   473.06   549.87   \n",
       "27  1462.24  1322.07  1471.44  1254.45  1158.60  1073.26   648.26   725.08   \n",
       "28  1632.03  1491.70  1641.18  1424.04  1328.09  1242.69   816.91   893.73   \n",
       "29  1715.19  1574.62  1724.22  1506.93  1410.89  1325.45   899.24   976.02   \n",
       "30  1715.88  1576.54  1725.56  1509.00  1413.31  1328.04   903.30   980.12   \n",
       "31  1783.76  1643.21  1792.82  1575.53  1479.48  1394.04   967.73  1044.51   \n",
       "32  1731.07  1590.50  1740.10  1522.82  1426.77  1341.34   915.10   991.88   \n",
       "33  1744.94  1604.41  1753.99  1536.72  1440.69  1355.25   929.03  1005.81   \n",
       "34  1888.31  1747.49  1897.23  1679.77  1583.63  1498.16  1071.47  1148.20   \n",
       "35  1888.31  1747.49  1897.23  1679.77  1583.63  1498.16  1071.47  1148.20   \n",
       "36  1973.65  1832.90  1982.61  1765.19  1669.05  1583.58  1156.87  1233.59   \n",
       "37  2234.89  2093.95  2243.77  2026.21  1930.00  1844.49  1417.46  1494.12   \n",
       "38  2344.24  2204.35  2353.70  2136.71  2040.74  1955.33  1529.04  1605.80   \n",
       "39  2350.19  2209.48  2359.21  2141.76  2045.59  1960.10  1533.16  1609.83   \n",
       "40  2361.13  2221.41  2370.68  2153.78  2057.86  1972.47  1546.31  1623.08   \n",
       "44  2474.07  2333.40  2483.12  2265.68  2169.51  2084.01  1657.04  1733.71   \n",
       "45  2731.11  2590.97  2740.46  2523.29  2427.22  2341.76  1915.05  1991.75   \n",
       "46  2756.83  2616.98  2766.34  2549.33  2453.34  2367.91  1941.40  2018.13   \n",
       "47  2892.25  2753.75  2902.47  2686.25  2590.60  2505.33  2079.91  2156.71   \n",
       "48  2936.57  2799.14  2947.32  2731.79  2636.45  2551.33  2126.98  2203.80   \n",
       "50  3191.30  3055.33  3202.74  2988.17  2893.25  2808.37  2385.45  2462.24   \n",
       "51  3145.88  3009.77  3157.26  2942.60  2847.64  2762.73  2339.68  2416.48   \n",
       "52  3234.03  3098.25  3245.56  3031.13  2936.26  2851.40  2428.67  2505.46   \n",
       "\n",
       "         16       17  ...       39       40       44       45       46  \\\n",
       "1   1100.24  1089.75  ...  2350.19  2361.13  2474.07  2731.11  2756.83   \n",
       "2    958.73   948.32  ...  2209.48  2221.41  2333.40  2590.97  2616.98   \n",
       "3   1108.62  1098.18  ...  2359.21  2370.68  2483.12  2740.46  2766.34   \n",
       "8    891.00   880.61  ...  2141.76  2153.78  2265.68  2523.29  2549.33   \n",
       "9    794.92   784.56  ...  2045.59  2057.86  2169.51  2427.22  2453.34   \n",
       "10   709.49   699.14  ...  1960.10  1972.47  2084.01  2341.76  2367.91   \n",
       "14   284.71   274.70  ...  1533.16  1546.31  1657.04  1915.05  1941.40   \n",
       "15   361.45   351.40  ...  1609.83  1623.08  1733.71  1991.75  2018.13   \n",
       "16     0.00    10.57  ...  1250.76  1262.99  1374.68  1632.31  1658.42   \n",
       "17    10.57     0.00  ...  1261.16  1273.32  1385.08  1642.69  1668.78   \n",
       "19    29.62    37.29  ...  1236.42  1249.49  1360.32  1618.27  1644.59   \n",
       "20    35.21    43.67  ...  1229.43  1242.56  1353.32  1611.29  1637.63   \n",
       "21    33.16    41.04  ...  1233.43  1246.58  1357.33  1615.30  1641.64   \n",
       "22   178.53   189.03  ...  1072.60  1085.33  1196.51  1454.32  1480.55   \n",
       "24   140.35   150.86  ...  1110.81  1123.47  1234.72  1492.51  1518.73   \n",
       "25   189.85   200.30  ...  1060.96  1073.45  1184.88  1442.59  1468.77   \n",
       "27   363.98   374.24  ...   887.96   899.34  1011.83  1269.02  1294.94   \n",
       "28   533.22   543.55  ...   718.16   729.78   842.03  1099.30  1125.29   \n",
       "29   615.97   626.34  ...   635.02   647.11   758.91  1016.36  1042.45   \n",
       "30   618.99   629.22  ...   635.44   645.25   759.04  1015.35  1040.96   \n",
       "31   684.56   694.93  ...   566.43   578.58   690.32   947.76   973.87   \n",
       "32   631.86   642.22  ...   619.13   631.24   743.03  1000.47  1026.57   \n",
       "33   645.77   656.13  ...   605.26   617.31   729.14   986.56  1012.65   \n",
       "34   788.77   799.17  ...   462.00   475.13   585.91   843.64   869.93   \n",
       "35   788.77   799.17  ...   462.00   475.13   585.91   843.64   869.93   \n",
       "36   874.18   884.58  ...   376.60   389.93   500.51   758.22   784.54   \n",
       "37  1135.24  1145.65  ...   115.80   135.91   239.60   497.85   524.65   \n",
       "38  1245.84  1256.19  ...    34.00    18.28   133.49   386.93   412.65   \n",
       "39  1250.76  1261.16  ...     0.00    42.05   123.92   382.05   408.87   \n",
       "40  1262.99  1273.32  ...    42.05     0.00   119.28   370.26   395.71   \n",
       "44  1374.68  1385.08  ...   123.92   119.28     0.00   258.42   285.61   \n",
       "45  1632.31  1642.69  ...   382.05   370.26   258.42     0.00    29.34   \n",
       "46  1658.42  1668.78  ...   408.87   395.71   285.61    29.34     0.00   \n",
       "47  1796.08  1806.36  ...   551.90   534.39   430.64   179.56   150.24   \n",
       "48  1842.68  1852.89  ...   605.29   584.96   486.34   242.59   213.36   \n",
       "50  2100.84  2110.97  ...   869.32   847.98   750.67   502.79   473.50   \n",
       "51  2055.09  2065.22  ...   823.40   801.99   704.94   458.04   428.72   \n",
       "52  2144.04  2154.16  ...   913.06   891.69   794.37   545.99   516.72   \n",
       "\n",
       "         47       48       50       51       52  \n",
       "1   2892.25  2936.57  3191.30  3145.88  3234.03  \n",
       "2   2753.75  2799.14  3055.33  3009.77  3098.25  \n",
       "3   2902.47  2947.32  3202.74  3157.26  3245.56  \n",
       "8   2686.25  2731.79  2988.17  2942.60  3031.13  \n",
       "9   2590.60  2636.45  2893.25  2847.64  2936.26  \n",
       "10  2505.33  2551.33  2808.37  2762.73  2851.40  \n",
       "14  2079.91  2126.98  2385.45  2339.68  2428.67  \n",
       "15  2156.71  2203.80  2462.24  2416.48  2505.46  \n",
       "16  1796.08  1842.68  2100.84  2055.09  2144.04  \n",
       "17  1806.36  1852.89  2110.97  2065.22  2154.16  \n",
       "19  1783.15  1830.47  2089.39  2043.58  2132.68  \n",
       "20  1776.28  1823.66  2082.66  2036.84  2125.95  \n",
       "21  1780.29  1827.67  2086.67  2040.85  2129.96  \n",
       "22  1618.88  1666.16  1925.18  1879.36  1968.48  \n",
       "24  1656.96  1704.13  1963.00  1917.19  2006.28  \n",
       "25  1606.87  1653.99  1912.85  1867.04  1956.14  \n",
       "27  1432.13  1478.76  1737.30  1691.50  1780.56  \n",
       "28  1263.01  1310.28  1569.67  1523.81  1613.03  \n",
       "29  1180.76  1228.60  1488.62  1442.72  1532.05  \n",
       "30  1177.29  1223.71  1482.39  1436.57  1525.68  \n",
       "31  1112.36  1160.47  1420.82  1374.90  1464.29  \n",
       "32  1164.92  1212.82  1472.91  1427.00  1516.35  \n",
       "33  1150.99  1198.91  1459.04  1413.13  1502.48  \n",
       "34  1009.37  1058.40  1319.64  1273.68  1363.20  \n",
       "35  1009.37  1058.40  1319.64  1273.68  1363.20  \n",
       "36   924.27   973.74  1235.42  1189.44  1279.02  \n",
       "37   667.02   719.34   982.91   936.94  1026.64  \n",
       "38   552.03   602.93   866.06   820.07   909.77  \n",
       "39   551.90   605.29   869.32   823.40   913.06  \n",
       "40   534.39   584.96   847.98   801.99   891.69  \n",
       "44   430.64   486.34   750.67   704.94   794.37  \n",
       "45   179.56   242.59   502.79   458.04   545.99  \n",
       "46   150.24   213.36   473.50   428.72   516.72  \n",
       "47     0.00    67.27   323.29   278.49   366.58  \n",
       "48    67.27     0.00   264.34   218.62   308.05  \n",
       "50   323.29   264.34     0.00    46.00    43.74  \n",
       "51   278.49   218.62    46.00     0.00    89.71  \n",
       "52   366.58   308.05    43.74    89.71     0.00  \n",
       "\n",
       "[38 rows x 38 columns]"
      ]
     },
     "execution_count": 32,
     "metadata": {},
     "output_type": "execute_result"
    }
   ],
   "source": [
    "gdf = cafes.to_crs(crs) # project the coordinates\n",
    "\n",
    "dists = []\n",
    "for i, g in gdf.iterrows():\n",
    "    geom = g.geometry\n",
    "    d = gdf.distance(geom).tolist()\n",
    "    dists.append(d)\n",
    "\n",
    "dists = pd.DataFrame(dists, index=gdf.index, columns=gdf.index).round(2)\n",
    "dists"
   ]
  },
  {
   "cell_type": "code",
   "execution_count": 38,
   "id": "41e07cf3",
   "metadata": {},
   "outputs": [
    {
     "data": {
      "text/plain": [
       "np.float64(50.49189035272862)"
      ]
     },
     "execution_count": 38,
     "metadata": {},
     "output_type": "execute_result"
    }
   ],
   "source": [
    "nearests = gdf.sjoin_nearest(gdf, distance_col='sdist', exclusive=True)[['id_left', 'id_right', 'sdist']]\n",
    "nearests\n",
    "nearests['sdist'].mean()"
   ]
  },
  {
   "cell_type": "markdown",
   "id": "5be67f8f",
   "metadata": {},
   "source": [
    "### spatial grouping (h3)"
   ]
  },
  {
   "cell_type": "code",
   "execution_count": null,
   "id": "33b8d20c",
   "metadata": {},
   "outputs": [],
   "source": [
    "box = shapely.box(*bbox)\n",
    "coords = [list(box.exterior.coords)]\n",
    "cells = h3.geo_to_cells(box, res=9)\n",
    "cells = [{'h3id': cell, 'geometry': h3cell_to_shapely(cell)} for cell in cells]\n",
    "cells = gpd.GeoDataFrame(cells, crs='epsg:4326')\n",
    "cells.head(2)\n",
    "px.choropleth_map(cells, geojson=cells.geometry, locations=cells.index,\n",
    "                  center={'lat': box.centroid.y, 'lon': box.centroid.x}, zoom=11.5,\n",
    "                  map_style=map_style)"
   ]
  },
  {
   "cell_type": "code",
   "execution_count": null,
   "id": "13082f58",
   "metadata": {},
   "outputs": [],
   "source": [
    "counts = gpd.sjoin(cells, cafes, predicate='contains').groupby(['h3id', 'geometry'], as_index=False)['index_right'].count()\n",
    "counts = counts.rename(columns={'index_right':'count'})\n",
    "counts = gpd.GeoDataFrame(counts) # groupby casts to pd.DataFrame\n",
    "px.choropleth_map(counts, geojson=counts.geometry, locations=counts.index,\n",
    "                  color='count', color_continuous_scale=px.colors.sequential.Reds,\n",
    "                  center={'lat': box.centroid.y, 'lon': box.centroid.x}, zoom=11.5,\n",
    "                  title='Concentration of cafes (H3 cells)', map_style=map_style)"
   ]
  },
  {
   "cell_type": "code",
   "execution_count": null,
   "id": "8d7f5873",
   "metadata": {},
   "outputs": [],
   "source": []
  }
 ],
 "metadata": {
  "kernelspec": {
   "display_name": "python-meetup",
   "language": "python",
   "name": "python3"
  },
  "language_info": {
   "codemirror_mode": {
    "name": "ipython",
    "version": 3
   },
   "file_extension": ".py",
   "mimetype": "text/x-python",
   "name": "python",
   "nbconvert_exporter": "python",
   "pygments_lexer": "ipython3",
   "version": "3.11.11"
  }
 },
 "nbformat": 4,
 "nbformat_minor": 5
}
