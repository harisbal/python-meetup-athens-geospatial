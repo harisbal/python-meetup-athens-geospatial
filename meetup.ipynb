{
 "cells": [
  {
   "cell_type": "code",
   "execution_count": 35,
   "metadata": {},
   "outputs": [],
   "source": [
    "import os\n",
    "import logging\n",
    "import pickle\n",
    "import osmnx as ox\n",
    "import numpy as np\n",
    "import geopandas as gpd\n",
    "import h3\n",
    "import shapely\n",
    "import requests\n",
    "from tqdm.notebook import tqdm\n",
    "from pyproj import Transformer\n",
    "from shapely.ops import linemerge\n",
    "from shapely import Polygon\n",
    "import plotly.express as px\n",
    "\n",
    "ox.settings.cache_folder = './data'"
   ]
  },
  {
   "cell_type": "markdown",
   "id": "6abff99b",
   "metadata": {},
   "source": [
    "## inputs"
   ]
  },
  {
   "cell_type": "code",
   "execution_count": 2,
   "id": "002cbf3a",
   "metadata": {},
   "outputs": [],
   "source": [
    "apikey = os.getenv(\"GOOGLE_API_KEY\")\n",
    "radius = 200\n",
    "step = 100\n",
    "buffer = 30\n",
    "categories = ['cafe', 'bakery']"
   ]
  },
  {
   "cell_type": "code",
   "execution_count": null,
   "id": "12e3d402",
   "metadata": {},
   "outputs": [],
   "source": [
    "def h3cell_to_shapely(cell):\n",
    "    coords = h3.cell_to_boundary(cell)\n",
    "    flipped = tuple(coord[::-1] for coord in coords)\n",
    "    return Polygon(flipped)"
   ]
  },
  {
   "cell_type": "code",
   "execution_count": 4,
   "id": "81254b01",
   "metadata": {},
   "outputs": [],
   "source": [
    "def fetch_google_places(categories:list[str], lon:float, lat:float, radius:float, apikey:str):\n",
    "    \n",
    "    headers = {\n",
    "        \"Content-Type\": \"application/json\",\n",
    "        \"X-Goog-Api-Key\": apikey,\n",
    "        \"X-Goog-FieldMask\": \"places.id,places.displayName,places.location,places.businessStatus,places.formattedAddress,places.primaryTypeDisplayName,places.primaryType\",\n",
    "    }\n",
    "    url = \"https://places.googleapis.com/v1/places:searchNearby\"\n",
    "\n",
    "    data = {\n",
    "            \"includedTypes\": categories,\n",
    "            \"maxResultCount\": 20,\n",
    "            \"locationRestriction\": {\n",
    "                \"circle\": {\n",
    "                    \"center\": {\"latitude\": lat, \"longitude\": lon},\n",
    "                    \"radius\": radius,\n",
    "                }\n",
    "            },\n",
    "        }\n",
    "    \n",
    "    r = requests.post(url, headers=headers, json=data)\n",
    "    if r.status_code != 200:\n",
    "        logging.warning(f\"error at request: {r.request}\")\n",
    "        return\n",
    "\n",
    "    data = r.json().get('places', [])\n",
    "    if not data:\n",
    "        return data\n",
    "\n",
    "    if len(data) >= 20:\n",
    "        logging.warning(f'query at lon:{lon}, lat:{lat} returned 20+ results')\n",
    "    \n",
    "    for r in data:\n",
    "        r['name'] = r['displayName']['text']\n",
    "        r['geometry'] = shapely.Point(r['location']['longitude'], r['location']['latitude'])\n",
    "\n",
    "    return data\n",
    "\n"
   ]
  },
  {
   "cell_type": "markdown",
   "id": "9cea7577",
   "metadata": {},
   "source": [
    "## download network (roads)"
   ]
  },
  {
   "cell_type": "code",
   "execution_count": null,
   "id": "670aab51",
   "metadata": {},
   "outputs": [],
   "source": [
    "bbox = [23.7576, 37.8524, 23.7729, 37.899]\n",
    "g = ox.graph_from_bbox(bbox) # we can modify filters\n",
    "nodes, links = ox.graph_to_gdfs(g)"
   ]
  },
  {
   "cell_type": "markdown",
   "id": "f766010a",
   "metadata": {},
   "source": [
    "## create the linestring geometry"
   ]
  },
  {
   "cell_type": "code",
   "execution_count": 6,
   "id": "6d0208c6",
   "metadata": {},
   "outputs": [],
   "source": [
    "road = links[links['name'] == 'Δημητρίου Γούναρη']\n",
    "crs = road.estimate_utm_crs()\n",
    "geom_proj = road.to_crs(crs).union_all()\n",
    "geoms_proj = gpd.GeoDataFrame(geometry=[linemerge(geom_proj)]).explode()\n",
    "geoms_proj['length'] = geoms_proj.length\n",
    "geom_proj = geoms_proj.sort_values(['length'], ascending=False).iloc[0].geometry\n",
    "road_buffered = road.to_crs(crs).buffer(buffer).to_crs(epsg=4326).union_all()"
   ]
  },
  {
   "cell_type": "code",
   "execution_count": null,
   "id": "19944263",
   "metadata": {},
   "outputs": [],
   "source": [
    "fp = './data/cafes.gpkg'\n",
    "transformer = Transformer.from_crs(crs, \"EPSG:4326\", always_xy=True)\n",
    "length = road.to_crs(crs).length.sum()\n",
    "\n",
    "try:\n",
    "    gdf = gpd.read_file(fp)\n",
    "except:\n",
    "    places = []\n",
    "    transformer = Transformer.from_crs(crs, \"EPSG:4326\")\n",
    "    for distance in tqdm(np.arange(0, length, step)):\n",
    "        p = shapely.line_interpolate_point(geom_proj, distance) # type:ignore\n",
    "        p = transformer.transform(p.x, p.y)\n",
    "        p = shapely.Point(p[1], p[0])\n",
    "        \n",
    "        r = fetch_google_places(categories, p.x, p.y, radius, apikey)\n",
    "        if r is not None:\n",
    "            places.extend(r)\n",
    "\n",
    "    with open('./data/places.pkl', 'wb') as f:\n",
    "        pickle.dump(places, f)\n",
    "    \n",
    "    gdf = gpd.GeoDataFrame(places, crs='epsg:4326').drop_duplicates(subset=['id'])\n",
    "    gdf.to_file(fp)    "
   ]
  },
  {
   "cell_type": "code",
   "execution_count": null,
   "id": "ffd19a4b",
   "metadata": {},
   "outputs": [
    {
     "data": {
      "text/html": [
       "<div>\n",
       "<style scoped>\n",
       "    .dataframe tbody tr th:only-of-type {\n",
       "        vertical-align: middle;\n",
       "    }\n",
       "\n",
       "    .dataframe tbody tr th {\n",
       "        vertical-align: top;\n",
       "    }\n",
       "\n",
       "    .dataframe thead th {\n",
       "        text-align: right;\n",
       "    }\n",
       "</style>\n",
       "<table border=\"1\" class=\"dataframe\">\n",
       "  <thead>\n",
       "    <tr style=\"text-align: right;\">\n",
       "      <th></th>\n",
       "      <th>id</th>\n",
       "      <th>formattedAddress</th>\n",
       "      <th>location</th>\n",
       "      <th>businessStatus</th>\n",
       "      <th>displayName</th>\n",
       "      <th>primaryTypeDisplayName</th>\n",
       "      <th>primaryType</th>\n",
       "      <th>name</th>\n",
       "      <th>geometry</th>\n",
       "    </tr>\n",
       "  </thead>\n",
       "  <tbody>\n",
       "    <tr>\n",
       "      <th>1</th>\n",
       "      <td>ChIJgcEWYU6_oRQR-cd2bf6di68</td>\n",
       "      <td>Attikis 1, Glifada 165 62, Greece</td>\n",
       "      <td>{'latitude': 37.894874, 'longitude': 23.761325...</td>\n",
       "      <td>OPERATIONAL</td>\n",
       "      <td>{'text': 'coffee berry - Άνω Γλυφάδα', 'langua...</td>\n",
       "      <td>{'text': 'Coffee Shop', 'languageCode': 'en-US'}</td>\n",
       "      <td>coffee_shop</td>\n",
       "      <td>coffee berry - Άνω Γλυφάδα</td>\n",
       "      <td>POINT (23.76133 37.89487)</td>\n",
       "    </tr>\n",
       "    <tr>\n",
       "      <th>2</th>\n",
       "      <td>ChIJgSMfxKu_oRQRDDje9yAhZfM</td>\n",
       "      <td>Dim. Gounari 24, Elliniko 167 77, Greece</td>\n",
       "      <td>{'latitude': 37.893558399999996, 'longitude': ...</td>\n",
       "      <td>OPERATIONAL</td>\n",
       "      <td>{'text': 'ROSEWOOD COFFEE HOUSE', 'languageCod...</td>\n",
       "      <td>{'text': 'Coffee Shop', 'languageCode': 'en-US'}</td>\n",
       "      <td>coffee_shop</td>\n",
       "      <td>ROSEWOOD COFFEE HOUSE</td>\n",
       "      <td>POINT (23.76089 37.89356)</td>\n",
       "    </tr>\n",
       "  </tbody>\n",
       "</table>\n",
       "</div>"
      ],
      "text/plain": [
       "                            id                          formattedAddress  \\\n",
       "1  ChIJgcEWYU6_oRQR-cd2bf6di68         Attikis 1, Glifada 165 62, Greece   \n",
       "2  ChIJgSMfxKu_oRQRDDje9yAhZfM  Dim. Gounari 24, Elliniko 167 77, Greece   \n",
       "\n",
       "                                            location businessStatus  \\\n",
       "1  {'latitude': 37.894874, 'longitude': 23.761325...    OPERATIONAL   \n",
       "2  {'latitude': 37.893558399999996, 'longitude': ...    OPERATIONAL   \n",
       "\n",
       "                                         displayName  \\\n",
       "1  {'text': 'coffee berry - Άνω Γλυφάδα', 'langua...   \n",
       "2  {'text': 'ROSEWOOD COFFEE HOUSE', 'languageCod...   \n",
       "\n",
       "                             primaryTypeDisplayName  primaryType  \\\n",
       "1  {'text': 'Coffee Shop', 'languageCode': 'en-US'}  coffee_shop   \n",
       "2  {'text': 'Coffee Shop', 'languageCode': 'en-US'}  coffee_shop   \n",
       "\n",
       "                         name                   geometry  \n",
       "1  coffee berry - Άνω Γλυφάδα  POINT (23.76133 37.89487)  \n",
       "2       ROSEWOOD COFFEE HOUSE  POINT (23.76089 37.89356)  "
      ]
     },
     "execution_count": 13,
     "metadata": {},
     "output_type": "execute_result"
    }
   ],
   "source": [
    "cafes = gdf[gdf.intersects(road_buffered)] # keep cafes up to 30 meters from the road (inside the buffer)\n",
    "cafes.head(2)"
   ]
  },
  {
   "cell_type": "code",
   "execution_count": 14,
   "id": "20e222a5",
   "metadata": {},
   "outputs": [
    {
     "data": {
      "application/vnd.plotly.v1+json": {
       "config": {
        "plotlyServerURL": "https://plot.ly"
       },
       "data": [
        {
         "hovertemplate": "<b>%{hovertext}</b><br><br>name=%{text}<br>lat=%{lat}<br>lon=%{lon}<extra></extra>",
         "hovertext": [
          "coffee berry - Άνω Γλυφάδα",
          "ROSEWOOD COFFEE HOUSE",
          "Krokkidas Angelos",
          "Jerry’s Your Tasty Stop!",
          "Gregory's",
          "Renieris Bakery",
          "Coffee Academy",
          "Coffee King",
          "Κουλουραδες Ανω Γλυφάδα",
          "Αρτοποιεια Κωτσης",
          "BLACK SUGAR",
          "Coffee Culture",
          "Viel coffee",
          "Max Perry - Handmade Chocolates",
          "MILKA",
          "Coffee Island",
          "Shell",
          "COZY CUP cafe",
          "BLYSSCAFE Glyfada",
          "ΛΟΚΑΛ (local) Γλυφάδα",
          "Mikel Coffee",
          "Crescenses Viennoiserie",
          "Cafe ΚΑΛΗΜΕΡΑ",
          "Peachy Glyfada",
          "Four Coffee",
          "ΦΟΥΡΝΟΣ ΒΕΝΕΤΗ FOOD HALL | Άνω Γλυφάδα",
          "Sovolos Pastry Shop",
          "Il Toto Άνω Γλυφάδα",
          "Coffee Berry - Άνω Γλυφάδα",
          "Gregory's",
          "Elite Stevia",
          "Sweet coffee",
          "Imagine",
          "Azel Coffee Bar",
          "Kotsis, Dimitrios, - Apostolos Apostolidis O.E.",
          "The Sparrow Nuts & Coffee",
          "EPIC Coffee & More",
          "Coffee Lab"
         ],
         "lat": {
          "bdata": "NgUyO4vyQkB1iCQfYPJCQJQ1RduM8kJAqYO8HkzyQkC4CVKEL/JCQDxYtVoW8kJA8yxScpjxQkDQIKqVrvFCQO1W4HVH8UJA1Aiik0rxQkCLdQU2QvFCQHqGFRNA8UJASnIKPEHxQkDe0bXlEvFCQGG5Shwe8UJAvGNnwA/xQkAd6tIa3vBCQGDNXDus8EJA9hDop5PwQkD1UmeklPBCQMrVNJR/8EJA+CKQAY/wQkBI5uz4ivBCQI2CO6tg8EJAjYI7q2DwQkDbdSW4R/BCQFyLu+b670JAElz2NdzvQkACh6te2e9CQMd0MoLX70JA8N6sHLXvQkBAUMmUau9CQK+UZYhj70JAG1YCcz7vQkDZ5zHKM+9CQO3S0FDt7kJAgPEMGvruQkCkwW1t4e5CQA==",
          "dtype": "f8"
         },
         "legendgroup": "",
         "lon": {
          "bdata": "455TNebCN0DaPj/nycI3QJcP90fOwjdA60Gc4szCN0CR9pp5zcI3QGSnxBrTwjdAq0Wf6uvCN0Ao7niT38I3QHYRS28kwzdAj91P1yTDN0BtXovMEsM3QD7GgfwRwzdARBMoYhHDN0Aw/myaLcM3QN4Lgn0qwzdA/QXMjTPDN0DqLdRQWcM3QOkCA61lwzdAWVZQB2jDN0AEhlG1gsM3QPGMbJ1uwzdAHZSLjGnDN0DDFECMa8M3QEPHDipxwzdAQ8cOKnHDN0DZOXJJesM3QA1YchWLwzdA62ksBrTDN0DUBze+m8M3QMqUxbO6wzdAVgM5zafDN0BJJMCf0MM3QGvP0U/dwzdAh7VCohrEN0AenzXkRMQ3QLF/Q02ZxDdA2z0vy43EN0AoKbAApsQ3QA==",
          "dtype": "f8"
         },
         "marker": {
          "color": "#636efa"
         },
         "mode": "markers+text",
         "name": "",
         "showlegend": false,
         "subplot": "map",
         "text": [
          "coffee berry - Άνω Γλυφάδα",
          "ROSEWOOD COFFEE HOUSE",
          "Krokkidas Angelos",
          "Jerry’s Your Tasty Stop!",
          "Gregory's",
          "Renieris Bakery",
          "Coffee Academy",
          "Coffee King",
          "Κουλουραδες Ανω Γλυφάδα",
          "Αρτοποιεια Κωτσης",
          "BLACK SUGAR",
          "Coffee Culture",
          "Viel coffee",
          "Max Perry - Handmade Chocolates",
          "MILKA",
          "Coffee Island",
          "Shell",
          "COZY CUP cafe",
          "BLYSSCAFE Glyfada",
          "ΛΟΚΑΛ (local) Γλυφάδα",
          "Mikel Coffee",
          "Crescenses Viennoiserie",
          "Cafe ΚΑΛΗΜΕΡΑ",
          "Peachy Glyfada",
          "Four Coffee",
          "ΦΟΥΡΝΟΣ ΒΕΝΕΤΗ FOOD HALL | Άνω Γλυφάδα",
          "Sovolos Pastry Shop",
          "Il Toto Άνω Γλυφάδα",
          "Coffee Berry - Άνω Γλυφάδα",
          "Gregory's",
          "Elite Stevia",
          "Sweet coffee",
          "Imagine",
          "Azel Coffee Bar",
          "Kotsis, Dimitrios, - Apostolos Apostolidis O.E.",
          "The Sparrow Nuts & Coffee",
          "EPIC Coffee & More",
          "Coffee Lab"
         ],
         "type": "scattermap"
        }
       ],
       "layout": {
        "legend": {
         "tracegroupgap": 0
        },
        "map": {
         "center": {
          "lat": 37.880245086842095,
          "lon": 23.763378107894734
         },
         "domain": {
          "x": [
           0,
           1
          ],
          "y": [
           0,
           1
          ]
         },
         "zoom": 12
        },
        "mapbox": {
         "center": {
          "lat": 37.880245086842095,
          "lon": 23.763378107894734
         },
         "zoom": 12
        },
        "margin": {
         "t": 60
        },
        "template": {
         "data": {
          "bar": [
           {
            "error_x": {
             "color": "#2a3f5f"
            },
            "error_y": {
             "color": "#2a3f5f"
            },
            "marker": {
             "line": {
              "color": "#E5ECF6",
              "width": 0.5
             },
             "pattern": {
              "fillmode": "overlay",
              "size": 10,
              "solidity": 0.2
             }
            },
            "type": "bar"
           }
          ],
          "barpolar": [
           {
            "marker": {
             "line": {
              "color": "#E5ECF6",
              "width": 0.5
             },
             "pattern": {
              "fillmode": "overlay",
              "size": 10,
              "solidity": 0.2
             }
            },
            "type": "barpolar"
           }
          ],
          "carpet": [
           {
            "aaxis": {
             "endlinecolor": "#2a3f5f",
             "gridcolor": "white",
             "linecolor": "white",
             "minorgridcolor": "white",
             "startlinecolor": "#2a3f5f"
            },
            "baxis": {
             "endlinecolor": "#2a3f5f",
             "gridcolor": "white",
             "linecolor": "white",
             "minorgridcolor": "white",
             "startlinecolor": "#2a3f5f"
            },
            "type": "carpet"
           }
          ],
          "choropleth": [
           {
            "colorbar": {
             "outlinewidth": 0,
             "ticks": ""
            },
            "type": "choropleth"
           }
          ],
          "contour": [
           {
            "colorbar": {
             "outlinewidth": 0,
             "ticks": ""
            },
            "colorscale": [
             [
              0,
              "#0d0887"
             ],
             [
              0.1111111111111111,
              "#46039f"
             ],
             [
              0.2222222222222222,
              "#7201a8"
             ],
             [
              0.3333333333333333,
              "#9c179e"
             ],
             [
              0.4444444444444444,
              "#bd3786"
             ],
             [
              0.5555555555555556,
              "#d8576b"
             ],
             [
              0.6666666666666666,
              "#ed7953"
             ],
             [
              0.7777777777777778,
              "#fb9f3a"
             ],
             [
              0.8888888888888888,
              "#fdca26"
             ],
             [
              1,
              "#f0f921"
             ]
            ],
            "type": "contour"
           }
          ],
          "contourcarpet": [
           {
            "colorbar": {
             "outlinewidth": 0,
             "ticks": ""
            },
            "type": "contourcarpet"
           }
          ],
          "heatmap": [
           {
            "colorbar": {
             "outlinewidth": 0,
             "ticks": ""
            },
            "colorscale": [
             [
              0,
              "#0d0887"
             ],
             [
              0.1111111111111111,
              "#46039f"
             ],
             [
              0.2222222222222222,
              "#7201a8"
             ],
             [
              0.3333333333333333,
              "#9c179e"
             ],
             [
              0.4444444444444444,
              "#bd3786"
             ],
             [
              0.5555555555555556,
              "#d8576b"
             ],
             [
              0.6666666666666666,
              "#ed7953"
             ],
             [
              0.7777777777777778,
              "#fb9f3a"
             ],
             [
              0.8888888888888888,
              "#fdca26"
             ],
             [
              1,
              "#f0f921"
             ]
            ],
            "type": "heatmap"
           }
          ],
          "histogram": [
           {
            "marker": {
             "pattern": {
              "fillmode": "overlay",
              "size": 10,
              "solidity": 0.2
             }
            },
            "type": "histogram"
           }
          ],
          "histogram2d": [
           {
            "colorbar": {
             "outlinewidth": 0,
             "ticks": ""
            },
            "colorscale": [
             [
              0,
              "#0d0887"
             ],
             [
              0.1111111111111111,
              "#46039f"
             ],
             [
              0.2222222222222222,
              "#7201a8"
             ],
             [
              0.3333333333333333,
              "#9c179e"
             ],
             [
              0.4444444444444444,
              "#bd3786"
             ],
             [
              0.5555555555555556,
              "#d8576b"
             ],
             [
              0.6666666666666666,
              "#ed7953"
             ],
             [
              0.7777777777777778,
              "#fb9f3a"
             ],
             [
              0.8888888888888888,
              "#fdca26"
             ],
             [
              1,
              "#f0f921"
             ]
            ],
            "type": "histogram2d"
           }
          ],
          "histogram2dcontour": [
           {
            "colorbar": {
             "outlinewidth": 0,
             "ticks": ""
            },
            "colorscale": [
             [
              0,
              "#0d0887"
             ],
             [
              0.1111111111111111,
              "#46039f"
             ],
             [
              0.2222222222222222,
              "#7201a8"
             ],
             [
              0.3333333333333333,
              "#9c179e"
             ],
             [
              0.4444444444444444,
              "#bd3786"
             ],
             [
              0.5555555555555556,
              "#d8576b"
             ],
             [
              0.6666666666666666,
              "#ed7953"
             ],
             [
              0.7777777777777778,
              "#fb9f3a"
             ],
             [
              0.8888888888888888,
              "#fdca26"
             ],
             [
              1,
              "#f0f921"
             ]
            ],
            "type": "histogram2dcontour"
           }
          ],
          "mesh3d": [
           {
            "colorbar": {
             "outlinewidth": 0,
             "ticks": ""
            },
            "type": "mesh3d"
           }
          ],
          "parcoords": [
           {
            "line": {
             "colorbar": {
              "outlinewidth": 0,
              "ticks": ""
             }
            },
            "type": "parcoords"
           }
          ],
          "pie": [
           {
            "automargin": true,
            "type": "pie"
           }
          ],
          "scatter": [
           {
            "fillpattern": {
             "fillmode": "overlay",
             "size": 10,
             "solidity": 0.2
            },
            "type": "scatter"
           }
          ],
          "scatter3d": [
           {
            "line": {
             "colorbar": {
              "outlinewidth": 0,
              "ticks": ""
             }
            },
            "marker": {
             "colorbar": {
              "outlinewidth": 0,
              "ticks": ""
             }
            },
            "type": "scatter3d"
           }
          ],
          "scattercarpet": [
           {
            "marker": {
             "colorbar": {
              "outlinewidth": 0,
              "ticks": ""
             }
            },
            "type": "scattercarpet"
           }
          ],
          "scattergeo": [
           {
            "marker": {
             "colorbar": {
              "outlinewidth": 0,
              "ticks": ""
             }
            },
            "type": "scattergeo"
           }
          ],
          "scattergl": [
           {
            "marker": {
             "colorbar": {
              "outlinewidth": 0,
              "ticks": ""
             }
            },
            "type": "scattergl"
           }
          ],
          "scattermap": [
           {
            "marker": {
             "colorbar": {
              "outlinewidth": 0,
              "ticks": ""
             }
            },
            "type": "scattermap"
           }
          ],
          "scattermapbox": [
           {
            "marker": {
             "colorbar": {
              "outlinewidth": 0,
              "ticks": ""
             }
            },
            "type": "scattermapbox"
           }
          ],
          "scatterpolar": [
           {
            "marker": {
             "colorbar": {
              "outlinewidth": 0,
              "ticks": ""
             }
            },
            "type": "scatterpolar"
           }
          ],
          "scatterpolargl": [
           {
            "marker": {
             "colorbar": {
              "outlinewidth": 0,
              "ticks": ""
             }
            },
            "type": "scatterpolargl"
           }
          ],
          "scatterternary": [
           {
            "marker": {
             "colorbar": {
              "outlinewidth": 0,
              "ticks": ""
             }
            },
            "type": "scatterternary"
           }
          ],
          "surface": [
           {
            "colorbar": {
             "outlinewidth": 0,
             "ticks": ""
            },
            "colorscale": [
             [
              0,
              "#0d0887"
             ],
             [
              0.1111111111111111,
              "#46039f"
             ],
             [
              0.2222222222222222,
              "#7201a8"
             ],
             [
              0.3333333333333333,
              "#9c179e"
             ],
             [
              0.4444444444444444,
              "#bd3786"
             ],
             [
              0.5555555555555556,
              "#d8576b"
             ],
             [
              0.6666666666666666,
              "#ed7953"
             ],
             [
              0.7777777777777778,
              "#fb9f3a"
             ],
             [
              0.8888888888888888,
              "#fdca26"
             ],
             [
              1,
              "#f0f921"
             ]
            ],
            "type": "surface"
           }
          ],
          "table": [
           {
            "cells": {
             "fill": {
              "color": "#EBF0F8"
             },
             "line": {
              "color": "white"
             }
            },
            "header": {
             "fill": {
              "color": "#C8D4E3"
             },
             "line": {
              "color": "white"
             }
            },
            "type": "table"
           }
          ]
         },
         "layout": {
          "annotationdefaults": {
           "arrowcolor": "#2a3f5f",
           "arrowhead": 0,
           "arrowwidth": 1
          },
          "autotypenumbers": "strict",
          "coloraxis": {
           "colorbar": {
            "outlinewidth": 0,
            "ticks": ""
           }
          },
          "colorscale": {
           "diverging": [
            [
             0,
             "#8e0152"
            ],
            [
             0.1,
             "#c51b7d"
            ],
            [
             0.2,
             "#de77ae"
            ],
            [
             0.3,
             "#f1b6da"
            ],
            [
             0.4,
             "#fde0ef"
            ],
            [
             0.5,
             "#f7f7f7"
            ],
            [
             0.6,
             "#e6f5d0"
            ],
            [
             0.7,
             "#b8e186"
            ],
            [
             0.8,
             "#7fbc41"
            ],
            [
             0.9,
             "#4d9221"
            ],
            [
             1,
             "#276419"
            ]
           ],
           "sequential": [
            [
             0,
             "#0d0887"
            ],
            [
             0.1111111111111111,
             "#46039f"
            ],
            [
             0.2222222222222222,
             "#7201a8"
            ],
            [
             0.3333333333333333,
             "#9c179e"
            ],
            [
             0.4444444444444444,
             "#bd3786"
            ],
            [
             0.5555555555555556,
             "#d8576b"
            ],
            [
             0.6666666666666666,
             "#ed7953"
            ],
            [
             0.7777777777777778,
             "#fb9f3a"
            ],
            [
             0.8888888888888888,
             "#fdca26"
            ],
            [
             1,
             "#f0f921"
            ]
           ],
           "sequentialminus": [
            [
             0,
             "#0d0887"
            ],
            [
             0.1111111111111111,
             "#46039f"
            ],
            [
             0.2222222222222222,
             "#7201a8"
            ],
            [
             0.3333333333333333,
             "#9c179e"
            ],
            [
             0.4444444444444444,
             "#bd3786"
            ],
            [
             0.5555555555555556,
             "#d8576b"
            ],
            [
             0.6666666666666666,
             "#ed7953"
            ],
            [
             0.7777777777777778,
             "#fb9f3a"
            ],
            [
             0.8888888888888888,
             "#fdca26"
            ],
            [
             1,
             "#f0f921"
            ]
           ]
          },
          "colorway": [
           "#636efa",
           "#EF553B",
           "#00cc96",
           "#ab63fa",
           "#FFA15A",
           "#19d3f3",
           "#FF6692",
           "#B6E880",
           "#FF97FF",
           "#FECB52"
          ],
          "font": {
           "color": "#2a3f5f"
          },
          "geo": {
           "bgcolor": "white",
           "lakecolor": "white",
           "landcolor": "#E5ECF6",
           "showlakes": true,
           "showland": true,
           "subunitcolor": "white"
          },
          "hoverlabel": {
           "align": "left"
          },
          "hovermode": "closest",
          "mapbox": {
           "style": "light"
          },
          "paper_bgcolor": "white",
          "plot_bgcolor": "#E5ECF6",
          "polar": {
           "angularaxis": {
            "gridcolor": "white",
            "linecolor": "white",
            "ticks": ""
           },
           "bgcolor": "#E5ECF6",
           "radialaxis": {
            "gridcolor": "white",
            "linecolor": "white",
            "ticks": ""
           }
          },
          "scene": {
           "xaxis": {
            "backgroundcolor": "#E5ECF6",
            "gridcolor": "white",
            "gridwidth": 2,
            "linecolor": "white",
            "showbackground": true,
            "ticks": "",
            "zerolinecolor": "white"
           },
           "yaxis": {
            "backgroundcolor": "#E5ECF6",
            "gridcolor": "white",
            "gridwidth": 2,
            "linecolor": "white",
            "showbackground": true,
            "ticks": "",
            "zerolinecolor": "white"
           },
           "zaxis": {
            "backgroundcolor": "#E5ECF6",
            "gridcolor": "white",
            "gridwidth": 2,
            "linecolor": "white",
            "showbackground": true,
            "ticks": "",
            "zerolinecolor": "white"
           }
          },
          "shapedefaults": {
           "line": {
            "color": "#2a3f5f"
           }
          },
          "ternary": {
           "aaxis": {
            "gridcolor": "white",
            "linecolor": "white",
            "ticks": ""
           },
           "baxis": {
            "gridcolor": "white",
            "linecolor": "white",
            "ticks": ""
           },
           "bgcolor": "#E5ECF6",
           "caxis": {
            "gridcolor": "white",
            "linecolor": "white",
            "ticks": ""
           }
          },
          "title": {
           "x": 0.05
          },
          "xaxis": {
           "automargin": true,
           "gridcolor": "white",
           "linecolor": "white",
           "ticks": "",
           "title": {
            "standoff": 15
           },
           "zerolinecolor": "white",
           "zerolinewidth": 2
          },
          "yaxis": {
           "automargin": true,
           "gridcolor": "white",
           "linecolor": "white",
           "ticks": "",
           "title": {
            "standoff": 15
           },
           "zerolinecolor": "white",
           "zerolinewidth": 2
          }
         }
        }
       }
      }
     },
     "metadata": {},
     "output_type": "display_data"
    }
   ],
   "source": [
    "fig = px.scatter_map(cafes, lat=cafes.geometry.y, lon=cafes.geometry.x, text='name', hover_name=\"name\", zoom=12)\n",
    "fig.show()"
   ]
  },
  {
   "cell_type": "code",
   "execution_count": 15,
   "id": "6d4ea8ae",
   "metadata": {},
   "outputs": [
    {
     "data": {
      "application/vnd.plotly.v1+json": {
       "config": {
        "plotlyServerURL": "https://plot.ly"
       },
       "data": [
        {
         "coloraxis": "coloraxis",
         "hovertemplate": "lat=%{lat}<br>lon=%{lon}<extra></extra>",
         "lat": {
          "bdata": "NgUyO4vyQkB1iCQfYPJCQJQ1RduM8kJAqYO8HkzyQkC4CVKEL/JCQDxYtVoW8kJA8yxScpjxQkDQIKqVrvFCQO1W4HVH8UJA1Aiik0rxQkCLdQU2QvFCQHqGFRNA8UJASnIKPEHxQkDe0bXlEvFCQGG5Shwe8UJAvGNnwA/xQkAd6tIa3vBCQGDNXDus8EJA9hDop5PwQkD1UmeklPBCQMrVNJR/8EJA+CKQAY/wQkBI5uz4ivBCQI2CO6tg8EJAjYI7q2DwQkDbdSW4R/BCQFyLu+b670JAElz2NdzvQkACh6te2e9CQMd0MoLX70JA8N6sHLXvQkBAUMmUau9CQK+UZYhj70JAG1YCcz7vQkDZ5zHKM+9CQO3S0FDt7kJAgPEMGvruQkCkwW1t4e5CQA==",
          "dtype": "f8"
         },
         "lon": {
          "bdata": "455TNebCN0DaPj/nycI3QJcP90fOwjdA60Gc4szCN0CR9pp5zcI3QGSnxBrTwjdAq0Wf6uvCN0Ao7niT38I3QHYRS28kwzdAj91P1yTDN0BtXovMEsM3QD7GgfwRwzdARBMoYhHDN0Aw/myaLcM3QN4Lgn0qwzdA/QXMjTPDN0DqLdRQWcM3QOkCA61lwzdAWVZQB2jDN0AEhlG1gsM3QPGMbJ1uwzdAHZSLjGnDN0DDFECMa8M3QEPHDipxwzdAQ8cOKnHDN0DZOXJJesM3QA1YchWLwzdA62ksBrTDN0DUBze+m8M3QMqUxbO6wzdAVgM5zafDN0BJJMCf0MM3QGvP0U/dwzdAh7VCohrEN0AenzXkRMQ3QLF/Q02ZxDdA2z0vy43EN0AoKbAApsQ3QA==",
          "dtype": "f8"
         },
         "name": "",
         "radius": 12,
         "subplot": "map",
         "type": "densitymap"
        }
       ],
       "layout": {
        "coloraxis": {
         "colorscale": [
          [
           0,
           "#0d0887"
          ],
          [
           0.1111111111111111,
           "#46039f"
          ],
          [
           0.2222222222222222,
           "#7201a8"
          ],
          [
           0.3333333333333333,
           "#9c179e"
          ],
          [
           0.4444444444444444,
           "#bd3786"
          ],
          [
           0.5555555555555556,
           "#d8576b"
          ],
          [
           0.6666666666666666,
           "#ed7953"
          ],
          [
           0.7777777777777778,
           "#fb9f3a"
          ],
          [
           0.8888888888888888,
           "#fdca26"
          ],
          [
           1,
           "#f0f921"
          ]
         ]
        },
        "legend": {
         "tracegroupgap": 0
        },
        "map": {
         "center": {
          "lat": 37.880245086842095,
          "lon": 23.763378107894734
         },
         "domain": {
          "x": [
           0,
           1
          ],
          "y": [
           0,
           1
          ]
         },
         "style": "open-street-map",
         "zoom": 12
        },
        "mapbox": {
         "center": {
          "lat": 37.880245086842095,
          "lon": 23.763378107894734
         },
         "style": "open-street-map",
         "zoom": 12
        },
        "margin": {
         "t": 60
        },
        "template": {
         "data": {
          "bar": [
           {
            "error_x": {
             "color": "#2a3f5f"
            },
            "error_y": {
             "color": "#2a3f5f"
            },
            "marker": {
             "line": {
              "color": "#E5ECF6",
              "width": 0.5
             },
             "pattern": {
              "fillmode": "overlay",
              "size": 10,
              "solidity": 0.2
             }
            },
            "type": "bar"
           }
          ],
          "barpolar": [
           {
            "marker": {
             "line": {
              "color": "#E5ECF6",
              "width": 0.5
             },
             "pattern": {
              "fillmode": "overlay",
              "size": 10,
              "solidity": 0.2
             }
            },
            "type": "barpolar"
           }
          ],
          "carpet": [
           {
            "aaxis": {
             "endlinecolor": "#2a3f5f",
             "gridcolor": "white",
             "linecolor": "white",
             "minorgridcolor": "white",
             "startlinecolor": "#2a3f5f"
            },
            "baxis": {
             "endlinecolor": "#2a3f5f",
             "gridcolor": "white",
             "linecolor": "white",
             "minorgridcolor": "white",
             "startlinecolor": "#2a3f5f"
            },
            "type": "carpet"
           }
          ],
          "choropleth": [
           {
            "colorbar": {
             "outlinewidth": 0,
             "ticks": ""
            },
            "type": "choropleth"
           }
          ],
          "contour": [
           {
            "colorbar": {
             "outlinewidth": 0,
             "ticks": ""
            },
            "colorscale": [
             [
              0,
              "#0d0887"
             ],
             [
              0.1111111111111111,
              "#46039f"
             ],
             [
              0.2222222222222222,
              "#7201a8"
             ],
             [
              0.3333333333333333,
              "#9c179e"
             ],
             [
              0.4444444444444444,
              "#bd3786"
             ],
             [
              0.5555555555555556,
              "#d8576b"
             ],
             [
              0.6666666666666666,
              "#ed7953"
             ],
             [
              0.7777777777777778,
              "#fb9f3a"
             ],
             [
              0.8888888888888888,
              "#fdca26"
             ],
             [
              1,
              "#f0f921"
             ]
            ],
            "type": "contour"
           }
          ],
          "contourcarpet": [
           {
            "colorbar": {
             "outlinewidth": 0,
             "ticks": ""
            },
            "type": "contourcarpet"
           }
          ],
          "heatmap": [
           {
            "colorbar": {
             "outlinewidth": 0,
             "ticks": ""
            },
            "colorscale": [
             [
              0,
              "#0d0887"
             ],
             [
              0.1111111111111111,
              "#46039f"
             ],
             [
              0.2222222222222222,
              "#7201a8"
             ],
             [
              0.3333333333333333,
              "#9c179e"
             ],
             [
              0.4444444444444444,
              "#bd3786"
             ],
             [
              0.5555555555555556,
              "#d8576b"
             ],
             [
              0.6666666666666666,
              "#ed7953"
             ],
             [
              0.7777777777777778,
              "#fb9f3a"
             ],
             [
              0.8888888888888888,
              "#fdca26"
             ],
             [
              1,
              "#f0f921"
             ]
            ],
            "type": "heatmap"
           }
          ],
          "histogram": [
           {
            "marker": {
             "pattern": {
              "fillmode": "overlay",
              "size": 10,
              "solidity": 0.2
             }
            },
            "type": "histogram"
           }
          ],
          "histogram2d": [
           {
            "colorbar": {
             "outlinewidth": 0,
             "ticks": ""
            },
            "colorscale": [
             [
              0,
              "#0d0887"
             ],
             [
              0.1111111111111111,
              "#46039f"
             ],
             [
              0.2222222222222222,
              "#7201a8"
             ],
             [
              0.3333333333333333,
              "#9c179e"
             ],
             [
              0.4444444444444444,
              "#bd3786"
             ],
             [
              0.5555555555555556,
              "#d8576b"
             ],
             [
              0.6666666666666666,
              "#ed7953"
             ],
             [
              0.7777777777777778,
              "#fb9f3a"
             ],
             [
              0.8888888888888888,
              "#fdca26"
             ],
             [
              1,
              "#f0f921"
             ]
            ],
            "type": "histogram2d"
           }
          ],
          "histogram2dcontour": [
           {
            "colorbar": {
             "outlinewidth": 0,
             "ticks": ""
            },
            "colorscale": [
             [
              0,
              "#0d0887"
             ],
             [
              0.1111111111111111,
              "#46039f"
             ],
             [
              0.2222222222222222,
              "#7201a8"
             ],
             [
              0.3333333333333333,
              "#9c179e"
             ],
             [
              0.4444444444444444,
              "#bd3786"
             ],
             [
              0.5555555555555556,
              "#d8576b"
             ],
             [
              0.6666666666666666,
              "#ed7953"
             ],
             [
              0.7777777777777778,
              "#fb9f3a"
             ],
             [
              0.8888888888888888,
              "#fdca26"
             ],
             [
              1,
              "#f0f921"
             ]
            ],
            "type": "histogram2dcontour"
           }
          ],
          "mesh3d": [
           {
            "colorbar": {
             "outlinewidth": 0,
             "ticks": ""
            },
            "type": "mesh3d"
           }
          ],
          "parcoords": [
           {
            "line": {
             "colorbar": {
              "outlinewidth": 0,
              "ticks": ""
             }
            },
            "type": "parcoords"
           }
          ],
          "pie": [
           {
            "automargin": true,
            "type": "pie"
           }
          ],
          "scatter": [
           {
            "fillpattern": {
             "fillmode": "overlay",
             "size": 10,
             "solidity": 0.2
            },
            "type": "scatter"
           }
          ],
          "scatter3d": [
           {
            "line": {
             "colorbar": {
              "outlinewidth": 0,
              "ticks": ""
             }
            },
            "marker": {
             "colorbar": {
              "outlinewidth": 0,
              "ticks": ""
             }
            },
            "type": "scatter3d"
           }
          ],
          "scattercarpet": [
           {
            "marker": {
             "colorbar": {
              "outlinewidth": 0,
              "ticks": ""
             }
            },
            "type": "scattercarpet"
           }
          ],
          "scattergeo": [
           {
            "marker": {
             "colorbar": {
              "outlinewidth": 0,
              "ticks": ""
             }
            },
            "type": "scattergeo"
           }
          ],
          "scattergl": [
           {
            "marker": {
             "colorbar": {
              "outlinewidth": 0,
              "ticks": ""
             }
            },
            "type": "scattergl"
           }
          ],
          "scattermap": [
           {
            "marker": {
             "colorbar": {
              "outlinewidth": 0,
              "ticks": ""
             }
            },
            "type": "scattermap"
           }
          ],
          "scattermapbox": [
           {
            "marker": {
             "colorbar": {
              "outlinewidth": 0,
              "ticks": ""
             }
            },
            "type": "scattermapbox"
           }
          ],
          "scatterpolar": [
           {
            "marker": {
             "colorbar": {
              "outlinewidth": 0,
              "ticks": ""
             }
            },
            "type": "scatterpolar"
           }
          ],
          "scatterpolargl": [
           {
            "marker": {
             "colorbar": {
              "outlinewidth": 0,
              "ticks": ""
             }
            },
            "type": "scatterpolargl"
           }
          ],
          "scatterternary": [
           {
            "marker": {
             "colorbar": {
              "outlinewidth": 0,
              "ticks": ""
             }
            },
            "type": "scatterternary"
           }
          ],
          "surface": [
           {
            "colorbar": {
             "outlinewidth": 0,
             "ticks": ""
            },
            "colorscale": [
             [
              0,
              "#0d0887"
             ],
             [
              0.1111111111111111,
              "#46039f"
             ],
             [
              0.2222222222222222,
              "#7201a8"
             ],
             [
              0.3333333333333333,
              "#9c179e"
             ],
             [
              0.4444444444444444,
              "#bd3786"
             ],
             [
              0.5555555555555556,
              "#d8576b"
             ],
             [
              0.6666666666666666,
              "#ed7953"
             ],
             [
              0.7777777777777778,
              "#fb9f3a"
             ],
             [
              0.8888888888888888,
              "#fdca26"
             ],
             [
              1,
              "#f0f921"
             ]
            ],
            "type": "surface"
           }
          ],
          "table": [
           {
            "cells": {
             "fill": {
              "color": "#EBF0F8"
             },
             "line": {
              "color": "white"
             }
            },
            "header": {
             "fill": {
              "color": "#C8D4E3"
             },
             "line": {
              "color": "white"
             }
            },
            "type": "table"
           }
          ]
         },
         "layout": {
          "annotationdefaults": {
           "arrowcolor": "#2a3f5f",
           "arrowhead": 0,
           "arrowwidth": 1
          },
          "autotypenumbers": "strict",
          "coloraxis": {
           "colorbar": {
            "outlinewidth": 0,
            "ticks": ""
           }
          },
          "colorscale": {
           "diverging": [
            [
             0,
             "#8e0152"
            ],
            [
             0.1,
             "#c51b7d"
            ],
            [
             0.2,
             "#de77ae"
            ],
            [
             0.3,
             "#f1b6da"
            ],
            [
             0.4,
             "#fde0ef"
            ],
            [
             0.5,
             "#f7f7f7"
            ],
            [
             0.6,
             "#e6f5d0"
            ],
            [
             0.7,
             "#b8e186"
            ],
            [
             0.8,
             "#7fbc41"
            ],
            [
             0.9,
             "#4d9221"
            ],
            [
             1,
             "#276419"
            ]
           ],
           "sequential": [
            [
             0,
             "#0d0887"
            ],
            [
             0.1111111111111111,
             "#46039f"
            ],
            [
             0.2222222222222222,
             "#7201a8"
            ],
            [
             0.3333333333333333,
             "#9c179e"
            ],
            [
             0.4444444444444444,
             "#bd3786"
            ],
            [
             0.5555555555555556,
             "#d8576b"
            ],
            [
             0.6666666666666666,
             "#ed7953"
            ],
            [
             0.7777777777777778,
             "#fb9f3a"
            ],
            [
             0.8888888888888888,
             "#fdca26"
            ],
            [
             1,
             "#f0f921"
            ]
           ],
           "sequentialminus": [
            [
             0,
             "#0d0887"
            ],
            [
             0.1111111111111111,
             "#46039f"
            ],
            [
             0.2222222222222222,
             "#7201a8"
            ],
            [
             0.3333333333333333,
             "#9c179e"
            ],
            [
             0.4444444444444444,
             "#bd3786"
            ],
            [
             0.5555555555555556,
             "#d8576b"
            ],
            [
             0.6666666666666666,
             "#ed7953"
            ],
            [
             0.7777777777777778,
             "#fb9f3a"
            ],
            [
             0.8888888888888888,
             "#fdca26"
            ],
            [
             1,
             "#f0f921"
            ]
           ]
          },
          "colorway": [
           "#636efa",
           "#EF553B",
           "#00cc96",
           "#ab63fa",
           "#FFA15A",
           "#19d3f3",
           "#FF6692",
           "#B6E880",
           "#FF97FF",
           "#FECB52"
          ],
          "font": {
           "color": "#2a3f5f"
          },
          "geo": {
           "bgcolor": "white",
           "lakecolor": "white",
           "landcolor": "#E5ECF6",
           "showlakes": true,
           "showland": true,
           "subunitcolor": "white"
          },
          "hoverlabel": {
           "align": "left"
          },
          "hovermode": "closest",
          "mapbox": {
           "style": "light"
          },
          "paper_bgcolor": "white",
          "plot_bgcolor": "#E5ECF6",
          "polar": {
           "angularaxis": {
            "gridcolor": "white",
            "linecolor": "white",
            "ticks": ""
           },
           "bgcolor": "#E5ECF6",
           "radialaxis": {
            "gridcolor": "white",
            "linecolor": "white",
            "ticks": ""
           }
          },
          "scene": {
           "xaxis": {
            "backgroundcolor": "#E5ECF6",
            "gridcolor": "white",
            "gridwidth": 2,
            "linecolor": "white",
            "showbackground": true,
            "ticks": "",
            "zerolinecolor": "white"
           },
           "yaxis": {
            "backgroundcolor": "#E5ECF6",
            "gridcolor": "white",
            "gridwidth": 2,
            "linecolor": "white",
            "showbackground": true,
            "ticks": "",
            "zerolinecolor": "white"
           },
           "zaxis": {
            "backgroundcolor": "#E5ECF6",
            "gridcolor": "white",
            "gridwidth": 2,
            "linecolor": "white",
            "showbackground": true,
            "ticks": "",
            "zerolinecolor": "white"
           }
          },
          "shapedefaults": {
           "line": {
            "color": "#2a3f5f"
           }
          },
          "ternary": {
           "aaxis": {
            "gridcolor": "white",
            "linecolor": "white",
            "ticks": ""
           },
           "baxis": {
            "gridcolor": "white",
            "linecolor": "white",
            "ticks": ""
           },
           "bgcolor": "#E5ECF6",
           "caxis": {
            "gridcolor": "white",
            "linecolor": "white",
            "ticks": ""
           }
          },
          "title": {
           "x": 0.05
          },
          "xaxis": {
           "automargin": true,
           "gridcolor": "white",
           "linecolor": "white",
           "ticks": "",
           "title": {
            "standoff": 15
           },
           "zerolinecolor": "white",
           "zerolinewidth": 2
          },
          "yaxis": {
           "automargin": true,
           "gridcolor": "white",
           "linecolor": "white",
           "ticks": "",
           "title": {
            "standoff": 15
           },
           "zerolinecolor": "white",
           "zerolinewidth": 2
          }
         }
        }
       }
      }
     },
     "metadata": {},
     "output_type": "display_data"
    }
   ],
   "source": [
    "fig = px.density_map(cafes, lat=cafes.geometry.y, lon=cafes.geometry.x, radius=12, zoom=12, map_style=\"open-street-map\")\n",
    "fig.show()"
   ]
  },
  {
   "cell_type": "markdown",
   "id": "8b9b2b74",
   "metadata": {},
   "source": [
    "## stats / visuals"
   ]
  },
  {
   "cell_type": "code",
   "execution_count": 16,
   "id": "f6d9c0de",
   "metadata": {},
   "outputs": [
    {
     "data": {
      "text/plain": [
       "'One cafe every: 254m'"
      ]
     },
     "execution_count": 16,
     "metadata": {},
     "output_type": "execute_result"
    }
   ],
   "source": [
    "f'One cafe every: {length / cafes.shape[0]:.0f}m'"
   ]
  },
  {
   "cell_type": "code",
   "execution_count": null,
   "id": "bd33d684",
   "metadata": {},
   "outputs": [
    {
     "data": {
      "text/html": [
       "<div>\n",
       "<style scoped>\n",
       "    .dataframe tbody tr th:only-of-type {\n",
       "        vertical-align: middle;\n",
       "    }\n",
       "\n",
       "    .dataframe tbody tr th {\n",
       "        vertical-align: top;\n",
       "    }\n",
       "\n",
       "    .dataframe thead th {\n",
       "        text-align: right;\n",
       "    }\n",
       "</style>\n",
       "<table border=\"1\" class=\"dataframe\">\n",
       "  <thead>\n",
       "    <tr style=\"text-align: right;\">\n",
       "      <th></th>\n",
       "      <th>h3id</th>\n",
       "      <th>geometry</th>\n",
       "    </tr>\n",
       "  </thead>\n",
       "  <tbody>\n",
       "    <tr>\n",
       "      <th>0</th>\n",
       "      <td>891eda66253ffff</td>\n",
       "      <td>POLYGON ((23.76224 37.89638, 23.76213 37.89445...</td>\n",
       "    </tr>\n",
       "    <tr>\n",
       "      <th>1</th>\n",
       "      <td>891eda67103ffff</td>\n",
       "      <td>POLYGON ((23.75697 37.87916, 23.75686 37.87723...</td>\n",
       "    </tr>\n",
       "  </tbody>\n",
       "</table>\n",
       "</div>"
      ],
      "text/plain": [
       "              h3id                                           geometry\n",
       "0  891eda66253ffff  POLYGON ((23.76224 37.89638, 23.76213 37.89445...\n",
       "1  891eda67103ffff  POLYGON ((23.75697 37.87916, 23.75686 37.87723..."
      ]
     },
     "execution_count": 17,
     "metadata": {},
     "output_type": "execute_result"
    }
   ],
   "source": [
    "sbbox = shapely.box(*bbox)\n",
    "coords = [list(sbbox.exterior.coords)]\n",
    "cells = h3.geo_to_cells(sbbox, res=9)\n",
    "cells = [{'h3id': cell, 'geometry': h3cell_to_shapely(cell)} for cell in cells]\n",
    "cells = gpd.GeoDataFrame(cells, crs='epsg:4326')\n",
    "cells.head(2)\n",
    "px.choropleth_map(cells, geojson=cells.geometry, locations=cells.index,\n",
    "                  center={'lat': sbbox.centroid.y, 'lon': sbbox.centroid.x}, zoom=11.5)"
   ]
  },
  {
   "cell_type": "code",
   "execution_count": null,
   "id": "13082f58",
   "metadata": {},
   "outputs": [
    {
     "data": {
      "application/vnd.plotly.v1+json": {
       "config": {
        "plotlyServerURL": "https://plot.ly"
       },
       "data": [
        {
         "coloraxis": "coloraxis",
         "geojson": {
          "bbox": [
           23.757829738195525,
           37.864302436201484,
           23.769220288301458,
           37.89742191428315
          ],
          "features": [
           {
            "bbox": [
             23.76481574337129,
             37.864302436201484,
             23.769220288301458,
             37.86816362148762
            ],
            "geometry": {
             "coordinates": [
              [
               [
                23.764923104225492,
                37.86727393012921
               ],
               [
                23.76481574337129,
                37.865343335751064
               ],
               [
                23.766910593424853,
                37.864302436201484
               ],
               [
                23.769112839910495,
                37.86519210705603
               ],
               [
                23.769220288301458,
                37.867122697962756
               ],
               [
                23.767125402670597,
                37.86816362148762
               ],
               [
                23.764923104225492,
                37.86727393012921
               ]
              ]
             ],
             "type": "Polygon"
            },
            "id": "0",
            "properties": {},
            "type": "Feature"
           },
           {
            "bbox": [
             23.75981803048416,
             37.890590433251,
             23.76422371475421,
             37.89445102391232
            ],
            "geometry": {
             "coordinates": [
              [
               [
                23.759925319197876,
                37.89356138747918
               ],
               [
                23.75981803048416,
                37.89163109041949
               ],
               [
                23.761913522303807,
                37.890590433251
               ],
               [
                23.764116338452972,
                37.8914800491832
               ],
               [
                23.76422371475421,
                37.893410342783575
               ],
               [
                23.76212818731932,
                37.89445102391232
               ],
               [
                23.759925319197876,
                37.89356138747918
               ]
              ]
             ],
             "type": "Polygon"
            },
            "id": "1",
            "properties": {},
            "type": "Feature"
           },
           {
            "bbox": [
             23.761162332899268,
             37.87603689312086,
             23.765567361476116,
             37.87989781662351
            ],
            "geometry": {
             "coordinates": [
              [
               [
                23.761269632516363,
                37.87900812304728
               ],
               [
                23.761162332899268,
                37.87707765956506
               ],
               [
                23.763257485990618,
                37.87603689312086
               ],
               [
                23.76545997429903,
                37.87692656619278
               ],
               [
                23.765567361476116,
                37.87885702621197
               ],
               [
                23.763472172785367,
                37.87989781662351
               ],
               [
                23.761269632516363,
                37.87900812304728
               ]
              ]
             ],
             "type": "Polygon"
            },
            "id": "2",
            "properties": {},
            "type": "Feature"
           },
           {
            "bbox": [
             23.75917439026739,
             37.87900812304728,
             23.76357952276228,
             37.88286898278639
            ],
            "geometry": {
             "coordinates": [
              [
               [
                23.759281652678013,
                37.881979268704384
               ],
               [
                23.75917439026739,
                37.88004883710613
               ],
               [
                23.761269632516363,
                37.87900812304728
               ],
               [
                23.763472172785367,
                37.87989781662351
               ],
               [
                23.76357952276228,
                37.881828244763106
               ],
               [
                23.761484244904466,
                37.88286898278639
               ],
               [
                23.759281652678013,
                37.881979268704384
               ]
              ]
             ],
             "type": "Polygon"
            },
            "id": "3",
            "properties": {},
            "type": "Feature"
           },
           {
            "bbox": [
             23.763150149172247,
             37.87306557894884,
             23.767555073824763,
             37.87692656619278
            ],
            "geometry": {
             "coordinates": [
              [
               [
                23.763257485990618,
                37.87603689312086
               ],
               [
                23.763150149172247,
                37.87410639776583
               ],
               [
                23.76524521310805,
                37.87306557894884
               ],
               [
                23.767447649452713,
                37.87395523151789
               ],
               [
                23.767555073824763,
                37.87588572340554
               ],
               [
                23.76545997429903,
                37.87692656619278
               ],
               [
                23.763257485990618,
                37.87603689312086
               ]
              ]
             ],
             "type": "Polygon"
            },
            "id": "4",
            "properties": {},
            "type": "Feature"
           },
           {
            "bbox": [
             23.76282816502994,
             37.86727393012921,
             23.767232813875903,
             37.871135051732125
            ],
            "geometry": {
             "coordinates": [
              [
               [
                23.76293548869217,
                37.87024533986841
               ],
               [
                23.76282816502994,
                37.86831477733405
               ],
               [
                23.764923104225492,
                37.86727393012921
               ],
               [
                23.767125402670597,
                37.86816362148762
               ],
               [
                23.767232813875903,
                37.870094180554915
               ],
               [
                23.765137839093605,
                37.871135051732125
               ],
               [
                23.76293548869217,
                37.87024533986841
               ]
              ]
             ],
             "type": "Polygon"
            },
            "id": "5",
            "properties": {},
            "type": "Feature"
           },
           {
            "bbox": [
             23.76084046035257,
             37.87024533986841,
             23.76524521310805,
             37.87410639776583
            ],
            "geometry": {
             "coordinates": [
              [
               [
                23.760947746817635,
                37.87321666539539
               ],
               [
                23.76084046035257,
                37.87128613471596
               ],
               [
                23.76293548869217,
                37.87024533986841
               ],
               [
                23.765137839093605,
                37.871135051732125
               ],
               [
                23.76524521310805,
                37.87306557894884
               ],
               [
                23.763150149172247,
                37.87410639776583
               ],
               [
                23.760947746817635,
                37.87321666539539
               ]
              ]
             ],
             "type": "Polygon"
            },
            "id": "6",
            "properties": {},
            "type": "Feature"
           },
           {
            "bbox": [
             23.759496190649063,
             37.88479937903526,
             23.7639015990144,
             37.88866010427157
            ],
            "geometry": {
             "coordinates": [
              [
               [
                23.759603466210013,
                37.88777042900475
               ],
               [
                23.759496190649063,
                37.88584006465771
               ],
               [
                23.761591557676002,
                37.88479937903526
               ],
               [
                23.76379423587653,
                37.885689033798755
               ],
               [
                23.7639015990144,
                37.88761939468679
               ],
               [
                23.761806196375407,
                37.88866010427157
               ],
               [
                23.759603466210013,
                37.88777042900475
               ]
              ]
             ],
             "type": "Polygon"
            },
            "id": "7",
            "properties": {},
            "type": "Feature"
           },
           {
            "bbox": [
             23.761484244904466,
             37.881828244763106,
             23.76588954933693,
             37.885689033798755
            ],
            "geometry": {
             "coordinates": [
              [
               [
                23.761591557676002,
                37.88479937903526
               ],
               [
                23.761484244904466,
                37.88286898278639
               ],
               [
                23.76357952276228,
                37.881828244763106
               ],
               [
                23.765782148994795,
                37.882717879024696
               ],
               [
                23.76588954933693,
                37.88464827181023
               ],
               [
                23.76379423587653,
                37.885689033798755
               ],
               [
                23.761591557676002,
                37.88479937903526
               ]
              ]
             ],
             "type": "Polygon"
            },
            "id": "8",
            "properties": {},
            "type": "Feature"
           },
           {
            "bbox": [
             23.757829738195525,
             37.89356138747918,
             23.76223552640699,
             37.89742191428315
            ],
            "geometry": {
             "coordinates": [
              [
               [
                23.75793698968935,
                37.896532257347644
               ],
               [
                23.757829738195525,
                37.894601992218796
               ],
               [
                23.759925319197876,
                37.89356138747918
               ],
               [
                23.76212818731932,
                37.89445102391232
               ],
               [
                23.76223552640699,
                37.89638128558618
               ],
               [
                23.76013990977993,
                37.89742191428315
               ],
               [
                23.75793698968935,
                37.896532257347644
               ]
              ]
             ],
             "type": "Polygon"
            },
            "id": "9",
            "properties": {},
            "type": "Feature"
           }
          ],
          "type": "FeatureCollection"
         },
         "hovertemplate": "index=%{location}<br>count=%{z}<extra></extra>",
         "locations": {
          "bdata": "AAECAwQFBgcICQ==",
          "dtype": "i1"
         },
         "name": "",
         "subplot": "map",
         "type": "choroplethmap",
         "z": {
          "bdata": "AwQIAgQEAQMHAg==",
          "dtype": "i1"
         }
        }
       ],
       "layout": {
        "coloraxis": {
         "colorbar": {
          "title": {
           "text": "count"
          }
         },
         "colorscale": [
          [
           0,
           "rgb(255,245,240)"
          ],
          [
           0.125,
           "rgb(254,224,210)"
          ],
          [
           0.25,
           "rgb(252,187,161)"
          ],
          [
           0.375,
           "rgb(252,146,114)"
          ],
          [
           0.5,
           "rgb(251,106,74)"
          ],
          [
           0.625,
           "rgb(239,59,44)"
          ],
          [
           0.75,
           "rgb(203,24,29)"
          ],
          [
           0.875,
           "rgb(165,15,21)"
          ],
          [
           1,
           "rgb(103,0,13)"
          ]
         ]
        },
        "legend": {
         "tracegroupgap": 0
        },
        "map": {
         "center": {
          "lat": 37.8757,
          "lon": 23.765249999999998
         },
         "domain": {
          "x": [
           0,
           1
          ],
          "y": [
           0,
           1
          ]
         },
         "zoom": 11.5
        },
        "mapbox": {
         "center": {
          "lat": 37.8757,
          "lon": 23.765249999999998
         },
         "zoom": 11.5
        },
        "template": {
         "data": {
          "bar": [
           {
            "error_x": {
             "color": "#2a3f5f"
            },
            "error_y": {
             "color": "#2a3f5f"
            },
            "marker": {
             "line": {
              "color": "#E5ECF6",
              "width": 0.5
             },
             "pattern": {
              "fillmode": "overlay",
              "size": 10,
              "solidity": 0.2
             }
            },
            "type": "bar"
           }
          ],
          "barpolar": [
           {
            "marker": {
             "line": {
              "color": "#E5ECF6",
              "width": 0.5
             },
             "pattern": {
              "fillmode": "overlay",
              "size": 10,
              "solidity": 0.2
             }
            },
            "type": "barpolar"
           }
          ],
          "carpet": [
           {
            "aaxis": {
             "endlinecolor": "#2a3f5f",
             "gridcolor": "white",
             "linecolor": "white",
             "minorgridcolor": "white",
             "startlinecolor": "#2a3f5f"
            },
            "baxis": {
             "endlinecolor": "#2a3f5f",
             "gridcolor": "white",
             "linecolor": "white",
             "minorgridcolor": "white",
             "startlinecolor": "#2a3f5f"
            },
            "type": "carpet"
           }
          ],
          "choropleth": [
           {
            "colorbar": {
             "outlinewidth": 0,
             "ticks": ""
            },
            "type": "choropleth"
           }
          ],
          "contour": [
           {
            "colorbar": {
             "outlinewidth": 0,
             "ticks": ""
            },
            "colorscale": [
             [
              0,
              "#0d0887"
             ],
             [
              0.1111111111111111,
              "#46039f"
             ],
             [
              0.2222222222222222,
              "#7201a8"
             ],
             [
              0.3333333333333333,
              "#9c179e"
             ],
             [
              0.4444444444444444,
              "#bd3786"
             ],
             [
              0.5555555555555556,
              "#d8576b"
             ],
             [
              0.6666666666666666,
              "#ed7953"
             ],
             [
              0.7777777777777778,
              "#fb9f3a"
             ],
             [
              0.8888888888888888,
              "#fdca26"
             ],
             [
              1,
              "#f0f921"
             ]
            ],
            "type": "contour"
           }
          ],
          "contourcarpet": [
           {
            "colorbar": {
             "outlinewidth": 0,
             "ticks": ""
            },
            "type": "contourcarpet"
           }
          ],
          "heatmap": [
           {
            "colorbar": {
             "outlinewidth": 0,
             "ticks": ""
            },
            "colorscale": [
             [
              0,
              "#0d0887"
             ],
             [
              0.1111111111111111,
              "#46039f"
             ],
             [
              0.2222222222222222,
              "#7201a8"
             ],
             [
              0.3333333333333333,
              "#9c179e"
             ],
             [
              0.4444444444444444,
              "#bd3786"
             ],
             [
              0.5555555555555556,
              "#d8576b"
             ],
             [
              0.6666666666666666,
              "#ed7953"
             ],
             [
              0.7777777777777778,
              "#fb9f3a"
             ],
             [
              0.8888888888888888,
              "#fdca26"
             ],
             [
              1,
              "#f0f921"
             ]
            ],
            "type": "heatmap"
           }
          ],
          "histogram": [
           {
            "marker": {
             "pattern": {
              "fillmode": "overlay",
              "size": 10,
              "solidity": 0.2
             }
            },
            "type": "histogram"
           }
          ],
          "histogram2d": [
           {
            "colorbar": {
             "outlinewidth": 0,
             "ticks": ""
            },
            "colorscale": [
             [
              0,
              "#0d0887"
             ],
             [
              0.1111111111111111,
              "#46039f"
             ],
             [
              0.2222222222222222,
              "#7201a8"
             ],
             [
              0.3333333333333333,
              "#9c179e"
             ],
             [
              0.4444444444444444,
              "#bd3786"
             ],
             [
              0.5555555555555556,
              "#d8576b"
             ],
             [
              0.6666666666666666,
              "#ed7953"
             ],
             [
              0.7777777777777778,
              "#fb9f3a"
             ],
             [
              0.8888888888888888,
              "#fdca26"
             ],
             [
              1,
              "#f0f921"
             ]
            ],
            "type": "histogram2d"
           }
          ],
          "histogram2dcontour": [
           {
            "colorbar": {
             "outlinewidth": 0,
             "ticks": ""
            },
            "colorscale": [
             [
              0,
              "#0d0887"
             ],
             [
              0.1111111111111111,
              "#46039f"
             ],
             [
              0.2222222222222222,
              "#7201a8"
             ],
             [
              0.3333333333333333,
              "#9c179e"
             ],
             [
              0.4444444444444444,
              "#bd3786"
             ],
             [
              0.5555555555555556,
              "#d8576b"
             ],
             [
              0.6666666666666666,
              "#ed7953"
             ],
             [
              0.7777777777777778,
              "#fb9f3a"
             ],
             [
              0.8888888888888888,
              "#fdca26"
             ],
             [
              1,
              "#f0f921"
             ]
            ],
            "type": "histogram2dcontour"
           }
          ],
          "mesh3d": [
           {
            "colorbar": {
             "outlinewidth": 0,
             "ticks": ""
            },
            "type": "mesh3d"
           }
          ],
          "parcoords": [
           {
            "line": {
             "colorbar": {
              "outlinewidth": 0,
              "ticks": ""
             }
            },
            "type": "parcoords"
           }
          ],
          "pie": [
           {
            "automargin": true,
            "type": "pie"
           }
          ],
          "scatter": [
           {
            "fillpattern": {
             "fillmode": "overlay",
             "size": 10,
             "solidity": 0.2
            },
            "type": "scatter"
           }
          ],
          "scatter3d": [
           {
            "line": {
             "colorbar": {
              "outlinewidth": 0,
              "ticks": ""
             }
            },
            "marker": {
             "colorbar": {
              "outlinewidth": 0,
              "ticks": ""
             }
            },
            "type": "scatter3d"
           }
          ],
          "scattercarpet": [
           {
            "marker": {
             "colorbar": {
              "outlinewidth": 0,
              "ticks": ""
             }
            },
            "type": "scattercarpet"
           }
          ],
          "scattergeo": [
           {
            "marker": {
             "colorbar": {
              "outlinewidth": 0,
              "ticks": ""
             }
            },
            "type": "scattergeo"
           }
          ],
          "scattergl": [
           {
            "marker": {
             "colorbar": {
              "outlinewidth": 0,
              "ticks": ""
             }
            },
            "type": "scattergl"
           }
          ],
          "scattermap": [
           {
            "marker": {
             "colorbar": {
              "outlinewidth": 0,
              "ticks": ""
             }
            },
            "type": "scattermap"
           }
          ],
          "scattermapbox": [
           {
            "marker": {
             "colorbar": {
              "outlinewidth": 0,
              "ticks": ""
             }
            },
            "type": "scattermapbox"
           }
          ],
          "scatterpolar": [
           {
            "marker": {
             "colorbar": {
              "outlinewidth": 0,
              "ticks": ""
             }
            },
            "type": "scatterpolar"
           }
          ],
          "scatterpolargl": [
           {
            "marker": {
             "colorbar": {
              "outlinewidth": 0,
              "ticks": ""
             }
            },
            "type": "scatterpolargl"
           }
          ],
          "scatterternary": [
           {
            "marker": {
             "colorbar": {
              "outlinewidth": 0,
              "ticks": ""
             }
            },
            "type": "scatterternary"
           }
          ],
          "surface": [
           {
            "colorbar": {
             "outlinewidth": 0,
             "ticks": ""
            },
            "colorscale": [
             [
              0,
              "#0d0887"
             ],
             [
              0.1111111111111111,
              "#46039f"
             ],
             [
              0.2222222222222222,
              "#7201a8"
             ],
             [
              0.3333333333333333,
              "#9c179e"
             ],
             [
              0.4444444444444444,
              "#bd3786"
             ],
             [
              0.5555555555555556,
              "#d8576b"
             ],
             [
              0.6666666666666666,
              "#ed7953"
             ],
             [
              0.7777777777777778,
              "#fb9f3a"
             ],
             [
              0.8888888888888888,
              "#fdca26"
             ],
             [
              1,
              "#f0f921"
             ]
            ],
            "type": "surface"
           }
          ],
          "table": [
           {
            "cells": {
             "fill": {
              "color": "#EBF0F8"
             },
             "line": {
              "color": "white"
             }
            },
            "header": {
             "fill": {
              "color": "#C8D4E3"
             },
             "line": {
              "color": "white"
             }
            },
            "type": "table"
           }
          ]
         },
         "layout": {
          "annotationdefaults": {
           "arrowcolor": "#2a3f5f",
           "arrowhead": 0,
           "arrowwidth": 1
          },
          "autotypenumbers": "strict",
          "coloraxis": {
           "colorbar": {
            "outlinewidth": 0,
            "ticks": ""
           }
          },
          "colorscale": {
           "diverging": [
            [
             0,
             "#8e0152"
            ],
            [
             0.1,
             "#c51b7d"
            ],
            [
             0.2,
             "#de77ae"
            ],
            [
             0.3,
             "#f1b6da"
            ],
            [
             0.4,
             "#fde0ef"
            ],
            [
             0.5,
             "#f7f7f7"
            ],
            [
             0.6,
             "#e6f5d0"
            ],
            [
             0.7,
             "#b8e186"
            ],
            [
             0.8,
             "#7fbc41"
            ],
            [
             0.9,
             "#4d9221"
            ],
            [
             1,
             "#276419"
            ]
           ],
           "sequential": [
            [
             0,
             "#0d0887"
            ],
            [
             0.1111111111111111,
             "#46039f"
            ],
            [
             0.2222222222222222,
             "#7201a8"
            ],
            [
             0.3333333333333333,
             "#9c179e"
            ],
            [
             0.4444444444444444,
             "#bd3786"
            ],
            [
             0.5555555555555556,
             "#d8576b"
            ],
            [
             0.6666666666666666,
             "#ed7953"
            ],
            [
             0.7777777777777778,
             "#fb9f3a"
            ],
            [
             0.8888888888888888,
             "#fdca26"
            ],
            [
             1,
             "#f0f921"
            ]
           ],
           "sequentialminus": [
            [
             0,
             "#0d0887"
            ],
            [
             0.1111111111111111,
             "#46039f"
            ],
            [
             0.2222222222222222,
             "#7201a8"
            ],
            [
             0.3333333333333333,
             "#9c179e"
            ],
            [
             0.4444444444444444,
             "#bd3786"
            ],
            [
             0.5555555555555556,
             "#d8576b"
            ],
            [
             0.6666666666666666,
             "#ed7953"
            ],
            [
             0.7777777777777778,
             "#fb9f3a"
            ],
            [
             0.8888888888888888,
             "#fdca26"
            ],
            [
             1,
             "#f0f921"
            ]
           ]
          },
          "colorway": [
           "#636efa",
           "#EF553B",
           "#00cc96",
           "#ab63fa",
           "#FFA15A",
           "#19d3f3",
           "#FF6692",
           "#B6E880",
           "#FF97FF",
           "#FECB52"
          ],
          "font": {
           "color": "#2a3f5f"
          },
          "geo": {
           "bgcolor": "white",
           "lakecolor": "white",
           "landcolor": "#E5ECF6",
           "showlakes": true,
           "showland": true,
           "subunitcolor": "white"
          },
          "hoverlabel": {
           "align": "left"
          },
          "hovermode": "closest",
          "mapbox": {
           "style": "light"
          },
          "paper_bgcolor": "white",
          "plot_bgcolor": "#E5ECF6",
          "polar": {
           "angularaxis": {
            "gridcolor": "white",
            "linecolor": "white",
            "ticks": ""
           },
           "bgcolor": "#E5ECF6",
           "radialaxis": {
            "gridcolor": "white",
            "linecolor": "white",
            "ticks": ""
           }
          },
          "scene": {
           "xaxis": {
            "backgroundcolor": "#E5ECF6",
            "gridcolor": "white",
            "gridwidth": 2,
            "linecolor": "white",
            "showbackground": true,
            "ticks": "",
            "zerolinecolor": "white"
           },
           "yaxis": {
            "backgroundcolor": "#E5ECF6",
            "gridcolor": "white",
            "gridwidth": 2,
            "linecolor": "white",
            "showbackground": true,
            "ticks": "",
            "zerolinecolor": "white"
           },
           "zaxis": {
            "backgroundcolor": "#E5ECF6",
            "gridcolor": "white",
            "gridwidth": 2,
            "linecolor": "white",
            "showbackground": true,
            "ticks": "",
            "zerolinecolor": "white"
           }
          },
          "shapedefaults": {
           "line": {
            "color": "#2a3f5f"
           }
          },
          "ternary": {
           "aaxis": {
            "gridcolor": "white",
            "linecolor": "white",
            "ticks": ""
           },
           "baxis": {
            "gridcolor": "white",
            "linecolor": "white",
            "ticks": ""
           },
           "bgcolor": "#E5ECF6",
           "caxis": {
            "gridcolor": "white",
            "linecolor": "white",
            "ticks": ""
           }
          },
          "title": {
           "x": 0.05
          },
          "xaxis": {
           "automargin": true,
           "gridcolor": "white",
           "linecolor": "white",
           "ticks": "",
           "title": {
            "standoff": 15
           },
           "zerolinecolor": "white",
           "zerolinewidth": 2
          },
          "yaxis": {
           "automargin": true,
           "gridcolor": "white",
           "linecolor": "white",
           "ticks": "",
           "title": {
            "standoff": 15
           },
           "zerolinecolor": "white",
           "zerolinewidth": 2
          }
         }
        },
        "title": {
         "text": "Concentration of cafes"
        }
       }
      }
     },
     "metadata": {},
     "output_type": "display_data"
    }
   ],
   "source": [
    "counts = gpd.sjoin(cells, cafes, predicate='contains').groupby(['h3id', 'geometry'], as_index=False)['index_right'].count()\n",
    "counts = counts.rename(columns={'index_right':'count'})\n",
    "counts = gpd.GeoDataFrame(counts) # groupby casts to pd.DataFrame\n",
    "px.choropleth_map(counts, geojson=counts.geometry, locations=counts.index,\n",
    "                  color='count', color_continuous_scale=px.colors.sequential.Reds,\n",
    "                  center={'lat': sbbox.centroid.y, 'lon': sbbox.centroid.x}, zoom=11.5,\n",
    "                  title='Concentration of cafes (H3 cells)')"
   ]
  }
 ],
 "metadata": {
  "kernelspec": {
   "display_name": "python-meetup",
   "language": "python",
   "name": "python3"
  },
  "language_info": {
   "codemirror_mode": {
    "name": "ipython",
    "version": 3
   },
   "file_extension": ".py",
   "mimetype": "text/x-python",
   "name": "python",
   "nbconvert_exporter": "python",
   "pygments_lexer": "ipython3",
   "version": "3.11.11"
  }
 },
 "nbformat": 4,
 "nbformat_minor": 5
}
