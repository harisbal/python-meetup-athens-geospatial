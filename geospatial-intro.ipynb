{
 "cells": [
  {
   "cell_type": "code",
   "execution_count": 1,
   "metadata": {},
   "outputs": [],
   "source": [
    "import os\n",
    "import logging\n",
    "import pickle\n",
    "import osmnx as ox\n",
    "import numpy as np\n",
    "import geopandas as gpd\n",
    "import h3\n",
    "import shapely\n",
    "import requests\n",
    "from tqdm.notebook import tqdm\n",
    "from pyproj import Transformer\n",
    "from shapely.ops import linemerge\n",
    "from shapely import Polygon\n",
    "from pyogrio.errors import DataSourceError\n",
    "import plotly.express as px\n",
    "\n",
    "ox.settings.cache_folder = './data'"
   ]
  },
  {
   "cell_type": "markdown",
   "id": "43e41d00",
   "metadata": {},
   "source": [
    "## functions"
   ]
  },
  {
   "cell_type": "code",
   "execution_count": 2,
   "id": "81254b01",
   "metadata": {},
   "outputs": [],
   "source": [
    "def fetch_google_places(categories:list[str], lon:float, lat:float, radius:float, apikey:str):\n",
    "    \n",
    "    headers = {\n",
    "        \"Content-Type\": \"application/json\",\n",
    "        \"X-Goog-Api-Key\": apikey,\n",
    "        \"X-Goog-FieldMask\": \"places.id,places.displayName,places.location,places.businessStatus,places.formattedAddress,places.primaryTypeDisplayName,places.primaryType\",\n",
    "    }\n",
    "    url = \"https://places.googleapis.com/v1/places:searchNearby\"\n",
    "\n",
    "    data = {\n",
    "            \"includedTypes\": categories,\n",
    "            \"maxResultCount\": 20,\n",
    "            \"locationRestriction\": {\n",
    "                \"circle\": {\n",
    "                    \"center\": {\"latitude\": lat, \"longitude\": lon},\n",
    "                    \"radius\": radius,\n",
    "                }\n",
    "            },\n",
    "        }\n",
    "    \n",
    "    r = requests.post(url, headers=headers, json=data)\n",
    "    if r.status_code != 200:\n",
    "        logging.warning(f\"error at request: {r.request}\")\n",
    "        return\n",
    "\n",
    "    data = r.json().get('places', [])\n",
    "    if not data:\n",
    "        return data\n",
    "\n",
    "    if len(data) >= 20:\n",
    "        logging.warning(f'query at lon:{lon}, lat:{lat} returned 20+ results')\n",
    "    \n",
    "    for r in data:\n",
    "        r['name'] = r['displayName']['text']\n",
    "        r['geometry'] = shapely.Point(r['location']['longitude'], r['location']['latitude'])\n",
    "\n",
    "    return data\n",
    "\n"
   ]
  },
  {
   "cell_type": "code",
   "execution_count": 3,
   "id": "12e3d402",
   "metadata": {},
   "outputs": [],
   "source": [
    "def h3cell_to_shapely(cell):\n",
    "    coords = h3.cell_to_boundary(cell)\n",
    "    flipped = tuple(coord[::-1] for coord in coords)\n",
    "    return Polygon(flipped)"
   ]
  },
  {
   "cell_type": "markdown",
   "id": "6abff99b",
   "metadata": {},
   "source": [
    "## inputs"
   ]
  },
  {
   "cell_type": "code",
   "execution_count": 4,
   "id": "b5b68b9b",
   "metadata": {},
   "outputs": [],
   "source": [
    "apikey = os.getenv(\"GOOGLE_API_KEY\")\n",
    "radius = 200\n",
    "step = 100\n",
    "buffer = 30\n",
    "categories = ['cafe', 'bakery']\n",
    "map_style = \"open-street-map\""
   ]
  },
  {
   "cell_type": "markdown",
   "id": "3984f0da",
   "metadata": {},
   "source": [
    "# Geospatial Analysis"
   ]
  },
  {
   "cell_type": "markdown",
   "id": "9cea7577",
   "metadata": {},
   "source": [
    "## download network (roads)"
   ]
  },
  {
   "cell_type": "code",
   "execution_count": 5,
   "id": "670aab51",
   "metadata": {},
   "outputs": [],
   "source": [
    "bbox = [23.7576, 37.8524, 23.7729, 37.899]\n",
    "g = ox.graph_from_bbox(bbox) # we can modify filters\n",
    "nodes, links = ox.graph_to_gdfs(g)"
   ]
  },
  {
   "cell_type": "markdown",
   "id": "f766010a",
   "metadata": {},
   "source": [
    "## create the linestring geometry"
   ]
  },
  {
   "cell_type": "code",
   "execution_count": 6,
   "id": "6d0208c6",
   "metadata": {},
   "outputs": [],
   "source": [
    "road = links[links['name'] == 'Δημητρίου Γούναρη']\n",
    "crs = road.estimate_utm_crs()\n",
    "geom_proj = road.to_crs(crs).union_all()\n",
    "geoms_proj = gpd.GeoDataFrame(geometry=[linemerge(geom_proj)]).explode()\n",
    "geoms_proj['length'] = geoms_proj.length\n",
    "geom_proj = geoms_proj.sort_values(['length'], ascending=False).iloc[0].geometry\n",
    "road_buffered = road.to_crs(crs).buffer(buffer).to_crs(epsg=4326).union_all()"
   ]
  },
  {
   "cell_type": "code",
   "execution_count": null,
   "id": "19944263",
   "metadata": {},
   "outputs": [
    {
     "data": {
      "application/vnd.jupyter.widget-view+json": {
       "model_id": "d3dad76ae9404303bd9ce09265f42aef",
       "version_major": 2,
       "version_minor": 0
      },
      "text/plain": [
       "  0%|          | 0/48 [00:00<?, ?it/s]"
      ]
     },
     "metadata": {},
     "output_type": "display_data"
    }
   ],
   "source": [
    "fp = './data/cafes.gpkg'\n",
    "length = geom_proj.length\n",
    "\n",
    "try:\n",
    "    gdf = gpd.read_file(fp)\n",
    "except DataSourceError:\n",
    "    places = []\n",
    "    transformer = Transformer.from_crs(crs, \"EPSG:4326\", always_xy=True)\n",
    "    for distance in tqdm(np.arange(0, length, step)):\n",
    "        p = shapely.line_interpolate_point(geom_proj, distance) # type:ignore\n",
    "        p = transformer.transform(p.x, p.y)\n",
    "        p = shapely.Point(p[0], p[1])\n",
    "        r = fetch_google_places(categories, p.x, p.y, radius, apikey)\n",
    "        if r is not None:\n",
    "            places.extend(r)\n",
    "\n",
    "    with open('./data/places.pkl', 'wb') as f:\n",
    "        pickle.dump(places, f)\n",
    "    \n",
    "    gdf = gpd.GeoDataFrame(places, crs='epsg:4326').drop_duplicates(subset=['id'])\n",
    "    gdf.to_file(fp)    "
   ]
  },
  {
   "cell_type": "code",
   "execution_count": 14,
   "id": "ffd19a4b",
   "metadata": {},
   "outputs": [
    {
     "data": {
      "text/html": [
       "<div>\n",
       "<style scoped>\n",
       "    .dataframe tbody tr th:only-of-type {\n",
       "        vertical-align: middle;\n",
       "    }\n",
       "\n",
       "    .dataframe tbody tr th {\n",
       "        vertical-align: top;\n",
       "    }\n",
       "\n",
       "    .dataframe thead th {\n",
       "        text-align: right;\n",
       "    }\n",
       "</style>\n",
       "<table border=\"1\" class=\"dataframe\">\n",
       "  <thead>\n",
       "    <tr style=\"text-align: right;\">\n",
       "      <th></th>\n",
       "      <th>id</th>\n",
       "      <th>formattedAddress</th>\n",
       "      <th>location</th>\n",
       "      <th>businessStatus</th>\n",
       "      <th>displayName</th>\n",
       "      <th>primaryTypeDisplayName</th>\n",
       "      <th>primaryType</th>\n",
       "      <th>name</th>\n",
       "      <th>geometry</th>\n",
       "      <th>inbuffer</th>\n",
       "    </tr>\n",
       "  </thead>\n",
       "  <tbody>\n",
       "    <tr>\n",
       "      <th>1</th>\n",
       "      <td>ChIJgcEWYU6_oRQR-cd2bf6di68</td>\n",
       "      <td>Attikis 1, Glifada 165 62, Greece</td>\n",
       "      <td>{'latitude': 37.894874, 'longitude': 23.761325...</td>\n",
       "      <td>OPERATIONAL</td>\n",
       "      <td>{'text': 'coffee berry - Άνω Γλυφάδα', 'langua...</td>\n",
       "      <td>{'text': 'Coffee Shop', 'languageCode': 'en-US'}</td>\n",
       "      <td>coffee_shop</td>\n",
       "      <td>coffee berry - Άνω Γλυφάδα</td>\n",
       "      <td>POINT (23.76133 37.89487)</td>\n",
       "      <td>True</td>\n",
       "    </tr>\n",
       "    <tr>\n",
       "      <th>2</th>\n",
       "      <td>ChIJgSMfxKu_oRQRDDje9yAhZfM</td>\n",
       "      <td>Dim. Gounari 24, Elliniko 167 77, Greece</td>\n",
       "      <td>{'latitude': 37.893558399999996, 'longitude': ...</td>\n",
       "      <td>OPERATIONAL</td>\n",
       "      <td>{'text': 'ROSEWOOD COFFEE HOUSE', 'languageCod...</td>\n",
       "      <td>{'text': 'Coffee Shop', 'languageCode': 'en-US'}</td>\n",
       "      <td>coffee_shop</td>\n",
       "      <td>ROSEWOOD COFFEE HOUSE</td>\n",
       "      <td>POINT (23.76089 37.89356)</td>\n",
       "      <td>True</td>\n",
       "    </tr>\n",
       "  </tbody>\n",
       "</table>\n",
       "</div>"
      ],
      "text/plain": [
       "                            id                          formattedAddress  \\\n",
       "1  ChIJgcEWYU6_oRQR-cd2bf6di68         Attikis 1, Glifada 165 62, Greece   \n",
       "2  ChIJgSMfxKu_oRQRDDje9yAhZfM  Dim. Gounari 24, Elliniko 167 77, Greece   \n",
       "\n",
       "                                            location businessStatus  \\\n",
       "1  {'latitude': 37.894874, 'longitude': 23.761325...    OPERATIONAL   \n",
       "2  {'latitude': 37.893558399999996, 'longitude': ...    OPERATIONAL   \n",
       "\n",
       "                                         displayName  \\\n",
       "1  {'text': 'coffee berry - Άνω Γλυφάδα', 'langua...   \n",
       "2  {'text': 'ROSEWOOD COFFEE HOUSE', 'languageCod...   \n",
       "\n",
       "                             primaryTypeDisplayName  primaryType  \\\n",
       "1  {'text': 'Coffee Shop', 'languageCode': 'en-US'}  coffee_shop   \n",
       "2  {'text': 'Coffee Shop', 'languageCode': 'en-US'}  coffee_shop   \n",
       "\n",
       "                         name                   geometry  inbuffer  \n",
       "1  coffee berry - Άνω Γλυφάδα  POINT (23.76133 37.89487)      True  \n",
       "2       ROSEWOOD COFFEE HOUSE  POINT (23.76089 37.89356)      True  "
      ]
     },
     "execution_count": 14,
     "metadata": {},
     "output_type": "execute_result"
    }
   ],
   "source": [
    "gdf['inbuffer'] = gdf.intersects(road_buffered) # keep cafes up to 30 meters from the road (inside the buffer)\n",
    "cafes = gdf[gdf['inbuffer']]\n",
    "cafes.head(2)"
   ]
  },
  {
   "cell_type": "markdown",
   "id": "8b9b2b74",
   "metadata": {},
   "source": [
    "## stats / visuals"
   ]
  },
  {
   "cell_type": "code",
   "execution_count": 15,
   "id": "f76e2903",
   "metadata": {},
   "outputs": [
    {
     "data": {
      "application/vnd.plotly.v1+json": {
       "config": {
        "plotlyServerURL": "https://plot.ly"
       },
       "data": [
        {
         "hovertemplate": "<b>%{hovertext}</b><br><br>inbuffer=False<br>name=%{text}<br>lat=%{lat}<br>lon=%{lon}<extra></extra>",
         "hovertext": [
          "High Hope Specialty Coffee",
          "Nanou Donuts House Άνω Γλυφάδα - Τερψιθέα",
          "Langano Espresso Bar Γλυφάδα",
          "\"Η Αράχωβα\" Αρτοποιείο - Ζαχαροπλαστική",
          "Odos_platwnos Πολυχώρος - Φουαγιέ odos_platwnos - Rose pepper art and clothing",
          "Bits and Bytes Internet Cafe",
          "franceska",
          "LA MERISE",
          "Le Café",
          "DOTTS",
          "COFFEE TERRA",
          "NANOU DONUTS ΓΛΥΦΑΔΑ",
          "ΑΡΤΟΠΟΙΪΑ- ΖΑΧΑΡΟΠΛΑΣΤΙΚΗ \"ΔΗΜΟΣ ΗΛΙΑΣ\"",
          "Antheon Pies Snacks Coffee",
          "Nεις κόσμος σαρκοδινου 43",
          "F ziakas",
          "ΦΟΥΡΝΟΣ ΒΕΝΕΤΗ 1948 - ΑΙΞΩΝΗ",
          "GKLIATIS DIMITRIOS"
         ],
         "lat": {
          "bdata": "uIHxwozyQkDck9ESdfJCQIUY+QZw8kJAAD7TpkXyQkDkw0cfTvJCQDMeAMwQ8kJAFPqqpjXyQkCMlxNZEPJCQBk/6DRm8UJASzs1lxvxQkDjTulg/fBCQAWwt4PH70JAf2YQH9jvQkB2vwrw3e9CQDCFYoYh70JA/L4kOnDuQkCYIgp3eO1CQOfFia927UJA",
          "dtype": "f8"
         },
         "legendgroup": "False",
         "lon": {
          "bdata": "VnAutCnDN0AIZGXqZMM3QM0XIHZLwzdAaPf1jfnCN0D4xmu5jsI3QJDpGneUwjdABbNTvUbCN0CtBEE2f8I3QPmy/uCNwjdAktyroLPCN0CFpjaCnsM3QG6Rao5iwzdAGeHtQQjEN0D5eZ0eJcQ3QGjeuxepwzdALfu/NFbEN0D0zld/OsQ3QPdfQmBAxDdA",
          "dtype": "f8"
         },
         "marker": {
          "color": "#636efa"
         },
         "mode": "markers+text",
         "name": "False",
         "showlegend": true,
         "subplot": "map",
         "text": [
          "High Hope Specialty Coffee",
          "Nanou Donuts House Άνω Γλυφάδα - Τερψιθέα",
          "Langano Espresso Bar Γλυφάδα",
          "\"Η Αράχωβα\" Αρτοποιείο - Ζαχαροπλαστική",
          "Odos_platwnos Πολυχώρος - Φουαγιέ odos_platwnos - Rose pepper art and clothing",
          "Bits and Bytes Internet Cafe",
          "franceska",
          "LA MERISE",
          "Le Café",
          "DOTTS",
          "COFFEE TERRA",
          "NANOU DONUTS ΓΛΥΦΑΔΑ",
          "ΑΡΤΟΠΟΙΪΑ- ΖΑΧΑΡΟΠΛΑΣΤΙΚΗ \"ΔΗΜΟΣ ΗΛΙΑΣ\"",
          "Antheon Pies Snacks Coffee",
          "Nεις κόσμος σαρκοδινου 43",
          "F ziakas",
          "ΦΟΥΡΝΟΣ ΒΕΝΕΤΗ 1948 - ΑΙΞΩΝΗ",
          "GKLIATIS DIMITRIOS"
         ],
         "type": "scattermap"
        },
        {
         "hovertemplate": "<b>%{hovertext}</b><br><br>inbuffer=True<br>name=%{text}<br>lat=%{lat}<br>lon=%{lon}<extra></extra>",
         "hovertext": [
          "coffee berry - Άνω Γλυφάδα",
          "ROSEWOOD COFFEE HOUSE",
          "Krokkidas Angelos",
          "Jerry’s Your Tasty Stop!",
          "Gregory's",
          "Renieris Bakery",
          "Coffee Academy",
          "Coffee King",
          "Κουλουραδες Ανω Γλυφάδα",
          "Αρτοποιεια Κωτσης",
          "BLACK SUGAR",
          "Coffee Culture",
          "Viel coffee",
          "Max Perry - Handmade Chocolates",
          "MILKA",
          "Coffee Island",
          "Shell",
          "COZY CUP cafe",
          "BLYSSCAFE Glyfada",
          "ΛΟΚΑΛ (local) Γλυφάδα",
          "Mikel Coffee",
          "Crescenses Viennoiserie",
          "Cafe ΚΑΛΗΜΕΡΑ",
          "Peachy Glyfada",
          "Four Coffee",
          "ΦΟΥΡΝΟΣ ΒΕΝΕΤΗ FOOD HALL | Άνω Γλυφάδα",
          "Sovolos Pastry Shop",
          "Il Toto Άνω Γλυφάδα",
          "Coffee Berry - Άνω Γλυφάδα",
          "Gregory's",
          "Elite Stevia",
          "Sweet coffee",
          "Imagine",
          "Azel Coffee Bar",
          "Kotsis, Dimitrios, - Apostolos Apostolidis O.E.",
          "The Sparrow Nuts & Coffee",
          "EPIC Coffee & More",
          "Coffee Lab"
         ],
         "lat": {
          "bdata": "NgUyO4vyQkB1iCQfYPJCQJQ1RduM8kJAqYO8HkzyQkC4CVKEL/JCQDxYtVoW8kJA8yxScpjxQkDQIKqVrvFCQO1W4HVH8UJA1Aiik0rxQkCLdQU2QvFCQHqGFRNA8UJASnIKPEHxQkDe0bXlEvFCQGG5Shwe8UJAvGNnwA/xQkAd6tIa3vBCQGDNXDus8EJA9hDop5PwQkD1UmeklPBCQMrVNJR/8EJA+CKQAY/wQkBI5uz4ivBCQI2CO6tg8EJAjYI7q2DwQkDbdSW4R/BCQFyLu+b670JAElz2NdzvQkACh6te2e9CQMd0MoLX70JA8N6sHLXvQkBAUMmUau9CQK+UZYhj70JAG1YCcz7vQkDZ5zHKM+9CQO3S0FDt7kJAgPEMGvruQkCkwW1t4e5CQA==",
          "dtype": "f8"
         },
         "legendgroup": "True",
         "lon": {
          "bdata": "455TNebCN0DaPj/nycI3QJcP90fOwjdA60Gc4szCN0CR9pp5zcI3QGSnxBrTwjdAq0Wf6uvCN0Ao7niT38I3QHYRS28kwzdAj91P1yTDN0BtXovMEsM3QD7GgfwRwzdARBMoYhHDN0Aw/myaLcM3QN4Lgn0qwzdA/QXMjTPDN0DqLdRQWcM3QOkCA61lwzdAWVZQB2jDN0AEhlG1gsM3QPGMbJ1uwzdAHZSLjGnDN0DDFECMa8M3QEPHDipxwzdAQ8cOKnHDN0DZOXJJesM3QA1YchWLwzdA62ksBrTDN0DUBze+m8M3QMqUxbO6wzdAVgM5zafDN0BJJMCf0MM3QGvP0U/dwzdAh7VCohrEN0AenzXkRMQ3QLF/Q02ZxDdA2z0vy43EN0AoKbAApsQ3QA==",
          "dtype": "f8"
         },
         "marker": {
          "color": "#EF553B"
         },
         "mode": "markers+text",
         "name": "True",
         "showlegend": true,
         "subplot": "map",
         "text": [
          "coffee berry - Άνω Γλυφάδα",
          "ROSEWOOD COFFEE HOUSE",
          "Krokkidas Angelos",
          "Jerry’s Your Tasty Stop!",
          "Gregory's",
          "Renieris Bakery",
          "Coffee Academy",
          "Coffee King",
          "Κουλουραδες Ανω Γλυφάδα",
          "Αρτοποιεια Κωτσης",
          "BLACK SUGAR",
          "Coffee Culture",
          "Viel coffee",
          "Max Perry - Handmade Chocolates",
          "MILKA",
          "Coffee Island",
          "Shell",
          "COZY CUP cafe",
          "BLYSSCAFE Glyfada",
          "ΛΟΚΑΛ (local) Γλυφάδα",
          "Mikel Coffee",
          "Crescenses Viennoiserie",
          "Cafe ΚΑΛΗΜΕΡΑ",
          "Peachy Glyfada",
          "Four Coffee",
          "ΦΟΥΡΝΟΣ ΒΕΝΕΤΗ FOOD HALL | Άνω Γλυφάδα",
          "Sovolos Pastry Shop",
          "Il Toto Άνω Γλυφάδα",
          "Coffee Berry - Άνω Γλυφάδα",
          "Gregory's",
          "Elite Stevia",
          "Sweet coffee",
          "Imagine",
          "Azel Coffee Bar",
          "Kotsis, Dimitrios, - Apostolos Apostolidis O.E.",
          "The Sparrow Nuts & Coffee",
          "EPIC Coffee & More",
          "Coffee Lab"
         ],
         "type": "scattermap"
        }
       ],
       "layout": {
        "legend": {
         "title": {
          "text": "inbuffer"
         },
         "tracegroupgap": 0
        },
        "map": {
         "center": {
          "lat": 37.88049162857143,
          "lon": 23.76323899107143
         },
         "domain": {
          "x": [
           0,
           1
          ],
          "y": [
           0,
           1
          ]
         },
         "style": "open-street-map",
         "zoom": 12
        },
        "mapbox": {
         "center": {
          "lat": 37.88049162857143,
          "lon": 23.76323899107143
         },
         "style": "open-street-map",
         "zoom": 12
        },
        "margin": {
         "t": 60
        },
        "template": {
         "data": {
          "bar": [
           {
            "error_x": {
             "color": "#2a3f5f"
            },
            "error_y": {
             "color": "#2a3f5f"
            },
            "marker": {
             "line": {
              "color": "#E5ECF6",
              "width": 0.5
             },
             "pattern": {
              "fillmode": "overlay",
              "size": 10,
              "solidity": 0.2
             }
            },
            "type": "bar"
           }
          ],
          "barpolar": [
           {
            "marker": {
             "line": {
              "color": "#E5ECF6",
              "width": 0.5
             },
             "pattern": {
              "fillmode": "overlay",
              "size": 10,
              "solidity": 0.2
             }
            },
            "type": "barpolar"
           }
          ],
          "carpet": [
           {
            "aaxis": {
             "endlinecolor": "#2a3f5f",
             "gridcolor": "white",
             "linecolor": "white",
             "minorgridcolor": "white",
             "startlinecolor": "#2a3f5f"
            },
            "baxis": {
             "endlinecolor": "#2a3f5f",
             "gridcolor": "white",
             "linecolor": "white",
             "minorgridcolor": "white",
             "startlinecolor": "#2a3f5f"
            },
            "type": "carpet"
           }
          ],
          "choropleth": [
           {
            "colorbar": {
             "outlinewidth": 0,
             "ticks": ""
            },
            "type": "choropleth"
           }
          ],
          "contour": [
           {
            "colorbar": {
             "outlinewidth": 0,
             "ticks": ""
            },
            "colorscale": [
             [
              0,
              "#0d0887"
             ],
             [
              0.1111111111111111,
              "#46039f"
             ],
             [
              0.2222222222222222,
              "#7201a8"
             ],
             [
              0.3333333333333333,
              "#9c179e"
             ],
             [
              0.4444444444444444,
              "#bd3786"
             ],
             [
              0.5555555555555556,
              "#d8576b"
             ],
             [
              0.6666666666666666,
              "#ed7953"
             ],
             [
              0.7777777777777778,
              "#fb9f3a"
             ],
             [
              0.8888888888888888,
              "#fdca26"
             ],
             [
              1,
              "#f0f921"
             ]
            ],
            "type": "contour"
           }
          ],
          "contourcarpet": [
           {
            "colorbar": {
             "outlinewidth": 0,
             "ticks": ""
            },
            "type": "contourcarpet"
           }
          ],
          "heatmap": [
           {
            "colorbar": {
             "outlinewidth": 0,
             "ticks": ""
            },
            "colorscale": [
             [
              0,
              "#0d0887"
             ],
             [
              0.1111111111111111,
              "#46039f"
             ],
             [
              0.2222222222222222,
              "#7201a8"
             ],
             [
              0.3333333333333333,
              "#9c179e"
             ],
             [
              0.4444444444444444,
              "#bd3786"
             ],
             [
              0.5555555555555556,
              "#d8576b"
             ],
             [
              0.6666666666666666,
              "#ed7953"
             ],
             [
              0.7777777777777778,
              "#fb9f3a"
             ],
             [
              0.8888888888888888,
              "#fdca26"
             ],
             [
              1,
              "#f0f921"
             ]
            ],
            "type": "heatmap"
           }
          ],
          "histogram": [
           {
            "marker": {
             "pattern": {
              "fillmode": "overlay",
              "size": 10,
              "solidity": 0.2
             }
            },
            "type": "histogram"
           }
          ],
          "histogram2d": [
           {
            "colorbar": {
             "outlinewidth": 0,
             "ticks": ""
            },
            "colorscale": [
             [
              0,
              "#0d0887"
             ],
             [
              0.1111111111111111,
              "#46039f"
             ],
             [
              0.2222222222222222,
              "#7201a8"
             ],
             [
              0.3333333333333333,
              "#9c179e"
             ],
             [
              0.4444444444444444,
              "#bd3786"
             ],
             [
              0.5555555555555556,
              "#d8576b"
             ],
             [
              0.6666666666666666,
              "#ed7953"
             ],
             [
              0.7777777777777778,
              "#fb9f3a"
             ],
             [
              0.8888888888888888,
              "#fdca26"
             ],
             [
              1,
              "#f0f921"
             ]
            ],
            "type": "histogram2d"
           }
          ],
          "histogram2dcontour": [
           {
            "colorbar": {
             "outlinewidth": 0,
             "ticks": ""
            },
            "colorscale": [
             [
              0,
              "#0d0887"
             ],
             [
              0.1111111111111111,
              "#46039f"
             ],
             [
              0.2222222222222222,
              "#7201a8"
             ],
             [
              0.3333333333333333,
              "#9c179e"
             ],
             [
              0.4444444444444444,
              "#bd3786"
             ],
             [
              0.5555555555555556,
              "#d8576b"
             ],
             [
              0.6666666666666666,
              "#ed7953"
             ],
             [
              0.7777777777777778,
              "#fb9f3a"
             ],
             [
              0.8888888888888888,
              "#fdca26"
             ],
             [
              1,
              "#f0f921"
             ]
            ],
            "type": "histogram2dcontour"
           }
          ],
          "mesh3d": [
           {
            "colorbar": {
             "outlinewidth": 0,
             "ticks": ""
            },
            "type": "mesh3d"
           }
          ],
          "parcoords": [
           {
            "line": {
             "colorbar": {
              "outlinewidth": 0,
              "ticks": ""
             }
            },
            "type": "parcoords"
           }
          ],
          "pie": [
           {
            "automargin": true,
            "type": "pie"
           }
          ],
          "scatter": [
           {
            "fillpattern": {
             "fillmode": "overlay",
             "size": 10,
             "solidity": 0.2
            },
            "type": "scatter"
           }
          ],
          "scatter3d": [
           {
            "line": {
             "colorbar": {
              "outlinewidth": 0,
              "ticks": ""
             }
            },
            "marker": {
             "colorbar": {
              "outlinewidth": 0,
              "ticks": ""
             }
            },
            "type": "scatter3d"
           }
          ],
          "scattercarpet": [
           {
            "marker": {
             "colorbar": {
              "outlinewidth": 0,
              "ticks": ""
             }
            },
            "type": "scattercarpet"
           }
          ],
          "scattergeo": [
           {
            "marker": {
             "colorbar": {
              "outlinewidth": 0,
              "ticks": ""
             }
            },
            "type": "scattergeo"
           }
          ],
          "scattergl": [
           {
            "marker": {
             "colorbar": {
              "outlinewidth": 0,
              "ticks": ""
             }
            },
            "type": "scattergl"
           }
          ],
          "scattermap": [
           {
            "marker": {
             "colorbar": {
              "outlinewidth": 0,
              "ticks": ""
             }
            },
            "type": "scattermap"
           }
          ],
          "scattermapbox": [
           {
            "marker": {
             "colorbar": {
              "outlinewidth": 0,
              "ticks": ""
             }
            },
            "type": "scattermapbox"
           }
          ],
          "scatterpolar": [
           {
            "marker": {
             "colorbar": {
              "outlinewidth": 0,
              "ticks": ""
             }
            },
            "type": "scatterpolar"
           }
          ],
          "scatterpolargl": [
           {
            "marker": {
             "colorbar": {
              "outlinewidth": 0,
              "ticks": ""
             }
            },
            "type": "scatterpolargl"
           }
          ],
          "scatterternary": [
           {
            "marker": {
             "colorbar": {
              "outlinewidth": 0,
              "ticks": ""
             }
            },
            "type": "scatterternary"
           }
          ],
          "surface": [
           {
            "colorbar": {
             "outlinewidth": 0,
             "ticks": ""
            },
            "colorscale": [
             [
              0,
              "#0d0887"
             ],
             [
              0.1111111111111111,
              "#46039f"
             ],
             [
              0.2222222222222222,
              "#7201a8"
             ],
             [
              0.3333333333333333,
              "#9c179e"
             ],
             [
              0.4444444444444444,
              "#bd3786"
             ],
             [
              0.5555555555555556,
              "#d8576b"
             ],
             [
              0.6666666666666666,
              "#ed7953"
             ],
             [
              0.7777777777777778,
              "#fb9f3a"
             ],
             [
              0.8888888888888888,
              "#fdca26"
             ],
             [
              1,
              "#f0f921"
             ]
            ],
            "type": "surface"
           }
          ],
          "table": [
           {
            "cells": {
             "fill": {
              "color": "#EBF0F8"
             },
             "line": {
              "color": "white"
             }
            },
            "header": {
             "fill": {
              "color": "#C8D4E3"
             },
             "line": {
              "color": "white"
             }
            },
            "type": "table"
           }
          ]
         },
         "layout": {
          "annotationdefaults": {
           "arrowcolor": "#2a3f5f",
           "arrowhead": 0,
           "arrowwidth": 1
          },
          "autotypenumbers": "strict",
          "coloraxis": {
           "colorbar": {
            "outlinewidth": 0,
            "ticks": ""
           }
          },
          "colorscale": {
           "diverging": [
            [
             0,
             "#8e0152"
            ],
            [
             0.1,
             "#c51b7d"
            ],
            [
             0.2,
             "#de77ae"
            ],
            [
             0.3,
             "#f1b6da"
            ],
            [
             0.4,
             "#fde0ef"
            ],
            [
             0.5,
             "#f7f7f7"
            ],
            [
             0.6,
             "#e6f5d0"
            ],
            [
             0.7,
             "#b8e186"
            ],
            [
             0.8,
             "#7fbc41"
            ],
            [
             0.9,
             "#4d9221"
            ],
            [
             1,
             "#276419"
            ]
           ],
           "sequential": [
            [
             0,
             "#0d0887"
            ],
            [
             0.1111111111111111,
             "#46039f"
            ],
            [
             0.2222222222222222,
             "#7201a8"
            ],
            [
             0.3333333333333333,
             "#9c179e"
            ],
            [
             0.4444444444444444,
             "#bd3786"
            ],
            [
             0.5555555555555556,
             "#d8576b"
            ],
            [
             0.6666666666666666,
             "#ed7953"
            ],
            [
             0.7777777777777778,
             "#fb9f3a"
            ],
            [
             0.8888888888888888,
             "#fdca26"
            ],
            [
             1,
             "#f0f921"
            ]
           ],
           "sequentialminus": [
            [
             0,
             "#0d0887"
            ],
            [
             0.1111111111111111,
             "#46039f"
            ],
            [
             0.2222222222222222,
             "#7201a8"
            ],
            [
             0.3333333333333333,
             "#9c179e"
            ],
            [
             0.4444444444444444,
             "#bd3786"
            ],
            [
             0.5555555555555556,
             "#d8576b"
            ],
            [
             0.6666666666666666,
             "#ed7953"
            ],
            [
             0.7777777777777778,
             "#fb9f3a"
            ],
            [
             0.8888888888888888,
             "#fdca26"
            ],
            [
             1,
             "#f0f921"
            ]
           ]
          },
          "colorway": [
           "#636efa",
           "#EF553B",
           "#00cc96",
           "#ab63fa",
           "#FFA15A",
           "#19d3f3",
           "#FF6692",
           "#B6E880",
           "#FF97FF",
           "#FECB52"
          ],
          "font": {
           "color": "#2a3f5f"
          },
          "geo": {
           "bgcolor": "white",
           "lakecolor": "white",
           "landcolor": "#E5ECF6",
           "showlakes": true,
           "showland": true,
           "subunitcolor": "white"
          },
          "hoverlabel": {
           "align": "left"
          },
          "hovermode": "closest",
          "mapbox": {
           "style": "light"
          },
          "paper_bgcolor": "white",
          "plot_bgcolor": "#E5ECF6",
          "polar": {
           "angularaxis": {
            "gridcolor": "white",
            "linecolor": "white",
            "ticks": ""
           },
           "bgcolor": "#E5ECF6",
           "radialaxis": {
            "gridcolor": "white",
            "linecolor": "white",
            "ticks": ""
           }
          },
          "scene": {
           "xaxis": {
            "backgroundcolor": "#E5ECF6",
            "gridcolor": "white",
            "gridwidth": 2,
            "linecolor": "white",
            "showbackground": true,
            "ticks": "",
            "zerolinecolor": "white"
           },
           "yaxis": {
            "backgroundcolor": "#E5ECF6",
            "gridcolor": "white",
            "gridwidth": 2,
            "linecolor": "white",
            "showbackground": true,
            "ticks": "",
            "zerolinecolor": "white"
           },
           "zaxis": {
            "backgroundcolor": "#E5ECF6",
            "gridcolor": "white",
            "gridwidth": 2,
            "linecolor": "white",
            "showbackground": true,
            "ticks": "",
            "zerolinecolor": "white"
           }
          },
          "shapedefaults": {
           "line": {
            "color": "#2a3f5f"
           }
          },
          "ternary": {
           "aaxis": {
            "gridcolor": "white",
            "linecolor": "white",
            "ticks": ""
           },
           "baxis": {
            "gridcolor": "white",
            "linecolor": "white",
            "ticks": ""
           },
           "bgcolor": "#E5ECF6",
           "caxis": {
            "gridcolor": "white",
            "linecolor": "white",
            "ticks": ""
           }
          },
          "title": {
           "x": 0.05
          },
          "xaxis": {
           "automargin": true,
           "gridcolor": "white",
           "linecolor": "white",
           "ticks": "",
           "title": {
            "standoff": 15
           },
           "zerolinecolor": "white",
           "zerolinewidth": 2
          },
          "yaxis": {
           "automargin": true,
           "gridcolor": "white",
           "linecolor": "white",
           "ticks": "",
           "title": {
            "standoff": 15
           },
           "zerolinecolor": "white",
           "zerolinewidth": 2
          }
         }
        }
       }
      }
     },
     "metadata": {},
     "output_type": "display_data"
    }
   ],
   "source": [
    "fig = px.scatter_map(gdf, lat=gdf.geometry.y, lon=gdf.geometry.x, color='inbuffer', text='name', hover_name=\"name\", zoom=12, map_style=map_style)\n",
    "fig.show()"
   ]
  },
  {
   "cell_type": "code",
   "execution_count": 16,
   "id": "4b95eb4f",
   "metadata": {},
   "outputs": [
    {
     "data": {
      "application/vnd.plotly.v1+json": {
       "config": {
        "plotlyServerURL": "https://plot.ly"
       },
       "data": [
        {
         "coloraxis": "coloraxis",
         "hovertemplate": "lat=%{lat}<br>lon=%{lon}<extra></extra>",
         "lat": {
          "bdata": "NgUyO4vyQkB1iCQfYPJCQJQ1RduM8kJAqYO8HkzyQkC4CVKEL/JCQDxYtVoW8kJA8yxScpjxQkDQIKqVrvFCQO1W4HVH8UJA1Aiik0rxQkCLdQU2QvFCQHqGFRNA8UJASnIKPEHxQkDe0bXlEvFCQGG5Shwe8UJAvGNnwA/xQkAd6tIa3vBCQGDNXDus8EJA9hDop5PwQkD1UmeklPBCQMrVNJR/8EJA+CKQAY/wQkBI5uz4ivBCQI2CO6tg8EJAjYI7q2DwQkDbdSW4R/BCQFyLu+b670JAElz2NdzvQkACh6te2e9CQMd0MoLX70JA8N6sHLXvQkBAUMmUau9CQK+UZYhj70JAG1YCcz7vQkDZ5zHKM+9CQO3S0FDt7kJAgPEMGvruQkCkwW1t4e5CQA==",
          "dtype": "f8"
         },
         "lon": {
          "bdata": "455TNebCN0DaPj/nycI3QJcP90fOwjdA60Gc4szCN0CR9pp5zcI3QGSnxBrTwjdAq0Wf6uvCN0Ao7niT38I3QHYRS28kwzdAj91P1yTDN0BtXovMEsM3QD7GgfwRwzdARBMoYhHDN0Aw/myaLcM3QN4Lgn0qwzdA/QXMjTPDN0DqLdRQWcM3QOkCA61lwzdAWVZQB2jDN0AEhlG1gsM3QPGMbJ1uwzdAHZSLjGnDN0DDFECMa8M3QEPHDipxwzdAQ8cOKnHDN0DZOXJJesM3QA1YchWLwzdA62ksBrTDN0DUBze+m8M3QMqUxbO6wzdAVgM5zafDN0BJJMCf0MM3QGvP0U/dwzdAh7VCohrEN0AenzXkRMQ3QLF/Q02ZxDdA2z0vy43EN0AoKbAApsQ3QA==",
          "dtype": "f8"
         },
         "name": "",
         "radius": 12,
         "subplot": "map",
         "type": "densitymap"
        }
       ],
       "layout": {
        "coloraxis": {
         "colorscale": [
          [
           0,
           "#0d0887"
          ],
          [
           0.1111111111111111,
           "#46039f"
          ],
          [
           0.2222222222222222,
           "#7201a8"
          ],
          [
           0.3333333333333333,
           "#9c179e"
          ],
          [
           0.4444444444444444,
           "#bd3786"
          ],
          [
           0.5555555555555556,
           "#d8576b"
          ],
          [
           0.6666666666666666,
           "#ed7953"
          ],
          [
           0.7777777777777778,
           "#fb9f3a"
          ],
          [
           0.8888888888888888,
           "#fdca26"
          ],
          [
           1,
           "#f0f921"
          ]
         ]
        },
        "legend": {
         "tracegroupgap": 0
        },
        "map": {
         "center": {
          "lat": 37.880245086842095,
          "lon": 23.763378107894734
         },
         "domain": {
          "x": [
           0,
           1
          ],
          "y": [
           0,
           1
          ]
         },
         "style": "open-street-map",
         "zoom": 12
        },
        "mapbox": {
         "center": {
          "lat": 37.880245086842095,
          "lon": 23.763378107894734
         },
         "style": "open-street-map",
         "zoom": 12
        },
        "margin": {
         "t": 60
        },
        "template": {
         "data": {
          "bar": [
           {
            "error_x": {
             "color": "#2a3f5f"
            },
            "error_y": {
             "color": "#2a3f5f"
            },
            "marker": {
             "line": {
              "color": "#E5ECF6",
              "width": 0.5
             },
             "pattern": {
              "fillmode": "overlay",
              "size": 10,
              "solidity": 0.2
             }
            },
            "type": "bar"
           }
          ],
          "barpolar": [
           {
            "marker": {
             "line": {
              "color": "#E5ECF6",
              "width": 0.5
             },
             "pattern": {
              "fillmode": "overlay",
              "size": 10,
              "solidity": 0.2
             }
            },
            "type": "barpolar"
           }
          ],
          "carpet": [
           {
            "aaxis": {
             "endlinecolor": "#2a3f5f",
             "gridcolor": "white",
             "linecolor": "white",
             "minorgridcolor": "white",
             "startlinecolor": "#2a3f5f"
            },
            "baxis": {
             "endlinecolor": "#2a3f5f",
             "gridcolor": "white",
             "linecolor": "white",
             "minorgridcolor": "white",
             "startlinecolor": "#2a3f5f"
            },
            "type": "carpet"
           }
          ],
          "choropleth": [
           {
            "colorbar": {
             "outlinewidth": 0,
             "ticks": ""
            },
            "type": "choropleth"
           }
          ],
          "contour": [
           {
            "colorbar": {
             "outlinewidth": 0,
             "ticks": ""
            },
            "colorscale": [
             [
              0,
              "#0d0887"
             ],
             [
              0.1111111111111111,
              "#46039f"
             ],
             [
              0.2222222222222222,
              "#7201a8"
             ],
             [
              0.3333333333333333,
              "#9c179e"
             ],
             [
              0.4444444444444444,
              "#bd3786"
             ],
             [
              0.5555555555555556,
              "#d8576b"
             ],
             [
              0.6666666666666666,
              "#ed7953"
             ],
             [
              0.7777777777777778,
              "#fb9f3a"
             ],
             [
              0.8888888888888888,
              "#fdca26"
             ],
             [
              1,
              "#f0f921"
             ]
            ],
            "type": "contour"
           }
          ],
          "contourcarpet": [
           {
            "colorbar": {
             "outlinewidth": 0,
             "ticks": ""
            },
            "type": "contourcarpet"
           }
          ],
          "heatmap": [
           {
            "colorbar": {
             "outlinewidth": 0,
             "ticks": ""
            },
            "colorscale": [
             [
              0,
              "#0d0887"
             ],
             [
              0.1111111111111111,
              "#46039f"
             ],
             [
              0.2222222222222222,
              "#7201a8"
             ],
             [
              0.3333333333333333,
              "#9c179e"
             ],
             [
              0.4444444444444444,
              "#bd3786"
             ],
             [
              0.5555555555555556,
              "#d8576b"
             ],
             [
              0.6666666666666666,
              "#ed7953"
             ],
             [
              0.7777777777777778,
              "#fb9f3a"
             ],
             [
              0.8888888888888888,
              "#fdca26"
             ],
             [
              1,
              "#f0f921"
             ]
            ],
            "type": "heatmap"
           }
          ],
          "histogram": [
           {
            "marker": {
             "pattern": {
              "fillmode": "overlay",
              "size": 10,
              "solidity": 0.2
             }
            },
            "type": "histogram"
           }
          ],
          "histogram2d": [
           {
            "colorbar": {
             "outlinewidth": 0,
             "ticks": ""
            },
            "colorscale": [
             [
              0,
              "#0d0887"
             ],
             [
              0.1111111111111111,
              "#46039f"
             ],
             [
              0.2222222222222222,
              "#7201a8"
             ],
             [
              0.3333333333333333,
              "#9c179e"
             ],
             [
              0.4444444444444444,
              "#bd3786"
             ],
             [
              0.5555555555555556,
              "#d8576b"
             ],
             [
              0.6666666666666666,
              "#ed7953"
             ],
             [
              0.7777777777777778,
              "#fb9f3a"
             ],
             [
              0.8888888888888888,
              "#fdca26"
             ],
             [
              1,
              "#f0f921"
             ]
            ],
            "type": "histogram2d"
           }
          ],
          "histogram2dcontour": [
           {
            "colorbar": {
             "outlinewidth": 0,
             "ticks": ""
            },
            "colorscale": [
             [
              0,
              "#0d0887"
             ],
             [
              0.1111111111111111,
              "#46039f"
             ],
             [
              0.2222222222222222,
              "#7201a8"
             ],
             [
              0.3333333333333333,
              "#9c179e"
             ],
             [
              0.4444444444444444,
              "#bd3786"
             ],
             [
              0.5555555555555556,
              "#d8576b"
             ],
             [
              0.6666666666666666,
              "#ed7953"
             ],
             [
              0.7777777777777778,
              "#fb9f3a"
             ],
             [
              0.8888888888888888,
              "#fdca26"
             ],
             [
              1,
              "#f0f921"
             ]
            ],
            "type": "histogram2dcontour"
           }
          ],
          "mesh3d": [
           {
            "colorbar": {
             "outlinewidth": 0,
             "ticks": ""
            },
            "type": "mesh3d"
           }
          ],
          "parcoords": [
           {
            "line": {
             "colorbar": {
              "outlinewidth": 0,
              "ticks": ""
             }
            },
            "type": "parcoords"
           }
          ],
          "pie": [
           {
            "automargin": true,
            "type": "pie"
           }
          ],
          "scatter": [
           {
            "fillpattern": {
             "fillmode": "overlay",
             "size": 10,
             "solidity": 0.2
            },
            "type": "scatter"
           }
          ],
          "scatter3d": [
           {
            "line": {
             "colorbar": {
              "outlinewidth": 0,
              "ticks": ""
             }
            },
            "marker": {
             "colorbar": {
              "outlinewidth": 0,
              "ticks": ""
             }
            },
            "type": "scatter3d"
           }
          ],
          "scattercarpet": [
           {
            "marker": {
             "colorbar": {
              "outlinewidth": 0,
              "ticks": ""
             }
            },
            "type": "scattercarpet"
           }
          ],
          "scattergeo": [
           {
            "marker": {
             "colorbar": {
              "outlinewidth": 0,
              "ticks": ""
             }
            },
            "type": "scattergeo"
           }
          ],
          "scattergl": [
           {
            "marker": {
             "colorbar": {
              "outlinewidth": 0,
              "ticks": ""
             }
            },
            "type": "scattergl"
           }
          ],
          "scattermap": [
           {
            "marker": {
             "colorbar": {
              "outlinewidth": 0,
              "ticks": ""
             }
            },
            "type": "scattermap"
           }
          ],
          "scattermapbox": [
           {
            "marker": {
             "colorbar": {
              "outlinewidth": 0,
              "ticks": ""
             }
            },
            "type": "scattermapbox"
           }
          ],
          "scatterpolar": [
           {
            "marker": {
             "colorbar": {
              "outlinewidth": 0,
              "ticks": ""
             }
            },
            "type": "scatterpolar"
           }
          ],
          "scatterpolargl": [
           {
            "marker": {
             "colorbar": {
              "outlinewidth": 0,
              "ticks": ""
             }
            },
            "type": "scatterpolargl"
           }
          ],
          "scatterternary": [
           {
            "marker": {
             "colorbar": {
              "outlinewidth": 0,
              "ticks": ""
             }
            },
            "type": "scatterternary"
           }
          ],
          "surface": [
           {
            "colorbar": {
             "outlinewidth": 0,
             "ticks": ""
            },
            "colorscale": [
             [
              0,
              "#0d0887"
             ],
             [
              0.1111111111111111,
              "#46039f"
             ],
             [
              0.2222222222222222,
              "#7201a8"
             ],
             [
              0.3333333333333333,
              "#9c179e"
             ],
             [
              0.4444444444444444,
              "#bd3786"
             ],
             [
              0.5555555555555556,
              "#d8576b"
             ],
             [
              0.6666666666666666,
              "#ed7953"
             ],
             [
              0.7777777777777778,
              "#fb9f3a"
             ],
             [
              0.8888888888888888,
              "#fdca26"
             ],
             [
              1,
              "#f0f921"
             ]
            ],
            "type": "surface"
           }
          ],
          "table": [
           {
            "cells": {
             "fill": {
              "color": "#EBF0F8"
             },
             "line": {
              "color": "white"
             }
            },
            "header": {
             "fill": {
              "color": "#C8D4E3"
             },
             "line": {
              "color": "white"
             }
            },
            "type": "table"
           }
          ]
         },
         "layout": {
          "annotationdefaults": {
           "arrowcolor": "#2a3f5f",
           "arrowhead": 0,
           "arrowwidth": 1
          },
          "autotypenumbers": "strict",
          "coloraxis": {
           "colorbar": {
            "outlinewidth": 0,
            "ticks": ""
           }
          },
          "colorscale": {
           "diverging": [
            [
             0,
             "#8e0152"
            ],
            [
             0.1,
             "#c51b7d"
            ],
            [
             0.2,
             "#de77ae"
            ],
            [
             0.3,
             "#f1b6da"
            ],
            [
             0.4,
             "#fde0ef"
            ],
            [
             0.5,
             "#f7f7f7"
            ],
            [
             0.6,
             "#e6f5d0"
            ],
            [
             0.7,
             "#b8e186"
            ],
            [
             0.8,
             "#7fbc41"
            ],
            [
             0.9,
             "#4d9221"
            ],
            [
             1,
             "#276419"
            ]
           ],
           "sequential": [
            [
             0,
             "#0d0887"
            ],
            [
             0.1111111111111111,
             "#46039f"
            ],
            [
             0.2222222222222222,
             "#7201a8"
            ],
            [
             0.3333333333333333,
             "#9c179e"
            ],
            [
             0.4444444444444444,
             "#bd3786"
            ],
            [
             0.5555555555555556,
             "#d8576b"
            ],
            [
             0.6666666666666666,
             "#ed7953"
            ],
            [
             0.7777777777777778,
             "#fb9f3a"
            ],
            [
             0.8888888888888888,
             "#fdca26"
            ],
            [
             1,
             "#f0f921"
            ]
           ],
           "sequentialminus": [
            [
             0,
             "#0d0887"
            ],
            [
             0.1111111111111111,
             "#46039f"
            ],
            [
             0.2222222222222222,
             "#7201a8"
            ],
            [
             0.3333333333333333,
             "#9c179e"
            ],
            [
             0.4444444444444444,
             "#bd3786"
            ],
            [
             0.5555555555555556,
             "#d8576b"
            ],
            [
             0.6666666666666666,
             "#ed7953"
            ],
            [
             0.7777777777777778,
             "#fb9f3a"
            ],
            [
             0.8888888888888888,
             "#fdca26"
            ],
            [
             1,
             "#f0f921"
            ]
           ]
          },
          "colorway": [
           "#636efa",
           "#EF553B",
           "#00cc96",
           "#ab63fa",
           "#FFA15A",
           "#19d3f3",
           "#FF6692",
           "#B6E880",
           "#FF97FF",
           "#FECB52"
          ],
          "font": {
           "color": "#2a3f5f"
          },
          "geo": {
           "bgcolor": "white",
           "lakecolor": "white",
           "landcolor": "#E5ECF6",
           "showlakes": true,
           "showland": true,
           "subunitcolor": "white"
          },
          "hoverlabel": {
           "align": "left"
          },
          "hovermode": "closest",
          "mapbox": {
           "style": "light"
          },
          "paper_bgcolor": "white",
          "plot_bgcolor": "#E5ECF6",
          "polar": {
           "angularaxis": {
            "gridcolor": "white",
            "linecolor": "white",
            "ticks": ""
           },
           "bgcolor": "#E5ECF6",
           "radialaxis": {
            "gridcolor": "white",
            "linecolor": "white",
            "ticks": ""
           }
          },
          "scene": {
           "xaxis": {
            "backgroundcolor": "#E5ECF6",
            "gridcolor": "white",
            "gridwidth": 2,
            "linecolor": "white",
            "showbackground": true,
            "ticks": "",
            "zerolinecolor": "white"
           },
           "yaxis": {
            "backgroundcolor": "#E5ECF6",
            "gridcolor": "white",
            "gridwidth": 2,
            "linecolor": "white",
            "showbackground": true,
            "ticks": "",
            "zerolinecolor": "white"
           },
           "zaxis": {
            "backgroundcolor": "#E5ECF6",
            "gridcolor": "white",
            "gridwidth": 2,
            "linecolor": "white",
            "showbackground": true,
            "ticks": "",
            "zerolinecolor": "white"
           }
          },
          "shapedefaults": {
           "line": {
            "color": "#2a3f5f"
           }
          },
          "ternary": {
           "aaxis": {
            "gridcolor": "white",
            "linecolor": "white",
            "ticks": ""
           },
           "baxis": {
            "gridcolor": "white",
            "linecolor": "white",
            "ticks": ""
           },
           "bgcolor": "#E5ECF6",
           "caxis": {
            "gridcolor": "white",
            "linecolor": "white",
            "ticks": ""
           }
          },
          "title": {
           "x": 0.05
          },
          "xaxis": {
           "automargin": true,
           "gridcolor": "white",
           "linecolor": "white",
           "ticks": "",
           "title": {
            "standoff": 15
           },
           "zerolinecolor": "white",
           "zerolinewidth": 2
          },
          "yaxis": {
           "automargin": true,
           "gridcolor": "white",
           "linecolor": "white",
           "ticks": "",
           "title": {
            "standoff": 15
           },
           "zerolinecolor": "white",
           "zerolinewidth": 2
          }
         }
        }
       }
      }
     },
     "metadata": {},
     "output_type": "display_data"
    }
   ],
   "source": [
    "fig = px.density_map(cafes, lat=cafes.geometry.y, lon=cafes.geometry.x, radius=12, zoom=12, map_style=map_style)\n",
    "fig.show()"
   ]
  },
  {
   "cell_type": "code",
   "execution_count": 17,
   "id": "f6d9c0de",
   "metadata": {},
   "outputs": [
    {
     "data": {
      "text/plain": [
       "'One cafe every: 125m'"
      ]
     },
     "execution_count": 17,
     "metadata": {},
     "output_type": "execute_result"
    }
   ],
   "source": [
    "f'One cafe every: {length / cafes.shape[0]:.0f}m'"
   ]
  },
  {
   "cell_type": "markdown",
   "id": "5be67f8f",
   "metadata": {},
   "source": [
    "### spatial grouping (h3)"
   ]
  },
  {
   "cell_type": "code",
   "execution_count": 18,
   "id": "33b8d20c",
   "metadata": {},
   "outputs": [
    {
     "data": {
      "application/vnd.plotly.v1+json": {
       "config": {
        "plotlyServerURL": "https://plot.ly"
       },
       "data": [
        {
         "colorscale": [
          [
           0,
           "#636efa"
          ],
          [
           1,
           "#636efa"
          ]
         ],
         "geojson": {
          "bbox": [
           23.755519702985676,
           37.85256705926739,
           23.774808226634292,
           37.90039272027202
          ],
          "features": [
           {
            "bbox": [
             23.76212818731932,
             37.893410342783575,
             23.76653404356582,
             37.89727086266856
            ],
            "geometry": {
             "coordinates": [
              [
               [
                23.76223552640699,
                37.89638128558618
               ],
               [
                23.76212818731932,
                37.89445102391232
               ],
               [
                23.76422371475421,
                37.893410342783575
               ],
               [
                23.76642661688632,
                37.89429989936887
               ],
               [
                23.76653404356582,
                37.89623015757873
               ],
               [
                23.76443848052194,
                37.89727086266856
               ],
               [
                23.76223552640699,
                37.89638128558618
               ]
              ]
             ],
             "type": "Polygon"
            },
            "id": "0",
            "properties": {},
            "type": "Feature"
           },
           {
            "bbox": [
             23.756864671960745,
             37.87618790668646,
             23.761269632516363,
             37.88004883710613
            ],
            "geometry": {
             "coordinates": [
              [
               [
                23.75697188401585,
                37.879159063717914
               ],
               [
                23.756864671960745,
                37.87722859678171
               ],
               [
                23.758959878594617,
                37.87618790668646
               ],
               [
                23.761162332899268,
                37.87707765956506
               ],
               [
                23.761269632516363,
                37.87900812304728
               ],
               [
                23.75917439026739,
                37.88004883710613
               ],
               [
                23.75697188401585,
                37.879159063717914
               ]
              ]
             ],
             "type": "Polygon"
            },
            "id": "1",
            "properties": {},
            "type": "Feature"
           },
           {
            "bbox": [
             23.761484244904466,
             37.881828244763106,
             23.76588954933693,
             37.885689033798755
            ],
            "geometry": {
             "coordinates": [
              [
               [
                23.761591557676002,
                37.88479937903526
               ],
               [
                23.761484244904466,
                37.88286898278639
               ],
               [
                23.76357952276228,
                37.881828244763106
               ],
               [
                23.765782148994795,
                37.882717879024696
               ],
               [
                23.76588954933693,
                37.88464827181023
               ],
               [
                23.76379423587653,
                37.885689033798755
               ],
               [
                23.761591557676002,
                37.88479937903526
               ]
              ]
             ],
             "type": "Polygon"
            },
            "id": "2",
            "properties": {},
            "type": "Feature"
           },
           {
            "bbox": [
             23.763150149172247,
             37.87306557894884,
             23.767555073824763,
             37.87692656619278
            ],
            "geometry": {
             "coordinates": [
              [
               [
                23.763257485990618,
                37.87603689312086
               ],
               [
                23.763150149172247,
                37.87410639776583
               ],
               [
                23.76524521310805,
                37.87306557894884
               ],
               [
                23.767447649452713,
                37.87395523151789
               ],
               [
                23.767555073824763,
                37.87588572340554
               ],
               [
                23.76545997429903,
                37.87692656619278
               ],
               [
                23.763257485990618,
                37.87603689312086
               ]
              ]
             ],
             "type": "Polygon"
            },
            "id": "3",
            "properties": {},
            "type": "Feature"
           },
           {
            "bbox": [
             23.76481574337129,
             37.864302436201484,
             23.769220288301458,
             37.86816362148762
            ],
            "geometry": {
             "coordinates": [
              [
               [
                23.764923104225492,
                37.86727393012921
               ],
               [
                23.76481574337129,
                37.865343335751064
               ],
               [
                23.766910593424853,
                37.864302436201484
               ],
               [
                23.769112839910495,
                37.86519210705603
               ],
               [
                23.769220288301458,
                37.867122697962756
               ],
               [
                23.767125402670597,
                37.86816362148762
               ],
               [
                23.764923104225492,
                37.86727393012921
               ]
              ]
             ],
             "type": "Polygon"
            },
            "id": "4",
            "properties": {},
            "type": "Feature"
           },
           {
            "bbox": [
             23.757508010011886,
             37.88777042900475,
             23.761913522303807,
             37.89163109041949
            ],
            "geometry": {
             "coordinates": [
              [
               [
                23.75761524835706,
                37.89074139464787
               ],
               [
                23.757508010011886,
                37.888811062213804
               ],
               [
                23.759603466210013,
                37.88777042900475
               ],
               [
                23.761806196375407,
                37.88866010427157
               ],
               [
                23.761913522303807,
                37.890590433251
               ],
               [
                23.75981803048416,
                37.89163109041949
               ],
               [
                23.75761524835706,
                37.89074139464787
               ]
              ]
             ],
             "type": "Polygon"
            },
            "id": "5",
            "properties": {},
            "type": "Feature"
           },
           {
            "bbox": [
             23.76648102758532,
             37.85553881691438,
             23.770885192850763,
             37.85940020007657
            ],
            "geometry": {
             "coordinates": [
              [
               [
                23.766588412464387,
                37.858510490453625
               ],
               [
                23.76648102758532,
                37.85657979713544
               ],
               [
                23.76857566379645,
                37.85553881691438
               ],
               [
                23.770777720451864,
                37.85642850603247
               ],
               [
                23.770885192850763,
                37.85835919587523
               ],
               [
                23.768790521074983,
                37.85940020007657
               ],
               [
                23.766588412464387,
                37.858510490453625
               ]
              ]
             ],
             "type": "Polygon"
            },
            "id": "6",
            "properties": {},
            "type": "Feature"
           },
           {
            "bbox": [
             23.75917439026739,
             37.87900812304728,
             23.76357952276228,
             37.88286898278639
            ],
            "geometry": {
             "coordinates": [
              [
               [
                23.759281652678013,
                37.881979268704384
               ],
               [
                23.75917439026739,
                37.88004883710613
               ],
               [
                23.761269632516363,
                37.87900812304728
               ],
               [
                23.763472172785367,
                37.87989781662351
               ],
               [
                23.76357952276228,
                37.881828244763106
               ],
               [
                23.761484244904466,
                37.88286898278639
               ],
               [
                23.759281652678013,
                37.881979268704384
               ]
              ]
             ],
             "type": "Polygon"
            },
            "id": "7",
            "properties": {},
            "type": "Feature"
           },
           {
            "bbox": [
             23.77008003349213,
             37.881525728352784,
             23.774485473825518,
             37.885386503498864
            ],
            "geometry": {
             "coordinates": [
              [
               [
                23.77018752140285,
                37.88449700839617
               ],
               [
                23.77008003349213,
                37.882566619083036
               ],
               [
                23.772175204178936,
                37.881525728352784
               ],
               [
                23.774377898348217,
                37.88241520296416
               ],
               [
                23.774485473825518,
                37.88434558879586
               ],
               [
                23.77239026756754,
                37.885386503498864
               ],
               [
                23.77018752140285,
                37.88449700839617
               ]
              ]
             ],
             "type": "Polygon"
            },
            "id": "8",
            "properties": {},
            "type": "Feature"
           },
           {
            "bbox": [
             23.764116338452972,
             37.89043931563525,
             23.768522090730624,
             37.89429989936887
            ],
            "geometry": {
             "coordinates": [
              [
               [
                23.76422371475421,
                37.893410342783575
               ],
               [
                23.764116338452972,
                37.8914800491832
               ],
               [
                23.766211776697748,
                37.89043931563525
               ],
               [
                23.768414626843864,
                37.8913288517249
               ],
               [
                23.768522090730624,
                37.8932591418569
               ],
               [
                23.76642661688632,
                37.89429989936887
               ],
               [
                23.76422371475421,
                37.893410342783575
               ]
              ]
             ],
             "type": "Polygon"
            },
            "id": "9",
            "properties": {},
            "type": "Feature"
           },
           {
            "bbox": [
             23.75654306207879,
             37.870396343059284,
             23.760947746817635,
             37.874257407873074
            ],
            "geometry": {
             "coordinates": [
              [
               [
                23.75665026099248,
                37.87336759570439
               ],
               [
                23.75654306207879,
                37.87143706157129
               ],
               [
                23.7586381439526,
                37.870396343059284
               ],
               [
                23.76084046035257,
                37.87128613471596
               ],
               [
                23.760947746817635,
                37.87321666539539
               ],
               [
                23.75885262933193,
                37.874257407873074
               ],
               [
                23.75665026099248,
                37.87336759570439
               ]
              ]
             ],
             "type": "Polygon"
            },
            "id": "10",
            "properties": {},
            "type": "Feature"
           },
           {
            "bbox": [
             23.758209225770663,
             37.86163314553341,
             23.762613530859703,
             37.865494408347445
            ],
            "geometry": {
             "coordinates": [
              [
               [
                23.75831644874473,
                37.86460457793127
               ],
               [
                23.758209225770663,
                37.862673944796036
               ],
               [
                23.76030409377399,
                37.86163314553341
               ],
               [
                23.762506220351185,
                37.862522955436575
               ],
               [
                23.762613530859703,
                37.864453585114134
               ],
               [
                23.760518627257134,
                37.865494408347445
               ],
               [
                23.75831644874473,
                37.86460457793127
               ]
              ]
             ],
             "type": "Polygon"
            },
            "id": "11",
            "properties": {},
            "type": "Feature"
           },
           {
            "bbox": [
             23.768737031680008,
             37.896078873328044,
             23.773143127863158,
             37.89993931546739
            ],
            "geometry": {
             "coordinates": [
              [
               [
                23.76884450874316,
                37.89904987761275
               ],
               [
                23.768737031680008,
                37.89711965480483
               ],
               [
                23.770832541117578,
                37.896078873328044
               ],
               [
                23.773035563205877,
                37.896968290694744
               ],
               [
                23.773143127863158,
                37.898898510024935
               ],
               [
                23.77104758283859,
                37.89993931546739
               ],
               [
                23.76884450874316,
                37.89904987761275
               ]
              ]
             ],
             "type": "Polygon"
            },
            "id": "12",
            "properties": {},
            "type": "Feature"
           },
           {
            "bbox": [
             23.75987507939117,
             37.85286947153368,
             23.76427900488798,
             37.85673093218181
            ],
            "geometry": {
             "coordinates": [
              [
               [
                23.759982326414608,
                37.85584108354011
               ],
               [
                23.75987507939117,
                37.85391035148581
               ],
               [
                23.761969733563785,
                37.85286947153368
               ],
               [
                23.764171670346997,
                37.85375929966139
               ],
               [
                23.76427900488798,
                37.85569002825397
               ],
               [
                23.76218431512878,
                37.85673093218181
               ],
               [
                23.759982326414608,
                37.85584108354011
               ]
              ]
             ],
             "type": "Polygon"
            },
            "id": "13",
            "properties": {},
            "type": "Feature"
           },
           {
            "bbox": [
             23.763472172785367,
             37.87885702621197,
             23.767877373278672,
             37.882717879024696
            ],
            "geometry": {
             "coordinates": [
              [
               [
                23.76357952276228,
                37.881828244763106
               ],
               [
                23.763472172785367,
                37.87989781662351
               ],
               [
                23.765567361476116,
                37.87885702621197
               ],
               [
                23.76776993573747,
                37.879746639973106
               ],
               [
                23.767877373278672,
                37.881677064644975
               ],
               [
                23.765782148994795,
                37.882717879024696
               ],
               [
                23.76357952276228,
                37.881828244763106
               ]
              ]
             ],
             "type": "Polygon"
            },
            "id": "14",
            "properties": {},
            "type": "Feature"
           },
           {
            "bbox": [
             23.77040251040185,
             37.88731685744179,
             23.774808226634292,
             37.89117749804734
            ],
            "geometry": {
             "coordinates": [
              [
               [
                23.770510011490664,
                37.89028804180336
               ],
               [
                23.77040251040185,
                37.88835771976034
               ],
               [
                23.772497805853213,
                37.88731685744179
               ],
               [
                23.77470063796829,
                37.88820629319685
               ],
               [
                23.774808226634292,
                37.89013661175812
               ],
               [
                23.772712895608592,
                37.89117749804734
               ],
               [
                23.770510011490664,
                37.89028804180336
               ]
              ]
             ],
             "type": "Polygon"
            },
            "id": "15",
            "properties": {},
            "type": "Feature"
           },
           {
            "bbox": [
             23.765137839093605,
             37.870094180554915,
             23.769542659815492,
             37.87395523151789
            ],
            "geometry": {
             "coordinates": [
              [
               [
                23.76524521310805,
                37.87306557894884
               ],
               [
                23.765137839093605,
                37.871135051732125
               ],
               [
                23.767232813875903,
                37.870094180554915
               ],
               [
                23.769435198253685,
                37.87098381262252
               ],
               [
                23.769542659815492,
                37.87291433636751
               ],
               [
                23.767447649452713,
                37.87395523151789
               ],
               [
                23.76524521310805,
                37.87306557894884
               ]
              ]
             ],
             "type": "Polygon"
            },
            "id": "16",
            "properties": {},
            "type": "Feature"
           },
           {
            "bbox": [
             23.76680319538388,
             37.861330858108914,
             23.77120763639197,
             37.86519210705603
            ],
            "geometry": {
             "coordinates": [
              [
               [
                23.766910593424853,
                37.864302436201484
               ],
               [
                23.76680319538388,
                37.86237180999066
               ],
               [
                23.76889795629753,
                37.861330858108914
               ],
               [
                23.771100150820544,
                37.86222050846105
               ],
               [
                23.77120763639197,
                37.864151131196095
               ],
               [
                23.769112839910495,
                37.86519210705603
               ],
               [
                23.766910593424853,
                37.864302436201484
               ]
              ]
             ],
             "type": "Polygon"
            },
            "id": "17",
            "properties": {},
            "type": "Feature"
           },
           {
            "bbox": [
             23.759496190649063,
             37.88479937903526,
             23.7639015990144,
             37.88866010427157
            ],
            "geometry": {
             "coordinates": [
              [
               [
                23.759603466210013,
                37.88777042900475
               ],
               [
                23.759496190649063,
                37.88584006465771
               ],
               [
                23.761591557676002,
                37.88479937903526
               ],
               [
                23.76379423587653,
                37.885689033798755
               ],
               [
                23.7639015990144,
                37.88761939468679
               ],
               [
                23.761806196375407,
                37.88866010427157
               ],
               [
                23.759603466210013,
                37.88777042900475
               ]
              ]
             ],
             "type": "Polygon"
            },
            "id": "18",
            "properties": {},
            "type": "Feature"
           },
           {
            "bbox": [
             23.76642661688632,
             37.8932591418569,
             23.770832541117578,
             37.89711965480483
            ],
            "geometry": {
             "coordinates": [
              [
               [
                23.76653404356582,
                37.89623015757873
               ],
               [
                23.76642661688632,
                37.89429989936887
               ],
               [
                23.768522090730624,
                37.8932591418569
               ],
               [
                23.77072502684826,
                37.89414861859122
               ],
               [
                23.770832541117578,
                37.896078873328044
               ],
               [
                23.768737031680008,
                37.89711965480483
               ],
               [
                23.76653404356582,
                37.89623015757873
               ]
              ]
             ],
             "type": "Polygon"
            },
            "id": "19",
            "properties": {},
            "type": "Feature"
           },
           {
            "bbox": [
             23.76218431512878,
             37.85569002825397,
             23.766588412464387,
             37.85955141835801
            ],
            "geometry": {
             "coordinates": [
              [
               [
                23.76229161248599,
                37.85866162896641
               ],
               [
                23.76218431512878,
                37.85673093218181
               ],
               [
                23.76427900488798,
                37.85569002825397
               ],
               [
                23.76648102758532,
                37.85657979713544
               ],
               [
                23.766588412464387,
                37.858510490453625
               ],
               [
                23.764493687124833,
                37.85955141835801
               ],
               [
                23.76229161248599,
                37.85866162896641
               ]
              ]
             ],
             "type": "Polygon"
            },
            "id": "20",
            "properties": {},
            "type": "Feature"
           },
           {
            "bbox": [
             23.760518627257134,
             37.864453585114134,
             23.764923104225492,
             37.86831477733405
            ],
            "geometry": {
             "coordinates": [
              [
               [
                23.760625900572588,
                37.86742500618797
               ],
               [
                23.760518627257134,
                37.865494408347445
               ],
               [
                23.762613530859703,
                37.864453585114134
               ],
               [
                23.76481574337129,
                37.865343335751064
               ],
               [
                23.764923104225492,
                37.86727393012921
               ],
               [
                23.76282816502994,
                37.86831477733405
               ],
               [
                23.760625900572588,
                37.86742500618797
               ]
              ]
             ],
             "type": "Polygon"
            },
            "id": "21",
            "properties": {},
            "type": "Feature"
           },
           {
            "bbox": [
             23.768468241739924,
             37.85256705926739,
             23.77287230309183,
             37.85642850603247
            ],
            "geometry": {
             "coordinates": [
              [
               [
                23.76857566379645,
                37.85553881691438
               ],
               [
                23.768468241739924,
                37.853608091792566
               ],
               [
                23.770562788824698,
                37.85256705926739
               ],
               [
                23.772764793521766,
                37.853456727882104
               ],
               [
                23.77287230309183,
                37.85538744952411
               ],
               [
                23.770777720451864,
                37.85642850603247
               ],
               [
                23.76857566379645,
                37.85553881691438
               ]
              ]
             ],
             "type": "Polygon"
            },
            "id": "22",
            "properties": {},
            "type": "Feature"
           },
           {
            "bbox": [
             23.75557846892063,
             37.853020443606304,
             23.759982326414608,
             37.85688191116884
            ],
            "geometry": {
             "coordinates": [
              [
               [
                23.75568562842452,
                37.85599198277005
               ],
               [
                23.75557846892063,
                37.85406124726306
               ],
               [
                23.757673176602513,
                37.853020443606304
               ],
               [
                23.75987507939117,
                37.85391035148581
               ],
               [
                23.759982326414608,
                37.85584108354011
               ],
               [
                23.75788758313041,
                37.85688191116884
               ],
               [
                23.75568562842452,
                37.85599198277005
               ]
              ]
             ],
             "type": "Polygon"
            },
            "id": "23",
            "properties": {},
            "type": "Feature"
           },
           {
            "bbox": [
             23.761162332899268,
             37.87603689312086,
             23.765567361476116,
             37.87989781662351
            ],
            "geometry": {
             "coordinates": [
              [
               [
                23.761269632516363,
                37.87900812304728
               ],
               [
                23.761162332899268,
                37.87707765956506
               ],
               [
                23.763257485990618,
                37.87603689312086
               ],
               [
                23.76545997429903,
                37.87692656619278
               ],
               [
                23.765567361476116,
                37.87885702621197
               ],
               [
                23.763472172785367,
                37.87989781662351
               ],
               [
                23.761269632516363,
                37.87900812304728
               ]
              ]
             ],
             "type": "Polygon"
            },
            "id": "24",
            "properties": {},
            "type": "Feature"
           },
           {
            "bbox": [
             23.758530907835432,
             37.86742500618797,
             23.76293548869217,
             37.87128613471596
            ],
            "geometry": {
             "coordinates": [
              [
               [
                23.7586381439526,
                37.870396343059284
               ],
               [
                23.758530907835432,
                37.868465777066916
               ],
               [
                23.760625900572588,
                37.86742500618797
               ],
               [
                23.76282816502994,
                37.86831477733405
               ],
               [
                23.76293548869217,
                37.87024533986841
               ],
               [
                23.76084046035257,
                37.87128613471596
               ],
               [
                23.7586381439526,
                37.870396343059284
               ]
              ]
             ],
             "type": "Polygon"
            },
            "id": "25",
            "properties": {},
            "type": "Feature"
           },
           {
            "bbox": [
             23.755519702985676,
             37.89074139464787,
             23.759925319197876,
             37.894601992218796
            ],
            "geometry": {
             "coordinates": [
              [
               [
                23.755626904109867,
                37.89371227594096
               ],
               [
                23.755519702985676,
                37.89178197543099
               ],
               [
                23.75761524835706,
                37.89074139464787
               ],
               [
                23.75981803048416,
                37.89163109041949
               ],
               [
                23.759925319197876,
                37.89356138747918
               ],
               [
                23.757829738195525,
                37.894601992218796
               ],
               [
                23.755626904109867,
                37.89371227594096
               ]
              ]
             ],
             "type": "Polygon"
            },
            "id": "26",
            "properties": {},
            "type": "Feature"
           },
           {
            "bbox": [
             23.760196833605754,
             37.85866162896641,
             23.76460103482122,
             37.862522955436575
            ],
            "geometry": {
             "coordinates": [
              [
               [
                23.76030409377399,
                37.86163314553341
               ],
               [
                23.760196833605754,
                37.859702480567925
               ],
               [
                23.76229161248599,
                37.85866162896641
               ],
               [
                23.764493687124833,
                37.85955141835801
               ],
               [
                23.76460103482122,
                37.861482079861446
               ],
               [
                23.762506220351185,
                37.862522955436575
               ],
               [
                23.76030409377399,
                37.86163314553341
               ]
              ]
             ],
             "type": "Polygon"
            },
            "id": "27",
            "properties": {},
            "type": "Feature"
           },
           {
            "bbox": [
             23.76084046035257,
             37.87024533986841,
             23.76524521310805,
             37.87410639776583
            ],
            "geometry": {
             "coordinates": [
              [
               [
                23.760947746817635,
                37.87321666539539
               ],
               [
                23.76084046035257,
                37.87128613471596
               ],
               [
                23.76293548869217,
                37.87024533986841
               ],
               [
                23.765137839093605,
                37.871135051732125
               ],
               [
                23.76524521310805,
                37.87306557894884
               ],
               [
                23.763150149172247,
                37.87410639776583
               ],
               [
                23.760947746817635,
                37.87321666539539
               ]
              ]
             ],
             "type": "Polygon"
            },
            "id": "28",
            "properties": {},
            "type": "Feature"
           },
           {
            "bbox": [
             23.768414626843864,
             37.89028804180336,
             23.772820447078857,
             37.89414861859122
            ],
            "geometry": {
             "coordinates": [
              [
               [
                23.768522090730624,
                37.8932591418569
               ],
               [
                23.768414626843864,
                37.8913288517249
               ],
               [
                23.770510011490664,
                37.89028804180336
               ],
               [
                23.772712895608592,
                37.89117749804734
               ],
               [
                23.772820447078857,
                37.89310778470194
               ],
               [
                23.77072502684826,
                37.89414861859122
               ],
               [
                23.768522090730624,
                37.8932591418569
               ]
              ]
             ],
             "type": "Polygon"
            },
            "id": "29",
            "properties": {},
            "type": "Feature"
           },
           {
            "bbox": [
             23.762506220351185,
             37.861482079861446,
             23.766910593424853,
             37.865343335751064
            ],
            "geometry": {
             "coordinates": [
              [
               [
                23.762613530859703,
                37.864453585114134
               ],
               [
                23.762506220351185,
                37.862522955436575
               ],
               [
                23.76460103482122,
                37.861482079861446
               ],
               [
                23.76680319538388,
                37.86237180999066
               ],
               [
                23.766910593424853,
                37.864302436201484
               ],
               [
                23.76481574337129,
                37.865343335751064
               ],
               [
                23.762613530859703,
                37.864453585114134
               ]
              ]
             ],
             "type": "Polygon"
            },
            "id": "30",
            "properties": {},
            "type": "Feature"
           },
           {
            "bbox": [
             23.764171670346997,
             37.85271834341978,
             23.76857566379645,
             37.85657979713544
            ],
            "geometry": {
             "coordinates": [
              [
               [
                23.76427900488798,
                37.85569002825397
               ],
               [
                23.764171670346997,
                37.85375929966139
               ],
               [
                23.766266270987234,
                37.85271834341978
               ],
               [
                23.768468241739924,
                37.853608091792566
               ],
               [
                23.76857566379645,
                37.85553881691438
               ],
               [
                23.76648102758532,
                37.85657979713544
               ],
               [
                23.76427900488798,
                37.85569002825397
               ]
              ]
             ],
             "type": "Polygon"
            },
            "id": "31",
            "properties": {},
            "type": "Feature"
           },
           {
            "bbox": [
             23.76776993573747,
             37.87870577321476,
             23.772175204178936,
             37.882566619083036
            ],
            "geometry": {
             "coordinates": [
              [
               [
                23.767877373278672,
                37.881677064644975
               ],
               [
                23.76776993573747,
                37.879746639973106
               ],
               [
                23.76986507084687,
                37.87870577321476
               ],
               [
                23.77206767907547,
                37.87959530715764
               ],
               [
                23.772175204178936,
                37.881525728352784
               ],
               [
                23.77008003349213,
                37.882566619083036
               ],
               [
                23.767877373278672,
                37.881677064644975
               ]
              ]
             ],
             "type": "Polygon"
            },
            "id": "32",
            "properties": {},
            "type": "Feature"
           },
           {
            "bbox": [
             23.769435198253685,
             37.86994286512157,
             23.77384008689176,
             37.87380390913202
            ],
            "geometry": {
             "coordinates": [
              [
               [
                23.769542659815492,
                37.87291433636751
               ],
               [
                23.769435198253685,
                37.87098381262252
               ],
               [
                23.771530119455576,
                37.86994286512157
               ],
               [
                23.7737325377846,
                37.870832417389934
               ],
               [
                23.77384008689176,
                37.87276293765416
               ],
               [
                23.771745130125108,
                37.87380390913202
               ],
               [
                23.769542659815492,
                37.87291433636751
               ]
              ]
             ],
             "type": "Polygon"
            },
            "id": "33",
            "properties": {},
            "type": "Feature"
           },
           {
            "bbox": [
             23.769757596111816,
             37.875734397543255,
             23.774162760580428,
             37.87959530715764
            ],
            "geometry": {
             "coordinates": [
              [
               [
                23.76986507084687,
                37.87870577321476
               ],
               [
                23.769757596111816,
                37.876775316667654
               ],
               [
                23.771852642048817,
                37.875734397543255
               ],
               [
                23.774055198289396,
                37.876623910992414
               ],
               [
                23.774162760580428,
                37.87855436405843
               ],
               [
                23.77206767907547,
                37.87959530715764
               ],
               [
                23.76986507084687,
                37.87870577321476
               ]
              ]
             ],
             "type": "Polygon"
            },
            "id": "34",
            "properties": {},
            "type": "Feature"
           },
           {
            "bbox": [
             23.75981803048416,
             37.890590433251,
             23.76422371475421,
             37.89445102391232
            ],
            "geometry": {
             "coordinates": [
              [
               [
                23.759925319197876,
                37.89356138747918
               ],
               [
                23.75981803048416,
                37.89163109041949
               ],
               [
                23.761913522303807,
                37.890590433251
               ],
               [
                23.764116338452972,
                37.8914800491832
               ],
               [
                23.76422371475421,
                37.893410342783575
               ],
               [
                23.76212818731932,
                37.89445102391232
               ],
               [
                23.759925319197876,
                37.89356138747918
               ]
              ]
             ],
             "type": "Polygon"
            },
            "id": "35",
            "properties": {},
            "type": "Feature"
           },
           {
            "bbox": [
             23.76282816502994,
             37.86727393012921,
             23.767232813875903,
             37.871135051732125
            ],
            "geometry": {
             "coordinates": [
              [
               [
                23.76293548869217,
                37.87024533986841
               ],
               [
                23.76282816502994,
                37.86831477733405
               ],
               [
                23.764923104225492,
                37.86727393012921
               ],
               [
                23.767125402670597,
                37.86816362148762
               ],
               [
                23.767232813875903,
                37.870094180554915
               ],
               [
                23.765137839093605,
                37.871135051732125
               ],
               [
                23.76293548869217,
                37.87024533986841
               ]
              ]
             ],
             "type": "Polygon"
            },
            "id": "36",
            "properties": {},
            "type": "Feature"
           },
           {
            "bbox": [
             23.764493687124833,
             37.858510490453625,
             23.76889795629753,
             37.86237180999066
            ],
            "geometry": {
             "coordinates": [
              [
               [
                23.76460103482122,
                37.861482079861446
               ],
               [
                23.764493687124833,
                37.85955141835801
               ],
               [
                23.766588412464387,
                37.858510490453625
               ],
               [
                23.768790521074983,
                37.85940020007657
               ],
               [
                23.76889795629753,
                37.861330858108914
               ],
               [
                23.76680319538388,
                37.86237180999066
               ],
               [
                23.76460103482122,
                37.861482079861446
               ]
              ]
             ],
             "type": "Polygon"
            },
            "id": "37",
            "properties": {},
            "type": "Feature"
           },
           {
            "bbox": [
             23.76013990977993,
             37.89638128558618,
             23.764545869988964,
             37.9002417416003
            ],
            "geometry": {
             "coordinates": [
              [
               [
                23.760247211648814,
                37.8993521440194
               ],
               [
                23.76013990977993,
                37.89742191428315
               ],
               [
                23.76223552640699,
                37.89638128558618
               ],
               [
                23.76443848052194,
                37.89727086266856
               ],
               [
                23.764545869988964,
                37.89920108894516
               ],
               [
                23.76245021774346,
                37.9002417416003
               ],
               [
                23.760247211648814,
                37.8993521440194
               ]
              ]
             ],
             "type": "Polygon"
            },
            "id": "38",
            "properties": {},
            "type": "Feature"
           },
           {
            "bbox": [
             23.768092261532104,
             37.88449700839617,
             23.772497805853213,
             37.88835771976034
            ],
            "geometry": {
             "coordinates": [
              [
               [
                23.76819971224487,
                37.887468204164875
               ],
               [
                23.768092261532104,
                37.88553784674488
               ],
               [
                23.77018752140285,
                37.88449700839617
               ],
               [
                23.77239026756754,
                37.885386503498864
               ],
               [
                23.772497805853213,
                37.88731685744179
               ],
               [
                23.77040251040185,
                37.88835771976034
               ],
               [
                23.76819971224487,
                37.887468204164875
               ]
              ]
             ],
             "type": "Polygon"
            },
            "id": "39",
            "properties": {},
            "type": "Feature"
           },
           {
            "bbox": [
             23.761806196375407,
             37.88761939468679,
             23.766211776697748,
             37.8914800491832
            ],
            "geometry": {
             "coordinates": [
              [
               [
                23.761913522303807,
                37.890590433251
               ],
               [
                23.761806196375407,
                37.88866010427157
               ],
               [
                23.7639015990144,
                37.88761939468679
               ],
               [
                23.76610436318814,
                37.888508990119504
               ],
               [
                23.766211776697748,
                37.89043931563525
               ],
               [
                23.764116338452972,
                37.8914800491832
               ],
               [
                23.761913522303807,
                37.890590433251
               ]
              ]
             ],
             "type": "Polygon"
            },
            "id": "40",
            "properties": {},
            "type": "Feature"
           },
           {
            "bbox": [
             23.755899960565955,
             37.85881261141081,
             23.76030409377399,
             37.862673944796036
            ],
            "geometry": {
             "coordinates": [
              [
               [
                23.756007133204037,
                37.86178405512205
               ],
               [
                23.755899960565955,
                37.85985338670355
               ],
               [
                23.757994792963782,
                37.85881261141081
               ],
               [
                23.760196833605754,
                37.859702480567925
               ],
               [
                23.76030409377399,
                37.86163314553341
               ],
               [
                23.758209225770663,
                37.862673944796036
               ],
               [
                23.756007133204037,
                37.86178405512205
               ]
              ]
             ],
             "type": "Polygon"
            },
            "id": "41",
            "properties": {},
            "type": "Feature"
           },
           {
            "bbox": [
             23.76379423587653,
             37.88464827181023,
             23.76819971224487,
             37.888508990119504
            ],
            "geometry": {
             "coordinates": [
              [
               [
                23.7639015990144,
                37.88761939468679
               ],
               [
                23.76379423587653,
                37.885689033798755
               ],
               [
                23.76588954933693,
                37.88464827181023
               ],
               [
                23.768092261532104,
                37.88553784674488
               ],
               [
                23.76819971224487,
                37.887468204164875
               ],
               [
                23.76610436318814,
                37.888508990119504
               ],
               [
                23.7639015990144,
                37.88761939468679
               ]
              ]
             ],
             "type": "Polygon"
            },
            "id": "42",
            "properties": {},
            "type": "Feature"
           },
           {
            "bbox": [
             23.757829738195525,
             37.89356138747918,
             23.76223552640699,
             37.89742191428315
            ],
            "geometry": {
             "coordinates": [
              [
               [
                23.75793698968935,
                37.896532257347644
               ],
               [
                23.757829738195525,
                37.894601992218796
               ],
               [
                23.759925319197876,
                37.89356138747918
               ],
               [
                23.76212818731932,
                37.89445102391232
               ],
               [
                23.76223552640699,
                37.89638128558618
               ],
               [
                23.76013990977993,
                37.89742191428315
               ],
               [
                23.75793698968935,
                37.896532257347644
               ]
              ]
             ],
             "type": "Polygon"
            },
            "id": "43",
            "properties": {},
            "type": "Feature"
           },
           {
            "bbox": [
             23.76545997429903,
             37.87588572340554,
             23.76986507084687,
             37.879746639973106
            ],
            "geometry": {
             "coordinates": [
              [
               [
                23.765567361476116,
                37.87885702621197
               ],
               [
                23.76545997429903,
                37.87692656619278
               ],
               [
                23.767555073824763,
                37.87588572340554
               ],
               [
                23.769757596111816,
                37.876775316667654
               ],
               [
                23.76986507084687,
                37.87870577321476
               ],
               [
                23.76776993573747,
                37.879746639973106
               ],
               [
                23.765567361476116,
                37.87885702621197
               ]
              ]
             ],
             "type": "Polygon"
            },
            "id": "44",
            "properties": {},
            "type": "Feature"
           },
           {
            "bbox": [
             23.767125402670597,
             37.867122697962756,
             23.771530119455576,
             37.87098381262252
            ],
            "geometry": {
             "coordinates": [
              [
               [
                23.767232813875903,
                37.870094180554915
               ],
               [
                23.767125402670597,
                37.86816362148762
               ],
               [
                23.769220288301458,
                37.867122697962756
               ],
               [
                23.77142262070921,
                37.868012309530364
               ],
               [
                23.771530119455576,
                37.86994286512157
               ],
               [
                23.769435198253685,
                37.87098381262252
               ],
               [
                23.767232813875903,
                37.870094180554915
               ]
              ]
             ],
             "type": "Polygon"
            },
            "id": "45",
            "properties": {},
            "type": "Feature"
           },
           {
            "bbox": [
             23.75718632126937,
             37.881979268704384,
             23.761591557676002,
             37.88584006465771
            ],
            "geometry": {
             "coordinates": [
              [
               [
                23.75729354646831,
                37.88495033006852
               ],
               [
                23.75718632126937,
                37.88301993036533
               ],
               [
                23.759281652678013,
                37.881979268704384
               ],
               [
                23.761484244904466,
                37.88286898278639
               ],
               [
                23.761591557676002,
                37.88479937903526
               ],
               [
                23.759496190649063,
                37.88584006465771
               ],
               [
                23.75729354646831,
                37.88495033006852
               ]
              ]
             ],
             "type": "Polygon"
            },
            "id": "46",
            "properties": {},
            "type": "Feature"
           },
           {
            "bbox": [
             23.768790521074983,
             37.85835919587523,
             23.773194858154707,
             37.86222050846105
            ],
            "geometry": {
             "coordinates": [
              [
               [
                23.76889795629753,
                37.861330858108914
               ],
               [
                23.768790521074983,
                37.85940020007657
               ],
               [
                23.770885192850763,
                37.85835919587523
               ],
               [
                23.77308733540803,
                37.859248825726375
               ],
               [
                23.773194858154707,
                37.861179480278594
               ],
               [
                23.771100150820544,
                37.86222050846105
               ],
               [
                23.76889795629753,
                37.861330858108914
               ]
              ]
             ],
             "type": "Polygon"
            },
            "id": "47",
            "properties": {},
            "type": "Feature"
           },
           {
            "bbox": [
             23.75885262933193,
             37.87321666539539,
             23.763257485990618,
             37.87707765956506
            ],
            "geometry": {
             "coordinates": [
              [
               [
                23.758959878594617,
                37.87618790668646
               ],
               [
                23.75885262933193,
                37.874257407873074
               ],
               [
                23.760947746817635,
                37.87321666539539
               ],
               [
                23.763150149172247,
                37.87410639776583
               ],
               [
                23.763257485990618,
                37.87603689312086
               ],
               [
                23.761162332899268,
                37.87707765956506
               ],
               [
                23.758959878594617,
                37.87618790668646
               ]
              ]
             ],
             "type": "Polygon"
            },
            "id": "48",
            "properties": {},
            "type": "Feature"
           },
           {
            "bbox": [
             23.756221491616266,
             37.86460457793127,
             23.760625900572588,
             37.868465777066916
            ],
            "geometry": {
             "coordinates": [
              [
               [
                23.756328677390954,
                37.8675759261363
               ],
               [
                23.756221491616266,
                37.86564532484244
               ],
               [
                23.75831644874473,
                37.86460457793127
               ],
               [
                23.760518627257134,
                37.865494408347445
               ],
               [
                23.760625900572588,
                37.86742500618797
               ],
               [
                23.758530907835432,
                37.868465777066916
               ],
               [
                23.756328677390954,
                37.8675759261363
               ]
              ]
             ],
             "type": "Polygon"
            },
            "id": "49",
            "properties": {},
            "type": "Feature"
           },
           {
            "bbox": [
             23.75584131950225,
             37.896532257347644,
             23.760247211648814,
             37.90039272027202
            ],
            "geometry": {
             "coordinates": [
              [
               [
                23.755948533770965,
                37.899503042832706
               ],
               [
                23.75584131950225,
                37.897572809645844
               ],
               [
                23.75793698968935,
                37.896532257347644
               ],
               [
                23.76013990977993,
                37.89742191428315
               ],
               [
                23.760247211648814,
                37.8993521440194
               ],
               [
                23.75815150582753,
                37.90039272027202
               ],
               [
                23.755948533770965,
                37.899503042832706
               ]
              ]
             ],
             "type": "Polygon"
            },
            "id": "50",
            "properties": {},
            "type": "Feature"
           },
           {
            "bbox": [
             23.75788758313041,
             37.85584108354011,
             23.76229161248599,
             37.859702480567925
            ],
            "geometry": {
             "coordinates": [
              [
               [
                23.757994792963782,
                37.85881261141081
               ],
               [
                23.75788758313041,
                37.85688191116884
               ],
               [
                23.759982326414608,
                37.85584108354011
               ],
               [
                23.76218431512878,
                37.85673093218181
               ],
               [
                23.76229161248599,
                37.85866162896641
               ],
               [
                23.760196833605754,
                37.859702480567925
               ],
               [
                23.757994792963782,
                37.85881261141081
               ]
              ]
             ],
             "type": "Polygon"
            },
            "id": "51",
            "properties": {},
            "type": "Feature"
           },
           {
            "bbox": [
             23.76610436318814,
             37.887468204164875,
             23.770510011490664,
             37.8913288517249
            ],
            "geometry": {
             "coordinates": [
              [
               [
                23.766211776697748,
                37.89043931563525
               ],
               [
                23.76610436318814,
                37.888508990119504
               ],
               [
                23.76819971224487,
                37.887468204164875
               ],
               [
                23.77040251040185,
                37.88835771976034
               ],
               [
                23.770510011490664,
                37.89028804180336
               ],
               [
                23.768414626843864,
                37.8913288517249
               ],
               [
                23.766211776697748,
                37.89043931563525
               ]
              ]
             ],
             "type": "Polygon"
            },
            "id": "52",
            "properties": {},
            "type": "Feature"
           },
           {
            "bbox": [
             23.765782148994795,
             37.881677064644975,
             23.77018752140285,
             37.88553784674488
            ],
            "geometry": {
             "coordinates": [
              [
               [
                23.76588954933693,
                37.88464827181023
               ],
               [
                23.765782148994795,
                37.882717879024696
               ],
               [
                23.767877373278672,
                37.881677064644975
               ],
               [
                23.77008003349213,
                37.882566619083036
               ],
               [
                23.77018752140285,
                37.88449700839617
               ],
               [
                23.768092261532104,
                37.88553784674488
               ],
               [
                23.76588954933693,
                37.88464827181023
               ]
              ]
             ],
             "type": "Polygon"
            },
            "id": "53",
            "properties": {},
            "type": "Feature"
           },
           {
            "bbox": [
             23.76443848052194,
             37.89623015757873,
             23.76884450874316,
             37.9000906066645
            ],
            "geometry": {
             "coordinates": [
              [
               [
                23.764545869988964,
                37.89920108894516
               ],
               [
                23.76443848052194,
                37.89727086266856
               ],
               [
                23.76653404356582,
                37.89623015757873
               ],
               [
                23.768737031680008,
                37.89711965480483
               ],
               [
                23.76884450874316,
                37.89904987761275
               ],
               [
                23.766748910096563,
                37.9000906066645
               ],
               [
                23.764545869988964,
                37.89920108894516
               ]
              ]
             ],
             "type": "Polygon"
            },
            "id": "54",
            "properties": {},
            "type": "Feature"
           },
           {
            "bbox": [
             23.769112839910495,
             37.864151131196095,
             23.773517452752266,
             37.868012309530364
            ],
            "geometry": {
             "coordinates": [
              [
               [
                23.769220288301458,
                37.867122697962756
               ],
               [
                23.769112839910495,
                37.86519210705603
               ],
               [
                23.77120763639197,
                37.864151131196095
               ],
               [
                23.773409916826555,
                37.86504072226513
               ],
               [
                23.773517452752266,
                37.866971309691415
               ],
               [
                23.77142262070921,
                37.868012309530364
               ],
               [
                23.769220288301458,
                37.867122697962756
               ]
              ]
             ],
             "type": "Polygon"
            },
            "id": "55",
            "properties": {},
            "type": "Feature"
           },
           {
            "bbox": [
             23.767447649452713,
             37.87291433636751,
             23.771852642048817,
             37.876775316667654
            ],
            "geometry": {
             "coordinates": [
              [
               [
                23.767555073824763,
                37.87588572340554
               ],
               [
                23.767447649452713,
                37.87395523151789
               ],
               [
                23.769542659815492,
                37.87291433636751
               ],
               [
                23.771745130125108,
                37.87380390913202
               ],
               [
                23.771852642048817,
                37.875734397543255
               ],
               [
                23.769757596111816,
                37.876775316667654
               ],
               [
                23.767555073824763,
                37.87588572340554
               ]
              ]
             ],
             "type": "Polygon"
            },
            "id": "56",
            "properties": {},
            "type": "Feature"
           }
          ],
          "type": "FeatureCollection"
         },
         "hovertemplate": "index=%{location}<extra></extra>",
         "locations": {
          "bdata": "AAECAwQFBgcICQoLDA0ODxAREhMUFRYXGBkaGxwdHh8gISIjJCUmJygpKissLS4vMDEyMzQ1Njc4",
          "dtype": "i1"
         },
         "name": "",
         "showlegend": true,
         "showscale": false,
         "subplot": "map",
         "type": "choroplethmap",
         "z": [
          1,
          1,
          1,
          1,
          1,
          1,
          1,
          1,
          1,
          1,
          1,
          1,
          1,
          1,
          1,
          1,
          1,
          1,
          1,
          1,
          1,
          1,
          1,
          1,
          1,
          1,
          1,
          1,
          1,
          1,
          1,
          1,
          1,
          1,
          1,
          1,
          1,
          1,
          1,
          1,
          1,
          1,
          1,
          1,
          1,
          1,
          1,
          1,
          1,
          1,
          1,
          1,
          1,
          1,
          1,
          1,
          1
         ]
        }
       ],
       "layout": {
        "legend": {
         "tracegroupgap": 0
        },
        "map": {
         "center": {
          "lat": 37.8757,
          "lon": 23.765249999999998
         },
         "domain": {
          "x": [
           0,
           1
          ],
          "y": [
           0,
           1
          ]
         },
         "style": "open-street-map",
         "zoom": 11.5
        },
        "mapbox": {
         "center": {
          "lat": 37.8757,
          "lon": 23.765249999999998
         },
         "style": "open-street-map",
         "zoom": 11.5
        },
        "margin": {
         "t": 60
        },
        "template": {
         "data": {
          "bar": [
           {
            "error_x": {
             "color": "#2a3f5f"
            },
            "error_y": {
             "color": "#2a3f5f"
            },
            "marker": {
             "line": {
              "color": "#E5ECF6",
              "width": 0.5
             },
             "pattern": {
              "fillmode": "overlay",
              "size": 10,
              "solidity": 0.2
             }
            },
            "type": "bar"
           }
          ],
          "barpolar": [
           {
            "marker": {
             "line": {
              "color": "#E5ECF6",
              "width": 0.5
             },
             "pattern": {
              "fillmode": "overlay",
              "size": 10,
              "solidity": 0.2
             }
            },
            "type": "barpolar"
           }
          ],
          "carpet": [
           {
            "aaxis": {
             "endlinecolor": "#2a3f5f",
             "gridcolor": "white",
             "linecolor": "white",
             "minorgridcolor": "white",
             "startlinecolor": "#2a3f5f"
            },
            "baxis": {
             "endlinecolor": "#2a3f5f",
             "gridcolor": "white",
             "linecolor": "white",
             "minorgridcolor": "white",
             "startlinecolor": "#2a3f5f"
            },
            "type": "carpet"
           }
          ],
          "choropleth": [
           {
            "colorbar": {
             "outlinewidth": 0,
             "ticks": ""
            },
            "type": "choropleth"
           }
          ],
          "contour": [
           {
            "colorbar": {
             "outlinewidth": 0,
             "ticks": ""
            },
            "colorscale": [
             [
              0,
              "#0d0887"
             ],
             [
              0.1111111111111111,
              "#46039f"
             ],
             [
              0.2222222222222222,
              "#7201a8"
             ],
             [
              0.3333333333333333,
              "#9c179e"
             ],
             [
              0.4444444444444444,
              "#bd3786"
             ],
             [
              0.5555555555555556,
              "#d8576b"
             ],
             [
              0.6666666666666666,
              "#ed7953"
             ],
             [
              0.7777777777777778,
              "#fb9f3a"
             ],
             [
              0.8888888888888888,
              "#fdca26"
             ],
             [
              1,
              "#f0f921"
             ]
            ],
            "type": "contour"
           }
          ],
          "contourcarpet": [
           {
            "colorbar": {
             "outlinewidth": 0,
             "ticks": ""
            },
            "type": "contourcarpet"
           }
          ],
          "heatmap": [
           {
            "colorbar": {
             "outlinewidth": 0,
             "ticks": ""
            },
            "colorscale": [
             [
              0,
              "#0d0887"
             ],
             [
              0.1111111111111111,
              "#46039f"
             ],
             [
              0.2222222222222222,
              "#7201a8"
             ],
             [
              0.3333333333333333,
              "#9c179e"
             ],
             [
              0.4444444444444444,
              "#bd3786"
             ],
             [
              0.5555555555555556,
              "#d8576b"
             ],
             [
              0.6666666666666666,
              "#ed7953"
             ],
             [
              0.7777777777777778,
              "#fb9f3a"
             ],
             [
              0.8888888888888888,
              "#fdca26"
             ],
             [
              1,
              "#f0f921"
             ]
            ],
            "type": "heatmap"
           }
          ],
          "histogram": [
           {
            "marker": {
             "pattern": {
              "fillmode": "overlay",
              "size": 10,
              "solidity": 0.2
             }
            },
            "type": "histogram"
           }
          ],
          "histogram2d": [
           {
            "colorbar": {
             "outlinewidth": 0,
             "ticks": ""
            },
            "colorscale": [
             [
              0,
              "#0d0887"
             ],
             [
              0.1111111111111111,
              "#46039f"
             ],
             [
              0.2222222222222222,
              "#7201a8"
             ],
             [
              0.3333333333333333,
              "#9c179e"
             ],
             [
              0.4444444444444444,
              "#bd3786"
             ],
             [
              0.5555555555555556,
              "#d8576b"
             ],
             [
              0.6666666666666666,
              "#ed7953"
             ],
             [
              0.7777777777777778,
              "#fb9f3a"
             ],
             [
              0.8888888888888888,
              "#fdca26"
             ],
             [
              1,
              "#f0f921"
             ]
            ],
            "type": "histogram2d"
           }
          ],
          "histogram2dcontour": [
           {
            "colorbar": {
             "outlinewidth": 0,
             "ticks": ""
            },
            "colorscale": [
             [
              0,
              "#0d0887"
             ],
             [
              0.1111111111111111,
              "#46039f"
             ],
             [
              0.2222222222222222,
              "#7201a8"
             ],
             [
              0.3333333333333333,
              "#9c179e"
             ],
             [
              0.4444444444444444,
              "#bd3786"
             ],
             [
              0.5555555555555556,
              "#d8576b"
             ],
             [
              0.6666666666666666,
              "#ed7953"
             ],
             [
              0.7777777777777778,
              "#fb9f3a"
             ],
             [
              0.8888888888888888,
              "#fdca26"
             ],
             [
              1,
              "#f0f921"
             ]
            ],
            "type": "histogram2dcontour"
           }
          ],
          "mesh3d": [
           {
            "colorbar": {
             "outlinewidth": 0,
             "ticks": ""
            },
            "type": "mesh3d"
           }
          ],
          "parcoords": [
           {
            "line": {
             "colorbar": {
              "outlinewidth": 0,
              "ticks": ""
             }
            },
            "type": "parcoords"
           }
          ],
          "pie": [
           {
            "automargin": true,
            "type": "pie"
           }
          ],
          "scatter": [
           {
            "fillpattern": {
             "fillmode": "overlay",
             "size": 10,
             "solidity": 0.2
            },
            "type": "scatter"
           }
          ],
          "scatter3d": [
           {
            "line": {
             "colorbar": {
              "outlinewidth": 0,
              "ticks": ""
             }
            },
            "marker": {
             "colorbar": {
              "outlinewidth": 0,
              "ticks": ""
             }
            },
            "type": "scatter3d"
           }
          ],
          "scattercarpet": [
           {
            "marker": {
             "colorbar": {
              "outlinewidth": 0,
              "ticks": ""
             }
            },
            "type": "scattercarpet"
           }
          ],
          "scattergeo": [
           {
            "marker": {
             "colorbar": {
              "outlinewidth": 0,
              "ticks": ""
             }
            },
            "type": "scattergeo"
           }
          ],
          "scattergl": [
           {
            "marker": {
             "colorbar": {
              "outlinewidth": 0,
              "ticks": ""
             }
            },
            "type": "scattergl"
           }
          ],
          "scattermap": [
           {
            "marker": {
             "colorbar": {
              "outlinewidth": 0,
              "ticks": ""
             }
            },
            "type": "scattermap"
           }
          ],
          "scattermapbox": [
           {
            "marker": {
             "colorbar": {
              "outlinewidth": 0,
              "ticks": ""
             }
            },
            "type": "scattermapbox"
           }
          ],
          "scatterpolar": [
           {
            "marker": {
             "colorbar": {
              "outlinewidth": 0,
              "ticks": ""
             }
            },
            "type": "scatterpolar"
           }
          ],
          "scatterpolargl": [
           {
            "marker": {
             "colorbar": {
              "outlinewidth": 0,
              "ticks": ""
             }
            },
            "type": "scatterpolargl"
           }
          ],
          "scatterternary": [
           {
            "marker": {
             "colorbar": {
              "outlinewidth": 0,
              "ticks": ""
             }
            },
            "type": "scatterternary"
           }
          ],
          "surface": [
           {
            "colorbar": {
             "outlinewidth": 0,
             "ticks": ""
            },
            "colorscale": [
             [
              0,
              "#0d0887"
             ],
             [
              0.1111111111111111,
              "#46039f"
             ],
             [
              0.2222222222222222,
              "#7201a8"
             ],
             [
              0.3333333333333333,
              "#9c179e"
             ],
             [
              0.4444444444444444,
              "#bd3786"
             ],
             [
              0.5555555555555556,
              "#d8576b"
             ],
             [
              0.6666666666666666,
              "#ed7953"
             ],
             [
              0.7777777777777778,
              "#fb9f3a"
             ],
             [
              0.8888888888888888,
              "#fdca26"
             ],
             [
              1,
              "#f0f921"
             ]
            ],
            "type": "surface"
           }
          ],
          "table": [
           {
            "cells": {
             "fill": {
              "color": "#EBF0F8"
             },
             "line": {
              "color": "white"
             }
            },
            "header": {
             "fill": {
              "color": "#C8D4E3"
             },
             "line": {
              "color": "white"
             }
            },
            "type": "table"
           }
          ]
         },
         "layout": {
          "annotationdefaults": {
           "arrowcolor": "#2a3f5f",
           "arrowhead": 0,
           "arrowwidth": 1
          },
          "autotypenumbers": "strict",
          "coloraxis": {
           "colorbar": {
            "outlinewidth": 0,
            "ticks": ""
           }
          },
          "colorscale": {
           "diverging": [
            [
             0,
             "#8e0152"
            ],
            [
             0.1,
             "#c51b7d"
            ],
            [
             0.2,
             "#de77ae"
            ],
            [
             0.3,
             "#f1b6da"
            ],
            [
             0.4,
             "#fde0ef"
            ],
            [
             0.5,
             "#f7f7f7"
            ],
            [
             0.6,
             "#e6f5d0"
            ],
            [
             0.7,
             "#b8e186"
            ],
            [
             0.8,
             "#7fbc41"
            ],
            [
             0.9,
             "#4d9221"
            ],
            [
             1,
             "#276419"
            ]
           ],
           "sequential": [
            [
             0,
             "#0d0887"
            ],
            [
             0.1111111111111111,
             "#46039f"
            ],
            [
             0.2222222222222222,
             "#7201a8"
            ],
            [
             0.3333333333333333,
             "#9c179e"
            ],
            [
             0.4444444444444444,
             "#bd3786"
            ],
            [
             0.5555555555555556,
             "#d8576b"
            ],
            [
             0.6666666666666666,
             "#ed7953"
            ],
            [
             0.7777777777777778,
             "#fb9f3a"
            ],
            [
             0.8888888888888888,
             "#fdca26"
            ],
            [
             1,
             "#f0f921"
            ]
           ],
           "sequentialminus": [
            [
             0,
             "#0d0887"
            ],
            [
             0.1111111111111111,
             "#46039f"
            ],
            [
             0.2222222222222222,
             "#7201a8"
            ],
            [
             0.3333333333333333,
             "#9c179e"
            ],
            [
             0.4444444444444444,
             "#bd3786"
            ],
            [
             0.5555555555555556,
             "#d8576b"
            ],
            [
             0.6666666666666666,
             "#ed7953"
            ],
            [
             0.7777777777777778,
             "#fb9f3a"
            ],
            [
             0.8888888888888888,
             "#fdca26"
            ],
            [
             1,
             "#f0f921"
            ]
           ]
          },
          "colorway": [
           "#636efa",
           "#EF553B",
           "#00cc96",
           "#ab63fa",
           "#FFA15A",
           "#19d3f3",
           "#FF6692",
           "#B6E880",
           "#FF97FF",
           "#FECB52"
          ],
          "font": {
           "color": "#2a3f5f"
          },
          "geo": {
           "bgcolor": "white",
           "lakecolor": "white",
           "landcolor": "#E5ECF6",
           "showlakes": true,
           "showland": true,
           "subunitcolor": "white"
          },
          "hoverlabel": {
           "align": "left"
          },
          "hovermode": "closest",
          "mapbox": {
           "style": "light"
          },
          "paper_bgcolor": "white",
          "plot_bgcolor": "#E5ECF6",
          "polar": {
           "angularaxis": {
            "gridcolor": "white",
            "linecolor": "white",
            "ticks": ""
           },
           "bgcolor": "#E5ECF6",
           "radialaxis": {
            "gridcolor": "white",
            "linecolor": "white",
            "ticks": ""
           }
          },
          "scene": {
           "xaxis": {
            "backgroundcolor": "#E5ECF6",
            "gridcolor": "white",
            "gridwidth": 2,
            "linecolor": "white",
            "showbackground": true,
            "ticks": "",
            "zerolinecolor": "white"
           },
           "yaxis": {
            "backgroundcolor": "#E5ECF6",
            "gridcolor": "white",
            "gridwidth": 2,
            "linecolor": "white",
            "showbackground": true,
            "ticks": "",
            "zerolinecolor": "white"
           },
           "zaxis": {
            "backgroundcolor": "#E5ECF6",
            "gridcolor": "white",
            "gridwidth": 2,
            "linecolor": "white",
            "showbackground": true,
            "ticks": "",
            "zerolinecolor": "white"
           }
          },
          "shapedefaults": {
           "line": {
            "color": "#2a3f5f"
           }
          },
          "ternary": {
           "aaxis": {
            "gridcolor": "white",
            "linecolor": "white",
            "ticks": ""
           },
           "baxis": {
            "gridcolor": "white",
            "linecolor": "white",
            "ticks": ""
           },
           "bgcolor": "#E5ECF6",
           "caxis": {
            "gridcolor": "white",
            "linecolor": "white",
            "ticks": ""
           }
          },
          "title": {
           "x": 0.05
          },
          "xaxis": {
           "automargin": true,
           "gridcolor": "white",
           "linecolor": "white",
           "ticks": "",
           "title": {
            "standoff": 15
           },
           "zerolinecolor": "white",
           "zerolinewidth": 2
          },
          "yaxis": {
           "automargin": true,
           "gridcolor": "white",
           "linecolor": "white",
           "ticks": "",
           "title": {
            "standoff": 15
           },
           "zerolinecolor": "white",
           "zerolinewidth": 2
          }
         }
        }
       }
      }
     },
     "metadata": {},
     "output_type": "display_data"
    }
   ],
   "source": [
    "box = shapely.box(*bbox)\n",
    "coords = [list(box.exterior.coords)]\n",
    "cells = h3.geo_to_cells(box, res=9)\n",
    "cells = [{'h3id': cell, 'geometry': h3cell_to_shapely(cell)} for cell in cells]\n",
    "cells = gpd.GeoDataFrame(cells, crs='epsg:4326')\n",
    "cells.head(2)\n",
    "px.choropleth_map(cells, geojson=cells.geometry, locations=cells.index,\n",
    "                  center={'lat': box.centroid.y, 'lon': box.centroid.x}, zoom=11.5,\n",
    "                  map_style=map_style)"
   ]
  },
  {
   "cell_type": "code",
   "execution_count": 19,
   "id": "13082f58",
   "metadata": {},
   "outputs": [
    {
     "data": {
      "application/vnd.plotly.v1+json": {
       "config": {
        "plotlyServerURL": "https://plot.ly"
       },
       "data": [
        {
         "coloraxis": "coloraxis",
         "geojson": {
          "bbox": [
           23.757829738195525,
           37.864302436201484,
           23.769220288301458,
           37.89742191428315
          ],
          "features": [
           {
            "bbox": [
             23.76481574337129,
             37.864302436201484,
             23.769220288301458,
             37.86816362148762
            ],
            "geometry": {
             "coordinates": [
              [
               [
                23.764923104225492,
                37.86727393012921
               ],
               [
                23.76481574337129,
                37.865343335751064
               ],
               [
                23.766910593424853,
                37.864302436201484
               ],
               [
                23.769112839910495,
                37.86519210705603
               ],
               [
                23.769220288301458,
                37.867122697962756
               ],
               [
                23.767125402670597,
                37.86816362148762
               ],
               [
                23.764923104225492,
                37.86727393012921
               ]
              ]
             ],
             "type": "Polygon"
            },
            "id": "0",
            "properties": {},
            "type": "Feature"
           },
           {
            "bbox": [
             23.75981803048416,
             37.890590433251,
             23.76422371475421,
             37.89445102391232
            ],
            "geometry": {
             "coordinates": [
              [
               [
                23.759925319197876,
                37.89356138747918
               ],
               [
                23.75981803048416,
                37.89163109041949
               ],
               [
                23.761913522303807,
                37.890590433251
               ],
               [
                23.764116338452972,
                37.8914800491832
               ],
               [
                23.76422371475421,
                37.893410342783575
               ],
               [
                23.76212818731932,
                37.89445102391232
               ],
               [
                23.759925319197876,
                37.89356138747918
               ]
              ]
             ],
             "type": "Polygon"
            },
            "id": "1",
            "properties": {},
            "type": "Feature"
           },
           {
            "bbox": [
             23.761162332899268,
             37.87603689312086,
             23.765567361476116,
             37.87989781662351
            ],
            "geometry": {
             "coordinates": [
              [
               [
                23.761269632516363,
                37.87900812304728
               ],
               [
                23.761162332899268,
                37.87707765956506
               ],
               [
                23.763257485990618,
                37.87603689312086
               ],
               [
                23.76545997429903,
                37.87692656619278
               ],
               [
                23.765567361476116,
                37.87885702621197
               ],
               [
                23.763472172785367,
                37.87989781662351
               ],
               [
                23.761269632516363,
                37.87900812304728
               ]
              ]
             ],
             "type": "Polygon"
            },
            "id": "2",
            "properties": {},
            "type": "Feature"
           },
           {
            "bbox": [
             23.75917439026739,
             37.87900812304728,
             23.76357952276228,
             37.88286898278639
            ],
            "geometry": {
             "coordinates": [
              [
               [
                23.759281652678013,
                37.881979268704384
               ],
               [
                23.75917439026739,
                37.88004883710613
               ],
               [
                23.761269632516363,
                37.87900812304728
               ],
               [
                23.763472172785367,
                37.87989781662351
               ],
               [
                23.76357952276228,
                37.881828244763106
               ],
               [
                23.761484244904466,
                37.88286898278639
               ],
               [
                23.759281652678013,
                37.881979268704384
               ]
              ]
             ],
             "type": "Polygon"
            },
            "id": "3",
            "properties": {},
            "type": "Feature"
           },
           {
            "bbox": [
             23.763150149172247,
             37.87306557894884,
             23.767555073824763,
             37.87692656619278
            ],
            "geometry": {
             "coordinates": [
              [
               [
                23.763257485990618,
                37.87603689312086
               ],
               [
                23.763150149172247,
                37.87410639776583
               ],
               [
                23.76524521310805,
                37.87306557894884
               ],
               [
                23.767447649452713,
                37.87395523151789
               ],
               [
                23.767555073824763,
                37.87588572340554
               ],
               [
                23.76545997429903,
                37.87692656619278
               ],
               [
                23.763257485990618,
                37.87603689312086
               ]
              ]
             ],
             "type": "Polygon"
            },
            "id": "4",
            "properties": {},
            "type": "Feature"
           },
           {
            "bbox": [
             23.76282816502994,
             37.86727393012921,
             23.767232813875903,
             37.871135051732125
            ],
            "geometry": {
             "coordinates": [
              [
               [
                23.76293548869217,
                37.87024533986841
               ],
               [
                23.76282816502994,
                37.86831477733405
               ],
               [
                23.764923104225492,
                37.86727393012921
               ],
               [
                23.767125402670597,
                37.86816362148762
               ],
               [
                23.767232813875903,
                37.870094180554915
               ],
               [
                23.765137839093605,
                37.871135051732125
               ],
               [
                23.76293548869217,
                37.87024533986841
               ]
              ]
             ],
             "type": "Polygon"
            },
            "id": "5",
            "properties": {},
            "type": "Feature"
           },
           {
            "bbox": [
             23.76084046035257,
             37.87024533986841,
             23.76524521310805,
             37.87410639776583
            ],
            "geometry": {
             "coordinates": [
              [
               [
                23.760947746817635,
                37.87321666539539
               ],
               [
                23.76084046035257,
                37.87128613471596
               ],
               [
                23.76293548869217,
                37.87024533986841
               ],
               [
                23.765137839093605,
                37.871135051732125
               ],
               [
                23.76524521310805,
                37.87306557894884
               ],
               [
                23.763150149172247,
                37.87410639776583
               ],
               [
                23.760947746817635,
                37.87321666539539
               ]
              ]
             ],
             "type": "Polygon"
            },
            "id": "6",
            "properties": {},
            "type": "Feature"
           },
           {
            "bbox": [
             23.759496190649063,
             37.88479937903526,
             23.7639015990144,
             37.88866010427157
            ],
            "geometry": {
             "coordinates": [
              [
               [
                23.759603466210013,
                37.88777042900475
               ],
               [
                23.759496190649063,
                37.88584006465771
               ],
               [
                23.761591557676002,
                37.88479937903526
               ],
               [
                23.76379423587653,
                37.885689033798755
               ],
               [
                23.7639015990144,
                37.88761939468679
               ],
               [
                23.761806196375407,
                37.88866010427157
               ],
               [
                23.759603466210013,
                37.88777042900475
               ]
              ]
             ],
             "type": "Polygon"
            },
            "id": "7",
            "properties": {},
            "type": "Feature"
           },
           {
            "bbox": [
             23.761484244904466,
             37.881828244763106,
             23.76588954933693,
             37.885689033798755
            ],
            "geometry": {
             "coordinates": [
              [
               [
                23.761591557676002,
                37.88479937903526
               ],
               [
                23.761484244904466,
                37.88286898278639
               ],
               [
                23.76357952276228,
                37.881828244763106
               ],
               [
                23.765782148994795,
                37.882717879024696
               ],
               [
                23.76588954933693,
                37.88464827181023
               ],
               [
                23.76379423587653,
                37.885689033798755
               ],
               [
                23.761591557676002,
                37.88479937903526
               ]
              ]
             ],
             "type": "Polygon"
            },
            "id": "8",
            "properties": {},
            "type": "Feature"
           },
           {
            "bbox": [
             23.757829738195525,
             37.89356138747918,
             23.76223552640699,
             37.89742191428315
            ],
            "geometry": {
             "coordinates": [
              [
               [
                23.75793698968935,
                37.896532257347644
               ],
               [
                23.757829738195525,
                37.894601992218796
               ],
               [
                23.759925319197876,
                37.89356138747918
               ],
               [
                23.76212818731932,
                37.89445102391232
               ],
               [
                23.76223552640699,
                37.89638128558618
               ],
               [
                23.76013990977993,
                37.89742191428315
               ],
               [
                23.75793698968935,
                37.896532257347644
               ]
              ]
             ],
             "type": "Polygon"
            },
            "id": "9",
            "properties": {},
            "type": "Feature"
           }
          ],
          "type": "FeatureCollection"
         },
         "hovertemplate": "index=%{location}<br>count=%{z}<extra></extra>",
         "locations": {
          "bdata": "AAECAwQFBgcICQ==",
          "dtype": "i1"
         },
         "name": "",
         "subplot": "map",
         "type": "choroplethmap",
         "z": {
          "bdata": "AwQIAgQEAQMHAg==",
          "dtype": "i1"
         }
        }
       ],
       "layout": {
        "coloraxis": {
         "colorbar": {
          "title": {
           "text": "count"
          }
         },
         "colorscale": [
          [
           0,
           "rgb(255,245,240)"
          ],
          [
           0.125,
           "rgb(254,224,210)"
          ],
          [
           0.25,
           "rgb(252,187,161)"
          ],
          [
           0.375,
           "rgb(252,146,114)"
          ],
          [
           0.5,
           "rgb(251,106,74)"
          ],
          [
           0.625,
           "rgb(239,59,44)"
          ],
          [
           0.75,
           "rgb(203,24,29)"
          ],
          [
           0.875,
           "rgb(165,15,21)"
          ],
          [
           1,
           "rgb(103,0,13)"
          ]
         ]
        },
        "legend": {
         "tracegroupgap": 0
        },
        "map": {
         "center": {
          "lat": 37.8757,
          "lon": 23.765249999999998
         },
         "domain": {
          "x": [
           0,
           1
          ],
          "y": [
           0,
           1
          ]
         },
         "style": "open-street-map",
         "zoom": 11.5
        },
        "mapbox": {
         "center": {
          "lat": 37.8757,
          "lon": 23.765249999999998
         },
         "style": "open-street-map",
         "zoom": 11.5
        },
        "template": {
         "data": {
          "bar": [
           {
            "error_x": {
             "color": "#2a3f5f"
            },
            "error_y": {
             "color": "#2a3f5f"
            },
            "marker": {
             "line": {
              "color": "#E5ECF6",
              "width": 0.5
             },
             "pattern": {
              "fillmode": "overlay",
              "size": 10,
              "solidity": 0.2
             }
            },
            "type": "bar"
           }
          ],
          "barpolar": [
           {
            "marker": {
             "line": {
              "color": "#E5ECF6",
              "width": 0.5
             },
             "pattern": {
              "fillmode": "overlay",
              "size": 10,
              "solidity": 0.2
             }
            },
            "type": "barpolar"
           }
          ],
          "carpet": [
           {
            "aaxis": {
             "endlinecolor": "#2a3f5f",
             "gridcolor": "white",
             "linecolor": "white",
             "minorgridcolor": "white",
             "startlinecolor": "#2a3f5f"
            },
            "baxis": {
             "endlinecolor": "#2a3f5f",
             "gridcolor": "white",
             "linecolor": "white",
             "minorgridcolor": "white",
             "startlinecolor": "#2a3f5f"
            },
            "type": "carpet"
           }
          ],
          "choropleth": [
           {
            "colorbar": {
             "outlinewidth": 0,
             "ticks": ""
            },
            "type": "choropleth"
           }
          ],
          "contour": [
           {
            "colorbar": {
             "outlinewidth": 0,
             "ticks": ""
            },
            "colorscale": [
             [
              0,
              "#0d0887"
             ],
             [
              0.1111111111111111,
              "#46039f"
             ],
             [
              0.2222222222222222,
              "#7201a8"
             ],
             [
              0.3333333333333333,
              "#9c179e"
             ],
             [
              0.4444444444444444,
              "#bd3786"
             ],
             [
              0.5555555555555556,
              "#d8576b"
             ],
             [
              0.6666666666666666,
              "#ed7953"
             ],
             [
              0.7777777777777778,
              "#fb9f3a"
             ],
             [
              0.8888888888888888,
              "#fdca26"
             ],
             [
              1,
              "#f0f921"
             ]
            ],
            "type": "contour"
           }
          ],
          "contourcarpet": [
           {
            "colorbar": {
             "outlinewidth": 0,
             "ticks": ""
            },
            "type": "contourcarpet"
           }
          ],
          "heatmap": [
           {
            "colorbar": {
             "outlinewidth": 0,
             "ticks": ""
            },
            "colorscale": [
             [
              0,
              "#0d0887"
             ],
             [
              0.1111111111111111,
              "#46039f"
             ],
             [
              0.2222222222222222,
              "#7201a8"
             ],
             [
              0.3333333333333333,
              "#9c179e"
             ],
             [
              0.4444444444444444,
              "#bd3786"
             ],
             [
              0.5555555555555556,
              "#d8576b"
             ],
             [
              0.6666666666666666,
              "#ed7953"
             ],
             [
              0.7777777777777778,
              "#fb9f3a"
             ],
             [
              0.8888888888888888,
              "#fdca26"
             ],
             [
              1,
              "#f0f921"
             ]
            ],
            "type": "heatmap"
           }
          ],
          "histogram": [
           {
            "marker": {
             "pattern": {
              "fillmode": "overlay",
              "size": 10,
              "solidity": 0.2
             }
            },
            "type": "histogram"
           }
          ],
          "histogram2d": [
           {
            "colorbar": {
             "outlinewidth": 0,
             "ticks": ""
            },
            "colorscale": [
             [
              0,
              "#0d0887"
             ],
             [
              0.1111111111111111,
              "#46039f"
             ],
             [
              0.2222222222222222,
              "#7201a8"
             ],
             [
              0.3333333333333333,
              "#9c179e"
             ],
             [
              0.4444444444444444,
              "#bd3786"
             ],
             [
              0.5555555555555556,
              "#d8576b"
             ],
             [
              0.6666666666666666,
              "#ed7953"
             ],
             [
              0.7777777777777778,
              "#fb9f3a"
             ],
             [
              0.8888888888888888,
              "#fdca26"
             ],
             [
              1,
              "#f0f921"
             ]
            ],
            "type": "histogram2d"
           }
          ],
          "histogram2dcontour": [
           {
            "colorbar": {
             "outlinewidth": 0,
             "ticks": ""
            },
            "colorscale": [
             [
              0,
              "#0d0887"
             ],
             [
              0.1111111111111111,
              "#46039f"
             ],
             [
              0.2222222222222222,
              "#7201a8"
             ],
             [
              0.3333333333333333,
              "#9c179e"
             ],
             [
              0.4444444444444444,
              "#bd3786"
             ],
             [
              0.5555555555555556,
              "#d8576b"
             ],
             [
              0.6666666666666666,
              "#ed7953"
             ],
             [
              0.7777777777777778,
              "#fb9f3a"
             ],
             [
              0.8888888888888888,
              "#fdca26"
             ],
             [
              1,
              "#f0f921"
             ]
            ],
            "type": "histogram2dcontour"
           }
          ],
          "mesh3d": [
           {
            "colorbar": {
             "outlinewidth": 0,
             "ticks": ""
            },
            "type": "mesh3d"
           }
          ],
          "parcoords": [
           {
            "line": {
             "colorbar": {
              "outlinewidth": 0,
              "ticks": ""
             }
            },
            "type": "parcoords"
           }
          ],
          "pie": [
           {
            "automargin": true,
            "type": "pie"
           }
          ],
          "scatter": [
           {
            "fillpattern": {
             "fillmode": "overlay",
             "size": 10,
             "solidity": 0.2
            },
            "type": "scatter"
           }
          ],
          "scatter3d": [
           {
            "line": {
             "colorbar": {
              "outlinewidth": 0,
              "ticks": ""
             }
            },
            "marker": {
             "colorbar": {
              "outlinewidth": 0,
              "ticks": ""
             }
            },
            "type": "scatter3d"
           }
          ],
          "scattercarpet": [
           {
            "marker": {
             "colorbar": {
              "outlinewidth": 0,
              "ticks": ""
             }
            },
            "type": "scattercarpet"
           }
          ],
          "scattergeo": [
           {
            "marker": {
             "colorbar": {
              "outlinewidth": 0,
              "ticks": ""
             }
            },
            "type": "scattergeo"
           }
          ],
          "scattergl": [
           {
            "marker": {
             "colorbar": {
              "outlinewidth": 0,
              "ticks": ""
             }
            },
            "type": "scattergl"
           }
          ],
          "scattermap": [
           {
            "marker": {
             "colorbar": {
              "outlinewidth": 0,
              "ticks": ""
             }
            },
            "type": "scattermap"
           }
          ],
          "scattermapbox": [
           {
            "marker": {
             "colorbar": {
              "outlinewidth": 0,
              "ticks": ""
             }
            },
            "type": "scattermapbox"
           }
          ],
          "scatterpolar": [
           {
            "marker": {
             "colorbar": {
              "outlinewidth": 0,
              "ticks": ""
             }
            },
            "type": "scatterpolar"
           }
          ],
          "scatterpolargl": [
           {
            "marker": {
             "colorbar": {
              "outlinewidth": 0,
              "ticks": ""
             }
            },
            "type": "scatterpolargl"
           }
          ],
          "scatterternary": [
           {
            "marker": {
             "colorbar": {
              "outlinewidth": 0,
              "ticks": ""
             }
            },
            "type": "scatterternary"
           }
          ],
          "surface": [
           {
            "colorbar": {
             "outlinewidth": 0,
             "ticks": ""
            },
            "colorscale": [
             [
              0,
              "#0d0887"
             ],
             [
              0.1111111111111111,
              "#46039f"
             ],
             [
              0.2222222222222222,
              "#7201a8"
             ],
             [
              0.3333333333333333,
              "#9c179e"
             ],
             [
              0.4444444444444444,
              "#bd3786"
             ],
             [
              0.5555555555555556,
              "#d8576b"
             ],
             [
              0.6666666666666666,
              "#ed7953"
             ],
             [
              0.7777777777777778,
              "#fb9f3a"
             ],
             [
              0.8888888888888888,
              "#fdca26"
             ],
             [
              1,
              "#f0f921"
             ]
            ],
            "type": "surface"
           }
          ],
          "table": [
           {
            "cells": {
             "fill": {
              "color": "#EBF0F8"
             },
             "line": {
              "color": "white"
             }
            },
            "header": {
             "fill": {
              "color": "#C8D4E3"
             },
             "line": {
              "color": "white"
             }
            },
            "type": "table"
           }
          ]
         },
         "layout": {
          "annotationdefaults": {
           "arrowcolor": "#2a3f5f",
           "arrowhead": 0,
           "arrowwidth": 1
          },
          "autotypenumbers": "strict",
          "coloraxis": {
           "colorbar": {
            "outlinewidth": 0,
            "ticks": ""
           }
          },
          "colorscale": {
           "diverging": [
            [
             0,
             "#8e0152"
            ],
            [
             0.1,
             "#c51b7d"
            ],
            [
             0.2,
             "#de77ae"
            ],
            [
             0.3,
             "#f1b6da"
            ],
            [
             0.4,
             "#fde0ef"
            ],
            [
             0.5,
             "#f7f7f7"
            ],
            [
             0.6,
             "#e6f5d0"
            ],
            [
             0.7,
             "#b8e186"
            ],
            [
             0.8,
             "#7fbc41"
            ],
            [
             0.9,
             "#4d9221"
            ],
            [
             1,
             "#276419"
            ]
           ],
           "sequential": [
            [
             0,
             "#0d0887"
            ],
            [
             0.1111111111111111,
             "#46039f"
            ],
            [
             0.2222222222222222,
             "#7201a8"
            ],
            [
             0.3333333333333333,
             "#9c179e"
            ],
            [
             0.4444444444444444,
             "#bd3786"
            ],
            [
             0.5555555555555556,
             "#d8576b"
            ],
            [
             0.6666666666666666,
             "#ed7953"
            ],
            [
             0.7777777777777778,
             "#fb9f3a"
            ],
            [
             0.8888888888888888,
             "#fdca26"
            ],
            [
             1,
             "#f0f921"
            ]
           ],
           "sequentialminus": [
            [
             0,
             "#0d0887"
            ],
            [
             0.1111111111111111,
             "#46039f"
            ],
            [
             0.2222222222222222,
             "#7201a8"
            ],
            [
             0.3333333333333333,
             "#9c179e"
            ],
            [
             0.4444444444444444,
             "#bd3786"
            ],
            [
             0.5555555555555556,
             "#d8576b"
            ],
            [
             0.6666666666666666,
             "#ed7953"
            ],
            [
             0.7777777777777778,
             "#fb9f3a"
            ],
            [
             0.8888888888888888,
             "#fdca26"
            ],
            [
             1,
             "#f0f921"
            ]
           ]
          },
          "colorway": [
           "#636efa",
           "#EF553B",
           "#00cc96",
           "#ab63fa",
           "#FFA15A",
           "#19d3f3",
           "#FF6692",
           "#B6E880",
           "#FF97FF",
           "#FECB52"
          ],
          "font": {
           "color": "#2a3f5f"
          },
          "geo": {
           "bgcolor": "white",
           "lakecolor": "white",
           "landcolor": "#E5ECF6",
           "showlakes": true,
           "showland": true,
           "subunitcolor": "white"
          },
          "hoverlabel": {
           "align": "left"
          },
          "hovermode": "closest",
          "mapbox": {
           "style": "light"
          },
          "paper_bgcolor": "white",
          "plot_bgcolor": "#E5ECF6",
          "polar": {
           "angularaxis": {
            "gridcolor": "white",
            "linecolor": "white",
            "ticks": ""
           },
           "bgcolor": "#E5ECF6",
           "radialaxis": {
            "gridcolor": "white",
            "linecolor": "white",
            "ticks": ""
           }
          },
          "scene": {
           "xaxis": {
            "backgroundcolor": "#E5ECF6",
            "gridcolor": "white",
            "gridwidth": 2,
            "linecolor": "white",
            "showbackground": true,
            "ticks": "",
            "zerolinecolor": "white"
           },
           "yaxis": {
            "backgroundcolor": "#E5ECF6",
            "gridcolor": "white",
            "gridwidth": 2,
            "linecolor": "white",
            "showbackground": true,
            "ticks": "",
            "zerolinecolor": "white"
           },
           "zaxis": {
            "backgroundcolor": "#E5ECF6",
            "gridcolor": "white",
            "gridwidth": 2,
            "linecolor": "white",
            "showbackground": true,
            "ticks": "",
            "zerolinecolor": "white"
           }
          },
          "shapedefaults": {
           "line": {
            "color": "#2a3f5f"
           }
          },
          "ternary": {
           "aaxis": {
            "gridcolor": "white",
            "linecolor": "white",
            "ticks": ""
           },
           "baxis": {
            "gridcolor": "white",
            "linecolor": "white",
            "ticks": ""
           },
           "bgcolor": "#E5ECF6",
           "caxis": {
            "gridcolor": "white",
            "linecolor": "white",
            "ticks": ""
           }
          },
          "title": {
           "x": 0.05
          },
          "xaxis": {
           "automargin": true,
           "gridcolor": "white",
           "linecolor": "white",
           "ticks": "",
           "title": {
            "standoff": 15
           },
           "zerolinecolor": "white",
           "zerolinewidth": 2
          },
          "yaxis": {
           "automargin": true,
           "gridcolor": "white",
           "linecolor": "white",
           "ticks": "",
           "title": {
            "standoff": 15
           },
           "zerolinecolor": "white",
           "zerolinewidth": 2
          }
         }
        },
        "title": {
         "text": "Concentration of cafes (H3 cells)"
        }
       }
      }
     },
     "metadata": {},
     "output_type": "display_data"
    }
   ],
   "source": [
    "counts = gpd.sjoin(cells, cafes, predicate='contains').groupby(['h3id', 'geometry'], as_index=False)['index_right'].count()\n",
    "counts = counts.rename(columns={'index_right':'count'})\n",
    "counts = gpd.GeoDataFrame(counts) # groupby casts to pd.DataFrame\n",
    "px.choropleth_map(counts, geojson=counts.geometry, locations=counts.index,\n",
    "                  color='count', color_continuous_scale=px.colors.sequential.Reds,\n",
    "                  center={'lat': box.centroid.y, 'lon': box.centroid.x}, zoom=11.5,\n",
    "                  title='Concentration of cafes (H3 cells)', map_style=map_style)"
   ]
  },
  {
   "cell_type": "code",
   "execution_count": null,
   "id": "8d7f5873",
   "metadata": {},
   "outputs": [],
   "source": []
  }
 ],
 "metadata": {
  "kernelspec": {
   "display_name": "python-meetup",
   "language": "python",
   "name": "python3"
  },
  "language_info": {
   "codemirror_mode": {
    "name": "ipython",
    "version": 3
   },
   "file_extension": ".py",
   "mimetype": "text/x-python",
   "name": "python",
   "nbconvert_exporter": "python",
   "pygments_lexer": "ipython3",
   "version": "3.11.11"
  }
 },
 "nbformat": 4,
 "nbformat_minor": 5
}
